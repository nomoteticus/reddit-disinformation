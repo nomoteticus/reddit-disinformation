{
 "cells": [
  {
   "cell_type": "code",
   "execution_count": 585,
   "metadata": {},
   "outputs": [
    {
     "data": {
      "text/plain": [
       "'/home/j0hndoe/Documents/git/reddit-disinformation/3_embed'"
      ]
     },
     "execution_count": 585,
     "metadata": {},
     "output_type": "execute_result"
    }
   ],
   "source": [
    "import os\n",
    "import re\n",
    "import sys\n",
    "import numpy as np\n",
    "import pandas as pd\n",
    "rootfold = %pwd\n",
    "rootfold"
   ]
  },
  {
   "cell_type": "code",
   "execution_count": 586,
   "metadata": {},
   "outputs": [],
   "source": [
    "del sys.modules[\"functions_pos_match\"]"
   ]
  },
  {
   "cell_type": "code",
   "execution_count": 587,
   "metadata": {},
   "outputs": [],
   "source": [
    "sys.path.append(rootfold+\"/../2_findflags/all_subreddits\")\n",
    "import functions_pos_match as fpm"
   ]
  },
  {
   "cell_type": "markdown",
   "metadata": {},
   "source": [
    "Extract POS"
   ]
  },
  {
   "cell_type": "code",
   "execution_count": 596,
   "metadata": {},
   "outputs": [
    {
     "data": {
      "text/plain": [
       "[('Please', 'please', 'INTJ', 'UH', 'intj', [post], []),\n",
       " ('do', 'do', 'AUX', 'VB', 'aux', [post], []),\n",
       " ('not', 'not', 'PART', 'RB', 'neg', [post], []),\n",
       " ('post', 'post', 'VERB', 'VB', 'ROOT', [], [Please, do, not, information]),\n",
       " ('false', 'false', 'ADJ', 'JJ', 'amod', [misleading, information, post], []),\n",
       " ('/', '/', 'SYM', 'SYM', 'punct', [misleading, information, post], []),\n",
       " ('misleading',\n",
       "  'misleading',\n",
       "  'ADJ',\n",
       "  'JJ',\n",
       "  'amod',\n",
       "  [information, post],\n",
       "  [false, /]),\n",
       " ('information', 'information', 'NOUN', 'NN', 'dobj', [post], [misleading])]"
      ]
     },
     "execution_count": 596,
     "metadata": {},
     "output_type": "execute_result"
    }
   ],
   "source": [
    "text=\"Please do not post false/misleading information\"\n",
    "#text=\"This is how misinformation spreads.\"\n",
    "fpm.extract_pos(text)"
   ]
  },
  {
   "cell_type": "markdown",
   "metadata": {},
   "source": [
    "Patterns"
   ]
  },
  {
   "cell_type": "code",
   "execution_count": 600,
   "metadata": {},
   "outputs": [
    {
     "data": {
      "text/plain": [
       "['yvao']"
      ]
     },
     "execution_count": 600,
     "metadata": {},
     "output_type": "execute_result"
    }
   ],
   "source": [
    "fpm.nlp(\"you're spreading fake despicable news\")[:]._.structurematched"
   ]
  },
  {
   "cell_type": "code",
   "execution_count": 554,
   "metadata": {},
   "outputs": [
    {
     "data": {
      "text/plain": [
       "[{'DEP': {'IN': ['nsubj', 'nsubjpass']}, 'LOWER': {'IN': ['i', 'me', 'we']}},\n",
       " {'LEMMA': {'NOT_IN': ['not', 'no']}, 'OP': '?'},\n",
       " {'LEMMA': {'NOT_IN': ['not', 'no']}, 'OP': '?'},\n",
       " {'LEMMA': {'NOT_IN': ['not', 'no']}, 'OP': '?'},\n",
       " {'DEP': 'ROOT', 'LEMMA': {'IN': ['call']}},\n",
       " {'LEMMA': {'NOT_IN': ['not', 'no']}, 'OP': '?'},\n",
       " {'LEMMA': {'NOT_IN': ['not', 'no']}, 'OP': '?'},\n",
       " {'LEMMA': {'NOT_IN': ['not', 'no']}, 'OP': '?'},\n",
       " {'DEP': {'IN': ['dobj',\n",
       "    'pobj',\n",
       "    'attr',\n",
       "    'acomp',\n",
       "    'oprd',\n",
       "    'conj',\n",
       "    'compound',\n",
       "    'nsubjpass']},\n",
       "  'OP': '+',\n",
       "  'LEMMA': {'IN': ['bullshit',\n",
       "    'bs',\n",
       "    'disinformation',\n",
       "    'misinformation',\n",
       "    'malinformation',\n",
       "    'clickbait',\n",
       "    'innacuracy',\n",
       "    'innacuracies',\n",
       "    'propaganda',\n",
       "    'falsehood',\n",
       "    'fabrication']}}]"
      ]
     },
     "execution_count": 554,
     "metadata": {},
     "output_type": "execute_result"
    }
   ],
   "source": [
    "fpm.pattern_ivo"
   ]
  },
  {
   "cell_type": "markdown",
   "metadata": {},
   "source": [
    "### Test larger"
   ]
  },
  {
   "cell_type": "code",
   "execution_count": null,
   "metadata": {},
   "outputs": [],
   "source": []
  },
  {
   "cell_type": "code",
   "execution_count": null,
   "metadata": {},
   "outputs": [],
   "source": []
  },
  {
   "cell_type": "code",
   "execution_count": null,
   "metadata": {},
   "outputs": [],
   "source": []
  },
  {
   "cell_type": "code",
   "execution_count": null,
   "metadata": {},
   "outputs": [],
   "source": []
  },
  {
   "cell_type": "markdown",
   "metadata": {},
   "source": [
    "### Next"
   ]
  },
  {
   "cell_type": "code",
   "execution_count": 491,
   "metadata": {},
   "outputs": [
    {
     "data": {
      "text/plain": [
       "0    it's not misleading.\n",
       "1    it's not misleading.\n",
       "Name: a, dtype: object"
      ]
     },
     "execution_count": 491,
     "metadata": {},
     "output_type": "execute_result"
    }
   ],
   "source": [
    "pd.DataFrame({'a':[\"it’s not misleading.\", \"it's not misleading.\"]}).a.str.replace('’','\\'')"
   ]
  },
  {
   "cell_type": "code",
   "execution_count": null,
   "metadata": {},
   "outputs": [],
   "source": [
    "pattern = [{\"TEXT\": {\"REGEX\": \"^[Uu](\\.?|nited)$\"}},\n",
    "           {\"TEXT\": {\"REGEX\": \"^[Ss](\\.?|tates)$\"}},\n",
    "           {\"LOWER\": \"president\"}]"
   ]
  },
  {
   "cell_type": "code",
   "execution_count": 401,
   "metadata": {},
   "outputs": [
    {
     "data": {
      "text/plain": [
       "[{'LEMMA': {'IN': ['not', 'no']}, 'OP': '!'},\n",
       " {'LEMMA': {'IN': ['fake', 'false']}}]"
      ]
     },
     "execution_count": 401,
     "metadata": {},
     "output_type": "execute_result"
    }
   ],
   "source": [
    "#NONEGWC  = [{\"LEMMA\":{\"IN\":['not','no']},\"OP\":\"!\"}]\n",
    "pattern_o  = \\\n",
    "   [{\"LEMMA\":{\"IN\":['not','no']},\"OP\":\"!\"},\n",
    "    {\"LEMMA\":{\"IN\":['fake','false']}}]\n",
    "pattern_o"
   ]
  },
  {
   "cell_type": "code",
   "execution_count": 402,
   "metadata": {},
   "outputs": [],
   "source": [
    "import spacy\n",
    "from spacy.matcher import Matcher\n",
    "nnlp = spacy.load('en_core_web_sm')"
   ]
  },
  {
   "cell_type": "code",
   "execution_count": 403,
   "metadata": {},
   "outputs": [],
   "source": [
    "testmatcher = Matcher(nnlp.vocab)\n",
    "testmatcher.add(\"o\",None,pattern_o)"
   ]
  },
  {
   "cell_type": "code",
   "execution_count": 404,
   "metadata": {},
   "outputs": [],
   "source": [
    "def testmatched(span):\n",
    "    return [nnlp.vocab.strings[match_id] for match_id, start, end in testmatcher(span.as_doc())]"
   ]
  },
  {
   "cell_type": "code",
   "execution_count": 405,
   "metadata": {},
   "outputs": [
    {
     "name": "stdout",
     "output_type": "stream",
     "text": [
      "[]\n",
      "['o']\n",
      "[]\n",
      "['o']\n"
     ]
    }
   ],
   "source": [
    "print(testmatched(nnlp(\"false\")[:]))\n",
    "print(testmatched(nnlp(\"kinda false\")[:]))\n",
    "print(testmatched(nnlp(\"not false\")[:]))\n",
    "print(testmatched(nnlp(\"not really false\")[:]))"
   ]
  },
  {
   "cell_type": "code",
   "execution_count": 469,
   "metadata": {},
   "outputs": [
    {
     "data": {
      "text/plain": [
       "['be']"
      ]
     },
     "execution_count": 469,
     "metadata": {},
     "output_type": "execute_result"
    }
   ],
   "source": [
    "fpm.v.pred.be"
   ]
  },
  {
   "cell_type": "code",
   "execution_count": null,
   "metadata": {},
   "outputs": [],
   "source": []
  },
  {
   "cell_type": "code",
   "execution_count": null,
   "metadata": {},
   "outputs": [],
   "source": []
  },
  {
   "cell_type": "code",
   "execution_count": null,
   "metadata": {},
   "outputs": [],
   "source": []
  }
 ],
 "metadata": {
  "kernelspec": {
   "display_name": "jupyter-env",
   "language": "python",
   "name": "jupyter-env"
  },
  "language_info": {
   "codemirror_mode": {
    "name": "ipython",
    "version": 3
   },
   "file_extension": ".py",
   "mimetype": "text/x-python",
   "name": "python",
   "nbconvert_exporter": "python",
   "pygments_lexer": "ipython3",
   "version": "3.8.2"
  }
 },
 "nbformat": 4,
 "nbformat_minor": 2
}
