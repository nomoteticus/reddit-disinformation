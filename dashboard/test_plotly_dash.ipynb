{
 "cells": [
  {
   "cell_type": "code",
   "execution_count": 78,
   "metadata": {},
   "outputs": [],
   "source": [
    "import dash\n",
    "import dash_core_components as dcc\n",
    "import dash_html_components as html\n",
    "import pandas as pd\n",
    "import numpy as np\n",
    "import re\n",
    "import plotly_express as px\n",
    "from dash.dependencies import Input, Output\n",
    "rootfold = '/home/j0hndoe/Documents/git/reddit-disinformation'"
   ]
  },
  {
   "cell_type": "code",
   "execution_count": 2,
   "metadata": {},
   "outputs": [],
   "source": [
    "def get_flag_perc(df, groups):\n",
    "    return df.\\\n",
    "        groupby(groups)\\\n",
    "            [['n_subm_kept','ISFLAG']].\\\n",
    "                agg(sum).sort_index().reset_index().\\\n",
    "        assign(perc_FLAG = lambda df: df.ISFLAG/df.n_subm_kept)"
   ]
  },
  {
   "cell_type": "code",
   "execution_count": 205,
   "metadata": {},
   "outputs": [
    {
     "name": "stderr",
     "output_type": "stream",
     "text": [
      "<ipython-input-205-30c6cbb27fd9>:10: SettingWithCopyWarning:\n",
      "\n",
      "\n",
      "A value is trying to be set on a copy of a slice from a DataFrame.\n",
      "Try using .loc[row_indexer,col_indexer] = value instead\n",
      "\n",
      "See the caveats in the documentation: https://pandas.pydata.org/pandas-docs/stable/user_guide/indexing.html#returning-a-view-versus-a-copy\n",
      "\n"
     ]
    }
   ],
   "source": [
    "df_flags = pd.read_csv(rootfold+\"/dashboard/data/app_flags_day.csv\")\n",
    "df_subm = pd.read_csv(rootfold+\"/dashboard/data/app_subr_week.csv\")\n",
    "\n",
    "df_subm['week'] = df_subm['week'].astype('int')\n",
    "min_week, max_week = df_subm['week'].min(), df_subm['week'].max()\n",
    "weekrange = [min_week, max_week]\n",
    "weekrange = [15, 29]\n",
    "\n",
    "filtered_df_subm = df_day[(df_subm['week'].between(*weekrange))]# & (df['varr']==varr)]\n",
    "filtered_df_subm['ISFLAG'] = filtered_df_subm.flag.copy()#loc[:,flagtypes].sum(axis=1)>0\n",
    "### Aggregate\n",
    "filtered_df_week = get_flag_perc(\n",
    "    filtered_df_subm,\n",
    "    groups = ['subreddit_cat','subreddit','week'])\n",
    "filtered_df_agg = get_flag_perc(\n",
    "    filtered_df_subm,\n",
    "    groups = ['subreddit_cat','subreddit'])"
   ]
  },
  {
   "cell_type": "code",
   "execution_count": 206,
   "metadata": {},
   "outputs": [
    {
     "data": {
      "text/plain": [
       "'01 05, 2020'"
      ]
     },
     "execution_count": 206,
     "metadata": {},
     "output_type": "execute_result"
    }
   ],
   "source": [
    "from datetime import datetime\n",
    "x = \"2020-01-05\"\n",
    "def revdate(datestring, year = False):\n",
    "    if year:\n",
    "        return datetime.strptime(datestring, \"%Y-%m-%d\").strftime(\"%m %d, %Y\")\n",
    "    else:\n",
    "        return datetime.strptime(datestring, \"%Y-%m-%d\").strftime(\"%m %d\")\n",
    "datetime.strptime(x, \"%Y-%m-%d\").strftime(\"%b %d, %Y\")\n",
    "revdate(x, year=True)"
   ]
  },
  {
   "cell_type": "code",
   "execution_count": 207,
   "metadata": {
    "scrolled": true
   },
   "outputs": [
    {
     "data": {
      "text/html": [
       "<div>\n",
       "<style scoped>\n",
       "    .dataframe tbody tr th:only-of-type {\n",
       "        vertical-align: middle;\n",
       "    }\n",
       "\n",
       "    .dataframe tbody tr th {\n",
       "        vertical-align: top;\n",
       "    }\n",
       "\n",
       "    .dataframe thead th {\n",
       "        text-align: right;\n",
       "    }\n",
       "</style>\n",
       "<table border=\"1\" class=\"dataframe\">\n",
       "  <thead>\n",
       "    <tr style=\"text-align: right;\">\n",
       "      <th></th>\n",
       "      <th>min</th>\n",
       "      <th>max</th>\n",
       "      <th>label</th>\n",
       "    </tr>\n",
       "    <tr>\n",
       "      <th>week</th>\n",
       "      <th></th>\n",
       "      <th></th>\n",
       "      <th></th>\n",
       "    </tr>\n",
       "  </thead>\n",
       "  <tbody>\n",
       "    <tr>\n",
       "      <th>1.0</th>\n",
       "      <td>2020-01-01</td>\n",
       "      <td>2020-01-05</td>\n",
       "      <td>01/\\n01</td>\n",
       "    </tr>\n",
       "    <tr>\n",
       "      <th>2.0</th>\n",
       "      <td>2020-01-06</td>\n",
       "      <td>2020-01-12</td>\n",
       "      <td>01/\\n06</td>\n",
       "    </tr>\n",
       "    <tr>\n",
       "      <th>3.0</th>\n",
       "      <td>2020-01-13</td>\n",
       "      <td>2020-01-19</td>\n",
       "      <td>01/\\n13</td>\n",
       "    </tr>\n",
       "    <tr>\n",
       "      <th>4.0</th>\n",
       "      <td>2020-01-20</td>\n",
       "      <td>2020-01-26</td>\n",
       "      <td>01/\\n20</td>\n",
       "    </tr>\n",
       "    <tr>\n",
       "      <th>5.0</th>\n",
       "      <td>2020-01-27</td>\n",
       "      <td>2020-02-02</td>\n",
       "      <td>01/\\n27</td>\n",
       "    </tr>\n",
       "    <tr>\n",
       "      <th>6.0</th>\n",
       "      <td>2020-02-03</td>\n",
       "      <td>2020-02-09</td>\n",
       "      <td>02/\\n03</td>\n",
       "    </tr>\n",
       "    <tr>\n",
       "      <th>7.0</th>\n",
       "      <td>2020-02-10</td>\n",
       "      <td>2020-02-16</td>\n",
       "      <td>02/\\n10</td>\n",
       "    </tr>\n",
       "    <tr>\n",
       "      <th>8.0</th>\n",
       "      <td>2020-02-17</td>\n",
       "      <td>2020-02-23</td>\n",
       "      <td>02/\\n17</td>\n",
       "    </tr>\n",
       "    <tr>\n",
       "      <th>9.0</th>\n",
       "      <td>2020-02-24</td>\n",
       "      <td>2020-03-01</td>\n",
       "      <td>02/\\n24</td>\n",
       "    </tr>\n",
       "    <tr>\n",
       "      <th>10.0</th>\n",
       "      <td>2020-03-02</td>\n",
       "      <td>2020-03-08</td>\n",
       "      <td>03/\\n02</td>\n",
       "    </tr>\n",
       "    <tr>\n",
       "      <th>11.0</th>\n",
       "      <td>2020-03-09</td>\n",
       "      <td>2020-03-15</td>\n",
       "      <td>03/\\n09</td>\n",
       "    </tr>\n",
       "    <tr>\n",
       "      <th>12.0</th>\n",
       "      <td>2020-03-16</td>\n",
       "      <td>2020-03-22</td>\n",
       "      <td>03/\\n16</td>\n",
       "    </tr>\n",
       "    <tr>\n",
       "      <th>13.0</th>\n",
       "      <td>2020-03-23</td>\n",
       "      <td>2020-03-29</td>\n",
       "      <td>03/\\n23</td>\n",
       "    </tr>\n",
       "    <tr>\n",
       "      <th>14.0</th>\n",
       "      <td>2020-03-30</td>\n",
       "      <td>2020-04-05</td>\n",
       "      <td>03/\\n30</td>\n",
       "    </tr>\n",
       "    <tr>\n",
       "      <th>15.0</th>\n",
       "      <td>2020-04-06</td>\n",
       "      <td>2020-04-12</td>\n",
       "      <td>04/\\n06</td>\n",
       "    </tr>\n",
       "    <tr>\n",
       "      <th>16.0</th>\n",
       "      <td>2020-04-13</td>\n",
       "      <td>2020-04-19</td>\n",
       "      <td>04/\\n13</td>\n",
       "    </tr>\n",
       "    <tr>\n",
       "      <th>17.0</th>\n",
       "      <td>2020-04-20</td>\n",
       "      <td>2020-04-26</td>\n",
       "      <td>04/\\n20</td>\n",
       "    </tr>\n",
       "    <tr>\n",
       "      <th>18.0</th>\n",
       "      <td>2020-04-27</td>\n",
       "      <td>2020-05-03</td>\n",
       "      <td>04/\\n27</td>\n",
       "    </tr>\n",
       "    <tr>\n",
       "      <th>19.0</th>\n",
       "      <td>2020-05-04</td>\n",
       "      <td>2020-05-10</td>\n",
       "      <td>05/\\n04</td>\n",
       "    </tr>\n",
       "    <tr>\n",
       "      <th>20.0</th>\n",
       "      <td>2020-05-11</td>\n",
       "      <td>2020-05-17</td>\n",
       "      <td>05/\\n11</td>\n",
       "    </tr>\n",
       "    <tr>\n",
       "      <th>21.0</th>\n",
       "      <td>2020-05-18</td>\n",
       "      <td>2020-05-24</td>\n",
       "      <td>05/\\n18</td>\n",
       "    </tr>\n",
       "    <tr>\n",
       "      <th>22.0</th>\n",
       "      <td>2020-05-25</td>\n",
       "      <td>2020-05-31</td>\n",
       "      <td>05/\\n25</td>\n",
       "    </tr>\n",
       "    <tr>\n",
       "      <th>23.0</th>\n",
       "      <td>2020-06-01</td>\n",
       "      <td>2020-06-07</td>\n",
       "      <td>06/\\n01</td>\n",
       "    </tr>\n",
       "    <tr>\n",
       "      <th>24.0</th>\n",
       "      <td>2020-06-08</td>\n",
       "      <td>2020-06-14</td>\n",
       "      <td>06/\\n08</td>\n",
       "    </tr>\n",
       "    <tr>\n",
       "      <th>25.0</th>\n",
       "      <td>2020-06-15</td>\n",
       "      <td>2020-06-21</td>\n",
       "      <td>06/\\n15</td>\n",
       "    </tr>\n",
       "    <tr>\n",
       "      <th>26.0</th>\n",
       "      <td>2020-06-22</td>\n",
       "      <td>2020-06-28</td>\n",
       "      <td>06/\\n22</td>\n",
       "    </tr>\n",
       "    <tr>\n",
       "      <th>27.0</th>\n",
       "      <td>2020-06-29</td>\n",
       "      <td>2020-07-05</td>\n",
       "      <td>06/\\n29</td>\n",
       "    </tr>\n",
       "    <tr>\n",
       "      <th>28.0</th>\n",
       "      <td>2020-07-06</td>\n",
       "      <td>2020-07-12</td>\n",
       "      <td>07/\\n06</td>\n",
       "    </tr>\n",
       "    <tr>\n",
       "      <th>29.0</th>\n",
       "      <td>2020-07-13</td>\n",
       "      <td>2020-07-14</td>\n",
       "      <td>07/\\n13</td>\n",
       "    </tr>\n",
       "  </tbody>\n",
       "</table>\n",
       "</div>"
      ],
      "text/plain": [
       "             min         max    label\n",
       "week                                 \n",
       "1.0   2020-01-01  2020-01-05  01/\\n01\n",
       "2.0   2020-01-06  2020-01-12  01/\\n06\n",
       "3.0   2020-01-13  2020-01-19  01/\\n13\n",
       "4.0   2020-01-20  2020-01-26  01/\\n20\n",
       "5.0   2020-01-27  2020-02-02  01/\\n27\n",
       "6.0   2020-02-03  2020-02-09  02/\\n03\n",
       "7.0   2020-02-10  2020-02-16  02/\\n10\n",
       "8.0   2020-02-17  2020-02-23  02/\\n17\n",
       "9.0   2020-02-24  2020-03-01  02/\\n24\n",
       "10.0  2020-03-02  2020-03-08  03/\\n02\n",
       "11.0  2020-03-09  2020-03-15  03/\\n09\n",
       "12.0  2020-03-16  2020-03-22  03/\\n16\n",
       "13.0  2020-03-23  2020-03-29  03/\\n23\n",
       "14.0  2020-03-30  2020-04-05  03/\\n30\n",
       "15.0  2020-04-06  2020-04-12  04/\\n06\n",
       "16.0  2020-04-13  2020-04-19  04/\\n13\n",
       "17.0  2020-04-20  2020-04-26  04/\\n20\n",
       "18.0  2020-04-27  2020-05-03  04/\\n27\n",
       "19.0  2020-05-04  2020-05-10  05/\\n04\n",
       "20.0  2020-05-11  2020-05-17  05/\\n11\n",
       "21.0  2020-05-18  2020-05-24  05/\\n18\n",
       "22.0  2020-05-25  2020-05-31  05/\\n25\n",
       "23.0  2020-06-01  2020-06-07  06/\\n01\n",
       "24.0  2020-06-08  2020-06-14  06/\\n08\n",
       "25.0  2020-06-15  2020-06-21  06/\\n15\n",
       "26.0  2020-06-22  2020-06-28  06/\\n22\n",
       "27.0  2020-06-29  2020-07-05  06/\\n29\n",
       "28.0  2020-07-06  2020-07-12  07/\\n06\n",
       "29.0  2020-07-13  2020-07-14  07/\\n13"
      ]
     },
     "execution_count": 207,
     "metadata": {},
     "output_type": "execute_result"
    }
   ],
   "source": [
    "week_day_df = df_flags.groupby('week')['day'].agg(['min','max'])\n",
    "week_day_df['label'] = [r[1]['min'][8:10] + '/' + r[1]['min'][5:7] + ' - ' + r[1]['max'][8:10] + '/' + r[1]['max'][5:7]\n",
    "                        for r in week_day_df.iterrows()]\n",
    "week_day_df['label'] = [r[1]['min'][5:7] + '/\\n' + r[1]['min'][8:10]\n",
    "                        for r in week_day_df.iterrows()]\n",
    "week_day_df"
   ]
  },
  {
   "cell_type": "code",
   "execution_count": 211,
   "metadata": {},
   "outputs": [
    {
     "data": {
      "application/vnd.plotly.v1+json": {
       "config": {
        "plotlyServerURL": "https://plot.ly"
       },
       "data": [
        {
         "hovertemplate": "subreddit_cat=business_economics<br>week=%{x}<br>ISFLAG=%{y}<extra></extra>",
         "legendgroup": "business_economics",
         "line": {
          "color": "#636efa",
          "dash": "solid"
         },
         "mode": "lines",
         "name": "business_economics",
         "showlegend": true,
         "type": "scatter",
         "x": [
          15,
          16,
          17,
          18,
          19,
          20,
          21,
          22,
          23,
          24,
          25,
          26,
          27,
          28,
          29
         ],
         "xaxis": "x",
         "y": [
          45,
          17,
          44,
          16,
          13,
          24,
          24,
          14,
          17,
          21,
          20,
          20,
          15,
          14,
          4
         ],
         "yaxis": "y"
        },
        {
         "hovertemplate": "subreddit_cat=coronavirus<br>week=%{x}<br>ISFLAG=%{y}<extra></extra>",
         "legendgroup": "coronavirus",
         "line": {
          "color": "#EF553B",
          "dash": "solid"
         },
         "mode": "lines",
         "name": "coronavirus",
         "showlegend": true,
         "type": "scatter",
         "x": [
          15,
          16,
          17,
          18,
          19,
          20,
          21,
          22,
          23,
          24,
          25,
          26,
          27,
          28,
          29
         ],
         "xaxis": "x",
         "y": [
          826,
          669,
          519,
          446,
          441,
          369,
          449,
          259,
          219,
          220,
          191,
          244,
          231,
          223,
          10
         ],
         "yaxis": "y"
        },
        {
         "hovertemplate": "subreddit_cat=generic_news<br>week=%{x}<br>ISFLAG=%{y}<extra></extra>",
         "legendgroup": "generic_news",
         "line": {
          "color": "#00cc96",
          "dash": "solid"
         },
         "mode": "lines",
         "name": "generic_news",
         "showlegend": true,
         "type": "scatter",
         "x": [
          15,
          16,
          17,
          18,
          19,
          20,
          21,
          22,
          23,
          24,
          25,
          26,
          27,
          28,
          29
         ],
         "xaxis": "x",
         "y": [
          502,
          495,
          468,
          413,
          427,
          334,
          454,
          350,
          393,
          176,
          401,
          442,
          431,
          42,
          1
         ],
         "yaxis": "y"
        },
        {
         "hovertemplate": "subreddit_cat=generic_politics<br>week=%{x}<br>ISFLAG=%{y}<extra></extra>",
         "legendgroup": "generic_politics",
         "line": {
          "color": "#ab63fa",
          "dash": "solid"
         },
         "mode": "lines",
         "name": "generic_politics",
         "showlegend": true,
         "type": "scatter",
         "x": [
          15,
          16,
          17,
          18,
          19,
          20,
          21,
          22,
          23,
          24,
          25,
          26,
          27,
          28
         ],
         "xaxis": "x",
         "y": [
          580,
          576,
          549,
          666,
          503,
          526,
          444,
          480,
          598,
          104,
          526,
          480,
          549,
          9
         ],
         "yaxis": "y"
        },
        {
         "hovertemplate": "subreddit_cat=ideological<br>week=%{x}<br>ISFLAG=%{y}<extra></extra>",
         "legendgroup": "ideological",
         "line": {
          "color": "#FFA15A",
          "dash": "solid"
         },
         "mode": "lines",
         "name": "ideological",
         "showlegend": true,
         "type": "scatter",
         "x": [
          15,
          16,
          17,
          18,
          19,
          20,
          21,
          22,
          23,
          24,
          25,
          26,
          27,
          28,
          29
         ],
         "xaxis": "x",
         "y": [
          228,
          155,
          197,
          160,
          153,
          174,
          155,
          177,
          224,
          161,
          152,
          172,
          202,
          149,
          2
         ],
         "yaxis": "y"
        },
        {
         "hovertemplate": "subreddit_cat=local<br>week=%{x}<br>ISFLAG=%{y}<extra></extra>",
         "legendgroup": "local",
         "line": {
          "color": "#19d3f3",
          "dash": "solid"
         },
         "mode": "lines",
         "name": "local",
         "showlegend": true,
         "type": "scatter",
         "x": [
          15,
          16,
          17,
          18,
          19,
          20,
          21,
          22,
          23,
          24,
          25,
          26,
          27,
          28,
          29
         ],
         "xaxis": "x",
         "y": [
          262,
          257,
          213,
          206,
          228,
          219,
          218,
          204,
          219,
          202,
          226,
          226,
          199,
          181,
          6
         ],
         "yaxis": "y"
        },
        {
         "hovertemplate": "subreddit_cat=science_health<br>week=%{x}<br>ISFLAG=%{y}<extra></extra>",
         "legendgroup": "science_health",
         "line": {
          "color": "#FF6692",
          "dash": "solid"
         },
         "mode": "lines",
         "name": "science_health",
         "showlegend": true,
         "type": "scatter",
         "x": [
          15,
          16,
          17,
          18,
          19,
          20,
          21,
          22,
          23,
          24,
          25,
          26,
          27,
          28
         ],
         "xaxis": "x",
         "y": [
          59,
          47,
          60,
          31,
          40,
          52,
          58,
          43,
          41,
          65,
          55,
          38,
          54,
          47
         ],
         "yaxis": "y"
        },
        {
         "hovertemplate": "subreddit_cat=technology<br>week=%{x}<br>ISFLAG=%{y}<extra></extra>",
         "legendgroup": "technology",
         "line": {
          "color": "#B6E880",
          "dash": "solid"
         },
         "mode": "lines",
         "name": "technology",
         "showlegend": true,
         "type": "scatter",
         "x": [
          15,
          16,
          17,
          18,
          19,
          20,
          21,
          22,
          23,
          24,
          25,
          26,
          27,
          28,
          29
         ],
         "xaxis": "x",
         "y": [
          64,
          66,
          75,
          61,
          44,
          63,
          94,
          71,
          72,
          51,
          80,
          69,
          103,
          77,
          3
         ],
         "yaxis": "y"
        }
       ],
       "layout": {
        "legend": {
         "title": {
          "text": "subreddit_cat"
         },
         "tracegroupgap": 0
        },
        "margin": {
         "t": 60
        },
        "template": {
         "data": {
          "bar": [
           {
            "error_x": {
             "color": "#2a3f5f"
            },
            "error_y": {
             "color": "#2a3f5f"
            },
            "marker": {
             "line": {
              "color": "#E5ECF6",
              "width": 0.5
             }
            },
            "type": "bar"
           }
          ],
          "barpolar": [
           {
            "marker": {
             "line": {
              "color": "#E5ECF6",
              "width": 0.5
             }
            },
            "type": "barpolar"
           }
          ],
          "carpet": [
           {
            "aaxis": {
             "endlinecolor": "#2a3f5f",
             "gridcolor": "white",
             "linecolor": "white",
             "minorgridcolor": "white",
             "startlinecolor": "#2a3f5f"
            },
            "baxis": {
             "endlinecolor": "#2a3f5f",
             "gridcolor": "white",
             "linecolor": "white",
             "minorgridcolor": "white",
             "startlinecolor": "#2a3f5f"
            },
            "type": "carpet"
           }
          ],
          "choropleth": [
           {
            "colorbar": {
             "outlinewidth": 0,
             "ticks": ""
            },
            "type": "choropleth"
           }
          ],
          "contour": [
           {
            "colorbar": {
             "outlinewidth": 0,
             "ticks": ""
            },
            "colorscale": [
             [
              0,
              "#0d0887"
             ],
             [
              0.1111111111111111,
              "#46039f"
             ],
             [
              0.2222222222222222,
              "#7201a8"
             ],
             [
              0.3333333333333333,
              "#9c179e"
             ],
             [
              0.4444444444444444,
              "#bd3786"
             ],
             [
              0.5555555555555556,
              "#d8576b"
             ],
             [
              0.6666666666666666,
              "#ed7953"
             ],
             [
              0.7777777777777778,
              "#fb9f3a"
             ],
             [
              0.8888888888888888,
              "#fdca26"
             ],
             [
              1,
              "#f0f921"
             ]
            ],
            "type": "contour"
           }
          ],
          "contourcarpet": [
           {
            "colorbar": {
             "outlinewidth": 0,
             "ticks": ""
            },
            "type": "contourcarpet"
           }
          ],
          "heatmap": [
           {
            "colorbar": {
             "outlinewidth": 0,
             "ticks": ""
            },
            "colorscale": [
             [
              0,
              "#0d0887"
             ],
             [
              0.1111111111111111,
              "#46039f"
             ],
             [
              0.2222222222222222,
              "#7201a8"
             ],
             [
              0.3333333333333333,
              "#9c179e"
             ],
             [
              0.4444444444444444,
              "#bd3786"
             ],
             [
              0.5555555555555556,
              "#d8576b"
             ],
             [
              0.6666666666666666,
              "#ed7953"
             ],
             [
              0.7777777777777778,
              "#fb9f3a"
             ],
             [
              0.8888888888888888,
              "#fdca26"
             ],
             [
              1,
              "#f0f921"
             ]
            ],
            "type": "heatmap"
           }
          ],
          "heatmapgl": [
           {
            "colorbar": {
             "outlinewidth": 0,
             "ticks": ""
            },
            "colorscale": [
             [
              0,
              "#0d0887"
             ],
             [
              0.1111111111111111,
              "#46039f"
             ],
             [
              0.2222222222222222,
              "#7201a8"
             ],
             [
              0.3333333333333333,
              "#9c179e"
             ],
             [
              0.4444444444444444,
              "#bd3786"
             ],
             [
              0.5555555555555556,
              "#d8576b"
             ],
             [
              0.6666666666666666,
              "#ed7953"
             ],
             [
              0.7777777777777778,
              "#fb9f3a"
             ],
             [
              0.8888888888888888,
              "#fdca26"
             ],
             [
              1,
              "#f0f921"
             ]
            ],
            "type": "heatmapgl"
           }
          ],
          "histogram": [
           {
            "marker": {
             "colorbar": {
              "outlinewidth": 0,
              "ticks": ""
             }
            },
            "type": "histogram"
           }
          ],
          "histogram2d": [
           {
            "colorbar": {
             "outlinewidth": 0,
             "ticks": ""
            },
            "colorscale": [
             [
              0,
              "#0d0887"
             ],
             [
              0.1111111111111111,
              "#46039f"
             ],
             [
              0.2222222222222222,
              "#7201a8"
             ],
             [
              0.3333333333333333,
              "#9c179e"
             ],
             [
              0.4444444444444444,
              "#bd3786"
             ],
             [
              0.5555555555555556,
              "#d8576b"
             ],
             [
              0.6666666666666666,
              "#ed7953"
             ],
             [
              0.7777777777777778,
              "#fb9f3a"
             ],
             [
              0.8888888888888888,
              "#fdca26"
             ],
             [
              1,
              "#f0f921"
             ]
            ],
            "type": "histogram2d"
           }
          ],
          "histogram2dcontour": [
           {
            "colorbar": {
             "outlinewidth": 0,
             "ticks": ""
            },
            "colorscale": [
             [
              0,
              "#0d0887"
             ],
             [
              0.1111111111111111,
              "#46039f"
             ],
             [
              0.2222222222222222,
              "#7201a8"
             ],
             [
              0.3333333333333333,
              "#9c179e"
             ],
             [
              0.4444444444444444,
              "#bd3786"
             ],
             [
              0.5555555555555556,
              "#d8576b"
             ],
             [
              0.6666666666666666,
              "#ed7953"
             ],
             [
              0.7777777777777778,
              "#fb9f3a"
             ],
             [
              0.8888888888888888,
              "#fdca26"
             ],
             [
              1,
              "#f0f921"
             ]
            ],
            "type": "histogram2dcontour"
           }
          ],
          "mesh3d": [
           {
            "colorbar": {
             "outlinewidth": 0,
             "ticks": ""
            },
            "type": "mesh3d"
           }
          ],
          "parcoords": [
           {
            "line": {
             "colorbar": {
              "outlinewidth": 0,
              "ticks": ""
             }
            },
            "type": "parcoords"
           }
          ],
          "pie": [
           {
            "automargin": true,
            "type": "pie"
           }
          ],
          "scatter": [
           {
            "marker": {
             "colorbar": {
              "outlinewidth": 0,
              "ticks": ""
             }
            },
            "type": "scatter"
           }
          ],
          "scatter3d": [
           {
            "line": {
             "colorbar": {
              "outlinewidth": 0,
              "ticks": ""
             }
            },
            "marker": {
             "colorbar": {
              "outlinewidth": 0,
              "ticks": ""
             }
            },
            "type": "scatter3d"
           }
          ],
          "scattercarpet": [
           {
            "marker": {
             "colorbar": {
              "outlinewidth": 0,
              "ticks": ""
             }
            },
            "type": "scattercarpet"
           }
          ],
          "scattergeo": [
           {
            "marker": {
             "colorbar": {
              "outlinewidth": 0,
              "ticks": ""
             }
            },
            "type": "scattergeo"
           }
          ],
          "scattergl": [
           {
            "marker": {
             "colorbar": {
              "outlinewidth": 0,
              "ticks": ""
             }
            },
            "type": "scattergl"
           }
          ],
          "scattermapbox": [
           {
            "marker": {
             "colorbar": {
              "outlinewidth": 0,
              "ticks": ""
             }
            },
            "type": "scattermapbox"
           }
          ],
          "scatterpolar": [
           {
            "marker": {
             "colorbar": {
              "outlinewidth": 0,
              "ticks": ""
             }
            },
            "type": "scatterpolar"
           }
          ],
          "scatterpolargl": [
           {
            "marker": {
             "colorbar": {
              "outlinewidth": 0,
              "ticks": ""
             }
            },
            "type": "scatterpolargl"
           }
          ],
          "scatterternary": [
           {
            "marker": {
             "colorbar": {
              "outlinewidth": 0,
              "ticks": ""
             }
            },
            "type": "scatterternary"
           }
          ],
          "surface": [
           {
            "colorbar": {
             "outlinewidth": 0,
             "ticks": ""
            },
            "colorscale": [
             [
              0,
              "#0d0887"
             ],
             [
              0.1111111111111111,
              "#46039f"
             ],
             [
              0.2222222222222222,
              "#7201a8"
             ],
             [
              0.3333333333333333,
              "#9c179e"
             ],
             [
              0.4444444444444444,
              "#bd3786"
             ],
             [
              0.5555555555555556,
              "#d8576b"
             ],
             [
              0.6666666666666666,
              "#ed7953"
             ],
             [
              0.7777777777777778,
              "#fb9f3a"
             ],
             [
              0.8888888888888888,
              "#fdca26"
             ],
             [
              1,
              "#f0f921"
             ]
            ],
            "type": "surface"
           }
          ],
          "table": [
           {
            "cells": {
             "fill": {
              "color": "#EBF0F8"
             },
             "line": {
              "color": "white"
             }
            },
            "header": {
             "fill": {
              "color": "#C8D4E3"
             },
             "line": {
              "color": "white"
             }
            },
            "type": "table"
           }
          ]
         },
         "layout": {
          "annotationdefaults": {
           "arrowcolor": "#2a3f5f",
           "arrowhead": 0,
           "arrowwidth": 1
          },
          "coloraxis": {
           "colorbar": {
            "outlinewidth": 0,
            "ticks": ""
           }
          },
          "colorscale": {
           "diverging": [
            [
             0,
             "#8e0152"
            ],
            [
             0.1,
             "#c51b7d"
            ],
            [
             0.2,
             "#de77ae"
            ],
            [
             0.3,
             "#f1b6da"
            ],
            [
             0.4,
             "#fde0ef"
            ],
            [
             0.5,
             "#f7f7f7"
            ],
            [
             0.6,
             "#e6f5d0"
            ],
            [
             0.7,
             "#b8e186"
            ],
            [
             0.8,
             "#7fbc41"
            ],
            [
             0.9,
             "#4d9221"
            ],
            [
             1,
             "#276419"
            ]
           ],
           "sequential": [
            [
             0,
             "#0d0887"
            ],
            [
             0.1111111111111111,
             "#46039f"
            ],
            [
             0.2222222222222222,
             "#7201a8"
            ],
            [
             0.3333333333333333,
             "#9c179e"
            ],
            [
             0.4444444444444444,
             "#bd3786"
            ],
            [
             0.5555555555555556,
             "#d8576b"
            ],
            [
             0.6666666666666666,
             "#ed7953"
            ],
            [
             0.7777777777777778,
             "#fb9f3a"
            ],
            [
             0.8888888888888888,
             "#fdca26"
            ],
            [
             1,
             "#f0f921"
            ]
           ],
           "sequentialminus": [
            [
             0,
             "#0d0887"
            ],
            [
             0.1111111111111111,
             "#46039f"
            ],
            [
             0.2222222222222222,
             "#7201a8"
            ],
            [
             0.3333333333333333,
             "#9c179e"
            ],
            [
             0.4444444444444444,
             "#bd3786"
            ],
            [
             0.5555555555555556,
             "#d8576b"
            ],
            [
             0.6666666666666666,
             "#ed7953"
            ],
            [
             0.7777777777777778,
             "#fb9f3a"
            ],
            [
             0.8888888888888888,
             "#fdca26"
            ],
            [
             1,
             "#f0f921"
            ]
           ]
          },
          "colorway": [
           "#636efa",
           "#EF553B",
           "#00cc96",
           "#ab63fa",
           "#FFA15A",
           "#19d3f3",
           "#FF6692",
           "#B6E880",
           "#FF97FF",
           "#FECB52"
          ],
          "font": {
           "color": "#2a3f5f"
          },
          "geo": {
           "bgcolor": "white",
           "lakecolor": "white",
           "landcolor": "#E5ECF6",
           "showlakes": true,
           "showland": true,
           "subunitcolor": "white"
          },
          "hoverlabel": {
           "align": "left"
          },
          "hovermode": "closest",
          "mapbox": {
           "style": "light"
          },
          "paper_bgcolor": "white",
          "plot_bgcolor": "#E5ECF6",
          "polar": {
           "angularaxis": {
            "gridcolor": "white",
            "linecolor": "white",
            "ticks": ""
           },
           "bgcolor": "#E5ECF6",
           "radialaxis": {
            "gridcolor": "white",
            "linecolor": "white",
            "ticks": ""
           }
          },
          "scene": {
           "xaxis": {
            "backgroundcolor": "#E5ECF6",
            "gridcolor": "white",
            "gridwidth": 2,
            "linecolor": "white",
            "showbackground": true,
            "ticks": "",
            "zerolinecolor": "white"
           },
           "yaxis": {
            "backgroundcolor": "#E5ECF6",
            "gridcolor": "white",
            "gridwidth": 2,
            "linecolor": "white",
            "showbackground": true,
            "ticks": "",
            "zerolinecolor": "white"
           },
           "zaxis": {
            "backgroundcolor": "#E5ECF6",
            "gridcolor": "white",
            "gridwidth": 2,
            "linecolor": "white",
            "showbackground": true,
            "ticks": "",
            "zerolinecolor": "white"
           }
          },
          "shapedefaults": {
           "line": {
            "color": "#2a3f5f"
           }
          },
          "ternary": {
           "aaxis": {
            "gridcolor": "white",
            "linecolor": "white",
            "ticks": ""
           },
           "baxis": {
            "gridcolor": "white",
            "linecolor": "white",
            "ticks": ""
           },
           "bgcolor": "#E5ECF6",
           "caxis": {
            "gridcolor": "white",
            "linecolor": "white",
            "ticks": ""
           }
          },
          "title": {
           "x": 0.05
          },
          "xaxis": {
           "automargin": true,
           "gridcolor": "white",
           "linecolor": "white",
           "ticks": "",
           "title": {
            "standoff": 15
           },
           "zerolinecolor": "white",
           "zerolinewidth": 2
          },
          "yaxis": {
           "automargin": true,
           "gridcolor": "white",
           "linecolor": "white",
           "ticks": "",
           "title": {
            "standoff": 15
           },
           "zerolinecolor": "white",
           "zerolinewidth": 2
          }
         }
        },
        "xaxis": {
         "anchor": "y",
         "domain": [
          0,
          1
         ],
         "title": {
          "text": "week"
         }
        },
        "yaxis": {
         "anchor": "x",
         "domain": [
          0,
          1
         ],
         "title": {
          "text": "ISFLAG"
         }
        }
       }
      },
      "text/html": [
       "<div>\n",
       "        \n",
       "        \n",
       "            <div id=\"def8d7b6-027a-4212-9bf9-d347cc3beb5c\" class=\"plotly-graph-div\" style=\"height:525px; width:100%;\"></div>\n",
       "            <script type=\"text/javascript\">\n",
       "                require([\"plotly\"], function(Plotly) {\n",
       "                    window.PLOTLYENV=window.PLOTLYENV || {};\n",
       "                    \n",
       "                if (document.getElementById(\"def8d7b6-027a-4212-9bf9-d347cc3beb5c\")) {\n",
       "                    Plotly.newPlot(\n",
       "                        'def8d7b6-027a-4212-9bf9-d347cc3beb5c',\n",
       "                        [{\"hovertemplate\": \"subreddit_cat=business_economics<br>week=%{x}<br>ISFLAG=%{y}<extra></extra>\", \"legendgroup\": \"business_economics\", \"line\": {\"color\": \"#636efa\", \"dash\": \"solid\"}, \"mode\": \"lines\", \"name\": \"business_economics\", \"showlegend\": true, \"type\": \"scatter\", \"x\": [15, 16, 17, 18, 19, 20, 21, 22, 23, 24, 25, 26, 27, 28, 29], \"xaxis\": \"x\", \"y\": [45.0, 17.0, 44.0, 16.0, 13.0, 24.0, 24.0, 14.0, 17.0, 21.0, 20.0, 20.0, 15.0, 14.0, 4.0], \"yaxis\": \"y\"}, {\"hovertemplate\": \"subreddit_cat=coronavirus<br>week=%{x}<br>ISFLAG=%{y}<extra></extra>\", \"legendgroup\": \"coronavirus\", \"line\": {\"color\": \"#EF553B\", \"dash\": \"solid\"}, \"mode\": \"lines\", \"name\": \"coronavirus\", \"showlegend\": true, \"type\": \"scatter\", \"x\": [15, 16, 17, 18, 19, 20, 21, 22, 23, 24, 25, 26, 27, 28, 29], \"xaxis\": \"x\", \"y\": [826.0, 669.0, 519.0, 446.0, 441.0, 369.0, 449.0, 259.0, 219.0, 220.0, 191.0, 244.0, 231.0, 223.0, 10.0], \"yaxis\": \"y\"}, {\"hovertemplate\": \"subreddit_cat=generic_news<br>week=%{x}<br>ISFLAG=%{y}<extra></extra>\", \"legendgroup\": \"generic_news\", \"line\": {\"color\": \"#00cc96\", \"dash\": \"solid\"}, \"mode\": \"lines\", \"name\": \"generic_news\", \"showlegend\": true, \"type\": \"scatter\", \"x\": [15, 16, 17, 18, 19, 20, 21, 22, 23, 24, 25, 26, 27, 28, 29], \"xaxis\": \"x\", \"y\": [502.0, 495.0, 468.0, 413.0, 427.0, 334.0, 454.0, 350.0, 393.0, 176.0, 401.0, 442.0, 431.0, 42.0, 1.0], \"yaxis\": \"y\"}, {\"hovertemplate\": \"subreddit_cat=generic_politics<br>week=%{x}<br>ISFLAG=%{y}<extra></extra>\", \"legendgroup\": \"generic_politics\", \"line\": {\"color\": \"#ab63fa\", \"dash\": \"solid\"}, \"mode\": \"lines\", \"name\": \"generic_politics\", \"showlegend\": true, \"type\": \"scatter\", \"x\": [15, 16, 17, 18, 19, 20, 21, 22, 23, 24, 25, 26, 27, 28], \"xaxis\": \"x\", \"y\": [580.0, 576.0, 549.0, 666.0, 503.0, 526.0, 444.0, 480.0, 598.0, 104.0, 526.0, 480.0, 549.0, 9.0], \"yaxis\": \"y\"}, {\"hovertemplate\": \"subreddit_cat=ideological<br>week=%{x}<br>ISFLAG=%{y}<extra></extra>\", \"legendgroup\": \"ideological\", \"line\": {\"color\": \"#FFA15A\", \"dash\": \"solid\"}, \"mode\": \"lines\", \"name\": \"ideological\", \"showlegend\": true, \"type\": \"scatter\", \"x\": [15, 16, 17, 18, 19, 20, 21, 22, 23, 24, 25, 26, 27, 28, 29], \"xaxis\": \"x\", \"y\": [228.0, 155.0, 197.0, 160.0, 153.0, 174.0, 155.0, 177.0, 224.0, 161.0, 152.0, 172.0, 202.0, 149.0, 2.0], \"yaxis\": \"y\"}, {\"hovertemplate\": \"subreddit_cat=local<br>week=%{x}<br>ISFLAG=%{y}<extra></extra>\", \"legendgroup\": \"local\", \"line\": {\"color\": \"#19d3f3\", \"dash\": \"solid\"}, \"mode\": \"lines\", \"name\": \"local\", \"showlegend\": true, \"type\": \"scatter\", \"x\": [15, 16, 17, 18, 19, 20, 21, 22, 23, 24, 25, 26, 27, 28, 29], \"xaxis\": \"x\", \"y\": [262.0, 257.0, 213.0, 206.0, 228.0, 219.0, 218.0, 204.0, 219.0, 202.0, 226.0, 226.0, 199.0, 181.0, 6.0], \"yaxis\": \"y\"}, {\"hovertemplate\": \"subreddit_cat=science_health<br>week=%{x}<br>ISFLAG=%{y}<extra></extra>\", \"legendgroup\": \"science_health\", \"line\": {\"color\": \"#FF6692\", \"dash\": \"solid\"}, \"mode\": \"lines\", \"name\": \"science_health\", \"showlegend\": true, \"type\": \"scatter\", \"x\": [15, 16, 17, 18, 19, 20, 21, 22, 23, 24, 25, 26, 27, 28], \"xaxis\": \"x\", \"y\": [59.0, 47.0, 60.0, 31.0, 40.0, 52.0, 58.0, 43.0, 41.0, 65.0, 55.0, 38.0, 54.0, 47.0], \"yaxis\": \"y\"}, {\"hovertemplate\": \"subreddit_cat=technology<br>week=%{x}<br>ISFLAG=%{y}<extra></extra>\", \"legendgroup\": \"technology\", \"line\": {\"color\": \"#B6E880\", \"dash\": \"solid\"}, \"mode\": \"lines\", \"name\": \"technology\", \"showlegend\": true, \"type\": \"scatter\", \"x\": [15, 16, 17, 18, 19, 20, 21, 22, 23, 24, 25, 26, 27, 28, 29], \"xaxis\": \"x\", \"y\": [64.0, 66.0, 75.0, 61.0, 44.0, 63.0, 94.0, 71.0, 72.0, 51.0, 80.0, 69.0, 103.0, 77.0, 3.0], \"yaxis\": \"y\"}],\n",
       "                        {\"legend\": {\"title\": {\"text\": \"subreddit_cat\"}, \"tracegroupgap\": 0}, \"margin\": {\"t\": 60}, \"template\": {\"data\": {\"bar\": [{\"error_x\": {\"color\": \"#2a3f5f\"}, \"error_y\": {\"color\": \"#2a3f5f\"}, \"marker\": {\"line\": {\"color\": \"#E5ECF6\", \"width\": 0.5}}, \"type\": \"bar\"}], \"barpolar\": [{\"marker\": {\"line\": {\"color\": \"#E5ECF6\", \"width\": 0.5}}, \"type\": \"barpolar\"}], \"carpet\": [{\"aaxis\": {\"endlinecolor\": \"#2a3f5f\", \"gridcolor\": \"white\", \"linecolor\": \"white\", \"minorgridcolor\": \"white\", \"startlinecolor\": \"#2a3f5f\"}, \"baxis\": {\"endlinecolor\": \"#2a3f5f\", \"gridcolor\": \"white\", \"linecolor\": \"white\", \"minorgridcolor\": \"white\", \"startlinecolor\": \"#2a3f5f\"}, \"type\": \"carpet\"}], \"choropleth\": [{\"colorbar\": {\"outlinewidth\": 0, \"ticks\": \"\"}, \"type\": \"choropleth\"}], \"contour\": [{\"colorbar\": {\"outlinewidth\": 0, \"ticks\": \"\"}, \"colorscale\": [[0.0, \"#0d0887\"], [0.1111111111111111, \"#46039f\"], [0.2222222222222222, \"#7201a8\"], [0.3333333333333333, \"#9c179e\"], [0.4444444444444444, \"#bd3786\"], [0.5555555555555556, \"#d8576b\"], [0.6666666666666666, \"#ed7953\"], [0.7777777777777778, \"#fb9f3a\"], [0.8888888888888888, \"#fdca26\"], [1.0, \"#f0f921\"]], \"type\": \"contour\"}], \"contourcarpet\": [{\"colorbar\": {\"outlinewidth\": 0, \"ticks\": \"\"}, \"type\": \"contourcarpet\"}], \"heatmap\": [{\"colorbar\": {\"outlinewidth\": 0, \"ticks\": \"\"}, \"colorscale\": [[0.0, \"#0d0887\"], [0.1111111111111111, \"#46039f\"], [0.2222222222222222, \"#7201a8\"], [0.3333333333333333, \"#9c179e\"], [0.4444444444444444, \"#bd3786\"], [0.5555555555555556, \"#d8576b\"], [0.6666666666666666, \"#ed7953\"], [0.7777777777777778, \"#fb9f3a\"], [0.8888888888888888, \"#fdca26\"], [1.0, \"#f0f921\"]], \"type\": \"heatmap\"}], \"heatmapgl\": [{\"colorbar\": {\"outlinewidth\": 0, \"ticks\": \"\"}, \"colorscale\": [[0.0, \"#0d0887\"], [0.1111111111111111, \"#46039f\"], [0.2222222222222222, \"#7201a8\"], [0.3333333333333333, \"#9c179e\"], [0.4444444444444444, \"#bd3786\"], [0.5555555555555556, \"#d8576b\"], [0.6666666666666666, \"#ed7953\"], [0.7777777777777778, \"#fb9f3a\"], [0.8888888888888888, \"#fdca26\"], [1.0, \"#f0f921\"]], \"type\": \"heatmapgl\"}], \"histogram\": [{\"marker\": {\"colorbar\": {\"outlinewidth\": 0, \"ticks\": \"\"}}, \"type\": \"histogram\"}], \"histogram2d\": [{\"colorbar\": {\"outlinewidth\": 0, \"ticks\": \"\"}, \"colorscale\": [[0.0, \"#0d0887\"], [0.1111111111111111, \"#46039f\"], [0.2222222222222222, \"#7201a8\"], [0.3333333333333333, \"#9c179e\"], [0.4444444444444444, \"#bd3786\"], [0.5555555555555556, \"#d8576b\"], [0.6666666666666666, \"#ed7953\"], [0.7777777777777778, \"#fb9f3a\"], [0.8888888888888888, \"#fdca26\"], [1.0, \"#f0f921\"]], \"type\": \"histogram2d\"}], \"histogram2dcontour\": [{\"colorbar\": {\"outlinewidth\": 0, \"ticks\": \"\"}, \"colorscale\": [[0.0, \"#0d0887\"], [0.1111111111111111, \"#46039f\"], [0.2222222222222222, \"#7201a8\"], [0.3333333333333333, \"#9c179e\"], [0.4444444444444444, \"#bd3786\"], [0.5555555555555556, \"#d8576b\"], [0.6666666666666666, \"#ed7953\"], [0.7777777777777778, \"#fb9f3a\"], [0.8888888888888888, \"#fdca26\"], [1.0, \"#f0f921\"]], \"type\": \"histogram2dcontour\"}], \"mesh3d\": [{\"colorbar\": {\"outlinewidth\": 0, \"ticks\": \"\"}, \"type\": \"mesh3d\"}], \"parcoords\": [{\"line\": {\"colorbar\": {\"outlinewidth\": 0, \"ticks\": \"\"}}, \"type\": \"parcoords\"}], \"pie\": [{\"automargin\": true, \"type\": \"pie\"}], \"scatter\": [{\"marker\": {\"colorbar\": {\"outlinewidth\": 0, \"ticks\": \"\"}}, \"type\": \"scatter\"}], \"scatter3d\": [{\"line\": {\"colorbar\": {\"outlinewidth\": 0, \"ticks\": \"\"}}, \"marker\": {\"colorbar\": {\"outlinewidth\": 0, \"ticks\": \"\"}}, \"type\": \"scatter3d\"}], \"scattercarpet\": [{\"marker\": {\"colorbar\": {\"outlinewidth\": 0, \"ticks\": \"\"}}, \"type\": \"scattercarpet\"}], \"scattergeo\": [{\"marker\": {\"colorbar\": {\"outlinewidth\": 0, \"ticks\": \"\"}}, \"type\": \"scattergeo\"}], \"scattergl\": [{\"marker\": {\"colorbar\": {\"outlinewidth\": 0, \"ticks\": \"\"}}, \"type\": \"scattergl\"}], \"scattermapbox\": [{\"marker\": {\"colorbar\": {\"outlinewidth\": 0, \"ticks\": \"\"}}, \"type\": \"scattermapbox\"}], \"scatterpolar\": [{\"marker\": {\"colorbar\": {\"outlinewidth\": 0, \"ticks\": \"\"}}, \"type\": \"scatterpolar\"}], \"scatterpolargl\": [{\"marker\": {\"colorbar\": {\"outlinewidth\": 0, \"ticks\": \"\"}}, \"type\": \"scatterpolargl\"}], \"scatterternary\": [{\"marker\": {\"colorbar\": {\"outlinewidth\": 0, \"ticks\": \"\"}}, \"type\": \"scatterternary\"}], \"surface\": [{\"colorbar\": {\"outlinewidth\": 0, \"ticks\": \"\"}, \"colorscale\": [[0.0, \"#0d0887\"], [0.1111111111111111, \"#46039f\"], [0.2222222222222222, \"#7201a8\"], [0.3333333333333333, \"#9c179e\"], [0.4444444444444444, \"#bd3786\"], [0.5555555555555556, \"#d8576b\"], [0.6666666666666666, \"#ed7953\"], [0.7777777777777778, \"#fb9f3a\"], [0.8888888888888888, \"#fdca26\"], [1.0, \"#f0f921\"]], \"type\": \"surface\"}], \"table\": [{\"cells\": {\"fill\": {\"color\": \"#EBF0F8\"}, \"line\": {\"color\": \"white\"}}, \"header\": {\"fill\": {\"color\": \"#C8D4E3\"}, \"line\": {\"color\": \"white\"}}, \"type\": \"table\"}]}, \"layout\": {\"annotationdefaults\": {\"arrowcolor\": \"#2a3f5f\", \"arrowhead\": 0, \"arrowwidth\": 1}, \"coloraxis\": {\"colorbar\": {\"outlinewidth\": 0, \"ticks\": \"\"}}, \"colorscale\": {\"diverging\": [[0, \"#8e0152\"], [0.1, \"#c51b7d\"], [0.2, \"#de77ae\"], [0.3, \"#f1b6da\"], [0.4, \"#fde0ef\"], [0.5, \"#f7f7f7\"], [0.6, \"#e6f5d0\"], [0.7, \"#b8e186\"], [0.8, \"#7fbc41\"], [0.9, \"#4d9221\"], [1, \"#276419\"]], \"sequential\": [[0.0, \"#0d0887\"], [0.1111111111111111, \"#46039f\"], [0.2222222222222222, \"#7201a8\"], [0.3333333333333333, \"#9c179e\"], [0.4444444444444444, \"#bd3786\"], [0.5555555555555556, \"#d8576b\"], [0.6666666666666666, \"#ed7953\"], [0.7777777777777778, \"#fb9f3a\"], [0.8888888888888888, \"#fdca26\"], [1.0, \"#f0f921\"]], \"sequentialminus\": [[0.0, \"#0d0887\"], [0.1111111111111111, \"#46039f\"], [0.2222222222222222, \"#7201a8\"], [0.3333333333333333, \"#9c179e\"], [0.4444444444444444, \"#bd3786\"], [0.5555555555555556, \"#d8576b\"], [0.6666666666666666, \"#ed7953\"], [0.7777777777777778, \"#fb9f3a\"], [0.8888888888888888, \"#fdca26\"], [1.0, \"#f0f921\"]]}, \"colorway\": [\"#636efa\", \"#EF553B\", \"#00cc96\", \"#ab63fa\", \"#FFA15A\", \"#19d3f3\", \"#FF6692\", \"#B6E880\", \"#FF97FF\", \"#FECB52\"], \"font\": {\"color\": \"#2a3f5f\"}, \"geo\": {\"bgcolor\": \"white\", \"lakecolor\": \"white\", \"landcolor\": \"#E5ECF6\", \"showlakes\": true, \"showland\": true, \"subunitcolor\": \"white\"}, \"hoverlabel\": {\"align\": \"left\"}, \"hovermode\": \"closest\", \"mapbox\": {\"style\": \"light\"}, \"paper_bgcolor\": \"white\", \"plot_bgcolor\": \"#E5ECF6\", \"polar\": {\"angularaxis\": {\"gridcolor\": \"white\", \"linecolor\": \"white\", \"ticks\": \"\"}, \"bgcolor\": \"#E5ECF6\", \"radialaxis\": {\"gridcolor\": \"white\", \"linecolor\": \"white\", \"ticks\": \"\"}}, \"scene\": {\"xaxis\": {\"backgroundcolor\": \"#E5ECF6\", \"gridcolor\": \"white\", \"gridwidth\": 2, \"linecolor\": \"white\", \"showbackground\": true, \"ticks\": \"\", \"zerolinecolor\": \"white\"}, \"yaxis\": {\"backgroundcolor\": \"#E5ECF6\", \"gridcolor\": \"white\", \"gridwidth\": 2, \"linecolor\": \"white\", \"showbackground\": true, \"ticks\": \"\", \"zerolinecolor\": \"white\"}, \"zaxis\": {\"backgroundcolor\": \"#E5ECF6\", \"gridcolor\": \"white\", \"gridwidth\": 2, \"linecolor\": \"white\", \"showbackground\": true, \"ticks\": \"\", \"zerolinecolor\": \"white\"}}, \"shapedefaults\": {\"line\": {\"color\": \"#2a3f5f\"}}, \"ternary\": {\"aaxis\": {\"gridcolor\": \"white\", \"linecolor\": \"white\", \"ticks\": \"\"}, \"baxis\": {\"gridcolor\": \"white\", \"linecolor\": \"white\", \"ticks\": \"\"}, \"bgcolor\": \"#E5ECF6\", \"caxis\": {\"gridcolor\": \"white\", \"linecolor\": \"white\", \"ticks\": \"\"}}, \"title\": {\"x\": 0.05}, \"xaxis\": {\"automargin\": true, \"gridcolor\": \"white\", \"linecolor\": \"white\", \"ticks\": \"\", \"title\": {\"standoff\": 15}, \"zerolinecolor\": \"white\", \"zerolinewidth\": 2}, \"yaxis\": {\"automargin\": true, \"gridcolor\": \"white\", \"linecolor\": \"white\", \"ticks\": \"\", \"title\": {\"standoff\": 15}, \"zerolinecolor\": \"white\", \"zerolinewidth\": 2}}}, \"xaxis\": {\"anchor\": \"y\", \"domain\": [0.0, 1.0], \"title\": {\"text\": \"week\"}}, \"yaxis\": {\"anchor\": \"x\", \"domain\": [0.0, 1.0], \"title\": {\"text\": \"ISFLAG\"}}},\n",
       "                        {\"responsive\": true}\n",
       "                    ).then(function(){\n",
       "                            \n",
       "var gd = document.getElementById('def8d7b6-027a-4212-9bf9-d347cc3beb5c');\n",
       "var x = new MutationObserver(function (mutations, observer) {{\n",
       "        var display = window.getComputedStyle(gd).display;\n",
       "        if (!display || display === 'none') {{\n",
       "            console.log([gd, 'removed!']);\n",
       "            Plotly.purge(gd);\n",
       "            observer.disconnect();\n",
       "        }}\n",
       "}});\n",
       "\n",
       "// Listen for the removal of the full notebook cells\n",
       "var notebookContainer = gd.closest('#notebook-container');\n",
       "if (notebookContainer) {{\n",
       "    x.observe(notebookContainer, {childList: true});\n",
       "}}\n",
       "\n",
       "// Listen for the clearing of the current output cell\n",
       "var outputEl = gd.closest('.output');\n",
       "if (outputEl) {{\n",
       "    x.observe(outputEl, {childList: true});\n",
       "}}\n",
       "\n",
       "                        })\n",
       "                };\n",
       "                });\n",
       "            </script>\n",
       "        </div>"
      ]
     },
     "metadata": {},
     "output_type": "display_data"
    }
   ],
   "source": [
    "filtered_df_week_cat = get_flag_perc(filtered_df_week, ['subreddit_cat','week'])\n",
    "tickvals0 = list(range(filtered_df_week_cat.week.min(),\n",
    "           filtered_df_week_cat.week.max(),\n",
    "           1)) + [filtered_df_week_cat.week.max()]\n",
    "tickvals0 = subr_line_all.data[0].x\n",
    "ticklabs0 = week_day_df['label'][tickvals0]\n",
    "subr_line_all = px.line(\n",
    "                    filtered_df_week_cat,\n",
    "                    x = \"week\",\n",
    "                    y = \"ISFLAG\",\n",
    "                    color = \"subreddit_cat\")\n",
    "\n",
    "subr_line_all.show()"
   ]
  },
  {
   "cell_type": "code",
   "execution_count": 300,
   "metadata": {},
   "outputs": [
    {
     "data": {
      "text/plain": [
       "[1, 3, 5, 7, 9, 10]"
      ]
     },
     "execution_count": 300,
     "metadata": {},
     "output_type": "execute_result"
    }
   ],
   "source": [
    "rng0 = [1,10]\n",
    "def get_xlabs(xrange, nticks =5):    \n",
    "    rng = xrange[1] - xrange[0]\n",
    "    ticklst = list(range(xrange[0], xrange[1], rng // nticks+1)) \n",
    "    return ticklst + [xrange[1]]\n",
    "    \n",
    "get_xlabs(rng0)"
   ]
  },
  {
   "cell_type": "code",
   "execution_count": 309,
   "metadata": {},
   "outputs": [
    {
     "data": {
      "text/plain": [
       "15"
      ]
     },
     "execution_count": 309,
     "metadata": {},
     "output_type": "execute_result"
    }
   ],
   "source": [
    "min([min(a.x) for a in subr_line_all.data])"
   ]
  },
  {
   "cell_type": "code",
   "execution_count": 243,
   "metadata": {},
   "outputs": [
    {
     "data": {
      "application/vnd.plotly.v1+json": {
       "config": {
        "plotlyServerURL": "https://plot.ly"
       },
       "data": [
        {
         "hovertemplate": "subreddit_cat=business_economics<br>week=%{x}<br>ISFLAG=%{y}<extra></extra>",
         "legendgroup": "business_economics",
         "line": {
          "color": "#636efa",
          "dash": "solid"
         },
         "mode": "lines",
         "name": "business_economics",
         "showlegend": true,
         "type": "scatter",
         "x": [
          15,
          16,
          17,
          18,
          19,
          20,
          21,
          22,
          23,
          24,
          25,
          26,
          27,
          28,
          29
         ],
         "xaxis": "x",
         "y": [
          45,
          17,
          44,
          16,
          13,
          24,
          24,
          14,
          17,
          21,
          20,
          20,
          15,
          14,
          4
         ],
         "yaxis": "y"
        },
        {
         "hovertemplate": "subreddit_cat=coronavirus<br>week=%{x}<br>ISFLAG=%{y}<extra></extra>",
         "legendgroup": "coronavirus",
         "line": {
          "color": "#EF553B",
          "dash": "solid"
         },
         "mode": "lines",
         "name": "coronavirus",
         "showlegend": true,
         "type": "scatter",
         "x": [
          15,
          16,
          17,
          18,
          19,
          20,
          21,
          22,
          23,
          24,
          25,
          26,
          27,
          28,
          29
         ],
         "xaxis": "x",
         "y": [
          826,
          669,
          519,
          446,
          441,
          369,
          449,
          259,
          219,
          220,
          191,
          244,
          231,
          223,
          10
         ],
         "yaxis": "y"
        },
        {
         "hovertemplate": "subreddit_cat=generic_news<br>week=%{x}<br>ISFLAG=%{y}<extra></extra>",
         "legendgroup": "generic_news",
         "line": {
          "color": "#00cc96",
          "dash": "solid"
         },
         "mode": "lines",
         "name": "generic_news",
         "showlegend": true,
         "type": "scatter",
         "x": [
          15,
          16,
          17,
          18,
          19,
          20,
          21,
          22,
          23,
          24,
          25,
          26,
          27,
          28,
          29
         ],
         "xaxis": "x",
         "y": [
          502,
          495,
          468,
          413,
          427,
          334,
          454,
          350,
          393,
          176,
          401,
          442,
          431,
          42,
          1
         ],
         "yaxis": "y"
        },
        {
         "hovertemplate": "subreddit_cat=generic_politics<br>week=%{x}<br>ISFLAG=%{y}<extra></extra>",
         "legendgroup": "generic_politics",
         "line": {
          "color": "#ab63fa",
          "dash": "solid"
         },
         "mode": "lines",
         "name": "generic_politics",
         "showlegend": true,
         "type": "scatter",
         "x": [
          15,
          16,
          17,
          18,
          19,
          20,
          21,
          22,
          23,
          24,
          25,
          26,
          27,
          28
         ],
         "xaxis": "x",
         "y": [
          580,
          576,
          549,
          666,
          503,
          526,
          444,
          480,
          598,
          104,
          526,
          480,
          549,
          9
         ],
         "yaxis": "y"
        },
        {
         "hovertemplate": "subreddit_cat=ideological<br>week=%{x}<br>ISFLAG=%{y}<extra></extra>",
         "legendgroup": "ideological",
         "line": {
          "color": "#FFA15A",
          "dash": "solid"
         },
         "mode": "lines",
         "name": "ideological",
         "showlegend": true,
         "type": "scatter",
         "x": [
          15,
          16,
          17,
          18,
          19,
          20,
          21,
          22,
          23,
          24,
          25,
          26,
          27,
          28,
          29
         ],
         "xaxis": "x",
         "y": [
          228,
          155,
          197,
          160,
          153,
          174,
          155,
          177,
          224,
          161,
          152,
          172,
          202,
          149,
          2
         ],
         "yaxis": "y"
        },
        {
         "hovertemplate": "subreddit_cat=local<br>week=%{x}<br>ISFLAG=%{y}<extra></extra>",
         "legendgroup": "local",
         "line": {
          "color": "#19d3f3",
          "dash": "solid"
         },
         "mode": "lines",
         "name": "local",
         "showlegend": true,
         "type": "scatter",
         "x": [
          15,
          16,
          17,
          18,
          19,
          20,
          21,
          22,
          23,
          24,
          25,
          26,
          27,
          28,
          29
         ],
         "xaxis": "x",
         "y": [
          262,
          257,
          213,
          206,
          228,
          219,
          218,
          204,
          219,
          202,
          226,
          226,
          199,
          181,
          6
         ],
         "yaxis": "y"
        },
        {
         "hovertemplate": "subreddit_cat=science_health<br>week=%{x}<br>ISFLAG=%{y}<extra></extra>",
         "legendgroup": "science_health",
         "line": {
          "color": "#FF6692",
          "dash": "solid"
         },
         "mode": "lines",
         "name": "science_health",
         "showlegend": true,
         "type": "scatter",
         "x": [
          15,
          16,
          17,
          18,
          19,
          20,
          21,
          22,
          23,
          24,
          25,
          26,
          27,
          28
         ],
         "xaxis": "x",
         "y": [
          59,
          47,
          60,
          31,
          40,
          52,
          58,
          43,
          41,
          65,
          55,
          38,
          54,
          47
         ],
         "yaxis": "y"
        },
        {
         "hovertemplate": "subreddit_cat=technology<br>week=%{x}<br>ISFLAG=%{y}<extra></extra>",
         "legendgroup": "technology",
         "line": {
          "color": "#B6E880",
          "dash": "solid"
         },
         "mode": "lines",
         "name": "technology",
         "showlegend": true,
         "type": "scatter",
         "x": [
          15,
          16,
          17,
          18,
          19,
          20,
          21,
          22,
          23,
          24,
          25,
          26,
          27,
          28,
          29
         ],
         "xaxis": "x",
         "y": [
          64,
          66,
          75,
          61,
          44,
          63,
          94,
          71,
          72,
          51,
          80,
          69,
          103,
          77,
          3
         ],
         "yaxis": "y"
        }
       ],
       "layout": {
        "legend": {
         "title": {
          "text": "subreddit_cat"
         },
         "tracegroupgap": 0
        },
        "margin": {
         "t": 60
        },
        "template": {
         "data": {
          "bar": [
           {
            "error_x": {
             "color": "#2a3f5f"
            },
            "error_y": {
             "color": "#2a3f5f"
            },
            "marker": {
             "line": {
              "color": "#E5ECF6",
              "width": 0.5
             }
            },
            "type": "bar"
           }
          ],
          "barpolar": [
           {
            "marker": {
             "line": {
              "color": "#E5ECF6",
              "width": 0.5
             }
            },
            "type": "barpolar"
           }
          ],
          "carpet": [
           {
            "aaxis": {
             "endlinecolor": "#2a3f5f",
             "gridcolor": "white",
             "linecolor": "white",
             "minorgridcolor": "white",
             "startlinecolor": "#2a3f5f"
            },
            "baxis": {
             "endlinecolor": "#2a3f5f",
             "gridcolor": "white",
             "linecolor": "white",
             "minorgridcolor": "white",
             "startlinecolor": "#2a3f5f"
            },
            "type": "carpet"
           }
          ],
          "choropleth": [
           {
            "colorbar": {
             "outlinewidth": 0,
             "ticks": ""
            },
            "type": "choropleth"
           }
          ],
          "contour": [
           {
            "colorbar": {
             "outlinewidth": 0,
             "ticks": ""
            },
            "colorscale": [
             [
              0,
              "#0d0887"
             ],
             [
              0.1111111111111111,
              "#46039f"
             ],
             [
              0.2222222222222222,
              "#7201a8"
             ],
             [
              0.3333333333333333,
              "#9c179e"
             ],
             [
              0.4444444444444444,
              "#bd3786"
             ],
             [
              0.5555555555555556,
              "#d8576b"
             ],
             [
              0.6666666666666666,
              "#ed7953"
             ],
             [
              0.7777777777777778,
              "#fb9f3a"
             ],
             [
              0.8888888888888888,
              "#fdca26"
             ],
             [
              1,
              "#f0f921"
             ]
            ],
            "type": "contour"
           }
          ],
          "contourcarpet": [
           {
            "colorbar": {
             "outlinewidth": 0,
             "ticks": ""
            },
            "type": "contourcarpet"
           }
          ],
          "heatmap": [
           {
            "colorbar": {
             "outlinewidth": 0,
             "ticks": ""
            },
            "colorscale": [
             [
              0,
              "#0d0887"
             ],
             [
              0.1111111111111111,
              "#46039f"
             ],
             [
              0.2222222222222222,
              "#7201a8"
             ],
             [
              0.3333333333333333,
              "#9c179e"
             ],
             [
              0.4444444444444444,
              "#bd3786"
             ],
             [
              0.5555555555555556,
              "#d8576b"
             ],
             [
              0.6666666666666666,
              "#ed7953"
             ],
             [
              0.7777777777777778,
              "#fb9f3a"
             ],
             [
              0.8888888888888888,
              "#fdca26"
             ],
             [
              1,
              "#f0f921"
             ]
            ],
            "type": "heatmap"
           }
          ],
          "heatmapgl": [
           {
            "colorbar": {
             "outlinewidth": 0,
             "ticks": ""
            },
            "colorscale": [
             [
              0,
              "#0d0887"
             ],
             [
              0.1111111111111111,
              "#46039f"
             ],
             [
              0.2222222222222222,
              "#7201a8"
             ],
             [
              0.3333333333333333,
              "#9c179e"
             ],
             [
              0.4444444444444444,
              "#bd3786"
             ],
             [
              0.5555555555555556,
              "#d8576b"
             ],
             [
              0.6666666666666666,
              "#ed7953"
             ],
             [
              0.7777777777777778,
              "#fb9f3a"
             ],
             [
              0.8888888888888888,
              "#fdca26"
             ],
             [
              1,
              "#f0f921"
             ]
            ],
            "type": "heatmapgl"
           }
          ],
          "histogram": [
           {
            "marker": {
             "colorbar": {
              "outlinewidth": 0,
              "ticks": ""
             }
            },
            "type": "histogram"
           }
          ],
          "histogram2d": [
           {
            "colorbar": {
             "outlinewidth": 0,
             "ticks": ""
            },
            "colorscale": [
             [
              0,
              "#0d0887"
             ],
             [
              0.1111111111111111,
              "#46039f"
             ],
             [
              0.2222222222222222,
              "#7201a8"
             ],
             [
              0.3333333333333333,
              "#9c179e"
             ],
             [
              0.4444444444444444,
              "#bd3786"
             ],
             [
              0.5555555555555556,
              "#d8576b"
             ],
             [
              0.6666666666666666,
              "#ed7953"
             ],
             [
              0.7777777777777778,
              "#fb9f3a"
             ],
             [
              0.8888888888888888,
              "#fdca26"
             ],
             [
              1,
              "#f0f921"
             ]
            ],
            "type": "histogram2d"
           }
          ],
          "histogram2dcontour": [
           {
            "colorbar": {
             "outlinewidth": 0,
             "ticks": ""
            },
            "colorscale": [
             [
              0,
              "#0d0887"
             ],
             [
              0.1111111111111111,
              "#46039f"
             ],
             [
              0.2222222222222222,
              "#7201a8"
             ],
             [
              0.3333333333333333,
              "#9c179e"
             ],
             [
              0.4444444444444444,
              "#bd3786"
             ],
             [
              0.5555555555555556,
              "#d8576b"
             ],
             [
              0.6666666666666666,
              "#ed7953"
             ],
             [
              0.7777777777777778,
              "#fb9f3a"
             ],
             [
              0.8888888888888888,
              "#fdca26"
             ],
             [
              1,
              "#f0f921"
             ]
            ],
            "type": "histogram2dcontour"
           }
          ],
          "mesh3d": [
           {
            "colorbar": {
             "outlinewidth": 0,
             "ticks": ""
            },
            "type": "mesh3d"
           }
          ],
          "parcoords": [
           {
            "line": {
             "colorbar": {
              "outlinewidth": 0,
              "ticks": ""
             }
            },
            "type": "parcoords"
           }
          ],
          "pie": [
           {
            "automargin": true,
            "type": "pie"
           }
          ],
          "scatter": [
           {
            "marker": {
             "colorbar": {
              "outlinewidth": 0,
              "ticks": ""
             }
            },
            "type": "scatter"
           }
          ],
          "scatter3d": [
           {
            "line": {
             "colorbar": {
              "outlinewidth": 0,
              "ticks": ""
             }
            },
            "marker": {
             "colorbar": {
              "outlinewidth": 0,
              "ticks": ""
             }
            },
            "type": "scatter3d"
           }
          ],
          "scattercarpet": [
           {
            "marker": {
             "colorbar": {
              "outlinewidth": 0,
              "ticks": ""
             }
            },
            "type": "scattercarpet"
           }
          ],
          "scattergeo": [
           {
            "marker": {
             "colorbar": {
              "outlinewidth": 0,
              "ticks": ""
             }
            },
            "type": "scattergeo"
           }
          ],
          "scattergl": [
           {
            "marker": {
             "colorbar": {
              "outlinewidth": 0,
              "ticks": ""
             }
            },
            "type": "scattergl"
           }
          ],
          "scattermapbox": [
           {
            "marker": {
             "colorbar": {
              "outlinewidth": 0,
              "ticks": ""
             }
            },
            "type": "scattermapbox"
           }
          ],
          "scatterpolar": [
           {
            "marker": {
             "colorbar": {
              "outlinewidth": 0,
              "ticks": ""
             }
            },
            "type": "scatterpolar"
           }
          ],
          "scatterpolargl": [
           {
            "marker": {
             "colorbar": {
              "outlinewidth": 0,
              "ticks": ""
             }
            },
            "type": "scatterpolargl"
           }
          ],
          "scatterternary": [
           {
            "marker": {
             "colorbar": {
              "outlinewidth": 0,
              "ticks": ""
             }
            },
            "type": "scatterternary"
           }
          ],
          "surface": [
           {
            "colorbar": {
             "outlinewidth": 0,
             "ticks": ""
            },
            "colorscale": [
             [
              0,
              "#0d0887"
             ],
             [
              0.1111111111111111,
              "#46039f"
             ],
             [
              0.2222222222222222,
              "#7201a8"
             ],
             [
              0.3333333333333333,
              "#9c179e"
             ],
             [
              0.4444444444444444,
              "#bd3786"
             ],
             [
              0.5555555555555556,
              "#d8576b"
             ],
             [
              0.6666666666666666,
              "#ed7953"
             ],
             [
              0.7777777777777778,
              "#fb9f3a"
             ],
             [
              0.8888888888888888,
              "#fdca26"
             ],
             [
              1,
              "#f0f921"
             ]
            ],
            "type": "surface"
           }
          ],
          "table": [
           {
            "cells": {
             "fill": {
              "color": "#EBF0F8"
             },
             "line": {
              "color": "white"
             }
            },
            "header": {
             "fill": {
              "color": "#C8D4E3"
             },
             "line": {
              "color": "white"
             }
            },
            "type": "table"
           }
          ]
         },
         "layout": {
          "annotationdefaults": {
           "arrowcolor": "#2a3f5f",
           "arrowhead": 0,
           "arrowwidth": 1
          },
          "coloraxis": {
           "colorbar": {
            "outlinewidth": 0,
            "ticks": ""
           }
          },
          "colorscale": {
           "diverging": [
            [
             0,
             "#8e0152"
            ],
            [
             0.1,
             "#c51b7d"
            ],
            [
             0.2,
             "#de77ae"
            ],
            [
             0.3,
             "#f1b6da"
            ],
            [
             0.4,
             "#fde0ef"
            ],
            [
             0.5,
             "#f7f7f7"
            ],
            [
             0.6,
             "#e6f5d0"
            ],
            [
             0.7,
             "#b8e186"
            ],
            [
             0.8,
             "#7fbc41"
            ],
            [
             0.9,
             "#4d9221"
            ],
            [
             1,
             "#276419"
            ]
           ],
           "sequential": [
            [
             0,
             "#0d0887"
            ],
            [
             0.1111111111111111,
             "#46039f"
            ],
            [
             0.2222222222222222,
             "#7201a8"
            ],
            [
             0.3333333333333333,
             "#9c179e"
            ],
            [
             0.4444444444444444,
             "#bd3786"
            ],
            [
             0.5555555555555556,
             "#d8576b"
            ],
            [
             0.6666666666666666,
             "#ed7953"
            ],
            [
             0.7777777777777778,
             "#fb9f3a"
            ],
            [
             0.8888888888888888,
             "#fdca26"
            ],
            [
             1,
             "#f0f921"
            ]
           ],
           "sequentialminus": [
            [
             0,
             "#0d0887"
            ],
            [
             0.1111111111111111,
             "#46039f"
            ],
            [
             0.2222222222222222,
             "#7201a8"
            ],
            [
             0.3333333333333333,
             "#9c179e"
            ],
            [
             0.4444444444444444,
             "#bd3786"
            ],
            [
             0.5555555555555556,
             "#d8576b"
            ],
            [
             0.6666666666666666,
             "#ed7953"
            ],
            [
             0.7777777777777778,
             "#fb9f3a"
            ],
            [
             0.8888888888888888,
             "#fdca26"
            ],
            [
             1,
             "#f0f921"
            ]
           ]
          },
          "colorway": [
           "#636efa",
           "#EF553B",
           "#00cc96",
           "#ab63fa",
           "#FFA15A",
           "#19d3f3",
           "#FF6692",
           "#B6E880",
           "#FF97FF",
           "#FECB52"
          ],
          "font": {
           "color": "#2a3f5f"
          },
          "geo": {
           "bgcolor": "white",
           "lakecolor": "white",
           "landcolor": "#E5ECF6",
           "showlakes": true,
           "showland": true,
           "subunitcolor": "white"
          },
          "hoverlabel": {
           "align": "left"
          },
          "hovermode": "closest",
          "mapbox": {
           "style": "light"
          },
          "paper_bgcolor": "white",
          "plot_bgcolor": "#E5ECF6",
          "polar": {
           "angularaxis": {
            "gridcolor": "white",
            "linecolor": "white",
            "ticks": ""
           },
           "bgcolor": "#E5ECF6",
           "radialaxis": {
            "gridcolor": "white",
            "linecolor": "white",
            "ticks": ""
           }
          },
          "scene": {
           "xaxis": {
            "backgroundcolor": "#E5ECF6",
            "gridcolor": "white",
            "gridwidth": 2,
            "linecolor": "white",
            "showbackground": true,
            "ticks": "",
            "zerolinecolor": "white"
           },
           "yaxis": {
            "backgroundcolor": "#E5ECF6",
            "gridcolor": "white",
            "gridwidth": 2,
            "linecolor": "white",
            "showbackground": true,
            "ticks": "",
            "zerolinecolor": "white"
           },
           "zaxis": {
            "backgroundcolor": "#E5ECF6",
            "gridcolor": "white",
            "gridwidth": 2,
            "linecolor": "white",
            "showbackground": true,
            "ticks": "",
            "zerolinecolor": "white"
           }
          },
          "shapedefaults": {
           "line": {
            "color": "#2a3f5f"
           }
          },
          "ternary": {
           "aaxis": {
            "gridcolor": "white",
            "linecolor": "white",
            "ticks": ""
           },
           "baxis": {
            "gridcolor": "white",
            "linecolor": "white",
            "ticks": ""
           },
           "bgcolor": "#E5ECF6",
           "caxis": {
            "gridcolor": "white",
            "linecolor": "white",
            "ticks": ""
           }
          },
          "title": {
           "x": 0.05
          },
          "xaxis": {
           "automargin": true,
           "gridcolor": "white",
           "linecolor": "white",
           "ticks": "",
           "title": {
            "standoff": 15
           },
           "zerolinecolor": "white",
           "zerolinewidth": 2
          },
          "yaxis": {
           "automargin": true,
           "gridcolor": "white",
           "linecolor": "white",
           "ticks": "",
           "title": {
            "standoff": 15
           },
           "zerolinecolor": "white",
           "zerolinewidth": 2
          }
         }
        },
        "xaxis": {
         "anchor": "y",
         "domain": [
          0,
          1
         ],
         "tickmode": "array",
         "ticktext": [
          "04/\n06",
          "04/\n13",
          "04/\n20",
          "04/\n27",
          "05/\n04",
          "05/\n11",
          "05/\n18",
          "05/\n25",
          "06/\n01",
          "06/\n08",
          "06/\n15",
          "06/\n22",
          "06/\n29",
          "07/\n06",
          "07/\n13"
         ],
         "tickvals": [
          15,
          16,
          17,
          18,
          19,
          20,
          21,
          22,
          23,
          24,
          25,
          26,
          27,
          28,
          29
         ],
         "title": {
          "text": "week"
         }
        },
        "yaxis": {
         "anchor": "x",
         "domain": [
          0,
          1
         ],
         "title": {
          "text": "ISFLAG"
         }
        }
       }
      },
      "text/html": [
       "<div>\n",
       "        \n",
       "        \n",
       "            <div id=\"85ef619c-e5c0-42cb-be3d-72abdb4b076f\" class=\"plotly-graph-div\" style=\"height:525px; width:100%;\"></div>\n",
       "            <script type=\"text/javascript\">\n",
       "                require([\"plotly\"], function(Plotly) {\n",
       "                    window.PLOTLYENV=window.PLOTLYENV || {};\n",
       "                    \n",
       "                if (document.getElementById(\"85ef619c-e5c0-42cb-be3d-72abdb4b076f\")) {\n",
       "                    Plotly.newPlot(\n",
       "                        '85ef619c-e5c0-42cb-be3d-72abdb4b076f',\n",
       "                        [{\"hovertemplate\": \"subreddit_cat=business_economics<br>week=%{x}<br>ISFLAG=%{y}<extra></extra>\", \"legendgroup\": \"business_economics\", \"line\": {\"color\": \"#636efa\", \"dash\": \"solid\"}, \"mode\": \"lines\", \"name\": \"business_economics\", \"showlegend\": true, \"type\": \"scatter\", \"x\": [15, 16, 17, 18, 19, 20, 21, 22, 23, 24, 25, 26, 27, 28, 29], \"xaxis\": \"x\", \"y\": [45.0, 17.0, 44.0, 16.0, 13.0, 24.0, 24.0, 14.0, 17.0, 21.0, 20.0, 20.0, 15.0, 14.0, 4.0], \"yaxis\": \"y\"}, {\"hovertemplate\": \"subreddit_cat=coronavirus<br>week=%{x}<br>ISFLAG=%{y}<extra></extra>\", \"legendgroup\": \"coronavirus\", \"line\": {\"color\": \"#EF553B\", \"dash\": \"solid\"}, \"mode\": \"lines\", \"name\": \"coronavirus\", \"showlegend\": true, \"type\": \"scatter\", \"x\": [15, 16, 17, 18, 19, 20, 21, 22, 23, 24, 25, 26, 27, 28, 29], \"xaxis\": \"x\", \"y\": [826.0, 669.0, 519.0, 446.0, 441.0, 369.0, 449.0, 259.0, 219.0, 220.0, 191.0, 244.0, 231.0, 223.0, 10.0], \"yaxis\": \"y\"}, {\"hovertemplate\": \"subreddit_cat=generic_news<br>week=%{x}<br>ISFLAG=%{y}<extra></extra>\", \"legendgroup\": \"generic_news\", \"line\": {\"color\": \"#00cc96\", \"dash\": \"solid\"}, \"mode\": \"lines\", \"name\": \"generic_news\", \"showlegend\": true, \"type\": \"scatter\", \"x\": [15, 16, 17, 18, 19, 20, 21, 22, 23, 24, 25, 26, 27, 28, 29], \"xaxis\": \"x\", \"y\": [502.0, 495.0, 468.0, 413.0, 427.0, 334.0, 454.0, 350.0, 393.0, 176.0, 401.0, 442.0, 431.0, 42.0, 1.0], \"yaxis\": \"y\"}, {\"hovertemplate\": \"subreddit_cat=generic_politics<br>week=%{x}<br>ISFLAG=%{y}<extra></extra>\", \"legendgroup\": \"generic_politics\", \"line\": {\"color\": \"#ab63fa\", \"dash\": \"solid\"}, \"mode\": \"lines\", \"name\": \"generic_politics\", \"showlegend\": true, \"type\": \"scatter\", \"x\": [15, 16, 17, 18, 19, 20, 21, 22, 23, 24, 25, 26, 27, 28], \"xaxis\": \"x\", \"y\": [580.0, 576.0, 549.0, 666.0, 503.0, 526.0, 444.0, 480.0, 598.0, 104.0, 526.0, 480.0, 549.0, 9.0], \"yaxis\": \"y\"}, {\"hovertemplate\": \"subreddit_cat=ideological<br>week=%{x}<br>ISFLAG=%{y}<extra></extra>\", \"legendgroup\": \"ideological\", \"line\": {\"color\": \"#FFA15A\", \"dash\": \"solid\"}, \"mode\": \"lines\", \"name\": \"ideological\", \"showlegend\": true, \"type\": \"scatter\", \"x\": [15, 16, 17, 18, 19, 20, 21, 22, 23, 24, 25, 26, 27, 28, 29], \"xaxis\": \"x\", \"y\": [228.0, 155.0, 197.0, 160.0, 153.0, 174.0, 155.0, 177.0, 224.0, 161.0, 152.0, 172.0, 202.0, 149.0, 2.0], \"yaxis\": \"y\"}, {\"hovertemplate\": \"subreddit_cat=local<br>week=%{x}<br>ISFLAG=%{y}<extra></extra>\", \"legendgroup\": \"local\", \"line\": {\"color\": \"#19d3f3\", \"dash\": \"solid\"}, \"mode\": \"lines\", \"name\": \"local\", \"showlegend\": true, \"type\": \"scatter\", \"x\": [15, 16, 17, 18, 19, 20, 21, 22, 23, 24, 25, 26, 27, 28, 29], \"xaxis\": \"x\", \"y\": [262.0, 257.0, 213.0, 206.0, 228.0, 219.0, 218.0, 204.0, 219.0, 202.0, 226.0, 226.0, 199.0, 181.0, 6.0], \"yaxis\": \"y\"}, {\"hovertemplate\": \"subreddit_cat=science_health<br>week=%{x}<br>ISFLAG=%{y}<extra></extra>\", \"legendgroup\": \"science_health\", \"line\": {\"color\": \"#FF6692\", \"dash\": \"solid\"}, \"mode\": \"lines\", \"name\": \"science_health\", \"showlegend\": true, \"type\": \"scatter\", \"x\": [15, 16, 17, 18, 19, 20, 21, 22, 23, 24, 25, 26, 27, 28], \"xaxis\": \"x\", \"y\": [59.0, 47.0, 60.0, 31.0, 40.0, 52.0, 58.0, 43.0, 41.0, 65.0, 55.0, 38.0, 54.0, 47.0], \"yaxis\": \"y\"}, {\"hovertemplate\": \"subreddit_cat=technology<br>week=%{x}<br>ISFLAG=%{y}<extra></extra>\", \"legendgroup\": \"technology\", \"line\": {\"color\": \"#B6E880\", \"dash\": \"solid\"}, \"mode\": \"lines\", \"name\": \"technology\", \"showlegend\": true, \"type\": \"scatter\", \"x\": [15, 16, 17, 18, 19, 20, 21, 22, 23, 24, 25, 26, 27, 28, 29], \"xaxis\": \"x\", \"y\": [64.0, 66.0, 75.0, 61.0, 44.0, 63.0, 94.0, 71.0, 72.0, 51.0, 80.0, 69.0, 103.0, 77.0, 3.0], \"yaxis\": \"y\"}],\n",
       "                        {\"legend\": {\"title\": {\"text\": \"subreddit_cat\"}, \"tracegroupgap\": 0}, \"margin\": {\"t\": 60}, \"template\": {\"data\": {\"bar\": [{\"error_x\": {\"color\": \"#2a3f5f\"}, \"error_y\": {\"color\": \"#2a3f5f\"}, \"marker\": {\"line\": {\"color\": \"#E5ECF6\", \"width\": 0.5}}, \"type\": \"bar\"}], \"barpolar\": [{\"marker\": {\"line\": {\"color\": \"#E5ECF6\", \"width\": 0.5}}, \"type\": \"barpolar\"}], \"carpet\": [{\"aaxis\": {\"endlinecolor\": \"#2a3f5f\", \"gridcolor\": \"white\", \"linecolor\": \"white\", \"minorgridcolor\": \"white\", \"startlinecolor\": \"#2a3f5f\"}, \"baxis\": {\"endlinecolor\": \"#2a3f5f\", \"gridcolor\": \"white\", \"linecolor\": \"white\", \"minorgridcolor\": \"white\", \"startlinecolor\": \"#2a3f5f\"}, \"type\": \"carpet\"}], \"choropleth\": [{\"colorbar\": {\"outlinewidth\": 0, \"ticks\": \"\"}, \"type\": \"choropleth\"}], \"contour\": [{\"colorbar\": {\"outlinewidth\": 0, \"ticks\": \"\"}, \"colorscale\": [[0.0, \"#0d0887\"], [0.1111111111111111, \"#46039f\"], [0.2222222222222222, \"#7201a8\"], [0.3333333333333333, \"#9c179e\"], [0.4444444444444444, \"#bd3786\"], [0.5555555555555556, \"#d8576b\"], [0.6666666666666666, \"#ed7953\"], [0.7777777777777778, \"#fb9f3a\"], [0.8888888888888888, \"#fdca26\"], [1.0, \"#f0f921\"]], \"type\": \"contour\"}], \"contourcarpet\": [{\"colorbar\": {\"outlinewidth\": 0, \"ticks\": \"\"}, \"type\": \"contourcarpet\"}], \"heatmap\": [{\"colorbar\": {\"outlinewidth\": 0, \"ticks\": \"\"}, \"colorscale\": [[0.0, \"#0d0887\"], [0.1111111111111111, \"#46039f\"], [0.2222222222222222, \"#7201a8\"], [0.3333333333333333, \"#9c179e\"], [0.4444444444444444, \"#bd3786\"], [0.5555555555555556, \"#d8576b\"], [0.6666666666666666, \"#ed7953\"], [0.7777777777777778, \"#fb9f3a\"], [0.8888888888888888, \"#fdca26\"], [1.0, \"#f0f921\"]], \"type\": \"heatmap\"}], \"heatmapgl\": [{\"colorbar\": {\"outlinewidth\": 0, \"ticks\": \"\"}, \"colorscale\": [[0.0, \"#0d0887\"], [0.1111111111111111, \"#46039f\"], [0.2222222222222222, \"#7201a8\"], [0.3333333333333333, \"#9c179e\"], [0.4444444444444444, \"#bd3786\"], [0.5555555555555556, \"#d8576b\"], [0.6666666666666666, \"#ed7953\"], [0.7777777777777778, \"#fb9f3a\"], [0.8888888888888888, \"#fdca26\"], [1.0, \"#f0f921\"]], \"type\": \"heatmapgl\"}], \"histogram\": [{\"marker\": {\"colorbar\": {\"outlinewidth\": 0, \"ticks\": \"\"}}, \"type\": \"histogram\"}], \"histogram2d\": [{\"colorbar\": {\"outlinewidth\": 0, \"ticks\": \"\"}, \"colorscale\": [[0.0, \"#0d0887\"], [0.1111111111111111, \"#46039f\"], [0.2222222222222222, \"#7201a8\"], [0.3333333333333333, \"#9c179e\"], [0.4444444444444444, \"#bd3786\"], [0.5555555555555556, \"#d8576b\"], [0.6666666666666666, \"#ed7953\"], [0.7777777777777778, \"#fb9f3a\"], [0.8888888888888888, \"#fdca26\"], [1.0, \"#f0f921\"]], \"type\": \"histogram2d\"}], \"histogram2dcontour\": [{\"colorbar\": {\"outlinewidth\": 0, \"ticks\": \"\"}, \"colorscale\": [[0.0, \"#0d0887\"], [0.1111111111111111, \"#46039f\"], [0.2222222222222222, \"#7201a8\"], [0.3333333333333333, \"#9c179e\"], [0.4444444444444444, \"#bd3786\"], [0.5555555555555556, \"#d8576b\"], [0.6666666666666666, \"#ed7953\"], [0.7777777777777778, \"#fb9f3a\"], [0.8888888888888888, \"#fdca26\"], [1.0, \"#f0f921\"]], \"type\": \"histogram2dcontour\"}], \"mesh3d\": [{\"colorbar\": {\"outlinewidth\": 0, \"ticks\": \"\"}, \"type\": \"mesh3d\"}], \"parcoords\": [{\"line\": {\"colorbar\": {\"outlinewidth\": 0, \"ticks\": \"\"}}, \"type\": \"parcoords\"}], \"pie\": [{\"automargin\": true, \"type\": \"pie\"}], \"scatter\": [{\"marker\": {\"colorbar\": {\"outlinewidth\": 0, \"ticks\": \"\"}}, \"type\": \"scatter\"}], \"scatter3d\": [{\"line\": {\"colorbar\": {\"outlinewidth\": 0, \"ticks\": \"\"}}, \"marker\": {\"colorbar\": {\"outlinewidth\": 0, \"ticks\": \"\"}}, \"type\": \"scatter3d\"}], \"scattercarpet\": [{\"marker\": {\"colorbar\": {\"outlinewidth\": 0, \"ticks\": \"\"}}, \"type\": \"scattercarpet\"}], \"scattergeo\": [{\"marker\": {\"colorbar\": {\"outlinewidth\": 0, \"ticks\": \"\"}}, \"type\": \"scattergeo\"}], \"scattergl\": [{\"marker\": {\"colorbar\": {\"outlinewidth\": 0, \"ticks\": \"\"}}, \"type\": \"scattergl\"}], \"scattermapbox\": [{\"marker\": {\"colorbar\": {\"outlinewidth\": 0, \"ticks\": \"\"}}, \"type\": \"scattermapbox\"}], \"scatterpolar\": [{\"marker\": {\"colorbar\": {\"outlinewidth\": 0, \"ticks\": \"\"}}, \"type\": \"scatterpolar\"}], \"scatterpolargl\": [{\"marker\": {\"colorbar\": {\"outlinewidth\": 0, \"ticks\": \"\"}}, \"type\": \"scatterpolargl\"}], \"scatterternary\": [{\"marker\": {\"colorbar\": {\"outlinewidth\": 0, \"ticks\": \"\"}}, \"type\": \"scatterternary\"}], \"surface\": [{\"colorbar\": {\"outlinewidth\": 0, \"ticks\": \"\"}, \"colorscale\": [[0.0, \"#0d0887\"], [0.1111111111111111, \"#46039f\"], [0.2222222222222222, \"#7201a8\"], [0.3333333333333333, \"#9c179e\"], [0.4444444444444444, \"#bd3786\"], [0.5555555555555556, \"#d8576b\"], [0.6666666666666666, \"#ed7953\"], [0.7777777777777778, \"#fb9f3a\"], [0.8888888888888888, \"#fdca26\"], [1.0, \"#f0f921\"]], \"type\": \"surface\"}], \"table\": [{\"cells\": {\"fill\": {\"color\": \"#EBF0F8\"}, \"line\": {\"color\": \"white\"}}, \"header\": {\"fill\": {\"color\": \"#C8D4E3\"}, \"line\": {\"color\": \"white\"}}, \"type\": \"table\"}]}, \"layout\": {\"annotationdefaults\": {\"arrowcolor\": \"#2a3f5f\", \"arrowhead\": 0, \"arrowwidth\": 1}, \"coloraxis\": {\"colorbar\": {\"outlinewidth\": 0, \"ticks\": \"\"}}, \"colorscale\": {\"diverging\": [[0, \"#8e0152\"], [0.1, \"#c51b7d\"], [0.2, \"#de77ae\"], [0.3, \"#f1b6da\"], [0.4, \"#fde0ef\"], [0.5, \"#f7f7f7\"], [0.6, \"#e6f5d0\"], [0.7, \"#b8e186\"], [0.8, \"#7fbc41\"], [0.9, \"#4d9221\"], [1, \"#276419\"]], \"sequential\": [[0.0, \"#0d0887\"], [0.1111111111111111, \"#46039f\"], [0.2222222222222222, \"#7201a8\"], [0.3333333333333333, \"#9c179e\"], [0.4444444444444444, \"#bd3786\"], [0.5555555555555556, \"#d8576b\"], [0.6666666666666666, \"#ed7953\"], [0.7777777777777778, \"#fb9f3a\"], [0.8888888888888888, \"#fdca26\"], [1.0, \"#f0f921\"]], \"sequentialminus\": [[0.0, \"#0d0887\"], [0.1111111111111111, \"#46039f\"], [0.2222222222222222, \"#7201a8\"], [0.3333333333333333, \"#9c179e\"], [0.4444444444444444, \"#bd3786\"], [0.5555555555555556, \"#d8576b\"], [0.6666666666666666, \"#ed7953\"], [0.7777777777777778, \"#fb9f3a\"], [0.8888888888888888, \"#fdca26\"], [1.0, \"#f0f921\"]]}, \"colorway\": [\"#636efa\", \"#EF553B\", \"#00cc96\", \"#ab63fa\", \"#FFA15A\", \"#19d3f3\", \"#FF6692\", \"#B6E880\", \"#FF97FF\", \"#FECB52\"], \"font\": {\"color\": \"#2a3f5f\"}, \"geo\": {\"bgcolor\": \"white\", \"lakecolor\": \"white\", \"landcolor\": \"#E5ECF6\", \"showlakes\": true, \"showland\": true, \"subunitcolor\": \"white\"}, \"hoverlabel\": {\"align\": \"left\"}, \"hovermode\": \"closest\", \"mapbox\": {\"style\": \"light\"}, \"paper_bgcolor\": \"white\", \"plot_bgcolor\": \"#E5ECF6\", \"polar\": {\"angularaxis\": {\"gridcolor\": \"white\", \"linecolor\": \"white\", \"ticks\": \"\"}, \"bgcolor\": \"#E5ECF6\", \"radialaxis\": {\"gridcolor\": \"white\", \"linecolor\": \"white\", \"ticks\": \"\"}}, \"scene\": {\"xaxis\": {\"backgroundcolor\": \"#E5ECF6\", \"gridcolor\": \"white\", \"gridwidth\": 2, \"linecolor\": \"white\", \"showbackground\": true, \"ticks\": \"\", \"zerolinecolor\": \"white\"}, \"yaxis\": {\"backgroundcolor\": \"#E5ECF6\", \"gridcolor\": \"white\", \"gridwidth\": 2, \"linecolor\": \"white\", \"showbackground\": true, \"ticks\": \"\", \"zerolinecolor\": \"white\"}, \"zaxis\": {\"backgroundcolor\": \"#E5ECF6\", \"gridcolor\": \"white\", \"gridwidth\": 2, \"linecolor\": \"white\", \"showbackground\": true, \"ticks\": \"\", \"zerolinecolor\": \"white\"}}, \"shapedefaults\": {\"line\": {\"color\": \"#2a3f5f\"}}, \"ternary\": {\"aaxis\": {\"gridcolor\": \"white\", \"linecolor\": \"white\", \"ticks\": \"\"}, \"baxis\": {\"gridcolor\": \"white\", \"linecolor\": \"white\", \"ticks\": \"\"}, \"bgcolor\": \"#E5ECF6\", \"caxis\": {\"gridcolor\": \"white\", \"linecolor\": \"white\", \"ticks\": \"\"}}, \"title\": {\"x\": 0.05}, \"xaxis\": {\"automargin\": true, \"gridcolor\": \"white\", \"linecolor\": \"white\", \"ticks\": \"\", \"title\": {\"standoff\": 15}, \"zerolinecolor\": \"white\", \"zerolinewidth\": 2}, \"yaxis\": {\"automargin\": true, \"gridcolor\": \"white\", \"linecolor\": \"white\", \"ticks\": \"\", \"title\": {\"standoff\": 15}, \"zerolinecolor\": \"white\", \"zerolinewidth\": 2}}}, \"xaxis\": {\"anchor\": \"y\", \"domain\": [0.0, 1.0], \"tickmode\": \"array\", \"ticktext\": [\"04/\\n06\", \"04/\\n13\", \"04/\\n20\", \"04/\\n27\", \"05/\\n04\", \"05/\\n11\", \"05/\\n18\", \"05/\\n25\", \"06/\\n01\", \"06/\\n08\", \"06/\\n15\", \"06/\\n22\", \"06/\\n29\", \"07/\\n06\", \"07/\\n13\"], \"tickvals\": [15, 16, 17, 18, 19, 20, 21, 22, 23, 24, 25, 26, 27, 28, 29], \"title\": {\"text\": \"week\"}}, \"yaxis\": {\"anchor\": \"x\", \"domain\": [0.0, 1.0], \"title\": {\"text\": \"ISFLAG\"}}},\n",
       "                        {\"responsive\": true}\n",
       "                    ).then(function(){\n",
       "                            \n",
       "var gd = document.getElementById('85ef619c-e5c0-42cb-be3d-72abdb4b076f');\n",
       "var x = new MutationObserver(function (mutations, observer) {{\n",
       "        var display = window.getComputedStyle(gd).display;\n",
       "        if (!display || display === 'none') {{\n",
       "            console.log([gd, 'removed!']);\n",
       "            Plotly.purge(gd);\n",
       "            observer.disconnect();\n",
       "        }}\n",
       "}});\n",
       "\n",
       "// Listen for the removal of the full notebook cells\n",
       "var notebookContainer = gd.closest('#notebook-container');\n",
       "if (notebookContainer) {{\n",
       "    x.observe(notebookContainer, {childList: true});\n",
       "}}\n",
       "\n",
       "// Listen for the clearing of the current output cell\n",
       "var outputEl = gd.closest('.output');\n",
       "if (outputEl) {{\n",
       "    x.observe(outputEl, {childList: true});\n",
       "}}\n",
       "\n",
       "                        })\n",
       "                };\n",
       "                });\n",
       "            </script>\n",
       "        </div>"
      ]
     },
     "metadata": {},
     "output_type": "display_data"
    }
   ],
   "source": [
    "\n",
    "subr_line_all.update_layout(xaxis = dict(tickmode = 'array',\n",
    "                                         tickvals = tickvals0,\n",
    "                                         ticktext = ticklabs0\n",
    "                                         ))"
   ]
  },
  {
   "cell_type": "code",
   "execution_count": 184,
   "metadata": {},
   "outputs": [
    {
     "data": {
      "text/plain": [
       "['__class__',\n",
       " '__contains__',\n",
       " '__delattr__',\n",
       " '__dict__',\n",
       " '__dir__',\n",
       " '__doc__',\n",
       " '__eq__',\n",
       " '__format__',\n",
       " '__ge__',\n",
       " '__getattribute__',\n",
       " '__getitem__',\n",
       " '__gt__',\n",
       " '__hash__',\n",
       " '__init__',\n",
       " '__init_subclass__',\n",
       " '__iter__',\n",
       " '__le__',\n",
       " '__lt__',\n",
       " '__module__',\n",
       " '__ne__',\n",
       " '__new__',\n",
       " '__reduce__',\n",
       " '__reduce_ex__',\n",
       " '__repr__',\n",
       " '__setattr__',\n",
       " '__setitem__',\n",
       " '__sizeof__',\n",
       " '__str__',\n",
       " '__subclasshook__',\n",
       " '__weakref__',\n",
       " '_add_annotation_like',\n",
       " '_allow_disable_validation',\n",
       " '_animation_duration_validator',\n",
       " '_animation_easing_validator',\n",
       " '_batch_layout_edits',\n",
       " '_batch_trace_edits',\n",
       " '_bracket_re',\n",
       " '_build_dispatch_plan',\n",
       " '_build_update_params_from_batch',\n",
       " '_config',\n",
       " '_data',\n",
       " '_data_defaults',\n",
       " '_data_objs',\n",
       " '_data_validator',\n",
       " '_dispatch_layout_change_callbacks',\n",
       " '_dispatch_trace_change_callbacks',\n",
       " '_frame_objs',\n",
       " '_frames_validator',\n",
       " '_get_child_prop_defaults',\n",
       " '_get_child_props',\n",
       " '_grid_ref',\n",
       " '_grid_str',\n",
       " '_in_batch_mode',\n",
       " '_index_is',\n",
       " '_init_child_props',\n",
       " '_initialize_layout_template',\n",
       " '_ipython_display_',\n",
       " '_is_dict_list',\n",
       " '_is_key_path_compatible',\n",
       " '_layout',\n",
       " '_layout_defaults',\n",
       " '_layout_obj',\n",
       " '_layout_validator',\n",
       " '_normalize_trace_indexes',\n",
       " '_perform_batch_animate',\n",
       " '_perform_plotly_relayout',\n",
       " '_perform_plotly_restyle',\n",
       " '_perform_plotly_update',\n",
       " '_perform_select_traces',\n",
       " '_perform_update',\n",
       " '_px_trendlines',\n",
       " '_raise_invalid_rows_cols',\n",
       " '_relayout_child',\n",
       " '_restyle_child',\n",
       " '_select_annotations_like',\n",
       " '_select_layout_subplots_by_prefix',\n",
       " '_selector_matches',\n",
       " '_send_addTraces_msg',\n",
       " '_send_animate_msg',\n",
       " '_send_deleteTraces_msg',\n",
       " '_send_moveTraces_msg',\n",
       " '_send_relayout_msg',\n",
       " '_send_restyle_msg',\n",
       " '_send_update_msg',\n",
       " '_set_in',\n",
       " '_set_trace_grid_position',\n",
       " '_set_trace_uid',\n",
       " '_str_to_dict_path',\n",
       " '_to_ordered_dict',\n",
       " '_valid_underscore_properties',\n",
       " '_validate',\n",
       " '_validate_get_grid_ref',\n",
       " '_validate_rows_cols',\n",
       " 'add_annotation',\n",
       " 'add_area',\n",
       " 'add_bar',\n",
       " 'add_barpolar',\n",
       " 'add_box',\n",
       " 'add_candlestick',\n",
       " 'add_carpet',\n",
       " 'add_choropleth',\n",
       " 'add_choroplethmapbox',\n",
       " 'add_cone',\n",
       " 'add_contour',\n",
       " 'add_contourcarpet',\n",
       " 'add_densitymapbox',\n",
       " 'add_funnel',\n",
       " 'add_funnelarea',\n",
       " 'add_heatmap',\n",
       " 'add_heatmapgl',\n",
       " 'add_histogram',\n",
       " 'add_histogram2d',\n",
       " 'add_histogram2dcontour',\n",
       " 'add_image',\n",
       " 'add_indicator',\n",
       " 'add_isosurface',\n",
       " 'add_layout_image',\n",
       " 'add_mesh3d',\n",
       " 'add_ohlc',\n",
       " 'add_parcats',\n",
       " 'add_parcoords',\n",
       " 'add_pie',\n",
       " 'add_pointcloud',\n",
       " 'add_sankey',\n",
       " 'add_scatter',\n",
       " 'add_scatter3d',\n",
       " 'add_scattercarpet',\n",
       " 'add_scattergeo',\n",
       " 'add_scattergl',\n",
       " 'add_scattermapbox',\n",
       " 'add_scatterpolar',\n",
       " 'add_scatterpolargl',\n",
       " 'add_scatterternary',\n",
       " 'add_shape',\n",
       " 'add_splom',\n",
       " 'add_streamtube',\n",
       " 'add_sunburst',\n",
       " 'add_surface',\n",
       " 'add_table',\n",
       " 'add_trace',\n",
       " 'add_traces',\n",
       " 'add_treemap',\n",
       " 'add_violin',\n",
       " 'add_volume',\n",
       " 'add_waterfall',\n",
       " 'append_trace',\n",
       " 'batch_animate',\n",
       " 'batch_update',\n",
       " 'data',\n",
       " 'for_each_annotation',\n",
       " 'for_each_coloraxis',\n",
       " 'for_each_geo',\n",
       " 'for_each_layout_image',\n",
       " 'for_each_mapbox',\n",
       " 'for_each_polar',\n",
       " 'for_each_scene',\n",
       " 'for_each_shape',\n",
       " 'for_each_ternary',\n",
       " 'for_each_trace',\n",
       " 'for_each_xaxis',\n",
       " 'for_each_yaxis',\n",
       " 'frames',\n",
       " 'get_subplot',\n",
       " 'layout',\n",
       " 'plotly_relayout',\n",
       " 'plotly_restyle',\n",
       " 'plotly_update',\n",
       " 'pop',\n",
       " 'print_grid',\n",
       " 'select_annotations',\n",
       " 'select_coloraxes',\n",
       " 'select_geos',\n",
       " 'select_layout_images',\n",
       " 'select_mapboxes',\n",
       " 'select_polars',\n",
       " 'select_scenes',\n",
       " 'select_shapes',\n",
       " 'select_ternaries',\n",
       " 'select_traces',\n",
       " 'select_xaxes',\n",
       " 'select_yaxes',\n",
       " 'show',\n",
       " 'to_dict',\n",
       " 'to_html',\n",
       " 'to_image',\n",
       " 'to_json',\n",
       " 'to_ordered_dict',\n",
       " 'to_plotly_json',\n",
       " 'update',\n",
       " 'update_annotations',\n",
       " 'update_coloraxes',\n",
       " 'update_geos',\n",
       " 'update_layout',\n",
       " 'update_layout_images',\n",
       " 'update_mapboxes',\n",
       " 'update_polars',\n",
       " 'update_scenes',\n",
       " 'update_shapes',\n",
       " 'update_ternaries',\n",
       " 'update_traces',\n",
       " 'update_xaxes',\n",
       " 'update_yaxes',\n",
       " 'write_html',\n",
       " 'write_image',\n",
       " 'write_json']"
      ]
     },
     "execution_count": 184,
     "metadata": {},
     "output_type": "execute_result"
    }
   ],
   "source": [
    "dir(subr_line_all)"
   ]
  },
  {
   "cell_type": "code",
   "execution_count": 188,
   "metadata": {},
   "outputs": [
    {
     "data": {
      "text/plain": [
       "array([25, 26, 27, 28, 29])"
      ]
     },
     "execution_count": 188,
     "metadata": {},
     "output_type": "execute_result"
    }
   ],
   "source": [
    "subr_line_all.data[0].x"
   ]
  },
  {
   "cell_type": "code",
   "execution_count": null,
   "metadata": {},
   "outputs": [],
   "source": []
  },
  {
   "cell_type": "code",
   "execution_count": null,
   "metadata": {},
   "outputs": [],
   "source": []
  },
  {
   "cell_type": "code",
   "execution_count": 117,
   "metadata": {},
   "outputs": [
    {
     "data": {
      "application/vnd.plotly.v1+json": {
       "config": {
        "plotlyServerURL": "https://plot.ly"
       },
       "data": [
        {
         "branchvalues": "total",
         "customdata": [
          [
           "generic_politics"
          ],
          [
           "local"
          ],
          [
           "ideological"
          ],
          [
           "coronavirus"
          ],
          [
           "coronavirus"
          ],
          [
           "local"
          ],
          [
           "local"
          ],
          [
           "coronavirus"
          ],
          [
           "ideological"
          ],
          [
           "coronavirus"
          ],
          [
           "coronavirus"
          ],
          [
           "coronavirus"
          ],
          [
           "coronavirus"
          ],
          [
           "technology"
          ],
          [
           "science_health"
          ],
          [
           "ideological"
          ],
          [
           "business_economics"
          ],
          [
           "coronavirus"
          ],
          [
           "coronavirus"
          ],
          [
           "coronavirus"
          ],
          [
           "ideological"
          ],
          [
           "ideological"
          ],
          [
           "science_health"
          ],
          [
           "ideological"
          ],
          [
           "local"
          ],
          [
           "ideological"
          ],
          [
           "generic_politics"
          ],
          [
           "technology"
          ],
          [
           "ideological"
          ],
          [
           "ideological"
          ],
          [
           "local"
          ],
          [
           "local"
          ],
          [
           "science_health"
          ],
          [
           "local"
          ],
          [
           "generic_news"
          ],
          [
           "business_economics"
          ],
          [
           "ideological"
          ],
          [
           "local"
          ],
          [
           "local"
          ],
          [
           "generic_news"
          ],
          [
           "ideological"
          ],
          [
           "generic_news"
          ],
          [
           "local"
          ],
          [
           "technology"
          ],
          [
           "ideological"
          ],
          [
           "ideological"
          ],
          [
           "generic_news"
          ],
          [
           "local"
          ],
          [
           "generic_news"
          ],
          [
           "local"
          ],
          [
           "local"
          ],
          [
           "local"
          ],
          [
           "generic_politics"
          ],
          [
           "science_health"
          ],
          [
           "local"
          ],
          [
           "local"
          ],
          [
           "ideological"
          ],
          [
           "technology"
          ],
          [
           "local"
          ],
          [
           "ideological"
          ],
          [
           "ideological"
          ],
          [
           "local"
          ],
          [
           "local"
          ],
          [
           "ideological"
          ],
          [
           "science_health"
          ],
          [
           "business_economics"
          ],
          [
           "science_health"
          ],
          [
           "ideological"
          ],
          [
           "ideological"
          ],
          [
           "local"
          ],
          [
           "local"
          ],
          [
           "local"
          ],
          [
           "generic_news"
          ],
          [
           "local"
          ],
          [
           "local"
          ],
          [
           "local"
          ],
          [
           "local"
          ],
          [
           "ideological"
          ],
          [
           "local"
          ],
          [
           "local"
          ],
          [
           "technology"
          ],
          [
           "technology"
          ],
          [
           "generic_news"
          ],
          [
           "local"
          ],
          [
           "generic_news"
          ],
          [
           "generic_politics"
          ],
          [
           "local"
          ],
          [
           "generic_politics"
          ],
          [
           "business_economics"
          ],
          [
           "coronavirus"
          ],
          [
           "generic_news"
          ],
          [
           "generic_politics"
          ],
          [
           "ideological"
          ],
          [
           "local"
          ],
          [
           "science_health"
          ],
          [
           "technology"
          ]
         ],
         "domain": {
          "x": [
           0,
           1
          ],
          "y": [
           0,
           1
          ]
         },
         "hovertemplate": "subreddit_cat=%{customdata[0]}<br>labels=%{label}<br>ISFLAG=%{value}<br>parent=%{parent}<br>id=%{id}<extra></extra>",
         "ids": [
          "generic_politics/AmericanPolitics",
          "local/Austin",
          "ideological/BreadTube",
          "coronavirus/COVID19",
          "coronavirus/CanadaCoronavirus",
          "local/CanadaPolitics",
          "local/China",
          "coronavirus/China_Flu",
          "ideological/Conservative",
          "coronavirus/CoronaVirusTX",
          "coronavirus/Coronavirus",
          "coronavirus/CoronavirusCA",
          "coronavirus/CoronavirusDownunder",
          "technology/Futurology",
          "science_health/EverythingScience",
          "ideological/EnoughTrumpSpam",
          "business_economics/Economics",
          "coronavirus/CoronavirusUS",
          "coronavirus/CoronavirusUK",
          "coronavirus/CoronavirusRecession",
          "ideological/DrainTheSwamp",
          "ideological/Libertarian",
          "science_health/Health",
          "ideological/Impeach_Trump",
          "local/IndiaSpeaks",
          "ideological/LateStageCapitalism",
          "generic_politics/anime_titties",
          "technology/apple",
          "ideological/atheism",
          "ideological/WayOfTheBern",
          "local/bayarea",
          "local/canada",
          "science_health/collapse",
          "local/australia",
          "generic_news/UpliftingNews",
          "business_economics/business",
          "ideological/The_Mueller",
          "local/LosAngeles",
          "local/Michigan",
          "generic_news/NewsOfTheStupid",
          "ideological/POTUSWatch",
          "generic_news/USNEWS",
          "local/Sino",
          "technology/TechNewsToday",
          "ideological/TheNewRight",
          "ideological/Republican",
          "generic_news/news",
          "local/newzealand",
          "generic_news/nottheonion",
          "local/nyc",
          "local/ontario",
          "local/ottawa",
          "generic_politics/politics",
          "science_health/science",
          "local/singapore",
          "local/newjersey",
          "ideological/socialism",
          "technology/tech",
          "local/pakistan",
          "ideological/skeptic",
          "ideological/neoliberal",
          "local/maryland",
          "local/metacanada",
          "ideological/conspiracy",
          "science_health/dataisbeautiful",
          "business_economics/economy",
          "science_health/environment",
          "ideological/esist",
          "ideological/conservatives",
          "local/florida",
          "local/india",
          "local/indianews",
          "generic_news/inthenews",
          "local/ireland",
          "local/japan",
          "local/europe",
          "local/ukpolitics",
          "ideological/trump",
          "local/toronto",
          "local/texas",
          "technology/technews",
          "technology/technology",
          "generic_news/worldnews",
          "local/unitedkingdom",
          "generic_news/usanews",
          "generic_politics/uspolitics",
          "local/vancouver",
          "generic_politics/worldpolitics",
          "business_economics",
          "coronavirus",
          "generic_news",
          "generic_politics",
          "ideological",
          "local",
          "science_health",
          "technology"
         ],
         "labels": [
          "AmericanPolitics",
          "Austin",
          "BreadTube",
          "COVID19",
          "CanadaCoronavirus",
          "CanadaPolitics",
          "China",
          "China_Flu",
          "Conservative",
          "CoronaVirusTX",
          "Coronavirus",
          "CoronavirusCA",
          "CoronavirusDownunder",
          "Futurology",
          "EverythingScience",
          "EnoughTrumpSpam",
          "Economics",
          "CoronavirusUS",
          "CoronavirusUK",
          "CoronavirusRecession",
          "DrainTheSwamp",
          "Libertarian",
          "Health",
          "Impeach_Trump",
          "IndiaSpeaks",
          "LateStageCapitalism",
          "anime_titties",
          "apple",
          "atheism",
          "WayOfTheBern",
          "bayarea",
          "canada",
          "collapse",
          "australia",
          "UpliftingNews",
          "business",
          "The_Mueller",
          "LosAngeles",
          "Michigan",
          "NewsOfTheStupid",
          "POTUSWatch",
          "USNEWS",
          "Sino",
          "TechNewsToday",
          "TheNewRight",
          "Republican",
          "news",
          "newzealand",
          "nottheonion",
          "nyc",
          "ontario",
          "ottawa",
          "politics",
          "science",
          "singapore",
          "newjersey",
          "socialism",
          "tech",
          "pakistan",
          "skeptic",
          "neoliberal",
          "maryland",
          "metacanada",
          "conspiracy",
          "dataisbeautiful",
          "economy",
          "environment",
          "esist",
          "conservatives",
          "florida",
          "india",
          "indianews",
          "inthenews",
          "ireland",
          "japan",
          "europe",
          "ukpolitics",
          "trump",
          "toronto",
          "texas",
          "technews",
          "technology",
          "worldnews",
          "unitedkingdom",
          "usanews",
          "uspolitics",
          "vancouver",
          "worldpolitics",
          "business_economics",
          "coronavirus",
          "generic_news",
          "generic_politics",
          "ideological",
          "local",
          "science_health",
          "technology"
         ],
         "marker": {
          "colors": [
           "#636efa",
           "#EF553B",
           "#00cc96",
           "#ab63fa",
           "#ab63fa",
           "#EF553B",
           "#EF553B",
           "#ab63fa",
           "#00cc96",
           "#ab63fa",
           "#ab63fa",
           "#ab63fa",
           "#ab63fa",
           "#FFA15A",
           "#19d3f3",
           "#00cc96",
           "#FF6692",
           "#ab63fa",
           "#ab63fa",
           "#ab63fa",
           "#00cc96",
           "#00cc96",
           "#19d3f3",
           "#00cc96",
           "#EF553B",
           "#00cc96",
           "#636efa",
           "#FFA15A",
           "#00cc96",
           "#00cc96",
           "#EF553B",
           "#EF553B",
           "#19d3f3",
           "#EF553B",
           "#B6E880",
           "#FF6692",
           "#00cc96",
           "#EF553B",
           "#EF553B",
           "#B6E880",
           "#00cc96",
           "#B6E880",
           "#EF553B",
           "#FFA15A",
           "#00cc96",
           "#00cc96",
           "#B6E880",
           "#EF553B",
           "#B6E880",
           "#EF553B",
           "#EF553B",
           "#EF553B",
           "#636efa",
           "#19d3f3",
           "#EF553B",
           "#EF553B",
           "#00cc96",
           "#FFA15A",
           "#EF553B",
           "#00cc96",
           "#00cc96",
           "#EF553B",
           "#EF553B",
           "#00cc96",
           "#19d3f3",
           "#FF6692",
           "#19d3f3",
           "#00cc96",
           "#00cc96",
           "#EF553B",
           "#EF553B",
           "#EF553B",
           "#B6E880",
           "#EF553B",
           "#EF553B",
           "#EF553B",
           "#EF553B",
           "#00cc96",
           "#EF553B",
           "#EF553B",
           "#FFA15A",
           "#FFA15A",
           "#B6E880",
           "#EF553B",
           "#B6E880",
           "#636efa",
           "#EF553B",
           "#636efa",
           "#FF6692",
           "#ab63fa",
           "#B6E880",
           "#636efa",
           "#00cc96",
           "#EF553B",
           "#19d3f3",
           "#FFA15A"
          ]
         },
         "name": "",
         "parents": [
          "generic_politics",
          "local",
          "ideological",
          "coronavirus",
          "coronavirus",
          "local",
          "local",
          "coronavirus",
          "ideological",
          "coronavirus",
          "coronavirus",
          "coronavirus",
          "coronavirus",
          "technology",
          "science_health",
          "ideological",
          "business_economics",
          "coronavirus",
          "coronavirus",
          "coronavirus",
          "ideological",
          "ideological",
          "science_health",
          "ideological",
          "local",
          "ideological",
          "generic_politics",
          "technology",
          "ideological",
          "ideological",
          "local",
          "local",
          "science_health",
          "local",
          "generic_news",
          "business_economics",
          "ideological",
          "local",
          "local",
          "generic_news",
          "ideological",
          "generic_news",
          "local",
          "technology",
          "ideological",
          "ideological",
          "generic_news",
          "local",
          "generic_news",
          "local",
          "local",
          "local",
          "generic_politics",
          "science_health",
          "local",
          "local",
          "ideological",
          "technology",
          "local",
          "ideological",
          "ideological",
          "local",
          "local",
          "ideological",
          "science_health",
          "business_economics",
          "science_health",
          "ideological",
          "ideological",
          "local",
          "local",
          "local",
          "generic_news",
          "local",
          "local",
          "local",
          "local",
          "ideological",
          "local",
          "local",
          "technology",
          "technology",
          "generic_news",
          "local",
          "generic_news",
          "generic_politics",
          "local",
          "generic_politics",
          "",
          "",
          "",
          "",
          "",
          "",
          "",
          ""
         ],
         "type": "treemap",
         "values": [
          8,
          8,
          1,
          139,
          5,
          19,
          34,
          48,
          309,
          13,
          614,
          16,
          10,
          79,
          35,
          1,
          40,
          30,
          18,
          6,
          28,
          57,
          5,
          6,
          30,
          2,
          30,
          36,
          32,
          17,
          14,
          102,
          22,
          58,
          64,
          7,
          6,
          28,
          13,
          2,
          4,
          6,
          8,
          15,
          3,
          24,
          347,
          24,
          190,
          20,
          21,
          5,
          1505,
          108,
          19,
          7,
          3,
          14,
          17,
          7,
          21,
          1,
          22,
          114,
          8,
          26,
          16,
          3,
          23,
          20,
          62,
          5,
          7,
          15,
          5,
          91,
          86,
          16,
          26,
          9,
          12,
          176,
          698,
          55,
          3,
          11,
          14,
          10,
          73,
          899,
          1317,
          1564,
          677,
          838,
          194,
          332
         ]
        }
       ],
       "layout": {
        "legend": {
         "tracegroupgap": 0
        },
        "margin": {
         "t": 60
        },
        "template": {
         "data": {
          "bar": [
           {
            "error_x": {
             "color": "#2a3f5f"
            },
            "error_y": {
             "color": "#2a3f5f"
            },
            "marker": {
             "line": {
              "color": "#E5ECF6",
              "width": 0.5
             }
            },
            "type": "bar"
           }
          ],
          "barpolar": [
           {
            "marker": {
             "line": {
              "color": "#E5ECF6",
              "width": 0.5
             }
            },
            "type": "barpolar"
           }
          ],
          "carpet": [
           {
            "aaxis": {
             "endlinecolor": "#2a3f5f",
             "gridcolor": "white",
             "linecolor": "white",
             "minorgridcolor": "white",
             "startlinecolor": "#2a3f5f"
            },
            "baxis": {
             "endlinecolor": "#2a3f5f",
             "gridcolor": "white",
             "linecolor": "white",
             "minorgridcolor": "white",
             "startlinecolor": "#2a3f5f"
            },
            "type": "carpet"
           }
          ],
          "choropleth": [
           {
            "colorbar": {
             "outlinewidth": 0,
             "ticks": ""
            },
            "type": "choropleth"
           }
          ],
          "contour": [
           {
            "colorbar": {
             "outlinewidth": 0,
             "ticks": ""
            },
            "colorscale": [
             [
              0,
              "#0d0887"
             ],
             [
              0.1111111111111111,
              "#46039f"
             ],
             [
              0.2222222222222222,
              "#7201a8"
             ],
             [
              0.3333333333333333,
              "#9c179e"
             ],
             [
              0.4444444444444444,
              "#bd3786"
             ],
             [
              0.5555555555555556,
              "#d8576b"
             ],
             [
              0.6666666666666666,
              "#ed7953"
             ],
             [
              0.7777777777777778,
              "#fb9f3a"
             ],
             [
              0.8888888888888888,
              "#fdca26"
             ],
             [
              1,
              "#f0f921"
             ]
            ],
            "type": "contour"
           }
          ],
          "contourcarpet": [
           {
            "colorbar": {
             "outlinewidth": 0,
             "ticks": ""
            },
            "type": "contourcarpet"
           }
          ],
          "heatmap": [
           {
            "colorbar": {
             "outlinewidth": 0,
             "ticks": ""
            },
            "colorscale": [
             [
              0,
              "#0d0887"
             ],
             [
              0.1111111111111111,
              "#46039f"
             ],
             [
              0.2222222222222222,
              "#7201a8"
             ],
             [
              0.3333333333333333,
              "#9c179e"
             ],
             [
              0.4444444444444444,
              "#bd3786"
             ],
             [
              0.5555555555555556,
              "#d8576b"
             ],
             [
              0.6666666666666666,
              "#ed7953"
             ],
             [
              0.7777777777777778,
              "#fb9f3a"
             ],
             [
              0.8888888888888888,
              "#fdca26"
             ],
             [
              1,
              "#f0f921"
             ]
            ],
            "type": "heatmap"
           }
          ],
          "heatmapgl": [
           {
            "colorbar": {
             "outlinewidth": 0,
             "ticks": ""
            },
            "colorscale": [
             [
              0,
              "#0d0887"
             ],
             [
              0.1111111111111111,
              "#46039f"
             ],
             [
              0.2222222222222222,
              "#7201a8"
             ],
             [
              0.3333333333333333,
              "#9c179e"
             ],
             [
              0.4444444444444444,
              "#bd3786"
             ],
             [
              0.5555555555555556,
              "#d8576b"
             ],
             [
              0.6666666666666666,
              "#ed7953"
             ],
             [
              0.7777777777777778,
              "#fb9f3a"
             ],
             [
              0.8888888888888888,
              "#fdca26"
             ],
             [
              1,
              "#f0f921"
             ]
            ],
            "type": "heatmapgl"
           }
          ],
          "histogram": [
           {
            "marker": {
             "colorbar": {
              "outlinewidth": 0,
              "ticks": ""
             }
            },
            "type": "histogram"
           }
          ],
          "histogram2d": [
           {
            "colorbar": {
             "outlinewidth": 0,
             "ticks": ""
            },
            "colorscale": [
             [
              0,
              "#0d0887"
             ],
             [
              0.1111111111111111,
              "#46039f"
             ],
             [
              0.2222222222222222,
              "#7201a8"
             ],
             [
              0.3333333333333333,
              "#9c179e"
             ],
             [
              0.4444444444444444,
              "#bd3786"
             ],
             [
              0.5555555555555556,
              "#d8576b"
             ],
             [
              0.6666666666666666,
              "#ed7953"
             ],
             [
              0.7777777777777778,
              "#fb9f3a"
             ],
             [
              0.8888888888888888,
              "#fdca26"
             ],
             [
              1,
              "#f0f921"
             ]
            ],
            "type": "histogram2d"
           }
          ],
          "histogram2dcontour": [
           {
            "colorbar": {
             "outlinewidth": 0,
             "ticks": ""
            },
            "colorscale": [
             [
              0,
              "#0d0887"
             ],
             [
              0.1111111111111111,
              "#46039f"
             ],
             [
              0.2222222222222222,
              "#7201a8"
             ],
             [
              0.3333333333333333,
              "#9c179e"
             ],
             [
              0.4444444444444444,
              "#bd3786"
             ],
             [
              0.5555555555555556,
              "#d8576b"
             ],
             [
              0.6666666666666666,
              "#ed7953"
             ],
             [
              0.7777777777777778,
              "#fb9f3a"
             ],
             [
              0.8888888888888888,
              "#fdca26"
             ],
             [
              1,
              "#f0f921"
             ]
            ],
            "type": "histogram2dcontour"
           }
          ],
          "mesh3d": [
           {
            "colorbar": {
             "outlinewidth": 0,
             "ticks": ""
            },
            "type": "mesh3d"
           }
          ],
          "parcoords": [
           {
            "line": {
             "colorbar": {
              "outlinewidth": 0,
              "ticks": ""
             }
            },
            "type": "parcoords"
           }
          ],
          "pie": [
           {
            "automargin": true,
            "type": "pie"
           }
          ],
          "scatter": [
           {
            "marker": {
             "colorbar": {
              "outlinewidth": 0,
              "ticks": ""
             }
            },
            "type": "scatter"
           }
          ],
          "scatter3d": [
           {
            "line": {
             "colorbar": {
              "outlinewidth": 0,
              "ticks": ""
             }
            },
            "marker": {
             "colorbar": {
              "outlinewidth": 0,
              "ticks": ""
             }
            },
            "type": "scatter3d"
           }
          ],
          "scattercarpet": [
           {
            "marker": {
             "colorbar": {
              "outlinewidth": 0,
              "ticks": ""
             }
            },
            "type": "scattercarpet"
           }
          ],
          "scattergeo": [
           {
            "marker": {
             "colorbar": {
              "outlinewidth": 0,
              "ticks": ""
             }
            },
            "type": "scattergeo"
           }
          ],
          "scattergl": [
           {
            "marker": {
             "colorbar": {
              "outlinewidth": 0,
              "ticks": ""
             }
            },
            "type": "scattergl"
           }
          ],
          "scattermapbox": [
           {
            "marker": {
             "colorbar": {
              "outlinewidth": 0,
              "ticks": ""
             }
            },
            "type": "scattermapbox"
           }
          ],
          "scatterpolar": [
           {
            "marker": {
             "colorbar": {
              "outlinewidth": 0,
              "ticks": ""
             }
            },
            "type": "scatterpolar"
           }
          ],
          "scatterpolargl": [
           {
            "marker": {
             "colorbar": {
              "outlinewidth": 0,
              "ticks": ""
             }
            },
            "type": "scatterpolargl"
           }
          ],
          "scatterternary": [
           {
            "marker": {
             "colorbar": {
              "outlinewidth": 0,
              "ticks": ""
             }
            },
            "type": "scatterternary"
           }
          ],
          "surface": [
           {
            "colorbar": {
             "outlinewidth": 0,
             "ticks": ""
            },
            "colorscale": [
             [
              0,
              "#0d0887"
             ],
             [
              0.1111111111111111,
              "#46039f"
             ],
             [
              0.2222222222222222,
              "#7201a8"
             ],
             [
              0.3333333333333333,
              "#9c179e"
             ],
             [
              0.4444444444444444,
              "#bd3786"
             ],
             [
              0.5555555555555556,
              "#d8576b"
             ],
             [
              0.6666666666666666,
              "#ed7953"
             ],
             [
              0.7777777777777778,
              "#fb9f3a"
             ],
             [
              0.8888888888888888,
              "#fdca26"
             ],
             [
              1,
              "#f0f921"
             ]
            ],
            "type": "surface"
           }
          ],
          "table": [
           {
            "cells": {
             "fill": {
              "color": "#EBF0F8"
             },
             "line": {
              "color": "white"
             }
            },
            "header": {
             "fill": {
              "color": "#C8D4E3"
             },
             "line": {
              "color": "white"
             }
            },
            "type": "table"
           }
          ]
         },
         "layout": {
          "annotationdefaults": {
           "arrowcolor": "#2a3f5f",
           "arrowhead": 0,
           "arrowwidth": 1
          },
          "coloraxis": {
           "colorbar": {
            "outlinewidth": 0,
            "ticks": ""
           }
          },
          "colorscale": {
           "diverging": [
            [
             0,
             "#8e0152"
            ],
            [
             0.1,
             "#c51b7d"
            ],
            [
             0.2,
             "#de77ae"
            ],
            [
             0.3,
             "#f1b6da"
            ],
            [
             0.4,
             "#fde0ef"
            ],
            [
             0.5,
             "#f7f7f7"
            ],
            [
             0.6,
             "#e6f5d0"
            ],
            [
             0.7,
             "#b8e186"
            ],
            [
             0.8,
             "#7fbc41"
            ],
            [
             0.9,
             "#4d9221"
            ],
            [
             1,
             "#276419"
            ]
           ],
           "sequential": [
            [
             0,
             "#0d0887"
            ],
            [
             0.1111111111111111,
             "#46039f"
            ],
            [
             0.2222222222222222,
             "#7201a8"
            ],
            [
             0.3333333333333333,
             "#9c179e"
            ],
            [
             0.4444444444444444,
             "#bd3786"
            ],
            [
             0.5555555555555556,
             "#d8576b"
            ],
            [
             0.6666666666666666,
             "#ed7953"
            ],
            [
             0.7777777777777778,
             "#fb9f3a"
            ],
            [
             0.8888888888888888,
             "#fdca26"
            ],
            [
             1,
             "#f0f921"
            ]
           ],
           "sequentialminus": [
            [
             0,
             "#0d0887"
            ],
            [
             0.1111111111111111,
             "#46039f"
            ],
            [
             0.2222222222222222,
             "#7201a8"
            ],
            [
             0.3333333333333333,
             "#9c179e"
            ],
            [
             0.4444444444444444,
             "#bd3786"
            ],
            [
             0.5555555555555556,
             "#d8576b"
            ],
            [
             0.6666666666666666,
             "#ed7953"
            ],
            [
             0.7777777777777778,
             "#fb9f3a"
            ],
            [
             0.8888888888888888,
             "#fdca26"
            ],
            [
             1,
             "#f0f921"
            ]
           ]
          },
          "colorway": [
           "#636efa",
           "#EF553B",
           "#00cc96",
           "#ab63fa",
           "#FFA15A",
           "#19d3f3",
           "#FF6692",
           "#B6E880",
           "#FF97FF",
           "#FECB52"
          ],
          "font": {
           "color": "#2a3f5f"
          },
          "geo": {
           "bgcolor": "white",
           "lakecolor": "white",
           "landcolor": "#E5ECF6",
           "showlakes": true,
           "showland": true,
           "subunitcolor": "white"
          },
          "hoverlabel": {
           "align": "left"
          },
          "hovermode": "closest",
          "mapbox": {
           "style": "light"
          },
          "paper_bgcolor": "white",
          "plot_bgcolor": "#E5ECF6",
          "polar": {
           "angularaxis": {
            "gridcolor": "white",
            "linecolor": "white",
            "ticks": ""
           },
           "bgcolor": "#E5ECF6",
           "radialaxis": {
            "gridcolor": "white",
            "linecolor": "white",
            "ticks": ""
           }
          },
          "scene": {
           "xaxis": {
            "backgroundcolor": "#E5ECF6",
            "gridcolor": "white",
            "gridwidth": 2,
            "linecolor": "white",
            "showbackground": true,
            "ticks": "",
            "zerolinecolor": "white"
           },
           "yaxis": {
            "backgroundcolor": "#E5ECF6",
            "gridcolor": "white",
            "gridwidth": 2,
            "linecolor": "white",
            "showbackground": true,
            "ticks": "",
            "zerolinecolor": "white"
           },
           "zaxis": {
            "backgroundcolor": "#E5ECF6",
            "gridcolor": "white",
            "gridwidth": 2,
            "linecolor": "white",
            "showbackground": true,
            "ticks": "",
            "zerolinecolor": "white"
           }
          },
          "shapedefaults": {
           "line": {
            "color": "#2a3f5f"
           }
          },
          "ternary": {
           "aaxis": {
            "gridcolor": "white",
            "linecolor": "white",
            "ticks": ""
           },
           "baxis": {
            "gridcolor": "white",
            "linecolor": "white",
            "ticks": ""
           },
           "bgcolor": "#E5ECF6",
           "caxis": {
            "gridcolor": "white",
            "linecolor": "white",
            "ticks": ""
           }
          },
          "title": {
           "x": 0.05
          },
          "xaxis": {
           "automargin": true,
           "gridcolor": "white",
           "linecolor": "white",
           "ticks": "",
           "title": {
            "standoff": 15
           },
           "zerolinecolor": "white",
           "zerolinewidth": 2
          },
          "yaxis": {
           "automargin": true,
           "gridcolor": "white",
           "linecolor": "white",
           "ticks": "",
           "title": {
            "standoff": 15
           },
           "zerolinecolor": "white",
           "zerolinewidth": 2
          }
         }
        }
       }
      },
      "text/html": [
       "<div>\n",
       "        \n",
       "        \n",
       "            <div id=\"445702dd-98d1-41e4-8aa4-fd717f6bf98e\" class=\"plotly-graph-div\" style=\"height:525px; width:100%;\"></div>\n",
       "            <script type=\"text/javascript\">\n",
       "                require([\"plotly\"], function(Plotly) {\n",
       "                    window.PLOTLYENV=window.PLOTLYENV || {};\n",
       "                    \n",
       "                if (document.getElementById(\"445702dd-98d1-41e4-8aa4-fd717f6bf98e\")) {\n",
       "                    Plotly.newPlot(\n",
       "                        '445702dd-98d1-41e4-8aa4-fd717f6bf98e',\n",
       "                        [{\"branchvalues\": \"total\", \"customdata\": [[\"generic_politics\"], [\"local\"], [\"ideological\"], [\"coronavirus\"], [\"coronavirus\"], [\"local\"], [\"local\"], [\"coronavirus\"], [\"ideological\"], [\"coronavirus\"], [\"coronavirus\"], [\"coronavirus\"], [\"coronavirus\"], [\"technology\"], [\"science_health\"], [\"ideological\"], [\"business_economics\"], [\"coronavirus\"], [\"coronavirus\"], [\"coronavirus\"], [\"ideological\"], [\"ideological\"], [\"science_health\"], [\"ideological\"], [\"local\"], [\"ideological\"], [\"generic_politics\"], [\"technology\"], [\"ideological\"], [\"ideological\"], [\"local\"], [\"local\"], [\"science_health\"], [\"local\"], [\"generic_news\"], [\"business_economics\"], [\"ideological\"], [\"local\"], [\"local\"], [\"generic_news\"], [\"ideological\"], [\"generic_news\"], [\"local\"], [\"technology\"], [\"ideological\"], [\"ideological\"], [\"generic_news\"], [\"local\"], [\"generic_news\"], [\"local\"], [\"local\"], [\"local\"], [\"generic_politics\"], [\"science_health\"], [\"local\"], [\"local\"], [\"ideological\"], [\"technology\"], [\"local\"], [\"ideological\"], [\"ideological\"], [\"local\"], [\"local\"], [\"ideological\"], [\"science_health\"], [\"business_economics\"], [\"science_health\"], [\"ideological\"], [\"ideological\"], [\"local\"], [\"local\"], [\"local\"], [\"generic_news\"], [\"local\"], [\"local\"], [\"local\"], [\"local\"], [\"ideological\"], [\"local\"], [\"local\"], [\"technology\"], [\"technology\"], [\"generic_news\"], [\"local\"], [\"generic_news\"], [\"generic_politics\"], [\"local\"], [\"generic_politics\"], [\"business_economics\"], [\"coronavirus\"], [\"generic_news\"], [\"generic_politics\"], [\"ideological\"], [\"local\"], [\"science_health\"], [\"technology\"]], \"domain\": {\"x\": [0.0, 1.0], \"y\": [0.0, 1.0]}, \"hovertemplate\": \"subreddit_cat=%{customdata[0]}<br>labels=%{label}<br>ISFLAG=%{value}<br>parent=%{parent}<br>id=%{id}<extra></extra>\", \"ids\": [\"generic_politics/AmericanPolitics\", \"local/Austin\", \"ideological/BreadTube\", \"coronavirus/COVID19\", \"coronavirus/CanadaCoronavirus\", \"local/CanadaPolitics\", \"local/China\", \"coronavirus/China_Flu\", \"ideological/Conservative\", \"coronavirus/CoronaVirusTX\", \"coronavirus/Coronavirus\", \"coronavirus/CoronavirusCA\", \"coronavirus/CoronavirusDownunder\", \"technology/Futurology\", \"science_health/EverythingScience\", \"ideological/EnoughTrumpSpam\", \"business_economics/Economics\", \"coronavirus/CoronavirusUS\", \"coronavirus/CoronavirusUK\", \"coronavirus/CoronavirusRecession\", \"ideological/DrainTheSwamp\", \"ideological/Libertarian\", \"science_health/Health\", \"ideological/Impeach_Trump\", \"local/IndiaSpeaks\", \"ideological/LateStageCapitalism\", \"generic_politics/anime_titties\", \"technology/apple\", \"ideological/atheism\", \"ideological/WayOfTheBern\", \"local/bayarea\", \"local/canada\", \"science_health/collapse\", \"local/australia\", \"generic_news/UpliftingNews\", \"business_economics/business\", \"ideological/The_Mueller\", \"local/LosAngeles\", \"local/Michigan\", \"generic_news/NewsOfTheStupid\", \"ideological/POTUSWatch\", \"generic_news/USNEWS\", \"local/Sino\", \"technology/TechNewsToday\", \"ideological/TheNewRight\", \"ideological/Republican\", \"generic_news/news\", \"local/newzealand\", \"generic_news/nottheonion\", \"local/nyc\", \"local/ontario\", \"local/ottawa\", \"generic_politics/politics\", \"science_health/science\", \"local/singapore\", \"local/newjersey\", \"ideological/socialism\", \"technology/tech\", \"local/pakistan\", \"ideological/skeptic\", \"ideological/neoliberal\", \"local/maryland\", \"local/metacanada\", \"ideological/conspiracy\", \"science_health/dataisbeautiful\", \"business_economics/economy\", \"science_health/environment\", \"ideological/esist\", \"ideological/conservatives\", \"local/florida\", \"local/india\", \"local/indianews\", \"generic_news/inthenews\", \"local/ireland\", \"local/japan\", \"local/europe\", \"local/ukpolitics\", \"ideological/trump\", \"local/toronto\", \"local/texas\", \"technology/technews\", \"technology/technology\", \"generic_news/worldnews\", \"local/unitedkingdom\", \"generic_news/usanews\", \"generic_politics/uspolitics\", \"local/vancouver\", \"generic_politics/worldpolitics\", \"business_economics\", \"coronavirus\", \"generic_news\", \"generic_politics\", \"ideological\", \"local\", \"science_health\", \"technology\"], \"labels\": [\"AmericanPolitics\", \"Austin\", \"BreadTube\", \"COVID19\", \"CanadaCoronavirus\", \"CanadaPolitics\", \"China\", \"China_Flu\", \"Conservative\", \"CoronaVirusTX\", \"Coronavirus\", \"CoronavirusCA\", \"CoronavirusDownunder\", \"Futurology\", \"EverythingScience\", \"EnoughTrumpSpam\", \"Economics\", \"CoronavirusUS\", \"CoronavirusUK\", \"CoronavirusRecession\", \"DrainTheSwamp\", \"Libertarian\", \"Health\", \"Impeach_Trump\", \"IndiaSpeaks\", \"LateStageCapitalism\", \"anime_titties\", \"apple\", \"atheism\", \"WayOfTheBern\", \"bayarea\", \"canada\", \"collapse\", \"australia\", \"UpliftingNews\", \"business\", \"The_Mueller\", \"LosAngeles\", \"Michigan\", \"NewsOfTheStupid\", \"POTUSWatch\", \"USNEWS\", \"Sino\", \"TechNewsToday\", \"TheNewRight\", \"Republican\", \"news\", \"newzealand\", \"nottheonion\", \"nyc\", \"ontario\", \"ottawa\", \"politics\", \"science\", \"singapore\", \"newjersey\", \"socialism\", \"tech\", \"pakistan\", \"skeptic\", \"neoliberal\", \"maryland\", \"metacanada\", \"conspiracy\", \"dataisbeautiful\", \"economy\", \"environment\", \"esist\", \"conservatives\", \"florida\", \"india\", \"indianews\", \"inthenews\", \"ireland\", \"japan\", \"europe\", \"ukpolitics\", \"trump\", \"toronto\", \"texas\", \"technews\", \"technology\", \"worldnews\", \"unitedkingdom\", \"usanews\", \"uspolitics\", \"vancouver\", \"worldpolitics\", \"business_economics\", \"coronavirus\", \"generic_news\", \"generic_politics\", \"ideological\", \"local\", \"science_health\", \"technology\"], \"marker\": {\"colors\": [\"#636efa\", \"#EF553B\", \"#00cc96\", \"#ab63fa\", \"#ab63fa\", \"#EF553B\", \"#EF553B\", \"#ab63fa\", \"#00cc96\", \"#ab63fa\", \"#ab63fa\", \"#ab63fa\", \"#ab63fa\", \"#FFA15A\", \"#19d3f3\", \"#00cc96\", \"#FF6692\", \"#ab63fa\", \"#ab63fa\", \"#ab63fa\", \"#00cc96\", \"#00cc96\", \"#19d3f3\", \"#00cc96\", \"#EF553B\", \"#00cc96\", \"#636efa\", \"#FFA15A\", \"#00cc96\", \"#00cc96\", \"#EF553B\", \"#EF553B\", \"#19d3f3\", \"#EF553B\", \"#B6E880\", \"#FF6692\", \"#00cc96\", \"#EF553B\", \"#EF553B\", \"#B6E880\", \"#00cc96\", \"#B6E880\", \"#EF553B\", \"#FFA15A\", \"#00cc96\", \"#00cc96\", \"#B6E880\", \"#EF553B\", \"#B6E880\", \"#EF553B\", \"#EF553B\", \"#EF553B\", \"#636efa\", \"#19d3f3\", \"#EF553B\", \"#EF553B\", \"#00cc96\", \"#FFA15A\", \"#EF553B\", \"#00cc96\", \"#00cc96\", \"#EF553B\", \"#EF553B\", \"#00cc96\", \"#19d3f3\", \"#FF6692\", \"#19d3f3\", \"#00cc96\", \"#00cc96\", \"#EF553B\", \"#EF553B\", \"#EF553B\", \"#B6E880\", \"#EF553B\", \"#EF553B\", \"#EF553B\", \"#EF553B\", \"#00cc96\", \"#EF553B\", \"#EF553B\", \"#FFA15A\", \"#FFA15A\", \"#B6E880\", \"#EF553B\", \"#B6E880\", \"#636efa\", \"#EF553B\", \"#636efa\", \"#FF6692\", \"#ab63fa\", \"#B6E880\", \"#636efa\", \"#00cc96\", \"#EF553B\", \"#19d3f3\", \"#FFA15A\"]}, \"name\": \"\", \"parents\": [\"generic_politics\", \"local\", \"ideological\", \"coronavirus\", \"coronavirus\", \"local\", \"local\", \"coronavirus\", \"ideological\", \"coronavirus\", \"coronavirus\", \"coronavirus\", \"coronavirus\", \"technology\", \"science_health\", \"ideological\", \"business_economics\", \"coronavirus\", \"coronavirus\", \"coronavirus\", \"ideological\", \"ideological\", \"science_health\", \"ideological\", \"local\", \"ideological\", \"generic_politics\", \"technology\", \"ideological\", \"ideological\", \"local\", \"local\", \"science_health\", \"local\", \"generic_news\", \"business_economics\", \"ideological\", \"local\", \"local\", \"generic_news\", \"ideological\", \"generic_news\", \"local\", \"technology\", \"ideological\", \"ideological\", \"generic_news\", \"local\", \"generic_news\", \"local\", \"local\", \"local\", \"generic_politics\", \"science_health\", \"local\", \"local\", \"ideological\", \"technology\", \"local\", \"ideological\", \"ideological\", \"local\", \"local\", \"ideological\", \"science_health\", \"business_economics\", \"science_health\", \"ideological\", \"ideological\", \"local\", \"local\", \"local\", \"generic_news\", \"local\", \"local\", \"local\", \"local\", \"ideological\", \"local\", \"local\", \"technology\", \"technology\", \"generic_news\", \"local\", \"generic_news\", \"generic_politics\", \"local\", \"generic_politics\", \"\", \"\", \"\", \"\", \"\", \"\", \"\", \"\"], \"type\": \"treemap\", \"values\": [8.0, 8.0, 1.0, 139.0, 5.0, 19.0, 34.0, 48.0, 309.0, 13.0, 614.0, 16.0, 10.0, 79.0, 35.0, 1.0, 40.0, 30.0, 18.0, 6.0, 28.0, 57.0, 5.0, 6.0, 30.0, 2.0, 30.0, 36.0, 32.0, 17.0, 14.0, 102.0, 22.0, 58.0, 64.0, 7.0, 6.0, 28.0, 13.0, 2.0, 4.0, 6.0, 8.0, 15.0, 3.0, 24.0, 347.0, 24.0, 190.0, 20.0, 21.0, 5.0, 1505.0, 108.0, 19.0, 7.0, 3.0, 14.0, 17.0, 7.0, 21.0, 1.0, 22.0, 114.0, 8.0, 26.0, 16.0, 3.0, 23.0, 20.0, 62.0, 5.0, 7.0, 15.0, 5.0, 91.0, 86.0, 16.0, 26.0, 9.0, 12.0, 176.0, 698.0, 55.0, 3.0, 11.0, 14.0, 10.0, 73.0, 899.0, 1317.0, 1564.0, 677.0, 838.0, 194.0, 332.0]}],\n",
       "                        {\"legend\": {\"tracegroupgap\": 0}, \"margin\": {\"t\": 60}, \"template\": {\"data\": {\"bar\": [{\"error_x\": {\"color\": \"#2a3f5f\"}, \"error_y\": {\"color\": \"#2a3f5f\"}, \"marker\": {\"line\": {\"color\": \"#E5ECF6\", \"width\": 0.5}}, \"type\": \"bar\"}], \"barpolar\": [{\"marker\": {\"line\": {\"color\": \"#E5ECF6\", \"width\": 0.5}}, \"type\": \"barpolar\"}], \"carpet\": [{\"aaxis\": {\"endlinecolor\": \"#2a3f5f\", \"gridcolor\": \"white\", \"linecolor\": \"white\", \"minorgridcolor\": \"white\", \"startlinecolor\": \"#2a3f5f\"}, \"baxis\": {\"endlinecolor\": \"#2a3f5f\", \"gridcolor\": \"white\", \"linecolor\": \"white\", \"minorgridcolor\": \"white\", \"startlinecolor\": \"#2a3f5f\"}, \"type\": \"carpet\"}], \"choropleth\": [{\"colorbar\": {\"outlinewidth\": 0, \"ticks\": \"\"}, \"type\": \"choropleth\"}], \"contour\": [{\"colorbar\": {\"outlinewidth\": 0, \"ticks\": \"\"}, \"colorscale\": [[0.0, \"#0d0887\"], [0.1111111111111111, \"#46039f\"], [0.2222222222222222, \"#7201a8\"], [0.3333333333333333, \"#9c179e\"], [0.4444444444444444, \"#bd3786\"], [0.5555555555555556, \"#d8576b\"], [0.6666666666666666, \"#ed7953\"], [0.7777777777777778, \"#fb9f3a\"], [0.8888888888888888, \"#fdca26\"], [1.0, \"#f0f921\"]], \"type\": \"contour\"}], \"contourcarpet\": [{\"colorbar\": {\"outlinewidth\": 0, \"ticks\": \"\"}, \"type\": \"contourcarpet\"}], \"heatmap\": [{\"colorbar\": {\"outlinewidth\": 0, \"ticks\": \"\"}, \"colorscale\": [[0.0, \"#0d0887\"], [0.1111111111111111, \"#46039f\"], [0.2222222222222222, \"#7201a8\"], [0.3333333333333333, \"#9c179e\"], [0.4444444444444444, \"#bd3786\"], [0.5555555555555556, \"#d8576b\"], [0.6666666666666666, \"#ed7953\"], [0.7777777777777778, \"#fb9f3a\"], [0.8888888888888888, \"#fdca26\"], [1.0, \"#f0f921\"]], \"type\": \"heatmap\"}], \"heatmapgl\": [{\"colorbar\": {\"outlinewidth\": 0, \"ticks\": \"\"}, \"colorscale\": [[0.0, \"#0d0887\"], [0.1111111111111111, \"#46039f\"], [0.2222222222222222, \"#7201a8\"], [0.3333333333333333, \"#9c179e\"], [0.4444444444444444, \"#bd3786\"], [0.5555555555555556, \"#d8576b\"], [0.6666666666666666, \"#ed7953\"], [0.7777777777777778, \"#fb9f3a\"], [0.8888888888888888, \"#fdca26\"], [1.0, \"#f0f921\"]], \"type\": \"heatmapgl\"}], \"histogram\": [{\"marker\": {\"colorbar\": {\"outlinewidth\": 0, \"ticks\": \"\"}}, \"type\": \"histogram\"}], \"histogram2d\": [{\"colorbar\": {\"outlinewidth\": 0, \"ticks\": \"\"}, \"colorscale\": [[0.0, \"#0d0887\"], [0.1111111111111111, \"#46039f\"], [0.2222222222222222, \"#7201a8\"], [0.3333333333333333, \"#9c179e\"], [0.4444444444444444, \"#bd3786\"], [0.5555555555555556, \"#d8576b\"], [0.6666666666666666, \"#ed7953\"], [0.7777777777777778, \"#fb9f3a\"], [0.8888888888888888, \"#fdca26\"], [1.0, \"#f0f921\"]], \"type\": \"histogram2d\"}], \"histogram2dcontour\": [{\"colorbar\": {\"outlinewidth\": 0, \"ticks\": \"\"}, \"colorscale\": [[0.0, \"#0d0887\"], [0.1111111111111111, \"#46039f\"], [0.2222222222222222, \"#7201a8\"], [0.3333333333333333, \"#9c179e\"], [0.4444444444444444, \"#bd3786\"], [0.5555555555555556, \"#d8576b\"], [0.6666666666666666, \"#ed7953\"], [0.7777777777777778, \"#fb9f3a\"], [0.8888888888888888, \"#fdca26\"], [1.0, \"#f0f921\"]], \"type\": \"histogram2dcontour\"}], \"mesh3d\": [{\"colorbar\": {\"outlinewidth\": 0, \"ticks\": \"\"}, \"type\": \"mesh3d\"}], \"parcoords\": [{\"line\": {\"colorbar\": {\"outlinewidth\": 0, \"ticks\": \"\"}}, \"type\": \"parcoords\"}], \"pie\": [{\"automargin\": true, \"type\": \"pie\"}], \"scatter\": [{\"marker\": {\"colorbar\": {\"outlinewidth\": 0, \"ticks\": \"\"}}, \"type\": \"scatter\"}], \"scatter3d\": [{\"line\": {\"colorbar\": {\"outlinewidth\": 0, \"ticks\": \"\"}}, \"marker\": {\"colorbar\": {\"outlinewidth\": 0, \"ticks\": \"\"}}, \"type\": \"scatter3d\"}], \"scattercarpet\": [{\"marker\": {\"colorbar\": {\"outlinewidth\": 0, \"ticks\": \"\"}}, \"type\": \"scattercarpet\"}], \"scattergeo\": [{\"marker\": {\"colorbar\": {\"outlinewidth\": 0, \"ticks\": \"\"}}, \"type\": \"scattergeo\"}], \"scattergl\": [{\"marker\": {\"colorbar\": {\"outlinewidth\": 0, \"ticks\": \"\"}}, \"type\": \"scattergl\"}], \"scattermapbox\": [{\"marker\": {\"colorbar\": {\"outlinewidth\": 0, \"ticks\": \"\"}}, \"type\": \"scattermapbox\"}], \"scatterpolar\": [{\"marker\": {\"colorbar\": {\"outlinewidth\": 0, \"ticks\": \"\"}}, \"type\": \"scatterpolar\"}], \"scatterpolargl\": [{\"marker\": {\"colorbar\": {\"outlinewidth\": 0, \"ticks\": \"\"}}, \"type\": \"scatterpolargl\"}], \"scatterternary\": [{\"marker\": {\"colorbar\": {\"outlinewidth\": 0, \"ticks\": \"\"}}, \"type\": \"scatterternary\"}], \"surface\": [{\"colorbar\": {\"outlinewidth\": 0, \"ticks\": \"\"}, \"colorscale\": [[0.0, \"#0d0887\"], [0.1111111111111111, \"#46039f\"], [0.2222222222222222, \"#7201a8\"], [0.3333333333333333, \"#9c179e\"], [0.4444444444444444, \"#bd3786\"], [0.5555555555555556, \"#d8576b\"], [0.6666666666666666, \"#ed7953\"], [0.7777777777777778, \"#fb9f3a\"], [0.8888888888888888, \"#fdca26\"], [1.0, \"#f0f921\"]], \"type\": \"surface\"}], \"table\": [{\"cells\": {\"fill\": {\"color\": \"#EBF0F8\"}, \"line\": {\"color\": \"white\"}}, \"header\": {\"fill\": {\"color\": \"#C8D4E3\"}, \"line\": {\"color\": \"white\"}}, \"type\": \"table\"}]}, \"layout\": {\"annotationdefaults\": {\"arrowcolor\": \"#2a3f5f\", \"arrowhead\": 0, \"arrowwidth\": 1}, \"coloraxis\": {\"colorbar\": {\"outlinewidth\": 0, \"ticks\": \"\"}}, \"colorscale\": {\"diverging\": [[0, \"#8e0152\"], [0.1, \"#c51b7d\"], [0.2, \"#de77ae\"], [0.3, \"#f1b6da\"], [0.4, \"#fde0ef\"], [0.5, \"#f7f7f7\"], [0.6, \"#e6f5d0\"], [0.7, \"#b8e186\"], [0.8, \"#7fbc41\"], [0.9, \"#4d9221\"], [1, \"#276419\"]], \"sequential\": [[0.0, \"#0d0887\"], [0.1111111111111111, \"#46039f\"], [0.2222222222222222, \"#7201a8\"], [0.3333333333333333, \"#9c179e\"], [0.4444444444444444, \"#bd3786\"], [0.5555555555555556, \"#d8576b\"], [0.6666666666666666, \"#ed7953\"], [0.7777777777777778, \"#fb9f3a\"], [0.8888888888888888, \"#fdca26\"], [1.0, \"#f0f921\"]], \"sequentialminus\": [[0.0, \"#0d0887\"], [0.1111111111111111, \"#46039f\"], [0.2222222222222222, \"#7201a8\"], [0.3333333333333333, \"#9c179e\"], [0.4444444444444444, \"#bd3786\"], [0.5555555555555556, \"#d8576b\"], [0.6666666666666666, \"#ed7953\"], [0.7777777777777778, \"#fb9f3a\"], [0.8888888888888888, \"#fdca26\"], [1.0, \"#f0f921\"]]}, \"colorway\": [\"#636efa\", \"#EF553B\", \"#00cc96\", \"#ab63fa\", \"#FFA15A\", \"#19d3f3\", \"#FF6692\", \"#B6E880\", \"#FF97FF\", \"#FECB52\"], \"font\": {\"color\": \"#2a3f5f\"}, \"geo\": {\"bgcolor\": \"white\", \"lakecolor\": \"white\", \"landcolor\": \"#E5ECF6\", \"showlakes\": true, \"showland\": true, \"subunitcolor\": \"white\"}, \"hoverlabel\": {\"align\": \"left\"}, \"hovermode\": \"closest\", \"mapbox\": {\"style\": \"light\"}, \"paper_bgcolor\": \"white\", \"plot_bgcolor\": \"#E5ECF6\", \"polar\": {\"angularaxis\": {\"gridcolor\": \"white\", \"linecolor\": \"white\", \"ticks\": \"\"}, \"bgcolor\": \"#E5ECF6\", \"radialaxis\": {\"gridcolor\": \"white\", \"linecolor\": \"white\", \"ticks\": \"\"}}, \"scene\": {\"xaxis\": {\"backgroundcolor\": \"#E5ECF6\", \"gridcolor\": \"white\", \"gridwidth\": 2, \"linecolor\": \"white\", \"showbackground\": true, \"ticks\": \"\", \"zerolinecolor\": \"white\"}, \"yaxis\": {\"backgroundcolor\": \"#E5ECF6\", \"gridcolor\": \"white\", \"gridwidth\": 2, \"linecolor\": \"white\", \"showbackground\": true, \"ticks\": \"\", \"zerolinecolor\": \"white\"}, \"zaxis\": {\"backgroundcolor\": \"#E5ECF6\", \"gridcolor\": \"white\", \"gridwidth\": 2, \"linecolor\": \"white\", \"showbackground\": true, \"ticks\": \"\", \"zerolinecolor\": \"white\"}}, \"shapedefaults\": {\"line\": {\"color\": \"#2a3f5f\"}}, \"ternary\": {\"aaxis\": {\"gridcolor\": \"white\", \"linecolor\": \"white\", \"ticks\": \"\"}, \"baxis\": {\"gridcolor\": \"white\", \"linecolor\": \"white\", \"ticks\": \"\"}, \"bgcolor\": \"#E5ECF6\", \"caxis\": {\"gridcolor\": \"white\", \"linecolor\": \"white\", \"ticks\": \"\"}}, \"title\": {\"x\": 0.05}, \"xaxis\": {\"automargin\": true, \"gridcolor\": \"white\", \"linecolor\": \"white\", \"ticks\": \"\", \"title\": {\"standoff\": 15}, \"zerolinecolor\": \"white\", \"zerolinewidth\": 2}, \"yaxis\": {\"automargin\": true, \"gridcolor\": \"white\", \"linecolor\": \"white\", \"ticks\": \"\", \"title\": {\"standoff\": 15}, \"zerolinecolor\": \"white\", \"zerolinewidth\": 2}}}},\n",
       "                        {\"responsive\": true}\n",
       "                    ).then(function(){\n",
       "                            \n",
       "var gd = document.getElementById('445702dd-98d1-41e4-8aa4-fd717f6bf98e');\n",
       "var x = new MutationObserver(function (mutations, observer) {{\n",
       "        var display = window.getComputedStyle(gd).display;\n",
       "        if (!display || display === 'none') {{\n",
       "            console.log([gd, 'removed!']);\n",
       "            Plotly.purge(gd);\n",
       "            observer.disconnect();\n",
       "        }}\n",
       "}});\n",
       "\n",
       "// Listen for the removal of the full notebook cells\n",
       "var notebookContainer = gd.closest('#notebook-container');\n",
       "if (notebookContainer) {{\n",
       "    x.observe(notebookContainer, {childList: true});\n",
       "}}\n",
       "\n",
       "// Listen for the clearing of the current output cell\n",
       "var outputEl = gd.closest('.output');\n",
       "if (outputEl) {{\n",
       "    x.observe(outputEl, {childList: true});\n",
       "}}\n",
       "\n",
       "                        })\n",
       "                };\n",
       "                });\n",
       "            </script>\n",
       "        </div>"
      ]
     },
     "metadata": {},
     "output_type": "display_data"
    }
   ],
   "source": [
    "fig_subr_treemap = px.treemap(filtered_df_agg, \n",
    "                      path=['subreddit_cat', 'subreddit'], \n",
    "                      values='ISFLAG',\n",
    "                      color='subreddit_cat')\n",
    "fig_subr_treemap.show()"
   ]
  },
  {
   "cell_type": "markdown",
   "metadata": {},
   "source": [
    "### Cluster analysis"
   ]
  },
  {
   "cell_type": "code",
   "execution_count": 483,
   "metadata": {},
   "outputs": [],
   "source": [
    "subm = pd.read_csv(rootfold+\"/dashboard/data/app_subm_day.csv\")"
   ]
  },
  {
   "cell_type": "code",
   "execution_count": 484,
   "metadata": {},
   "outputs": [],
   "source": [
    "from sklearn.cluster import MiniBatchKMeans\n",
    "flagtypes = list(subm.loc[:,\"disinformation\":\"other\"].columns)\n",
    "nclust = 5"
   ]
  },
  {
   "cell_type": "code",
   "execution_count": 485,
   "metadata": {
    "scrolled": true
   },
   "outputs": [],
   "source": [
    "filtered = subm.copy()        \n",
    "filtered = filtered[(filtered['week'].between(*weekrange))]\n",
    "filtered['ISFLAG'] = filtered[flagtypes].copy().sum(axis=1)\n",
    "filtered = filtered[filtered['ISFLAG']>0]\n",
    "filtered = filtered[filtered['subm_covid']]\n",
    "### Run cluster analysis\n",
    "if nclust>1:\n",
    "    X = filtered[['PC01', 'PC02', 'PC03', 'PC04', 'PC05']]\n",
    "    cluster = MiniBatchKMeans(n_clusters=nclust, batch_size=1000)\n",
    "    cluster.fit(X)\n",
    "    filtered['cluster'] = (cluster.predict(X)+1).astype(str)\n",
    "#filtered"
   ]
  },
  {
   "cell_type": "code",
   "execution_count": 486,
   "metadata": {},
   "outputs": [
    {
     "data": {
      "text/plain": [
       "array([[-0.00731287, -0.0025561 , -0.00695286,  0.00151926,  0.00328427],\n",
       "       [-0.00409679,  0.00479816,  0.00129368,  0.00529476,  0.00299267],\n",
       "       [-0.00486317,  0.00612195, -0.00176477, -0.00939114, -0.00149239],\n",
       "       [-0.00448208,  0.00122206,  0.00416373,  0.00065331, -0.00187014],\n",
       "       [-0.00419501,  0.0060616 , -0.00276441,  0.00337155, -0.00344449]])"
      ]
     },
     "execution_count": 486,
     "metadata": {},
     "output_type": "execute_result"
    }
   ],
   "source": [
    "cluster.cluster_centers_"
   ]
  },
  {
   "cell_type": "code",
   "execution_count": 487,
   "metadata": {},
   "outputs": [
    {
     "data": {
      "text/plain": [
       "array([ 3.63513357e-05,  2.37056720e-05,  4.08405430e-05, ...,\n",
       "        5.56973112e-05,  4.50911670e-05, -1.73725544e-05])"
      ]
     },
     "execution_count": 487,
     "metadata": {},
     "output_type": "execute_result"
    }
   ],
   "source": [
    "np.inner(X,cluster.cluster_centers_[0,:])"
   ]
  },
  {
   "cell_type": "code",
   "execution_count": 488,
   "metadata": {},
   "outputs": [
    {
     "data": {
      "text/plain": [
       "-1.6177169136743895e-05"
      ]
     },
     "execution_count": 488,
     "metadata": {},
     "output_type": "execute_result"
    }
   ],
   "source": [
    "np.inner(X,cluster.cluster_centers_[0,:])[5022]"
   ]
  },
  {
   "cell_type": "code",
   "execution_count": 501,
   "metadata": {},
   "outputs": [
    {
     "data": {
      "text/html": [
       "<div>\n",
       "<style scoped>\n",
       "    .dataframe tbody tr th:only-of-type {\n",
       "        vertical-align: middle;\n",
       "    }\n",
       "\n",
       "    .dataframe tbody tr th {\n",
       "        vertical-align: top;\n",
       "    }\n",
       "\n",
       "    .dataframe thead th {\n",
       "        text-align: right;\n",
       "    }\n",
       "</style>\n",
       "<table border=\"1\" class=\"dataframe\">\n",
       "  <thead>\n",
       "    <tr style=\"text-align: right;\">\n",
       "      <th></th>\n",
       "      <th>subm_title</th>\n",
       "      <th>subreddit</th>\n",
       "    </tr>\n",
       "  </thead>\n",
       "  <tbody>\n",
       "    <tr>\n",
       "      <th>8998</th>\n",
       "      <td>Trump says he's been taking hydroxychloroquine...</td>\n",
       "      <td>Coronavirus</td>\n",
       "    </tr>\n",
       "    <tr>\n",
       "      <th>8891</th>\n",
       "      <td>Trump says he's been taking hydroxychloroquine...</td>\n",
       "      <td>politics</td>\n",
       "    </tr>\n",
       "    <tr>\n",
       "      <th>8868</th>\n",
       "      <td>Trump says he's been taking hydroxychloroquine...</td>\n",
       "      <td>politics</td>\n",
       "    </tr>\n",
       "    <tr>\n",
       "      <th>9037</th>\n",
       "      <td>President Trump says he's been taking hydroxyc...</td>\n",
       "      <td>Conservative</td>\n",
       "    </tr>\n",
       "    <tr>\n",
       "      <th>8894</th>\n",
       "      <td>Trump says he's been taking hydroxychloroquine</td>\n",
       "      <td>politics</td>\n",
       "    </tr>\n",
       "  </tbody>\n",
       "</table>\n",
       "</div>"
      ],
      "text/plain": [
       "                                             subm_title     subreddit\n",
       "8998  Trump says he's been taking hydroxychloroquine...   Coronavirus\n",
       "8891  Trump says he's been taking hydroxychloroquine...      politics\n",
       "8868  Trump says he's been taking hydroxychloroquine...      politics\n",
       "9037  President Trump says he's been taking hydroxyc...  Conservative\n",
       "8894     Trump says he's been taking hydroxychloroquine      politics"
      ]
     },
     "execution_count": 501,
     "metadata": {},
     "output_type": "execute_result"
    }
   ],
   "source": [
    "filtered[['subm_title','subreddit']].iloc[sel_submissions_index]"
   ]
  },
  {
   "cell_type": "code",
   "execution_count": 498,
   "metadata": {},
   "outputs": [
    {
     "data": {
      "text/plain": [
       "8998    Trump says he's been taking hydroxychloroquine...\n",
       "8891    Trump says he's been taking hydroxychloroquine...\n",
       "8868    Trump says he's been taking hydroxychloroquine...\n",
       "9037    President Trump says he's been taking hydroxyc...\n",
       "8894       Trump says he's been taking hydroxychloroquine\n",
       "Name: subm_title, dtype: object"
      ]
     },
     "execution_count": 498,
     "metadata": {},
     "output_type": "execute_result"
    }
   ],
   "source": [
    "sel_submissions_index = np.argsort(np.inner(X,cluster.cluster_centers_[0,:]))[-5:]\n",
    "list(sel_submissions_index)\n",
    "filtered.subm_title.iloc[sel_submissions_index]"
   ]
  },
  {
   "cell_type": "code",
   "execution_count": 377,
   "metadata": {},
   "outputs": [
    {
     "name": "stdout",
     "output_type": "stream",
     "text": [
      "C1\n",
      "['CDC says U.S. has ‘way too much virus’ to control pandemic as cases surge across country'\n",
      " 'Coronavirus Has Now Killed More People in US than 2018-2019 Flu Season'\n",
      " \"CDC: Coronavirus Deaths Will Be 'Much Much Much Lower' than Projected\"\n",
      " 'New report says coronavirus pandemic could last for two years – and may not subside until 70% of the population has immunity'\n",
      " 'NDR Study Shows That Many Who Died From Coronavirus Would Have Lived For A Long Time'\n",
      " 'COVID-19 kills 20 times more people per week on average than flu, scientists estimate'\n",
      " 'COVID-19 Kills 20 times More People per Week on Average than Flu, Scientists Estimate'\n",
      " 'COVID-19 at least 10 times deadlier than typical flu, analysis finds'\n",
      " 'COVID-19 is close to losing its epidemic status in the U.S., according to the CDC'\n",
      " 'The CDC Released New Death Rate Estimates For The Coronavirus. Many Scientists Say They’re Too Low..'\n",
      " 'People with coronavirus are dying 10 years earlier than they would have naturally: Study The study disproved those who are dying were already close to the end.'\n",
      " 'CDC report gives Covid-19 an R0 of 5.7! Every person infected will infect an average of 5.7 more people. This makes it one of the most infectious diseases on the planet.'\n",
      " 'Nearly half of Americans still think worst of coronavirus pandemic is ahead'\n",
      " 'CDC: NYC May Have Thousands of More Deaths Due to Coronavirus Than Previously Thought'\n",
      " 'Coronavirus Pandemic Has Inspired 64 Percent of Americans to Live More Sustainably, Survey Finds'\n",
      " 'U.S. entering \"peak death week\" in coronavirus pandemic'\n",
      " 'Coronavirus | Coronavirus: US study suggests Covid-19 mortality rate is lower than thought'\n",
      " 'People with underlying conditions 12x more likely to die from COVID-19, CDC says'\n",
      " 'Antibody study suggests coronavirus is far more widespread than previously thought: Yet to be peer reviewed study from Stanford found rate of virus may be 50 to 85 times higher than official figures'\n",
      " 'Danish study w/1500 blood donors found lethality of Covid19 is only 1.6 per thousand, i.e. more than 20x lower than originally assumed by WHO and thus in range of a strong (pandemic) influenza.']\n",
      "C2\n",
      "['Wuhan death toll revised up 50% as China’s economy suffers worst fall in record'\n",
      " \"China Is Heading For The 'Worst Monetary Crash In 60 Years'\"\n",
      " \"China's virus death toll revised up sharply after review\"\n",
      " 'China reports no new deaths for first time since January, while global death toll nears 75,000'\n",
      " 'New US model predicts much higher Covid-19 death toll in UK.'\n",
      " 'China’s initial coronavirus outbreak in Wuhan spread twice as fast as we thought, new study suggests'\n",
      " 'Nearly 9 in 10 Americans worry economy will collapse due to pandemic: poll'\n",
      " \"Model predicts higher death toll in US amid states' reopening\"\n",
      " 'China Threatens Australia With Economic Damage for Investigating COVID-19'\n",
      " 'Covid-19 experts say states easing restrictions too early may increase the US coronavirus death toll'\n",
      " 'China’s top virus warrior ‘shocked’ by US coronavirus death toll'\n",
      " \"China Media Calls Coronavirus a 'U.S. Epidemic,' Warns of Risk to World\"\n",
      " 'Europeans are turning away from the US towards China since the start of the coronavirus pandemic'\n",
      " 'Coronavirus: China claims stimulus ‘10 times more efficient’ than US Fed, as new loans top US$1 trillion'\n",
      " \"UK will have Europe's worst coronavirus death toll, says study\"\n",
      " 'Coronavirus: China has no new deaths for 10th straight day'\n",
      " 'U.S. coronavirus deaths now highest in the world as count nears 21,000'\n",
      " 'China marks one month with no Covid-19 deaths'\n",
      " 'COVID-19 Could Kill China’s $3.8 Trillion New Silk Road'\n",
      " 'China coronavirus death toll is 4,637']\n",
      "C3\n",
      "[\"Trump says he's been taking hydroxychloroquine\"\n",
      " \"President Trump says he's been taking hydroxychloroquine in case he gets COVID-19\"\n",
      " \"Trump says he's been taking hydroxychloroquine for a 'few weeks'\"\n",
      " 'Donald Trump is the virus: His coronavirus response confirms how toxic he is for the country'\n",
      " \"Trump says he's taking hydroxychloroquine in case he gets coronavirus\"\n",
      " 'Trump says he’s been taking hydroxychloroquine to ward off coronavirus'\n",
      " \"Trump says virus has 'passed the peak' in US\"\n",
      " 'Donald Trump has tested positive — for the bulls**t virus'\n",
      " 'Trump Was Repeatedly Warned About COVID-19, But ‘Trivialized the Significance’ of Intelligence Briefings'\n",
      " 'Trump says he never read, looked for memo warning of possible Coronavirus pandemic.'\n",
      " '260,000 Words, Full of Self-Praise, From Trump on the Virus'\n",
      " 'Trump says he didn’t know of, still hasn’t seen Navarro memos on possible pandemic'\n",
      " 'Trump has reportedly grown increasingly concerned about how it would appear if he contracted the coronavirus'\n",
      " 'Trump is Right: WHO Failed the World With the Coronavirus Pandemic'\n",
      " \"Trump can't handle a pandemic because he doesn't care about other people\"\n",
      " 'Trump is taking hydroxychloroquine, White House confirms'\n",
      " \"Donald Trump has tested positive — for the bulls**t virus He's bluffed his way through his entire career and into the White House. But the coronavirus finally took him out\"\n",
      " \"Donald Trump has tested positive — for the bulls**t virus. He's bluffed his way through his entire career and into the White House. But the coronavirus finally took him out\"\n",
      " 'Despite risks, Trump says he’s taking hydroxychloroquine: President Donald Trump said he is taking a malaria drug to protect against the coronavirus'\n",
      " 'Donald Trump says US to have coronavirus vaccine by year end']\n",
      "C4\n",
      "['China deliberately destroyed evidence about start of coronavirus, report says'\n",
      " 'China blames France for bringing Coronavirus to Wuhan'\n",
      " 'China Blames Europe for Beijing Coronavirus Outbreak'\n",
      " 'China questions US handling of coronavirus amid global backlash'\n",
      " 'China stifles coronavirus research in apparent bid to control narrative, analysts say'\n",
      " 'China has tested the most people on coronavirus'\n",
      " 'China reports 1 new mainland COVID-19 case'\n",
      " 'China Stalls the Global Search for Coronavirus Origins'\n",
      " 'WHO takes a U-turn on China; admits China never reported coronavirus'\n",
      " 'China to fully reopen Wuhan from coronavirus lockdown'\n",
      " 'China opposes politicising virus'\n",
      " \"COVID-19 puts strain on Britain's relationship with China\"\n",
      " 'China Threatens Australia With Economic Damage for Investigating COVID-19'\n",
      " \"China's Wuhan plans city-wide testing for coronavirus over period of 10 days\"\n",
      " 'China advisers investigated amid fears Beijing using Covid for commercial benefit'\n",
      " 'China claims coronavirus started in Spain not Wuhan'\n",
      " \"Coronavirus: Why China's claims of success raise eyebrows | BBC\"\n",
      " 'China Admits it Destroyed Early Coronavirus, Confirming U.S. Accusation'\n",
      " \"Why India Won't Be Able to Compete With China in the Post-COVID-19 World\"\n",
      " '[China] Update on COVID-19 Epidemic Situation in Wuhan as of 25/04/2020']\n",
      "C5\n",
      "['Five-year-old daughter of Michigan emergency workers dies of coronavirus as residents continue to protest lockdown'\n",
      " 'Twenty-six Mississippi Lawmakers Tested Positive For COVID-19 After Weeks Of Refusing To Wear Masks'\n",
      " 'Undercover cops arrest 2 Texas women for providing cosmetology services in their homes in violation of lockdown orders | Disrn'\n",
      " 'Mississippi lawmakers get coronavirus after refusing to wear masks'\n",
      " 'Wilmington Hospital nurse walks off job after being forbidden from wearing N95 mask to treat COVID-19 patients'\n",
      " \"Coronavirus: Kaikohe couple 'harassed', 'illegally detained' at COVID-19 community roadblock on trip to supermarket\"\n",
      " 'At a NY nursing home forced to take COVID-19 patients, 24 residents have died'\n",
      " 'Man found dead on the sidewalk with a .55 blood alcohol level and the Colorado Departement of Health made the Country Coroner categorize the death as Corona.'\n",
      " 'Pennsylvania Man Ploughs SUV Through Crowd of First Responders at \"Salute to Nurses\" Parade Amid Pandemic'\n",
      " 'Pennsylvania man ploughs SUV through crowd of first responders at \"Salute to Nurses\" parade amid pandemic'\n",
      " 'Louisville doctor accused of fighting teens over social distancing arrested, charged with strangulation'\n",
      " 'Michigan security guard killed after enforcing mask requirement at a store.'\n",
      " 'A paramedic drove 1,800 miles to help fight coronavirus. Sunday, a funeral procession carried him home.'\n",
      " 'Florida Coronavirus Patient Dies After Two Hospitals Turn Her Away'\n",
      " 'A Nurse Bought Protective Supplies for Her Colleagues Using GoFundMe. The Hospital Suspended Her.'\n",
      " 'NYPD officers lined the streets and applauded Wednesday as hundreds of doctors, nurses and other medical professionals who traveled from out of state to treat the city’s coronavirus patients left for their final shifts before going home.'\n",
      " 'Inmates at a Los Angeles County correctional facility drank from the same cup with the purpose of infecting one another, resulting in 21 cases of coronavirus'\n",
      " 'Medical report: Immunocompromised 17-year-old died after attending Florida church\\'s \"COVID Party\" | Her mother, a right-wing QAnon believer and anti-vaxxer, did not take her to the hospital but gave her hydroxychloroquine instead.'\n",
      " 'Judge Forces McHenry County, Illinois Health Dept. to Provide Names of All COVID-19 Patients to Police'\n",
      " 'Running out of body bags. People dying in the hallway. Coronavirus has Michigan hospital workers at a breaking point.']\n"
     ]
    }
   ],
   "source": [
    "dotprod = X.dot(cluster.cluster_centers_.transpose())\n",
    "dotprod.columns = ['C' + str(i+1) for i in range(nclust)]\n",
    "joined = filtered[['subm_title','cluster']].join(dotprod)\n",
    "for cl in range(nclust):\n",
    "    print(dotprod.columns[cl])\n",
    "    print(joined.sort_values(dotprod.columns[cl], ascending=False).subm_title.unique()[:20])"
   ]
  },
  {
   "cell_type": "code",
   "execution_count": 379,
   "metadata": {},
   "outputs": [
    {
     "data": {
      "text/html": [
       "<div>\n",
       "<style scoped>\n",
       "    .dataframe tbody tr th:only-of-type {\n",
       "        vertical-align: middle;\n",
       "    }\n",
       "\n",
       "    .dataframe tbody tr th {\n",
       "        vertical-align: top;\n",
       "    }\n",
       "\n",
       "    .dataframe thead th {\n",
       "        text-align: right;\n",
       "    }\n",
       "</style>\n",
       "<table border=\"1\" class=\"dataframe\">\n",
       "  <thead>\n",
       "    <tr style=\"text-align: right;\">\n",
       "      <th></th>\n",
       "      <th>subm_title</th>\n",
       "      <th>cluster</th>\n",
       "      <th>C1</th>\n",
       "      <th>C2</th>\n",
       "      <th>C3</th>\n",
       "      <th>C4</th>\n",
       "      <th>C5</th>\n",
       "    </tr>\n",
       "  </thead>\n",
       "  <tbody>\n",
       "    <tr>\n",
       "      <th>0</th>\n",
       "      <td>Essays: How Hackers and Spies Could Sabotage t...</td>\n",
       "      <td>2</td>\n",
       "      <td>0.000016</td>\n",
       "      <td>0.000024</td>\n",
       "      <td>0.000034</td>\n",
       "      <td>0.000089</td>\n",
       "      <td>0.000018</td>\n",
       "    </tr>\n",
       "    <tr>\n",
       "      <th>1</th>\n",
       "      <td>76% of Americans have gained up to 16 pounds d...</td>\n",
       "      <td>1</td>\n",
       "      <td>0.000097</td>\n",
       "      <td>0.000045</td>\n",
       "      <td>0.000025</td>\n",
       "      <td>-0.000006</td>\n",
       "      <td>0.000029</td>\n",
       "    </tr>\n",
       "    <tr>\n",
       "      <th>2</th>\n",
       "      <td>Making Masks Fun! Tips for Getting Kids to Emb...</td>\n",
       "      <td>1</td>\n",
       "      <td>0.000113</td>\n",
       "      <td>0.000018</td>\n",
       "      <td>0.000042</td>\n",
       "      <td>-0.000019</td>\n",
       "      <td>0.000070</td>\n",
       "    </tr>\n",
       "    <tr>\n",
       "      <th>3</th>\n",
       "      <td>Florida Breaks Record, Over 15,000 COVID-19 Ca...</td>\n",
       "      <td>5</td>\n",
       "      <td>0.000087</td>\n",
       "      <td>0.000033</td>\n",
       "      <td>0.000008</td>\n",
       "      <td>-0.000032</td>\n",
       "      <td>0.000085</td>\n",
       "    </tr>\n",
       "    <tr>\n",
       "      <th>4</th>\n",
       "      <td>Premier Doug Ford reveals Stage 3 of Ontario's...</td>\n",
       "      <td>5</td>\n",
       "      <td>0.000034</td>\n",
       "      <td>0.000021</td>\n",
       "      <td>0.000016</td>\n",
       "      <td>-0.000032</td>\n",
       "      <td>0.000046</td>\n",
       "    </tr>\n",
       "  </tbody>\n",
       "</table>\n",
       "</div>"
      ],
      "text/plain": [
       "                                          subm_title cluster        C1  \\\n",
       "0  Essays: How Hackers and Spies Could Sabotage t...       2  0.000016   \n",
       "1  76% of Americans have gained up to 16 pounds d...       1  0.000097   \n",
       "2  Making Masks Fun! Tips for Getting Kids to Emb...       1  0.000113   \n",
       "3  Florida Breaks Record, Over 15,000 COVID-19 Ca...       5  0.000087   \n",
       "4  Premier Doug Ford reveals Stage 3 of Ontario's...       5  0.000034   \n",
       "\n",
       "         C2        C3        C4        C5  \n",
       "0  0.000024  0.000034  0.000089  0.000018  \n",
       "1  0.000045  0.000025 -0.000006  0.000029  \n",
       "2  0.000018  0.000042 -0.000019  0.000070  \n",
       "3  0.000033  0.000008 -0.000032  0.000085  \n",
       "4  0.000021  0.000016 -0.000032  0.000046  "
      ]
     },
     "execution_count": 379,
     "metadata": {},
     "output_type": "execute_result"
    }
   ],
   "source": [
    "joined.head()"
   ]
  },
  {
   "cell_type": "code",
   "execution_count": 445,
   "metadata": {},
   "outputs": [
    {
     "data": {
      "text/plain": [
       "[{'label': 'Cluster 1', 'value': 1},\n",
       " {'label': 'Cluster 2', 'value': 2},\n",
       " {'label': 'Cluster 3', 'value': 3},\n",
       " {'label': 'Cluster 4', 'value': 4},\n",
       " {'label': 'Cluster 5', 'value': 5}]"
      ]
     },
     "execution_count": 445,
     "metadata": {},
     "output_type": "execute_result"
    }
   ],
   "source": [
    "[{'label': 'Cluster '+str(i), 'value': i} for i in range(1,nclust+1)]"
   ]
  },
  {
   "cell_type": "markdown",
   "metadata": {},
   "source": [
    "#### TF-IDF"
   ]
  },
  {
   "cell_type": "code",
   "execution_count": 380,
   "metadata": {},
   "outputs": [],
   "source": [
    "from sklearn.feature_extraction.text import TfidfVectorizer"
   ]
  },
  {
   "cell_type": "code",
   "execution_count": 392,
   "metadata": {},
   "outputs": [
    {
     "data": {
      "text/plain": [
       "<8071x2710 sparse matrix of type '<class 'numpy.float64'>'\n",
       "\twith 66591 stored elements in Compressed Sparse Row format>"
      ]
     },
     "execution_count": 392,
     "metadata": {},
     "output_type": "execute_result"
    }
   ],
   "source": [
    "tfidfer = TfidfVectorizer(min_df=5, stop_words='english')\n",
    "tf_idf_matrix = tfidfer.fit_transform(joined.subm_title)\n",
    "feature_names = np.array(tfidfer.get_feature_names())\n",
    "tf_idf_matrix"
   ]
  },
  {
   "cell_type": "code",
   "execution_count": 397,
   "metadata": {},
   "outputs": [
    {
     "data": {
      "text/plain": [
       "array([0.29242875])"
      ]
     },
     "execution_count": 397,
     "metadata": {},
     "output_type": "execute_result"
    }
   ],
   "source": [
    "tf_idf_matrix[:10,:10].data"
   ]
  },
  {
   "cell_type": "code",
   "execution_count": 400,
   "metadata": {},
   "outputs": [
    {
     "name": "stdout",
     "output_type": "stream",
     "text": [
      "['exclude', 'dept', 'rescue', 'demanding', 'requirement', 'zone', 'surging', 'deliberately', 'surpasses', 'laboratories', 'delhi', 'deleted', 'requests', 'defies', 'deficiency', 'swabs', 'lashes', 'declining', 'declared', 'decades']\n"
     ]
    }
   ],
   "source": [
    "indices = np.argsort(tfidfer.idf_)[::-1]\n",
    "features = tfidfer.get_feature_names()\n",
    "top_n = 20\n",
    "top_features = [features[i] for i in indices[:top_n]]\n",
    "print(top_features)"
   ]
  },
  {
   "cell_type": "code",
   "execution_count": 412,
   "metadata": {},
   "outputs": [],
   "source": [
    "def top_tfidf_feats(row, features, top_n=25):\n",
    "    ''' Get top n tfidf values in row and return them with their corresponding feature names.'''\n",
    "    topn_ids = np.argsort(row)[::-1][:top_n]\n",
    "    top_feats = [(features[i], row[i]) for i in topn_ids]\n",
    "    df = pd.DataFrame(top_feats)\n",
    "    df.columns = ['feature', 'tfidf']\n",
    "    return df\n",
    "def top_mean_feats(Xtr, features, grp_ids=None, min_tfidf=0.1, top_n=25):\n",
    "    ''' Return the top n features that on average are most important amongst documents in rows\n",
    "        indentified by indices in grp_ids. '''\n",
    "    if grp_ids:\n",
    "        D = Xtr[grp_ids].toarray()\n",
    "    else:\n",
    "        D = Xtr.toarray()\n",
    "\n",
    "    D[D < min_tfidf] = 0\n",
    "    tfidf_means = np.mean(D, axis=0)\n",
    "    return top_tfidf_feats(tfidf_means, features, top_n)\n",
    "def top_feats_by_class(Xtr, y, features, min_tfidf=0.1, top_n=25):\n",
    "    ''' Return a list of dfs, where each df holds top_n features and their mean tfidf value\n",
    "        calculated across documents with the same class label. '''\n",
    "    dfs = []\n",
    "    labels = np.unique(y)\n",
    "    for label in labels:\n",
    "        ids = np.where(y==label)\n",
    "        feats_df = top_mean_feats(Xtr, features, ids, min_tfidf=min_tfidf, top_n=top_n)\n",
    "        feats_df.label = label\n",
    "        print('\\nCLUSTER '+label)\n",
    "        print(feats_df)\n",
    "        #return dfs"
   ]
  },
  {
   "cell_type": "code",
   "execution_count": 414,
   "metadata": {},
   "outputs": [
    {
     "name": "stdout",
     "output_type": "stream",
     "text": [
      "\n",
      "CLUSTER 1\n",
      "       feature     tfidf\n",
      "0        covid  0.045350\n",
      "1           19  0.043838\n",
      "2  coronavirus  0.038043\n",
      "3     pandemic  0.035405\n",
      "4        study  0.026368\n",
      "5        virus  0.025952\n",
      "6       deaths  0.025292\n",
      "7      vaccine  0.023674\n",
      "8          new  0.022626\n",
      "9         says  0.021064\n",
      "\n",
      "CLUSTER 2\n",
      "       feature     tfidf\n",
      "0  coronavirus  0.046611\n",
      "1        covid  0.043238\n",
      "2           19  0.040035\n",
      "3          new  0.016862\n",
      "4       crisis  0.015670\n",
      "5     lockdown  0.015484\n",
      "6        world  0.014393\n",
      "7        death  0.014116\n",
      "8         says  0.013491\n",
      "9           uk  0.013095\n",
      "\n",
      "CLUSTER 3\n",
      "              feature     tfidf\n",
      "0               trump  0.172933\n",
      "1         coronavirus  0.051610\n",
      "2                says  0.039389\n",
      "3  hydroxychloroquine  0.024487\n",
      "4           president  0.024411\n",
      "5              donald  0.021597\n",
      "6            pandemic  0.021375\n",
      "7               covid  0.020948\n",
      "8            response  0.019860\n",
      "9               white  0.019593\n",
      "\n",
      "CLUSTER 4\n",
      "       feature     tfidf\n",
      "0        china  0.147709\n",
      "1      chinese  0.059253\n",
      "2  coronavirus  0.057962\n",
      "3        wuhan  0.032360\n",
      "4           19  0.030451\n",
      "5        covid  0.030171\n",
      "6          lab  0.027915\n",
      "7          new  0.025302\n",
      "8        virus  0.023944\n",
      "9        cases  0.022551\n",
      "\n",
      "CLUSTER 5\n",
      "       feature     tfidf\n",
      "0        covid  0.039497\n",
      "1           19  0.038108\n",
      "2  coronavirus  0.031769\n",
      "3        masks  0.026901\n",
      "4     lockdown  0.026015\n",
      "5        cases  0.019998\n",
      "6          new  0.017216\n",
      "7     protests  0.014105\n",
      "8         says  0.013746\n",
      "9     hospital  0.013500\n"
     ]
    }
   ],
   "source": [
    "features = tfidfer.get_feature_names()\n",
    "top_feats_by_class(tf_idf_matrix, joined.cluster, features, min_tfidf=0.1, top_n=10)"
   ]
  },
  {
   "cell_type": "code",
   "execution_count": 415,
   "metadata": {},
   "outputs": [],
   "source": [
    "from wordcloud import WordCloud"
   ]
  },
  {
   "cell_type": "code",
   "execution_count": 416,
   "metadata": {},
   "outputs": [
    {
     "ename": "NameError",
     "evalue": "name 'plt' is not defined",
     "output_type": "error",
     "traceback": [
      "\u001b[0;31m---------------------------------------------------------------------------\u001b[0m",
      "\u001b[0;31mNameError\u001b[0m                                 Traceback (most recent call last)",
      "\u001b[0;32m<ipython-input-416-a4250a04739f>\u001b[0m in \u001b[0;36m<module>\u001b[0;34m\u001b[0m\n\u001b[1;32m      4\u001b[0m                     \u001b[0mheight\u001b[0m \u001b[0;34m=\u001b[0m \u001b[0;36m384\u001b[0m\u001b[0;34m\u001b[0m\u001b[0;34m\u001b[0m\u001b[0m\n\u001b[1;32m      5\u001b[0m                         ).generate(' '.join(joined.subm_title))\n\u001b[0;32m----> 6\u001b[0;31m \u001b[0mplt\u001b[0m\u001b[0;34m.\u001b[0m\u001b[0mimshow\u001b[0m\u001b[0;34m(\u001b[0m\u001b[0mwordcloud\u001b[0m\u001b[0;34m)\u001b[0m \u001b[0;31m# image show\u001b[0m\u001b[0;34m\u001b[0m\u001b[0;34m\u001b[0m\u001b[0m\n\u001b[0m\u001b[1;32m      7\u001b[0m \u001b[0mplt\u001b[0m\u001b[0;34m.\u001b[0m\u001b[0maxis\u001b[0m\u001b[0;34m(\u001b[0m\u001b[0;34m'off'\u001b[0m\u001b[0;34m)\u001b[0m \u001b[0;31m# to off the axis of x and y\u001b[0m\u001b[0;34m\u001b[0m\u001b[0;34m\u001b[0m\u001b[0m\n",
      "\u001b[0;31mNameError\u001b[0m: name 'plt' is not defined"
     ]
    }
   ],
   "source": [
    "wordcloud = WordCloud (\n",
    "                    background_color = 'white',\n",
    "                    width = 512,\n",
    "                    height = 384\n",
    "                        ).generate(' '.join(joined.subm_title))\n",
    "plt.imshow(wordcloud) # image show\n",
    "plt.axis('off') # to off the axis of x and y"
   ]
  },
  {
   "cell_type": "code",
   "execution_count": 436,
   "metadata": {},
   "outputs": [],
   "source": [
    "from spacy.lang.en.stop_words import STOP_WORDS\n",
    "from collections import Counter\n",
    "def cluster_commonwords(texts, nwords = 5):\n",
    "    allwords = [w for w in ' '.join(texts.str.lower()).split() if w not in STOP_WORDS and re.search('[a-z]',w)]\n",
    "    return ', '.join([word for word,cnt in Counter(allwords).most_common(nwords)])"
   ]
  },
  {
   "cell_type": "code",
   "execution_count": 439,
   "metadata": {},
   "outputs": [],
   "source": [
    "c = cluster_commonwords(joined.subm_title, nwords = 10)"
   ]
  },
  {
   "cell_type": "code",
   "execution_count": 443,
   "metadata": {},
   "outputs": [
    {
     "data": {
      "text/plain": [
       "{\"'d\",\n",
       " \"'ll\",\n",
       " \"'m\",\n",
       " \"'re\",\n",
       " \"'s\",\n",
       " \"'ve\",\n",
       " 'a',\n",
       " 'about',\n",
       " 'above',\n",
       " 'across',\n",
       " 'after',\n",
       " 'afterwards',\n",
       " 'again',\n",
       " 'against',\n",
       " 'all',\n",
       " 'almost',\n",
       " 'alone',\n",
       " 'along',\n",
       " 'already',\n",
       " 'also',\n",
       " 'although',\n",
       " 'always',\n",
       " 'am',\n",
       " 'among',\n",
       " 'amongst',\n",
       " 'amount',\n",
       " 'an',\n",
       " 'and',\n",
       " 'another',\n",
       " 'any',\n",
       " 'anyhow',\n",
       " 'anyone',\n",
       " 'anything',\n",
       " 'anyway',\n",
       " 'anywhere',\n",
       " 'are',\n",
       " 'around',\n",
       " 'as',\n",
       " 'at',\n",
       " 'back',\n",
       " 'be',\n",
       " 'became',\n",
       " 'because',\n",
       " 'become',\n",
       " 'becomes',\n",
       " 'becoming',\n",
       " 'been',\n",
       " 'before',\n",
       " 'beforehand',\n",
       " 'behind',\n",
       " 'being',\n",
       " 'below',\n",
       " 'beside',\n",
       " 'besides',\n",
       " 'between',\n",
       " 'beyond',\n",
       " 'both',\n",
       " 'bottom',\n",
       " 'but',\n",
       " 'by',\n",
       " 'ca',\n",
       " 'call',\n",
       " 'can',\n",
       " 'cannot',\n",
       " 'coronavirus',\n",
       " 'could',\n",
       " 'covid',\n",
       " 'covid-19',\n",
       " 'covid19',\n",
       " 'did',\n",
       " 'do',\n",
       " 'does',\n",
       " 'doing',\n",
       " 'done',\n",
       " 'down',\n",
       " 'due',\n",
       " 'during',\n",
       " 'each',\n",
       " 'eight',\n",
       " 'either',\n",
       " 'eleven',\n",
       " 'else',\n",
       " 'elsewhere',\n",
       " 'empty',\n",
       " 'enough',\n",
       " 'even',\n",
       " 'ever',\n",
       " 'every',\n",
       " 'everyone',\n",
       " 'everything',\n",
       " 'everywhere',\n",
       " 'except',\n",
       " 'few',\n",
       " 'fifteen',\n",
       " 'fifty',\n",
       " 'first',\n",
       " 'five',\n",
       " 'for',\n",
       " 'former',\n",
       " 'formerly',\n",
       " 'forty',\n",
       " 'four',\n",
       " 'from',\n",
       " 'front',\n",
       " 'full',\n",
       " 'further',\n",
       " 'get',\n",
       " 'give',\n",
       " 'go',\n",
       " 'had',\n",
       " 'has',\n",
       " 'have',\n",
       " 'he',\n",
       " 'hence',\n",
       " 'her',\n",
       " 'here',\n",
       " 'hereafter',\n",
       " 'hereby',\n",
       " 'herein',\n",
       " 'hereupon',\n",
       " 'hers',\n",
       " 'herself',\n",
       " 'him',\n",
       " 'himself',\n",
       " 'his',\n",
       " 'how',\n",
       " 'however',\n",
       " 'hundred',\n",
       " 'i',\n",
       " 'if',\n",
       " 'in',\n",
       " 'indeed',\n",
       " 'into',\n",
       " 'is',\n",
       " 'it',\n",
       " 'its',\n",
       " 'itself',\n",
       " 'just',\n",
       " 'keep',\n",
       " 'last',\n",
       " 'latter',\n",
       " 'latterly',\n",
       " 'least',\n",
       " 'less',\n",
       " 'made',\n",
       " 'make',\n",
       " 'many',\n",
       " 'may',\n",
       " 'me',\n",
       " 'meanwhile',\n",
       " 'might',\n",
       " 'mine',\n",
       " 'more',\n",
       " 'moreover',\n",
       " 'most',\n",
       " 'mostly',\n",
       " 'move',\n",
       " 'much',\n",
       " 'must',\n",
       " 'my',\n",
       " 'myself',\n",
       " \"n't\",\n",
       " 'name',\n",
       " 'namely',\n",
       " 'neither',\n",
       " 'never',\n",
       " 'nevertheless',\n",
       " 'next',\n",
       " 'nine',\n",
       " 'no',\n",
       " 'nobody',\n",
       " 'none',\n",
       " 'noone',\n",
       " 'nor',\n",
       " 'not',\n",
       " 'nothing',\n",
       " 'now',\n",
       " 'nowhere',\n",
       " 'n‘t',\n",
       " 'n’t',\n",
       " 'of',\n",
       " 'off',\n",
       " 'often',\n",
       " 'on',\n",
       " 'once',\n",
       " 'one',\n",
       " 'only',\n",
       " 'onto',\n",
       " 'or',\n",
       " 'other',\n",
       " 'others',\n",
       " 'otherwise',\n",
       " 'our',\n",
       " 'ours',\n",
       " 'ourselves',\n",
       " 'out',\n",
       " 'over',\n",
       " 'own',\n",
       " 'part',\n",
       " 'per',\n",
       " 'perhaps',\n",
       " 'please',\n",
       " 'put',\n",
       " 'quite',\n",
       " 'rather',\n",
       " 're',\n",
       " 'really',\n",
       " 'regarding',\n",
       " 'same',\n",
       " 'say',\n",
       " 'see',\n",
       " 'seem',\n",
       " 'seemed',\n",
       " 'seeming',\n",
       " 'seems',\n",
       " 'serious',\n",
       " 'several',\n",
       " 'she',\n",
       " 'should',\n",
       " 'show',\n",
       " 'side',\n",
       " 'since',\n",
       " 'six',\n",
       " 'sixty',\n",
       " 'so',\n",
       " 'some',\n",
       " 'somehow',\n",
       " 'someone',\n",
       " 'something',\n",
       " 'sometime',\n",
       " 'sometimes',\n",
       " 'somewhere',\n",
       " 'still',\n",
       " 'such',\n",
       " 'take',\n",
       " 'ten',\n",
       " 'than',\n",
       " 'that',\n",
       " 'the',\n",
       " 'their',\n",
       " 'them',\n",
       " 'themselves',\n",
       " 'then',\n",
       " 'thence',\n",
       " 'there',\n",
       " 'thereafter',\n",
       " 'thereby',\n",
       " 'therefore',\n",
       " 'therein',\n",
       " 'thereupon',\n",
       " 'these',\n",
       " 'they',\n",
       " 'third',\n",
       " 'this',\n",
       " 'those',\n",
       " 'though',\n",
       " 'three',\n",
       " 'through',\n",
       " 'throughout',\n",
       " 'thru',\n",
       " 'thus',\n",
       " 'to',\n",
       " 'together',\n",
       " 'too',\n",
       " 'top',\n",
       " 'toward',\n",
       " 'towards',\n",
       " 'twelve',\n",
       " 'twenty',\n",
       " 'two',\n",
       " 'under',\n",
       " 'unless',\n",
       " 'until',\n",
       " 'up',\n",
       " 'upon',\n",
       " 'us',\n",
       " 'used',\n",
       " 'using',\n",
       " 'various',\n",
       " 'very',\n",
       " 'via',\n",
       " 'was',\n",
       " 'we',\n",
       " 'well',\n",
       " 'were',\n",
       " 'what',\n",
       " 'whatever',\n",
       " 'when',\n",
       " 'whence',\n",
       " 'whenever',\n",
       " 'where',\n",
       " 'whereafter',\n",
       " 'whereas',\n",
       " 'whereby',\n",
       " 'wherein',\n",
       " 'whereupon',\n",
       " 'wherever',\n",
       " 'whether',\n",
       " 'which',\n",
       " 'while',\n",
       " 'whither',\n",
       " 'who',\n",
       " 'whoever',\n",
       " 'whole',\n",
       " 'whom',\n",
       " 'whose',\n",
       " 'why',\n",
       " 'will',\n",
       " 'with',\n",
       " 'within',\n",
       " 'without',\n",
       " 'would',\n",
       " 'yet',\n",
       " 'you',\n",
       " 'your',\n",
       " 'yours',\n",
       " 'yourself',\n",
       " 'yourselves',\n",
       " '‘d',\n",
       " '‘ll',\n",
       " '‘m',\n",
       " '‘re',\n",
       " '‘s',\n",
       " '‘ve',\n",
       " '’d',\n",
       " '’ll',\n",
       " '’m',\n",
       " '’re',\n",
       " '’s',\n",
       " '’ve'}"
      ]
     },
     "execution_count": 443,
     "metadata": {},
     "output_type": "execute_result"
    }
   ],
   "source": [
    "STOP_WORDS.union(['coronavirus','covid','covid19','covid-19'])"
   ]
  },
  {
   "cell_type": "code",
   "execution_count": 446,
   "metadata": {},
   "outputs": [],
   "source": [
    "def generate_table(dataframe, max_rows=10):\n",
    "    return html.Table(\n",
    "        # Header\n",
    "        [html.Tr([html.Th(col) for col in dataframe.columns])] +\n",
    "\n",
    "        # Body\n",
    "        [html.Tr([\n",
    "            html.Td(dataframe.iloc[i][col]) for col in dataframe.columns\n",
    "        ]) for i in range(min(len(dataframe), max_rows))]\n",
    "    )\n"
   ]
  },
  {
   "cell_type": "code",
   "execution_count": 447,
   "metadata": {},
   "outputs": [
    {
     "data": {
      "text/plain": [
       "Table([Tr([Th('subm_title'), Th('cluster'), Th('C1'), Th('C2'), Th('C3'), Th('C4'), Th('C5')]), Tr([Td('Essays: How Hackers and Spies Could Sabotage the Coronavirus Fight'), Td('2'), Td(1.5990070980698564e-05), Td(2.3945586887275975e-05), Td(3.404477125030537e-05), Td(8.927038272108391e-05), Td(1.7854423987699105e-05)]), Tr([Td('76% of Americans have gained up to 16 pounds during the quarantine, according to Nutrisystem'), Td('1'), Td(9.650327209161662e-05), Td(4.5273559767302794e-05), Td(2.5419302647355936e-05), Td(-6.113591696484178e-06), Td(2.8742864497154713e-05)]), Tr([Td('Making Masks Fun! Tips for Getting Kids to Embrace Face Coverings amid the Coronavirus Pandemic'), Td('1'), Td(0.00011261491152779758), Td(1.7513501464760036e-05), Td(4.177482193240602e-05), Td(-1.886683772317475e-05), Td(7.023248296825236e-05)]), Tr([Td('Florida Breaks Record, Over 15,000 COVID-19 Cases in One Day'), Td('5'), Td(8.715845483356507e-05), Td(3.3471132337147336e-05), Td(7.854037132687516e-06), Td(-3.2403842359966144e-05), Td(8.470972461663951e-05)]), Tr([Td(\"Premier Doug Ford reveals Stage 3 of Ontario's COVID-19 reopening plan\"), Td('5'), Td(3.425411869205713e-05), Td(2.1024460488312884e-05), Td(1.5863276558423525e-05), Td(-3.22052321361473e-05), Td(4.5584613221856556e-05)]), Tr([Td('Super-rich call for higher taxes on wealthy to pay for Covid-19 recovery. The group warned that the economic impact of coronavirus crisis will “last for decades” and could “push half a billion more people into poverty”.'), Td('2'), Td(6.50140424239488e-05), Td(5.5255945340783436e-05), Td(1.1314229257437389e-05), Td(2.8154289954086235e-06), Td(1.3436494890923141e-05)]), Tr([Td('Covid-19 coronavirus: Superspreader - woman infects 71 people in 60 seconds in elevator: CDC study'), Td('1'), Td(0.0001160126200509903), Td(3.202991597932308e-05), Td(2.2134420990851214e-05), Td(-3.415494750488427e-05), Td(6.557197010830381e-05)]), Tr([Td('Hundreds of people celebrated the July 4 weekend at a Michigan lake. Now some have Covid-19'), Td('5'), Td(7.999937449270153e-05), Td(2.120963846178443e-05), Td(5.340989620383448e-06), Td(-5.482101195048177e-05), Td(8.237426474403444e-05)]), Tr([Td('Stock Indicators May Be the Best Way to Predict COVID Breakouts'), Td('2'), Td(3.4582244718757217e-05), Td(2.961381856665288e-05), Td(1.812823008278335e-05), Td(6.83797061381752e-05), Td(-2.1120093759164537e-05)]), Tr([Td('What we know (so far) about the long-term health effects of Covid-19'), Td('1'), Td(9.502159148943025e-05), Td(3.605549847137154e-05), Td(3.7335579921370644e-05), Td(-5.404079405618151e-06), Td(-1.0456900446605272e-06)])])"
      ]
     },
     "execution_count": 447,
     "metadata": {},
     "output_type": "execute_result"
    }
   ],
   "source": [
    "generate_table(joined)"
   ]
  },
  {
   "cell_type": "code",
   "execution_count": null,
   "metadata": {},
   "outputs": [],
   "source": []
  }
 ],
 "metadata": {
  "kernelspec": {
   "display_name": "jupyter-env",
   "language": "python",
   "name": "jupyter-env"
  },
  "language_info": {
   "codemirror_mode": {
    "name": "ipython",
    "version": 3
   },
   "file_extension": ".py",
   "mimetype": "text/x-python",
   "name": "python",
   "nbconvert_exporter": "python",
   "pygments_lexer": "ipython3",
   "version": "3.8.2"
  }
 },
 "nbformat": 4,
 "nbformat_minor": 2
}
