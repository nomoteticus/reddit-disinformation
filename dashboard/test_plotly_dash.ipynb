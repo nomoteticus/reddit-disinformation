{
 "cells": [
  {
   "cell_type": "code",
   "execution_count": 1,
   "metadata": {},
   "outputs": [],
   "source": [
    "import dash\n",
    "import dash_core_components as dcc\n",
    "import dash_html_components as html\n",
    "import pandas as pd\n",
    "import numpy as np\n",
    "import plotly_express as px\n",
    "from dash.dependencies import Input, Output\n",
    "rootfold = '/home/j0hndoe/Documents/git/reddit-disinformation'"
   ]
  },
  {
   "cell_type": "code",
   "execution_count": 2,
   "metadata": {},
   "outputs": [],
   "source": [
    "def get_flag_perc(df, groups):\n",
    "    return df.\\\n",
    "        groupby(groups)\\\n",
    "            [['n_subm_kept','ISFLAG']].\\\n",
    "                agg(sum).sort_index().reset_index().\\\n",
    "        assign(perc_FLAG = lambda df: df.ISFLAG/df.n_subm_kept)"
   ]
  },
  {
   "cell_type": "code",
   "execution_count": 3,
   "metadata": {},
   "outputs": [],
   "source": [
    "df_flags = pd.read_csv(rootfold+\"/dashboard/data/app_flags_large.csv\")\n",
    "df_day = pd.read_csv(rootfold+\"/dashboard/data/app_subr_day.csv\")\n",
    "\n",
    "df_day['week'] = df_day['week'].astype('int')\n",
    "min_week, max_week = df_day['week'].min(), df_day['week'].max()\n",
    "weekrange = [min_week, max_week]\n",
    "\n",
    "filtered_df_day = df_day[(df_day['week'].between(*weekrange))]# & (df['varr']==varr)]\n",
    "filtered_df_day['ISFLAG'] = filtered_df_day.flag.copy()#loc[:,flagtypes].sum(axis=1)>0\n",
    "### Aggregate\n",
    "filtered_df_week = get_flag_perc(\n",
    "    filtered_df_day,\n",
    "    groups = ['subreddit_cat','subreddit','week'])\n",
    "filtered_df_agg = get_flag_perc(\n",
    "    filtered_df_week,\n",
    "    groups = ['subreddit_cat','subreddit'])"
   ]
  },
  {
   "cell_type": "code",
   "execution_count": 4,
   "metadata": {},
   "outputs": [
    {
     "data": {
      "text/html": [
       "<div>\n",
       "<style scoped>\n",
       "    .dataframe tbody tr th:only-of-type {\n",
       "        vertical-align: middle;\n",
       "    }\n",
       "\n",
       "    .dataframe tbody tr th {\n",
       "        vertical-align: top;\n",
       "    }\n",
       "\n",
       "    .dataframe thead th {\n",
       "        text-align: right;\n",
       "    }\n",
       "</style>\n",
       "<table border=\"1\" class=\"dataframe\">\n",
       "  <thead>\n",
       "    <tr style=\"text-align: right;\">\n",
       "      <th></th>\n",
       "      <th>subreddit</th>\n",
       "      <th>subm_id</th>\n",
       "      <th>comm_id</th>\n",
       "      <th>month</th>\n",
       "      <th>week</th>\n",
       "      <th>day</th>\n",
       "      <th>subreddit_cat</th>\n",
       "      <th>sent_id</th>\n",
       "      <th>sent</th>\n",
       "      <th>flag</th>\n",
       "      <th>...</th>\n",
       "      <th>unreliable</th>\n",
       "      <th>propaganda</th>\n",
       "      <th>other</th>\n",
       "      <th>comm_parent_id</th>\n",
       "      <th>subm_title</th>\n",
       "      <th>subm_removed</th>\n",
       "      <th>subm_covid</th>\n",
       "      <th>subm_link</th>\n",
       "      <th>link_url</th>\n",
       "      <th>subm_ncomments</th>\n",
       "    </tr>\n",
       "  </thead>\n",
       "  <tbody>\n",
       "    <tr>\n",
       "      <th>0</th>\n",
       "      <td>nottheonion</td>\n",
       "      <td>t3_gjysno</td>\n",
       "      <td>t1_fqnw4f5</td>\n",
       "      <td>5.0</td>\n",
       "      <td>20.0</td>\n",
       "      <td>2020-05-15</td>\n",
       "      <td>generic_news</td>\n",
       "      <td>7</td>\n",
       "      <td>well, it's fake news hiding behind the \"satire...</td>\n",
       "      <td>1</td>\n",
       "      <td>...</td>\n",
       "      <td>0</td>\n",
       "      <td>0</td>\n",
       "      <td>0</td>\n",
       "      <td>t3_gjysno</td>\n",
       "      <td>Experts Worry Unreal Engine 5 Will Deplete the...</td>\n",
       "      <td>deleted</td>\n",
       "      <td>False</td>\n",
       "      <td>https://www.reddit.com/r/nottheonion/comments/...</td>\n",
       "      <td>https://thehardtimes.net/harddrive/experts-wor...</td>\n",
       "      <td>2.0</td>\n",
       "    </tr>\n",
       "    <tr>\n",
       "      <th>1</th>\n",
       "      <td>nottheonion</td>\n",
       "      <td>t3_gjysim</td>\n",
       "      <td>t1_fqnw3h5</td>\n",
       "      <td>5.0</td>\n",
       "      <td>20.0</td>\n",
       "      <td>2020-05-15</td>\n",
       "      <td>generic_news</td>\n",
       "      <td>7</td>\n",
       "      <td>well, it's fake news hiding behind the \"satire...</td>\n",
       "      <td>1</td>\n",
       "      <td>...</td>\n",
       "      <td>0</td>\n",
       "      <td>0</td>\n",
       "      <td>0</td>\n",
       "      <td>t3_gjysim</td>\n",
       "      <td>We’re running out of Triangles !.!.!</td>\n",
       "      <td>deleted</td>\n",
       "      <td>False</td>\n",
       "      <td>https://www.reddit.com/r/nottheonion/comments/...</td>\n",
       "      <td>https://thehardtimes.net/harddrive/experts-wor...</td>\n",
       "      <td>2.0</td>\n",
       "    </tr>\n",
       "    <tr>\n",
       "      <th>2</th>\n",
       "      <td>LosAngeles</td>\n",
       "      <td>t3_gjtxlv</td>\n",
       "      <td>t1_fqn2uq8</td>\n",
       "      <td>5.0</td>\n",
       "      <td>20.0</td>\n",
       "      <td>2020-05-14</td>\n",
       "      <td>local</td>\n",
       "      <td>0</td>\n",
       "      <td>Super misleading headline.</td>\n",
       "      <td>1</td>\n",
       "      <td>...</td>\n",
       "      <td>0</td>\n",
       "      <td>0</td>\n",
       "      <td>0</td>\n",
       "      <td>t3_gjtxlv</td>\n",
       "      <td>Unemployment in CA expected to peak at nearly ...</td>\n",
       "      <td>deleted</td>\n",
       "      <td>False</td>\n",
       "      <td>https://www.reddit.com/r/LosAngeles/comments/g...</td>\n",
       "      <td>https://losangeles.cbslocal.com/2020/05/14/cor...</td>\n",
       "      <td>2.0</td>\n",
       "    </tr>\n",
       "    <tr>\n",
       "      <th>3</th>\n",
       "      <td>bayarea</td>\n",
       "      <td>t3_gjokcl</td>\n",
       "      <td>t1_fqmxo1j</td>\n",
       "      <td>5.0</td>\n",
       "      <td>20.0</td>\n",
       "      <td>2020-05-14</td>\n",
       "      <td>local</td>\n",
       "      <td>0</td>\n",
       "      <td>This title is extremely misleading</td>\n",
       "      <td>1</td>\n",
       "      <td>...</td>\n",
       "      <td>0</td>\n",
       "      <td>0</td>\n",
       "      <td>0</td>\n",
       "      <td>t3_gjokcl</td>\n",
       "      <td>CA schools may reopen with mask requirement, s...</td>\n",
       "      <td>visible</td>\n",
       "      <td>False</td>\n",
       "      <td>https://www.reddit.com/r/bayarea/comments/gjok...</td>\n",
       "      <td>https://www.kcra.com/article/ca-schools-may-re...</td>\n",
       "      <td>92.0</td>\n",
       "    </tr>\n",
       "    <tr>\n",
       "      <th>4</th>\n",
       "      <td>AmericanPolitics</td>\n",
       "      <td>t3_gjrjpf</td>\n",
       "      <td>t1_fqmphx8</td>\n",
       "      <td>5.0</td>\n",
       "      <td>20.0</td>\n",
       "      <td>2020-05-14</td>\n",
       "      <td>generic_politics</td>\n",
       "      <td>0</td>\n",
       "      <td>More anti-vaxxer propaganda.</td>\n",
       "      <td>1</td>\n",
       "      <td>...</td>\n",
       "      <td>0</td>\n",
       "      <td>1</td>\n",
       "      <td>0</td>\n",
       "      <td>t3_gjrjpf</td>\n",
       "      <td>Niall McCrae and David Kurten: EU Numbers Show...</td>\n",
       "      <td>visible</td>\n",
       "      <td>True</td>\n",
       "      <td>https://www.reddit.com/r/AmericanPolitics/comm...</td>\n",
       "      <td>https://www.thegatewaypundit.com/2020/05/niall...</td>\n",
       "      <td>6.0</td>\n",
       "    </tr>\n",
       "    <tr>\n",
       "      <th>...</th>\n",
       "      <td>...</td>\n",
       "      <td>...</td>\n",
       "      <td>...</td>\n",
       "      <td>...</td>\n",
       "      <td>...</td>\n",
       "      <td>...</td>\n",
       "      <td>...</td>\n",
       "      <td>...</td>\n",
       "      <td>...</td>\n",
       "      <td>...</td>\n",
       "      <td>...</td>\n",
       "      <td>...</td>\n",
       "      <td>...</td>\n",
       "      <td>...</td>\n",
       "      <td>...</td>\n",
       "      <td>...</td>\n",
       "      <td>...</td>\n",
       "      <td>...</td>\n",
       "      <td>...</td>\n",
       "      <td>...</td>\n",
       "      <td>...</td>\n",
       "    </tr>\n",
       "    <tr>\n",
       "      <th>27388</th>\n",
       "      <td>politics</td>\n",
       "      <td>t3_eieo7b</td>\n",
       "      <td>t1_fcpcw7f</td>\n",
       "      <td>1.0</td>\n",
       "      <td>1.0</td>\n",
       "      <td>2020-01-01</td>\n",
       "      <td>generic_politics</td>\n",
       "      <td>1</td>\n",
       "      <td>it's bullshit</td>\n",
       "      <td>1</td>\n",
       "      <td>...</td>\n",
       "      <td>0</td>\n",
       "      <td>0</td>\n",
       "      <td>0</td>\n",
       "      <td>t3_eieo7b</td>\n",
       "      <td>Giuliani Says He’s Prepared to ‘Do Demonstrati...</td>\n",
       "      <td>visible</td>\n",
       "      <td>False</td>\n",
       "      <td>https://www.reddit.com/r/politics/comments/eie...</td>\n",
       "      <td>https://www.thedailybeast.com/giuliani-says-he...</td>\n",
       "      <td>54.0</td>\n",
       "    </tr>\n",
       "    <tr>\n",
       "      <th>27389</th>\n",
       "      <td>politics</td>\n",
       "      <td>t3_eid766</td>\n",
       "      <td>t1_fcqg7lz</td>\n",
       "      <td>1.0</td>\n",
       "      <td>1.0</td>\n",
       "      <td>2020-01-01</td>\n",
       "      <td>generic_politics</td>\n",
       "      <td>2</td>\n",
       "      <td>this is such clickbait</td>\n",
       "      <td>1</td>\n",
       "      <td>...</td>\n",
       "      <td>0</td>\n",
       "      <td>0</td>\n",
       "      <td>0</td>\n",
       "      <td>t3_eid766</td>\n",
       "      <td>Trump follows Iran threat with bizarre 'change...</td>\n",
       "      <td>visible</td>\n",
       "      <td>False</td>\n",
       "      <td>https://www.reddit.com/r/politics/comments/eid...</td>\n",
       "      <td>https://www.independent.co.uk/news/world/ameri...</td>\n",
       "      <td>212.0</td>\n",
       "    </tr>\n",
       "    <tr>\n",
       "      <th>27390</th>\n",
       "      <td>politics</td>\n",
       "      <td>t3_eicy4q</td>\n",
       "      <td>t1_fcqtl95</td>\n",
       "      <td>1.0</td>\n",
       "      <td>1.0</td>\n",
       "      <td>2020-01-01</td>\n",
       "      <td>generic_politics</td>\n",
       "      <td>1</td>\n",
       "      <td>This is bullshit propaganda and if he for some...</td>\n",
       "      <td>1</td>\n",
       "      <td>...</td>\n",
       "      <td>0</td>\n",
       "      <td>1</td>\n",
       "      <td>0</td>\n",
       "      <td>t3_eicy4q</td>\n",
       "      <td>Giuliani says he would be willing to testify i...</td>\n",
       "      <td>visible</td>\n",
       "      <td>False</td>\n",
       "      <td>https://www.reddit.com/r/politics/comments/eic...</td>\n",
       "      <td>https://thehill.com/homenews/administration/47...</td>\n",
       "      <td>811.0</td>\n",
       "    </tr>\n",
       "    <tr>\n",
       "      <th>27391</th>\n",
       "      <td>politics</td>\n",
       "      <td>t3_eicy4q</td>\n",
       "      <td>t1_fcpo47c</td>\n",
       "      <td>1.0</td>\n",
       "      <td>1.0</td>\n",
       "      <td>2020-01-01</td>\n",
       "      <td>generic_politics</td>\n",
       "      <td>0</td>\n",
       "      <td>It's all the same bullshit it starts with the ...</td>\n",
       "      <td>1</td>\n",
       "      <td>...</td>\n",
       "      <td>0</td>\n",
       "      <td>0</td>\n",
       "      <td>0</td>\n",
       "      <td>t3_eicy4q</td>\n",
       "      <td>Giuliani says he would be willing to testify i...</td>\n",
       "      <td>visible</td>\n",
       "      <td>False</td>\n",
       "      <td>https://www.reddit.com/r/politics/comments/eic...</td>\n",
       "      <td>https://thehill.com/homenews/administration/47...</td>\n",
       "      <td>811.0</td>\n",
       "    </tr>\n",
       "    <tr>\n",
       "      <th>27392</th>\n",
       "      <td>science</td>\n",
       "      <td>t3_eiiwt1</td>\n",
       "      <td>t1_fcr15tf</td>\n",
       "      <td>1.0</td>\n",
       "      <td>1.0</td>\n",
       "      <td>2020-01-01</td>\n",
       "      <td>science_health</td>\n",
       "      <td>1</td>\n",
       "      <td>but I think this smells like bs</td>\n",
       "      <td>1</td>\n",
       "      <td>...</td>\n",
       "      <td>0</td>\n",
       "      <td>0</td>\n",
       "      <td>0</td>\n",
       "      <td>t3_eiiwt1</td>\n",
       "      <td>Study shows that is now possible to teleport t...</td>\n",
       "      <td>visible</td>\n",
       "      <td>False</td>\n",
       "      <td>https://www.reddit.com/r/science/comments/eiiw...</td>\n",
       "      <td>https://www.erudipedia.co.uk/2020/01/scientist...</td>\n",
       "      <td>244.0</td>\n",
       "    </tr>\n",
       "  </tbody>\n",
       "</table>\n",
       "<p>27393 rows × 24 columns</p>\n",
       "</div>"
      ],
      "text/plain": [
       "              subreddit    subm_id     comm_id  month  week         day  \\\n",
       "0           nottheonion  t3_gjysno  t1_fqnw4f5    5.0  20.0  2020-05-15   \n",
       "1           nottheonion  t3_gjysim  t1_fqnw3h5    5.0  20.0  2020-05-15   \n",
       "2            LosAngeles  t3_gjtxlv  t1_fqn2uq8    5.0  20.0  2020-05-14   \n",
       "3               bayarea  t3_gjokcl  t1_fqmxo1j    5.0  20.0  2020-05-14   \n",
       "4      AmericanPolitics  t3_gjrjpf  t1_fqmphx8    5.0  20.0  2020-05-14   \n",
       "...                 ...        ...         ...    ...   ...         ...   \n",
       "27388          politics  t3_eieo7b  t1_fcpcw7f    1.0   1.0  2020-01-01   \n",
       "27389          politics  t3_eid766  t1_fcqg7lz    1.0   1.0  2020-01-01   \n",
       "27390          politics  t3_eicy4q  t1_fcqtl95    1.0   1.0  2020-01-01   \n",
       "27391          politics  t3_eicy4q  t1_fcpo47c    1.0   1.0  2020-01-01   \n",
       "27392           science  t3_eiiwt1  t1_fcr15tf    1.0   1.0  2020-01-01   \n",
       "\n",
       "          subreddit_cat  sent_id  \\\n",
       "0          generic_news        7   \n",
       "1          generic_news        7   \n",
       "2                 local        0   \n",
       "3                 local        0   \n",
       "4      generic_politics        0   \n",
       "...                 ...      ...   \n",
       "27388  generic_politics        1   \n",
       "27389  generic_politics        2   \n",
       "27390  generic_politics        1   \n",
       "27391  generic_politics        0   \n",
       "27392    science_health        1   \n",
       "\n",
       "                                                    sent  flag  ...  \\\n",
       "0      well, it's fake news hiding behind the \"satire...     1  ...   \n",
       "1      well, it's fake news hiding behind the \"satire...     1  ...   \n",
       "2                             Super misleading headline.     1  ...   \n",
       "3                     This title is extremely misleading     1  ...   \n",
       "4                           More anti-vaxxer propaganda.     1  ...   \n",
       "...                                                  ...   ...  ...   \n",
       "27388                                      it's bullshit     1  ...   \n",
       "27389                             this is such clickbait     1  ...   \n",
       "27390  This is bullshit propaganda and if he for some...     1  ...   \n",
       "27391  It's all the same bullshit it starts with the ...     1  ...   \n",
       "27392                    but I think this smells like bs     1  ...   \n",
       "\n",
       "       unreliable  propaganda  other  comm_parent_id  \\\n",
       "0               0           0      0       t3_gjysno   \n",
       "1               0           0      0       t3_gjysim   \n",
       "2               0           0      0       t3_gjtxlv   \n",
       "3               0           0      0       t3_gjokcl   \n",
       "4               0           1      0       t3_gjrjpf   \n",
       "...           ...         ...    ...             ...   \n",
       "27388           0           0      0       t3_eieo7b   \n",
       "27389           0           0      0       t3_eid766   \n",
       "27390           0           1      0       t3_eicy4q   \n",
       "27391           0           0      0       t3_eicy4q   \n",
       "27392           0           0      0       t3_eiiwt1   \n",
       "\n",
       "                                              subm_title  subm_removed  \\\n",
       "0      Experts Worry Unreal Engine 5 Will Deplete the...       deleted   \n",
       "1                   We’re running out of Triangles !.!.!       deleted   \n",
       "2      Unemployment in CA expected to peak at nearly ...       deleted   \n",
       "3      CA schools may reopen with mask requirement, s...       visible   \n",
       "4      Niall McCrae and David Kurten: EU Numbers Show...       visible   \n",
       "...                                                  ...           ...   \n",
       "27388  Giuliani Says He’s Prepared to ‘Do Demonstrati...       visible   \n",
       "27389  Trump follows Iran threat with bizarre 'change...       visible   \n",
       "27390  Giuliani says he would be willing to testify i...       visible   \n",
       "27391  Giuliani says he would be willing to testify i...       visible   \n",
       "27392  Study shows that is now possible to teleport t...       visible   \n",
       "\n",
       "       subm_covid                                          subm_link  \\\n",
       "0           False  https://www.reddit.com/r/nottheonion/comments/...   \n",
       "1           False  https://www.reddit.com/r/nottheonion/comments/...   \n",
       "2           False  https://www.reddit.com/r/LosAngeles/comments/g...   \n",
       "3           False  https://www.reddit.com/r/bayarea/comments/gjok...   \n",
       "4            True  https://www.reddit.com/r/AmericanPolitics/comm...   \n",
       "...           ...                                                ...   \n",
       "27388       False  https://www.reddit.com/r/politics/comments/eie...   \n",
       "27389       False  https://www.reddit.com/r/politics/comments/eid...   \n",
       "27390       False  https://www.reddit.com/r/politics/comments/eic...   \n",
       "27391       False  https://www.reddit.com/r/politics/comments/eic...   \n",
       "27392       False  https://www.reddit.com/r/science/comments/eiiw...   \n",
       "\n",
       "                                                link_url subm_ncomments  \n",
       "0      https://thehardtimes.net/harddrive/experts-wor...            2.0  \n",
       "1      https://thehardtimes.net/harddrive/experts-wor...            2.0  \n",
       "2      https://losangeles.cbslocal.com/2020/05/14/cor...            2.0  \n",
       "3      https://www.kcra.com/article/ca-schools-may-re...           92.0  \n",
       "4      https://www.thegatewaypundit.com/2020/05/niall...            6.0  \n",
       "...                                                  ...            ...  \n",
       "27388  https://www.thedailybeast.com/giuliani-says-he...           54.0  \n",
       "27389  https://www.independent.co.uk/news/world/ameri...          212.0  \n",
       "27390  https://thehill.com/homenews/administration/47...          811.0  \n",
       "27391  https://thehill.com/homenews/administration/47...          811.0  \n",
       "27392  https://www.erudipedia.co.uk/2020/01/scientist...          244.0  \n",
       "\n",
       "[27393 rows x 24 columns]"
      ]
     },
     "execution_count": 4,
     "metadata": {},
     "output_type": "execute_result"
    }
   ],
   "source": [
    "df_flags"
   ]
  },
  {
   "cell_type": "code",
   "execution_count": 1,
   "metadata": {},
   "outputs": [],
   "source": []
  },
  {
   "cell_type": "code",
   "execution_count": 14,
   "metadata": {},
   "outputs": [
    {
     "data": {
      "application/vnd.plotly.v1+json": {
       "config": {
        "plotlyServerURL": "https://plot.ly"
       },
       "data": [
        {
         "hovertemplate": "subreddit_cat=business_economics<br>week=%{x}<br>ISFLAG=%{y}<extra></extra>",
         "legendgroup": "business_economics",
         "line": {
          "color": "#636efa",
          "dash": "solid"
         },
         "mode": "lines",
         "name": "business_economics",
         "showlegend": true,
         "type": "scatter",
         "x": [
          1,
          2,
          3,
          4,
          5,
          6,
          7,
          8,
          9,
          10,
          11,
          12,
          13,
          14,
          15,
          16,
          17,
          18,
          19,
          20
         ],
         "xaxis": "x",
         "y": [
          7,
          5,
          7,
          11,
          8,
          8,
          9,
          5,
          13,
          11,
          7,
          24,
          21,
          15,
          12,
          6,
          18,
          11,
          8,
          4
         ],
         "yaxis": "y"
        },
        {
         "hovertemplate": "subreddit_cat=coronavirus<br>week=%{x}<br>ISFLAG=%{y}<extra></extra>",
         "legendgroup": "coronavirus",
         "line": {
          "color": "#EF553B",
          "dash": "solid"
         },
         "mode": "lines",
         "name": "coronavirus",
         "showlegend": true,
         "type": "scatter",
         "x": [
          4,
          5,
          6,
          7,
          8,
          9,
          10,
          11,
          12,
          13,
          14,
          15,
          16,
          17,
          18,
          19,
          20
         ],
         "xaxis": "x",
         "y": [
          15,
          121,
          124,
          128,
          110,
          275,
          577,
          617,
          691,
          695,
          574,
          508,
          417,
          319,
          290,
          245,
          126
         ],
         "yaxis": "y"
        },
        {
         "hovertemplate": "subreddit_cat=generic_news<br>week=%{x}<br>ISFLAG=%{y}<extra></extra>",
         "legendgroup": "generic_news",
         "line": {
          "color": "#00cc96",
          "dash": "solid"
         },
         "mode": "lines",
         "name": "generic_news",
         "showlegend": true,
         "type": "scatter",
         "x": [
          1,
          2,
          3,
          4,
          5,
          6,
          7,
          8,
          9,
          10,
          11,
          12,
          13,
          14,
          15,
          16,
          17,
          18,
          19,
          20
         ],
         "xaxis": "x",
         "y": [
          201,
          428,
          303,
          348,
          323,
          282,
          324,
          300,
          385,
          316,
          465,
          458,
          420,
          444,
          473,
          385,
          379,
          378,
          371,
          169
         ],
         "yaxis": "y"
        },
        {
         "hovertemplate": "subreddit_cat=generic_politics<br>week=%{x}<br>ISFLAG=%{y}<extra></extra>",
         "legendgroup": "generic_politics",
         "line": {
          "color": "#ab63fa",
          "dash": "solid"
         },
         "mode": "lines",
         "name": "generic_politics",
         "showlegend": true,
         "type": "scatter",
         "x": [
          1,
          2,
          3,
          4,
          5,
          6,
          7,
          8,
          9,
          10,
          11,
          12,
          13,
          14,
          15,
          16,
          17,
          18,
          19,
          20
         ],
         "xaxis": "x",
         "y": [
          175,
          367,
          325,
          318,
          327,
          334,
          349,
          327,
          374,
          439,
          488,
          460,
          524,
          417,
          423,
          423,
          396,
          427,
          395,
          212
         ],
         "yaxis": "y"
        },
        {
         "hovertemplate": "subreddit_cat=ideological<br>week=%{x}<br>ISFLAG=%{y}<extra></extra>",
         "legendgroup": "ideological",
         "line": {
          "color": "#FFA15A",
          "dash": "solid"
         },
         "mode": "lines",
         "name": "ideological",
         "showlegend": true,
         "type": "scatter",
         "x": [
          1,
          2,
          3,
          4,
          5,
          6,
          7,
          8,
          9,
          10,
          11,
          12,
          13,
          14,
          15,
          16,
          17,
          18,
          19,
          20
         ],
         "xaxis": "x",
         "y": [
          62,
          66,
          89,
          78,
          52,
          66,
          65,
          101,
          80,
          64,
          90,
          130,
          113,
          116,
          132,
          95,
          116,
          99,
          93,
          67
         ],
         "yaxis": "y"
        },
        {
         "hovertemplate": "subreddit_cat=local<br>week=%{x}<br>ISFLAG=%{y}<extra></extra>",
         "legendgroup": "local",
         "line": {
          "color": "#19d3f3",
          "dash": "solid"
         },
         "mode": "lines",
         "name": "local",
         "showlegend": true,
         "type": "scatter",
         "x": [
          1,
          2,
          3,
          4,
          5,
          6,
          7,
          8,
          9,
          10,
          11,
          12,
          13,
          14,
          15,
          16,
          17,
          18,
          19,
          20
         ],
         "xaxis": "x",
         "y": [
          75,
          114,
          128,
          123,
          88,
          132,
          125,
          110,
          119,
          125,
          139,
          163,
          191,
          183,
          179,
          163,
          133,
          134,
          153,
          104
         ],
         "yaxis": "y"
        },
        {
         "hovertemplate": "subreddit_cat=science_health<br>week=%{x}<br>ISFLAG=%{y}<extra></extra>",
         "legendgroup": "science_health",
         "line": {
          "color": "#FF6692",
          "dash": "solid"
         },
         "mode": "lines",
         "name": "science_health",
         "showlegend": true,
         "type": "scatter",
         "x": [
          1,
          2,
          3,
          4,
          5,
          6,
          7,
          8,
          9,
          10,
          11,
          12,
          13,
          14,
          15,
          16,
          17,
          18,
          19,
          20
         ],
         "xaxis": "x",
         "y": [
          16,
          35,
          40,
          32,
          40,
          25,
          45,
          43,
          32,
          26,
          31,
          48,
          51,
          42,
          33,
          37,
          31,
          26,
          31,
          22
         ],
         "yaxis": "y"
        },
        {
         "hovertemplate": "subreddit_cat=technology<br>week=%{x}<br>ISFLAG=%{y}<extra></extra>",
         "legendgroup": "technology",
         "line": {
          "color": "#B6E880",
          "dash": "solid"
         },
         "mode": "lines",
         "name": "technology",
         "showlegend": true,
         "type": "scatter",
         "x": [
          1,
          2,
          3,
          4,
          5,
          6,
          7,
          8,
          9,
          10,
          11,
          12,
          13,
          14,
          15,
          16,
          17,
          18,
          19,
          20
         ],
         "xaxis": "x",
         "y": [
          25,
          40,
          26,
          53,
          53,
          41,
          54,
          52,
          38,
          30,
          44,
          46,
          35,
          31,
          42,
          48,
          52,
          34,
          31,
          27
         ],
         "yaxis": "y"
        }
       ],
       "layout": {
        "legend": {
         "title": {
          "text": "subreddit_cat"
         },
         "tracegroupgap": 0
        },
        "margin": {
         "t": 60
        },
        "template": {
         "data": {
          "bar": [
           {
            "error_x": {
             "color": "#2a3f5f"
            },
            "error_y": {
             "color": "#2a3f5f"
            },
            "marker": {
             "line": {
              "color": "#E5ECF6",
              "width": 0.5
             }
            },
            "type": "bar"
           }
          ],
          "barpolar": [
           {
            "marker": {
             "line": {
              "color": "#E5ECF6",
              "width": 0.5
             }
            },
            "type": "barpolar"
           }
          ],
          "carpet": [
           {
            "aaxis": {
             "endlinecolor": "#2a3f5f",
             "gridcolor": "white",
             "linecolor": "white",
             "minorgridcolor": "white",
             "startlinecolor": "#2a3f5f"
            },
            "baxis": {
             "endlinecolor": "#2a3f5f",
             "gridcolor": "white",
             "linecolor": "white",
             "minorgridcolor": "white",
             "startlinecolor": "#2a3f5f"
            },
            "type": "carpet"
           }
          ],
          "choropleth": [
           {
            "colorbar": {
             "outlinewidth": 0,
             "ticks": ""
            },
            "type": "choropleth"
           }
          ],
          "contour": [
           {
            "colorbar": {
             "outlinewidth": 0,
             "ticks": ""
            },
            "colorscale": [
             [
              0,
              "#0d0887"
             ],
             [
              0.1111111111111111,
              "#46039f"
             ],
             [
              0.2222222222222222,
              "#7201a8"
             ],
             [
              0.3333333333333333,
              "#9c179e"
             ],
             [
              0.4444444444444444,
              "#bd3786"
             ],
             [
              0.5555555555555556,
              "#d8576b"
             ],
             [
              0.6666666666666666,
              "#ed7953"
             ],
             [
              0.7777777777777778,
              "#fb9f3a"
             ],
             [
              0.8888888888888888,
              "#fdca26"
             ],
             [
              1,
              "#f0f921"
             ]
            ],
            "type": "contour"
           }
          ],
          "contourcarpet": [
           {
            "colorbar": {
             "outlinewidth": 0,
             "ticks": ""
            },
            "type": "contourcarpet"
           }
          ],
          "heatmap": [
           {
            "colorbar": {
             "outlinewidth": 0,
             "ticks": ""
            },
            "colorscale": [
             [
              0,
              "#0d0887"
             ],
             [
              0.1111111111111111,
              "#46039f"
             ],
             [
              0.2222222222222222,
              "#7201a8"
             ],
             [
              0.3333333333333333,
              "#9c179e"
             ],
             [
              0.4444444444444444,
              "#bd3786"
             ],
             [
              0.5555555555555556,
              "#d8576b"
             ],
             [
              0.6666666666666666,
              "#ed7953"
             ],
             [
              0.7777777777777778,
              "#fb9f3a"
             ],
             [
              0.8888888888888888,
              "#fdca26"
             ],
             [
              1,
              "#f0f921"
             ]
            ],
            "type": "heatmap"
           }
          ],
          "heatmapgl": [
           {
            "colorbar": {
             "outlinewidth": 0,
             "ticks": ""
            },
            "colorscale": [
             [
              0,
              "#0d0887"
             ],
             [
              0.1111111111111111,
              "#46039f"
             ],
             [
              0.2222222222222222,
              "#7201a8"
             ],
             [
              0.3333333333333333,
              "#9c179e"
             ],
             [
              0.4444444444444444,
              "#bd3786"
             ],
             [
              0.5555555555555556,
              "#d8576b"
             ],
             [
              0.6666666666666666,
              "#ed7953"
             ],
             [
              0.7777777777777778,
              "#fb9f3a"
             ],
             [
              0.8888888888888888,
              "#fdca26"
             ],
             [
              1,
              "#f0f921"
             ]
            ],
            "type": "heatmapgl"
           }
          ],
          "histogram": [
           {
            "marker": {
             "colorbar": {
              "outlinewidth": 0,
              "ticks": ""
             }
            },
            "type": "histogram"
           }
          ],
          "histogram2d": [
           {
            "colorbar": {
             "outlinewidth": 0,
             "ticks": ""
            },
            "colorscale": [
             [
              0,
              "#0d0887"
             ],
             [
              0.1111111111111111,
              "#46039f"
             ],
             [
              0.2222222222222222,
              "#7201a8"
             ],
             [
              0.3333333333333333,
              "#9c179e"
             ],
             [
              0.4444444444444444,
              "#bd3786"
             ],
             [
              0.5555555555555556,
              "#d8576b"
             ],
             [
              0.6666666666666666,
              "#ed7953"
             ],
             [
              0.7777777777777778,
              "#fb9f3a"
             ],
             [
              0.8888888888888888,
              "#fdca26"
             ],
             [
              1,
              "#f0f921"
             ]
            ],
            "type": "histogram2d"
           }
          ],
          "histogram2dcontour": [
           {
            "colorbar": {
             "outlinewidth": 0,
             "ticks": ""
            },
            "colorscale": [
             [
              0,
              "#0d0887"
             ],
             [
              0.1111111111111111,
              "#46039f"
             ],
             [
              0.2222222222222222,
              "#7201a8"
             ],
             [
              0.3333333333333333,
              "#9c179e"
             ],
             [
              0.4444444444444444,
              "#bd3786"
             ],
             [
              0.5555555555555556,
              "#d8576b"
             ],
             [
              0.6666666666666666,
              "#ed7953"
             ],
             [
              0.7777777777777778,
              "#fb9f3a"
             ],
             [
              0.8888888888888888,
              "#fdca26"
             ],
             [
              1,
              "#f0f921"
             ]
            ],
            "type": "histogram2dcontour"
           }
          ],
          "mesh3d": [
           {
            "colorbar": {
             "outlinewidth": 0,
             "ticks": ""
            },
            "type": "mesh3d"
           }
          ],
          "parcoords": [
           {
            "line": {
             "colorbar": {
              "outlinewidth": 0,
              "ticks": ""
             }
            },
            "type": "parcoords"
           }
          ],
          "pie": [
           {
            "automargin": true,
            "type": "pie"
           }
          ],
          "scatter": [
           {
            "marker": {
             "colorbar": {
              "outlinewidth": 0,
              "ticks": ""
             }
            },
            "type": "scatter"
           }
          ],
          "scatter3d": [
           {
            "line": {
             "colorbar": {
              "outlinewidth": 0,
              "ticks": ""
             }
            },
            "marker": {
             "colorbar": {
              "outlinewidth": 0,
              "ticks": ""
             }
            },
            "type": "scatter3d"
           }
          ],
          "scattercarpet": [
           {
            "marker": {
             "colorbar": {
              "outlinewidth": 0,
              "ticks": ""
             }
            },
            "type": "scattercarpet"
           }
          ],
          "scattergeo": [
           {
            "marker": {
             "colorbar": {
              "outlinewidth": 0,
              "ticks": ""
             }
            },
            "type": "scattergeo"
           }
          ],
          "scattergl": [
           {
            "marker": {
             "colorbar": {
              "outlinewidth": 0,
              "ticks": ""
             }
            },
            "type": "scattergl"
           }
          ],
          "scattermapbox": [
           {
            "marker": {
             "colorbar": {
              "outlinewidth": 0,
              "ticks": ""
             }
            },
            "type": "scattermapbox"
           }
          ],
          "scatterpolar": [
           {
            "marker": {
             "colorbar": {
              "outlinewidth": 0,
              "ticks": ""
             }
            },
            "type": "scatterpolar"
           }
          ],
          "scatterpolargl": [
           {
            "marker": {
             "colorbar": {
              "outlinewidth": 0,
              "ticks": ""
             }
            },
            "type": "scatterpolargl"
           }
          ],
          "scatterternary": [
           {
            "marker": {
             "colorbar": {
              "outlinewidth": 0,
              "ticks": ""
             }
            },
            "type": "scatterternary"
           }
          ],
          "surface": [
           {
            "colorbar": {
             "outlinewidth": 0,
             "ticks": ""
            },
            "colorscale": [
             [
              0,
              "#0d0887"
             ],
             [
              0.1111111111111111,
              "#46039f"
             ],
             [
              0.2222222222222222,
              "#7201a8"
             ],
             [
              0.3333333333333333,
              "#9c179e"
             ],
             [
              0.4444444444444444,
              "#bd3786"
             ],
             [
              0.5555555555555556,
              "#d8576b"
             ],
             [
              0.6666666666666666,
              "#ed7953"
             ],
             [
              0.7777777777777778,
              "#fb9f3a"
             ],
             [
              0.8888888888888888,
              "#fdca26"
             ],
             [
              1,
              "#f0f921"
             ]
            ],
            "type": "surface"
           }
          ],
          "table": [
           {
            "cells": {
             "fill": {
              "color": "#EBF0F8"
             },
             "line": {
              "color": "white"
             }
            },
            "header": {
             "fill": {
              "color": "#C8D4E3"
             },
             "line": {
              "color": "white"
             }
            },
            "type": "table"
           }
          ]
         },
         "layout": {
          "annotationdefaults": {
           "arrowcolor": "#2a3f5f",
           "arrowhead": 0,
           "arrowwidth": 1
          },
          "coloraxis": {
           "colorbar": {
            "outlinewidth": 0,
            "ticks": ""
           }
          },
          "colorscale": {
           "diverging": [
            [
             0,
             "#8e0152"
            ],
            [
             0.1,
             "#c51b7d"
            ],
            [
             0.2,
             "#de77ae"
            ],
            [
             0.3,
             "#f1b6da"
            ],
            [
             0.4,
             "#fde0ef"
            ],
            [
             0.5,
             "#f7f7f7"
            ],
            [
             0.6,
             "#e6f5d0"
            ],
            [
             0.7,
             "#b8e186"
            ],
            [
             0.8,
             "#7fbc41"
            ],
            [
             0.9,
             "#4d9221"
            ],
            [
             1,
             "#276419"
            ]
           ],
           "sequential": [
            [
             0,
             "#0d0887"
            ],
            [
             0.1111111111111111,
             "#46039f"
            ],
            [
             0.2222222222222222,
             "#7201a8"
            ],
            [
             0.3333333333333333,
             "#9c179e"
            ],
            [
             0.4444444444444444,
             "#bd3786"
            ],
            [
             0.5555555555555556,
             "#d8576b"
            ],
            [
             0.6666666666666666,
             "#ed7953"
            ],
            [
             0.7777777777777778,
             "#fb9f3a"
            ],
            [
             0.8888888888888888,
             "#fdca26"
            ],
            [
             1,
             "#f0f921"
            ]
           ],
           "sequentialminus": [
            [
             0,
             "#0d0887"
            ],
            [
             0.1111111111111111,
             "#46039f"
            ],
            [
             0.2222222222222222,
             "#7201a8"
            ],
            [
             0.3333333333333333,
             "#9c179e"
            ],
            [
             0.4444444444444444,
             "#bd3786"
            ],
            [
             0.5555555555555556,
             "#d8576b"
            ],
            [
             0.6666666666666666,
             "#ed7953"
            ],
            [
             0.7777777777777778,
             "#fb9f3a"
            ],
            [
             0.8888888888888888,
             "#fdca26"
            ],
            [
             1,
             "#f0f921"
            ]
           ]
          },
          "colorway": [
           "#636efa",
           "#EF553B",
           "#00cc96",
           "#ab63fa",
           "#FFA15A",
           "#19d3f3",
           "#FF6692",
           "#B6E880",
           "#FF97FF",
           "#FECB52"
          ],
          "font": {
           "color": "#2a3f5f"
          },
          "geo": {
           "bgcolor": "white",
           "lakecolor": "white",
           "landcolor": "#E5ECF6",
           "showlakes": true,
           "showland": true,
           "subunitcolor": "white"
          },
          "hoverlabel": {
           "align": "left"
          },
          "hovermode": "closest",
          "mapbox": {
           "style": "light"
          },
          "paper_bgcolor": "white",
          "plot_bgcolor": "#E5ECF6",
          "polar": {
           "angularaxis": {
            "gridcolor": "white",
            "linecolor": "white",
            "ticks": ""
           },
           "bgcolor": "#E5ECF6",
           "radialaxis": {
            "gridcolor": "white",
            "linecolor": "white",
            "ticks": ""
           }
          },
          "scene": {
           "xaxis": {
            "backgroundcolor": "#E5ECF6",
            "gridcolor": "white",
            "gridwidth": 2,
            "linecolor": "white",
            "showbackground": true,
            "ticks": "",
            "zerolinecolor": "white"
           },
           "yaxis": {
            "backgroundcolor": "#E5ECF6",
            "gridcolor": "white",
            "gridwidth": 2,
            "linecolor": "white",
            "showbackground": true,
            "ticks": "",
            "zerolinecolor": "white"
           },
           "zaxis": {
            "backgroundcolor": "#E5ECF6",
            "gridcolor": "white",
            "gridwidth": 2,
            "linecolor": "white",
            "showbackground": true,
            "ticks": "",
            "zerolinecolor": "white"
           }
          },
          "shapedefaults": {
           "line": {
            "color": "#2a3f5f"
           }
          },
          "ternary": {
           "aaxis": {
            "gridcolor": "white",
            "linecolor": "white",
            "ticks": ""
           },
           "baxis": {
            "gridcolor": "white",
            "linecolor": "white",
            "ticks": ""
           },
           "bgcolor": "#E5ECF6",
           "caxis": {
            "gridcolor": "white",
            "linecolor": "white",
            "ticks": ""
           }
          },
          "title": {
           "x": 0.05
          },
          "xaxis": {
           "automargin": true,
           "gridcolor": "white",
           "linecolor": "white",
           "ticks": "",
           "title": {
            "standoff": 15
           },
           "zerolinecolor": "white",
           "zerolinewidth": 2
          },
          "yaxis": {
           "automargin": true,
           "gridcolor": "white",
           "linecolor": "white",
           "ticks": "",
           "title": {
            "standoff": 15
           },
           "zerolinecolor": "white",
           "zerolinewidth": 2
          }
         }
        },
        "xaxis": {
         "anchor": "y",
         "domain": [
          0,
          1
         ],
         "title": {
          "text": "week"
         }
        },
        "yaxis": {
         "anchor": "x",
         "domain": [
          0,
          1
         ],
         "title": {
          "text": "ISFLAG"
         }
        }
       }
      },
      "text/html": [
       "<div>\n",
       "        \n",
       "        \n",
       "            <div id=\"be96c78c-ad0b-4b14-8b33-f8fdb8fd1fc7\" class=\"plotly-graph-div\" style=\"height:525px; width:100%;\"></div>\n",
       "            <script type=\"text/javascript\">\n",
       "                require([\"plotly\"], function(Plotly) {\n",
       "                    window.PLOTLYENV=window.PLOTLYENV || {};\n",
       "                    \n",
       "                if (document.getElementById(\"be96c78c-ad0b-4b14-8b33-f8fdb8fd1fc7\")) {\n",
       "                    Plotly.newPlot(\n",
       "                        'be96c78c-ad0b-4b14-8b33-f8fdb8fd1fc7',\n",
       "                        [{\"hovertemplate\": \"subreddit_cat=business_economics<br>week=%{x}<br>ISFLAG=%{y}<extra></extra>\", \"legendgroup\": \"business_economics\", \"line\": {\"color\": \"#636efa\", \"dash\": \"solid\"}, \"mode\": \"lines\", \"name\": \"business_economics\", \"showlegend\": true, \"type\": \"scatter\", \"x\": [1, 2, 3, 4, 5, 6, 7, 8, 9, 10, 11, 12, 13, 14, 15, 16, 17, 18, 19, 20], \"xaxis\": \"x\", \"y\": [7.0, 5.0, 7.0, 11.0, 8.0, 8.0, 9.0, 5.0, 13.0, 11.0, 7.0, 24.0, 21.0, 15.0, 12.0, 6.0, 18.0, 11.0, 8.0, 4.0], \"yaxis\": \"y\"}, {\"hovertemplate\": \"subreddit_cat=coronavirus<br>week=%{x}<br>ISFLAG=%{y}<extra></extra>\", \"legendgroup\": \"coronavirus\", \"line\": {\"color\": \"#EF553B\", \"dash\": \"solid\"}, \"mode\": \"lines\", \"name\": \"coronavirus\", \"showlegend\": true, \"type\": \"scatter\", \"x\": [4, 5, 6, 7, 8, 9, 10, 11, 12, 13, 14, 15, 16, 17, 18, 19, 20], \"xaxis\": \"x\", \"y\": [15.0, 121.0, 124.0, 128.0, 110.0, 275.0, 577.0, 617.0, 691.0, 695.0, 574.0, 508.0, 417.0, 319.0, 290.0, 245.0, 126.0], \"yaxis\": \"y\"}, {\"hovertemplate\": \"subreddit_cat=generic_news<br>week=%{x}<br>ISFLAG=%{y}<extra></extra>\", \"legendgroup\": \"generic_news\", \"line\": {\"color\": \"#00cc96\", \"dash\": \"solid\"}, \"mode\": \"lines\", \"name\": \"generic_news\", \"showlegend\": true, \"type\": \"scatter\", \"x\": [1, 2, 3, 4, 5, 6, 7, 8, 9, 10, 11, 12, 13, 14, 15, 16, 17, 18, 19, 20], \"xaxis\": \"x\", \"y\": [201.0, 428.0, 303.0, 348.0, 323.0, 282.0, 324.0, 300.0, 385.0, 316.0, 465.0, 458.0, 420.0, 444.0, 473.0, 385.0, 379.0, 378.0, 371.0, 169.0], \"yaxis\": \"y\"}, {\"hovertemplate\": \"subreddit_cat=generic_politics<br>week=%{x}<br>ISFLAG=%{y}<extra></extra>\", \"legendgroup\": \"generic_politics\", \"line\": {\"color\": \"#ab63fa\", \"dash\": \"solid\"}, \"mode\": \"lines\", \"name\": \"generic_politics\", \"showlegend\": true, \"type\": \"scatter\", \"x\": [1, 2, 3, 4, 5, 6, 7, 8, 9, 10, 11, 12, 13, 14, 15, 16, 17, 18, 19, 20], \"xaxis\": \"x\", \"y\": [175.0, 367.0, 325.0, 318.0, 327.0, 334.0, 349.0, 327.0, 374.0, 439.0, 488.0, 460.0, 524.0, 417.0, 423.0, 423.0, 396.0, 427.0, 395.0, 212.0], \"yaxis\": \"y\"}, {\"hovertemplate\": \"subreddit_cat=ideological<br>week=%{x}<br>ISFLAG=%{y}<extra></extra>\", \"legendgroup\": \"ideological\", \"line\": {\"color\": \"#FFA15A\", \"dash\": \"solid\"}, \"mode\": \"lines\", \"name\": \"ideological\", \"showlegend\": true, \"type\": \"scatter\", \"x\": [1, 2, 3, 4, 5, 6, 7, 8, 9, 10, 11, 12, 13, 14, 15, 16, 17, 18, 19, 20], \"xaxis\": \"x\", \"y\": [62.0, 66.0, 89.0, 78.0, 52.0, 66.0, 65.0, 101.0, 80.0, 64.0, 90.0, 130.0, 113.0, 116.0, 132.0, 95.0, 116.0, 99.0, 93.0, 67.0], \"yaxis\": \"y\"}, {\"hovertemplate\": \"subreddit_cat=local<br>week=%{x}<br>ISFLAG=%{y}<extra></extra>\", \"legendgroup\": \"local\", \"line\": {\"color\": \"#19d3f3\", \"dash\": \"solid\"}, \"mode\": \"lines\", \"name\": \"local\", \"showlegend\": true, \"type\": \"scatter\", \"x\": [1, 2, 3, 4, 5, 6, 7, 8, 9, 10, 11, 12, 13, 14, 15, 16, 17, 18, 19, 20], \"xaxis\": \"x\", \"y\": [75.0, 114.0, 128.0, 123.0, 88.0, 132.0, 125.0, 110.0, 119.0, 125.0, 139.0, 163.0, 191.0, 183.0, 179.0, 163.0, 133.0, 134.0, 153.0, 104.0], \"yaxis\": \"y\"}, {\"hovertemplate\": \"subreddit_cat=science_health<br>week=%{x}<br>ISFLAG=%{y}<extra></extra>\", \"legendgroup\": \"science_health\", \"line\": {\"color\": \"#FF6692\", \"dash\": \"solid\"}, \"mode\": \"lines\", \"name\": \"science_health\", \"showlegend\": true, \"type\": \"scatter\", \"x\": [1, 2, 3, 4, 5, 6, 7, 8, 9, 10, 11, 12, 13, 14, 15, 16, 17, 18, 19, 20], \"xaxis\": \"x\", \"y\": [16.0, 35.0, 40.0, 32.0, 40.0, 25.0, 45.0, 43.0, 32.0, 26.0, 31.0, 48.0, 51.0, 42.0, 33.0, 37.0, 31.0, 26.0, 31.0, 22.0], \"yaxis\": \"y\"}, {\"hovertemplate\": \"subreddit_cat=technology<br>week=%{x}<br>ISFLAG=%{y}<extra></extra>\", \"legendgroup\": \"technology\", \"line\": {\"color\": \"#B6E880\", \"dash\": \"solid\"}, \"mode\": \"lines\", \"name\": \"technology\", \"showlegend\": true, \"type\": \"scatter\", \"x\": [1, 2, 3, 4, 5, 6, 7, 8, 9, 10, 11, 12, 13, 14, 15, 16, 17, 18, 19, 20], \"xaxis\": \"x\", \"y\": [25.0, 40.0, 26.0, 53.0, 53.0, 41.0, 54.0, 52.0, 38.0, 30.0, 44.0, 46.0, 35.0, 31.0, 42.0, 48.0, 52.0, 34.0, 31.0, 27.0], \"yaxis\": \"y\"}],\n",
       "                        {\"legend\": {\"title\": {\"text\": \"subreddit_cat\"}, \"tracegroupgap\": 0}, \"margin\": {\"t\": 60}, \"template\": {\"data\": {\"bar\": [{\"error_x\": {\"color\": \"#2a3f5f\"}, \"error_y\": {\"color\": \"#2a3f5f\"}, \"marker\": {\"line\": {\"color\": \"#E5ECF6\", \"width\": 0.5}}, \"type\": \"bar\"}], \"barpolar\": [{\"marker\": {\"line\": {\"color\": \"#E5ECF6\", \"width\": 0.5}}, \"type\": \"barpolar\"}], \"carpet\": [{\"aaxis\": {\"endlinecolor\": \"#2a3f5f\", \"gridcolor\": \"white\", \"linecolor\": \"white\", \"minorgridcolor\": \"white\", \"startlinecolor\": \"#2a3f5f\"}, \"baxis\": {\"endlinecolor\": \"#2a3f5f\", \"gridcolor\": \"white\", \"linecolor\": \"white\", \"minorgridcolor\": \"white\", \"startlinecolor\": \"#2a3f5f\"}, \"type\": \"carpet\"}], \"choropleth\": [{\"colorbar\": {\"outlinewidth\": 0, \"ticks\": \"\"}, \"type\": \"choropleth\"}], \"contour\": [{\"colorbar\": {\"outlinewidth\": 0, \"ticks\": \"\"}, \"colorscale\": [[0.0, \"#0d0887\"], [0.1111111111111111, \"#46039f\"], [0.2222222222222222, \"#7201a8\"], [0.3333333333333333, \"#9c179e\"], [0.4444444444444444, \"#bd3786\"], [0.5555555555555556, \"#d8576b\"], [0.6666666666666666, \"#ed7953\"], [0.7777777777777778, \"#fb9f3a\"], [0.8888888888888888, \"#fdca26\"], [1.0, \"#f0f921\"]], \"type\": \"contour\"}], \"contourcarpet\": [{\"colorbar\": {\"outlinewidth\": 0, \"ticks\": \"\"}, \"type\": \"contourcarpet\"}], \"heatmap\": [{\"colorbar\": {\"outlinewidth\": 0, \"ticks\": \"\"}, \"colorscale\": [[0.0, \"#0d0887\"], [0.1111111111111111, \"#46039f\"], [0.2222222222222222, \"#7201a8\"], [0.3333333333333333, \"#9c179e\"], [0.4444444444444444, \"#bd3786\"], [0.5555555555555556, \"#d8576b\"], [0.6666666666666666, \"#ed7953\"], [0.7777777777777778, \"#fb9f3a\"], [0.8888888888888888, \"#fdca26\"], [1.0, \"#f0f921\"]], \"type\": \"heatmap\"}], \"heatmapgl\": [{\"colorbar\": {\"outlinewidth\": 0, \"ticks\": \"\"}, \"colorscale\": [[0.0, \"#0d0887\"], [0.1111111111111111, \"#46039f\"], [0.2222222222222222, \"#7201a8\"], [0.3333333333333333, \"#9c179e\"], [0.4444444444444444, \"#bd3786\"], [0.5555555555555556, \"#d8576b\"], [0.6666666666666666, \"#ed7953\"], [0.7777777777777778, \"#fb9f3a\"], [0.8888888888888888, \"#fdca26\"], [1.0, \"#f0f921\"]], \"type\": \"heatmapgl\"}], \"histogram\": [{\"marker\": {\"colorbar\": {\"outlinewidth\": 0, \"ticks\": \"\"}}, \"type\": \"histogram\"}], \"histogram2d\": [{\"colorbar\": {\"outlinewidth\": 0, \"ticks\": \"\"}, \"colorscale\": [[0.0, \"#0d0887\"], [0.1111111111111111, \"#46039f\"], [0.2222222222222222, \"#7201a8\"], [0.3333333333333333, \"#9c179e\"], [0.4444444444444444, \"#bd3786\"], [0.5555555555555556, \"#d8576b\"], [0.6666666666666666, \"#ed7953\"], [0.7777777777777778, \"#fb9f3a\"], [0.8888888888888888, \"#fdca26\"], [1.0, \"#f0f921\"]], \"type\": \"histogram2d\"}], \"histogram2dcontour\": [{\"colorbar\": {\"outlinewidth\": 0, \"ticks\": \"\"}, \"colorscale\": [[0.0, \"#0d0887\"], [0.1111111111111111, \"#46039f\"], [0.2222222222222222, \"#7201a8\"], [0.3333333333333333, \"#9c179e\"], [0.4444444444444444, \"#bd3786\"], [0.5555555555555556, \"#d8576b\"], [0.6666666666666666, \"#ed7953\"], [0.7777777777777778, \"#fb9f3a\"], [0.8888888888888888, \"#fdca26\"], [1.0, \"#f0f921\"]], \"type\": \"histogram2dcontour\"}], \"mesh3d\": [{\"colorbar\": {\"outlinewidth\": 0, \"ticks\": \"\"}, \"type\": \"mesh3d\"}], \"parcoords\": [{\"line\": {\"colorbar\": {\"outlinewidth\": 0, \"ticks\": \"\"}}, \"type\": \"parcoords\"}], \"pie\": [{\"automargin\": true, \"type\": \"pie\"}], \"scatter\": [{\"marker\": {\"colorbar\": {\"outlinewidth\": 0, \"ticks\": \"\"}}, \"type\": \"scatter\"}], \"scatter3d\": [{\"line\": {\"colorbar\": {\"outlinewidth\": 0, \"ticks\": \"\"}}, \"marker\": {\"colorbar\": {\"outlinewidth\": 0, \"ticks\": \"\"}}, \"type\": \"scatter3d\"}], \"scattercarpet\": [{\"marker\": {\"colorbar\": {\"outlinewidth\": 0, \"ticks\": \"\"}}, \"type\": \"scattercarpet\"}], \"scattergeo\": [{\"marker\": {\"colorbar\": {\"outlinewidth\": 0, \"ticks\": \"\"}}, \"type\": \"scattergeo\"}], \"scattergl\": [{\"marker\": {\"colorbar\": {\"outlinewidth\": 0, \"ticks\": \"\"}}, \"type\": \"scattergl\"}], \"scattermapbox\": [{\"marker\": {\"colorbar\": {\"outlinewidth\": 0, \"ticks\": \"\"}}, \"type\": \"scattermapbox\"}], \"scatterpolar\": [{\"marker\": {\"colorbar\": {\"outlinewidth\": 0, \"ticks\": \"\"}}, \"type\": \"scatterpolar\"}], \"scatterpolargl\": [{\"marker\": {\"colorbar\": {\"outlinewidth\": 0, \"ticks\": \"\"}}, \"type\": \"scatterpolargl\"}], \"scatterternary\": [{\"marker\": {\"colorbar\": {\"outlinewidth\": 0, \"ticks\": \"\"}}, \"type\": \"scatterternary\"}], \"surface\": [{\"colorbar\": {\"outlinewidth\": 0, \"ticks\": \"\"}, \"colorscale\": [[0.0, \"#0d0887\"], [0.1111111111111111, \"#46039f\"], [0.2222222222222222, \"#7201a8\"], [0.3333333333333333, \"#9c179e\"], [0.4444444444444444, \"#bd3786\"], [0.5555555555555556, \"#d8576b\"], [0.6666666666666666, \"#ed7953\"], [0.7777777777777778, \"#fb9f3a\"], [0.8888888888888888, \"#fdca26\"], [1.0, \"#f0f921\"]], \"type\": \"surface\"}], \"table\": [{\"cells\": {\"fill\": {\"color\": \"#EBF0F8\"}, \"line\": {\"color\": \"white\"}}, \"header\": {\"fill\": {\"color\": \"#C8D4E3\"}, \"line\": {\"color\": \"white\"}}, \"type\": \"table\"}]}, \"layout\": {\"annotationdefaults\": {\"arrowcolor\": \"#2a3f5f\", \"arrowhead\": 0, \"arrowwidth\": 1}, \"coloraxis\": {\"colorbar\": {\"outlinewidth\": 0, \"ticks\": \"\"}}, \"colorscale\": {\"diverging\": [[0, \"#8e0152\"], [0.1, \"#c51b7d\"], [0.2, \"#de77ae\"], [0.3, \"#f1b6da\"], [0.4, \"#fde0ef\"], [0.5, \"#f7f7f7\"], [0.6, \"#e6f5d0\"], [0.7, \"#b8e186\"], [0.8, \"#7fbc41\"], [0.9, \"#4d9221\"], [1, \"#276419\"]], \"sequential\": [[0.0, \"#0d0887\"], [0.1111111111111111, \"#46039f\"], [0.2222222222222222, \"#7201a8\"], [0.3333333333333333, \"#9c179e\"], [0.4444444444444444, \"#bd3786\"], [0.5555555555555556, \"#d8576b\"], [0.6666666666666666, \"#ed7953\"], [0.7777777777777778, \"#fb9f3a\"], [0.8888888888888888, \"#fdca26\"], [1.0, \"#f0f921\"]], \"sequentialminus\": [[0.0, \"#0d0887\"], [0.1111111111111111, \"#46039f\"], [0.2222222222222222, \"#7201a8\"], [0.3333333333333333, \"#9c179e\"], [0.4444444444444444, \"#bd3786\"], [0.5555555555555556, \"#d8576b\"], [0.6666666666666666, \"#ed7953\"], [0.7777777777777778, \"#fb9f3a\"], [0.8888888888888888, \"#fdca26\"], [1.0, \"#f0f921\"]]}, \"colorway\": [\"#636efa\", \"#EF553B\", \"#00cc96\", \"#ab63fa\", \"#FFA15A\", \"#19d3f3\", \"#FF6692\", \"#B6E880\", \"#FF97FF\", \"#FECB52\"], \"font\": {\"color\": \"#2a3f5f\"}, \"geo\": {\"bgcolor\": \"white\", \"lakecolor\": \"white\", \"landcolor\": \"#E5ECF6\", \"showlakes\": true, \"showland\": true, \"subunitcolor\": \"white\"}, \"hoverlabel\": {\"align\": \"left\"}, \"hovermode\": \"closest\", \"mapbox\": {\"style\": \"light\"}, \"paper_bgcolor\": \"white\", \"plot_bgcolor\": \"#E5ECF6\", \"polar\": {\"angularaxis\": {\"gridcolor\": \"white\", \"linecolor\": \"white\", \"ticks\": \"\"}, \"bgcolor\": \"#E5ECF6\", \"radialaxis\": {\"gridcolor\": \"white\", \"linecolor\": \"white\", \"ticks\": \"\"}}, \"scene\": {\"xaxis\": {\"backgroundcolor\": \"#E5ECF6\", \"gridcolor\": \"white\", \"gridwidth\": 2, \"linecolor\": \"white\", \"showbackground\": true, \"ticks\": \"\", \"zerolinecolor\": \"white\"}, \"yaxis\": {\"backgroundcolor\": \"#E5ECF6\", \"gridcolor\": \"white\", \"gridwidth\": 2, \"linecolor\": \"white\", \"showbackground\": true, \"ticks\": \"\", \"zerolinecolor\": \"white\"}, \"zaxis\": {\"backgroundcolor\": \"#E5ECF6\", \"gridcolor\": \"white\", \"gridwidth\": 2, \"linecolor\": \"white\", \"showbackground\": true, \"ticks\": \"\", \"zerolinecolor\": \"white\"}}, \"shapedefaults\": {\"line\": {\"color\": \"#2a3f5f\"}}, \"ternary\": {\"aaxis\": {\"gridcolor\": \"white\", \"linecolor\": \"white\", \"ticks\": \"\"}, \"baxis\": {\"gridcolor\": \"white\", \"linecolor\": \"white\", \"ticks\": \"\"}, \"bgcolor\": \"#E5ECF6\", \"caxis\": {\"gridcolor\": \"white\", \"linecolor\": \"white\", \"ticks\": \"\"}}, \"title\": {\"x\": 0.05}, \"xaxis\": {\"automargin\": true, \"gridcolor\": \"white\", \"linecolor\": \"white\", \"ticks\": \"\", \"title\": {\"standoff\": 15}, \"zerolinecolor\": \"white\", \"zerolinewidth\": 2}, \"yaxis\": {\"automargin\": true, \"gridcolor\": \"white\", \"linecolor\": \"white\", \"ticks\": \"\", \"title\": {\"standoff\": 15}, \"zerolinecolor\": \"white\", \"zerolinewidth\": 2}}}, \"xaxis\": {\"anchor\": \"y\", \"domain\": [0.0, 1.0], \"title\": {\"text\": \"week\"}}, \"yaxis\": {\"anchor\": \"x\", \"domain\": [0.0, 1.0], \"title\": {\"text\": \"ISFLAG\"}}},\n",
       "                        {\"responsive\": true}\n",
       "                    ).then(function(){\n",
       "                            \n",
       "var gd = document.getElementById('be96c78c-ad0b-4b14-8b33-f8fdb8fd1fc7');\n",
       "var x = new MutationObserver(function (mutations, observer) {{\n",
       "        var display = window.getComputedStyle(gd).display;\n",
       "        if (!display || display === 'none') {{\n",
       "            console.log([gd, 'removed!']);\n",
       "            Plotly.purge(gd);\n",
       "            observer.disconnect();\n",
       "        }}\n",
       "}});\n",
       "\n",
       "// Listen for the removal of the full notebook cells\n",
       "var notebookContainer = gd.closest('#notebook-container');\n",
       "if (notebookContainer) {{\n",
       "    x.observe(notebookContainer, {childList: true});\n",
       "}}\n",
       "\n",
       "// Listen for the clearing of the current output cell\n",
       "var outputEl = gd.closest('.output');\n",
       "if (outputEl) {{\n",
       "    x.observe(outputEl, {childList: true});\n",
       "}}\n",
       "\n",
       "                        })\n",
       "                };\n",
       "                });\n",
       "            </script>\n",
       "        </div>"
      ]
     },
     "metadata": {},
     "output_type": "display_data"
    }
   ],
   "source": [
    "filtered_df_week_cat = get_flag_perc(filtered_df_week, ['subreddit_cat','week'])\n",
    "subr_line_all = px.line(\n",
    "                    filtered_df_week_cat,\n",
    "                    x = \"week\",\n",
    "                    y = \"ISFLAG\",\n",
    "                    color = \"subreddit_cat\")\n",
    "subr_line_all.show()"
   ]
  },
  {
   "cell_type": "code",
   "execution_count": 9,
   "metadata": {},
   "outputs": [
    {
     "data": {
      "application/vnd.plotly.v1+json": {
       "config": {
        "plotlyServerURL": "https://plot.ly"
       },
       "data": [
        {
         "branchvalues": "total",
         "customdata": [
          [
           "generic_politics"
          ],
          [
           "coronavirus"
          ],
          [
           "coronavirus"
          ],
          [
           "coronavirus"
          ],
          [
           "coronavirus"
          ],
          [
           "coronavirus"
          ],
          [
           "coronavirus"
          ],
          [
           "coronavirus"
          ],
          [
           "coronavirus"
          ],
          [
           "coronavirus"
          ],
          [
           "ideological"
          ],
          [
           "coronavirus"
          ],
          [
           "local"
          ],
          [
           "local"
          ],
          [
           "ideological"
          ],
          [
           "science_health"
          ],
          [
           "technology"
          ],
          [
           "science_health"
          ],
          [
           "business_economics"
          ],
          [
           "ideological"
          ],
          [
           "coronavirus"
          ],
          [
           "ideological"
          ],
          [
           "generic_news"
          ],
          [
           "local"
          ],
          [
           "ideological"
          ],
          [
           "ideological"
          ],
          [
           "local"
          ],
          [
           "local"
          ],
          [
           "technology"
          ],
          [
           "ideological"
          ],
          [
           "local"
          ],
          [
           "ideological"
          ],
          [
           "business_economics"
          ],
          [
           "science_health"
          ],
          [
           "ideological"
          ],
          [
           "local"
          ],
          [
           "generic_news"
          ],
          [
           "local"
          ],
          [
           "ideological"
          ],
          [
           "ideological"
          ],
          [
           "technology"
          ],
          [
           "local"
          ],
          [
           "ideological"
          ],
          [
           "generic_politics"
          ],
          [
           "generic_news"
          ],
          [
           "ideological"
          ],
          [
           "generic_politics"
          ],
          [
           "local"
          ],
          [
           "generic_news"
          ],
          [
           "local"
          ],
          [
           "generic_news"
          ],
          [
           "local"
          ],
          [
           "generic_politics"
          ],
          [
           "local"
          ],
          [
           "local"
          ],
          [
           "technology"
          ],
          [
           "science_health"
          ],
          [
           "local"
          ],
          [
           "local"
          ],
          [
           "local"
          ],
          [
           "ideological"
          ],
          [
           "local"
          ],
          [
           "local"
          ],
          [
           "ideological"
          ],
          [
           "business_economics"
          ],
          [
           "science_health"
          ],
          [
           "ideological"
          ],
          [
           "local"
          ],
          [
           "science_health"
          ],
          [
           "science_health"
          ],
          [
           "local"
          ],
          [
           "local"
          ],
          [
           "generic_news"
          ],
          [
           "local"
          ],
          [
           "local"
          ],
          [
           "ideological"
          ],
          [
           "ideological"
          ],
          [
           "technology"
          ],
          [
           "technology"
          ],
          [
           "technology"
          ],
          [
           "local"
          ],
          [
           "ideological"
          ],
          [
           "local"
          ],
          [
           "generic_politics"
          ],
          [
           "generic_news"
          ],
          [
           "local"
          ],
          [
           "local"
          ],
          [
           "generic_news"
          ],
          [
           "generic_politics"
          ],
          [
           "business_economics"
          ],
          [
           "coronavirus"
          ],
          [
           "generic_news"
          ],
          [
           "generic_politics"
          ],
          [
           "ideological"
          ],
          [
           "local"
          ],
          [
           "science_health"
          ],
          [
           "technology"
          ]
         ],
         "domain": {
          "x": [
           0,
           1
          ],
          "y": [
           0,
           1
          ]
         },
         "hovertemplate": "subreddit_cat=%{customdata[0]}<br>labels=%{label}<br>ISFLAG=%{value}<br>parent=%{parent}<br>id=%{id}<extra></extra>",
         "ids": [
          "generic_politics/AmericanPolitics",
          "coronavirus/COVID19",
          "coronavirus/CanadaCoronavirus",
          "coronavirus/CoronavirusUK",
          "coronavirus/CoronavirusRecession",
          "coronavirus/CoronavirusDownunder",
          "coronavirus/CoronavirusCA",
          "coronavirus/Coronavirus",
          "coronavirus/CoronaVirus_2019_nCoV",
          "coronavirus/CoronaVirusTX",
          "ideological/Conservative",
          "coronavirus/China_Flu",
          "local/China",
          "local/CanadaPolitics",
          "ideological/Impeach_Trump",
          "science_health/Health",
          "technology/Futurology",
          "science_health/EverythingScience",
          "business_economics/Economics",
          "ideological/DrainTheSwamp",
          "coronavirus/CoronavirusUS",
          "ideological/EnoughTrumpSpam",
          "generic_news/NewsOfTheStupid",
          "local/IndiaSpeaks",
          "ideological/LateStageCapitalism",
          "ideological/Libertarian",
          "local/LosAngeles",
          "local/Michigan",
          "technology/apple",
          "ideological/atheism",
          "local/australia",
          "ideological/WayOfTheBern",
          "business_economics/business",
          "science_health/collapse",
          "ideological/conservatives",
          "local/bayarea",
          "generic_news/UpliftingNews",
          "local/canada",
          "ideological/The_Mueller",
          "ideological/TheNewRight",
          "technology/TechNewsToday",
          "local/Sino",
          "ideological/Republican",
          "generic_politics/PoliticalVideo",
          "generic_news/USNEWS",
          "ideological/POTUSWatch",
          "generic_politics/POLITIC",
          "local/newjersey",
          "generic_news/news",
          "local/newzealand",
          "generic_news/nottheonion",
          "local/nyc",
          "generic_politics/politics",
          "local/ottawa",
          "local/pakistan",
          "technology/microsoft",
          "science_health/science",
          "local/singapore",
          "local/ontario",
          "local/metacanada",
          "ideological/neoliberal",
          "local/japan",
          "local/maryland",
          "ideological/conspiracy",
          "business_economics/economy",
          "science_health/environment",
          "ideological/esist",
          "local/europe",
          "science_health/dataisbeautiful",
          "science_health/healthcare",
          "local/india",
          "local/indianews",
          "generic_news/inthenews",
          "local/ireland",
          "local/florida",
          "ideological/skeptic",
          "ideological/socialism",
          "technology/tech",
          "technology/technews",
          "technology/technology",
          "local/toronto",
          "ideological/trump",
          "local/vancouver",
          "generic_politics/uspolitics",
          "generic_news/worldnews",
          "local/unitedkingdom",
          "local/ukpolitics",
          "generic_news/usanews",
          "generic_politics/worldpolitics",
          "business_economics",
          "coronavirus",
          "generic_news",
          "generic_politics",
          "ideological",
          "local",
          "science_health",
          "technology"
         ],
         "labels": [
          "AmericanPolitics",
          "COVID19",
          "CanadaCoronavirus",
          "CoronavirusUK",
          "CoronavirusRecession",
          "CoronavirusDownunder",
          "CoronavirusCA",
          "Coronavirus",
          "CoronaVirus_2019_nCoV",
          "CoronaVirusTX",
          "Conservative",
          "China_Flu",
          "China",
          "CanadaPolitics",
          "Impeach_Trump",
          "Health",
          "Futurology",
          "EverythingScience",
          "Economics",
          "DrainTheSwamp",
          "CoronavirusUS",
          "EnoughTrumpSpam",
          "NewsOfTheStupid",
          "IndiaSpeaks",
          "LateStageCapitalism",
          "Libertarian",
          "LosAngeles",
          "Michigan",
          "apple",
          "atheism",
          "australia",
          "WayOfTheBern",
          "business",
          "collapse",
          "conservatives",
          "bayarea",
          "UpliftingNews",
          "canada",
          "The_Mueller",
          "TheNewRight",
          "TechNewsToday",
          "Sino",
          "Republican",
          "PoliticalVideo",
          "USNEWS",
          "POTUSWatch",
          "POLITIC",
          "newjersey",
          "news",
          "newzealand",
          "nottheonion",
          "nyc",
          "politics",
          "ottawa",
          "pakistan",
          "microsoft",
          "science",
          "singapore",
          "ontario",
          "metacanada",
          "neoliberal",
          "japan",
          "maryland",
          "conspiracy",
          "economy",
          "environment",
          "esist",
          "europe",
          "dataisbeautiful",
          "healthcare",
          "india",
          "indianews",
          "inthenews",
          "ireland",
          "florida",
          "skeptic",
          "socialism",
          "tech",
          "technews",
          "technology",
          "toronto",
          "trump",
          "vancouver",
          "uspolitics",
          "worldnews",
          "unitedkingdom",
          "ukpolitics",
          "usanews",
          "worldpolitics",
          "business_economics",
          "coronavirus",
          "generic_news",
          "generic_politics",
          "ideological",
          "local",
          "science_health",
          "technology"
         ],
         "marker": {
          "colors": [
           "#636efa",
           "#EF553B",
           "#EF553B",
           "#EF553B",
           "#EF553B",
           "#EF553B",
           "#EF553B",
           "#EF553B",
           "#EF553B",
           "#EF553B",
           "#00cc96",
           "#EF553B",
           "#ab63fa",
           "#ab63fa",
           "#00cc96",
           "#FFA15A",
           "#19d3f3",
           "#FFA15A",
           "#FF6692",
           "#00cc96",
           "#EF553B",
           "#00cc96",
           "#B6E880",
           "#ab63fa",
           "#00cc96",
           "#00cc96",
           "#ab63fa",
           "#ab63fa",
           "#19d3f3",
           "#00cc96",
           "#ab63fa",
           "#00cc96",
           "#FF6692",
           "#FFA15A",
           "#00cc96",
           "#ab63fa",
           "#B6E880",
           "#ab63fa",
           "#00cc96",
           "#00cc96",
           "#19d3f3",
           "#ab63fa",
           "#00cc96",
           "#636efa",
           "#B6E880",
           "#00cc96",
           "#636efa",
           "#ab63fa",
           "#B6E880",
           "#ab63fa",
           "#B6E880",
           "#ab63fa",
           "#636efa",
           "#ab63fa",
           "#ab63fa",
           "#19d3f3",
           "#FFA15A",
           "#ab63fa",
           "#ab63fa",
           "#ab63fa",
           "#00cc96",
           "#ab63fa",
           "#ab63fa",
           "#00cc96",
           "#FF6692",
           "#FFA15A",
           "#00cc96",
           "#ab63fa",
           "#FFA15A",
           "#FFA15A",
           "#ab63fa",
           "#ab63fa",
           "#B6E880",
           "#ab63fa",
           "#ab63fa",
           "#00cc96",
           "#00cc96",
           "#19d3f3",
           "#19d3f3",
           "#19d3f3",
           "#ab63fa",
           "#00cc96",
           "#ab63fa",
           "#636efa",
           "#B6E880",
           "#ab63fa",
           "#ab63fa",
           "#B6E880",
           "#636efa",
           "#FF6692",
           "#EF553B",
           "#B6E880",
           "#636efa",
           "#00cc96",
           "#ab63fa",
           "#FFA15A",
           "#19d3f3"
          ]
         },
         "name": "",
         "parents": [
          "generic_politics",
          "coronavirus",
          "coronavirus",
          "coronavirus",
          "coronavirus",
          "coronavirus",
          "coronavirus",
          "coronavirus",
          "coronavirus",
          "coronavirus",
          "ideological",
          "coronavirus",
          "local",
          "local",
          "ideological",
          "science_health",
          "technology",
          "science_health",
          "business_economics",
          "ideological",
          "coronavirus",
          "ideological",
          "generic_news",
          "local",
          "ideological",
          "ideological",
          "local",
          "local",
          "technology",
          "ideological",
          "local",
          "ideological",
          "business_economics",
          "science_health",
          "ideological",
          "local",
          "generic_news",
          "local",
          "ideological",
          "ideological",
          "technology",
          "local",
          "ideological",
          "generic_politics",
          "generic_news",
          "ideological",
          "generic_politics",
          "local",
          "generic_news",
          "local",
          "generic_news",
          "local",
          "generic_politics",
          "local",
          "local",
          "technology",
          "science_health",
          "local",
          "local",
          "local",
          "ideological",
          "local",
          "local",
          "ideological",
          "business_economics",
          "science_health",
          "ideological",
          "local",
          "science_health",
          "science_health",
          "local",
          "local",
          "generic_news",
          "local",
          "local",
          "ideological",
          "ideological",
          "technology",
          "technology",
          "technology",
          "local",
          "ideological",
          "local",
          "generic_politics",
          "generic_news",
          "local",
          "local",
          "generic_news",
          "generic_politics",
          "",
          "",
          "",
          "",
          "",
          "",
          "",
          ""
         ],
         "type": "treemap",
         "values": [
          11,
          74,
          47,
          48,
          28,
          23,
          39,
          4684,
          17,
          17,
          444,
          740,
          129,
          61,
          5,
          33,
          283,
          77,
          114,
          68,
          115,
          7,
          4,
          133,
          13,
          313,
          10,
          51,
          6,
          232,
          227,
          119,
          24,
          105,
          39,
          42,
          243,
          375,
          28,
          8,
          58,
          46,
          41,
          1,
          14,
          13,
          209,
          3,
          953,
          79,
          2010,
          46,
          6767,
          13,
          35,
          1,
          366,
          56,
          67,
          70,
          74,
          2,
          12,
          281,
          72,
          83,
          5,
          332,
          18,
          4,
          187,
          34,
          42,
          48,
          26,
          29,
          1,
          52,
          50,
          352,
          47,
          54,
          60,
          43,
          3881,
          223,
          267,
          5,
          469,
          210,
          5832,
          7152,
          7500,
          1774,
          2681,
          686,
          802
         ]
        }
       ],
       "layout": {
        "legend": {
         "tracegroupgap": 0
        },
        "margin": {
         "t": 60
        },
        "template": {
         "data": {
          "bar": [
           {
            "error_x": {
             "color": "#2a3f5f"
            },
            "error_y": {
             "color": "#2a3f5f"
            },
            "marker": {
             "line": {
              "color": "#E5ECF6",
              "width": 0.5
             }
            },
            "type": "bar"
           }
          ],
          "barpolar": [
           {
            "marker": {
             "line": {
              "color": "#E5ECF6",
              "width": 0.5
             }
            },
            "type": "barpolar"
           }
          ],
          "carpet": [
           {
            "aaxis": {
             "endlinecolor": "#2a3f5f",
             "gridcolor": "white",
             "linecolor": "white",
             "minorgridcolor": "white",
             "startlinecolor": "#2a3f5f"
            },
            "baxis": {
             "endlinecolor": "#2a3f5f",
             "gridcolor": "white",
             "linecolor": "white",
             "minorgridcolor": "white",
             "startlinecolor": "#2a3f5f"
            },
            "type": "carpet"
           }
          ],
          "choropleth": [
           {
            "colorbar": {
             "outlinewidth": 0,
             "ticks": ""
            },
            "type": "choropleth"
           }
          ],
          "contour": [
           {
            "colorbar": {
             "outlinewidth": 0,
             "ticks": ""
            },
            "colorscale": [
             [
              0,
              "#0d0887"
             ],
             [
              0.1111111111111111,
              "#46039f"
             ],
             [
              0.2222222222222222,
              "#7201a8"
             ],
             [
              0.3333333333333333,
              "#9c179e"
             ],
             [
              0.4444444444444444,
              "#bd3786"
             ],
             [
              0.5555555555555556,
              "#d8576b"
             ],
             [
              0.6666666666666666,
              "#ed7953"
             ],
             [
              0.7777777777777778,
              "#fb9f3a"
             ],
             [
              0.8888888888888888,
              "#fdca26"
             ],
             [
              1,
              "#f0f921"
             ]
            ],
            "type": "contour"
           }
          ],
          "contourcarpet": [
           {
            "colorbar": {
             "outlinewidth": 0,
             "ticks": ""
            },
            "type": "contourcarpet"
           }
          ],
          "heatmap": [
           {
            "colorbar": {
             "outlinewidth": 0,
             "ticks": ""
            },
            "colorscale": [
             [
              0,
              "#0d0887"
             ],
             [
              0.1111111111111111,
              "#46039f"
             ],
             [
              0.2222222222222222,
              "#7201a8"
             ],
             [
              0.3333333333333333,
              "#9c179e"
             ],
             [
              0.4444444444444444,
              "#bd3786"
             ],
             [
              0.5555555555555556,
              "#d8576b"
             ],
             [
              0.6666666666666666,
              "#ed7953"
             ],
             [
              0.7777777777777778,
              "#fb9f3a"
             ],
             [
              0.8888888888888888,
              "#fdca26"
             ],
             [
              1,
              "#f0f921"
             ]
            ],
            "type": "heatmap"
           }
          ],
          "heatmapgl": [
           {
            "colorbar": {
             "outlinewidth": 0,
             "ticks": ""
            },
            "colorscale": [
             [
              0,
              "#0d0887"
             ],
             [
              0.1111111111111111,
              "#46039f"
             ],
             [
              0.2222222222222222,
              "#7201a8"
             ],
             [
              0.3333333333333333,
              "#9c179e"
             ],
             [
              0.4444444444444444,
              "#bd3786"
             ],
             [
              0.5555555555555556,
              "#d8576b"
             ],
             [
              0.6666666666666666,
              "#ed7953"
             ],
             [
              0.7777777777777778,
              "#fb9f3a"
             ],
             [
              0.8888888888888888,
              "#fdca26"
             ],
             [
              1,
              "#f0f921"
             ]
            ],
            "type": "heatmapgl"
           }
          ],
          "histogram": [
           {
            "marker": {
             "colorbar": {
              "outlinewidth": 0,
              "ticks": ""
             }
            },
            "type": "histogram"
           }
          ],
          "histogram2d": [
           {
            "colorbar": {
             "outlinewidth": 0,
             "ticks": ""
            },
            "colorscale": [
             [
              0,
              "#0d0887"
             ],
             [
              0.1111111111111111,
              "#46039f"
             ],
             [
              0.2222222222222222,
              "#7201a8"
             ],
             [
              0.3333333333333333,
              "#9c179e"
             ],
             [
              0.4444444444444444,
              "#bd3786"
             ],
             [
              0.5555555555555556,
              "#d8576b"
             ],
             [
              0.6666666666666666,
              "#ed7953"
             ],
             [
              0.7777777777777778,
              "#fb9f3a"
             ],
             [
              0.8888888888888888,
              "#fdca26"
             ],
             [
              1,
              "#f0f921"
             ]
            ],
            "type": "histogram2d"
           }
          ],
          "histogram2dcontour": [
           {
            "colorbar": {
             "outlinewidth": 0,
             "ticks": ""
            },
            "colorscale": [
             [
              0,
              "#0d0887"
             ],
             [
              0.1111111111111111,
              "#46039f"
             ],
             [
              0.2222222222222222,
              "#7201a8"
             ],
             [
              0.3333333333333333,
              "#9c179e"
             ],
             [
              0.4444444444444444,
              "#bd3786"
             ],
             [
              0.5555555555555556,
              "#d8576b"
             ],
             [
              0.6666666666666666,
              "#ed7953"
             ],
             [
              0.7777777777777778,
              "#fb9f3a"
             ],
             [
              0.8888888888888888,
              "#fdca26"
             ],
             [
              1,
              "#f0f921"
             ]
            ],
            "type": "histogram2dcontour"
           }
          ],
          "mesh3d": [
           {
            "colorbar": {
             "outlinewidth": 0,
             "ticks": ""
            },
            "type": "mesh3d"
           }
          ],
          "parcoords": [
           {
            "line": {
             "colorbar": {
              "outlinewidth": 0,
              "ticks": ""
             }
            },
            "type": "parcoords"
           }
          ],
          "pie": [
           {
            "automargin": true,
            "type": "pie"
           }
          ],
          "scatter": [
           {
            "marker": {
             "colorbar": {
              "outlinewidth": 0,
              "ticks": ""
             }
            },
            "type": "scatter"
           }
          ],
          "scatter3d": [
           {
            "line": {
             "colorbar": {
              "outlinewidth": 0,
              "ticks": ""
             }
            },
            "marker": {
             "colorbar": {
              "outlinewidth": 0,
              "ticks": ""
             }
            },
            "type": "scatter3d"
           }
          ],
          "scattercarpet": [
           {
            "marker": {
             "colorbar": {
              "outlinewidth": 0,
              "ticks": ""
             }
            },
            "type": "scattercarpet"
           }
          ],
          "scattergeo": [
           {
            "marker": {
             "colorbar": {
              "outlinewidth": 0,
              "ticks": ""
             }
            },
            "type": "scattergeo"
           }
          ],
          "scattergl": [
           {
            "marker": {
             "colorbar": {
              "outlinewidth": 0,
              "ticks": ""
             }
            },
            "type": "scattergl"
           }
          ],
          "scattermapbox": [
           {
            "marker": {
             "colorbar": {
              "outlinewidth": 0,
              "ticks": ""
             }
            },
            "type": "scattermapbox"
           }
          ],
          "scatterpolar": [
           {
            "marker": {
             "colorbar": {
              "outlinewidth": 0,
              "ticks": ""
             }
            },
            "type": "scatterpolar"
           }
          ],
          "scatterpolargl": [
           {
            "marker": {
             "colorbar": {
              "outlinewidth": 0,
              "ticks": ""
             }
            },
            "type": "scatterpolargl"
           }
          ],
          "scatterternary": [
           {
            "marker": {
             "colorbar": {
              "outlinewidth": 0,
              "ticks": ""
             }
            },
            "type": "scatterternary"
           }
          ],
          "surface": [
           {
            "colorbar": {
             "outlinewidth": 0,
             "ticks": ""
            },
            "colorscale": [
             [
              0,
              "#0d0887"
             ],
             [
              0.1111111111111111,
              "#46039f"
             ],
             [
              0.2222222222222222,
              "#7201a8"
             ],
             [
              0.3333333333333333,
              "#9c179e"
             ],
             [
              0.4444444444444444,
              "#bd3786"
             ],
             [
              0.5555555555555556,
              "#d8576b"
             ],
             [
              0.6666666666666666,
              "#ed7953"
             ],
             [
              0.7777777777777778,
              "#fb9f3a"
             ],
             [
              0.8888888888888888,
              "#fdca26"
             ],
             [
              1,
              "#f0f921"
             ]
            ],
            "type": "surface"
           }
          ],
          "table": [
           {
            "cells": {
             "fill": {
              "color": "#EBF0F8"
             },
             "line": {
              "color": "white"
             }
            },
            "header": {
             "fill": {
              "color": "#C8D4E3"
             },
             "line": {
              "color": "white"
             }
            },
            "type": "table"
           }
          ]
         },
         "layout": {
          "annotationdefaults": {
           "arrowcolor": "#2a3f5f",
           "arrowhead": 0,
           "arrowwidth": 1
          },
          "coloraxis": {
           "colorbar": {
            "outlinewidth": 0,
            "ticks": ""
           }
          },
          "colorscale": {
           "diverging": [
            [
             0,
             "#8e0152"
            ],
            [
             0.1,
             "#c51b7d"
            ],
            [
             0.2,
             "#de77ae"
            ],
            [
             0.3,
             "#f1b6da"
            ],
            [
             0.4,
             "#fde0ef"
            ],
            [
             0.5,
             "#f7f7f7"
            ],
            [
             0.6,
             "#e6f5d0"
            ],
            [
             0.7,
             "#b8e186"
            ],
            [
             0.8,
             "#7fbc41"
            ],
            [
             0.9,
             "#4d9221"
            ],
            [
             1,
             "#276419"
            ]
           ],
           "sequential": [
            [
             0,
             "#0d0887"
            ],
            [
             0.1111111111111111,
             "#46039f"
            ],
            [
             0.2222222222222222,
             "#7201a8"
            ],
            [
             0.3333333333333333,
             "#9c179e"
            ],
            [
             0.4444444444444444,
             "#bd3786"
            ],
            [
             0.5555555555555556,
             "#d8576b"
            ],
            [
             0.6666666666666666,
             "#ed7953"
            ],
            [
             0.7777777777777778,
             "#fb9f3a"
            ],
            [
             0.8888888888888888,
             "#fdca26"
            ],
            [
             1,
             "#f0f921"
            ]
           ],
           "sequentialminus": [
            [
             0,
             "#0d0887"
            ],
            [
             0.1111111111111111,
             "#46039f"
            ],
            [
             0.2222222222222222,
             "#7201a8"
            ],
            [
             0.3333333333333333,
             "#9c179e"
            ],
            [
             0.4444444444444444,
             "#bd3786"
            ],
            [
             0.5555555555555556,
             "#d8576b"
            ],
            [
             0.6666666666666666,
             "#ed7953"
            ],
            [
             0.7777777777777778,
             "#fb9f3a"
            ],
            [
             0.8888888888888888,
             "#fdca26"
            ],
            [
             1,
             "#f0f921"
            ]
           ]
          },
          "colorway": [
           "#636efa",
           "#EF553B",
           "#00cc96",
           "#ab63fa",
           "#FFA15A",
           "#19d3f3",
           "#FF6692",
           "#B6E880",
           "#FF97FF",
           "#FECB52"
          ],
          "font": {
           "color": "#2a3f5f"
          },
          "geo": {
           "bgcolor": "white",
           "lakecolor": "white",
           "landcolor": "#E5ECF6",
           "showlakes": true,
           "showland": true,
           "subunitcolor": "white"
          },
          "hoverlabel": {
           "align": "left"
          },
          "hovermode": "closest",
          "mapbox": {
           "style": "light"
          },
          "paper_bgcolor": "white",
          "plot_bgcolor": "#E5ECF6",
          "polar": {
           "angularaxis": {
            "gridcolor": "white",
            "linecolor": "white",
            "ticks": ""
           },
           "bgcolor": "#E5ECF6",
           "radialaxis": {
            "gridcolor": "white",
            "linecolor": "white",
            "ticks": ""
           }
          },
          "scene": {
           "xaxis": {
            "backgroundcolor": "#E5ECF6",
            "gridcolor": "white",
            "gridwidth": 2,
            "linecolor": "white",
            "showbackground": true,
            "ticks": "",
            "zerolinecolor": "white"
           },
           "yaxis": {
            "backgroundcolor": "#E5ECF6",
            "gridcolor": "white",
            "gridwidth": 2,
            "linecolor": "white",
            "showbackground": true,
            "ticks": "",
            "zerolinecolor": "white"
           },
           "zaxis": {
            "backgroundcolor": "#E5ECF6",
            "gridcolor": "white",
            "gridwidth": 2,
            "linecolor": "white",
            "showbackground": true,
            "ticks": "",
            "zerolinecolor": "white"
           }
          },
          "shapedefaults": {
           "line": {
            "color": "#2a3f5f"
           }
          },
          "ternary": {
           "aaxis": {
            "gridcolor": "white",
            "linecolor": "white",
            "ticks": ""
           },
           "baxis": {
            "gridcolor": "white",
            "linecolor": "white",
            "ticks": ""
           },
           "bgcolor": "#E5ECF6",
           "caxis": {
            "gridcolor": "white",
            "linecolor": "white",
            "ticks": ""
           }
          },
          "title": {
           "x": 0.05
          },
          "xaxis": {
           "automargin": true,
           "gridcolor": "white",
           "linecolor": "white",
           "ticks": "",
           "title": {
            "standoff": 15
           },
           "zerolinecolor": "white",
           "zerolinewidth": 2
          },
          "yaxis": {
           "automargin": true,
           "gridcolor": "white",
           "linecolor": "white",
           "ticks": "",
           "title": {
            "standoff": 15
           },
           "zerolinecolor": "white",
           "zerolinewidth": 2
          }
         }
        }
       }
      },
      "text/html": [
       "<div>\n",
       "        \n",
       "        \n",
       "            <div id=\"c4fb0fac-d774-4e4d-8653-752820bfac50\" class=\"plotly-graph-div\" style=\"height:525px; width:100%;\"></div>\n",
       "            <script type=\"text/javascript\">\n",
       "                require([\"plotly\"], function(Plotly) {\n",
       "                    window.PLOTLYENV=window.PLOTLYENV || {};\n",
       "                    \n",
       "                if (document.getElementById(\"c4fb0fac-d774-4e4d-8653-752820bfac50\")) {\n",
       "                    Plotly.newPlot(\n",
       "                        'c4fb0fac-d774-4e4d-8653-752820bfac50',\n",
       "                        [{\"branchvalues\": \"total\", \"customdata\": [[\"generic_politics\"], [\"coronavirus\"], [\"coronavirus\"], [\"coronavirus\"], [\"coronavirus\"], [\"coronavirus\"], [\"coronavirus\"], [\"coronavirus\"], [\"coronavirus\"], [\"coronavirus\"], [\"ideological\"], [\"coronavirus\"], [\"local\"], [\"local\"], [\"ideological\"], [\"science_health\"], [\"technology\"], [\"science_health\"], [\"business_economics\"], [\"ideological\"], [\"coronavirus\"], [\"ideological\"], [\"generic_news\"], [\"local\"], [\"ideological\"], [\"ideological\"], [\"local\"], [\"local\"], [\"technology\"], [\"ideological\"], [\"local\"], [\"ideological\"], [\"business_economics\"], [\"science_health\"], [\"ideological\"], [\"local\"], [\"generic_news\"], [\"local\"], [\"ideological\"], [\"ideological\"], [\"technology\"], [\"local\"], [\"ideological\"], [\"generic_politics\"], [\"generic_news\"], [\"ideological\"], [\"generic_politics\"], [\"local\"], [\"generic_news\"], [\"local\"], [\"generic_news\"], [\"local\"], [\"generic_politics\"], [\"local\"], [\"local\"], [\"technology\"], [\"science_health\"], [\"local\"], [\"local\"], [\"local\"], [\"ideological\"], [\"local\"], [\"local\"], [\"ideological\"], [\"business_economics\"], [\"science_health\"], [\"ideological\"], [\"local\"], [\"science_health\"], [\"science_health\"], [\"local\"], [\"local\"], [\"generic_news\"], [\"local\"], [\"local\"], [\"ideological\"], [\"ideological\"], [\"technology\"], [\"technology\"], [\"technology\"], [\"local\"], [\"ideological\"], [\"local\"], [\"generic_politics\"], [\"generic_news\"], [\"local\"], [\"local\"], [\"generic_news\"], [\"generic_politics\"], [\"business_economics\"], [\"coronavirus\"], [\"generic_news\"], [\"generic_politics\"], [\"ideological\"], [\"local\"], [\"science_health\"], [\"technology\"]], \"domain\": {\"x\": [0.0, 1.0], \"y\": [0.0, 1.0]}, \"hovertemplate\": \"subreddit_cat=%{customdata[0]}<br>labels=%{label}<br>ISFLAG=%{value}<br>parent=%{parent}<br>id=%{id}<extra></extra>\", \"ids\": [\"generic_politics/AmericanPolitics\", \"coronavirus/COVID19\", \"coronavirus/CanadaCoronavirus\", \"coronavirus/CoronavirusUK\", \"coronavirus/CoronavirusRecession\", \"coronavirus/CoronavirusDownunder\", \"coronavirus/CoronavirusCA\", \"coronavirus/Coronavirus\", \"coronavirus/CoronaVirus_2019_nCoV\", \"coronavirus/CoronaVirusTX\", \"ideological/Conservative\", \"coronavirus/China_Flu\", \"local/China\", \"local/CanadaPolitics\", \"ideological/Impeach_Trump\", \"science_health/Health\", \"technology/Futurology\", \"science_health/EverythingScience\", \"business_economics/Economics\", \"ideological/DrainTheSwamp\", \"coronavirus/CoronavirusUS\", \"ideological/EnoughTrumpSpam\", \"generic_news/NewsOfTheStupid\", \"local/IndiaSpeaks\", \"ideological/LateStageCapitalism\", \"ideological/Libertarian\", \"local/LosAngeles\", \"local/Michigan\", \"technology/apple\", \"ideological/atheism\", \"local/australia\", \"ideological/WayOfTheBern\", \"business_economics/business\", \"science_health/collapse\", \"ideological/conservatives\", \"local/bayarea\", \"generic_news/UpliftingNews\", \"local/canada\", \"ideological/The_Mueller\", \"ideological/TheNewRight\", \"technology/TechNewsToday\", \"local/Sino\", \"ideological/Republican\", \"generic_politics/PoliticalVideo\", \"generic_news/USNEWS\", \"ideological/POTUSWatch\", \"generic_politics/POLITIC\", \"local/newjersey\", \"generic_news/news\", \"local/newzealand\", \"generic_news/nottheonion\", \"local/nyc\", \"generic_politics/politics\", \"local/ottawa\", \"local/pakistan\", \"technology/microsoft\", \"science_health/science\", \"local/singapore\", \"local/ontario\", \"local/metacanada\", \"ideological/neoliberal\", \"local/japan\", \"local/maryland\", \"ideological/conspiracy\", \"business_economics/economy\", \"science_health/environment\", \"ideological/esist\", \"local/europe\", \"science_health/dataisbeautiful\", \"science_health/healthcare\", \"local/india\", \"local/indianews\", \"generic_news/inthenews\", \"local/ireland\", \"local/florida\", \"ideological/skeptic\", \"ideological/socialism\", \"technology/tech\", \"technology/technews\", \"technology/technology\", \"local/toronto\", \"ideological/trump\", \"local/vancouver\", \"generic_politics/uspolitics\", \"generic_news/worldnews\", \"local/unitedkingdom\", \"local/ukpolitics\", \"generic_news/usanews\", \"generic_politics/worldpolitics\", \"business_economics\", \"coronavirus\", \"generic_news\", \"generic_politics\", \"ideological\", \"local\", \"science_health\", \"technology\"], \"labels\": [\"AmericanPolitics\", \"COVID19\", \"CanadaCoronavirus\", \"CoronavirusUK\", \"CoronavirusRecession\", \"CoronavirusDownunder\", \"CoronavirusCA\", \"Coronavirus\", \"CoronaVirus_2019_nCoV\", \"CoronaVirusTX\", \"Conservative\", \"China_Flu\", \"China\", \"CanadaPolitics\", \"Impeach_Trump\", \"Health\", \"Futurology\", \"EverythingScience\", \"Economics\", \"DrainTheSwamp\", \"CoronavirusUS\", \"EnoughTrumpSpam\", \"NewsOfTheStupid\", \"IndiaSpeaks\", \"LateStageCapitalism\", \"Libertarian\", \"LosAngeles\", \"Michigan\", \"apple\", \"atheism\", \"australia\", \"WayOfTheBern\", \"business\", \"collapse\", \"conservatives\", \"bayarea\", \"UpliftingNews\", \"canada\", \"The_Mueller\", \"TheNewRight\", \"TechNewsToday\", \"Sino\", \"Republican\", \"PoliticalVideo\", \"USNEWS\", \"POTUSWatch\", \"POLITIC\", \"newjersey\", \"news\", \"newzealand\", \"nottheonion\", \"nyc\", \"politics\", \"ottawa\", \"pakistan\", \"microsoft\", \"science\", \"singapore\", \"ontario\", \"metacanada\", \"neoliberal\", \"japan\", \"maryland\", \"conspiracy\", \"economy\", \"environment\", \"esist\", \"europe\", \"dataisbeautiful\", \"healthcare\", \"india\", \"indianews\", \"inthenews\", \"ireland\", \"florida\", \"skeptic\", \"socialism\", \"tech\", \"technews\", \"technology\", \"toronto\", \"trump\", \"vancouver\", \"uspolitics\", \"worldnews\", \"unitedkingdom\", \"ukpolitics\", \"usanews\", \"worldpolitics\", \"business_economics\", \"coronavirus\", \"generic_news\", \"generic_politics\", \"ideological\", \"local\", \"science_health\", \"technology\"], \"marker\": {\"colors\": [\"#636efa\", \"#EF553B\", \"#EF553B\", \"#EF553B\", \"#EF553B\", \"#EF553B\", \"#EF553B\", \"#EF553B\", \"#EF553B\", \"#EF553B\", \"#00cc96\", \"#EF553B\", \"#ab63fa\", \"#ab63fa\", \"#00cc96\", \"#FFA15A\", \"#19d3f3\", \"#FFA15A\", \"#FF6692\", \"#00cc96\", \"#EF553B\", \"#00cc96\", \"#B6E880\", \"#ab63fa\", \"#00cc96\", \"#00cc96\", \"#ab63fa\", \"#ab63fa\", \"#19d3f3\", \"#00cc96\", \"#ab63fa\", \"#00cc96\", \"#FF6692\", \"#FFA15A\", \"#00cc96\", \"#ab63fa\", \"#B6E880\", \"#ab63fa\", \"#00cc96\", \"#00cc96\", \"#19d3f3\", \"#ab63fa\", \"#00cc96\", \"#636efa\", \"#B6E880\", \"#00cc96\", \"#636efa\", \"#ab63fa\", \"#B6E880\", \"#ab63fa\", \"#B6E880\", \"#ab63fa\", \"#636efa\", \"#ab63fa\", \"#ab63fa\", \"#19d3f3\", \"#FFA15A\", \"#ab63fa\", \"#ab63fa\", \"#ab63fa\", \"#00cc96\", \"#ab63fa\", \"#ab63fa\", \"#00cc96\", \"#FF6692\", \"#FFA15A\", \"#00cc96\", \"#ab63fa\", \"#FFA15A\", \"#FFA15A\", \"#ab63fa\", \"#ab63fa\", \"#B6E880\", \"#ab63fa\", \"#ab63fa\", \"#00cc96\", \"#00cc96\", \"#19d3f3\", \"#19d3f3\", \"#19d3f3\", \"#ab63fa\", \"#00cc96\", \"#ab63fa\", \"#636efa\", \"#B6E880\", \"#ab63fa\", \"#ab63fa\", \"#B6E880\", \"#636efa\", \"#FF6692\", \"#EF553B\", \"#B6E880\", \"#636efa\", \"#00cc96\", \"#ab63fa\", \"#FFA15A\", \"#19d3f3\"]}, \"name\": \"\", \"parents\": [\"generic_politics\", \"coronavirus\", \"coronavirus\", \"coronavirus\", \"coronavirus\", \"coronavirus\", \"coronavirus\", \"coronavirus\", \"coronavirus\", \"coronavirus\", \"ideological\", \"coronavirus\", \"local\", \"local\", \"ideological\", \"science_health\", \"technology\", \"science_health\", \"business_economics\", \"ideological\", \"coronavirus\", \"ideological\", \"generic_news\", \"local\", \"ideological\", \"ideological\", \"local\", \"local\", \"technology\", \"ideological\", \"local\", \"ideological\", \"business_economics\", \"science_health\", \"ideological\", \"local\", \"generic_news\", \"local\", \"ideological\", \"ideological\", \"technology\", \"local\", \"ideological\", \"generic_politics\", \"generic_news\", \"ideological\", \"generic_politics\", \"local\", \"generic_news\", \"local\", \"generic_news\", \"local\", \"generic_politics\", \"local\", \"local\", \"technology\", \"science_health\", \"local\", \"local\", \"local\", \"ideological\", \"local\", \"local\", \"ideological\", \"business_economics\", \"science_health\", \"ideological\", \"local\", \"science_health\", \"science_health\", \"local\", \"local\", \"generic_news\", \"local\", \"local\", \"ideological\", \"ideological\", \"technology\", \"technology\", \"technology\", \"local\", \"ideological\", \"local\", \"generic_politics\", \"generic_news\", \"local\", \"local\", \"generic_news\", \"generic_politics\", \"\", \"\", \"\", \"\", \"\", \"\", \"\", \"\"], \"type\": \"treemap\", \"values\": [11.0, 74.0, 47.0, 48.0, 28.0, 23.0, 39.0, 4684.0, 17.0, 17.0, 444.0, 740.0, 129.0, 61.0, 5.0, 33.0, 283.0, 77.0, 114.0, 68.0, 115.0, 7.0, 4.0, 133.0, 13.0, 313.0, 10.0, 51.0, 6.0, 232.0, 227.0, 119.0, 24.0, 105.0, 39.0, 42.0, 243.0, 375.0, 28.0, 8.0, 58.0, 46.0, 41.0, 1.0, 14.0, 13.0, 209.0, 3.0, 953.0, 79.0, 2010.0, 46.0, 6767.0, 13.0, 35.0, 1.0, 366.0, 56.0, 67.0, 70.0, 74.0, 2.0, 12.0, 281.0, 72.0, 83.0, 5.0, 332.0, 18.0, 4.0, 187.0, 34.0, 42.0, 48.0, 26.0, 29.0, 1.0, 52.0, 50.0, 352.0, 47.0, 54.0, 60.0, 43.0, 3881.0, 223.0, 267.0, 5.0, 469.0, 210.0, 5832.0, 7152.0, 7500.0, 1774.0, 2681.0, 686.0, 802.0]}],\n",
       "                        {\"legend\": {\"tracegroupgap\": 0}, \"margin\": {\"t\": 60}, \"template\": {\"data\": {\"bar\": [{\"error_x\": {\"color\": \"#2a3f5f\"}, \"error_y\": {\"color\": \"#2a3f5f\"}, \"marker\": {\"line\": {\"color\": \"#E5ECF6\", \"width\": 0.5}}, \"type\": \"bar\"}], \"barpolar\": [{\"marker\": {\"line\": {\"color\": \"#E5ECF6\", \"width\": 0.5}}, \"type\": \"barpolar\"}], \"carpet\": [{\"aaxis\": {\"endlinecolor\": \"#2a3f5f\", \"gridcolor\": \"white\", \"linecolor\": \"white\", \"minorgridcolor\": \"white\", \"startlinecolor\": \"#2a3f5f\"}, \"baxis\": {\"endlinecolor\": \"#2a3f5f\", \"gridcolor\": \"white\", \"linecolor\": \"white\", \"minorgridcolor\": \"white\", \"startlinecolor\": \"#2a3f5f\"}, \"type\": \"carpet\"}], \"choropleth\": [{\"colorbar\": {\"outlinewidth\": 0, \"ticks\": \"\"}, \"type\": \"choropleth\"}], \"contour\": [{\"colorbar\": {\"outlinewidth\": 0, \"ticks\": \"\"}, \"colorscale\": [[0.0, \"#0d0887\"], [0.1111111111111111, \"#46039f\"], [0.2222222222222222, \"#7201a8\"], [0.3333333333333333, \"#9c179e\"], [0.4444444444444444, \"#bd3786\"], [0.5555555555555556, \"#d8576b\"], [0.6666666666666666, \"#ed7953\"], [0.7777777777777778, \"#fb9f3a\"], [0.8888888888888888, \"#fdca26\"], [1.0, \"#f0f921\"]], \"type\": \"contour\"}], \"contourcarpet\": [{\"colorbar\": {\"outlinewidth\": 0, \"ticks\": \"\"}, \"type\": \"contourcarpet\"}], \"heatmap\": [{\"colorbar\": {\"outlinewidth\": 0, \"ticks\": \"\"}, \"colorscale\": [[0.0, \"#0d0887\"], [0.1111111111111111, \"#46039f\"], [0.2222222222222222, \"#7201a8\"], [0.3333333333333333, \"#9c179e\"], [0.4444444444444444, \"#bd3786\"], [0.5555555555555556, \"#d8576b\"], [0.6666666666666666, \"#ed7953\"], [0.7777777777777778, \"#fb9f3a\"], [0.8888888888888888, \"#fdca26\"], [1.0, \"#f0f921\"]], \"type\": \"heatmap\"}], \"heatmapgl\": [{\"colorbar\": {\"outlinewidth\": 0, \"ticks\": \"\"}, \"colorscale\": [[0.0, \"#0d0887\"], [0.1111111111111111, \"#46039f\"], [0.2222222222222222, \"#7201a8\"], [0.3333333333333333, \"#9c179e\"], [0.4444444444444444, \"#bd3786\"], [0.5555555555555556, \"#d8576b\"], [0.6666666666666666, \"#ed7953\"], [0.7777777777777778, \"#fb9f3a\"], [0.8888888888888888, \"#fdca26\"], [1.0, \"#f0f921\"]], \"type\": \"heatmapgl\"}], \"histogram\": [{\"marker\": {\"colorbar\": {\"outlinewidth\": 0, \"ticks\": \"\"}}, \"type\": \"histogram\"}], \"histogram2d\": [{\"colorbar\": {\"outlinewidth\": 0, \"ticks\": \"\"}, \"colorscale\": [[0.0, \"#0d0887\"], [0.1111111111111111, \"#46039f\"], [0.2222222222222222, \"#7201a8\"], [0.3333333333333333, \"#9c179e\"], [0.4444444444444444, \"#bd3786\"], [0.5555555555555556, \"#d8576b\"], [0.6666666666666666, \"#ed7953\"], [0.7777777777777778, \"#fb9f3a\"], [0.8888888888888888, \"#fdca26\"], [1.0, \"#f0f921\"]], \"type\": \"histogram2d\"}], \"histogram2dcontour\": [{\"colorbar\": {\"outlinewidth\": 0, \"ticks\": \"\"}, \"colorscale\": [[0.0, \"#0d0887\"], [0.1111111111111111, \"#46039f\"], [0.2222222222222222, \"#7201a8\"], [0.3333333333333333, \"#9c179e\"], [0.4444444444444444, \"#bd3786\"], [0.5555555555555556, \"#d8576b\"], [0.6666666666666666, \"#ed7953\"], [0.7777777777777778, \"#fb9f3a\"], [0.8888888888888888, \"#fdca26\"], [1.0, \"#f0f921\"]], \"type\": \"histogram2dcontour\"}], \"mesh3d\": [{\"colorbar\": {\"outlinewidth\": 0, \"ticks\": \"\"}, \"type\": \"mesh3d\"}], \"parcoords\": [{\"line\": {\"colorbar\": {\"outlinewidth\": 0, \"ticks\": \"\"}}, \"type\": \"parcoords\"}], \"pie\": [{\"automargin\": true, \"type\": \"pie\"}], \"scatter\": [{\"marker\": {\"colorbar\": {\"outlinewidth\": 0, \"ticks\": \"\"}}, \"type\": \"scatter\"}], \"scatter3d\": [{\"line\": {\"colorbar\": {\"outlinewidth\": 0, \"ticks\": \"\"}}, \"marker\": {\"colorbar\": {\"outlinewidth\": 0, \"ticks\": \"\"}}, \"type\": \"scatter3d\"}], \"scattercarpet\": [{\"marker\": {\"colorbar\": {\"outlinewidth\": 0, \"ticks\": \"\"}}, \"type\": \"scattercarpet\"}], \"scattergeo\": [{\"marker\": {\"colorbar\": {\"outlinewidth\": 0, \"ticks\": \"\"}}, \"type\": \"scattergeo\"}], \"scattergl\": [{\"marker\": {\"colorbar\": {\"outlinewidth\": 0, \"ticks\": \"\"}}, \"type\": \"scattergl\"}], \"scattermapbox\": [{\"marker\": {\"colorbar\": {\"outlinewidth\": 0, \"ticks\": \"\"}}, \"type\": \"scattermapbox\"}], \"scatterpolar\": [{\"marker\": {\"colorbar\": {\"outlinewidth\": 0, \"ticks\": \"\"}}, \"type\": \"scatterpolar\"}], \"scatterpolargl\": [{\"marker\": {\"colorbar\": {\"outlinewidth\": 0, \"ticks\": \"\"}}, \"type\": \"scatterpolargl\"}], \"scatterternary\": [{\"marker\": {\"colorbar\": {\"outlinewidth\": 0, \"ticks\": \"\"}}, \"type\": \"scatterternary\"}], \"surface\": [{\"colorbar\": {\"outlinewidth\": 0, \"ticks\": \"\"}, \"colorscale\": [[0.0, \"#0d0887\"], [0.1111111111111111, \"#46039f\"], [0.2222222222222222, \"#7201a8\"], [0.3333333333333333, \"#9c179e\"], [0.4444444444444444, \"#bd3786\"], [0.5555555555555556, \"#d8576b\"], [0.6666666666666666, \"#ed7953\"], [0.7777777777777778, \"#fb9f3a\"], [0.8888888888888888, \"#fdca26\"], [1.0, \"#f0f921\"]], \"type\": \"surface\"}], \"table\": [{\"cells\": {\"fill\": {\"color\": \"#EBF0F8\"}, \"line\": {\"color\": \"white\"}}, \"header\": {\"fill\": {\"color\": \"#C8D4E3\"}, \"line\": {\"color\": \"white\"}}, \"type\": \"table\"}]}, \"layout\": {\"annotationdefaults\": {\"arrowcolor\": \"#2a3f5f\", \"arrowhead\": 0, \"arrowwidth\": 1}, \"coloraxis\": {\"colorbar\": {\"outlinewidth\": 0, \"ticks\": \"\"}}, \"colorscale\": {\"diverging\": [[0, \"#8e0152\"], [0.1, \"#c51b7d\"], [0.2, \"#de77ae\"], [0.3, \"#f1b6da\"], [0.4, \"#fde0ef\"], [0.5, \"#f7f7f7\"], [0.6, \"#e6f5d0\"], [0.7, \"#b8e186\"], [0.8, \"#7fbc41\"], [0.9, \"#4d9221\"], [1, \"#276419\"]], \"sequential\": [[0.0, \"#0d0887\"], [0.1111111111111111, \"#46039f\"], [0.2222222222222222, \"#7201a8\"], [0.3333333333333333, \"#9c179e\"], [0.4444444444444444, \"#bd3786\"], [0.5555555555555556, \"#d8576b\"], [0.6666666666666666, \"#ed7953\"], [0.7777777777777778, \"#fb9f3a\"], [0.8888888888888888, \"#fdca26\"], [1.0, \"#f0f921\"]], \"sequentialminus\": [[0.0, \"#0d0887\"], [0.1111111111111111, \"#46039f\"], [0.2222222222222222, \"#7201a8\"], [0.3333333333333333, \"#9c179e\"], [0.4444444444444444, \"#bd3786\"], [0.5555555555555556, \"#d8576b\"], [0.6666666666666666, \"#ed7953\"], [0.7777777777777778, \"#fb9f3a\"], [0.8888888888888888, \"#fdca26\"], [1.0, \"#f0f921\"]]}, \"colorway\": [\"#636efa\", \"#EF553B\", \"#00cc96\", \"#ab63fa\", \"#FFA15A\", \"#19d3f3\", \"#FF6692\", \"#B6E880\", \"#FF97FF\", \"#FECB52\"], \"font\": {\"color\": \"#2a3f5f\"}, \"geo\": {\"bgcolor\": \"white\", \"lakecolor\": \"white\", \"landcolor\": \"#E5ECF6\", \"showlakes\": true, \"showland\": true, \"subunitcolor\": \"white\"}, \"hoverlabel\": {\"align\": \"left\"}, \"hovermode\": \"closest\", \"mapbox\": {\"style\": \"light\"}, \"paper_bgcolor\": \"white\", \"plot_bgcolor\": \"#E5ECF6\", \"polar\": {\"angularaxis\": {\"gridcolor\": \"white\", \"linecolor\": \"white\", \"ticks\": \"\"}, \"bgcolor\": \"#E5ECF6\", \"radialaxis\": {\"gridcolor\": \"white\", \"linecolor\": \"white\", \"ticks\": \"\"}}, \"scene\": {\"xaxis\": {\"backgroundcolor\": \"#E5ECF6\", \"gridcolor\": \"white\", \"gridwidth\": 2, \"linecolor\": \"white\", \"showbackground\": true, \"ticks\": \"\", \"zerolinecolor\": \"white\"}, \"yaxis\": {\"backgroundcolor\": \"#E5ECF6\", \"gridcolor\": \"white\", \"gridwidth\": 2, \"linecolor\": \"white\", \"showbackground\": true, \"ticks\": \"\", \"zerolinecolor\": \"white\"}, \"zaxis\": {\"backgroundcolor\": \"#E5ECF6\", \"gridcolor\": \"white\", \"gridwidth\": 2, \"linecolor\": \"white\", \"showbackground\": true, \"ticks\": \"\", \"zerolinecolor\": \"white\"}}, \"shapedefaults\": {\"line\": {\"color\": \"#2a3f5f\"}}, \"ternary\": {\"aaxis\": {\"gridcolor\": \"white\", \"linecolor\": \"white\", \"ticks\": \"\"}, \"baxis\": {\"gridcolor\": \"white\", \"linecolor\": \"white\", \"ticks\": \"\"}, \"bgcolor\": \"#E5ECF6\", \"caxis\": {\"gridcolor\": \"white\", \"linecolor\": \"white\", \"ticks\": \"\"}}, \"title\": {\"x\": 0.05}, \"xaxis\": {\"automargin\": true, \"gridcolor\": \"white\", \"linecolor\": \"white\", \"ticks\": \"\", \"title\": {\"standoff\": 15}, \"zerolinecolor\": \"white\", \"zerolinewidth\": 2}, \"yaxis\": {\"automargin\": true, \"gridcolor\": \"white\", \"linecolor\": \"white\", \"ticks\": \"\", \"title\": {\"standoff\": 15}, \"zerolinecolor\": \"white\", \"zerolinewidth\": 2}}}},\n",
       "                        {\"responsive\": true}\n",
       "                    ).then(function(){\n",
       "                            \n",
       "var gd = document.getElementById('c4fb0fac-d774-4e4d-8653-752820bfac50');\n",
       "var x = new MutationObserver(function (mutations, observer) {{\n",
       "        var display = window.getComputedStyle(gd).display;\n",
       "        if (!display || display === 'none') {{\n",
       "            console.log([gd, 'removed!']);\n",
       "            Plotly.purge(gd);\n",
       "            observer.disconnect();\n",
       "        }}\n",
       "}});\n",
       "\n",
       "// Listen for the removal of the full notebook cells\n",
       "var notebookContainer = gd.closest('#notebook-container');\n",
       "if (notebookContainer) {{\n",
       "    x.observe(notebookContainer, {childList: true});\n",
       "}}\n",
       "\n",
       "// Listen for the clearing of the current output cell\n",
       "var outputEl = gd.closest('.output');\n",
       "if (outputEl) {{\n",
       "    x.observe(outputEl, {childList: true});\n",
       "}}\n",
       "\n",
       "                        })\n",
       "                };\n",
       "                });\n",
       "            </script>\n",
       "        </div>"
      ]
     },
     "metadata": {},
     "output_type": "display_data"
    }
   ],
   "source": [
    "fig_subr_treemap = px.treemap(filtered_df_agg, \n",
    "                      path=['subreddit_cat', 'subreddit'], \n",
    "                      values='ISFLAG',\n",
    "                      color='subreddit_cat')\n",
    "fig_subr_treemap.show()"
   ]
  },
  {
   "cell_type": "code",
   "execution_count": null,
   "metadata": {},
   "outputs": [],
   "source": []
  },
  {
   "cell_type": "code",
   "execution_count": null,
   "metadata": {},
   "outputs": [],
   "source": []
  }
 ],
 "metadata": {
  "kernelspec": {
   "display_name": "jupyter-env",
   "language": "python",
   "name": "jupyter-env"
  },
  "language_info": {
   "codemirror_mode": {
    "name": "ipython",
    "version": 3
   },
   "file_extension": ".py",
   "mimetype": "text/x-python",
   "name": "python",
   "nbconvert_exporter": "python",
   "pygments_lexer": "ipython3",
   "version": "3.8.2"
  }
 },
 "nbformat": 4,
 "nbformat_minor": 2
}
