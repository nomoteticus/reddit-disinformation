{
 "cells": [
  {
   "cell_type": "code",
   "execution_count": 1,
   "metadata": {},
   "outputs": [],
   "source": [
    "#----------------------------#\n",
    "# IDEA\n",
    "#----------------------------#\n",
    "# Get Submission PCA Data Structures \n",
    "# 1.) Create embedding dictionarys \n",
    "# 2.) Average embedding for subreddits \n",
    "import pandas as pd\n",
    "import numpy as np\n",
    "from datetime import datetime, timedelta\n",
    "from collections import Counter\n",
    "import import_ipynb\n",
    "import math"
   ]
  },
  {
   "cell_type": "code",
   "execution_count": 2,
   "metadata": {},
   "outputs": [],
   "source": [
    "home_path = %pwd\n",
    "data_path = \"/home/pavel/Documents/Keusch_Job/Data/\"\n",
    "subroutines_path = \"/home/pavel/Documents/Keusch_Job/Subroutines/\""
   ]
  },
  {
   "cell_type": "code",
   "execution_count": 3,
   "metadata": {},
   "outputs": [
    {
     "name": "stdout",
     "output_type": "stream",
     "text": [
      "/home/pavel/Documents/Keusch_Job/Subroutines\n",
      "/home/pavel/Documents/Keusch_Job/Tasks/create_datastructures\n"
     ]
    }
   ],
   "source": [
    "#Subroutines\n",
    "%cd  $subroutines_path\n",
    "%run \"selected_subreddits.ipynb\"\n",
    "%run \"data_loader.ipynb\"\n",
    "%run \"basic_plots.ipynb\"\n",
    "%cd  $home_path"
   ]
  },
  {
   "cell_type": "code",
   "execution_count": 4,
   "metadata": {},
   "outputs": [],
   "source": [
    "#----------------------------#\n",
    "# 1.) Create embedding dictionaries\n",
    "#----------------------------#"
   ]
  },
  {
   "cell_type": "code",
   "execution_count": 5,
   "metadata": {},
   "outputs": [],
   "source": [
    "import tensorflow as tf\n",
    "import tensorflow_hub as hub"
   ]
  },
  {
   "cell_type": "code",
   "execution_count": 6,
   "metadata": {},
   "outputs": [],
   "source": [
    "module_url = data_path + \"universal-sentence-encoder_4\"\n",
    "embed_model = hub.load(module_url)"
   ]
  },
  {
   "cell_type": "code",
   "execution_count": 7,
   "metadata": {},
   "outputs": [],
   "source": [
    "def embed(input): return embed_model(input)\n",
    "def tf_simil(s1,s2): return np.inner(s1,s2) \n",
    "def tf_simil_matrix(embeddings, rd = 8): return [[round(tf_simil(s1,s2),rd) for s1 in embeddings] for s2 in embeddings]"
   ]
  },
  {
   "cell_type": "code",
   "execution_count": 11,
   "metadata": {},
   "outputs": [],
   "source": [
    "def embed_dict_create(df, key_var=\"id\", text_var=\"title\"):\n",
    "    #df: something like S, with an id and titles\n",
    "    embed_dict = {}\n",
    "    for i in range(0,len(df)):\n",
    "        print(str(i) + \" : \" + df[key_var].iloc[i])\n",
    "        embed_dict[df[key_var].iloc[i]] = embed([df[text_var].iloc[i]])\n",
    "    return(embed_dict)"
   ]
  },
  {
   "cell_type": "code",
   "execution_count": 23,
   "metadata": {
    "scrolled": true
   },
   "outputs": [],
   "source": [
    "#TEST RUN\n",
    "#path= data_path\n",
    "#i = 1\n",
    "#S_1 = load_data(data_name=\"SUBM_2020_0\" + str(i) + \".csv\", data_path = path)\n",
    "#S_1  = S_1.merge(selected_subreddits[[\"subreddit\",\"subr_id\"]], how=\"inner\",\n",
    "#                               left_on = \"subreddit\",right_on = \"subreddit\")\n",
    "#embed_dict_1 = embed_dict_create(S_1, key_var=\"id\", text_var =\"title\")\n",
    "#np.save(data_path + 'embed_dict_1.npy', embed_dict_1)"
   ]
  },
  {
   "cell_type": "code",
   "execution_count": 15,
   "metadata": {},
   "outputs": [],
   "source": [
    "def embed_month(month_index=1, path = data_path):\n",
    "    S = load_data(data_name=\"SUBM_2020_0\" + str(month_index) + \".csv\", data_path = path)\n",
    "    S  = S.merge(selected_subreddits[[\"subreddit\",\"subr_id\"]], how=\"inner\",\n",
    "                                   left_on = \"subreddit\",right_on = \"subreddit\")\n",
    "    embed_dict = embed_dict_create(S, key_var=\"id\", text_var =\"title\")\n",
    "    np.save(data_path + 'embed_dict_' + str(month_index) + '.npy', embed_dict)"
   ]
  },
  {
   "cell_type": "code",
   "execution_count": null,
   "metadata": {},
   "outputs": [],
   "source": [
    "#LOOP FOR EVERY MONTH\n",
    "for i in range(1:6):\n",
    "    embed_month(month_index = i, path = data_path)"
   ]
  },
  {
   "cell_type": "code",
   "execution_count": null,
   "metadata": {},
   "outputs": [],
   "source": [
    "#----------------------------#\n",
    "# 2.) Create embedding dicitonaries\n",
    "#----------------------------#"
   ]
  },
  {
   "cell_type": "code",
   "execution_count": 8,
   "metadata": {},
   "outputs": [],
   "source": [
    "def avg_emb_from_dict(key_list,embed_dict):\n",
    "    # averages of vectors should be allowed IF this is a vector\n",
    "    # https://www.tf.uni-kiel.de/matwis/amat/admat_en/kap_2/basics/b2_1_1.html\n",
    "    # https://math.stackexchange.com/questions/80923/average-of-multiple-vectors\n",
    "    out = embed_dict[key_list[0]]\n",
    "    for i in range(1,len(key_list)):\n",
    "        out = out + embed_dict[key_list[i]]\n",
    "    return(out/len(key_list))"
   ]
  },
  {
   "cell_type": "code",
   "execution_count": 18,
   "metadata": {},
   "outputs": [],
   "source": [
    "#TEST RUN\n",
    "#path = data_path\n",
    "#month_index = 1\n",
    "#Load Data\n",
    "#S = load_data(data_name=\"SUBM_2020_0\" + str(month_index) + \".csv\", data_path = path)\n",
    "#S  = S.merge(selected_subreddits[[\"subreddit\",\"subr_id\"]], how=\"inner\",\n",
    "#                                   left_on = \"subreddit\",right_on = \"subreddit\")\n",
    "#Create Data Structures\n",
    "#subr_list = S[\"subreddit\"].unique().tolist() \n",
    "#submission_df = S[[\"subreddit\",\"id\"]].copy()\n",
    "#del S\n",
    "#embed_dict = np.load(path + 'embed_dict' + str(month_index) + '.npy',allow_pickle='TRUE').item()\n",
    "#Testwise just using this\n",
    "#embed_dict = np.load(path + 'embed_dict.npy',allow_pickle='TRUE').item()\n",
    "#\n",
    "#\n",
    "#Run\n",
    "#avg_emb_dict = {}\n",
    "#for i in range(0,len(subr_list)):\n",
    "#    current_subr_keys = submission_df[\"id\"].loc[submission_df[\"subreddit\"]==subr_list[i],].tolist()\n",
    "#    avg_emb_dict[subr_list[i]] = avg_emb_from_dict(current_subr_keys,embed_dict)\n",
    "#Save\n",
    "#np.save(data_path + 'avg_emb_dict' + str(month_index) + '.npy', avg_emb_dict)"
   ]
  },
  {
   "cell_type": "code",
   "execution_count": 20,
   "metadata": {},
   "outputs": [],
   "source": [
    "def avg_submission_emb_from_dict(month_index= 1, path = data_path):\n",
    "    #Load Data\n",
    "    S = load_data(data_name=\"SUBM_2020_0\" + str(month_index) + \".csv\", data_path = path)\n",
    "    S  = S.merge(selected_subreddits[[\"subreddit\",\"subr_id\"]], how=\"inner\",\n",
    "                                   left_on = \"subreddit\",right_on = \"subreddit\")\n",
    "    #Create Data Structures\n",
    "    subr_list = S[\"subreddit\"].unique().tolist() \n",
    "    submission_df = S[[\"subreddit\",\"id\"]].copy()\n",
    "    del S\n",
    "    embed_dict = np.load(path + 'embed_dict_' + str(month_index) + '.npy',allow_pickle='TRUE').item()\n",
    "    #Run\n",
    "    avg_emb_dict = {}\n",
    "    for i in range(0,len(subr_list)):\n",
    "        current_subr_keys = submission_df[\"id\"].loc[submission_df[\"subreddit\"]==subr_list[i],].tolist()\n",
    "        avg_emb_dict[subr_list[i]] = avg_emb_from_dict(current_subr_keys,embed_dict)\n",
    "    #Save\n",
    "    np.save(data_path + 'avg_emb_dict' + str(month_index) + '.npy', avg_emb_dict)"
   ]
  },
  {
   "cell_type": "code",
   "execution_count": null,
   "metadata": {},
   "outputs": [],
   "source": [
    "for i in range(1:6).\n",
    "    avg_submission_emb_from_dict(i,data_path)"
   ]
  },
  {
   "cell_type": "code",
   "execution_count": null,
   "metadata": {},
   "outputs": [],
   "source": []
  },
  {
   "cell_type": "code",
   "execution_count": null,
   "metadata": {},
   "outputs": [],
   "source": []
  }
 ],
 "metadata": {
  "kernelspec": {
   "display_name": "Python 3",
   "language": "python",
   "name": "python3"
  },
  "language_info": {
   "codemirror_mode": {
    "name": "ipython",
    "version": 3
   },
   "file_extension": ".py",
   "mimetype": "text/x-python",
   "name": "python",
   "nbconvert_exporter": "python",
   "pygments_lexer": "ipython3",
   "version": "3.6.9"
  }
 },
 "nbformat": 4,
 "nbformat_minor": 4
}
