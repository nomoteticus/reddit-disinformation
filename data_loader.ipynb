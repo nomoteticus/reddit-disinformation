{
 "cells": [
  {
   "cell_type": "code",
   "execution_count": null,
   "metadata": {},
   "outputs": [],
   "source": [
    "import re"
   ]
  },
  {
   "cell_type": "code",
   "execution_count": null,
   "metadata": {},
   "outputs": [],
   "source": []
  },
  {
   "cell_type": "code",
   "execution_count": null,
   "metadata": {},
   "outputs": [],
   "source": [
    "def load_data(data_name, data_path):\n",
    "    if re.match(\"SUBM\",data_name):\n",
    "        S = pd.read_csv(data_path + data_name)\n",
    "        S['id'] = 't3_'+ S['id']\n",
    "        S.columns = S.columns.str.lstrip()\n",
    "        return(S)\n",
    "    if re.match(\"COMM\",data_name):\n",
    "        C = pd.read_csv(data_path + data_name)\n",
    "        C.columns = C.columns.str.lstrip()\n",
    "        return(C)"
   ]
  },
  {
   "cell_type": "code",
   "execution_count": null,
   "metadata": {},
   "outputs": [],
   "source": [
    "#Old data stats: \n",
    "#Submissions: 23623\n",
    "#Comments: 231941\n",
    "# \n",
    "# New data stats:\n",
    "#Submissions: 64482\n",
    "#Comments: 486936\n",
    "#\n",
    "# Right now I have only tried it with the titles\n",
    "# comments and replies can be of course added\n",
    "#S = pd.read_csv(data_path + \"R_all_submissions.csv\")\n",
    "#S['id'] = 't3_'+ S['id'] # id = submission_id\n",
    "#C = pd.read_csv(data_path + \"R_all_comments.csv\")\n",
    "#C['date_created'] = [datetime.fromtimestamp(int(c))-timedelta(hours = 8) for c in C.date_created]\n",
    "#C.columns = C.columns.str.lstrip()\n",
    "#S.columns = S.columns.str.lstrip()\n",
    "#print('Submissions: %d\\nComments: %d' % tuple([x.shape[0] for x in (S,C)]))"
   ]
  }
 ],
 "metadata": {
  "kernelspec": {
   "display_name": "Python 3",
   "language": "python",
   "name": "python3"
  },
  "language_info": {
   "codemirror_mode": {
    "name": "ipython",
    "version": 3
   },
   "file_extension": ".py",
   "mimetype": "text/x-python",
   "name": "python",
   "nbconvert_exporter": "python",
   "pygments_lexer": "ipython3",
   "version": "3.6.9"
  }
 },
 "nbformat": 4,
 "nbformat_minor": 4
}
