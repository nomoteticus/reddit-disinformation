{
 "cells": [
  {
   "cell_type": "code",
   "execution_count": 1,
   "metadata": {},
   "outputs": [],
   "source": [
    "import sys\n",
    "import praw\n",
    "from praw.models import MoreComments\n",
    "import pandas as pd\n",
    "import numpy as np\n",
    "import re\n",
    "from urlextract import URLExtract \n",
    "from datetime import datetime, timedelta\n",
    "from collections import Counter\n",
    "from urlextract import URLExtract \n",
    "from tldextract import extract\n",
    "from IPython.core.display import display, HTML\n",
    "import matplotlib.pyplot as plt"
   ]
  },
  {
   "cell_type": "code",
   "execution_count": 2,
   "metadata": {},
   "outputs": [],
   "source": [
    "import sys\n",
    "import pandas as pd\n",
    "import numpy as np\n",
    "import re\n",
    "from datetime import datetime, timedelta\n",
    "from urlextract import URLExtract \n",
    "from tldextract import extract\n",
    "from IPython.core.display import display, HTML"
   ]
  },
  {
   "cell_type": "code",
   "execution_count": 3,
   "metadata": {},
   "outputs": [
    {
     "data": {
      "text/plain": [
       "datetime.datetime(2020, 4, 20, 16, 55, 4, 161855)"
      ]
     },
     "execution_count": 3,
     "metadata": {},
     "output_type": "execute_result"
    }
   ],
   "source": [
    "datetime.now()+timedelta(hours=2)"
   ]
  },
  {
   "cell_type": "code",
   "execution_count": 4,
   "metadata": {},
   "outputs": [],
   "source": [
    "covid_regex = '(coronav|covid|pandemi|epidemi|sars)'\n",
    "fake_regex = '(fake |false ).{0,15}(new\\\\w|info\\\\w)'+'|'+\\\n",
    "             '(dis|mis|mal)(info\\\\w|leading)'+'|'+\\\n",
    "             '(unreli\\\\w+|unverifi\\\\w+|untrustw\\\\w+|fake\\\\w+)( source)'\n",
    "fake_yes ='(th.. is|you are|stop spreading|^).{0,15}'+ fake_regex\n",
    "fake_no = '\\\\/s$|\\\\\\s$|\\\\bjk\\\\b|(not .{0,15})'+fake_regex"
   ]
  },
  {
   "cell_type": "code",
   "execution_count": 5,
   "metadata": {},
   "outputs": [],
   "source": [
    "def search_corona(text): return bool(re.search(covid_regex, str(text).lower()))\n",
    "def search_fake(text): return bool(re.search(fake_regex, str(text).lower()))\n",
    "\n",
    "def search_yes_no(yes, no, text):\n",
    "    return bool(re.search(yes, str(text).lower())) and not bool(re.search(no, str(text).lower()))    \n",
    "def search_yes(yes, text):\n",
    "    return bool(re.search(yes, str(text).lower()))    \n",
    "def search_no(no, text):\n",
    "    return not bool(re.search(no, str(text).lower()))    \n",
    "\n",
    "def has_url(text):\n",
    "    return URLExtract().has_urls(text)\n",
    "def extract_domain(url):\n",
    "    tsd, td, tsu = extract(url)\n",
    "    return(td + '.' + tsu)\n",
    "def highlight_re(text, regex):\n",
    "    htmld = re.sub(r'('+regex+')', '<mark>' + r'\\1' + '</mark>', text.lower())\n",
    "    display(HTML(htmld))"
   ]
  },
  {
   "cell_type": "code",
   "execution_count": 6,
   "metadata": {},
   "outputs": [],
   "source": [
    "def import_reddit(from_date = '2020-03-01', subreddits = 'all'):\n",
    "    latest_time = datetime.now()-timedelta(hours=2)\n",
    "    ###\n",
    "    ALL = pd.read_csv('http://ec2-3-8-1-23.eu-west-2.compute.amazonaws.com/vlad/all_submissions.csv')\n",
    "    SR = pd.read_csv(\"R_selected_subreddits.csv\")\n",
    "    if subreddits != 'all':\n",
    "        SR = SR[SR.text.isin(list(subreddits))]\n",
    "    \n",
    "    ###\n",
    "    S = pd.read_csv(\"http://ec2-3-8-1-23.eu-west-2.compute.amazonaws.com/vlad/R_all_submissions.csv\")\n",
    "    S.columns = S.columns.str.strip()\n",
    "    \n",
    "    ###\n",
    "    C = pd.read_csv(\"http://ec2-3-8-1-23.eu-west-2.compute.amazonaws.com/vlad/R_all_comments.csv\")\n",
    "    C.columns = C.columns.str.strip()\n",
    "    C['date_created'] = [datetime.fromtimestamp(int(c))-timedelta(hours = 8) for c in C.date_created]\n",
    "\n",
    "    ###\n",
    "    CORONA = \\\n",
    "    C.rename(columns = {'id':'comm_id', 'author_id':'comm_author_id','submission_id':'subm_id',\\\n",
    "                    'body':'comm_body', 'score':'comm_score','date_created':'comm_date'}).\\\n",
    "      set_index(['subm_id', 'comm_id']).\\\n",
    "    join(\n",
    "        ALL.drop('author_id',1)\\\n",
    "           [(ALL.date_created>=from_date) & \\\n",
    "            (ALL.date_created<str(latest_time))].\\\n",
    "           sort_values(['subr_id','date_created']).\\\n",
    "           set_index('subr_id').\\\n",
    "         join(SR.\\\n",
    "               rename(columns = {'id':'subr_id', 'text':'subreddit'})\\\n",
    "               [['subr_id','subreddit']].\\\n",
    "               set_index('subr_id'),\\\n",
    "              on = 'subr_id', how = 'inner').\\\n",
    "              reset_index().set_index(['subr_id','subm_id']).\\\n",
    "         join(S.rename(columns = {'id':'subm_id','title':'subm_title','score':'subm_score','url':'subm_url'})\\\n",
    "              [['subr_id','subm_id','subm_title','subm_score','subm_url']].\\\n",
    "                set_index(['subr_id','subm_id']),\\\n",
    "              how = 'left', on = ['subr_id','subm_id']).\\\n",
    "         reset_index().\\\n",
    "         assign(subm_id = lambda df: 't3_'+ df.subm_id).\\\n",
    "         set_index('subm_id'),\\\n",
    "    on = 'subm_id', how = 'inner')\n",
    "    \n",
    "    ###\n",
    "    print('IMPORTED!\\nSubreddits: %d \\nSubmissions: %d\\nComments: %d' % \n",
    "          (SR.shape[0] ,len(set(CORONA.index.get_level_values(level = 0))), CORONA.shape[0]))\n",
    "    return CORONA"
   ]
  },
  {
   "cell_type": "code",
   "execution_count": 32,
   "metadata": {},
   "outputs": [],
   "source": [
    "def print_corona_sc(CORONA_DF, n=0, sort = 'newest', rand = False, randseed=np.random.RandomState(), charlim = False):\n",
    "    ### Filter out long comments\n",
    "    if charlim>0:\n",
    "        CORONA_DF = CORONA_DF[[len(b) < charlim for b in CORONA_DF['comm_body']]]\n",
    "    ### Set n to the number of rows (if 0)\n",
    "    if n==0: \n",
    "        n = CORONA_DF.shape[0]\n",
    "    ### Sorting\n",
    "    if sort == 'newest':\n",
    "        CORONA_DF.sort_values('date_added',ascending = False,inplace = True)\n",
    "    elif sort == 'most_flagged':\n",
    "        submission_counts = CORONA_DF['subreddit'].count(level = 'subm_id').rename('flg_count')\n",
    "        CORONA_DF.join(submission_counts, on ='subm_id').\\\n",
    "        sort_values(['flg_count','date_added'], ascending = [False, False] )\n",
    "        submissions = pd.Series(CORONA_DF.index.get_level_values('subm_id')).drop_duplicates().tolist()\n",
    "    ### Extract random sample\n",
    "    if rand: \n",
    "        submissions = pd.Series(submissions).sample(n, random_state = randseed)\n",
    "        CORONA_DF = CORONA_DF.loc[submissions]\n",
    "    else:\n",
    "        submissions = submissions[:n]\n",
    "    ### Loop to print flagged submissions\n",
    "    for i, t in enumerate(submissions):\n",
    "        if i<=n:\n",
    "            print('\\n\\n')\n",
    "            D = CORONA_DF.loc[t]\n",
    "            print('r/'+D.subreddit[0])\n",
    "            highlight_re('<b>'+D.subm_title[0]+'</b>', covid_regex)\n",
    "            print('URL: %s \\nPublished: %s ' % (D.subm_url[0], D.date_created[0]))\n",
    "            for c in D.iterrows():\n",
    "                highlight_re('<p style=\"margin-left: 40px\"> -> (score: %d) %s </p><br>' % \n",
    "                             (c[1].comm_score ,c[1].comm_body), fake_regex)"
   ]
  },
  {
   "cell_type": "markdown",
   "metadata": {},
   "source": [
    "## 1. Importing Submissions and Comments"
   ]
  },
  {
   "cell_type": "code",
   "execution_count": 9,
   "metadata": {},
   "outputs": [
    {
     "name": "stdout",
     "output_type": "stream",
     "text": [
      "IMPORTED!\n",
      "Subreddits: 14 \n",
      "Submissions: 30378\n",
      "Comments: 213903\n"
     ]
    }
   ],
   "source": [
    "COMM = import_reddit(from_date = '2020-04-01')"
   ]
  },
  {
   "cell_type": "code",
   "execution_count": 13,
   "metadata": {
    "scrolled": true
   },
   "outputs": [
    {
     "data": {
      "text/plain": [
       "'2020-04-19 13:33:56.664875'"
      ]
     },
     "execution_count": 13,
     "metadata": {},
     "output_type": "execute_result"
    }
   ],
   "source": [
    "max(COMM.date_added)"
   ]
  },
  {
   "cell_type": "code",
   "execution_count": 14,
   "metadata": {},
   "outputs": [],
   "source": [
    "def filter_comm(DF, subm_regex_yes, comm_regex_yes, subm_regex_no = 'noneXXXnone', comm_regex_no = 'noneXXXnone'):\n",
    "    FILT = DF[np.logical_and(\n",
    "                np.logical_and(\n",
    "                  np.logical_and([search_yes(subm_regex_yes, s) for s in DF.subm_title],\\\n",
    "                                 [search_no(subm_regex_no, s) for s in DF.subm_title]),\\\n",
    "                  [search_yes(comm_regex_yes, c) for c in DF.comm_body ]),\\\n",
    "              [search_no(comm_regex_no, c) for c in DF.comm_body ])]\n",
    "    return FILT"
   ]
  },
  {
   "cell_type": "code",
   "execution_count": 15,
   "metadata": {},
   "outputs": [
    {
     "data": {
      "text/plain": [
       "'((no|not) .{0,10}((fake |false).{0,15}(new\\\\w|info\\\\w|hood\\\\w)|(dis|mis|mal)(info\\\\w|leading)|(not ).{0,5}(true\\\\b|verif\\\\w|real\\\\b)|(unreli\\\\w+|unverifi\\\\w+|untrustw\\\\w+|fake\\\\w+)( source)))|(users often report submissions from this site)'"
      ]
     },
     "execution_count": 15,
     "metadata": {},
     "output_type": "execute_result"
    }
   ],
   "source": [
    "covid_regex = '(coronav|covid|pandemi|epidemi|sars)'\n",
    "fake_regex = '(fake |false).{0,15}(new\\\\w|info\\\\w|hood\\\\w)'+'|'+\\\n",
    "             '(dis|mis|mal)(info\\\\w|leading)'+'|'+\\\n",
    "             'bs|bullshit'+\\\n",
    "             '(not ).{0,5}(true\\\\b|verif\\\\w|real\\\\b)'+'|'+\\\n",
    "             '(unreli\\\\w+|unverifi\\\\w+|untrustw\\\\w+|fake\\\\w+)( source)'\n",
    "fake_regex_no = '((no|not) .{0,10}('+fake_regex+'))'+'|(users often report submissions from this site)'\n",
    "fake_regex_no"
   ]
  },
  {
   "cell_type": "code",
   "execution_count": null,
   "metadata": {
    "scrolled": true
   },
   "outputs": [],
   "source": [
    "CORONAFLAG = filter_comm(COMM,\\\n",
    "                         subm_regex_yes = covid_regex,\\\n",
    "                         comm_regex_yes = fake_regex,\\\n",
    "                         subm_regex_no = fake_regex,\\\n",
    "                         comm_regex_no = fake_regex_no)\n",
    "CORONAFLAG.head()"
   ]
  },
  {
   "cell_type": "markdown",
   "metadata": {},
   "source": [
    "Assign variable to one that has flag"
   ]
  },
  {
   "cell_type": "code",
   "execution_count": 17,
   "metadata": {},
   "outputs": [
    {
     "data": {
      "text/plain": [
       "Counter({False: 213021, True: 882})"
      ]
     },
     "execution_count": 17,
     "metadata": {},
     "output_type": "execute_result"
    }
   ],
   "source": [
    "### This does not work yet\n",
    "COMM['has_flag'] = False\n",
    "COMM.loc[CORONAFLAG.index,'has_flag'] = True\n",
    "Counter(COMM['has_flag'])"
   ]
  },
  {
   "cell_type": "code",
   "execution_count": null,
   "metadata": {},
   "outputs": [],
   "source": [
    "Counter(COMM.subreddit[COMM.has_flag])"
   ]
  },
  {
   "cell_type": "markdown",
   "metadata": {},
   "source": [
    "### Getting flags using regex"
   ]
  },
  {
   "cell_type": "code",
   "execution_count": 21,
   "metadata": {
    "scrolled": true
   },
   "outputs": [
    {
     "name": "stdout",
     "output_type": "stream",
     "text": [
      "\n",
      "\n",
      "\n",
      "r/Coronavirus\n"
     ]
    },
    {
     "data": {
      "text/html": [
       "<b>1 in 1000 new york city residents have now died from <mark>coronav</mark>irus</b>"
      ],
      "text/plain": [
       "<IPython.core.display.HTML object>"
      ]
     },
     "metadata": {},
     "output_type": "display_data"
    },
    {
     "name": "stdout",
     "output_type": "stream",
     "text": [
      "URL: https://bdkhealth.com/1-in-1000-new-york-city-residents-have-now-died-from-coronavirus/ \n",
      "Published: 2020-04-19 13:08:25.000000 \n"
     ]
    },
    {
     "data": {
      "text/html": [
       "<p style=\"margin-left: 40px\"> -> (score: 1) sensationalist and just plain wrong headline. the article is just as <mark>misleading</mark> and inaccurate. where have all the critical thinkers gone? </p><br>"
      ],
      "text/plain": [
       "<IPython.core.display.HTML object>"
      ]
     },
     "metadata": {},
     "output_type": "display_data"
    },
    {
     "name": "stdout",
     "output_type": "stream",
     "text": [
      "\n",
      "\n",
      "\n",
      "r/politics\n"
     ]
    },
    {
     "data": {
      "text/html": [
       "<b>scenes of protests across the country demanding states reopen the economy amid <mark>coronav</mark>irus <mark>pandemi</mark>c</b>"
      ],
      "text/plain": [
       "<IPython.core.display.HTML object>"
      ]
     },
     "metadata": {},
     "output_type": "display_data"
    },
    {
     "name": "stdout",
     "output_type": "stream",
     "text": [
      "URL: https://www.cnbc.com/2020/04/18/coronavirus-scenes-of-protests-across-the-country-demanding-states-reopen-the-economy.html \n",
      "Published: 2020-04-19 12:37:39.000000 \n"
     ]
    },
    {
     "data": {
      "text/html": [
       "<p style=\"margin-left: 40px\"> -> (score: 1) sometimes i wonder if leaving this country is the answer. it just seems like the <mark>misinfor</mark>mation and conspiracy theory culture took over the country, or at least too much of it. every single person on my facebook feed, either be people i graduated with from college and high school, or my relatives are full blown rona deniers. how do you even argue with it when they’ve defined their own set of “facts” and reality? it’s literally like talking to a wall, they’re an absolute lost cause. </p><br>"
      ],
      "text/plain": [
       "<IPython.core.display.HTML object>"
      ]
     },
     "metadata": {},
     "output_type": "display_data"
    },
    {
     "name": "stdout",
     "output_type": "stream",
     "text": [
      "\n",
      "\n",
      "\n",
      "r/politics\n"
     ]
    },
    {
     "data": {
      "text/html": [
       "<b>pelosi: 'really unfortunate' that protesters are pushing back against <mark>coronav</mark>irus restrictions</b>"
      ],
      "text/plain": [
       "<IPython.core.display.HTML object>"
      ]
     },
     "metadata": {},
     "output_type": "display_data"
    },
    {
     "name": "stdout",
     "output_type": "stream",
     "text": [
      "URL: https://thehill.com/homenews/house/493528-pelosi-really-unfortunate-that-protesters-are-pushing-back-against-coronavirus \n",
      "Published: 2020-04-19 12:39:06.000000 \n"
     ]
    },
    {
     "data": {
      "text/html": [
       "<p style=\"margin-left: 40px\"> -> (score: 1) yes, such <mark>malinfor</mark>med idiocy is unfortunate </p><br>"
      ],
      "text/plain": [
       "<IPython.core.display.HTML object>"
      ]
     },
     "metadata": {},
     "output_type": "display_data"
    },
    {
     "name": "stdout",
     "output_type": "stream",
     "text": [
      "\n",
      "\n",
      "\n",
      "r/politics\n"
     ]
    },
    {
     "data": {
      "text/html": [
       "<b>trump claimed, without evidence, that mosques could get special treatment in the <mark>coronav</mark>irus lockdown — prompting accusations of islamophobia</b>"
      ],
      "text/plain": [
       "<IPython.core.display.HTML object>"
      ]
     },
     "metadata": {},
     "output_type": "display_data"
    },
    {
     "name": "stdout",
     "output_type": "stream",
     "text": [
      "URL: https://www.businessinsider.com/trump-claims-mosques-could-avoid-lockdown-accused-of-islamophobia-2020-4 \n",
      "Published: 2020-04-19 12:44:26.000000 \n"
     ]
    },
    {
     "data": {
      "text/html": [
       "<p style=\"margin-left: 40px\"> -> (score: 1) i saw my uncle sharing a article last week claiming islamic services were aloud to have services in new york while christians were not. these <mark>fake news</mark> sites just make this stuff up and then a army of trolls and stupid people spread it as true. this same uncle believes there are countys in minnesota that only enforce sharia law and the police have no jurisdiction. whats really sad this same uncle just retired as chief of police in wyoming. </p><br>"
      ],
      "text/plain": [
       "<IPython.core.display.HTML object>"
      ]
     },
     "metadata": {},
     "output_type": "display_data"
    },
    {
     "name": "stdout",
     "output_type": "stream",
     "text": [
      "\n",
      "\n",
      "\n",
      "r/Coronavirus\n"
     ]
    },
    {
     "data": {
      "text/html": [
       "<b>florida <mark>covid</mark>-19 dailies - new positives vs new tests</b>"
      ],
      "text/plain": [
       "<IPython.core.display.HTML object>"
      ]
     },
     "metadata": {},
     "output_type": "display_data"
    },
    {
     "name": "stdout",
     "output_type": "stream",
     "text": [
      "URL: http://covid-19.scottallyn.us/ \n",
      "Published: 2020-04-19 10:20:23.000000 \n"
     ]
    },
    {
     "data": {
      "text/html": [
       "<p style=\"margin-left: 40px\"> -> (score: 1) <mark>misleading</mark> graph. why is the scale of number of positive and number of tests different? </p><br>"
      ],
      "text/plain": [
       "<IPython.core.display.HTML object>"
      ]
     },
     "metadata": {},
     "output_type": "display_data"
    },
    {
     "name": "stdout",
     "output_type": "stream",
     "text": [
      "\n",
      "\n",
      "\n",
      "r/worldnews\n"
     ]
    },
    {
     "data": {
      "text/html": [
       "<b>putin orders <mark>coronav</mark>irus forecasts as cases in russia jump by 5000 in one day</b>"
      ],
      "text/plain": [
       "<IPython.core.display.HTML object>"
      ]
     },
     "metadata": {},
     "output_type": "display_data"
    },
    {
     "name": "stdout",
     "output_type": "stream",
     "text": [
      "URL: https://www.independent.co.uk/news/world/europe/coronavirus-russia-putin-latest-forecast-cases-death-toll-a9472326.html?utm_medium=Social&utm_source=Twitter#Echobox=1587282577 \n",
      "Published: 2020-04-19 07:53:07.000000 \n"
     ]
    },
    {
     "data": {
      "text/html": [
       "<p style=\"margin-left: 40px\"> -> (score: 37) seems like controlling a virus in your own country is more difficult than spreading hate in other countries through <mark>fake news</mark> and facebook ads. </p><br>"
      ],
      "text/plain": [
       "<IPython.core.display.HTML object>"
      ]
     },
     "metadata": {},
     "output_type": "display_data"
    },
    {
     "name": "stdout",
     "output_type": "stream",
     "text": [
      "\n",
      "\n",
      "\n",
      "r/politics\n"
     ]
    },
    {
     "data": {
      "text/html": [
       "<b><mark>coronav</mark>irus turns china into a 2020 election issue as trump and biden clash: both candidates are scrambling as voters look to hold china accountable for allegedly concealing information and failing to contain the virus.</b>"
      ],
      "text/plain": [
       "<IPython.core.display.HTML object>"
      ]
     },
     "metadata": {},
     "output_type": "display_data"
    },
    {
     "name": "stdout",
     "output_type": "stream",
     "text": [
      "URL: https://www.nbcnewyork.com/news/local/coronavirus-turns-china-into-a-2020-election-issue-as-trump-and-biden-clash/2380235/ \n",
      "Published: 2020-04-19 06:53:05.000000 \n"
     ]
    },
    {
     "data": {
      "text/html": [
       "<p style=\"margin-left: 40px\"> -> (score: 1) well certainly the chinese government needs to  be held accountable for their part in concealing information about the virus but it’s laughable to think that trump has any leg to stand on here. his downplaying of the seriousness of the virus after repeated warnings and his spreading of <mark>misinfor</mark>mation for weeks has been a major factor on how badly the virus has hit the usa. \n",
       "\n",
       "this is an easy election issue for biden, hold both the chinese government and trump accountable for their actions. </p><br>"
      ],
      "text/plain": [
       "<IPython.core.display.HTML object>"
      ]
     },
     "metadata": {},
     "output_type": "display_data"
    },
    {
     "name": "stdout",
     "output_type": "stream",
     "text": [
      "\n",
      "\n",
      "\n",
      "r/Coronavirus\n"
     ]
    },
    {
     "data": {
      "text/html": [
       "<b>us and china cooperation a must for defeating <mark>coronav</mark>irus</b>"
      ],
      "text/plain": [
       "<IPython.core.display.HTML object>"
      ]
     },
     "metadata": {},
     "output_type": "display_data"
    },
    {
     "name": "stdout",
     "output_type": "stream",
     "text": [
      "URL: http://en.people.cn/n3/2020/0419/c90000-9681434.html \n",
      "Published: 2020-04-19 06:25:55.000000 \n"
     ]
    },
    {
     "data": {
      "text/html": [
       "<p style=\"margin-left: 40px\"> -> (score: 0) china can't be trusted. we were talking about their false numbers as far back as january. \n",
       "\n",
       "china should be isolated. we don't need yet another source of <mark>false infor</mark>mation. they'll never give us accurate information because it might make it back to their own people. </p><br>"
      ],
      "text/plain": [
       "<IPython.core.display.HTML object>"
      ]
     },
     "metadata": {},
     "output_type": "display_data"
    },
    {
     "name": "stdout",
     "output_type": "stream",
     "text": [
      "\n",
      "\n",
      "\n",
      "r/politics\n"
     ]
    },
    {
     "data": {
      "text/html": [
       "<b>'they know how to bamboozle people': ex-health insurance exec says industry will fail us during <mark>coronav</mark>irus. \"this <mark>pandemi</mark>c, if anything, is waking people up to just how unreliable, and insecure, the current healthcare system is.\"</b>"
      ],
      "text/plain": [
       "<IPython.core.display.HTML object>"
      ]
     },
     "metadata": {},
     "output_type": "display_data"
    },
    {
     "name": "stdout",
     "output_type": "stream",
     "text": [
      "URL: https://www.vice.com/en_us/article/pke54v/former-cigna-health-insurance-exec-wendell-potter-interview-on-coronavirus-and-medicare-for-all \n",
      "Published: 2020-04-19 05:15:51.000000 \n"
     ]
    },
    {
     "data": {
      "text/html": [
       "<p style=\"margin-left: 40px\"> -> (score: 1) > the insurance industry has done a very good job. they know how to bamboozle people and to get them to believe things that are just simply <mark>not true</mark>—i know because i used to do it for a living. they play on people's gullibility and the knowledge that most people just don't pay all that much attention. </p><br>"
      ],
      "text/plain": [
       "<IPython.core.display.HTML object>"
      ]
     },
     "metadata": {},
     "output_type": "display_data"
    },
    {
     "name": "stdout",
     "output_type": "stream",
     "text": [
      "\n",
      "\n",
      "\n",
      "r/worldnews\n"
     ]
    },
    {
     "data": {
      "text/html": [
       "<b>trump warns of consequences if china 'knowingly responsible' for <mark>pandemi</mark>c</b>"
      ],
      "text/plain": [
       "<IPython.core.display.HTML object>"
      ]
     },
     "metadata": {},
     "output_type": "display_data"
    },
    {
     "name": "stdout",
     "output_type": "stream",
     "text": [
      "URL: https://www.theguardian.com/world/live/2020/apr/19/coronavirus-live-news-europe-deaths-approach-100000-as-us-looks-to-lift-restrictions?CMP=Share_iOSApp_Other \n",
      "Published: 2020-04-19 03:08:07.000000 \n"
     ]
    },
    {
     "data": {
      "text/html": [
       "<p style=\"margin-left: 40px\"> -> (score: 7) if china doesn't watch out they may get a misspelled disparaging tweet or some word salad shade during the next virus <mark>misinfor</mark>mation propaganda briefing! </p><br>"
      ],
      "text/plain": [
       "<IPython.core.display.HTML object>"
      ]
     },
     "metadata": {},
     "output_type": "display_data"
    },
    {
     "name": "stdout",
     "output_type": "stream",
     "text": [
      "\n",
      "\n",
      "\n",
      "r/Coronavirus\n"
     ]
    },
    {
     "data": {
      "text/html": [
       "<b>dr. deborah birx calls china's extraordinarily low <mark>coronav</mark>irus death rate \"unrealistic\"</b>"
      ],
      "text/plain": [
       "<IPython.core.display.HTML object>"
      ]
     },
     "metadata": {},
     "output_type": "display_data"
    },
    {
     "name": "stdout",
     "output_type": "stream",
     "text": [
      "URL: https://www.newsweek.com/dr-deborah-birx-calls-chinas-low-coronavirus-death-rate-unrealistic-1498778 \n",
      "Published: 2020-04-19 02:57:40.000000 \n"
     ]
    },
    {
     "data": {
      "text/html": [
       "<p style=\"margin-left: 40px\"> -> (score: -2) all of the data coming from china is completely bogus - starting with all of the <mark>misinfor</mark>mation they fed to the who. </p><br>"
      ],
      "text/plain": [
       "<IPython.core.display.HTML object>"
      ]
     },
     "metadata": {},
     "output_type": "display_data"
    },
    {
     "name": "stdout",
     "output_type": "stream",
     "text": [
      "\n",
      "\n",
      "\n",
      "r/worldnews\n"
     ]
    },
    {
     "data": {
      "text/html": [
       "<b>australian health minister says australia has a sustained and genuine flattening of the curve with less than 1% increase in <mark>coronav</mark>irus infection a day</b>"
      ],
      "text/plain": [
       "<IPython.core.display.HTML object>"
      ]
     },
     "metadata": {},
     "output_type": "display_data"
    },
    {
     "name": "stdout",
     "output_type": "stream",
     "text": [
      "URL: https://www.sbs.com.au/news/australia-has-a-sustained-and-genuine-flattening-of-the-coronavirus-curve-greg-hunt-says \n",
      "Published: 2020-04-19 01:47:19.000000 \n"
     ]
    },
    {
     "data": {
      "text/html": [
       "<p style=\"margin-left: 40px\"> -> (score: 4) calling it a *curve* can be <mark>misleading</mark> because it seems to suggest cases will only go down once they peak. fuck, we could build a staircase if we wanted! </p><br>"
      ],
      "text/plain": [
       "<IPython.core.display.HTML object>"
      ]
     },
     "metadata": {},
     "output_type": "display_data"
    },
    {
     "name": "stdout",
     "output_type": "stream",
     "text": [
      "\n",
      "\n",
      "\n",
      "r/Coronavirus\n"
     ]
    },
    {
     "data": {
      "text/html": [
       "<b><mark>covid</mark>-19 death toll in nj already equals 3 combined years of flu</b>"
      ],
      "text/plain": [
       "<IPython.core.display.HTML object>"
      ]
     },
     "metadata": {},
     "output_type": "display_data"
    },
    {
     "name": "stdout",
     "output_type": "stream",
     "text": [
      "URL: https://nj1015.com/covid-19-death-toll-in-nj-already-equals-3-combined-years-of-flu-deaths/ \n",
      "Published: 2020-04-19 01:15:03.000000 \n"
     ]
    },
    {
     "data": {
      "text/html": [
       "<p style=\"margin-left: 40px\"> -> (score: 24) i've found that there's no point presenting evidence like this to people who are in denial. they have lost their minds and entered a cult of <mark>misinfor</mark>mation. it's sad to say that 1/4 to 1/3 of people are completely insane and gullible. </p><br>"
      ],
      "text/plain": [
       "<IPython.core.display.HTML object>"
      ]
     },
     "metadata": {},
     "output_type": "display_data"
    },
    {
     "name": "stdout",
     "output_type": "stream",
     "text": [
      "\n",
      "\n",
      "\n",
      "r/Coronavirus\n"
     ]
    },
    {
     "data": {
      "text/html": [
       "<b>fact check: saturday <mark>coronav</mark>irus briefing was littered with false claims, old and new</b>"
      ],
      "text/plain": [
       "<IPython.core.display.HTML object>"
      ]
     },
     "metadata": {},
     "output_type": "display_data"
    },
    {
     "name": "stdout",
     "output_type": "stream",
     "text": [
      "URL: https://www.cnn.com/2020/04/18/politics/fact-check-coronavirus-briefing-april-18/index.html \n",
      "Published: 2020-04-19 00:54:08.000000 \n"
     ]
    },
    {
     "data": {
      "text/html": [
       "<p style=\"margin-left: 40px\"> -> (score: -2) \\> *it's <mark>not true</mark> that the us had \"no ammunition\" at the beginning of trump's presidency. rather, according to the public comments of military leaders, there was a shortfall in certain kinds of munitions, particularly precision-guided bombs, late in the obama presidency and early in the trump presidency.* \n",
       "\n",
       "hmmmm.... </p><br>"
      ],
      "text/plain": [
       "<IPython.core.display.HTML object>"
      ]
     },
     "metadata": {},
     "output_type": "display_data"
    },
    {
     "name": "stdout",
     "output_type": "stream",
     "text": [
      "\n",
      "\n",
      "\n",
      "r/politics\n"
     ]
    },
    {
     "data": {
      "text/html": [
       "<b>fact check: trump's saturday <mark>coronav</mark>irus briefing was littered with false claims, old and new</b>"
      ],
      "text/plain": [
       "<IPython.core.display.HTML object>"
      ]
     },
     "metadata": {},
     "output_type": "display_data"
    },
    {
     "name": "stdout",
     "output_type": "stream",
     "text": [
      "URL: https://amp.cnn.com/cnn/2020/04/18/politics/fact-check-coronavirus-briefing-april-18/index.html \n",
      "Published: 2020-04-19 00:37:59.000000 \n"
     ]
    },
    {
     "data": {
      "text/html": [
       "<p style=\"margin-left: 40px\"> -> (score: 1) his briefings are daily <mark>disinfor</mark>mation shitshows. </p><br>"
      ],
      "text/plain": [
       "<IPython.core.display.HTML object>"
      ]
     },
     "metadata": {},
     "output_type": "display_data"
    },
    {
     "name": "stdout",
     "output_type": "stream",
     "text": [
      "\n",
      "\n",
      "\n",
      "r/politics\n"
     ]
    },
    {
     "data": {
      "text/html": [
       "<b>black people in nyc twice as likely to die from <mark>covid</mark> as white people: data</b>"
      ],
      "text/plain": [
       "<IPython.core.display.HTML object>"
      ]
     },
     "metadata": {},
     "output_type": "display_data"
    },
    {
     "name": "stdout",
     "output_type": "stream",
     "text": [
      "URL: https://abcnews.go.com/US/black-people-nyc-die-covid-white-people-data/story?id=70208362 \n",
      "Published: 2020-04-19 00:08:11.000000 \n"
     ]
    },
    {
     "data": {
      "text/html": [
       "<p style=\"margin-left: 40px\"> -> (score: 1) - dominate service jobs\n",
       "- often have to live far from work and take public transit\n",
       "- much more likely to have underlying health conditions \n",
       "- victims of early <mark>misinfor</mark>mation in the community on the dangers of covid\n",
       "\n",
       "what a horrendous combination of risk factors culminating in this tragedy </p><br>"
      ],
      "text/plain": [
       "<IPython.core.display.HTML object>"
      ]
     },
     "metadata": {},
     "output_type": "display_data"
    },
    {
     "name": "stdout",
     "output_type": "stream",
     "text": [
      "\n",
      "\n",
      "\n",
      "r/worldnews\n"
     ]
    },
    {
     "data": {
      "text/html": [
       "<b>gop lawmakers introduce bill to allow americans to sue china over <mark>coronav</mark>irus</b>"
      ],
      "text/plain": [
       "<IPython.core.display.HTML object>"
      ]
     },
     "metadata": {},
     "output_type": "display_data"
    },
    {
     "name": "stdout",
     "output_type": "stream",
     "text": [
      "URL: https://www.foxnews.com/politics/gop-bill-americans-sue-china-coronavirus \n",
      "Published: 2020-04-18 23:59:58.000000 \n"
     ]
    },
    {
     "data": {
      "text/html": [
       "<p style=\"margin-left: 40px\"> -> (score: 4) i'm so confused. if it's <mark>not real</mark> what could they sue china for? </p><br>"
      ],
      "text/plain": [
       "<IPython.core.display.HTML object>"
      ]
     },
     "metadata": {},
     "output_type": "display_data"
    },
    {
     "name": "stdout",
     "output_type": "stream",
     "text": [
      "\n",
      "\n",
      "\n",
      "r/Coronavirus\n"
     ]
    },
    {
     "data": {
      "text/html": [
       "<b>leaked document suggests doctors told 'no requirement' to record <mark>covid</mark>-19 on death certificates</b>"
      ],
      "text/plain": [
       "<IPython.core.display.HTML object>"
      ]
     },
     "metadata": {},
     "output_type": "display_data"
    },
    {
     "name": "stdout",
     "output_type": "stream",
     "text": [
      "URL: https://inews.co.uk/news/health/coronavirus-covid-19-patients-death-certificates-nhs-trust-2541936 \n",
      "Published: 2020-04-18 23:19:28.000000 \n"
     ]
    },
    {
     "data": {
      "text/html": [
       "<p style=\"margin-left: 40px\"> -> (score: 16) hell, everyone thinks it is the opposite in the us: every death gets put as covid 19 if they were diagnosed. i know this is <mark>not true</mark> and know of a few deaths in my area that tested negative but everything pointed to that being the cause of their comorbidities exacerbation </p><br>"
      ],
      "text/plain": [
       "<IPython.core.display.HTML object>"
      ]
     },
     "metadata": {},
     "output_type": "display_data"
    },
    {
     "name": "stdout",
     "output_type": "stream",
     "text": [
      "\n",
      "\n",
      "\n",
      "r/politics\n"
     ]
    },
    {
     "data": {
      "text/html": [
       "<b><mark>coronav</mark>irus: your federal government failed you</b>"
      ],
      "text/plain": [
       "<IPython.core.display.HTML object>"
      ]
     },
     "metadata": {},
     "output_type": "display_data"
    },
    {
     "name": "stdout",
     "output_type": "stream",
     "text": [
      "URL: https://thehill.com/opinion/white-house/493494-coronavirus-your-government-failed-you \n",
      "Published: 2020-04-18 21:45:48.000000 \n"
     ]
    },
    {
     "data": {
      "text/html": [
       "<p style=\"margin-left: 40px\"> -> (score: 1) caption <mark>misleading</mark>. the feds are helping the coronavirus. not failing it. </p><br>"
      ],
      "text/plain": [
       "<IPython.core.display.HTML object>"
      ]
     },
     "metadata": {},
     "output_type": "display_data"
    },
    {
     "name": "stdout",
     "output_type": "stream",
     "text": [
      "\n",
      "\n",
      "\n",
      "r/worldnews\n"
     ]
    },
    {
     "data": {
      "text/html": [
       "<b>donald trump claims china is 'number one' in <mark>coronav</mark>irus deaths despite reported totals</b>"
      ],
      "text/plain": [
       "<IPython.core.display.HTML object>"
      ]
     },
     "metadata": {},
     "output_type": "display_data"
    },
    {
     "name": "stdout",
     "output_type": "stream",
     "text": [
      "URL: https://metro.co.uk/2020/04/18/donald-trump-claims-china-number-one-coronavirus-deaths-despite-reported-totals-12577023/ \n",
      "Published: 2020-04-18 21:54:10.000000 \n"
     ]
    },
    {
     "data": {
      "text/html": [
       "<p style=\"margin-left: 40px\"> -> (score: 7) no doubt china is lying but this is just cheeto man spewing <mark>fake news</mark> without facts as usual. </p><br>"
      ],
      "text/plain": [
       "<IPython.core.display.HTML object>"
      ]
     },
     "metadata": {},
     "output_type": "display_data"
    },
    {
     "name": "stdout",
     "output_type": "stream",
     "text": [
      "\n",
      "\n",
      "\n",
      "r/politics\n"
     ]
    },
    {
     "data": {
      "text/html": [
       "<b>trump says he took ‘strong action’ in february to stop <mark>coronav</mark>irus. here’s the full picture.</b>"
      ],
      "text/plain": [
       "<IPython.core.display.HTML object>"
      ]
     },
     "metadata": {},
     "output_type": "display_data"
    },
    {
     "name": "stdout",
     "output_type": "stream",
     "text": [
      "URL: https://edition.cnn.com/interactive/2020/04/politics/trump-covid-response-annotation/ \n",
      "Published: 2020-04-18 21:11:24.000000 \n"
     ]
    },
    {
     "data": {
      "text/html": [
       "<p style=\"margin-left: 40px\"> -> (score: 1) so far trump's strongest response to this pandemic was yelling at \"<mark>fake news</mark>\" reporters at the daily briefings. </p><br>"
      ],
      "text/plain": [
       "<IPython.core.display.HTML object>"
      ]
     },
     "metadata": {},
     "output_type": "display_data"
    },
    {
     "name": "stdout",
     "output_type": "stream",
     "text": [
      "\n",
      "\n",
      "\n",
      "r/Coronavirus\n"
     ]
    },
    {
     "data": {
      "text/html": [
       "<b><mark>coronav</mark>irus: a chinese man got <mark>covid</mark>-19 three times. should we be worried about reinfection?</b>"
      ],
      "text/plain": [
       "<IPython.core.display.HTML object>"
      ]
     },
     "metadata": {},
     "output_type": "display_data"
    },
    {
     "name": "stdout",
     "output_type": "stream",
     "text": [
      "URL: https://i.stuff.co.nz/world/121110699/coronavirus-a-man-got-covid19-three-times-should-we-be-worried-about-reinfection?utm_source=dlvr.it&utm_medium=twitter \n",
      "Published: 2020-04-18 21:21:59.000000 \n"
     ]
    },
    {
     "data": {
      "text/html": [
       "<p style=\"margin-left: 40px\"> -> (score: 0) possible conclusions:\n",
       "\n",
       "1. he broke quarantine each time after being released and got reinfected\n",
       "2. coronavirus can travel through ventilation systems to infect people\n",
       "3. <mark>fake news</mark>\n",
       "4. the tests are unreliable </p><br>"
      ],
      "text/plain": [
       "<IPython.core.display.HTML object>"
      ]
     },
     "metadata": {},
     "output_type": "display_data"
    },
    {
     "data": {
      "text/html": [
       "<p style=\"margin-left: 40px\"> -> (score: 1) did any of you even read this article?\n",
       "he did not get covid-19 3 times. he recovered, tested negative, then tested positive, he was hospitalized again out of precaution....he never got sick again. we know pcr test's can get a high level of false negative when viral load decreases. seeing somebody clear a viral infection and then getting contradictory test results is very, very common.\n",
       "\n",
       "articles like this are the definition of \"<mark>fake news</mark>\". </p><br>"
      ],
      "text/plain": [
       "<IPython.core.display.HTML object>"
      ]
     },
     "metadata": {},
     "output_type": "display_data"
    },
    {
     "data": {
      "text/html": [
       "<p style=\"margin-left: 40px\"> -> (score: 5) just a little context from a new zealander (stuff is a new zealand website) stuff is notoriously poor, biased and <mark>misleading</mark> as a news source. often referred to as \"stuff up\" here in nz. </p><br>"
      ],
      "text/plain": [
       "<IPython.core.display.HTML object>"
      ]
     },
     "metadata": {},
     "output_type": "display_data"
    },
    {
     "name": "stdout",
     "output_type": "stream",
     "text": [
      "\n",
      "\n",
      "\n",
      "r/politics\n"
     ]
    },
    {
     "data": {
      "text/html": [
       "<b>franklin graham: democrats exploit <mark>coronav</mark>irus to ‘defeat donald trump in the election’</b>"
      ],
      "text/plain": [
       "<IPython.core.display.HTML object>"
      ]
     },
     "metadata": {},
     "output_type": "display_data"
    },
    {
     "name": "stdout",
     "output_type": "stream",
     "text": [
      "URL: https://www.breitbart.com/health/2020/04/18/franklin-graham-democrats-exploit-coronavirus-defeat-donald-trump-election/ \n",
      "Published: 2020-04-18 20:27:44.000000 \n"
     ]
    },
    {
     "data": {
      "text/html": [
       "<p style=\"margin-left: 40px\"> -> (score: 1) breitbart is a <mark>fake news</mark> site that supports pedophiles. </p><br>"
      ],
      "text/plain": [
       "<IPython.core.display.HTML object>"
      ]
     },
     "metadata": {},
     "output_type": "display_data"
    },
    {
     "name": "stdout",
     "output_type": "stream",
     "text": [
      "\n",
      "\n",
      "\n",
      "r/Coronavirus\n"
     ]
    },
    {
     "data": {
      "text/html": [
       "<b>65 percent of u.s. adults say potus was too slow to respond to <mark>covid</mark>-19 outbreak: poll</b>"
      ],
      "text/plain": [
       "<IPython.core.display.HTML object>"
      ]
     },
     "metadata": {},
     "output_type": "display_data"
    },
    {
     "name": "stdout",
     "output_type": "stream",
     "text": [
      "URL: https://www.newsweek.com/donald-trump-covid-19-survey-1498768 \n",
      "Published: 2020-04-18 20:35:37.000000 \n"
     ]
    },
    {
     "data": {
      "text/html": [
       "<p style=\"margin-left: 40px\"> -> (score: 1) and the other 35% are being disingenuous or willfully <mark>misinfor</mark>med. </p><br>"
      ],
      "text/plain": [
       "<IPython.core.display.HTML object>"
      ]
     },
     "metadata": {},
     "output_type": "display_data"
    },
    {
     "data": {
      "text/html": [
       "<p style=\"margin-left: 40px\"> -> (score: -1) according to newsweek, 4900 adults who voted in the poll over 5 days represents all of america. <mark>fake news</mark>. </p><br>"
      ],
      "text/plain": [
       "<IPython.core.display.HTML object>"
      ]
     },
     "metadata": {},
     "output_type": "display_data"
    },
    {
     "name": "stdout",
     "output_type": "stream",
     "text": [
      "\n",
      "\n",
      "\n",
      "r/politics\n"
     ]
    },
    {
     "data": {
      "text/html": [
       "<b>65 percent of u.s. adults say donald trump was too slow to respond to <mark>covid</mark>-19 outbreak: poll</b>"
      ],
      "text/plain": [
       "<IPython.core.display.HTML object>"
      ]
     },
     "metadata": {},
     "output_type": "display_data"
    },
    {
     "name": "stdout",
     "output_type": "stream",
     "text": [
      "URL: https://www.newsweek.com/donald-trump-covid-19-survey-1498768 \n",
      "Published: 2020-04-18 20:09:14.000000 \n"
     ]
    },
    {
     "data": {
      "text/html": [
       "<p style=\"margin-left: 40px\"> -> (score: 1) this is a lie. another study indicted that 90% of adults indicted that trump slacked on responding to covid 19. i’m sick of <mark>fake news</mark>! quit spreading these lies? </p><br>"
      ],
      "text/plain": [
       "<IPython.core.display.HTML object>"
      ]
     },
     "metadata": {},
     "output_type": "display_data"
    },
    {
     "name": "stdout",
     "output_type": "stream",
     "text": [
      "\n",
      "\n",
      "\n",
      "r/Coronavirus\n"
     ]
    },
    {
     "data": {
      "text/html": [
       "<b><mark>coronav</mark>irus relapse cases continue to rise in s. korea to 163, 61 patients displaying symptoms again</b>"
      ],
      "text/plain": [
       "<IPython.core.display.HTML object>"
      ]
     },
     "metadata": {},
     "output_type": "display_data"
    },
    {
     "name": "stdout",
     "output_type": "stream",
     "text": [
      "URL: https://m-en.yna.co.kr/view/AEN20200417006800320 \n",
      "Published: 2020-04-18 19:50:16.000000 \n"
     ]
    },
    {
     "data": {
      "text/html": [
       "<p style=\"margin-left: 40px\"> -> (score: 2) warning: reddit has a fetish for reinfection. there is heaps of <mark>misinfor</mark>mation in the comments here. ignore. </p><br>"
      ],
      "text/plain": [
       "<IPython.core.display.HTML object>"
      ]
     },
     "metadata": {},
     "output_type": "display_data"
    },
    {
     "name": "stdout",
     "output_type": "stream",
     "text": [
      "\n",
      "\n",
      "\n",
      "r/worldpolitics\n"
     ]
    },
    {
     "data": {
      "text/html": [
       "<b>democrats scramble to add <mark>covid</mark>-19 deaths to voter rolls</b>"
      ],
      "text/plain": [
       "<IPython.core.display.HTML object>"
      ]
     },
     "metadata": {},
     "output_type": "display_data"
    },
    {
     "name": "stdout",
     "output_type": "stream",
     "text": [
      "URL: https://genesiustimes.com/democrats-scramble-to-add-covid-19-deaths-to-voter-rolls/ \n",
      "Published: 2020-04-18 18:33:29.000000 \n"
     ]
    },
    {
     "data": {
      "text/html": [
       "<p style=\"margin-left: 40px\"> -> (score: 2) from “the most reliable source of <mark>fake news</mark> on the planet” </p><br>"
      ],
      "text/plain": [
       "<IPython.core.display.HTML object>"
      ]
     },
     "metadata": {},
     "output_type": "display_data"
    },
    {
     "name": "stdout",
     "output_type": "stream",
     "text": [
      "\n",
      "\n",
      "\n",
      "r/worldpolitics\n"
     ]
    },
    {
     "data": {
      "text/html": [
       "<b>pelosi is loving this <mark>pandemi</mark>c</b>"
      ],
      "text/plain": [
       "<IPython.core.display.HTML object>"
      ]
     },
     "metadata": {},
     "output_type": "display_data"
    },
    {
     "name": "stdout",
     "output_type": "stream",
     "text": [
      "URL: https://imgur.com/vbXoDmq \n",
      "Published: 2020-04-18 18:13:16.000000 \n"
     ]
    },
    {
     "data": {
      "text/html": [
       "<p style=\"margin-left: 40px\"> -> (score: 2) imagine having a political leader that doesnt focus on self image, shameless promotion, lies, <mark>misinfor</mark>mation, and money..... </p><br>"
      ],
      "text/plain": [
       "<IPython.core.display.HTML object>"
      ]
     },
     "metadata": {},
     "output_type": "display_data"
    },
    {
     "name": "stdout",
     "output_type": "stream",
     "text": [
      "\n",
      "\n",
      "\n",
      "r/Coronavirus\n"
     ]
    },
    {
     "data": {
      "text/html": [
       "<b>statement from university of sydney professor edward holmes on the origin of the <mark>sars</mark>-cov-2 virus</b>"
      ],
      "text/plain": [
       "<IPython.core.display.HTML object>"
      ]
     },
     "metadata": {},
     "output_type": "display_data"
    },
    {
     "name": "stdout",
     "output_type": "stream",
     "text": [
      "URL: https://www.sydney.edu.au/news-opinion/news/2020/04/16/COVID-19-statement-professor-edward-holmes-sars-cov-2-virus.html \n",
      "Published: 2020-04-18 17:52:29.000000 \n"
     ]
    },
    {
     "data": {
      "text/html": [
       "<p style=\"margin-left: 40px\"> -> (score: 1) thanks to the trump administration and their constant lies, this will be written off by most people as “<mark>fake news</mark>”. </p><br>"
      ],
      "text/plain": [
       "<IPython.core.display.HTML object>"
      ]
     },
     "metadata": {},
     "output_type": "display_data"
    },
    {
     "name": "stdout",
     "output_type": "stream",
     "text": [
      "\n",
      "\n",
      "\n",
      "r/worldnews\n"
     ]
    },
    {
     "data": {
      "text/html": [
       "<b>\"<mark>covid</mark>-19 is lab grown and includes hiv sequences. researchers are being silenced but i'm out of age, i'm a nobel winner and nobody can put a pressure on me\", 2008 nobel prize winner pr. montagnier says.</b>"
      ],
      "text/plain": [
       "<IPython.core.display.HTML object>"
      ]
     },
     "metadata": {},
     "output_type": "display_data"
    },
    {
     "name": "stdout",
     "output_type": "stream",
     "text": [
      "URL: https://ponderwall.com/index.php/2020/04/18/lab-grown-coronavirus/ \n",
      "Published: 2020-04-18 17:49:53.000000 \n"
     ]
    },
    {
     "data": {
      "text/html": [
       "<p style=\"margin-left: 40px\"> -> (score: 7) <mark>false news</mark>, its 5g the illuminati and engineered by ancient aliens, recipe was found at the bottom of loch ness /s </p><br>"
      ],
      "text/plain": [
       "<IPython.core.display.HTML object>"
      ]
     },
     "metadata": {},
     "output_type": "display_data"
    },
    {
     "name": "stdout",
     "output_type": "stream",
     "text": [
      "\n",
      "\n",
      "\n",
      "r/Coronavirus\n"
     ]
    },
    {
     "data": {
      "text/html": [
       "<b>chest ct scan finds <mark>coronav</mark>irus pneumonia in lung of healthy woman, 30, who had no symptoms of disease</b>"
      ],
      "text/plain": [
       "<IPython.core.display.HTML object>"
      ]
     },
     "metadata": {},
     "output_type": "display_data"
    },
    {
     "name": "stdout",
     "output_type": "stream",
     "text": [
      "URL: https://mobile.abc.net.au/news/2020-04-18/radiologists-doctors-sharing-ct-images-of-coronavirus/12155560 \n",
      "Published: 2020-04-18 17:23:32.000000 \n"
     ]
    },
    {
     "data": {
      "text/html": [
       "<p style=\"margin-left: 40px\"> -> (score: 32) the headline is <mark>misleading</mark>. it should end \"...until 2 days later.\" \n",
       "\n",
       "it is obvious that the virus must *do something* to you in order for you to feel sick, and of course if you go looking for it, you may find it before the symptoms appear subjectively to the patient. </p><br>"
      ],
      "text/plain": [
       "<IPython.core.display.HTML object>"
      ]
     },
     "metadata": {},
     "output_type": "display_data"
    },
    {
     "name": "stdout",
     "output_type": "stream",
     "text": [
      "\n",
      "\n",
      "\n",
      "r/politics\n"
     ]
    },
    {
     "data": {
      "text/html": [
       "<b>woman charged for organizing protest against <mark>covid</mark>-19 stay-at-home orders</b>"
      ],
      "text/plain": [
       "<IPython.core.display.HTML object>"
      ]
     },
     "metadata": {},
     "output_type": "display_data"
    },
    {
     "name": "stdout",
     "output_type": "stream",
     "text": [
      "URL: https://lawandcrime.com/covid-19-pandemic/new-jersey-woman-kim-pagan-charged-for-organizing-protest-against-covid-19-stay-at-home-orders/ \n",
      "Published: 2020-04-18 16:55:42.000000 \n"
     ]
    },
    {
     "data": {
      "text/html": [
       "<p style=\"margin-left: 40px\"> -> (score: 1) for all their outrage over trump calling the media <mark>fake news</mark> being some grand fascist takeover, today democrats stand behind actual, real life fascism.\n",
       "\n",
       "a democrat just arrested a woman for planning a protest against that democrat's orders. a democrat arrested people who engaged in nonviolent civil protest against the democrat governor's actions. </p><br>"
      ],
      "text/plain": [
       "<IPython.core.display.HTML object>"
      ]
     },
     "metadata": {},
     "output_type": "display_data"
    },
    {
     "data": {
      "text/html": [
       "<p style=\"margin-left: 40px\"> -> (score: 1) title is <mark>misleading</mark>. she was charged for organizing a prohibited event, irrespective of the event’s message or content. </p><br>"
      ],
      "text/plain": [
       "<IPython.core.display.HTML object>"
      ]
     },
     "metadata": {},
     "output_type": "display_data"
    },
    {
     "name": "stdout",
     "output_type": "stream",
     "text": [
      "\n",
      "\n",
      "\n",
      "r/Coronavirus\n"
     ]
    },
    {
     "data": {
      "text/html": [
       "<b>one of mexico's main tv broadcasting companies goes directly against government's deputy health minister and <mark>epidemi</mark>ologist: \"his digits and conferences have become irrelevant. don't pay attention to him anymore\".</b>"
      ],
      "text/plain": [
       "<IPython.core.display.HTML object>"
      ]
     },
     "metadata": {},
     "output_type": "display_data"
    },
    {
     "name": "stdout",
     "output_type": "stream",
     "text": [
      "URL: https://www.informador.mx/mexico/TV-Azteca-en-el-ojo-del-huracan-pide-no-hacer-caso-a-Lopez-Gatell-20200418-0040.html \n",
      "Published: 2020-04-18 16:55:43.000000 \n"
     ]
    },
    {
     "data": {
      "text/html": [
       "<p style=\"margin-left: 40px\"> -> (score: 5) i would like all u.s. tv to ignore all trump \"news conferences\" (j.e. lies and <mark>fake news</mark>). </p><br>"
      ],
      "text/plain": [
       "<IPython.core.display.HTML object>"
      ]
     },
     "metadata": {},
     "output_type": "display_data"
    },
    {
     "name": "stdout",
     "output_type": "stream",
     "text": [
      "\n",
      "\n",
      "\n",
      "r/Coronavirus\n"
     ]
    },
    {
     "data": {
      "text/html": [
       "<b>unease at the border: russia and china seek to downplay <mark>covid</mark>-19 outbreak in suifenhe</b>"
      ],
      "text/plain": [
       "<IPython.core.display.HTML object>"
      ]
     },
     "metadata": {},
     "output_type": "display_data"
    },
    {
     "name": "stdout",
     "output_type": "stream",
     "text": [
      "URL: https://www.theguardian.com/world/2020/apr/18/unease-at-the-border-russia-and-china-seek-to-downplay-covid-19-outbreak-in-suifenhe \n",
      "Published: 2020-04-18 16:38:46.000000 \n"
     ]
    },
    {
     "data": {
      "text/html": [
       "<p style=\"margin-left: 40px\"> -> (score: 6) this is what's called an intentionally <mark>misleading</mark> title. the article mentions that borders between the two countries are closed, and that some covid cases in china are imported from russia, yet the title asserts that both countries are involved in some dastardly cover-up. </p><br>"
      ],
      "text/plain": [
       "<IPython.core.display.HTML object>"
      ]
     },
     "metadata": {},
     "output_type": "display_data"
    },
    {
     "name": "stdout",
     "output_type": "stream",
     "text": [
      "\n",
      "\n",
      "\n",
      "r/Coronavirus\n"
     ]
    },
    {
     "data": {
      "text/html": [
       "<b><mark>coronav</mark>irus lockdown | youth dies after allegedly being beaten up by police in uttar pradesh</b>"
      ],
      "text/plain": [
       "<IPython.core.display.HTML object>"
      ]
     },
     "metadata": {},
     "output_type": "display_data"
    },
    {
     "name": "stdout",
     "output_type": "stream",
     "text": [
      "URL: https://www.thehindu.com/news/national/other-states/coronavirus-youth-dies-after-being-beaten-up-by-police-in-uttar-pradesh/article31375836.ece \n",
      "Published: 2020-04-18 16:40:44.000000 \n"
     ]
    },
    {
     "data": {
      "text/html": [
       "<p style=\"margin-left: 40px\"> -> (score: 1) people seem to be missing \"allegedly\", this newspaper is known to look for <mark>fake news</mark> to sensationalise. since when is \"allegedly\" taken as fact. </p><br>"
      ],
      "text/plain": [
       "<IPython.core.display.HTML object>"
      ]
     },
     "metadata": {},
     "output_type": "display_data"
    },
    {
     "name": "stdout",
     "output_type": "stream",
     "text": [
      "\n",
      "\n",
      "\n",
      "r/worldnews\n"
     ]
    },
    {
     "data": {
      "text/html": [
       "<b>\"we would like to make it clear that there is to this day no factual evidence corroborating recent reports in the us press linking the origins of <mark>covid</mark>-19 and the work of the p4 laboratory of wuhan, china,\" an official at president emmanuel macron's office said.</b>"
      ],
      "text/plain": [
       "<IPython.core.display.HTML object>"
      ]
     },
     "metadata": {},
     "output_type": "display_data"
    },
    {
     "name": "stdout",
     "output_type": "stream",
     "text": [
      "URL: https://www.france24.com/en/20200418-france-says-no-evidence-covid-19-linked-to-wuhan-research-lab-set-up-with-french-help \n",
      "Published: 2020-04-18 16:46:02.000000 \n"
     ]
    },
    {
     "data": {
      "text/html": [
       "<p style=\"margin-left: 40px\"> -> (score: 1) faucci in the us said this yesterday too.  \n",
       "\n",
       "lots of <mark>misinfor</mark>mation going on in the us right now. </p><br>"
      ],
      "text/plain": [
       "<IPython.core.display.HTML object>"
      ]
     },
     "metadata": {},
     "output_type": "display_data"
    },
    {
     "name": "stdout",
     "output_type": "stream",
     "text": [
      "\n",
      "\n",
      "\n",
      "r/Coronavirus\n"
     ]
    },
    {
     "data": {
      "text/html": [
       "<b>dr. phil and dr. oz aren’t <mark>coronav</mark>irus experts. so why are they talking about it on tv news?</b>"
      ],
      "text/plain": [
       "<IPython.core.display.HTML object>"
      ]
     },
     "metadata": {},
     "output_type": "display_data"
    },
    {
     "name": "stdout",
     "output_type": "stream",
     "text": [
      "URL: https://www.washingtonpost.com/lifestyle/media/dr-phil-and-dr-oz-arent-coronavirus-experts-so-why-are-they-talking-about-it-on-tv-news/2020/04/17/09c2c410-80bb-11ea-a3ee-13e1ae0a3571_story.html \n",
      "Published: 2020-04-18 16:34:45.000000 \n"
     ]
    },
    {
     "data": {
      "text/html": [
       "<p style=\"margin-left: 40px\"> -> (score: 2) where’s dr. drew?  he’s been making some ridiculous claims about the virus too.  all these tv “doctors” are really just quacks.  i hope after all this is said and done they lose their credibility and tv contracts for spreading <mark>disinfor</mark>mation </p><br>"
      ],
      "text/plain": [
       "<IPython.core.display.HTML object>"
      ]
     },
     "metadata": {},
     "output_type": "display_data"
    },
    {
     "name": "stdout",
     "output_type": "stream",
     "text": [
      "\n",
      "\n",
      "\n",
      "r/politics\n"
     ]
    },
    {
     "data": {
      "text/html": [
       "<b>antibody test results from california suggest <mark>covid</mark> death rate significantly lower than reported</b>"
      ],
      "text/plain": [
       "<IPython.core.display.HTML object>"
      ]
     },
     "metadata": {},
     "output_type": "display_data"
    },
    {
     "name": "stdout",
     "output_type": "stream",
     "text": [
      "URL: https://www.dailywire.com/news/antibody-test-results-from-california-suggest-covid-death-rate-significantly-lower-than-reported \n",
      "Published: 2020-04-18 16:14:27.000000 \n"
     ]
    },
    {
     "data": {
      "text/html": [
       "<p style=\"margin-left: 40px\"> -> (score: 1) holy fuck! have you read the original research paper from stanford researcher/dr.?  fucking stop spreading <mark>misinfor</mark>mation. it is not the death rate. it is about the quotient of infection, and what that can be forthcoming. other worry is, reinfection rate, etc. </p><br>"
      ],
      "text/plain": [
       "<IPython.core.display.HTML object>"
      ]
     },
     "metadata": {},
     "output_type": "display_data"
    },
    {
     "name": "stdout",
     "output_type": "stream",
     "text": [
      "\n",
      "\n",
      "\n",
      "r/Coronavirus\n"
     ]
    },
    {
     "data": {
      "text/html": [
       "<b>uae to issue $5,500 fines for sharing unauthorized <mark>coronav</mark>irus information</b>"
      ],
      "text/plain": [
       "<IPython.core.display.HTML object>"
      ]
     },
     "metadata": {},
     "output_type": "display_data"
    },
    {
     "name": "stdout",
     "output_type": "stream",
     "text": [
      "URL: https://thehill.com/policy/international/493482-uae-to-issue-5500-fines-for-sharing-unauthorized-coronavirus-info \n",
      "Published: 2020-04-18 16:14:55.000000 \n"
     ]
    },
    {
     "data": {
      "text/html": [
       "<p style=\"margin-left: 40px\"> -> (score: 1) <mark>misinfor</mark>mation is one thing; unauthorized could be something completely different. </p><br>"
      ],
      "text/plain": [
       "<IPython.core.display.HTML object>"
      ]
     },
     "metadata": {},
     "output_type": "display_data"
    },
    {
     "data": {
      "text/html": [
       "<p style=\"margin-left: 40px\"> -> (score: 2) i totally get why this is shady, but even a brief peek at facebook helps explain why a country might adopt this stance.  conspiracy theories, fake treatments, and just flat out bad info are everywhere there that exacerbate an already difficult situation.  i’m not suggesting the us adopt this, but policing the <mark>misinfor</mark>mation somehow makes sense. </p><br>"
      ],
      "text/plain": [
       "<IPython.core.display.HTML object>"
      ]
     },
     "metadata": {},
     "output_type": "display_data"
    },
    {
     "name": "stdout",
     "output_type": "stream",
     "text": [
      "\n",
      "\n",
      "\n",
      "r/worldnews\n"
     ]
    },
    {
     "data": {
      "text/html": [
       "<b>israeli squatters with <mark>covid</mark>-19 break quarantine, assault palestinians at close quarters</b>"
      ],
      "text/plain": [
       "<IPython.core.display.HTML object>"
      ]
     },
     "metadata": {},
     "output_type": "display_data"
    },
    {
     "name": "stdout",
     "output_type": "stream",
     "text": [
      "URL: https://www.juancole.com/2020/04/squatters-quarantine-palestinians.html \n",
      "Published: 2020-04-18 16:08:42.000000 \n"
     ]
    },
    {
     "data": {
      "text/html": [
       "<p style=\"margin-left: 40px\"> -> (score: -2) umm this ain’t news. this is a hardcore anti-israel editorial at best. also, the image thumbnail isn’t part of the story, it’s a youtube video about a different story. can’t get much more <mark>misleading</mark> than this trash. </p><br>"
      ],
      "text/plain": [
       "<IPython.core.display.HTML object>"
      ]
     },
     "metadata": {},
     "output_type": "display_data"
    },
    {
     "name": "stdout",
     "output_type": "stream",
     "text": [
      "\n",
      "\n",
      "\n",
      "r/worldpolitics\n"
     ]
    },
    {
     "data": {
      "text/html": [
       "<b>over 100,000 <mark>coronav</mark>irus test swabs from china contaminated with mould</b>"
      ],
      "text/plain": [
       "<IPython.core.display.HTML object>"
      ]
     },
     "metadata": {},
     "output_type": "display_data"
    },
    {
     "name": "stdout",
     "output_type": "stream",
     "text": [
      "URL: https://tnc.news/2020/04/17/over-100000-coronavirus-test-swabs-from-china-contaminated-with-mould/ \n",
      "Published: 2020-04-18 15:59:29.000000 \n"
     ]
    },
    {
     "data": {
      "text/html": [
       "<p style=\"margin-left: 40px\"> -> (score: 1) but dt said 2 days ago the us has the best tests in the world and gave tested the most people.. <mark>not true</mark>? </p><br>"
      ],
      "text/plain": [
       "<IPython.core.display.HTML object>"
      ]
     },
     "metadata": {},
     "output_type": "display_data"
    },
    {
     "name": "stdout",
     "output_type": "stream",
     "text": [
      "\n",
      "\n",
      "\n",
      "r/Coronavirus\n"
     ]
    },
    {
     "data": {
      "text/html": [
       "<b><mark>covid</mark>-19 in britain: the death toll and the media deference</b>"
      ],
      "text/plain": [
       "<IPython.core.display.HTML object>"
      ]
     },
     "metadata": {},
     "output_type": "display_data"
    },
    {
     "name": "stdout",
     "output_type": "stream",
     "text": [
      "URL: https://www.aljazeera.com/programmes/listeningpost/2020/04/covid-19-britain-death-toll-media-deference-200418084810485.html \n",
      "Published: 2020-04-18 15:39:56.000000 \n"
     ]
    },
    {
     "data": {
      "text/html": [
       "<p style=\"margin-left: 40px\"> -> (score: 1) what do you expect when china held back on what was happening there and the who gave <mark>false infor</mark>mation at the start of all this? the scientists are still not sure how to deal with this. i don't envy any government left with the responsibility to decide whether to fuck your own economy for something so unknown, i understand in hindsight it's easier to see, but at that time that must have been a very difficult decision </p><br>"
      ],
      "text/plain": [
       "<IPython.core.display.HTML object>"
      ]
     },
     "metadata": {},
     "output_type": "display_data"
    },
    {
     "name": "stdout",
     "output_type": "stream",
     "text": [
      "\n",
      "\n",
      "\n",
      "r/Coronavirus\n"
     ]
    },
    {
     "data": {
      "text/html": [
       "<b>i am rahul panicker, principal investigator for cough against <mark>covid</mark>, an open access effort to build an ai tool that uses cough sounds, symptoms & contextual information for early screening of <mark>covid</mark>-19. i am joined by my collaborators dr. peter small from global good & prof. james zou from stanford</b>"
      ],
      "text/plain": [
       "<IPython.core.display.HTML object>"
      ]
     },
     "metadata": {},
     "output_type": "display_data"
    },
    {
     "name": "stdout",
     "output_type": "stream",
     "text": [
      "URL: https://www.reddit.com/r/Coronavirus/comments/g3p49q/i_am_rahul_panicker_principal_investigator_for/ \n",
      "Published: 2020-04-18 15:16:55.000000 \n"
     ]
    },
    {
     "data": {
      "text/html": [
       "<p style=\"margin-left: 40px\"> -> (score: 3) since up to 40-80% may be asymptomatic, (no cough, no fever) do you think you will be held liable for spreading <mark>misinfor</mark>mation and false negative data among communities? </p><br>"
      ],
      "text/plain": [
       "<IPython.core.display.HTML object>"
      ]
     },
     "metadata": {},
     "output_type": "display_data"
    },
    {
     "name": "stdout",
     "output_type": "stream",
     "text": [
      "\n",
      "\n",
      "\n",
      "r/Coronavirus\n"
     ]
    },
    {
     "data": {
      "text/html": [
       "<b>antibody study shows <mark>covid</mark>-19 rate of infection may be up to 85 times higher than reported</b>"
      ],
      "text/plain": [
       "<IPython.core.display.HTML object>"
      ]
     },
     "metadata": {},
     "output_type": "display_data"
    },
    {
     "name": "stdout",
     "output_type": "stream",
     "text": [
      "URL: https://www.newsweek.com/covid-19-coronavirus-antibodies-infection-higher-1498740 \n",
      "Published: 2020-04-18 14:36:04.000000 \n"
     ]
    },
    {
     "data": {
      "text/html": [
       "<p style=\"margin-left: 40px\"> -> (score: -1) <mark>misleading</mark> title is <mark>misleading</mark>. </p><br>"
      ],
      "text/plain": [
       "<IPython.core.display.HTML object>"
      ]
     },
     "metadata": {},
     "output_type": "display_data"
    },
    {
     "data": {
      "text/html": [
       "<p style=\"margin-left: 40px\"> -> (score: 3) <mark>misleading</mark> title, but knowing the mods they won't take this down unless it's about bashing the ccp. </p><br>"
      ],
      "text/plain": [
       "<IPython.core.display.HTML object>"
      ]
     },
     "metadata": {},
     "output_type": "display_data"
    },
    {
     "name": "stdout",
     "output_type": "stream",
     "text": [
      "\n",
      "\n",
      "\n",
      "r/Coronavirus\n"
     ]
    },
    {
     "data": {
      "text/html": [
       "<b>rallies to reopen economy spread across country as officials urge caution to prevent <mark>coronav</mark>irus resurgence</b>"
      ],
      "text/plain": [
       "<IPython.core.display.HTML object>"
      ]
     },
     "metadata": {},
     "output_type": "display_data"
    },
    {
     "name": "stdout",
     "output_type": "stream",
     "text": [
      "URL: https://www.foxnews.com/politics/rallies-to-reopen-economy-spread-across-country-as-officials-urge-caution-to-prevent-coronavirus-resurgence \n",
      "Published: 2020-04-18 14:36:31.000000 \n"
     ]
    },
    {
     "data": {
      "text/html": [
       "<p style=\"margin-left: 40px\"> -> (score: -29) you can keep trying to suppress these rallies but they aren't going away. we're not arguing with your unscientific <mark>fake news</mark> anymore, or your excuses for why your experts have been 100% wrong for over six weeks.\n",
       "\n",
       "you don't get to downvote reality away, sorry. the protests will only grow from here. </p><br>"
      ],
      "text/plain": [
       "<IPython.core.display.HTML object>"
      ]
     },
     "metadata": {},
     "output_type": "display_data"
    },
    {
     "name": "stdout",
     "output_type": "stream",
     "text": [
      "\n",
      "\n",
      "\n",
      "r/Coronavirus\n"
     ]
    },
    {
     "data": {
      "text/html": [
       "<b>1/3 of blood samples from massachusetts study test positive for <mark>coronav</mark>irus</b>"
      ],
      "text/plain": [
       "<IPython.core.display.HTML object>"
      ]
     },
     "metadata": {},
     "output_type": "display_data"
    },
    {
     "name": "stdout",
     "output_type": "stream",
     "text": [
      "URL: https://www.foxnews.com/science/third-blood-samples-massachusetts-study-coronavirus \n",
      "Published: 2020-04-18 13:29:47.000000 \n"
     ]
    },
    {
     "data": {
      "text/html": [
       "<p style=\"margin-left: 40px\"> -> (score: -4) <mark>fake news</mark> if it's fox news... </p><br>"
      ],
      "text/plain": [
       "<IPython.core.display.HTML object>"
      ]
     },
     "metadata": {},
     "output_type": "display_data"
    },
    {
     "name": "stdout",
     "output_type": "stream",
     "text": [
      "\n",
      "\n",
      "\n",
      "r/uspolitics\n"
     ]
    },
    {
     "data": {
      "text/html": [
       "<b>opinion - did trump give israel 1 million face masks despite <mark>coronav</mark>irus equipment shortages in the us? yes</b>"
      ],
      "text/plain": [
       "<IPython.core.display.HTML object>"
      ]
     },
     "metadata": {},
     "output_type": "display_data"
    },
    {
     "name": "stdout",
     "output_type": "stream",
     "text": [
      "URL: http://www.informationclearinghouse.info/55030.htm \n",
      "Published: 2020-04-18 13:11:02.000000 \n"
     ]
    },
    {
     "data": {
      "text/html": [
       "<p style=\"margin-left: 40px\"> -> (score: 2) what shortages? at our company, we were/are easily able to obtain m95s for our workers.  i really don't get the whole shortage thing.....its <mark>not true</mark>. </p><br>"
      ],
      "text/plain": [
       "<IPython.core.display.HTML object>"
      ]
     },
     "metadata": {},
     "output_type": "display_data"
    },
    {
     "name": "stdout",
     "output_type": "stream",
     "text": [
      "\n",
      "\n",
      "\n",
      "r/Coronavirus\n"
     ]
    },
    {
     "data": {
      "text/html": [
       "<b>no, 5g does not spread <mark>coronav</mark>irus</b>"
      ],
      "text/plain": [
       "<IPython.core.display.HTML object>"
      ]
     },
     "metadata": {},
     "output_type": "display_data"
    },
    {
     "name": "stdout",
     "output_type": "stream",
     "text": [
      "URL: https://www.bbc.com/news/52168096 \n",
      "Published: 2020-04-18 13:11:10.000000 \n"
     ]
    },
    {
     "data": {
      "text/html": [
       "<p style=\"margin-left: 40px\"> -> (score: 0) people will still call this <mark>fake news</mark>. calling all karens. </p><br>"
      ],
      "text/plain": [
       "<IPython.core.display.HTML object>"
      ]
     },
     "metadata": {},
     "output_type": "display_data"
    },
    {
     "data": {
      "text/html": [
       "<p style=\"margin-left: 40px\"> -> (score: 3) it will however, inevitably help to spread <mark>misinfor</mark>mation just like all the g's before it </p><br>"
      ],
      "text/plain": [
       "<IPython.core.display.HTML object>"
      ]
     },
     "metadata": {},
     "output_type": "display_data"
    },
    {
     "name": "stdout",
     "output_type": "stream",
     "text": [
      "\n",
      "\n",
      "\n",
      "r/worldnews\n"
     ]
    },
    {
     "data": {
      "text/html": [
       "<b>uae announces $5,500 fine for spreading unauthorised <mark>coronav</mark>irus information</b>"
      ],
      "text/plain": [
       "<IPython.core.display.HTML object>"
      ]
     },
     "metadata": {},
     "output_type": "display_data"
    },
    {
     "name": "stdout",
     "output_type": "stream",
     "text": [
      "URL: https://www.reuters.com/article/us-health-coronavirus-emirates-media/uae-announces-5500-fine-for-spreading-unauthorised-coronavirus-information-idUSKBN2200LR?il=0 \n",
      "Published: 2020-04-18 13:16:16.000000 \n"
     ]
    },
    {
     "data": {
      "text/html": [
       "<p style=\"margin-left: 40px\"> -> (score: 1) it’s easier to fix <mark>misinfor</mark>mation, you can’t unroll censorship. </p><br>"
      ],
      "text/plain": [
       "<IPython.core.display.HTML object>"
      ]
     },
     "metadata": {},
     "output_type": "display_data"
    },
    {
     "name": "stdout",
     "output_type": "stream",
     "text": [
      "\n",
      "\n",
      "\n",
      "r/Coronavirus\n"
     ]
    },
    {
     "data": {
      "text/html": [
       "<b>what we can learn from the “second wave” of <mark>coronav</mark>irus cases in asia</b>"
      ],
      "text/plain": [
       "<IPython.core.display.HTML object>"
      ]
     },
     "metadata": {},
     "output_type": "display_data"
    },
    {
     "name": "stdout",
     "output_type": "stream",
     "text": [
      "URL: https://www.vox.com/2020/4/17/21213787/coronavirus-asia-waves-hong-kong-singapore-taiwan \n",
      "Published: 2020-04-18 13:02:58.000000 \n"
     ]
    },
    {
     "data": {
      "text/html": [
       "<p style=\"margin-left: 40px\"> -> (score: 15) vox is causing more <mark>disinfor</mark>mation than ccp, i truly have hard time figuring out why would anyone visit the site for information. anyone who wants to read about this, find a better site. </p><br>"
      ],
      "text/plain": [
       "<IPython.core.display.HTML object>"
      ]
     },
     "metadata": {},
     "output_type": "display_data"
    },
    {
     "name": "stdout",
     "output_type": "stream",
     "text": [
      "\n",
      "\n",
      "\n",
      "r/Coronavirus\n"
     ]
    },
    {
     "data": {
      "text/html": [
       "<b>video: violent attacks on black people whom the chinese suspect carry the <mark>coronav</mark>irus!</b>"
      ],
      "text/plain": [
       "<IPython.core.display.HTML object>"
      ]
     },
     "metadata": {},
     "output_type": "display_data"
    },
    {
     "name": "stdout",
     "output_type": "stream",
     "text": [
      "URL: https://conservativeus.com/video-violent-attacks-on-black-people-whom-the-chinese-suspect-carry-the-coronavirus/ \n",
      "Published: 2020-04-18 12:20:59.000000 \n"
     ]
    },
    {
     "data": {
      "text/html": [
       "<p style=\"margin-left: 40px\"> -> (score: 1) horrible video, <mark>fake news</mark> tho </p><br>"
      ],
      "text/plain": [
       "<IPython.core.display.HTML object>"
      ]
     },
     "metadata": {},
     "output_type": "display_data"
    },
    {
     "name": "stdout",
     "output_type": "stream",
     "text": [
      "\n",
      "\n",
      "\n",
      "r/politics\n"
     ]
    },
    {
     "data": {
      "text/html": [
       "<b>dr. phil and dr. oz aren’t <mark>coronav</mark>irus experts. so why are they talking about it on tv news?</b>"
      ],
      "text/plain": [
       "<IPython.core.display.HTML object>"
      ]
     },
     "metadata": {},
     "output_type": "display_data"
    },
    {
     "name": "stdout",
     "output_type": "stream",
     "text": [
      "URL: https://www.washingtonpost.com/lifestyle/media/dr-phil-and-dr-oz-arent-coronavirus-experts-so-why-are-they-talking-about-it-on-tv-news/2020/04/17/09c2c410-80bb-11ea-a3ee-13e1ae0a3571_story.html \n",
      "Published: 2020-04-18 12:13:32.000000 \n"
     ]
    },
    {
     "data": {
      "text/html": [
       "<p style=\"margin-left: 40px\"> -> (score: 1) let's not forget about dr. drew - pretty much every single celebrity \"doctor\" we have has put substantial effort into spreading <mark>disinfor</mark>mation about this disease.  if we survive this, we seriously need to make and enforce a \"no celebrity doctors\" rule. </p><br>"
      ],
      "text/plain": [
       "<IPython.core.display.HTML object>"
      ]
     },
     "metadata": {},
     "output_type": "display_data"
    },
    {
     "name": "stdout",
     "output_type": "stream",
     "text": [
      "\n",
      "\n",
      "\n",
      "r/worldnews\n"
     ]
    },
    {
     "data": {
      "text/html": [
       "<b>arsonists who believe 5g caused <mark>coronav</mark>irus have attacked 53 network towers across the uk</b>"
      ],
      "text/plain": [
       "<IPython.core.display.HTML object>"
      ]
     },
     "metadata": {},
     "output_type": "display_data"
    },
    {
     "name": "stdout",
     "output_type": "stream",
     "text": [
      "URL: https://www.thesun.co.uk/tech/11421457/ee-5g-towers-masts-5g-coronavirus-conspiracy-theory/ \n",
      "Published: 2020-04-18 12:05:43.000000 \n"
     ]
    },
    {
     "data": {
      "text/html": [
       "<p style=\"margin-left: 40px\"> -> (score: 1) was science education option for all these idiots? seriously. if you have a basic but solid awareness of how physics and biology work you’d already be innoculated against such <mark>misinfor</mark>mation. </p><br>"
      ],
      "text/plain": [
       "<IPython.core.display.HTML object>"
      ]
     },
     "metadata": {},
     "output_type": "display_data"
    },
    {
     "data": {
      "text/html": [
       "<p style=\"margin-left: 40px\"> -> (score: 1) is this an organic panic in the uk or somehow a new disturbing russian <mark>misinfor</mark>mation attack? </p><br>"
      ],
      "text/plain": [
       "<IPython.core.display.HTML object>"
      ]
     },
     "metadata": {},
     "output_type": "display_data"
    },
    {
     "name": "stdout",
     "output_type": "stream",
     "text": [
      "\n",
      "\n",
      "\n",
      "r/Coronavirus\n"
     ]
    },
    {
     "data": {
      "text/html": [
       "<b>as india tackles <mark>covid</mark>-19, a curious case of missing numbers emerges</b>"
      ],
      "text/plain": [
       "<IPython.core.display.HTML object>"
      ]
     },
     "metadata": {},
     "output_type": "display_data"
    },
    {
     "name": "stdout",
     "output_type": "stream",
     "text": [
      "URL: https://thewire.in/government/india-covid-testing-numbers \n",
      "Published: 2020-04-18 09:43:55.000000 \n"
     ]
    },
    {
     "data": {
      "text/html": [
       "<p style=\"margin-left: 40px\"> -> (score: 6) <mark>fake news</mark> channel </p><br>"
      ],
      "text/plain": [
       "<IPython.core.display.HTML object>"
      ]
     },
     "metadata": {},
     "output_type": "display_data"
    },
    {
     "name": "stdout",
     "output_type": "stream",
     "text": [
      "\n",
      "\n",
      "\n",
      "r/worldnews\n"
     ]
    },
    {
     "data": {
      "text/html": [
       "<b><mark>coronav</mark>irus: 'no evidence' that <mark>covid</mark>-19 survivors have immunity, who warns</b>"
      ],
      "text/plain": [
       "<IPython.core.display.HTML object>"
      ]
     },
     "metadata": {},
     "output_type": "display_data"
    },
    {
     "name": "stdout",
     "output_type": "stream",
     "text": [
      "URL: https://news.sky.com/story/coronavirus-no-evidence-that-covid-19-survivors-have-immunity-who-warns-11975011 \n",
      "Published: 2020-04-18 08:26:01.000000 \n"
     ]
    },
    {
     "data": {
      "text/html": [
       "<p style=\"margin-left: 40px\"> -> (score: 1) highly <mark>misleading</mark> news headline </p><br>"
      ],
      "text/plain": [
       "<IPython.core.display.HTML object>"
      ]
     },
     "metadata": {},
     "output_type": "display_data"
    },
    {
     "name": "stdout",
     "output_type": "stream",
     "text": [
      "\n",
      "\n",
      "\n",
      "r/Coronavirus\n"
     ]
    },
    {
     "data": {
      "text/html": [
       "<b>[spanish] spanish government hides +10.000 deceased, highly probable <mark>coronav</mark>irus cases, from official statistics</b>"
      ],
      "text/plain": [
       "<IPython.core.display.HTML object>"
      ]
     },
     "metadata": {},
     "output_type": "display_data"
    },
    {
     "name": "stdout",
     "output_type": "stream",
     "text": [
      "URL: https://www.elespanol.com/reportajes/20200417/muertos-no-contabilizados-quedan-aflorar-espana-comunidades/482953155_0.html \n",
      "Published: 2020-04-18 08:14:21.000000 \n"
     ]
    },
    {
     "data": {
      "text/html": [
       "<p style=\"margin-left: 40px\"> -> (score: 12) what a <mark>misleading</mark> title.  nothing is being hidden, it's been widely reported. </p><br>"
      ],
      "text/plain": [
       "<IPython.core.display.HTML object>"
      ]
     },
     "metadata": {},
     "output_type": "display_data"
    },
    {
     "name": "stdout",
     "output_type": "stream",
     "text": [
      "\n",
      "\n",
      "\n",
      "r/Coronavirus\n"
     ]
    },
    {
     "data": {
      "text/html": [
       "<b>france contradicts us on <mark>coronav</mark>irus link to wuhan research lab</b>"
      ],
      "text/plain": [
       "<IPython.core.display.HTML object>"
      ]
     },
     "metadata": {},
     "output_type": "display_data"
    },
    {
     "name": "stdout",
     "output_type": "stream",
     "text": [
      "URL: https://www.smh.com.au/world/europe/france-contradicts-us-on-coronavirus-link-to-wuhan-research-lab-20200418-p54kzk.html \n",
      "Published: 2020-04-18 07:01:30.000000 \n"
     ]
    },
    {
     "data": {
      "text/html": [
       "<p style=\"margin-left: 40px\"> -> (score: 9) we all know the whole “started in a lab” story is <mark>fake news</mark>.  trump started it to distract people from his failures handling the pandemic.  he has employed this strategy since day one of his term, we know better. </p><br>"
      ],
      "text/plain": [
       "<IPython.core.display.HTML object>"
      ]
     },
     "metadata": {},
     "output_type": "display_data"
    },
    {
     "name": "stdout",
     "output_type": "stream",
     "text": [
      "\n",
      "\n",
      "\n",
      "r/politics\n"
     ]
    },
    {
     "data": {
      "text/html": [
       "<b>in twitter showdown, trump calls to ‘liberate’ states with <mark>covid</mark>-19 stay-home orders</b>"
      ],
      "text/plain": [
       "<IPython.core.display.HTML object>"
      ]
     },
     "metadata": {},
     "output_type": "display_data"
    },
    {
     "name": "stdout",
     "output_type": "stream",
     "text": [
      "URL: https://www.france24.com/en/20200418-in-twitter-showdown-trump-calls-to-liberate-states-with-covid-19-stay-home-orders \n",
      "Published: 2020-04-18 06:30:31.000000 \n"
     ]
    },
    {
     "data": {
      "text/html": [
       "<p style=\"margin-left: 40px\"> -> (score: 1) the protests may be an expression of russian social media manipulation as warned about here: https://euvsdisinfo.eu/eeas-special-report-<mark>disinfor</mark>mation-on-the-coronavirus-short-assessment-of-the-information-environment/ </p><br>"
      ],
      "text/plain": [
       "<IPython.core.display.HTML object>"
      ]
     },
     "metadata": {},
     "output_type": "display_data"
    },
    {
     "name": "stdout",
     "output_type": "stream",
     "text": [
      "\n",
      "\n",
      "\n",
      "r/politics\n"
     ]
    },
    {
     "data": {
      "text/html": [
       "<b>governments incur fury by banning safe activities during <mark>coronav</mark>irus lockdown</b>"
      ],
      "text/plain": [
       "<IPython.core.display.HTML object>"
      ]
     },
     "metadata": {},
     "output_type": "display_data"
    },
    {
     "name": "stdout",
     "output_type": "stream",
     "text": [
      "URL: https://www.washingtonexaminer.com/opinion/governments-incur-fury-by-banning-safe-activities-during-coronavirus-lockdown \n",
      "Published: 2020-04-18 06:08:20.000000 \n"
     ]
    },
    {
     "data": {
      "text/html": [
       "<p style=\"margin-left: 40px\"> -> (score: 1) if anyone doesn't know the washington examiner a few years old des9gbed by choice to confuse people into thinking it is a legitimate, longstanding, broadsheet newspaper.\n",
       "\n",
       "they wanted to make it look like the washington post so they could confuse people with their <mark>fake news</mark> in 2015. </p><br>"
      ],
      "text/plain": [
       "<IPython.core.display.HTML object>"
      ]
     },
     "metadata": {},
     "output_type": "display_data"
    },
    {
     "name": "stdout",
     "output_type": "stream",
     "text": [
      "\n",
      "\n",
      "\n",
      "r/Coronavirus\n"
     ]
    },
    {
     "data": {
      "text/html": [
       "<b>cnn : \"<mark>covid</mark>-19 likely to have originated from united states\" - who declares</b>"
      ],
      "text/plain": [
       "<IPython.core.display.HTML object>"
      ]
     },
     "metadata": {},
     "output_type": "display_data"
    },
    {
     "name": "stdout",
     "output_type": "stream",
     "text": [
      "URL: https://www.cnn.com/2020/04/17/us/jacksonville-florida-beach-reopen/index.html?super \n",
      "Published: 2020-04-18 05:30:16.000000 \n"
     ]
    },
    {
     "data": {
      "text/html": [
       "<p style=\"margin-left: 40px\"> -> (score: 3) this article is about florida and their beach situation- not about who saying anything about the origin of covid-19. this is a horrifically <mark>misleading</mark> post title my dude </p><br>"
      ],
      "text/plain": [
       "<IPython.core.display.HTML object>"
      ]
     },
     "metadata": {},
     "output_type": "display_data"
    },
    {
     "name": "stdout",
     "output_type": "stream",
     "text": [
      "\n",
      "\n",
      "\n",
      "r/worldnews\n"
     ]
    },
    {
     "data": {
      "text/html": [
       "<b>close to a hundred convicted criminals have been released from norway's prisons to reduce crowding and help prison authorities reduce the spread of <mark>coronav</mark>irus, according to the norwegian correctional service.</b>"
      ],
      "text/plain": [
       "<IPython.core.display.HTML object>"
      ]
     },
     "metadata": {},
     "output_type": "display_data"
    },
    {
     "name": "stdout",
     "output_type": "stream",
     "text": [
      "URL: https://www.thelocal.no/20200417/norway-is-letting-prison-inmates-serve-their-sentences-at-home \n",
      "Published: 2020-04-18 04:46:16.000000 \n"
     ]
    },
    {
     "data": {
      "text/html": [
       "<p style=\"margin-left: 40px\"> -> (score: 1) title is <mark>misleading</mark>. i applaud this movement. </p><br>"
      ],
      "text/plain": [
       "<IPython.core.display.HTML object>"
      ]
     },
     "metadata": {},
     "output_type": "display_data"
    },
    {
     "name": "stdout",
     "output_type": "stream",
     "text": [
      "\n",
      "\n",
      "\n",
      "r/Coronavirus\n"
     ]
    },
    {
     "data": {
      "text/html": [
       "<b>workplaces after <mark>coronav</mark>irus: fewer meetings, no handshakes, more masks and not coming in when ill</b>"
      ],
      "text/plain": [
       "<IPython.core.display.HTML object>"
      ]
     },
     "metadata": {},
     "output_type": "display_data"
    },
    {
     "name": "stdout",
     "output_type": "stream",
     "text": [
      "URL: https://www.scmp.com/lifestyle/health-wellness/article/3080206/workplaces-after-coronavirus-fewer-meetings-no-handshakes \n",
      "Published: 2020-04-18 04:06:26.000000 \n"
     ]
    },
    {
     "data": {
      "text/html": [
       "<p style=\"margin-left: 40px\"> -> (score: 4) i’m hoping the open office design dies of corona virus. bring back the cubicles if <mark>not the real</mark> offices. </p><br>"
      ],
      "text/plain": [
       "<IPython.core.display.HTML object>"
      ]
     },
     "metadata": {},
     "output_type": "display_data"
    },
    {
     "name": "stdout",
     "output_type": "stream",
     "text": [
      "\n",
      "\n",
      "\n",
      "r/worldnews\n"
     ]
    },
    {
     "data": {
      "text/html": [
       "<b>researchers discover new <mark>coronav</mark>irus symptoms: feet lesions</b>"
      ],
      "text/plain": [
       "<IPython.core.display.HTML object>"
      ]
     },
     "metadata": {},
     "output_type": "display_data"
    },
    {
     "name": "stdout",
     "output_type": "stream",
     "text": [
      "URL: https://www.foxnews.com/science/researchers-discover-new-coronavirus-symptoms-feet-lesions \n",
      "Published: 2020-04-18 03:37:31.000000 \n"
     ]
    },
    {
     "data": {
      "text/html": [
       "<p style=\"margin-left: 40px\"> -> (score: 0) “researchers in spain believe...” \n",
       "\n",
       "not confirmed. definition of a <mark>misleading</mark> title. </p><br>"
      ],
      "text/plain": [
       "<IPython.core.display.HTML object>"
      ]
     },
     "metadata": {},
     "output_type": "display_data"
    },
    {
     "name": "stdout",
     "output_type": "stream",
     "text": [
      "\n",
      "\n",
      "\n",
      "r/worldpolitics\n"
     ]
    },
    {
     "data": {
      "text/html": [
       "<b>is it just me or does it seem the further right-wing a countries government is the worse their response to <mark>coronav</mark>irus is?</b>"
      ],
      "text/plain": [
       "<IPython.core.display.HTML object>"
      ]
     },
     "metadata": {},
     "output_type": "display_data"
    },
    {
     "name": "stdout",
     "output_type": "stream",
     "text": [
      "URL: https://www.reddit.com/r/worldpolitics/comments/g3g0z0/is_it_just_me_or_does_it_seem_the_further/ \n",
      "Published: 2020-04-18 02:40:11.000000 \n"
     ]
    },
    {
     "data": {
      "text/html": [
       "<p style=\"margin-left: 40px\"> -> (score: 3) i live in the united states. our right wing administration has totally dropped the ball. not only has our president spread <mark>misinfor</mark>mation but he is now urging his base to protest social distancing guidelines. its embarrassing as an american. </p><br>"
      ],
      "text/plain": [
       "<IPython.core.display.HTML object>"
      ]
     },
     "metadata": {},
     "output_type": "display_data"
    },
    {
     "name": "stdout",
     "output_type": "stream",
     "text": [
      "\n",
      "\n",
      "\n",
      "r/worldnews\n"
     ]
    },
    {
     "data": {
      "text/html": [
       "<b>china denies cover-up as wuhan <mark>coronav</mark>irus deaths revised up 50% | world news</b>"
      ],
      "text/plain": [
       "<IPython.core.display.HTML object>"
      ]
     },
     "metadata": {},
     "output_type": "display_data"
    },
    {
     "name": "stdout",
     "output_type": "stream",
     "text": [
      "URL: https://www.theguardian.com/world/2020/apr/17/china-denies-cover-up-as-wuhan-coronavirus-deaths-revised-up-50 \n",
      "Published: 2020-04-18 02:32:18.000000 \n"
     ]
    },
    {
     "data": {
      "text/html": [
       "<p style=\"margin-left: 40px\"> -> (score: 1) nobody believe you and your state controlled <mark>disinfor</mark>mation campaign china. </p><br>"
      ],
      "text/plain": [
       "<IPython.core.display.HTML object>"
      ]
     },
     "metadata": {},
     "output_type": "display_data"
    },
    {
     "name": "stdout",
     "output_type": "stream",
     "text": [
      "\n",
      "\n",
      "\n",
      "r/Coronavirus\n"
     ]
    },
    {
     "data": {
      "text/html": [
       "<b>texas judge rules all registered voters can vote by mail if they fear catching <mark>coronav</mark>irus</b>"
      ],
      "text/plain": [
       "<IPython.core.display.HTML object>"
      ]
     },
     "metadata": {},
     "output_type": "display_data"
    },
    {
     "name": "stdout",
     "output_type": "stream",
     "text": [
      "URL: https://www.cnn.com/2020/04/17/politics/texas-voting-by-mail-disability-coronavirus/index.html \n",
      "Published: 2020-04-18 01:10:20.000000 \n"
     ]
    },
    {
     "data": {
      "text/html": [
       "<p style=\"margin-left: 40px\"> -> (score: 54) a nation which says that in order to vote you must risk your health is <mark>not a true</mark> democracy in any fucking sense of the word. </p><br>"
      ],
      "text/plain": [
       "<IPython.core.display.HTML object>"
      ]
     },
     "metadata": {},
     "output_type": "display_data"
    },
    {
     "name": "stdout",
     "output_type": "stream",
     "text": [
      "\n",
      "\n",
      "\n",
      "r/worldnews\n"
     ]
    },
    {
     "data": {
      "text/html": [
       "<b>former british spy chief says china and who bear responsibility for flawed <mark>coronav</mark>irus response</b>"
      ],
      "text/plain": [
       "<IPython.core.display.HTML object>"
      ]
     },
     "metadata": {},
     "output_type": "display_data"
    },
    {
     "name": "stdout",
     "output_type": "stream",
     "text": [
      "URL: https://www.washingtonexaminer.com/news/former-british-spy-chief-says-china-and-who-bear-responsibility-for-flawed-coronavirus-response \n",
      "Published: 2020-04-18 00:36:42.000000 \n"
     ]
    },
    {
     "data": {
      "text/html": [
       "<p style=\"margin-left: 40px\"> -> (score: 0) <mark>unreliable source</mark>. </p><br>"
      ],
      "text/plain": [
       "<IPython.core.display.HTML object>"
      ]
     },
     "metadata": {},
     "output_type": "display_data"
    },
    {
     "name": "stdout",
     "output_type": "stream",
     "text": [
      "\n",
      "\n",
      "\n",
      "r/Coronavirus\n"
     ]
    },
    {
     "data": {
      "text/html": [
       "<b>us intel on threat of <mark>coronav</mark>irus shared with israel and nato in november: report</b>"
      ],
      "text/plain": [
       "<IPython.core.display.HTML object>"
      ]
     },
     "metadata": {},
     "output_type": "display_data"
    },
    {
     "name": "stdout",
     "output_type": "stream",
     "text": [
      "URL: https://www.salon.com/2020/04/17/us-intel-on-threat-of-coronavirus-shared-with-israel-and-nato-in-november-report_partner/ \n",
      "Published: 2020-04-18 00:16:44.000000 \n"
     ]
    },
    {
     "data": {
      "text/html": [
       "<p style=\"margin-left: 40px\"> -> (score: 11) the sad part is that there’s no accountability with this trash. the best bet we have is to vote these scumbags out in november and then try to put the pieces together. trump, barr and the whole bag of dicks will just deny and say it’s <mark>fake news</mark> to no end.\n",
       "\n",
       "is anyone really surprised? </p><br>"
      ],
      "text/plain": [
       "<IPython.core.display.HTML object>"
      ]
     },
     "metadata": {},
     "output_type": "display_data"
    },
    {
     "name": "stdout",
     "output_type": "stream",
     "text": [
      "\n",
      "\n",
      "\n",
      "r/politics\n"
     ]
    },
    {
     "data": {
      "text/html": [
       "<b>it’s time for oprah to renounce dr. phil and dr. oz over their dangerous <mark>coronav</mark>irus propaganda</b>"
      ],
      "text/plain": [
       "<IPython.core.display.HTML object>"
      ]
     },
     "metadata": {},
     "output_type": "display_data"
    },
    {
     "name": "stdout",
     "output_type": "stream",
     "text": [
      "URL: https://www.thedailybeast.com/its-time-for-oprah-to-renounce-dr-phil-and-dr-oz-over-their-dangerous-coronavirus-propoganda?ref=home \n",
      "Published: 2020-04-17 23:47:48.000000 \n"
     ]
    },
    {
     "data": {
      "text/html": [
       "<p style=\"margin-left: 40px\"> -> (score: 1) actually. i think it’s time she claims them and accepts accountability for the <mark>disinfor</mark>mation and harm they’ve caused. </p><br>"
      ],
      "text/plain": [
       "<IPython.core.display.HTML object>"
      ]
     },
     "metadata": {},
     "output_type": "display_data"
    },
    {
     "name": "stdout",
     "output_type": "stream",
     "text": [
      "\n",
      "\n",
      "\n",
      "r/Coronavirus\n"
     ]
    },
    {
     "data": {
      "text/html": [
       "<b>test and trace: lessons from hong kong on avoiding a <mark>coronav</mark>irus lockdown</b>"
      ],
      "text/plain": [
       "<IPython.core.display.HTML object>"
      ]
     },
     "metadata": {},
     "output_type": "display_data"
    },
    {
     "name": "stdout",
     "output_type": "stream",
     "text": [
      "URL: https://www.theguardian.com/world/2020/apr/17/test-trace-lessons-hong-kong-avoiding-coronavirus-lockdown \n",
      "Published: 2020-04-17 23:05:18.000000 \n"
     ]
    },
    {
     "data": {
      "text/html": [
       "<p style=\"margin-left: 40px\"> -> (score: 1) 'semi-autonomous city followed who advice and moved swiftly to stem contagion without rigid curbs on movement'\n",
       "\n",
       "'followed who advice'\n",
       "\n",
       "<mark>fake news</mark>\n",
       "\n",
       "next </p><br>"
      ],
      "text/plain": [
       "<IPython.core.display.HTML object>"
      ]
     },
     "metadata": {},
     "output_type": "display_data"
    },
    {
     "name": "stdout",
     "output_type": "stream",
     "text": [
      "\n",
      "\n",
      "\n",
      "r/politics\n"
     ]
    },
    {
     "data": {
      "text/html": [
       "<b>disease experts calls dr. phil's <mark>coronav</mark>irus advice to the public 'catastrophic'</b>"
      ],
      "text/plain": [
       "<IPython.core.display.HTML object>"
      ]
     },
     "metadata": {},
     "output_type": "display_data"
    },
    {
     "name": "stdout",
     "output_type": "stream",
     "text": [
      "URL: https://www.huffpost.com/entry/dr-phil-doctor-coronavirus-fox-news_n_5e99c0f3c5b63639081da3f0 \n",
      "Published: 2020-04-17 22:28:56.000000 \n"
     ]
    },
    {
     "data": {
      "text/html": [
       "<p style=\"margin-left: 40px\"> -> (score: 1) he's <mark>not a real</mark> doctor, just plays one on tv. iirc he lost his license to practice in texas. </p><br>"
      ],
      "text/plain": [
       "<IPython.core.display.HTML object>"
      ]
     },
     "metadata": {},
     "output_type": "display_data"
    },
    {
     "name": "stdout",
     "output_type": "stream",
     "text": [
      "\n",
      "\n",
      "\n",
      "r/Coronavirus\n"
     ]
    },
    {
     "data": {
      "text/html": [
       "<b>no evidence antibody tests can show <mark>coronav</mark>irus immunity, warns who</b>"
      ],
      "text/plain": [
       "<IPython.core.display.HTML object>"
      ]
     },
     "metadata": {},
     "output_type": "display_data"
    },
    {
     "name": "stdout",
     "output_type": "stream",
     "text": [
      "URL: https://mazainside.com/antibody-tests-can-show-coronavirus-immunity/ \n",
      "Published: 2020-04-17 22:13:11.000000 \n"
     ]
    },
    {
     "data": {
      "text/html": [
       "<p style=\"margin-left: 40px\"> -> (score: 3) the absence of evidence is not evidence that something is <mark>not true</mark>.  it is too early to tell.  the who needs to shut up and stop putting out <mark>misleading</mark> statements.  the best was when they said they recommend masks...then the next day they said masks don't help.  the who..or cho...needs to keep quiet.  we have enough to deal with. </p><br>"
      ],
      "text/plain": [
       "<IPython.core.display.HTML object>"
      ]
     },
     "metadata": {},
     "output_type": "display_data"
    },
    {
     "name": "stdout",
     "output_type": "stream",
     "text": [
      "\n",
      "\n",
      "\n",
      "r/Coronavirus\n"
     ]
    },
    {
     "data": {
      "text/html": [
       "<b>dr. phil mcgraw says he “probably used bad examples” in comments about <mark>coronav</mark>irus “fallout”</b>"
      ],
      "text/plain": [
       "<IPython.core.display.HTML object>"
      ]
     },
     "metadata": {},
     "output_type": "display_data"
    },
    {
     "name": "stdout",
     "output_type": "stream",
     "text": [
      "URL: https://deadline.com/2020/04/coronavirus-dr-phil-1202911339/ \n",
      "Published: 2020-04-17 22:13:34.000000 \n"
     ]
    },
    {
     "data": {
      "text/html": [
       "<p style=\"margin-left: 40px\"> -> (score: 3) this is a fact: anyone with a doctorate is a doctor. period. no other so-called opinions are valid, they’re just woefully <mark>misinfor</mark>med.\n",
       "\n",
       "this is also a fact: dr. phil is a douche and his advice sucks. not all doctors, even the vaunted medical doctors, are very smart. </p><br>"
      ],
      "text/plain": [
       "<IPython.core.display.HTML object>"
      ]
     },
     "metadata": {},
     "output_type": "display_data"
    },
    {
     "name": "stdout",
     "output_type": "stream",
     "text": [
      "\n",
      "\n",
      "\n",
      "r/politics\n"
     ]
    },
    {
     "data": {
      "text/html": [
       "<b>discussion thread: white house <mark>coronav</mark>irus task force briefing – 04/17/2020 | live - 6:00pm edt</b>"
      ],
      "text/plain": [
       "<IPython.core.display.HTML object>"
      ]
     },
     "metadata": {},
     "output_type": "display_data"
    },
    {
     "name": "stdout",
     "output_type": "stream",
     "text": [
      "URL: https://www.reddit.com/r/politics/comments/g3b83n/discussion_thread_white_house_coronavirus_task/ \n",
      "Published: 2020-04-17 21:45:06.000000 \n"
     ]
    },
    {
     "data": {
      "text/html": [
       "<p style=\"margin-left: 40px\"> -> (score: 1) this isn't per capita. this information is very <mark>misleading</mark>. </p><br>"
      ],
      "text/plain": [
       "<IPython.core.display.HTML object>"
      ]
     },
     "metadata": {},
     "output_type": "display_data"
    },
    {
     "data": {
      "text/html": [
       "<p style=\"margin-left: 40px\"> -> (score: 1) oh man she is intentionally <mark>misleading</mark>. this isn't tests being done per capita per state... it is \"testing *capability* maybe *someday* in the future.\"\n",
       "\n",
       "but the map is labeled *without* any of that qualifying information. it just says \"tests per person per state\"! \n",
       "\n",
       "!!!  what the fuck! she is lying to us! </p><br>"
      ],
      "text/plain": [
       "<IPython.core.display.HTML object>"
      ]
     },
     "metadata": {},
     "output_type": "display_data"
    },
    {
     "name": "stdout",
     "output_type": "stream",
     "text": [
      "\n",
      "\n",
      "\n",
      "r/Coronavirus\n"
     ]
    },
    {
     "data": {
      "text/html": [
       "<b><mark>coronav</mark>irus antibody testing finds bay area infections may be 85 times higher than reported</b>"
      ],
      "text/plain": [
       "<IPython.core.display.HTML object>"
      ]
     },
     "metadata": {},
     "output_type": "display_data"
    },
    {
     "name": "stdout",
     "output_type": "stream",
     "text": [
      "URL: https://www.foxnews.com/health/coronavirus-antibody-testing-finds-bay-area-infections-85-times-higher-reported-researchers \n",
      "Published: 2020-04-17 21:52:37.000000 \n"
     ]
    },
    {
     "data": {
      "text/html": [
       "<p style=\"margin-left: 40px\"> -> (score: 12) slightly <mark>misleading</mark> title. they are basing this off the santa clara data. that study alone has its own flaws due to how it collected its participants. </p><br>"
      ],
      "text/plain": [
       "<IPython.core.display.HTML object>"
      ]
     },
     "metadata": {},
     "output_type": "display_data"
    },
    {
     "name": "stdout",
     "output_type": "stream",
     "text": [
      "\n",
      "\n",
      "\n",
      "r/Coronavirus\n"
     ]
    },
    {
     "data": {
      "text/html": [
       "<b>the initial results from california's <mark>coronav</mark>irus antibody tests are in | \"our findings suggest that there is somewhere between 50- and 80-fold more infections in our county than what's known by the number of cases than are reported by our department of public health,\"</b>"
      ],
      "text/plain": [
       "<IPython.core.display.HTML object>"
      ]
     },
     "metadata": {},
     "output_type": "display_data"
    },
    {
     "name": "stdout",
     "output_type": "stream",
     "text": [
      "URL: https://thehill.com/changing-america/well-being/prevention-cures/493406-the-initial-results-from-californias-coronavirus \n",
      "Published: 2020-04-17 21:41:43.000000 \n"
     ]
    },
    {
     "data": {
      "text/html": [
       "<p style=\"margin-left: 40px\"> -> (score: 1) did this study specifically test for antibodies produced by covid? or was this a general antibodies test? might be <mark>misleading</mark> if this this was a general test and someone had the flu. </p><br>"
      ],
      "text/plain": [
       "<IPython.core.display.HTML object>"
      ]
     },
     "metadata": {},
     "output_type": "display_data"
    },
    {
     "name": "stdout",
     "output_type": "stream",
     "text": [
      "\n",
      "\n",
      "\n",
      "r/Coronavirus\n"
     ]
    },
    {
     "data": {
      "text/html": [
       "<b>indiana reports highest single-day <mark>covid</mark>-19 case increase</b>"
      ],
      "text/plain": [
       "<IPython.core.display.HTML object>"
      ]
     },
     "metadata": {},
     "output_type": "display_data"
    },
    {
     "name": "stdout",
     "output_type": "stream",
     "text": [
      "URL: https://www.wdrb.com/in-depth/indiana-reports-highest-single-day-covid-19-case-increase/article_e7d45a60-7ff4-11ea-874a-776f89b03245.html?utm_medium=social&utm_source=facebook&utm_campaign=user-share \n",
      "Published: 2020-04-17 21:22:56.000000 \n"
     ]
    },
    {
     "data": {
      "text/html": [
       "<p style=\"margin-left: 40px\"> -> (score: -12) say highest for indiana, it’s the highest they have reached not “highest single day covid case increase”\n",
       "\n",
       "such a <mark>misleading</mark> title, nyc has more covid deaths a day than that infected increase\n",
       "\n",
       "edit: it’s english guys, where you put the subject matters. </p><br>"
      ],
      "text/plain": [
       "<IPython.core.display.HTML object>"
      ]
     },
     "metadata": {},
     "output_type": "display_data"
    },
    {
     "name": "stdout",
     "output_type": "stream",
     "text": [
      "\n",
      "\n",
      "\n",
      "r/Coronavirus\n"
     ]
    },
    {
     "data": {
      "text/html": [
       "<b>lakers legend magic johnson sees similarities between <mark>coronav</mark>irus, aids crises</b>"
      ],
      "text/plain": [
       "<IPython.core.display.HTML object>"
      ]
     },
     "metadata": {},
     "output_type": "display_data"
    },
    {
     "name": "stdout",
     "output_type": "stream",
     "text": [
      "URL: https://bleacherreport.com/articles/2886825-lakers-legend-magic-johnson-sees-similarities-between-coronavirus-aids-crises \n",
      "Published: 2020-04-17 20:45:53.000000 \n"
     ]
    },
    {
     "data": {
      "text/html": [
       "<p style=\"margin-left: 40px\"> -> (score: 1) i think he was specifically referring to the <mark>misinfor</mark>mation, misperceptions...not to the diseases themselves.   otherwise this is very different.  i do tell people that if you are not wearing a mask, you are having respiratory sex with other people.  you have no idea who they have been around! </p><br>"
      ],
      "text/plain": [
       "<IPython.core.display.HTML object>"
      ]
     },
     "metadata": {},
     "output_type": "display_data"
    },
    {
     "name": "stdout",
     "output_type": "stream",
     "text": [
      "\n",
      "\n",
      "\n",
      "r/Coronavirus\n"
     ]
    },
    {
     "data": {
      "text/html": [
       "<b>bbc correction on burberry <mark>coronav</mark>irus plea</b>"
      ],
      "text/plain": [
       "<IPython.core.display.HTML object>"
      ]
     },
     "metadata": {},
     "output_type": "display_data"
    },
    {
     "name": "stdout",
     "output_type": "stream",
     "text": [
      "URL: https://www.bbc.co.uk/news/business-52333540 \n",
      "Published: 2020-04-17 20:39:05.000000 \n"
     ]
    },
    {
     "data": {
      "text/html": [
       "<p style=\"margin-left: 40px\"> -> (score: 3) wonder how long it will take for people to start calling the bbc <mark>fake news</mark> because they had to correct themselves </p><br>"
      ],
      "text/plain": [
       "<IPython.core.display.HTML object>"
      ]
     },
     "metadata": {},
     "output_type": "display_data"
    },
    {
     "name": "stdout",
     "output_type": "stream",
     "text": [
      "\n",
      "\n",
      "\n",
      "r/politics\n"
     ]
    },
    {
     "data": {
      "text/html": [
       "<b>senate democrats 'livid' after pence refuses to push for more <mark>coronav</mark>irus testing</b>"
      ],
      "text/plain": [
       "<IPython.core.display.HTML object>"
      ]
     },
     "metadata": {},
     "output_type": "display_data"
    },
    {
     "name": "stdout",
     "output_type": "stream",
     "text": [
      "URL: https://theweek.com/speedreads/909509/senate-democrats-livid-after-pence-refuses-push-more-coronavirus-testing \n",
      "Published: 2020-04-17 19:54:29.000000 \n"
     ]
    },
    {
     "data": {
      "text/html": [
       "<p style=\"margin-left: 40px\"> -> (score: 1) don't ask a question a question in court if you know the answer won't benefit your case.\n",
       "\n",
       "don't run more testing to reveal more cases and undercut their <mark>falsehoods</mark>. </p><br>"
      ],
      "text/plain": [
       "<IPython.core.display.HTML object>"
      ]
     },
     "metadata": {},
     "output_type": "display_data"
    },
    {
     "name": "stdout",
     "output_type": "stream",
     "text": [
      "\n",
      "\n",
      "\n",
      "r/Coronavirus\n"
     ]
    },
    {
     "data": {
      "text/html": [
       "<b>florida to open beaches tonight despite rising <mark>coronav</mark>irus infection rates</b>"
      ],
      "text/plain": [
       "<IPython.core.display.HTML object>"
      ]
     },
     "metadata": {},
     "output_type": "display_data"
    },
    {
     "name": "stdout",
     "output_type": "stream",
     "text": [
      "URL: https://www.independent.co.uk/news/world/americas/coronavirus-florida-beaches-open-trump-covid-19-a9471491.html \n",
      "Published: 2020-04-17 19:50:55.000000 \n"
     ]
    },
    {
     "data": {
      "text/html": [
       "<p style=\"margin-left: 40px\"> -> (score: 1) this title is so <mark>misleading</mark>. it’s just jacksonville. </p><br>"
      ],
      "text/plain": [
       "<IPython.core.display.HTML object>"
      ]
     },
     "metadata": {},
     "output_type": "display_data"
    },
    {
     "name": "stdout",
     "output_type": "stream",
     "text": [
      "\n",
      "\n",
      "\n",
      "r/Coronavirus\n"
     ]
    },
    {
     "data": {
      "text/html": [
       "<b>italy's <mark>coronav</mark>irus deaths edge higher, new lockdown approach urged</b>"
      ],
      "text/plain": [
       "<IPython.core.display.HTML object>"
      ]
     },
     "metadata": {},
     "output_type": "display_data"
    },
    {
     "name": "stdout",
     "output_type": "stream",
     "text": [
      "URL: https://www.reuters.com/article/us-health-coronavirus-italy-tally/italys-coronavirus-deaths-edge-higher-new-lockdown-approach-urged-idUSKBN21Z2OD?feedType=RSS&feedName=worldNews&utm_source=feedburner&utm_medium=feed&utm_campaign=Feed%3A+Reuters%2FworldNews+%28Reuters+World+News%29 \n",
      "Published: 2020-04-17 19:33:20.000000 \n"
     ]
    },
    {
     "data": {
      "text/html": [
       "<p style=\"margin-left: 40px\"> -> (score: 29) the title of the article is <mark>misleading</mark>. my takeaway from the article is that new infections are down and that is why they are considering opening things up further. </p><br>"
      ],
      "text/plain": [
       "<IPython.core.display.HTML object>"
      ]
     },
     "metadata": {},
     "output_type": "display_data"
    },
    {
     "name": "stdout",
     "output_type": "stream",
     "text": [
      "\n",
      "\n",
      "\n",
      "r/Coronavirus\n"
     ]
    },
    {
     "data": {
      "text/html": [
       "<b>why is anyone still asking dr. phil for his opinion? | he thinks 360,000 people die per year in swimming pools. don’t listen to his advice on <mark>covid</mark>-19</b>"
      ],
      "text/plain": [
       "<IPython.core.display.HTML object>"
      ]
     },
     "metadata": {},
     "output_type": "display_data"
    },
    {
     "name": "stdout",
     "output_type": "stream",
     "text": [
      "URL: https://www.rollingstone.com/culture/culture-news/dr-phil-fox-news-laura-ingraham-coronavirus-covid19-985953/ \n",
      "Published: 2020-04-17 19:15:48.000000 \n"
     ]
    },
    {
     "data": {
      "text/html": [
       "<p style=\"margin-left: 40px\"> -> (score: -3) wow the hive mind is strong on this one just looking at the comments.  total <mark>fake news</mark> headline.  320,000 people die from drowning and you can easily find that with a quick google search.\n",
       "\n",
       "&#x200b;\n",
       "\n",
       "you might have your own opinions on doctor phil but op is <mark>fake news</mark> trash poster.\n",
       "\n",
       "looks like dr phil did more research than op....\n",
       "\n",
       "&#x200b;\n",
       "\n",
       "[https://www.who.int/news-room/fact-sheets/detail/drowning](https://www.who.int/news-room/fact-sheets/detail/drowning) </p><br>"
      ],
      "text/plain": [
       "<IPython.core.display.HTML object>"
      ]
     },
     "metadata": {},
     "output_type": "display_data"
    },
    {
     "data": {
      "text/html": [
       "<p style=\"margin-left: 40px\"> -> (score: 1) celebrity doctors are one of the greatest threats to the american population, they make more <mark>misinfor</mark>mation for profit than proper help. </p><br>"
      ],
      "text/plain": [
       "<IPython.core.display.HTML object>"
      ]
     },
     "metadata": {},
     "output_type": "display_data"
    },
    {
     "name": "stdout",
     "output_type": "stream",
     "text": [
      "\n",
      "\n",
      "\n",
      "r/worldnews\n"
     ]
    },
    {
     "data": {
      "text/html": [
       "<b>a video in the new england journal of medicine shows that simply talking can release droplets big enough to spread the <mark>coronav</mark>irus. wearing a mask significantly halts release of those droplets.</b>"
      ],
      "text/plain": [
       "<IPython.core.display.HTML object>"
      ]
     },
     "metadata": {},
     "output_type": "display_data"
    },
    {
     "name": "stdout",
     "output_type": "stream",
     "text": [
      "URL: https://www.inverse.com/mind-body/video-shows-how-far-droplets-spray \n",
      "Published: 2020-04-17 18:17:15.000000 \n"
     ]
    },
    {
     "data": {
      "text/html": [
       "<p style=\"margin-left: 40px\"> -> (score: 1) everyone in asia magically knew this, it's almost as if some people high up were spreading <mark>misinfor</mark>mation. </p><br>"
      ],
      "text/plain": [
       "<IPython.core.display.HTML object>"
      ]
     },
     "metadata": {},
     "output_type": "display_data"
    },
    {
     "name": "stdout",
     "output_type": "stream",
     "text": [
      "\n",
      "\n",
      "\n",
      "r/worldpolitics\n"
     ]
    },
    {
     "data": {
      "text/html": [
       "<b>italy: depite the ports being closed due to <mark>covid</mark>-19, illegal alien muslim invaders are managing to get through</b>"
      ],
      "text/plain": [
       "<IPython.core.display.HTML object>"
      ]
     },
     "metadata": {},
     "output_type": "display_data"
    },
    {
     "name": "stdout",
     "output_type": "stream",
     "text": [
      "URL: https://barenakedislam.com/2020/04/17/italy-depite-the-ports-being-closed-due-to-covid-19-illegal-alien-muslim-invaders-are-managing-to-get-through/ \n",
      "Published: 2020-04-17 18:03:45.000000 \n"
     ]
    },
    {
     "data": {
      "text/html": [
       "<p style=\"margin-left: 40px\"> -> (score: 2) overall, we rate bare naked islam a questionable source based on extreme right wing bias, lack of transparency, publication of <mark>fake news</mark>, poor sourcing and classification as an active hate group by others. </p><br>"
      ],
      "text/plain": [
       "<IPython.core.display.HTML object>"
      ]
     },
     "metadata": {},
     "output_type": "display_data"
    },
    {
     "name": "stdout",
     "output_type": "stream",
     "text": [
      "\n",
      "\n",
      "\n",
      "r/Coronavirus\n"
     ]
    },
    {
     "data": {
      "text/html": [
       "<b>jacksonville beaches to reopen for 'essential activities' as states begin easing <mark>coronav</mark>irus restrictions</b>"
      ],
      "text/plain": [
       "<IPython.core.display.HTML object>"
      ]
     },
     "metadata": {},
     "output_type": "display_data"
    },
    {
     "name": "stdout",
     "output_type": "stream",
     "text": [
      "URL: https://www.foxnews.com/us/jacksonville-beaches-reopen-coronavirus-phase-1-restriction \n",
      "Published: 2020-04-17 17:46:15.000000 \n"
     ]
    },
    {
     "data": {
      "text/html": [
       "<p style=\"margin-left: 40px\"> -> (score: 4) the article is <mark>misleading</mark> on the 50 people or less, the mayors office clarified that its 10 or less. </p><br>"
      ],
      "text/plain": [
       "<IPython.core.display.HTML object>"
      ]
     },
     "metadata": {},
     "output_type": "display_data"
    },
    {
     "name": "stdout",
     "output_type": "stream",
     "text": [
      "\n",
      "\n",
      "\n",
      "r/politics\n"
     ]
    },
    {
     "data": {
      "text/html": [
       "<b><mark>coronav</mark>irus: doctor claims 9.8 million people dying could be ‘worthwhile payoff’ if schools are reopened</b>"
      ],
      "text/plain": [
       "<IPython.core.display.HTML object>"
      ]
     },
     "metadata": {},
     "output_type": "display_data"
    },
    {
     "name": "stdout",
     "output_type": "stream",
     "text": [
      "URL: https://www.independent.co.uk/news/world/americas/coronavirus-doctor-mehmet-oz-fox-news-children-death-rate-increase-a9469446.html \n",
      "Published: 2020-04-17 16:59:40.000000 \n"
     ]
    },
    {
     "data": {
      "text/html": [
       "<p style=\"margin-left: 40px\"> -> (score: 1) <mark>misleading</mark> headline. he’s no more a doctor than dr dre. </p><br>"
      ],
      "text/plain": [
       "<IPython.core.display.HTML object>"
      ]
     },
     "metadata": {},
     "output_type": "display_data"
    },
    {
     "data": {
      "text/html": [
       "<p style=\"margin-left: 40px\"> -> (score: 1) dr. oz is <mark>not a real</mark> doctor.  he's a fake. </p><br>"
      ],
      "text/plain": [
       "<IPython.core.display.HTML object>"
      ]
     },
     "metadata": {},
     "output_type": "display_data"
    },
    {
     "name": "stdout",
     "output_type": "stream",
     "text": [
      "\n",
      "\n",
      "\n",
      "r/worldpolitics\n"
     ]
    },
    {
     "data": {
      "text/html": [
       "<b>did... did <mark>coronav</mark>irus type this?</b>"
      ],
      "text/plain": [
       "<IPython.core.display.HTML object>"
      ]
     },
     "metadata": {},
     "output_type": "display_data"
    },
    {
     "name": "stdout",
     "output_type": "stream",
     "text": [
      "URL: https://i.redd.it/bh3cce8btet41.jpg \n",
      "Published: 2020-04-17 17:02:20.000000 \n"
     ]
    },
    {
     "data": {
      "text/html": [
       "<p style=\"margin-left: 40px\"> -> (score: 1) “anybody that wants a test (for the coronavirus) can get a test.” - king liar trump (march 6th)\n",
       "\n",
       "<mark>not true</mark> then, <mark>not true</mark> today (6 weeks later)! </p><br>"
      ],
      "text/plain": [
       "<IPython.core.display.HTML object>"
      ]
     },
     "metadata": {},
     "output_type": "display_data"
    },
    {
     "name": "stdout",
     "output_type": "stream",
     "text": [
      "\n",
      "\n",
      "\n",
      "r/Coronavirus\n"
     ]
    },
    {
     "data": {
      "text/html": [
       "<b>a sudden rise in <mark>coronav</mark>irus cases is hitting rural states without stay-at-home orders</b>"
      ],
      "text/plain": [
       "<IPython.core.display.HTML object>"
      ]
     },
     "metadata": {},
     "output_type": "display_data"
    },
    {
     "name": "stdout",
     "output_type": "stream",
     "text": [
      "URL: https://www.cnn.com/2020/04/17/politics/republican-governors-stay-at-home-coronavirus/index.html \n",
      "Published: 2020-04-17 17:00:01.000000 \n"
     ]
    },
    {
     "data": {
      "text/html": [
       "<p style=\"margin-left: 40px\"> -> (score: 15) <mark>fake news</mark>. need to watch the only real source for truth: fox news.\n",
       "\n",
       "/s </p><br>"
      ],
      "text/plain": [
       "<IPython.core.display.HTML object>"
      ]
     },
     "metadata": {},
     "output_type": "display_data"
    },
    {
     "name": "stdout",
     "output_type": "stream",
     "text": [
      "\n",
      "\n",
      "\n",
      "r/Coronavirus\n"
     ]
    },
    {
     "data": {
      "text/html": [
       "<b>brasil: federal council of medicine has just approved the use of chloroquine to deal with the <mark>coronav</mark>irus <mark>pandemi</mark>c (in portuguese)</b>"
      ],
      "text/plain": [
       "<IPython.core.display.HTML object>"
      ]
     },
     "metadata": {},
     "output_type": "display_data"
    },
    {
     "name": "stdout",
     "output_type": "stream",
     "text": [
      "URL: https://www.estudosnacionais.com/23144/cfm-acaba-de-aprovar-uso-da-cloroquina-para-enfrentamento-da-pandemia-do-coronavirus/ \n",
      "Published: 2020-04-17 16:39:51.000000 \n"
     ]
    },
    {
     "data": {
      "text/html": [
       "<p style=\"margin-left: 40px\"> -> (score: 2) não, nao liberou. compartilhe um link de um jornal ou revista melhor antes de espalhar noticias falsas, por favor.\n",
       "\n",
       "no, it hasn't. please, share a trustable link with real information before spreading <mark>fake news</mark>. </p><br>"
      ],
      "text/plain": [
       "<IPython.core.display.HTML object>"
      ]
     },
     "metadata": {},
     "output_type": "display_data"
    },
    {
     "data": {
      "text/html": [
       "<p style=\"margin-left: 40px\"> -> (score: 3) this is a hoax! we are really fucked here in brazil.\n",
       "but this pseudo-journalistics bloggers posting <mark>fake news</mark> are worst!\n",
       "\n",
       "our president has serious problems to deal with, and of course he is what he always was: a useless piece of shit! \n",
       "\n",
       "but we have some good institutions working (while try to survive) amid this crisis. here is the link for cfm (conselho federal de medicina). there is nothing about that headline.  \n",
       "\n",
       " https://portal.cfm.org.br/ </p><br>"
      ],
      "text/plain": [
       "<IPython.core.display.HTML object>"
      ]
     },
     "metadata": {},
     "output_type": "display_data"
    },
    {
     "name": "stdout",
     "output_type": "stream",
     "text": [
      "\n",
      "\n",
      "\n",
      "r/politics\n"
     ]
    },
    {
     "data": {
      "text/html": [
       "<b>loeffler to fox news: criticizing my <mark>coronav</mark>irus stock trades is just a ‘socialist attack’</b>"
      ],
      "text/plain": [
       "<IPython.core.display.HTML object>"
      ]
     },
     "metadata": {},
     "output_type": "display_data"
    },
    {
     "name": "stdout",
     "output_type": "stream",
     "text": [
      "URL: https://www.thedailybeast.com/sen-kelly-loeffler-tells-fox-news-that-criticizing-my-coronavirus-stock-trades-is-a-socialist-attack?ref=wrap \n",
      "Published: 2020-04-17 16:02:49.000000 \n"
     ]
    },
    {
     "data": {
      "text/html": [
       "<p style=\"margin-left: 40px\"> -> (score: 1) i mean, it's technically <mark>not \"un-true</mark>.\" as a socialist, she's correct, we're against corruption in politics. </p><br>"
      ],
      "text/plain": [
       "<IPython.core.display.HTML object>"
      ]
     },
     "metadata": {},
     "output_type": "display_data"
    },
    {
     "name": "stdout",
     "output_type": "stream",
     "text": [
      "\n",
      "\n",
      "\n",
      "r/Coronavirus\n"
     ]
    },
    {
     "data": {
      "text/html": [
       "<b>dr. phil panned on twitter for fox news <mark>coronav</mark>irus hit</b>"
      ],
      "text/plain": [
       "<IPython.core.display.HTML object>"
      ]
     },
     "metadata": {},
     "output_type": "display_data"
    },
    {
     "name": "stdout",
     "output_type": "stream",
     "text": [
      "URL: https://www.mediaite.com/online/infectious-disease-hobbyist-dr-phil-destroyed-for-wild-coronavirus-appearance-on-fox-news/ \n",
      "Published: 2020-04-17 15:44:05.000000 \n"
     ]
    },
    {
     "data": {
      "text/html": [
       "<p style=\"margin-left: 40px\"> -> (score: 3)  \n",
       "\n",
       "on one hand i'm glad these hacks are destroying themselves, but on the other hand i'm angered by what they'll destroy with <mark>misinfor</mark>mation (and that they've done so for so long). these monsters that greed/fame has created ... every time. i'm shocked that i'm surprised. </p><br>"
      ],
      "text/plain": [
       "<IPython.core.display.HTML object>"
      ]
     },
     "metadata": {},
     "output_type": "display_data"
    },
    {
     "data": {
      "text/html": [
       "<p style=\"margin-left: 40px\"> -> (score: -5) <mark>fake news</mark>. his account  is still active. </p><br>"
      ],
      "text/plain": [
       "<IPython.core.display.HTML object>"
      ]
     },
     "metadata": {},
     "output_type": "display_data"
    },
    {
     "name": "stdout",
     "output_type": "stream",
     "text": [
      "\n",
      "\n",
      "\n",
      "r/politics\n"
     ]
    },
    {
     "data": {
      "text/html": [
       "<b>dr. phil downplays <mark>coronav</mark>irus on fox news by comparing it to car accidents and swimming pool deaths - \"we don’t shut the country down for that yet we’re doing it for this?\" asked dr. phil, who is not a medical doctor</b>"
      ],
      "text/plain": [
       "<IPython.core.display.HTML object>"
      ]
     },
     "metadata": {},
     "output_type": "display_data"
    },
    {
     "name": "stdout",
     "output_type": "stream",
     "text": [
      "URL: https://www.salon.com/2020/04/17/dr-phil-downplays-coronavirus-on-fox-news-by-comparing-it-to-car-accidents-and-swimming-pool-deaths/ \n",
      "Published: 2020-04-17 15:11:34.000000 \n"
     ]
    },
    {
     "data": {
      "text/html": [
       "<p style=\"margin-left: 40px\"> -> (score: 1) ‘<mark>not a real</mark> doctor’ is a guest on ‘<mark>not a real</mark> news network’.\n",
       "\n",
       "surprising. </p><br>"
      ],
      "text/plain": [
       "<IPython.core.display.HTML object>"
      ]
     },
     "metadata": {},
     "output_type": "display_data"
    },
    {
     "data": {
      "text/html": [
       "<p style=\"margin-left: 40px\"> -> (score: 1) dr phil (probably): did you know that heart disease is the leading cause of death in this country? how can we shut down the country over a simple virus but not ban people from having hearts altogether? it's hypocrisy and we're gonna get to the heart of the matter on next monday's dr. phil <mark>fake news</mark> special event. </p><br>"
      ],
      "text/plain": [
       "<IPython.core.display.HTML object>"
      ]
     },
     "metadata": {},
     "output_type": "display_data"
    },
    {
     "name": "stdout",
     "output_type": "stream",
     "text": [
      "\n",
      "\n",
      "\n",
      "r/worldpolitics\n"
     ]
    },
    {
     "data": {
      "text/html": [
       "<b>90 percent of us <mark>coronav</mark>irus deaths may have been avoided with earlier action</b>"
      ],
      "text/plain": [
       "<IPython.core.display.HTML object>"
      ]
     },
     "metadata": {},
     "output_type": "display_data"
    },
    {
     "name": "stdout",
     "output_type": "stream",
     "text": [
      "URL: https://thehill.com/changing-america/well-being/prevention-cures/493128-90-percent-of-coronavirus-deaths-may-have-been \n",
      "Published: 2020-04-17 15:13:57.000000 \n"
     ]
    },
    {
     "data": {
      "text/html": [
       "<p style=\"margin-left: 40px\"> -> (score: 2) “anybody that wants a test (for the coronavirus) can get a test.” - king liar trump (march 6th)\n",
       "\n",
       "<mark>not true</mark> then, <mark>not true</mark> today (6 weeks later)! </p><br>"
      ],
      "text/plain": [
       "<IPython.core.display.HTML object>"
      ]
     },
     "metadata": {},
     "output_type": "display_data"
    },
    {
     "name": "stdout",
     "output_type": "stream",
     "text": [
      "\n",
      "\n",
      "\n",
      "r/politics\n"
     ]
    },
    {
     "data": {
      "text/html": [
       "<b>influential <mark>covid</mark>-19 model shouldn't guide u.s. policies, critics say</b>"
      ],
      "text/plain": [
       "<IPython.core.display.HTML object>"
      ]
     },
     "metadata": {},
     "output_type": "display_data"
    },
    {
     "name": "stdout",
     "output_type": "stream",
     "text": [
      "URL: https://www.statnews.com/2020/04/17/influential-covid-19-model-uses-flawed-methods-shouldnt-guide-policies-critics-say/ \n",
      "Published: 2020-04-17 15:07:24.000000 \n"
     ]
    },
    {
     "data": {
      "text/html": [
       "<p style=\"margin-left: 40px\"> -> (score: 1) > a widely followed model for projecting covid-19 deaths in the u.s. is producing results that have been bouncing up and down like an unpredictable fever, and now epidemiologists are criticizing it as flawed and <mark>misleading</mark> for both the public and policy makers. in particular, they warn against relying on it as the basis for government decision-making, including on “re-opening america.” </p><br>"
      ],
      "text/plain": [
       "<IPython.core.display.HTML object>"
      ]
     },
     "metadata": {},
     "output_type": "display_data"
    },
    {
     "name": "stdout",
     "output_type": "stream",
     "text": [
      "\n",
      "\n",
      "\n",
      "r/Coronavirus\n"
     ]
    },
    {
     "data": {
      "text/html": [
       "<b>fox news defends its <mark>covid</mark> lies, saying first amendment protects “false” speech</b>"
      ],
      "text/plain": [
       "<IPython.core.display.HTML object>"
      ]
     },
     "metadata": {},
     "output_type": "display_data"
    },
    {
     "name": "stdout",
     "output_type": "stream",
     "text": [
      "URL: https://truthout.org/articles/fox-news-defends-its-covid-lies/ \n",
      "Published: 2020-04-17 14:50:22.000000 \n"
     ]
    },
    {
     "data": {
      "text/html": [
       "<p style=\"margin-left: 40px\"> -> (score: 0) the first amendment has restrictions. you can't use free speech to harm others as in yelling 'fire' in a crowded theater when there is no fire. \n",
       "\n",
       "so why should you be able to spread <mark>false infor</mark>mation about covid-19? doing that will kill people more certainly than yelling 'fire' in the crowded theater scenario. </p><br>"
      ],
      "text/plain": [
       "<IPython.core.display.HTML object>"
      ]
     },
     "metadata": {},
     "output_type": "display_data"
    },
    {
     "data": {
      "text/html": [
       "<p style=\"margin-left: 40px\"> -> (score: -8) people are acting like only conservative media outlets like fox have made <mark>misleading</mark> claims about this or <mark>misleading</mark> claims in general for that matter. </p><br>"
      ],
      "text/plain": [
       "<IPython.core.display.HTML object>"
      ]
     },
     "metadata": {},
     "output_type": "display_data"
    },
    {
     "data": {
      "text/html": [
       "<p style=\"margin-left: 40px\"> -> (score: 2) you are a news organization so you should not be spreading <mark>false news</mark>.  opinion pieces are one thing, but the news is something.  i hate the spin that gets put on news in today's world, but it's literally impossible to avoid news without spin unless you go directly to the source.\n",
       "\n",
       "the news media, from all sides, have for too long run for ratings and clicks.  accuracy is more important than how many clicks you get. </p><br>"
      ],
      "text/plain": [
       "<IPython.core.display.HTML object>"
      ]
     },
     "metadata": {},
     "output_type": "display_data"
    },
    {
     "data": {
      "text/html": [
       "<p style=\"margin-left: 40px\"> -> (score: 8) <mark>misleading</mark> title, which does no good in fighting <mark>misleading</mark> news channels.\n",
       "\n",
       "the actual words from fox legal team: *\"...the “first amendment does not permit censoring this type of speech based on the theory that it is ‘false’ or ‘outrageous.’ nor does the law of the state of washington.”*\n",
       "\n",
       "at no point did they say \"hey the first amendment lets us say false things\", as the title implies. </p><br>"
      ],
      "text/plain": [
       "<IPython.core.display.HTML object>"
      ]
     },
     "metadata": {},
     "output_type": "display_data"
    },
    {
     "name": "stdout",
     "output_type": "stream",
     "text": [
      "\n",
      "\n",
      "\n",
      "r/politics\n"
     ]
    },
    {
     "data": {
      "text/html": [
       "<b>how schools would reopen under trump <mark>coronav</mark>irus plan</b>"
      ],
      "text/plain": [
       "<IPython.core.display.HTML object>"
      ]
     },
     "metadata": {},
     "output_type": "display_data"
    },
    {
     "name": "stdout",
     "output_type": "stream",
     "text": [
      "URL: https://www.politico.com/newsletters/morning-education/2020/04/17/how-schools-would-reopen-under-trump-coronavirus-plan-786942 \n",
      "Published: 2020-04-17 14:20:32.000000 \n"
     ]
    },
    {
     "data": {
      "text/html": [
       "<p style=\"margin-left: 40px\"> -> (score: 1) fify - trump plans to send kids to day camps of death\n",
       "\n",
       "<mark>false or misleading infor</mark>mation is protected by the first amendment - fox news, april 2020 </p><br>"
      ],
      "text/plain": [
       "<IPython.core.display.HTML object>"
      ]
     },
     "metadata": {},
     "output_type": "display_data"
    },
    {
     "name": "stdout",
     "output_type": "stream",
     "text": [
      "\n",
      "\n",
      "\n",
      "r/Coronavirus\n"
     ]
    },
    {
     "data": {
      "text/html": [
       "<b>an experimental trial of recombinant human interferon alpha nasal drops to prevent <mark>coronav</mark>irus disease 2019 in medical staff in an <mark>epidemi</mark>c area</b>"
      ],
      "text/plain": [
       "<IPython.core.display.HTML object>"
      ]
     },
     "metadata": {},
     "output_type": "display_data"
    },
    {
     "name": "stdout",
     "output_type": "stream",
     "text": [
      "URL: https://www.medrxiv.org/content/10.1101/2020.04.11.20061473v1 \n",
      "Published: 2020-04-17 14:17:55.000000 \n"
     ]
    },
    {
     "data": {
      "text/html": [
       "<p style=\"margin-left: 40px\"> -> (score: 4) real or <mark>fake news</mark>? </p><br>"
      ],
      "text/plain": [
       "<IPython.core.display.HTML object>"
      ]
     },
     "metadata": {},
     "output_type": "display_data"
    },
    {
     "name": "stdout",
     "output_type": "stream",
     "text": [
      "\n",
      "\n",
      "\n",
      "r/Coronavirus\n"
     ]
    },
    {
     "data": {
      "text/html": [
       "<b>how to re-open the country and control <mark>covid</mark>-19 #<mark>coronav</mark>irus</b>"
      ],
      "text/plain": [
       "<IPython.core.display.HTML object>"
      ]
     },
     "metadata": {},
     "output_type": "display_data"
    },
    {
     "name": "stdout",
     "output_type": "stream",
     "text": [
      "URL: https://wattsupwiththat.com/2020/04/15/how-to-re-open-the-country-and-control-covid-19-coronavirus/ \n",
      "Published: 2020-04-17 14:06:57.000000 \n"
     ]
    },
    {
     "data": {
      "text/html": [
       "<p style=\"margin-left: 40px\"> -> (score: 11) >we need to hear more from real doctors (who see patients), rather from the swamp dwellers like the ama, other entities blindly following climate cult, the <mark>fake news</mark> media, and the un bodies.\n",
       "\n",
       "uh oh, there goes his credibility </p><br>"
      ],
      "text/plain": [
       "<IPython.core.display.HTML object>"
      ]
     },
     "metadata": {},
     "output_type": "display_data"
    },
    {
     "name": "stdout",
     "output_type": "stream",
     "text": [
      "\n",
      "\n",
      "\n",
      "r/politics\n"
     ]
    },
    {
     "data": {
      "text/html": [
       "<b>will trump’s decision to cut who funding accomplish anything? the <mark>coronav</mark>irus <mark>pandemi</mark>c is threatening international institutions, the european union, and military readiness while shattering economic policy orthodoxies.</b>"
      ],
      "text/plain": [
       "<IPython.core.display.HTML object>"
      ]
     },
     "metadata": {},
     "output_type": "display_data"
    },
    {
     "name": "stdout",
     "output_type": "stream",
     "text": [
      "URL: https://foreignpolicy.com/2020/04/17/will-trumps-decision-to-cut-who-funding-accomplish-anything/ \n",
      "Published: 2020-04-17 13:37:50.000000 \n"
     ]
    },
    {
     "data": {
      "text/html": [
       "<p style=\"margin-left: 40px\"> -> (score: 1) it’s an attempt to push the blame for his own failures onto others. any mistakes the who made did not force trump to downplay the virus and spread <mark>misinfor</mark>mation for weeks. those were his decisions. </p><br>"
      ],
      "text/plain": [
       "<IPython.core.display.HTML object>"
      ]
     },
     "metadata": {},
     "output_type": "display_data"
    }
   ],
   "source": [
    "%%capture --no-stdout  --no-display\n",
    "print_corona_sc(CORONAFLAG, 100, charlim = 500)"
   ]
  },
  {
   "cell_type": "markdown",
   "metadata": {},
   "source": [
    "## Find keywords for submissions"
   ]
  },
  {
   "cell_type": "code",
   "execution_count": 369,
   "metadata": {},
   "outputs": [],
   "source": [
    "S = pd.read_csv(\"http://ec2-3-8-1-23.eu-west-2.compute.amazonaws.com/vlad/R_all_submissions.csv\")\n",
    "S = pd.merge(S, ALL03[['subm_id','date_created','date_added']].rename(columns = {'subm_id':'id'}), on = 'id')\n",
    "S['id']='t3_'+ S['id']\n",
    "S['domain']= [extract_domain(url) for url in S['url']]\n",
    "S.columns = S.columns.str.lstrip()"
   ]
  },
  {
   "cell_type": "code",
   "execution_count": 39,
   "metadata": {},
   "outputs": [
    {
     "ename": "NameError",
     "evalue": "name 'S' is not defined",
     "output_type": "error",
     "traceback": [
      "\u001b[0;31m---------------------------------------------------------------------------\u001b[0m",
      "\u001b[0;31mNameError\u001b[0m                                 Traceback (most recent call last)",
      "\u001b[0;32m<ipython-input-39-ec18248154d1>\u001b[0m in \u001b[0;36m<module>\u001b[0;34m\u001b[0m\n\u001b[1;32m      1\u001b[0m \u001b[0;32mimport\u001b[0m \u001b[0mspacy\u001b[0m\u001b[0;34m\u001b[0m\u001b[0;34m\u001b[0m\u001b[0m\n\u001b[1;32m      2\u001b[0m \u001b[0mnlp\u001b[0m \u001b[0;34m=\u001b[0m \u001b[0mspacy\u001b[0m\u001b[0;34m.\u001b[0m\u001b[0mload\u001b[0m\u001b[0;34m(\u001b[0m\u001b[0;34m'en_core_web_sm'\u001b[0m\u001b[0;34m)\u001b[0m\u001b[0;34m\u001b[0m\u001b[0;34m\u001b[0m\u001b[0m\n\u001b[0;32m----> 3\u001b[0;31m \u001b[0mdocs\u001b[0m \u001b[0;34m=\u001b[0m \u001b[0;34m[\u001b[0m\u001b[0mnlp\u001b[0m\u001b[0;34m(\u001b[0m\u001b[0mtext\u001b[0m\u001b[0;34m)\u001b[0m \u001b[0;32mfor\u001b[0m \u001b[0mtext\u001b[0m \u001b[0;32min\u001b[0m \u001b[0mS\u001b[0m\u001b[0;34m.\u001b[0m\u001b[0mtitle\u001b[0m\u001b[0;34m]\u001b[0m\u001b[0;34m\u001b[0m\u001b[0;34m\u001b[0m\u001b[0m\n\u001b[0m",
      "\u001b[0;31mNameError\u001b[0m: name 'S' is not defined"
     ]
    }
   ],
   "source": [
    "import spacy\n",
    "nlp = spacy.load('en_core_web_sm')\n",
    "docs = [nlp(text) for text in S.title]"
   ]
  },
  {
   "cell_type": "code",
   "execution_count": 440,
   "metadata": {},
   "outputs": [],
   "source": [
    "chunks = [chunk.text.lower() for doc in docs for chunk in doc.noun_chunks if not chunk.root.is_stop and not chunk.root.is_punct]\n",
    "common_chunks = Counter(chunks).most_common(300)\n",
    "with open('submissions_covid_topwords.txt', 'w') as the_file:\n",
    "    for word, n in common_chunks:\n",
    "        the_file.write(word + ', ' + str(n)+'\\n')"
   ]
  },
  {
   "cell_type": "code",
   "execution_count": null,
   "metadata": {},
   "outputs": [],
   "source": [
    "ventilators, lockdown, crisis, quarantine, virus, masks, outbreak, hospitals, lockdown, deaths, spread, social distancing, izolation, medical supplies, patients, treatment, vaccine, cdc"
   ]
  },
  {
   "cell_type": "markdown",
   "metadata": {},
   "source": [
    "## Find keywords for comments"
   ]
  },
  {
   "cell_type": "code",
   "execution_count": 522,
   "metadata": {},
   "outputs": [],
   "source": [
    "def extract_pos(text, df=False):\n",
    "    pos_list = [(t.text, t.lemma_, t.pos_, t.tag_, t.dep_, list(t.ancestors),list(t.children)) for t in nlp(text)]\n",
    "    if df:\n",
    "        return(pd.DataFrame(pos_list, columns=['text','lemma','pos','tag','dep','ancestors','children']))   \n",
    "    else:\n",
    "        return(pos_list)"
   ]
  },
  {
   "cell_type": "code",
   "execution_count": 398,
   "metadata": {},
   "outputs": [],
   "source": [
    "def children_in(tok, wordlist):\n",
    "    value = False\n",
    "    for a in tok.children:\n",
    "        if a.lower_ in wordlist:\n",
    "            value = a.lower_\n",
    "            break\n",
    "    return(value)"
   ]
  },
  {
   "cell_type": "code",
   "execution_count": 594,
   "metadata": {},
   "outputs": [],
   "source": [
    "def fake_sent_pos(sent):\n",
    "    v,s,o,neg = [False]*4\n",
    "    final_phrase = False\n",
    "    for tok in sent:\n",
    "        if tok.dep_ == \"ROOT\":\n",
    "            if tok.lemma_ in predicates:            \n",
    "                v = tok.text\n",
    "                for c in tok.children:\n",
    "                    if (c.dep_ == \"neg\"):\n",
    "                        neg = True\n",
    "                    elif (c.dep_ == \"nsubj\") and (c.lower_ in subjects):\n",
    "                        s = c.text\n",
    "                    elif c.dep_ in [\"dobj\",\"attr\",\"acomp\"]:\n",
    "                        if (c.lower_ in fullobjects):                            \n",
    "                            o = c.text\n",
    "                        elif (c.lower_ in partialobjects) and children_in(c, partialattributes):\n",
    "                            o = children_in(c, partialattributes) + ' ' + c.text\n",
    "                    elif c.lower_ == 'like' and c.dep_ == \"prep\":\n",
    "                        for like in c.children:\n",
    "                            if (like.lower_ in fullobjects):                            \n",
    "                                o = 'like ' + like.text\n",
    "                            elif (like.lower_ in partialobjects) and children_in(like, partialattributes):\n",
    "                                o = 'like ' + children_in(like, partialattributes) + ' ' + like.text\n",
    "                            if o and not s:\n",
    "                                s=''\n",
    "                if v and o and not neg:\n",
    "                    if s:\n",
    "                        final_phrase = '%s %s %s' % (s, v, o)\n",
    "                    elif s=='':\n",
    "                        final_phrase = '%s %s' % (v, o)\n",
    "            elif tok.pos_ in ['NOUN','PROPN']:\n",
    "                if tok.lower_ in fullobjects:\n",
    "                    final_phrase = tok.text\n",
    "                elif tok.lower_ in partialobjects and children_in(tok, partialattributes):\n",
    "                    final_phrase = children_in(tok, partialattributes) + ' ' + tok.lower_\n",
    "    return(final_phrase) "
   ]
  },
  {
   "cell_type": "code",
   "execution_count": 589,
   "metadata": {},
   "outputs": [
    {
     "data": {
      "text/plain": [
       "'feels like fake news'"
      ]
     },
     "execution_count": 589,
     "metadata": {},
     "output_type": "execute_result"
    }
   ],
   "source": [
    "fake_sent_pos(list(nlp(text).sents)[0])"
   ]
  },
  {
   "cell_type": "code",
   "execution_count": 400,
   "metadata": {},
   "outputs": [
    {
     "data": {
      "text/plain": [
       "(96600, 12)"
      ]
     },
     "execution_count": 400,
     "metadata": {},
     "output_type": "execute_result"
    }
   ],
   "source": [
    "CORONASUB = filter_comm(COMM,\\\n",
    "                         subm_regex_yes = covid_regex,\\\n",
    "                         comm_regex_yes = '.*',\\\n",
    "                         subm_regex_no = fake_regex,\\\n",
    "                         comm_regex_no = '###notatext###')\n",
    "CORONASUB.shape"
   ]
  },
  {
   "cell_type": "code",
   "execution_count": 442,
   "metadata": {},
   "outputs": [
    {
     "data": {
      "text/html": [
       "<div>\n",
       "<style scoped>\n",
       "    .dataframe tbody tr th:only-of-type {\n",
       "        vertical-align: middle;\n",
       "    }\n",
       "\n",
       "    .dataframe tbody tr th {\n",
       "        vertical-align: top;\n",
       "    }\n",
       "\n",
       "    .dataframe thead th {\n",
       "        text-align: right;\n",
       "    }\n",
       "</style>\n",
       "<table border=\"1\" class=\"dataframe\">\n",
       "  <thead>\n",
       "    <tr style=\"text-align: right;\">\n",
       "      <th></th>\n",
       "      <th></th>\n",
       "      <th>comm_author_id</th>\n",
       "      <th>comm_body</th>\n",
       "      <th>comm_score</th>\n",
       "      <th>comm_date</th>\n",
       "      <th>subr_id</th>\n",
       "      <th>date_created</th>\n",
       "      <th>date_added</th>\n",
       "      <th>subreddit</th>\n",
       "      <th>subm_title</th>\n",
       "      <th>subm_score</th>\n",
       "      <th>subm_url</th>\n",
       "      <th>has_flag</th>\n",
       "      <th>flag_pos</th>\n",
       "    </tr>\n",
       "    <tr>\n",
       "      <th>subm_id</th>\n",
       "      <th>comm_id</th>\n",
       "      <th></th>\n",
       "      <th></th>\n",
       "      <th></th>\n",
       "      <th></th>\n",
       "      <th></th>\n",
       "      <th></th>\n",
       "      <th></th>\n",
       "      <th></th>\n",
       "      <th></th>\n",
       "      <th></th>\n",
       "      <th></th>\n",
       "      <th></th>\n",
       "      <th></th>\n",
       "    </tr>\n",
       "  </thead>\n",
       "  <tbody>\n",
       "    <tr>\n",
       "      <th rowspan=\"5\" valign=\"top\">t3_g47qcb</th>\n",
       "      <th>t1_fnvsi6g</th>\n",
       "      <td>t2_5it695</td>\n",
       "      <td>Lmao, do they all really dress like school gir...</td>\n",
       "      <td>-13</td>\n",
       "      <td>2020-04-19 07:39:24</td>\n",
       "      <td>t5_2x4yx</td>\n",
       "      <td>2020-04-19 13:33:36.000000</td>\n",
       "      <td>2020-04-19 13:33:53.900038</td>\n",
       "      <td>Coronavirus</td>\n",
       "      <td>Sex work in Japan crippled by effects of coron...</td>\n",
       "      <td>8</td>\n",
       "      <td>https://www.cnn.com/videos/world/2020/04/19/se...</td>\n",
       "      <td>False</td>\n",
       "      <td>None</td>\n",
       "    </tr>\n",
       "    <tr>\n",
       "      <th>t1_fnvs527</th>\n",
       "      <td>t2_armmh</td>\n",
       "      <td>Duh?</td>\n",
       "      <td>1</td>\n",
       "      <td>2020-04-19 07:34:59</td>\n",
       "      <td>t5_2x4yx</td>\n",
       "      <td>2020-04-19 13:33:36.000000</td>\n",
       "      <td>2020-04-19 13:33:53.900038</td>\n",
       "      <td>Coronavirus</td>\n",
       "      <td>Sex work in Japan crippled by effects of coron...</td>\n",
       "      <td>8</td>\n",
       "      <td>https://www.cnn.com/videos/world/2020/04/19/se...</td>\n",
       "      <td>False</td>\n",
       "      <td>None</td>\n",
       "    </tr>\n",
       "    <tr>\n",
       "      <th>t1_fnvszh7</th>\n",
       "      <td>t2_44c7519r</td>\n",
       "      <td>Many of these women have been groomed and abus...</td>\n",
       "      <td>19</td>\n",
       "      <td>2020-04-19 07:45:10</td>\n",
       "      <td>t5_2x4yx</td>\n",
       "      <td>2020-04-19 13:33:36.000000</td>\n",
       "      <td>2020-04-19 13:33:53.900038</td>\n",
       "      <td>Coronavirus</td>\n",
       "      <td>Sex work in Japan crippled by effects of coron...</td>\n",
       "      <td>8</td>\n",
       "      <td>https://www.cnn.com/videos/world/2020/04/19/se...</td>\n",
       "      <td>False</td>\n",
       "      <td>None</td>\n",
       "    </tr>\n",
       "    <tr>\n",
       "      <th>t1_fnvvw2i</th>\n",
       "      <td>t2_30qgvy61</td>\n",
       "      <td>I thought they only had sex with robots.</td>\n",
       "      <td>4</td>\n",
       "      <td>2020-04-19 08:20:05</td>\n",
       "      <td>t5_2x4yx</td>\n",
       "      <td>2020-04-19 13:33:36.000000</td>\n",
       "      <td>2020-04-19 13:33:53.900038</td>\n",
       "      <td>Coronavirus</td>\n",
       "      <td>Sex work in Japan crippled by effects of coron...</td>\n",
       "      <td>8</td>\n",
       "      <td>https://www.cnn.com/videos/world/2020/04/19/se...</td>\n",
       "      <td>False</td>\n",
       "      <td>None</td>\n",
       "    </tr>\n",
       "    <tr>\n",
       "      <th>t1_fnvs12p</th>\n",
       "      <td>t2_6l4z3</td>\n",
       "      <td>Automatic translation [here](https://translate...</td>\n",
       "      <td>2</td>\n",
       "      <td>2020-04-19 07:33:36</td>\n",
       "      <td>t5_2x4yx</td>\n",
       "      <td>2020-04-19 13:33:36.000000</td>\n",
       "      <td>2020-04-19 13:33:53.900038</td>\n",
       "      <td>Coronavirus</td>\n",
       "      <td>Sex work in Japan crippled by effects of coron...</td>\n",
       "      <td>8</td>\n",
       "      <td>https://www.cnn.com/videos/world/2020/04/19/se...</td>\n",
       "      <td>False</td>\n",
       "      <td>None</td>\n",
       "    </tr>\n",
       "  </tbody>\n",
       "</table>\n",
       "</div>"
      ],
      "text/plain": [
       "                     comm_author_id  \\\n",
       "subm_id   comm_id                     \n",
       "t3_g47qcb t1_fnvsi6g      t2_5it695   \n",
       "          t1_fnvs527       t2_armmh   \n",
       "          t1_fnvszh7    t2_44c7519r   \n",
       "          t1_fnvvw2i    t2_30qgvy61   \n",
       "          t1_fnvs12p       t2_6l4z3   \n",
       "\n",
       "                                                              comm_body  \\\n",
       "subm_id   comm_id                                                         \n",
       "t3_g47qcb t1_fnvsi6g  Lmao, do they all really dress like school gir...   \n",
       "          t1_fnvs527                                               Duh?   \n",
       "          t1_fnvszh7  Many of these women have been groomed and abus...   \n",
       "          t1_fnvvw2i           I thought they only had sex with robots.   \n",
       "          t1_fnvs12p  Automatic translation [here](https://translate...   \n",
       "\n",
       "                      comm_score           comm_date   subr_id  \\\n",
       "subm_id   comm_id                                                \n",
       "t3_g47qcb t1_fnvsi6g         -13 2020-04-19 07:39:24  t5_2x4yx   \n",
       "          t1_fnvs527           1 2020-04-19 07:34:59  t5_2x4yx   \n",
       "          t1_fnvszh7          19 2020-04-19 07:45:10  t5_2x4yx   \n",
       "          t1_fnvvw2i           4 2020-04-19 08:20:05  t5_2x4yx   \n",
       "          t1_fnvs12p           2 2020-04-19 07:33:36  t5_2x4yx   \n",
       "\n",
       "                                    date_created                  date_added  \\\n",
       "subm_id   comm_id                                                              \n",
       "t3_g47qcb t1_fnvsi6g  2020-04-19 13:33:36.000000  2020-04-19 13:33:53.900038   \n",
       "          t1_fnvs527  2020-04-19 13:33:36.000000  2020-04-19 13:33:53.900038   \n",
       "          t1_fnvszh7  2020-04-19 13:33:36.000000  2020-04-19 13:33:53.900038   \n",
       "          t1_fnvvw2i  2020-04-19 13:33:36.000000  2020-04-19 13:33:53.900038   \n",
       "          t1_fnvs12p  2020-04-19 13:33:36.000000  2020-04-19 13:33:53.900038   \n",
       "\n",
       "                        subreddit  \\\n",
       "subm_id   comm_id                   \n",
       "t3_g47qcb t1_fnvsi6g  Coronavirus   \n",
       "          t1_fnvs527  Coronavirus   \n",
       "          t1_fnvszh7  Coronavirus   \n",
       "          t1_fnvvw2i  Coronavirus   \n",
       "          t1_fnvs12p  Coronavirus   \n",
       "\n",
       "                                                             subm_title  \\\n",
       "subm_id   comm_id                                                         \n",
       "t3_g47qcb t1_fnvsi6g  Sex work in Japan crippled by effects of coron...   \n",
       "          t1_fnvs527  Sex work in Japan crippled by effects of coron...   \n",
       "          t1_fnvszh7  Sex work in Japan crippled by effects of coron...   \n",
       "          t1_fnvvw2i  Sex work in Japan crippled by effects of coron...   \n",
       "          t1_fnvs12p  Sex work in Japan crippled by effects of coron...   \n",
       "\n",
       "                      subm_score  \\\n",
       "subm_id   comm_id                  \n",
       "t3_g47qcb t1_fnvsi6g           8   \n",
       "          t1_fnvs527           8   \n",
       "          t1_fnvszh7           8   \n",
       "          t1_fnvvw2i           8   \n",
       "          t1_fnvs12p           8   \n",
       "\n",
       "                                                               subm_url  \\\n",
       "subm_id   comm_id                                                         \n",
       "t3_g47qcb t1_fnvsi6g  https://www.cnn.com/videos/world/2020/04/19/se...   \n",
       "          t1_fnvs527  https://www.cnn.com/videos/world/2020/04/19/se...   \n",
       "          t1_fnvszh7  https://www.cnn.com/videos/world/2020/04/19/se...   \n",
       "          t1_fnvvw2i  https://www.cnn.com/videos/world/2020/04/19/se...   \n",
       "          t1_fnvs12p  https://www.cnn.com/videos/world/2020/04/19/se...   \n",
       "\n",
       "                      has_flag flag_pos  \n",
       "subm_id   comm_id                        \n",
       "t3_g47qcb t1_fnvsi6g     False     None  \n",
       "          t1_fnvs527     False     None  \n",
       "          t1_fnvszh7     False     None  \n",
       "          t1_fnvvw2i     False     None  \n",
       "          t1_fnvs12p     False     None  "
      ]
     },
     "execution_count": 442,
     "metadata": {},
     "output_type": "execute_result"
    }
   ],
   "source": [
    "CORONASUB.loc[CORONASUB.index,'flag_pos']=None\n",
    "CORONASUB = CORONASUB.sort_values('date_created', ascending = False)\n",
    "CORONASUB.head()"
   ]
  },
  {
   "cell_type": "code",
   "execution_count": 593,
   "metadata": {},
   "outputs": [],
   "source": [
    "subjects = ['you','it','this','article','title','headline']\n",
    "predicates = ['be','spread','stop','call',\\\n",
    "              'look','sound','feel','seem','smell']\n",
    "fullobjects = ['disinformation','misinformation','misleading','bullshit','bs','falsehood','fabrication']\n",
    "partialobjects = ['news','information','title','source','article']\n",
    "partialattributes = ['fake','false','misleading','untrustworthy','bogus','bullshit']\n",
    "###\n",
    "fake_regex_wrds = 'fake|false\\\\w*|bogus|'+\\\n",
    "                  'mislead\\\\w*|disinf\\\\w*|misinf\\\\w*|malinf\\\\w*|'+\\\n",
    "                  'bullshit|\\\\bbs\\\\b|'+\\\n",
    "                  'news|info\\\\w*|title|article|source|submission'"
   ]
  },
  {
   "cell_type": "code",
   "execution_count": 595,
   "metadata": {
    "scrolled": false
   },
   "outputs": [
    {
     "name": "stdout",
     "output_type": "stream",
     "text": [
      "####\n",
      "\n",
      "\n",
      "\n",
      "1 / 161\n",
      "Coronavirus\n",
      "--------------------\n"
     ]
    },
    {
     "data": {
      "text/html": [
       "<b>1 in 1000 new york city residents have now died from <mark>coronav</mark>irus</b>"
      ],
      "text/plain": [
       "<IPython.core.display.HTML object>"
      ]
     },
     "metadata": {},
     "output_type": "display_data"
    },
    {
     "name": "stdout",
     "output_type": "stream",
     "text": [
      "URL: https://bdkhealth.com/1-in-1000-new-york-city-residents-have-now-died-from-coronavirus/ \n",
      "Published: 2020-04-19 13:08:25. \n"
     ]
    },
    {
     "data": {
      "text/html": [
       "sensationalist and just plain wrong headline. the <mark>article</mark> is just as <mark>misleading</mark> and inaccurate. where have all the critical thinkers gone?"
      ],
      "text/plain": [
       "<IPython.core.display.HTML object>"
      ]
     },
     "metadata": {},
     "output_type": "display_data"
    },
    {
     "name": "stdout",
     "output_type": "stream",
     "text": [
      "Q: article is misleading\n"
     ]
    },
    {
     "data": {
      "text/html": [
       "how many are \"assumed\" to have died from it though?  it's <mark>bullshit</mark> that they are lumping all those numbers in."
      ],
      "text/plain": [
       "<IPython.core.display.HTML object>"
      ]
     },
     "metadata": {},
     "output_type": "display_data"
    },
    {
     "name": "stdout",
     "output_type": "stream",
     "text": [
      "Q: It 's bullshit\n",
      "####\n",
      "\n",
      "\n",
      "\n",
      "3 / 354\n",
      "politics\n",
      "--------------------\n"
     ]
    },
    {
     "data": {
      "text/html": [
       "<b>pelosi: 'really unfortunate' that protesters are pushing back against <mark>coronav</mark>irus restrictions</b>"
      ],
      "text/plain": [
       "<IPython.core.display.HTML object>"
      ]
     },
     "metadata": {},
     "output_type": "display_data"
    },
    {
     "name": "stdout",
     "output_type": "stream",
     "text": [
      "URL: https://thehill.com/homenews/house/493528-pelosi-really-unfortunate-that-protesters-are-pushing-back-against-coronavirus \n",
      "Published: 2020-04-19 12:39:06. \n"
     ]
    },
    {
     "data": {
      "text/html": [
       "coming soon!   \"wag the dog - civil war\"  \n",
       "\n",
       "these are not organic protests - they have been organized and funded by trump pacs to provide optics for when trump says \"the people want to...\" <mark>bullshit</mark>..\n",
       "\n",
       "you will see footage of this soon in the <mark>news</mark> soon to justify trump's decision to open the economy prematurely."
      ],
      "text/plain": [
       "<IPython.core.display.HTML object>"
      ]
     },
     "metadata": {},
     "output_type": "display_data"
    },
    {
     "name": "stdout",
     "output_type": "stream",
     "text": [
      "Q: bullshit\n",
      "########\n",
      "\n",
      "\n",
      "\n",
      "4 / 763\n",
      "Coronavirus\n",
      "--------------------\n"
     ]
    },
    {
     "data": {
      "text/html": [
       "<b>sunlight kills <mark>coronav</mark>irus 'quickly', says government report</b>"
      ],
      "text/plain": [
       "<IPython.core.display.HTML object>"
      ]
     },
     "metadata": {},
     "output_type": "display_data"
    },
    {
     "name": "stdout",
     "output_type": "stream",
     "text": [
      "URL: https://news3lv.com/news/local/sunlight-kills-coronavirus-quickly-says-government-report \n",
      "Published: 2020-04-19 10:50:08. \n"
     ]
    },
    {
     "data": {
      "text/html": [
       "and it's complete <mark>bullshit</mark>."
      ],
      "text/plain": [
       "<IPython.core.display.HTML object>"
      ]
     },
     "metadata": {},
     "output_type": "display_data"
    },
    {
     "name": "stdout",
     "output_type": "stream",
     "text": [
      "Q: it 's bullshit\n",
      "###############\n",
      "\n",
      "\n",
      "\n",
      "5 / 1549\n",
      "worldnews\n",
      "--------------------\n"
     ]
    },
    {
     "data": {
      "text/html": [
       "<b>china reports 16 new <mark>coronav</mark>irus cases, lowest since march 17</b>"
      ],
      "text/plain": [
       "<IPython.core.display.HTML object>"
      ]
     },
     "metadata": {},
     "output_type": "display_data"
    },
    {
     "name": "stdout",
     "output_type": "stream",
     "text": [
      "URL: https://www.reuters.com/article/us-health-coronavirus-china/china-reports-16-new-coronavirus-cases-lowest-since-march-17-idUSKBN22101K \n",
      "Published: 2020-04-19 04:38:22. \n"
     ]
    },
    {
     "data": {
      "text/html": [
       "<mark>bullshit</mark>. that's how you call that."
      ],
      "text/plain": [
       "<IPython.core.display.HTML object>"
      ]
     },
     "metadata": {},
     "output_type": "display_data"
    },
    {
     "name": "stdout",
     "output_type": "stream",
     "text": [
      "Q: Bullshit\n",
      "######\n",
      "\n",
      "\n",
      "\n",
      "6 / 1849\n",
      "politics\n",
      "--------------------\n"
     ]
    },
    {
     "data": {
      "text/html": [
       "<b>sources believe <mark>coronav</mark>irus outbreak originated in wuhan lab as part of china's efforts to compete with us</b>"
      ],
      "text/plain": [
       "<IPython.core.display.HTML object>"
      ]
     },
     "metadata": {},
     "output_type": "display_data"
    },
    {
     "name": "stdout",
     "output_type": "stream",
     "text": [
      "URL: https://www.foxnews.com/politics/coronavirus-wuhan-lab-china-compete-us-sources \n",
      "Published: 2020-04-19 03:10:21. \n"
     ]
    },
    {
     "data": {
      "text/html": [
       "<mark>source</mark>s?\n",
       "\n",
       "&#x200b;\n",
       "\n",
       "come here\n",
       "\n",
       "(what)\n",
       "\n",
       "what that\n",
       "\n",
       "(i don't know)\n",
       "\n",
       "look like fox <mark>news</mark> <mark>bullshit</mark> to me\n",
       "\n",
       "(yah, looks like <mark>bullshit</mark> to me too)\n",
       "\n",
       "hmm, pick it up\n",
       "\n",
       "(what?)\n",
       "\n",
       "pick up\n",
       "\n",
       "(oh)\n",
       "\n",
       "feel like <mark>bullshit</mark>?\n",
       "\n",
       "(yah, feel like <mark>bullshit</mark>)\n",
       "\n",
       "smell\n",
       "\n",
       "(hm?)\n",
       "\n",
       "smell\n",
       "\n",
       "(*sniffs* uh)\n",
       "\n",
       "smell like <mark>bullshit</mark>?\n",
       "\n",
       "(it smell like fox <mark>news</mark> <mark>bullshit</mark>)\n",
       "\n",
       "taste\n",
       "\n",
       "(huh?)\n",
       "\n",
       "taste\n",
       "\n",
       "taste like fox <mark>news</mark> <mark>bullshit</mark>?\n",
       "\n",
       "(yah, tastes like <mark>bullshit</mark>)\n",
       "\n",
       "hmmm,  good thing we don't step in it!"
      ],
      "text/plain": [
       "<IPython.core.display.HTML object>"
      ]
     },
     "metadata": {},
     "output_type": "display_data"
    },
    {
     "name": "stdout",
     "output_type": "stream",
     "text": [
      "Q: Look like bullshit\n",
      "Q: looks like bullshit\n",
      "Q: Feel like bullshit\n",
      "Q: feel like bullshit\n",
      "Q: Smell like bullshit\n",
      "Q: It smell like bullshit\n",
      "###\n",
      "\n",
      "\n",
      "\n",
      "12 / 1965\n",
      "Coronavirus\n",
      "--------------------\n"
     ]
    },
    {
     "data": {
      "text/html": [
       "<b>dr. deborah birx calls china's extraordinarily low <mark>coronav</mark>irus death rate \"unrealistic\"</b>"
      ],
      "text/plain": [
       "<IPython.core.display.HTML object>"
      ]
     },
     "metadata": {},
     "output_type": "display_data"
    },
    {
     "name": "stdout",
     "output_type": "stream",
     "text": [
      "URL: https://www.newsweek.com/dr-deborah-birx-calls-chinas-low-coronavirus-death-rate-unrealistic-1498778 \n",
      "Published: 2020-04-19 02:57:40. \n"
     ]
    },
    {
     "data": {
      "text/html": [
       "it's all <mark>bs</mark>. it's based on her perception instead of observation."
      ],
      "text/plain": [
       "<IPython.core.display.HTML object>"
      ]
     },
     "metadata": {},
     "output_type": "display_data"
    },
    {
     "name": "stdout",
     "output_type": "stream",
     "text": [
      "Q: It 's BS\n",
      "######\n",
      "\n",
      "\n",
      "\n",
      "13 / 2263\n",
      "worldnews\n",
      "--------------------\n"
     ]
    },
    {
     "data": {
      "text/html": [
       "<b><mark>covid</mark>-19 clear: vietnam goes three straight days without new infection</b>"
      ],
      "text/plain": [
       "<IPython.core.display.HTML object>"
      ]
     },
     "metadata": {},
     "output_type": "display_data"
    },
    {
     "name": "stdout",
     "output_type": "stream",
     "text": [
      "URL: https://e.vnexpress.net/news/news/covid-19-clear-vietnam-goes-three-straight-days-without-new-infection-4086826.html \n",
      "Published: 2020-04-19 01:49:00. \n"
     ]
    },
    {
     "data": {
      "text/html": [
       "lol <mark>bullshit</mark>"
      ],
      "text/plain": [
       "<IPython.core.display.HTML object>"
      ]
     },
     "metadata": {},
     "output_type": "display_data"
    },
    {
     "name": "stdout",
     "output_type": "stream",
     "text": [
      "Q: bullshit\n",
      "#########\n",
      "\n",
      "\n",
      "\n",
      "14 / 2732\n",
      "Coronavirus\n",
      "--------------------\n"
     ]
    },
    {
     "data": {
      "text/html": [
       "<b>16-year-old has been using his flying lessons to deliver medical supplies to rural hospitals fighting <mark>covid</mark></b>"
      ],
      "text/plain": [
       "<IPython.core.display.HTML object>"
      ]
     },
     "metadata": {},
     "output_type": "display_data"
    },
    {
     "name": "stdout",
     "output_type": "stream",
     "text": [
      "URL: https://www.goodnewsnetwork.org/teen-flies-supplies-to-rural-hospitals-fighting-covid/ \n",
      "Published: 2020-04-19 00:19:07. \n"
     ]
    },
    {
     "data": {
      "text/html": [
       "what self-prententious <mark>bullshit</mark>.  who's paying for the avgas?  the plane rental.  what supplies can't be delivered by fedx cheaper and more safely. \n",
       "\n",
       "i cannot stand <mark>bullshit</mark> feel-good stories about little rich kids \"doing good\" under the funding of their parents. \n",
       "\n",
       "kid is merely racking up flight hours and his parents are trying to make him a hero out of it.  sound like typical republicans.   trying to enhance his chances @ ivy league, probably. \n",
       "\n",
       "even the bible tells us to keep our mouths shut about our good deeds."
      ],
      "text/plain": [
       "<IPython.core.display.HTML object>"
      ]
     },
     "metadata": {},
     "output_type": "display_data"
    },
    {
     "name": "stdout",
     "output_type": "stream",
     "text": [
      "Q: bullshit\n",
      "##\n",
      "\n",
      "\n",
      "\n",
      "15 / 2842\n",
      "politics\n",
      "--------------------\n"
     ]
    },
    {
     "data": {
      "text/html": [
       "<b>how china corrupted the world health organization's response to <mark>covid</mark>-19</b>"
      ],
      "text/plain": [
       "<IPython.core.display.HTML object>"
      ]
     },
     "metadata": {},
     "output_type": "display_data"
    },
    {
     "name": "stdout",
     "output_type": "stream",
     "text": [
      "URL: https://www.youtube.com/watch?v=c07MnRmJPcI \n",
      "Published: 2020-04-18 23:56:50. \n"
     ]
    },
    {
     "data": {
      "text/html": [
       "tin foil hat <mark>bullshit</mark>."
      ],
      "text/plain": [
       "<IPython.core.display.HTML object>"
      ]
     },
     "metadata": {},
     "output_type": "display_data"
    },
    {
     "name": "stdout",
     "output_type": "stream",
     "text": [
      "Q: bullshit\n",
      "################\n",
      "\n",
      "\n",
      "\n",
      "16 / 3613\n",
      "politics\n",
      "--------------------\n"
     ]
    },
    {
     "data": {
      "text/html": [
       "<b>conservatives fuel protests against <mark>coronav</mark>irus lockdowns</b>"
      ],
      "text/plain": [
       "<IPython.core.display.HTML object>"
      ]
     },
     "metadata": {},
     "output_type": "display_data"
    },
    {
     "name": "stdout",
     "output_type": "stream",
     "text": [
      "URL: https://www.nytimes.com/2020/04/18/us/texas-protests-stay-at-home.html \n",
      "Published: 2020-04-18 21:50:41. \n"
     ]
    },
    {
     "data": {
      "text/html": [
       "these are not \"normal citizens concerned about the economic impact of the lockdown.\" look at the pictures. confederate flags and a bunch of charlottesville <mark>bullshit</mark> all over them. this is a far right insurrection in a time of crisis.\n",
       "\n",
       "history shows we should be very concerned about such actions."
      ],
      "text/plain": [
       "<IPython.core.display.HTML object>"
      ]
     },
     "metadata": {},
     "output_type": "display_data"
    },
    {
     "name": "stdout",
     "output_type": "stream",
     "text": [
      "Q: bullshit\n",
      "########\n",
      "\n",
      "\n",
      "\n",
      "17 / 4035\n",
      "politics\n",
      "--------------------\n"
     ]
    },
    {
     "data": {
      "text/html": [
       "<b><mark>coronav</mark>irus: your federal government failed you</b>"
      ],
      "text/plain": [
       "<IPython.core.display.HTML object>"
      ]
     },
     "metadata": {},
     "output_type": "display_data"
    },
    {
     "name": "stdout",
     "output_type": "stream",
     "text": [
      "URL: https://thehill.com/opinion/white-house/493494-coronavirus-your-government-failed-you \n",
      "Published: 2020-04-18 21:45:48. \n"
     ]
    },
    {
     "data": {
      "text/html": [
       "caption <mark>misleading</mark>. the feds are helping the coronavirus. not failing it."
      ],
      "text/plain": [
       "<IPython.core.display.HTML object>"
      ]
     },
     "metadata": {},
     "output_type": "display_data"
    },
    {
     "name": "stdout",
     "output_type": "stream",
     "text": [
      "Q: misleading\n",
      "##\n",
      "\n",
      "\n",
      "\n",
      "18 / 4126\n",
      "Coronavirus\n",
      "--------------------\n"
     ]
    },
    {
     "data": {
      "text/html": [
       "<b><mark>coronav</mark>irus: a chinese man got <mark>covid</mark>-19 three times. should we be worried about reinfection?</b>"
      ],
      "text/plain": [
       "<IPython.core.display.HTML object>"
      ]
     },
     "metadata": {},
     "output_type": "display_data"
    },
    {
     "name": "stdout",
     "output_type": "stream",
     "text": [
      "URL: https://i.stuff.co.nz/world/121110699/coronavirus-a-man-got-covid19-three-times-should-we-be-worried-about-reinfection?utm_source=dlvr.it&utm_medium=twitter \n",
      "Published: 2020-04-18 21:21:59. \n"
     ]
    },
    {
     "data": {
      "text/html": [
       "possible conclusions:\n",
       "\n",
       "1. he broke quarantine each time after being released and got reinfected\n",
       "2. coronavirus can travel through ventilation systems to infect people\n",
       "3. <mark>fake</mark> <mark>news</mark>\n",
       "4. the tests are unreliable"
      ],
      "text/plain": [
       "<IPython.core.display.HTML object>"
      ]
     },
     "metadata": {},
     "output_type": "display_data"
    },
    {
     "name": "stdout",
     "output_type": "stream",
     "text": [
      "Q: fake news\n",
      "########\n",
      "\n",
      "\n",
      "\n",
      "19 / 4529\n",
      "Coronavirus\n",
      "--------------------\n"
     ]
    },
    {
     "data": {
      "text/html": [
       "<b>65 percent of u.s. adults say potus was too slow to respond to <mark>covid</mark>-19 outbreak: poll</b>"
      ],
      "text/plain": [
       "<IPython.core.display.HTML object>"
      ]
     },
     "metadata": {},
     "output_type": "display_data"
    },
    {
     "name": "stdout",
     "output_type": "stream",
     "text": [
      "URL: https://www.newsweek.com/donald-trump-covid-19-survey-1498768 \n",
      "Published: 2020-04-18 20:35:37. \n"
     ]
    },
    {
     "data": {
      "text/html": [
       "according to <mark>news</mark>week, 4900 adults who voted in the poll over 5 days represents all of america. <mark>fake</mark> <mark>news</mark>."
      ],
      "text/plain": [
       "<IPython.core.display.HTML object>"
      ]
     },
     "metadata": {},
     "output_type": "display_data"
    },
    {
     "name": "stdout",
     "output_type": "stream",
     "text": [
      "Q: fake news\n",
      "################\n",
      "\n",
      "\n",
      "\n",
      "20 / 5334\n",
      "politics\n",
      "--------------------\n"
     ]
    },
    {
     "data": {
      "text/html": [
       "<b>ilhan omar bill would cancel rent and mortgage payments for duration of <mark>pandemi</mark>c</b>"
      ],
      "text/plain": [
       "<IPython.core.display.HTML object>"
      ]
     },
     "metadata": {},
     "output_type": "display_data"
    },
    {
     "name": "stdout",
     "output_type": "stream",
     "text": [
      "URL: https://truthout.org/articles/ilhan-omar-bill-would-cancel-rent-and-mortgage-payments-for-duration-of-pandemic/ \n",
      "Published: 2020-04-18 17:58:18. \n"
     ]
    },
    {
     "data": {
      "text/html": [
       "fuck that. as someone whos income is supported by rentals, this is <mark>bs</mark>."
      ],
      "text/plain": [
       "<IPython.core.display.HTML object>"
      ]
     },
     "metadata": {},
     "output_type": "display_data"
    },
    {
     "name": "stdout",
     "output_type": "stream",
     "text": [
      "Q: this is BS\n",
      "###\n",
      "\n",
      "\n",
      "\n",
      "21 / 5460\n",
      "worldnews\n",
      "--------------------\n"
     ]
    },
    {
     "data": {
      "text/html": [
       "<b>\"<mark>covid</mark>-19 is lab grown and includes hiv sequences. researchers are being silenced but i'm out of age, i'm a nobel winner and nobody can put a pressure on me\", 2008 nobel prize winner pr. montagnier says.</b>"
      ],
      "text/plain": [
       "<IPython.core.display.HTML object>"
      ]
     },
     "metadata": {},
     "output_type": "display_data"
    },
    {
     "name": "stdout",
     "output_type": "stream",
     "text": [
      "URL: https://ponderwall.com/index.php/2020/04/18/lab-grown-coronavirus/ \n",
      "Published: 2020-04-18 17:49:53. \n"
     ]
    },
    {
     "data": {
      "text/html": [
       "<mark>false</mark> <mark>news</mark>, its 5g the illuminati and engineered by ancient aliens, recipe was found at the bottom of loch ness /s"
      ],
      "text/plain": [
       "<IPython.core.display.HTML object>"
      ]
     },
     "metadata": {},
     "output_type": "display_data"
    },
    {
     "name": "stdout",
     "output_type": "stream",
     "text": [
      "Q: false news\n",
      "##\n",
      "\n",
      "\n",
      "\n",
      "22 / 5576\n",
      "Coronavirus\n",
      "--------------------\n"
     ]
    },
    {
     "data": {
      "text/html": [
       "<b>chest ct scan finds <mark>coronav</mark>irus pneumonia in lung of healthy woman, 30, who had no symptoms of disease</b>"
      ],
      "text/plain": [
       "<IPython.core.display.HTML object>"
      ]
     },
     "metadata": {},
     "output_type": "display_data"
    },
    {
     "name": "stdout",
     "output_type": "stream",
     "text": [
      "URL: https://mobile.abc.net.au/news/2020-04-18/radiologists-doctors-sharing-ct-images-of-coronavirus/12155560 \n",
      "Published: 2020-04-18 17:23:32. \n"
     ]
    },
    {
     "data": {
      "text/html": [
       "the headline is <mark>misleading</mark>. it should end \"...until 2 days later.\" \n",
       "\n",
       "it is obvious that the virus must *do something* to you in order for you to feel sick, and of course if you go looking for it, you may find it before the symptoms appear subjectively to the patient."
      ],
      "text/plain": [
       "<IPython.core.display.HTML object>"
      ]
     },
     "metadata": {},
     "output_type": "display_data"
    },
    {
     "name": "stdout",
     "output_type": "stream",
     "text": [
      "Q: headline is misleading\n",
      "####\n",
      "\n",
      "\n",
      "\n",
      "23 / 5754\n",
      "politics\n",
      "--------------------\n"
     ]
    },
    {
     "data": {
      "text/html": [
       "<b>woman charged for organizing protest against <mark>covid</mark>-19 stay-at-home orders</b>"
      ],
      "text/plain": [
       "<IPython.core.display.HTML object>"
      ]
     },
     "metadata": {},
     "output_type": "display_data"
    },
    {
     "name": "stdout",
     "output_type": "stream",
     "text": [
      "URL: https://lawandcrime.com/covid-19-pandemic/new-jersey-woman-kim-pagan-charged-for-organizing-protest-against-covid-19-stay-at-home-orders/ \n",
      "Published: 2020-04-18 16:55:42. \n"
     ]
    },
    {
     "data": {
      "text/html": [
       "<mark>title</mark> is <mark>misleading</mark>. she was charged for organizing a prohibited event, irrespective of the event’s message or content."
      ],
      "text/plain": [
       "<IPython.core.display.HTML object>"
      ]
     },
     "metadata": {},
     "output_type": "display_data"
    },
    {
     "name": "stdout",
     "output_type": "stream",
     "text": [
      "Q: Title is misleading\n",
      "#######\n",
      "\n",
      "\n",
      "\n",
      "24 / 6122\n",
      "politics\n",
      "--------------------\n"
     ]
    },
    {
     "data": {
      "text/html": [
       "<b>antibody test results from california suggest <mark>covid</mark> death rate significantly lower than reported</b>"
      ],
      "text/plain": [
       "<IPython.core.display.HTML object>"
      ]
     },
     "metadata": {},
     "output_type": "display_data"
    },
    {
     "name": "stdout",
     "output_type": "stream",
     "text": [
      "URL: https://www.dailywire.com/news/antibody-test-results-from-california-suggest-covid-death-rate-significantly-lower-than-reported \n",
      "Published: 2020-04-18 16:14:27. \n"
     ]
    },
    {
     "data": {
      "text/html": [
       "it seems covid-19 is far more infectious than previously thought.  many who are exposed show no symptoms.\n",
       "\n",
       "while it is true this means the fatality rate is lower than thought, it is <mark>misleading</mark> to mention that without also pointing out that it is far more contagious.\n",
       "\n",
       "the fact remains, we have still lost over 35,000 people to covid-19 in the last five weeks. \n",
       "\n",
       "how many more deaths are they willing to accept before they start doing something about it - like increasing testing so we can begin contact tracing?"
      ],
      "text/plain": [
       "<IPython.core.display.HTML object>"
      ]
     },
     "metadata": {},
     "output_type": "display_data"
    },
    {
     "name": "stdout",
     "output_type": "stream",
     "text": [
      "Q: it is misleading\n",
      "\n",
      "\n",
      "\n",
      "\n",
      "25 / 6150\n",
      "Coronavirus\n",
      "--------------------\n"
     ]
    },
    {
     "data": {
      "text/html": [
       "<b>after dolphins, pink flamingos return to mumbai in huge numbers as india continues to stay inside amid <mark>coronav</mark>irus lockdown</b>"
      ],
      "text/plain": [
       "<IPython.core.display.HTML object>"
      ]
     },
     "metadata": {},
     "output_type": "display_data"
    },
    {
     "name": "stdout",
     "output_type": "stream",
     "text": [
      "URL: https://www.india.com/viral/after-dolphins-pink-flamingos-return-to-mumbai-in-huge-numbers-as-india-continues-to-stay-inside-amid-coronavirus-lockdown-viral-video-4002516/ \n",
      "Published: 2020-04-18 16:07:17. \n"
     ]
    },
    {
     "data": {
      "text/html": [
       "this feels <mark>misleading</mark>. it has nothing to do with corona. mumbai has been one of these flocks' favourite migration spot for years. \n",
       "\n",
       "[guardian <mark>article</mark> from march 2019 sites food from sewage](https://www.google.com/amp/s/amp.theguardian.com/cities/2019/mar/26/a-double-edged-sword-mumbai-pollution-perfect-for-flamingos)\n",
       "\n",
       "[toi <mark>article</mark> from feb 2019 states the same](https://m.timesofindia.com/city/mumbai/at-1-2l-flamingos-in-city-triple-since-octflamingos-flock-to-citys-east-coast/amp_<mark>article</mark>show/67813079.cms)\n",
       "\n",
       "[abc <mark>news</mark> <mark>article</mark> from 2019... \"flamingos have been migrating in large numbers to mumbai’s eastern seafront, known as the thane creek, since the late 1980s\"](https://abc<mark>news</mark>.go.com/amp/international/indian-conservationists-credit-sewage-runoff-rise-flamingo-populations/story?id=62114919)"
      ],
      "text/plain": [
       "<IPython.core.display.HTML object>"
      ]
     },
     "metadata": {},
     "output_type": "display_data"
    },
    {
     "name": "stdout",
     "output_type": "stream",
     "text": [
      "Q: This feels misleading\n",
      "############\n",
      "\n",
      "\n",
      "\n",
      "26 / 6748\n",
      "worldpolitics\n",
      "--------------------\n"
     ]
    },
    {
     "data": {
      "text/html": [
       "<b>'medication i can't live without': lupus patients are struggling to get hydroxychloroquine diverted for <mark>covid</mark>-19</b>"
      ],
      "text/plain": [
       "<IPython.core.display.HTML object>"
      ]
     },
     "metadata": {},
     "output_type": "display_data"
    },
    {
     "name": "stdout",
     "output_type": "stream",
     "text": [
      "URL: https://www.usatoday.com/story/news/health/2020/04/18/hydroxychloroquine-coronavirus-creates-shortage-lupus-drug/5129896002/ \n",
      "Published: 2020-04-18 14:41:36. \n"
     ]
    },
    {
     "data": {
      "text/html": [
       "**<mark>bullshit</mark>!**\n",
       "\n",
       "i just went on goodrx and spot checked several major and small town. it is in stock everywhere. \n",
       "\n",
       "* in addition, trump ordered **80 million doses** for the federal stockpile many weeks ago before anyone knew what it was, based on anticipated demand. \n",
       "\n",
       "* most every state has ordered and received hundreds of thousands of doses based on anticipated demand.\n",
       "\n",
       "* india just shipped another **80 million** based on anticipated demand.\n",
       "\n",
       "lupus patients and those with autoimmune disease have **always** had a ample supply. the numbers of patients needing this for the above has not increased.\n",
       "\n",
       "*why do you think the us, and dozens of other countries  are stockpiling this globally??!!*\n",
       "\n",
       "people are still getting their needed medications, it's just being rationed at 30-days.  why? because it is in great demand! why?! **because it works.**\n",
       "\n",
       "if it didn't work, it would not be in demand globally.\n",
       "\n",
       "with 100's of millions of doses having been stockpiled, **more than ever stockpiled before in history**...  why is usa today claiming that it is in short supply?\n",
       "\n",
       "orange man bad.  that's why.\n",
       "\n",
       "you are being lied to by the media. consider the <mark>source</mark> before you draw a conclusion."
      ],
      "text/plain": [
       "<IPython.core.display.HTML object>"
      ]
     },
     "metadata": {},
     "output_type": "display_data"
    },
    {
     "name": "stdout",
     "output_type": "stream",
     "text": [
      "Q: Bullshit\n",
      "#\n",
      "\n",
      "\n",
      "\n",
      "27 / 6779\n",
      "Coronavirus\n",
      "--------------------\n"
     ]
    },
    {
     "data": {
      "text/html": [
       "<b>antibody study shows <mark>covid</mark>-19 rate of infection may be up to 85 times higher than reported</b>"
      ],
      "text/plain": [
       "<IPython.core.display.HTML object>"
      ]
     },
     "metadata": {},
     "output_type": "display_data"
    },
    {
     "name": "stdout",
     "output_type": "stream",
     "text": [
      "URL: https://www.newsweek.com/covid-19-coronavirus-antibodies-infection-higher-1498740 \n",
      "Published: 2020-04-18 14:36:04. \n"
     ]
    },
    {
     "data": {
      "text/html": [
       "<mark>misleading</mark> <mark>title</mark> is <mark>misleading</mark>."
      ],
      "text/plain": [
       "<IPython.core.display.HTML object>"
      ]
     },
     "metadata": {},
     "output_type": "display_data"
    },
    {
     "name": "stdout",
     "output_type": "stream",
     "text": [
      "Q: title is misleading\n"
     ]
    },
    {
     "data": {
      "text/html": [
       "<mark>misleading</mark> <mark>title</mark>, but knowing the mods they won't take this down unless it's about bashing the ccp."
      ],
      "text/plain": [
       "<IPython.core.display.HTML object>"
      ]
     },
     "metadata": {},
     "output_type": "display_data"
    },
    {
     "name": "stdout",
     "output_type": "stream",
     "text": [
      "Q: misleading title\n",
      "#########\n",
      "\n",
      "\n",
      "\n",
      "29 / 7212\n",
      "Coronavirus\n",
      "--------------------\n"
     ]
    },
    {
     "data": {
      "text/html": [
       "<b>1/3 of blood samples from massachusetts study test positive for <mark>coronav</mark>irus</b>"
      ],
      "text/plain": [
       "<IPython.core.display.HTML object>"
      ]
     },
     "metadata": {},
     "output_type": "display_data"
    },
    {
     "name": "stdout",
     "output_type": "stream",
     "text": [
      "URL: https://www.foxnews.com/science/third-blood-samples-massachusetts-study-coronavirus \n",
      "Published: 2020-04-18 13:29:47. \n"
     ]
    },
    {
     "data": {
      "text/html": [
       "<mark>fake</mark> <mark>news</mark> if it's fox <mark>news</mark>..."
      ],
      "text/plain": [
       "<IPython.core.display.HTML object>"
      ]
     },
     "metadata": {},
     "output_type": "display_data"
    },
    {
     "name": "stdout",
     "output_type": "stream",
     "text": [
      "Q: fake news\n",
      "###############\n",
      "\n",
      "\n",
      "\n",
      "30 / 7960\n",
      "worldnews\n",
      "--------------------\n"
     ]
    },
    {
     "data": {
      "text/html": [
       "<b>currently 'no evidence' that <mark>covid</mark>-19 survivors have immunity, who warns | uk news</b>"
      ],
      "text/plain": [
       "<IPython.core.display.HTML object>"
      ]
     },
     "metadata": {},
     "output_type": "display_data"
    },
    {
     "name": "stdout",
     "output_type": "stream",
     "text": [
      "URL: https://news.sky.com/story/coronavirus-no-evidence-that-covid-19-survivors-have-immunity-who-warns-11975011 \n",
      "Published: 2020-04-18 11:13:12. \n"
     ]
    },
    {
     "data": {
      "text/html": [
       "another piece of bad reporting. the headline is totally <mark>misleading</mark>. the who said that not enough people have antibodies for herd immunity and that a positive serotest isn't proof that somebody is immune. that is largely because a positive serotest isn't even proof you have ever had the disease, but also because the presence of antibodies alone isn't the only mechanism that makes you immune.\n",
       "\n",
       "they did not say that recovered patients wouldn't be immune. the effectiveness of covid-19 immunity is still subject to research, but it appears likely that patients do become immune."
      ],
      "text/plain": [
       "<IPython.core.display.HTML object>"
      ]
     },
     "metadata": {},
     "output_type": "display_data"
    },
    {
     "name": "stdout",
     "output_type": "stream",
     "text": [
      "Q: headline is misleading\n",
      "########\n",
      "\n",
      "\n",
      "\n",
      "31 / 8387\n",
      "Coronavirus\n",
      "--------------------\n"
     ]
    },
    {
     "data": {
      "text/html": [
       "<b>[spanish] spanish government hides +10.000 deceased, highly probable <mark>coronav</mark>irus cases, from official statistics</b>"
      ],
      "text/plain": [
       "<IPython.core.display.HTML object>"
      ]
     },
     "metadata": {},
     "output_type": "display_data"
    },
    {
     "name": "stdout",
     "output_type": "stream",
     "text": [
      "URL: https://www.elespanol.com/reportajes/20200417/muertos-no-contabilizados-quedan-aflorar-espana-comunidades/482953155_0.html \n",
      "Published: 2020-04-18 08:14:21. \n"
     ]
    },
    {
     "data": {
      "text/html": [
       "what a <mark>misleading</mark> <mark>title</mark>.  nothing is being hidden, it's been widely reported."
      ],
      "text/plain": [
       "<IPython.core.display.HTML object>"
      ]
     },
     "metadata": {},
     "output_type": "display_data"
    },
    {
     "name": "stdout",
     "output_type": "stream",
     "text": [
      "Q: misleading title\n",
      "#######\n",
      "\n",
      "\n",
      "\n",
      "32 / 8734\n",
      "Coronavirus\n",
      "--------------------\n"
     ]
    },
    {
     "data": {
      "text/html": [
       "<b>cnn : \"<mark>covid</mark>-19 likely to have originated from united states\" - who declares</b>"
      ],
      "text/plain": [
       "<IPython.core.display.HTML object>"
      ]
     },
     "metadata": {},
     "output_type": "display_data"
    },
    {
     "name": "stdout",
     "output_type": "stream",
     "text": [
      "URL: https://www.cnn.com/2020/04/17/us/jacksonville-florida-beach-reopen/index.html?super \n",
      "Published: 2020-04-18 05:30:16. \n"
     ]
    },
    {
     "data": {
      "text/html": [
       "this <mark>article</mark> is about florida and their beach situation- not about who saying anything about the origin of covid-19. this is a horrifically <mark>misleading</mark> post <mark>title</mark> my dude"
      ],
      "text/plain": [
       "<IPython.core.display.HTML object>"
      ]
     },
     "metadata": {},
     "output_type": "display_data"
    },
    {
     "name": "stdout",
     "output_type": "stream",
     "text": [
      "Q: This is misleading title\n",
      "##\n",
      "\n",
      "\n",
      "\n",
      "33 / 8839\n",
      "worldnews\n",
      "--------------------\n"
     ]
    },
    {
     "data": {
      "text/html": [
       "<b>close to a hundred convicted criminals have been released from norway's prisons to reduce crowding and help prison authorities reduce the spread of <mark>coronav</mark>irus, according to the norwegian correctional service.</b>"
      ],
      "text/plain": [
       "<IPython.core.display.HTML object>"
      ]
     },
     "metadata": {},
     "output_type": "display_data"
    },
    {
     "name": "stdout",
     "output_type": "stream",
     "text": [
      "URL: https://www.thelocal.no/20200417/norway-is-letting-prison-inmates-serve-their-sentences-at-home \n",
      "Published: 2020-04-18 04:46:16. \n"
     ]
    },
    {
     "data": {
      "text/html": [
       "<mark>title</mark> is <mark>misleading</mark>. i applaud this movement."
      ],
      "text/plain": [
       "<IPython.core.display.HTML object>"
      ]
     },
     "metadata": {},
     "output_type": "display_data"
    },
    {
     "name": "stdout",
     "output_type": "stream",
     "text": [
      "Q: Title is misleading\n",
      "#######\n",
      "\n",
      "\n",
      "\n",
      "34 / 9182\n",
      "politics\n",
      "--------------------\n"
     ]
    },
    {
     "data": {
      "text/html": [
       "<b>let’s be honest. impeachment hurt trump’s response to <mark>coronav</mark>irus.</b>"
      ],
      "text/plain": [
       "<IPython.core.display.HTML object>"
      ]
     },
     "metadata": {},
     "output_type": "display_data"
    },
    {
     "name": "stdout",
     "output_type": "stream",
     "text": [
      "URL: https://www.washingtonpost.com/opinions/2020/03/23/lets-be-honest-impeachment-hurt-trumps-response-coronavirus/ \n",
      "Published: 2020-04-18 03:46:56. \n"
     ]
    },
    {
     "data": {
      "text/html": [
       "let's be honest. this <mark>article</mark> is total <mark>bullshit</mark>."
      ],
      "text/plain": [
       "<IPython.core.display.HTML object>"
      ]
     },
     "metadata": {},
     "output_type": "display_data"
    },
    {
     "name": "stdout",
     "output_type": "stream",
     "text": [
      "Q: article is bullshit\n",
      "#\n",
      "\n",
      "\n",
      "\n",
      "35 / 9202\n",
      "Coronavirus\n",
      "--------------------\n"
     ]
    },
    {
     "data": {
      "text/html": [
       "<b><mark>coronav</mark>irus: heavy use of hand sanitisers could boost antimicrobial resistance</b>"
      ],
      "text/plain": [
       "<IPython.core.display.HTML object>"
      ]
     },
     "metadata": {},
     "output_type": "display_data"
    },
    {
     "name": "stdout",
     "output_type": "stream",
     "text": [
      "URL: https://theconversation.com/coronavirus-heavy-use-of-hand-sanitisers-could-boost-antimicrobial-resistance-136541 \n",
      "Published: 2020-04-18 03:38:55. \n"
     ]
    },
    {
     "data": {
      "text/html": [
       "<mark>bullshit</mark>. antiobiotics and alcohol based hand sanitizers are not the same. microbes evolving to resist alcohol cleaning products would be the same as humans evolving to resist flamethrowers."
      ],
      "text/plain": [
       "<IPython.core.display.HTML object>"
      ]
     },
     "metadata": {},
     "output_type": "display_data"
    },
    {
     "name": "stdout",
     "output_type": "stream",
     "text": [
      "Q: Bullshit\n",
      "############################\n",
      "\n",
      "\n",
      "\n",
      "36 / 10645\n",
      "Coronavirus\n",
      "--------------------\n"
     ]
    },
    {
     "data": {
      "text/html": [
       "<b>malaria drugs fail to help <mark>coronav</mark>irus patients in controlled studies</b>"
      ],
      "text/plain": [
       "<IPython.core.display.HTML object>"
      ]
     },
     "metadata": {},
     "output_type": "display_data"
    },
    {
     "name": "stdout",
     "output_type": "stream",
     "text": [
      "URL: https://www.latimes.com/science/story/2020-04-17/malaria-drugs-fails-to-help-coronavirus-patients-in-controlled-studies \n",
      "Published: 2020-04-17 23:06:22. \n"
     ]
    },
    {
     "data": {
      "text/html": [
       "<mark>bullshit</mark>! our president knows that this, and this alone, is the complete cure for covid19. none of that social distancing <mark>bullshit</mark>! if i want to to out, i'll go out. not before popping a few hydroclorinolilolin pills first, tho. /s"
      ],
      "text/plain": [
       "<IPython.core.display.HTML object>"
      ]
     },
     "metadata": {},
     "output_type": "display_data"
    },
    {
     "name": "stdout",
     "output_type": "stream",
     "text": [
      "Q: Bullshit\n",
      "#\n",
      "\n",
      "\n",
      "\n",
      "37 / 10671\n",
      "Coronavirus\n",
      "--------------------\n"
     ]
    },
    {
     "data": {
      "text/html": [
       "<b>test and trace: lessons from hong kong on avoiding a <mark>coronav</mark>irus lockdown</b>"
      ],
      "text/plain": [
       "<IPython.core.display.HTML object>"
      ]
     },
     "metadata": {},
     "output_type": "display_data"
    },
    {
     "name": "stdout",
     "output_type": "stream",
     "text": [
      "URL: https://www.theguardian.com/world/2020/apr/17/test-trace-lessons-hong-kong-avoiding-coronavirus-lockdown \n",
      "Published: 2020-04-17 23:05:18. \n"
     ]
    },
    {
     "data": {
      "text/html": [
       "'semi-autonomous city followed who advice and moved swiftly to stem contagion without rigid curbs on movement'\n",
       "\n",
       "'followed who advice'\n",
       "\n",
       "<mark>fake</mark> <mark>news</mark>\n",
       "\n",
       "next"
      ],
      "text/plain": [
       "<IPython.core.display.HTML object>"
      ]
     },
     "metadata": {},
     "output_type": "display_data"
    },
    {
     "name": "stdout",
     "output_type": "stream",
     "text": [
      "Q: fake news\n",
      "########\n",
      "\n",
      "\n",
      "\n",
      "38 / 11096\n",
      "politics\n",
      "--------------------\n"
     ]
    },
    {
     "data": {
      "text/html": [
       "<b>osha flooded with thousands of worker complaints accusing employers of violating <mark>covid</mark>-19 guidelines — \"powerful evidence that workers across the country are terrified and frustrated that their employers are not providing them with safe workplace.\"</b>"
      ],
      "text/plain": [
       "<IPython.core.display.HTML object>"
      ]
     },
     "metadata": {},
     "output_type": "display_data"
    },
    {
     "name": "stdout",
     "output_type": "stream",
     "text": [
      "URL: https://www.commondreams.org/news/2020/04/16/osha-flooded-thousands-worker-complaints-accusing-employers-violating-covid-19 \n",
      "Published: 2020-04-17 22:04:18. \n"
     ]
    },
    {
     "data": {
      "text/html": [
       "i work for a major heating air solar plumbing and electrical company. i am a customer service rep and a dispatcher. i work in an office with 13 other people. the service technicians come through the office often to talk to their supervisors and pick up parts. and people from headquarters which is about a 10-minute drive from our office come back and forth all day to do different things. no one in the office has has been offered or is wearing gloves or masks and we kind of can't wear masks because the customers can't hear us through the muffle it creates on the phone. one of the people from headquarters came through yesterday and said that she was tested twice at the office with a 99 point something degree fever. she wasn't sent home when she wasn't wearing a mask or gloves. they say that our job can't be done from home, yet they give us a phone and a laptop to take home with us for after-hour calls and about half my office works from home on fridays. it's an absolute <mark>falsehood</mark> that we could not log in from home and be doing this from home. i really don't know why they won't let us do that."
      ],
      "text/plain": [
       "<IPython.core.display.HTML object>"
      ]
     },
     "metadata": {},
     "output_type": "display_data"
    },
    {
     "name": "stdout",
     "output_type": "stream",
     "text": [
      "Q: It 's falsehood\n",
      "#\n",
      "\n",
      "\n",
      "\n",
      "39 / 11136\n",
      "Coronavirus\n",
      "--------------------\n"
     ]
    },
    {
     "data": {
      "text/html": [
       "<b><mark>coronav</mark>irus antibody testing finds bay area infections may be 85 times higher than reported</b>"
      ],
      "text/plain": [
       "<IPython.core.display.HTML object>"
      ]
     },
     "metadata": {},
     "output_type": "display_data"
    },
    {
     "name": "stdout",
     "output_type": "stream",
     "text": [
      "URL: https://www.foxnews.com/health/coronavirus-antibody-testing-finds-bay-area-infections-85-times-higher-reported-researchers \n",
      "Published: 2020-04-17 21:52:37. \n"
     ]
    },
    {
     "data": {
      "text/html": [
       "slightly <mark>misleading</mark> <mark>title</mark>. they are basing this off the santa clara data. that study alone has its own flaws due to how it collected its participants."
      ],
      "text/plain": [
       "<IPython.core.display.HTML object>"
      ]
     },
     "metadata": {},
     "output_type": "display_data"
    },
    {
     "name": "stdout",
     "output_type": "stream",
     "text": [
      "Q: misleading title\n",
      "###\n",
      "\n",
      "\n",
      "\n",
      "40 / 11265\n",
      "politics\n",
      "--------------------\n"
     ]
    },
    {
     "data": {
      "text/html": [
       "<b>discussion thread: white house <mark>coronav</mark>irus task force briefing – 04/17/2020 | live - 6:00pm edt</b>"
      ],
      "text/plain": [
       "<IPython.core.display.HTML object>"
      ]
     },
     "metadata": {},
     "output_type": "display_data"
    },
    {
     "name": "stdout",
     "output_type": "stream",
     "text": [
      "URL: https://www.reddit.com/r/politics/comments/g3b83n/discussion_thread_white_house_coronavirus_task/ \n",
      "Published: 2020-04-17 21:45:06. \n"
     ]
    },
    {
     "data": {
      "text/html": [
       "2nd amendment <mark>bullshit</mark> during a pandemic.  what a fucking disgrace this sack of shit is."
      ],
      "text/plain": [
       "<IPython.core.display.HTML object>"
      ]
     },
     "metadata": {},
     "output_type": "display_data"
    },
    {
     "name": "stdout",
     "output_type": "stream",
     "text": [
      "Q: bullshit\n",
      "##########\n",
      "\n",
      "\n",
      "\n",
      "41 / 11756\n",
      "Coronavirus\n",
      "--------------------\n"
     ]
    },
    {
     "data": {
      "text/html": [
       "<b>who unsure antibodies protect against <mark>covid</mark>, little sign of herd immunity</b>"
      ],
      "text/plain": [
       "<IPython.core.display.HTML object>"
      ]
     },
     "metadata": {},
     "output_type": "display_data"
    },
    {
     "name": "stdout",
     "output_type": "stream",
     "text": [
      "URL: https://www.reuters.com/article/us-health-coronavirus-immunity-idUSKBN21Z2XM?taid=5e9a1213bea27e00015df08b&utm_campaign=trueAnthem%3A+Trending+Content&utm_medium=trueAnthem&utm_source=twitter \n",
      "Published: 2020-04-17 21:36:08. \n"
     ]
    },
    {
     "data": {
      "text/html": [
       "<mark>bullshit</mark>. just like they said \"there is no human to human transmission\" and other bollocks. fuck who"
      ],
      "text/plain": [
       "<IPython.core.display.HTML object>"
      ]
     },
     "metadata": {},
     "output_type": "display_data"
    },
    {
     "name": "stdout",
     "output_type": "stream",
     "text": [
      "Q: Bullshit\n",
      "#############\n",
      "\n",
      "\n",
      "\n",
      "42 / 12442\n",
      "europe\n",
      "--------------------\n"
     ]
    },
    {
     "data": {
      "text/html": [
       "<b>the global dimension of <mark>covid</mark>-19 in italy</b>"
      ],
      "text/plain": [
       "<IPython.core.display.HTML object>"
      ]
     },
     "metadata": {},
     "output_type": "display_data"
    },
    {
     "name": "stdout",
     "output_type": "stream",
     "text": [
      "URL: https://i.redd.it/ep7jkqp4pft41.jpg \n",
      "Published: 2020-04-17 20:01:45. \n"
     ]
    },
    {
     "data": {
      "text/html": [
       "ye sounds like <mark>bullshit</mark> to me. nobody likes china, really really nobody, not the left, not the right, not the elderly, nobody\n",
       "\n",
       "like i've never met in my life somebody that would think \"china is an allied country\"\n",
       "\n",
       "edit: and most of the people i know would answer france as the main allied nation. who the hell likes russia?? **<mark>bullshit</mark>**"
      ],
      "text/plain": [
       "<IPython.core.display.HTML object>"
      ]
     },
     "metadata": {},
     "output_type": "display_data"
    },
    {
     "name": "stdout",
     "output_type": "stream",
     "text": [
      "Q: sounds like bullshit\n",
      "Q: bullshit\n",
      "###\n",
      "\n",
      "\n",
      "\n",
      "44 / 12552\n",
      "Coronavirus\n",
      "--------------------\n"
     ]
    },
    {
     "data": {
      "text/html": [
       "<b>florida to open beaches tonight despite rising <mark>coronav</mark>irus infection rates</b>"
      ],
      "text/plain": [
       "<IPython.core.display.HTML object>"
      ]
     },
     "metadata": {},
     "output_type": "display_data"
    },
    {
     "name": "stdout",
     "output_type": "stream",
     "text": [
      "URL: https://www.independent.co.uk/news/world/americas/coronavirus-florida-beaches-open-trump-covid-19-a9471491.html \n",
      "Published: 2020-04-17 19:50:55. \n"
     ]
    },
    {
     "data": {
      "text/html": [
       "this <mark>title</mark> is so <mark>misleading</mark>. it’s just jacksonville."
      ],
      "text/plain": [
       "<IPython.core.display.HTML object>"
      ]
     },
     "metadata": {},
     "output_type": "display_data"
    },
    {
     "name": "stdout",
     "output_type": "stream",
     "text": [
      "Q: title is misleading\n",
      "##\n",
      "\n",
      "\n",
      "\n",
      "45 / 12692\n",
      "Coronavirus\n",
      "--------------------\n"
     ]
    },
    {
     "data": {
      "text/html": [
       "<b>italy's <mark>coronav</mark>irus deaths edge higher, new lockdown approach urged</b>"
      ],
      "text/plain": [
       "<IPython.core.display.HTML object>"
      ]
     },
     "metadata": {},
     "output_type": "display_data"
    },
    {
     "name": "stdout",
     "output_type": "stream",
     "text": [
      "URL: https://www.reuters.com/article/us-health-coronavirus-italy-tally/italys-coronavirus-deaths-edge-higher-new-lockdown-approach-urged-idUSKBN21Z2OD?feedType=RSS&feedName=worldNews&utm_source=feedburner&utm_medium=feed&utm_campaign=Feed%3A+Reuters%2FworldNews+%28Reuters+World+News%29 \n",
      "Published: 2020-04-17 19:33:20. \n"
     ]
    },
    {
     "data": {
      "text/html": [
       "the <mark>title</mark> of the <mark>article</mark> is <mark>misleading</mark>. my takeaway from the <mark>article</mark> is that new infections are down and that is why they are considering opening things up further."
      ],
      "text/plain": [
       "<IPython.core.display.HTML object>"
      ]
     },
     "metadata": {},
     "output_type": "display_data"
    },
    {
     "name": "stdout",
     "output_type": "stream",
     "text": [
      "Q: title is misleading\n",
      "####\n",
      "\n",
      "\n",
      "\n",
      "46 / 12885\n",
      "Coronavirus\n",
      "--------------------\n"
     ]
    },
    {
     "data": {
      "text/html": [
       "<b>who says china revised <mark>coronav</mark>irus infection data to ‘leave no case undocumented’</b>"
      ],
      "text/plain": [
       "<IPython.core.display.HTML object>"
      ]
     },
     "metadata": {},
     "output_type": "display_data"
    },
    {
     "name": "stdout",
     "output_type": "stream",
     "text": [
      "URL: https://www.cnbc.com/2020/04/17/who-says-china-revised-coronavirus-infection-data-to-leave-no-case-undocumented.html \n",
      "Published: 2020-04-17 19:12:31. \n"
     ]
    },
    {
     "data": {
      "text/html": [
       "<mark>bullshit</mark>."
      ],
      "text/plain": [
       "<IPython.core.display.HTML object>"
      ]
     },
     "metadata": {},
     "output_type": "display_data"
    },
    {
     "name": "stdout",
     "output_type": "stream",
     "text": [
      "Q: Bullshit\n",
      "############\n",
      "\n",
      "\n",
      "\n",
      "47 / 13454\n",
      "politics\n",
      "--------------------\n"
     ]
    },
    {
     "data": {
      "text/html": [
       "<b>michigan governor considers extending <mark>coronav</mark>irus restrictions because of protesters</b>"
      ],
      "text/plain": [
       "<IPython.core.display.HTML object>"
      ]
     },
     "metadata": {},
     "output_type": "display_data"
    },
    {
     "name": "stdout",
     "output_type": "stream",
     "text": [
      "URL: https://www.washingtonexaminer.com/news/michigan-governor-considers-extending-coronavirus-restrictions-because-of-protesters \n",
      "Published: 2020-04-17 17:51:14. \n"
     ]
    },
    {
     "data": {
      "text/html": [
       "the we <mark>article</mark> is <mark>bullshit</mark>. she is considering a plan to start rolling restrictions back on 5/1:\n",
       "\n",
       "&#x200b;\n",
       "\n",
       "[https://www.reuters.com/<mark>article</mark>/us-health-coronavirus-usa-michigan/michigan-governor-whitmer-aims-to-begin-reopening-state-economy-on-may-1-iduskbn21z2f6?il=0](https://www.reuters.com/<mark>article</mark>/us-health-coronavirus-usa-michigan/michigan-governor-whitmer-aims-to-begin-reopening-state-economy-on-may-1-iduskbn21z2f6?il=0)"
      ],
      "text/plain": [
       "<IPython.core.display.HTML object>"
      ]
     },
     "metadata": {},
     "output_type": "display_data"
    },
    {
     "name": "stdout",
     "output_type": "stream",
     "text": [
      "Q: article is bullshit\n",
      "#######\n",
      "\n",
      "\n",
      "\n",
      "48 / 13820\n",
      "worldnews\n",
      "--------------------\n"
     ]
    },
    {
     "data": {
      "text/html": [
       "<b>after encouraging people to 'hurry to church,' ukraine monastery becomes <mark>coronav</mark>irus hotspot</b>"
      ],
      "text/plain": [
       "<IPython.core.display.HTML object>"
      ]
     },
     "metadata": {},
     "output_type": "display_data"
    },
    {
     "name": "stdout",
     "output_type": "stream",
     "text": [
      "URL: https://thehill.com/homenews/news/493312-after-encouraging-people-to-hurry-to-church-ukraine-monastery-becomes \n",
      "Published: 2020-04-17 17:12:11. \n"
     ]
    },
    {
     "data": {
      "text/html": [
       "more religious <mark>bullshit</mark>!\n",
       "when will they learn?"
      ],
      "text/plain": [
       "<IPython.core.display.HTML object>"
      ]
     },
     "metadata": {},
     "output_type": "display_data"
    },
    {
     "name": "stdout",
     "output_type": "stream",
     "text": [
      "Q: bullshit\n",
      "###\n",
      "\n",
      "\n",
      "\n",
      "49 / 13977\n",
      "Coronavirus\n",
      "--------------------\n"
     ]
    },
    {
     "data": {
      "text/html": [
       "<b>a sudden rise in <mark>coronav</mark>irus cases is hitting rural states without stay-at-home orders</b>"
      ],
      "text/plain": [
       "<IPython.core.display.HTML object>"
      ]
     },
     "metadata": {},
     "output_type": "display_data"
    },
    {
     "name": "stdout",
     "output_type": "stream",
     "text": [
      "URL: https://www.cnn.com/2020/04/17/politics/republican-governors-stay-at-home-coronavirus/index.html \n",
      "Published: 2020-04-17 17:00:01. \n"
     ]
    },
    {
     "data": {
      "text/html": [
       "<mark>fake</mark> <mark>news</mark>. need to watch the only real <mark>source</mark> for truth: fox <mark>news</mark>.\n",
       "\n",
       "/s"
      ],
      "text/plain": [
       "<IPython.core.display.HTML object>"
      ]
     },
     "metadata": {},
     "output_type": "display_data"
    },
    {
     "name": "stdout",
     "output_type": "stream",
     "text": [
      "Q: fake news\n",
      "###############\n",
      "\n",
      "\n",
      "\n",
      "50 / 14734\n",
      "Coronavirus\n",
      "--------------------\n"
     ]
    },
    {
     "data": {
      "text/html": [
       "<b>dr. phil panned on twitter for fox news <mark>coronav</mark>irus hit</b>"
      ],
      "text/plain": [
       "<IPython.core.display.HTML object>"
      ]
     },
     "metadata": {},
     "output_type": "display_data"
    },
    {
     "name": "stdout",
     "output_type": "stream",
     "text": [
      "URL: https://www.mediaite.com/online/infectious-disease-hobbyist-dr-phil-destroyed-for-wild-coronavirus-appearance-on-fox-news/ \n",
      "Published: 2020-04-17 15:44:05. \n"
     ]
    },
    {
     "data": {
      "text/html": [
       "<mark>fake</mark> <mark>news</mark>. his account  is still active."
      ],
      "text/plain": [
       "<IPython.core.display.HTML object>"
      ]
     },
     "metadata": {},
     "output_type": "display_data"
    },
    {
     "name": "stdout",
     "output_type": "stream",
     "text": [
      "Q: fake news\n",
      "###########\n",
      "\n",
      "\n",
      "\n",
      "51 / 15259\n",
      "Coronavirus\n",
      "--------------------\n"
     ]
    },
    {
     "data": {
      "text/html": [
       "<b>fox news defends its <mark>covid</mark> lies, saying first amendment protects “false” speech</b>"
      ],
      "text/plain": [
       "<IPython.core.display.HTML object>"
      ]
     },
     "metadata": {},
     "output_type": "display_data"
    },
    {
     "name": "stdout",
     "output_type": "stream",
     "text": [
      "URL: https://truthout.org/articles/fox-news-defends-its-covid-lies/ \n",
      "Published: 2020-04-17 14:50:22. \n"
     ]
    },
    {
     "data": {
      "text/html": [
       "<mark>misleading</mark> <mark>title</mark>, which does no good in fighting <mark>misleading</mark> <mark>news</mark> channels.\n",
       "\n",
       "the actual words from fox legal team: *\"...the “first amendment does not permit censoring this type of speech based on the theory that it is ‘<mark>false</mark>’ or ‘outrageous.’ nor does the law of the state of washington.”*\n",
       "\n",
       "at no point did they say \"hey the first amendment lets us say <mark>false</mark> things\", as the <mark>title</mark> implies."
      ],
      "text/plain": [
       "<IPython.core.display.HTML object>"
      ]
     },
     "metadata": {},
     "output_type": "display_data"
    },
    {
     "name": "stdout",
     "output_type": "stream",
     "text": [
      "Q: misleading title\n",
      "##\n",
      "\n",
      "\n",
      "\n",
      "52 / 15378\n",
      "worldnews\n",
      "--------------------\n"
     ]
    },
    {
     "data": {
      "text/html": [
       "<b>australia and new zealand have been able to keep their number of <mark>coronav</mark>irus cases low thanks to early lockdown efforts. experts say it's 'probably too late' for other countries to learn from them.</b>"
      ],
      "text/plain": [
       "<IPython.core.display.HTML object>"
      ]
     },
     "metadata": {},
     "output_type": "display_data"
    },
    {
     "name": "stdout",
     "output_type": "stream",
     "text": [
      "URL: https://www.businessinsider.com/experts-australia-new-zealand-examples-how-to-slow-coronavirus-2020-4 \n",
      "Published: 2020-04-17 14:28:55. \n"
     ]
    },
    {
     "data": {
      "text/html": [
       "<mark>bullshit</mark>. the supposed \"lessons\" about testing, contact tracing, and isolation were \"learned\" over a hundred years ago. failure to implement them - and china did give the rest of the world plenty of time - can only be attributed to political calculation or willful ignorance."
      ],
      "text/plain": [
       "<IPython.core.display.HTML object>"
      ]
     },
     "metadata": {},
     "output_type": "display_data"
    },
    {
     "name": "stdout",
     "output_type": "stream",
     "text": [
      "Q: Bullshit\n",
      "############\n",
      "\n",
      "\n",
      "\n",
      "53 / 15981\n",
      "politics\n",
      "--------------------\n"
     ]
    },
    {
     "data": {
      "text/html": [
       "<b>us <mark>coronav</mark>irus deaths hits record one-day total of 4,591</b>"
      ],
      "text/plain": [
       "<IPython.core.display.HTML object>"
      ]
     },
     "metadata": {},
     "output_type": "display_data"
    },
    {
     "name": "stdout",
     "output_type": "stream",
     "text": [
      "URL: https://thehill.com/homenews/news/493287-reported-us-coronavirus-deaths-hits-record-one-day-total-of-more-than-4500?fbclid=IwAR21aScSMAGv-SE640DF3Wodf4ILfHDigh-_EydajBy1ZfFl6HdEakoKefY&fbclid=IwAR3SO8LKxgN2PP-cH6M3nTjpCzhEKZc--IFmLAhB4-chnpAkSyKEZ-g5rO0 \n",
      "Published: 2020-04-17 12:50:27. \n"
     ]
    },
    {
     "data": {
      "text/html": [
       "this is a little <mark>misleading</mark>, as the cdc now wants both confirmed and suspected cases reported as causes of death... which is the right thing to do here although all the old data now gets skewed artificially low. it's getting better not worse...\n",
       "\n",
       "but, this is still way worse than is being reported. the sensitivity of the cv-19 nasopharyngeal swabs is reportedly as low as 45%. we are testing ventillated people 2-3 times in the icu in some cases because ct imaging, labs, presentation, risk factors etc. all point to covid but the tests are coming back negative... until the 3rd time. now, imagine all the people who never got tested due to triaging the swabs to only hospitalized people and healthcare workers, folks with a fever and cough told not to come to the er until they can't breath, and folks found dead at home with no know cause at a rates reportedly 5x higher than normal in some areas."
      ],
      "text/plain": [
       "<IPython.core.display.HTML object>"
      ]
     },
     "metadata": {},
     "output_type": "display_data"
    },
    {
     "name": "stdout",
     "output_type": "stream",
     "text": [
      "Q: This is misleading\n"
     ]
    },
    {
     "data": {
      "text/html": [
       "i made a video back series back in late march (when there was only ~100 000 cases) so that there would be a record of how the us became the epicentre of the coronavirus to hold those responsible accountable. so that when americans die we would know who did what when and who's incompetence led to the unfortunate death of thousands of americans. \n",
       "\n",
       "video 1 - background <mark>information</mark>, trump and trump administration.\n",
       "\n",
       "* background: [0:00-3:00](https://www.youtube.com/watch?v=epfu4nfehuk&t=0s)\n",
       "\n",
       "* trump administration: [3:05](https://www.youtube.com/watch?v=epfu4nfehuk&list=plwmv_rrtapomcc07vztxr7b6eeqjowszo&index=1&t=185s)\n",
       "* trump: [4:21](https://www.youtube.com/watch?v=epfu4nfehuk&list=plwmv_rrtapomcc07vztxr7b6eeqjowszo&index=1&t=261s)\n",
       "* thought experiment: [5:42](https://www.youtube.com/watch?v=epfu4nfehuk&list=plwmv_rrtapomcc07vztxr7b6eeqjowszo&index=1&t=342s)\n",
       "* trumps views on health: [5:58](https://www.youtube.com/watch?v=epfu4nfehuk&list=plwmv_rrtapomcc07vztxr7b6eeqjowszo&index=1&t=358s)\n",
       "* decline to use who covid-19 tests: [8:03](https://www.youtube.com/watch?v=epfu4nfehuk&list=plwmv_rrtapomcc07vztxr7b6eeqjowszo&index=1&t=483s)\n",
       "* low testing per capita:[ 8:50](https://www.youtube.com/watch?v=epfu4nfehuk&list=plwmv_rrtapomcc07vztxr7b6eeqjowszo&index=1&t=530s)\n",
       "* comparing south korea to usa: [9:58](https://www.youtube.com/watch?v=epfu4nfehuk&list=plwmv_rrtapomcc07vztxr7b6eeqjowszo&index=1&t=598s)\n",
       "\n",
       "video 2: sends medical supplies to china, mike pence, and nepotism.\n",
       "\n",
       "* usa update: [0:10](https://www.youtube.com/watch?v=tg1rdpvkale&list=plwmv_rrtapomcc07vztxr7b6eeqjowszo&index=2&t=10s)\n",
       "* trump raves about ratings: [0:30](https://www.youtube.com/watch?v=tg1rdpvkale&list=plwmv_rrtapomcc07vztxr7b6eeqjowszo&index=2&t=30s)\n",
       "* trump sends medical supplies to china: [0:49](https://www.youtube.com/watch?v=tg1rdpvkale&list=plwmv_rrtapomcc07vztxr7b6eeqjowszo&index=2&t=49s)\n",
       "* trump blames governors: [1:25](https://www.youtube.com/watch?v=tg1rdpvkale&list=plwmv_rrtapomcc07vztxr7b6eeqjowszo&index=2&t=85s)\n",
       "* mike pence: [1:39](https://www.youtube.com/watch?v=tg1rdpvkale&list=plwmv_rrtapomcc07vztxr7b6eeqjowszo&index=2&t=99s)\n",
       "* nepotism involving unqualified personnel: [3:05](https://www.youtube.com/watch?v=tg1rdpvkale&list=plwmv_rrtapomcc07vztxr7b6eeqjowszo&index=2&t=185s)\n",
       "\n",
       "\n",
       "video 3 - <mark>fake</mark> <mark>news</mark> and <mark>misinformation</mark> and inability to take responsibility.\n",
       "\n",
       "* <mark>fake</mark> <mark>news</mark> and <mark>misinformation</mark>: [0:10](https://www.youtube.com/watch?v=jr3xagk2bl8&list=plwmv_rrtapomcc07vztxr7b6eeqjowszo&index=3&t=10s)\n",
       "* inability to take responsibility: [2:29](https://www.youtube.com/watch?v=jr3xagk2bl8&list=plwmv_rrtapomcc07vztxr7b6eeqjowszo&index=3&t=149s)\n",
       "\n",
       "\n",
       "video 4 - healthcare, trumps recreational activities and wrap up.\n",
       "\n",
       "* shout out to dr anthony fauci: [0:09](https://www.youtube.com/watch?v=z_tzkisakhe&list=plwmv_rrtapomcc07vztxr7b6eeqjowszo&index=4&t=9s)\n",
       "* us healthcare system: [0:32](https://www.youtube.com/watch?v=z_tzkisakhe&list=plwmv_rrtapomcc07vztxr7b6eeqjowszo&index=4&t=32s)\n",
       "* uninsured population: [3:05](https://www.youtube.com/watch?v=z_tzkisakhe&list=plwmv_rrtapomcc07vztxr7b6eeqjowszo&index=4&t=185s)\n",
       "* coronavirus treatment costs: [3:27](https://www.youtube.com/watch?v=z_tzkisakhe&list=plwmv_rrtapomcc07vztxr7b6eeqjowszo&index=4&t=207s)\n",
       "* $35 000 for coronavirus treatment: 4:11\n",
       "* most americans have less than $1000 in savings: [4:33](https://www.youtube.com/watch?v=z_tzkisakhe&list=plwmv_rrtapomcc07vztxr7b6eeqjowszo&index=4&t=251s)\n",
       "* unemployment: [5:24](https://www.youtube.com/watch?v=z_tzkisakhe&list=plwmv_rrtapomcc07vztxr7b6eeqjowszo&index=4&t=324s)\n",
       "* mitch mcconnell: [5:57](https://www.youtube.com/watch?v=z_tzkisakhe&list=plwmv_rrtapomcc07vztxr7b6eeqjowszo&index=4&t=357s)\n",
       "* trumps recreational activities: [6:17](https://www.youtube.com/watch?v=z_tzkisakhe&list=plwmv_rrtapomcc07vztxr7b6eeqjowszo&index=4&t=377s)\n",
       "* trump spends 133 million to golf: [6:37](https://www.youtube.com/watch?v=z_tzkisakhe&list=plwmv_rrtapomcc07vztxr7b6eeqjowszo&index=4&t=397s)\n",
       "* wrapping up: [8:27](https://www.youtube.com/watch?v=z_tzkisakhe&list=plwmv_rrtapomcc07vztxr7b6eeqjowszo&index=4&t=507s)"
      ],
      "text/plain": [
       "<IPython.core.display.HTML object>"
      ]
     },
     "metadata": {},
     "output_type": "display_data"
    },
    {
     "name": "stdout",
     "output_type": "stream",
     "text": [
      "Q: fake news\n",
      "Q: fake news\n",
      "############\n",
      "\n",
      "\n",
      "\n",
      "56 / 16594\n",
      "politics\n",
      "--------------------\n"
     ]
    },
    {
     "data": {
      "text/html": [
       "<b>fox news defends its <mark>covid</mark> lies, saying first amendment protects “false” speech</b>"
      ],
      "text/plain": [
       "<IPython.core.display.HTML object>"
      ]
     },
     "metadata": {},
     "output_type": "display_data"
    },
    {
     "name": "stdout",
     "output_type": "stream",
     "text": [
      "URL: https://truthout.org/articles/fox-news-defends-its-covid-lies/ \n",
      "Published: 2020-04-17 10:38:15. \n"
     ]
    },
    {
     "data": {
      "text/html": [
       "it all comes down to wiggle words and phrases, doesn’t it?\n",
       "\n",
       "it’s not <mark>misleading</mark> to say **hoax** things **hoax** that may be **<mark>fake</mark> <mark>news</mark>** misconstrued by **lib plot** gullible viewers, **flu > cv-19** as long as we say something **hoax** at the end of our <mark>infotainment</mark> piece **pwn libs** telling viewers to “take the virus seriously”. \n",
       "\n",
       "got it."
      ],
      "text/plain": [
       "<IPython.core.display.HTML object>"
      ]
     },
     "metadata": {},
     "output_type": "display_data"
    },
    {
     "name": "stdout",
     "output_type": "stream",
     "text": [
      "Q: fake news\n",
      "########\n",
      "\n",
      "\n",
      "\n",
      "57 / 16961\n",
      "europe\n",
      "--------------------\n"
     ]
    },
    {
     "data": {
      "text/html": [
       "<b>fears of eroding democracy in eastern europe as poland's government pushes for a <mark>coronav</mark>irus election</b>"
      ],
      "text/plain": [
       "<IPython.core.display.HTML object>"
      ]
     },
     "metadata": {},
     "output_type": "display_data"
    },
    {
     "name": "stdout",
     "output_type": "stream",
     "text": [
      "URL: https://www.cbsnews.com/news/coronavirus-poland-fears-of-eroding-democracy-in-eastern-europe/ \n",
      "Published: 2020-04-17 09:08:43. \n"
     ]
    },
    {
     "data": {
      "text/html": [
       "> citizens are obliged to use a cell phone app and take \"selfies\" to prove they're adhering to the rules of the national lockdown. \n",
       "\n",
       "<mark>bullshit</mark>. that app is only for checking on people that have been quarantined at home. either the author has no clue what she is talking about or is being extremely dishonest. \n",
       "\n",
       "> according to data compiled by johns hopkins university, poland has confirmed at least 7,771 cases and 292 deaths from the virus. experts say poland's health care system could collapse if things get much worse, given medical supply shortages and years of \"brain drain\" that has seen trained nurses and doctors relocate to western european countries for higher incomes. \n",
       "\n",
       "so maybe all those social restrictions are needed, no? even if they supposedly are \"even more than in many other european countries\"\n",
       "\n",
       "> all that may suggest it's a bad time to try and hold free, fair, democratic elections.\n",
       "\n",
       "with this i agree, the elections should not be happening in may.\n",
       "\n",
       "> \"the political processes that we see are not covid-related.  \n",
       "\n",
       "of course they are. if not for the world pandemic, it would be completely fair and correct to have the elections normally.\n",
       "\n",
       "&#x200b;\n",
       "\n",
       "not so long ago when talking about a 2nd brexit referendum, people kept repeating, \"more votes means more democracy\", i wonder if they still will say that."
      ],
      "text/plain": [
       "<IPython.core.display.HTML object>"
      ]
     },
     "metadata": {},
     "output_type": "display_data"
    },
    {
     "name": "stdout",
     "output_type": "stream",
     "text": [
      "Q: Bullshit\n",
      "##########\n",
      "\n",
      "\n",
      "\n",
      "58 / 17501\n",
      "Coronavirus\n",
      "--------------------\n"
     ]
    },
    {
     "data": {
      "text/html": [
       "<b>dow futures soar 800 points as investors pin hope on gilead <mark>coronav</mark>irus treatment and u.s. reopening</b>"
      ],
      "text/plain": [
       "<IPython.core.display.HTML object>"
      ]
     },
     "metadata": {},
     "output_type": "display_data"
    },
    {
     "name": "stdout",
     "output_type": "stream",
     "text": [
      "URL: https://www.marketwatch.com/story/dow-futures-soar-800-points-as-investors-pin-hope-on-gilead-coronavirus-treatment-and-us-reopening-2020-04-16?mod=home-page \n",
      "Published: 2020-04-17 06:03:29. \n"
     ]
    },
    {
     "data": {
      "text/html": [
       "review of the headlines this week:\n",
       "\n",
       "monday: \"futures retreat as focus turns to corporate earnings.\"\n",
       "\n",
       "tuesday: \"futures rise on china trade data; focus on corporate results.\"\n",
       "\n",
       "wednesday: \"us stock futures down following weak economic data.\"\n",
       "\n",
       "thursday: \"dow futures surge more than 700 points amid hope of coronavirus treatment.\"\n",
       "\n",
       "the best investment advice i can give is never fall for market analysis. it's pretty much <mark>bullshit</mark>. there are many reasons that the market moves up or down. anyone who tells you it's for \"this reason\" or \"that reason\" is lying. no one who is honest can pin down a single cause for unusually high volume in a given sector. the market is a complex and dynamic system."
      ],
      "text/plain": [
       "<IPython.core.display.HTML object>"
      ]
     },
     "metadata": {},
     "output_type": "display_data"
    },
    {
     "name": "stdout",
     "output_type": "stream",
     "text": [
      "Q: It 's bullshit\n",
      "####\n",
      "\n",
      "\n",
      "\n",
      "59 / 17657\n",
      "Coronavirus\n",
      "--------------------\n"
     ]
    },
    {
     "data": {
      "text/html": [
       "<b>updated: gilead takes a hit after a closely-watched <mark>covid</mark>-19 trial of remdesivir is quietly terminated, raising fresh doubts</b>"
      ],
      "text/plain": [
       "<IPython.core.display.HTML object>"
      ]
     },
     "metadata": {},
     "output_type": "display_data"
    },
    {
     "name": "stdout",
     "output_type": "stream",
     "text": [
      "URL: https://endpts.com/gilead-takes-a-hit-after-quietly-terminating-a-closely-watched-covid-19-trial-of-remdesivir/ \n",
      "Published: 2020-04-17 05:10:02. \n"
     ]
    },
    {
     "data": {
      "text/html": [
       "<mark>fake</mark> <mark>news</mark>"
      ],
      "text/plain": [
       "<IPython.core.display.HTML object>"
      ]
     },
     "metadata": {},
     "output_type": "display_data"
    },
    {
     "name": "stdout",
     "output_type": "stream",
     "text": [
      "Q: fake news\n",
      "\n",
      "\n",
      "\n",
      "\n",
      "60 / 17672\n",
      "politics\n",
      "--------------------\n"
     ]
    },
    {
     "data": {
      "text/html": [
       "<b>experts: 90 percent of us <mark>coronav</mark>irus deaths could have been avoided if measures taken just two weeks earlier</b>"
      ],
      "text/plain": [
       "<IPython.core.display.HTML object>"
      ]
     },
     "metadata": {},
     "output_type": "display_data"
    },
    {
     "name": "stdout",
     "output_type": "stream",
     "text": [
      "URL: https://thehill.com/changing-america/well-being/prevention-cures/493128-90-percent-of-coronavirus-deaths-may-have-been \n",
      "Published: 2020-04-17 05:07:36. \n"
     ]
    },
    {
     "data": {
      "text/html": [
       "<mark>bullshit</mark>"
      ],
      "text/plain": [
       "<IPython.core.display.HTML object>"
      ]
     },
     "metadata": {},
     "output_type": "display_data"
    },
    {
     "name": "stdout",
     "output_type": "stream",
     "text": [
      "Q: Bullshit\n",
      "#\n",
      "\n",
      "\n",
      "\n",
      "61 / 17716\n",
      "Coronavirus\n",
      "--------------------\n"
     ]
    },
    {
     "data": {
      "text/html": [
       "<b>report: us warned israel about <mark>covid</mark>-19 in november | the information was also handed over to the white house, 'which did not deem it of interest'</b>"
      ],
      "text/plain": [
       "<IPython.core.display.HTML object>"
      ]
     },
     "metadata": {},
     "output_type": "display_data"
    },
    {
     "name": "stdout",
     "output_type": "stream",
     "text": [
      "URL: https://www.i24news.tv/en/news/israel/1587059866-report-us-warned-israel-about-covid-19-in-november \n",
      "Published: 2020-04-17 04:57:43. \n"
     ]
    },
    {
     "data": {
      "text/html": [
       "utter <mark>bullshit</mark>.\n",
       "\n",
       "it \"battered\" the city in mid-november? when there was only a handful of cases?"
      ],
      "text/plain": [
       "<IPython.core.display.HTML object>"
      ]
     },
     "metadata": {},
     "output_type": "display_data"
    },
    {
     "name": "stdout",
     "output_type": "stream",
     "text": [
      "Q: bullshit\n",
      "#####\n",
      "\n",
      "\n",
      "\n",
      "62 / 17992\n",
      "worldnews\n",
      "--------------------\n"
     ]
    },
    {
     "data": {
      "text/html": [
       "<b>record 4,591 reported u.s. <mark>coronav</mark>irus deaths in 24 hours</b>"
      ],
      "text/plain": [
       "<IPython.core.display.HTML object>"
      ]
     },
     "metadata": {},
     "output_type": "display_data"
    },
    {
     "name": "stdout",
     "output_type": "stream",
     "text": [
      "URL: https://www.marketwatch.com/story/record-4591-reported-us-coronavirus-deaths-in-24-hours-2020-04-16?mod=newsviewer_click \n",
      "Published: 2020-04-17 04:02:44. \n"
     ]
    },
    {
     "data": {
      "text/html": [
       "<mark>false</mark> <mark>title</mark>. please correct."
      ],
      "text/plain": [
       "<IPython.core.display.HTML object>"
      ]
     },
     "metadata": {},
     "output_type": "display_data"
    },
    {
     "name": "stdout",
     "output_type": "stream",
     "text": [
      "Q: false title\n",
      "\n",
      "\n",
      "\n",
      "\n",
      "63 / 18000\n",
      "worldnews\n",
      "--------------------\n"
     ]
    },
    {
     "data": {
      "text/html": [
       "<b>china's wuhan city revises up total <mark>coronav</mark>irus death toll by 1290</b>"
      ],
      "text/plain": [
       "<IPython.core.display.HTML object>"
      ]
     },
     "metadata": {},
     "output_type": "display_data"
    },
    {
     "name": "stdout",
     "output_type": "stream",
     "text": [
      "URL: https://www.theguardian.pe.ca/news/world/chinas-wuhan-city-revises-up-total-coronavirus-death-toll-by-1290-438678/ \n",
      "Published: 2020-04-17 04:01:41. \n"
     ]
    },
    {
     "data": {
      "text/html": [
       "<mark>bullshit</mark> as usual."
      ],
      "text/plain": [
       "<IPython.core.display.HTML object>"
      ]
     },
     "metadata": {},
     "output_type": "display_data"
    },
    {
     "name": "stdout",
     "output_type": "stream",
     "text": [
      "Q: bullshit\n",
      "###\n",
      "\n",
      "\n",
      "\n",
      "64 / 18113\n",
      "Coronavirus\n",
      "--------------------\n"
     ]
    },
    {
     "data": {
      "text/html": [
       "<b>bno newsroom on twitter: breaking: wuhan, where the <mark>coronav</mark>irus <mark>pandemi</mark>c began, revises death toll to 3,869, an increase of 50%</b>"
      ],
      "text/plain": [
       "<IPython.core.display.HTML object>"
      ]
     },
     "metadata": {},
     "output_type": "display_data"
    },
    {
     "name": "stdout",
     "output_type": "stream",
     "text": [
      "URL: https://twitter.com/BNODesk/status/1250985251733753859?s=20 \n",
      "Published: 2020-04-17 03:29:31. \n"
     ]
    },
    {
     "data": {
      "text/html": [
       "the number will always be <mark>fake</mark>, only when it times ten or surpass the us. until then, <mark>fake</mark> <mark>news</mark>."
      ],
      "text/plain": [
       "<IPython.core.display.HTML object>"
      ]
     },
     "metadata": {},
     "output_type": "display_data"
    },
    {
     "name": "stdout",
     "output_type": "stream",
     "text": [
      "Q: fake news\n",
      "####\n",
      "\n",
      "\n",
      "\n",
      "65 / 18328\n",
      "worldnews\n",
      "--------------------\n"
     ]
    },
    {
     "data": {
      "text/html": [
       "<b>everything we know about the wuhan lab that may have unleashed <mark>coronav</mark>irus</b>"
      ],
      "text/plain": [
       "<IPython.core.display.HTML object>"
      ]
     },
     "metadata": {},
     "output_type": "display_data"
    },
    {
     "name": "stdout",
     "output_type": "stream",
     "text": [
      "URL: https://nypost.com/2020/04/16/all-we-know-about-wuhan-lab-that-may-have-unleashed-covid-19/ \n",
      "Published: 2020-04-17 02:52:52. \n"
     ]
    },
    {
     "data": {
      "text/html": [
       "<mark>bullshit</mark>. it's of course natural virus. /s"
      ],
      "text/plain": [
       "<IPython.core.display.HTML object>"
      ]
     },
     "metadata": {},
     "output_type": "display_data"
    },
    {
     "name": "stdout",
     "output_type": "stream",
     "text": [
      "Q: Bullshit\n",
      "#######\n",
      "\n",
      "\n",
      "\n",
      "66 / 18661\n",
      "Coronavirus\n",
      "--------------------\n"
     ]
    },
    {
     "data": {
      "text/html": [
       "<b><mark>coronav</mark>irus: elon musk says ventilators have made it to california hospitals</b>"
      ],
      "text/plain": [
       "<IPython.core.display.HTML object>"
      ]
     },
     "metadata": {},
     "output_type": "display_data"
    },
    {
     "name": "stdout",
     "output_type": "stream",
     "text": [
      "URL: https://www.mercurynews.com/coronavirus-elon-musk-says-ventilators-have-made-it-to-california-hospitals \n",
      "Published: 2020-04-17 02:07:36. \n"
     ]
    },
    {
     "data": {
      "text/html": [
       "huh, so it was <mark>fake</mark> <mark>news</mark>?"
      ],
      "text/plain": [
       "<IPython.core.display.HTML object>"
      ]
     },
     "metadata": {},
     "output_type": "display_data"
    },
    {
     "name": "stdout",
     "output_type": "stream",
     "text": [
      "Q: it was fake news\n",
      "####\n",
      "\n",
      "\n",
      "\n",
      "67 / 18880\n",
      "politics\n",
      "--------------------\n"
     ]
    },
    {
     "data": {
      "text/html": [
       "<b>report: us warned israel about <mark>covid</mark>-19 in november | the information was also handed over to the white house, 'which did not deem it of interest</b>"
      ],
      "text/plain": [
       "<IPython.core.display.HTML object>"
      ]
     },
     "metadata": {},
     "output_type": "display_data"
    },
    {
     "name": "stdout",
     "output_type": "stream",
     "text": [
      "URL: https://www.i24news.tv/en/news/israel/1587059866-report-us-warned-israel-about-covid-19-in-november \n",
      "Published: 2020-04-17 01:29:09. \n"
     ]
    },
    {
     "data": {
      "text/html": [
       "this is <mark>disinformation</mark>\n",
       "\n",
       "https://en.wikipedia.org/wiki/timeline_of_the_2019%e2%80%9320_coronavirus_pandemic_from_november_2019_to_january_2020\n",
       "\n",
       ">the earliest traceable and confirmed patient, the 55-year-old man started experiencing symptoms on 1 december 2019."
      ],
      "text/plain": [
       "<IPython.core.display.HTML object>"
      ]
     },
     "metadata": {},
     "output_type": "display_data"
    },
    {
     "name": "stdout",
     "output_type": "stream",
     "text": [
      "Q: this is disinformation\n",
      "##########\n",
      "\n",
      "\n",
      "\n",
      "68 / 19388\n",
      "politics\n",
      "--------------------\n"
     ]
    },
    {
     "data": {
      "text/html": [
       "<b>trump unveils three-phase plan for states to reopen amid <mark>coronav</mark>irus <mark>pandemi</mark>c</b>"
      ],
      "text/plain": [
       "<IPython.core.display.HTML object>"
      ]
     },
     "metadata": {},
     "output_type": "display_data"
    },
    {
     "name": "stdout",
     "output_type": "stream",
     "text": [
      "URL: https://www.nbcnews.com/politics/donald-trump/trump-announce-guidelines-reopening-u-s-amid-coronavirus-pandemic-n1185666 \n",
      "Published: 2020-04-16 23:56:24. \n"
     ]
    },
    {
     "data": {
      "text/html": [
       ">a \"downward trajectory of positive tests as a percent of total tests within a 14-day period (flat or increasing volume of tests)\"\n",
       "\n",
       "ahh yes the mythical test. such fucking <mark>bullshit</mark>."
      ],
      "text/plain": [
       "<IPython.core.display.HTML object>"
      ]
     },
     "metadata": {},
     "output_type": "display_data"
    },
    {
     "name": "stdout",
     "output_type": "stream",
     "text": [
      "Q: bullshit\n",
      "###\n",
      "\n",
      "\n",
      "\n",
      "69 / 19543\n",
      "Coronavirus\n",
      "--------------------\n"
     ]
    },
    {
     "data": {
      "text/html": [
       "<b>drinking alcohol may increase risk of getting <mark>coronav</mark>irus, world health organization says</b>"
      ],
      "text/plain": [
       "<IPython.core.display.HTML object>"
      ]
     },
     "metadata": {},
     "output_type": "display_data"
    },
    {
     "name": "stdout",
     "output_type": "stream",
     "text": [
      "URL: https://www.mlive.com/coronavirus/2020/04/drinking-alcohol-may-increase-risk-of-getting-coronavirus-world-health-organization-says.html \n",
      "Published: 2020-04-16 23:41:54. \n"
     ]
    },
    {
     "data": {
      "text/html": [
       "<mark>bullshit</mark>! it’s the only thing getting me through this"
      ],
      "text/plain": [
       "<IPython.core.display.HTML object>"
      ]
     },
     "metadata": {},
     "output_type": "display_data"
    },
    {
     "name": "stdout",
     "output_type": "stream",
     "text": [
      "Q: Bullshit\n",
      "#######\n",
      "\n",
      "\n",
      "\n",
      "70 / 19894\n",
      "politics\n",
      "--------------------\n"
     ]
    },
    {
     "data": {
      "text/html": [
       "<b>propaganda in the <mark>coronav</mark>irus era</b>"
      ],
      "text/plain": [
       "<IPython.core.display.HTML object>"
      ]
     },
     "metadata": {},
     "output_type": "display_data"
    },
    {
     "name": "stdout",
     "output_type": "stream",
     "text": [
      "URL: https://thehill.com/opinion/white-house/493242-propaganda-in-the-coronavirus-era \n",
      "Published: 2020-04-16 23:04:28. \n"
     ]
    },
    {
     "data": {
      "text/html": [
       "straight from the horses mouth...\n",
       "\n",
       "the trump administration is trying to paint covid-19 as no worse than the flu *once again*\n",
       "\n",
       "[in what fucking world does florida have \"minimal\" cases](https://imgur.com/a/uhyopuw)\n",
       "\n",
       "this is <mark>misinformation</mark> in real time as it shows only **flu** symptoms and not covid-19 cases"
      ],
      "text/plain": [
       "<IPython.core.display.HTML object>"
      ]
     },
     "metadata": {},
     "output_type": "display_data"
    },
    {
     "name": "stdout",
     "output_type": "stream",
     "text": [
      "Q: This is misinformation\n",
      "#\n",
      "\n",
      "\n",
      "\n",
      "71 / 19921\n",
      "politics\n",
      "--------------------\n"
     ]
    },
    {
     "data": {
      "text/html": [
       "<b>trump unveils 'opening up america’ plan that punts <mark>coronav</mark>irus recovery to governors despite ‘total authority’ vow</b>"
      ],
      "text/plain": [
       "<IPython.core.display.HTML object>"
      ]
     },
     "metadata": {},
     "output_type": "display_data"
    },
    {
     "name": "stdout",
     "output_type": "stream",
     "text": [
      "URL: https://www.nydailynews.com/coronavirus/ny-coronavirus-trump-opening-governors-20200416-edm6adob4ndopfm6ofgp6nrute-story.html \n",
      "Published: 2020-04-16 22:58:08. \n"
     ]
    },
    {
     "data": {
      "text/html": [
       "the trump administration is trying to paint covid-19 as no worse than the flu *once again*\n",
       "\n",
       "[in what fucking world does florida have \"minimal\" cases](https://imgur.com/a/uhyopuw)\n",
       "\n",
       "this is <mark>misinformation</mark> in real time as it shows only **flu** symptoms and not covid-19 cases"
      ],
      "text/plain": [
       "<IPython.core.display.HTML object>"
      ]
     },
     "metadata": {},
     "output_type": "display_data"
    },
    {
     "name": "stdout",
     "output_type": "stream",
     "text": [
      "Q: This is misinformation\n",
      "###########\n",
      "\n",
      "\n",
      "\n",
      "72 / 20495\n",
      "politics\n",
      "--------------------\n"
     ]
    },
    {
     "data": {
      "text/html": [
       "<b>discussion thread: white house <mark>coronav</mark>irus task force briefing – 04/16/2020 | live - 6:00pm edt</b>"
      ],
      "text/plain": [
       "<IPython.core.display.HTML object>"
      ]
     },
     "metadata": {},
     "output_type": "display_data"
    },
    {
     "name": "stdout",
     "output_type": "stream",
     "text": [
      "URL: https://www.reddit.com/r/politics/comments/g2oa0g/discussion_thread_white_house_coronavirus_task/ \n",
      "Published: 2020-04-16 21:38:32. \n"
     ]
    },
    {
     "data": {
      "text/html": [
       "[in what fucking world does florida have \"minimal\" cases](https://imgur.com/a/uhyopuw)\n",
       "\n",
       "this is <mark>misinformation</mark> in real time as it shows only **flu** symptoms and not covid-19 cases"
      ],
      "text/plain": [
       "<IPython.core.display.HTML object>"
      ]
     },
     "metadata": {},
     "output_type": "display_data"
    },
    {
     "name": "stdout",
     "output_type": "stream",
     "text": [
      "Q: This is misinformation\n",
      "#######################\n",
      "\n",
      "\n",
      "\n",
      "73 / 21642\n",
      "Coronavirus\n",
      "--------------------\n"
     ]
    },
    {
     "data": {
      "text/html": [
       "<b>china didn&#x27;t warn public of likely <mark>pandemi</mark>c for 6 crucial days</b>"
      ],
      "text/plain": [
       "<IPython.core.display.HTML object>"
      ]
     },
     "metadata": {},
     "output_type": "display_data"
    },
    {
     "name": "stdout",
     "output_type": "stream",
     "text": [
      "URL: https://www.cbc.ca/news/world/china-investigation-coronavirus-timeline-1.5534084 \n",
      "Published: 2020-04-16 20:10:47. \n"
     ]
    },
    {
     "data": {
      "text/html": [
       "old, <mark>fake</mark> <mark>news</mark>\n",
       "\n",
       "here's an <mark>article</mark> from dec 30 talking about the new virus in wuhan and how it might be related to sars:\n",
       "\n",
       "\"\\*\\*chinese experts are  investigating\\*\\* an outbreak of respiratory illness in the central city of  \\*\\*wuhan\\*\\* that some have likened to the 2002-2003 \\*\\*sars\\*\\* epidemic. \n",
       "\n",
       "the \\*\\* city’s health commission\\*\\* said in a statement tuesday that 27 people had  fallen ill with a strain of viral pneumonia, seven of whom were in  serious condition.\"\n",
       "\n",
       " \n",
       "\n",
       "[https://ap<mark>news</mark>.com/00c78d1974410d96fe031f67edbd86ec](https://ap<mark>news</mark>.com/00c78d1974410d96fe031f67edbd86ec)"
      ],
      "text/plain": [
       "<IPython.core.display.HTML object>"
      ]
     },
     "metadata": {},
     "output_type": "display_data"
    },
    {
     "name": "stdout",
     "output_type": "stream",
     "text": [
      "Q: fake news\n",
      "#########\n",
      "\n",
      "\n",
      "\n",
      "74 / 22094\n",
      "Coronavirus\n",
      "--------------------\n"
     ]
    },
    {
     "data": {
      "text/html": [
       "<b>why <mark>coronav</mark>irus can make some severely ill and others hardly at all</b>"
      ],
      "text/plain": [
       "<IPython.core.display.HTML object>"
      ]
     },
     "metadata": {},
     "output_type": "display_data"
    },
    {
     "name": "stdout",
     "output_type": "stream",
     "text": [
      "URL: https://abcnews.go.com/Health/covid-19-men-impacted-women/story?id=70170339&cid=clicksource_4380645_12_comic_strip_sq_hed \n",
      "Published: 2020-04-16 19:27:03. \n"
     ]
    },
    {
     "data": {
      "text/html": [
       "<mark>misleading</mark> <mark>title</mark>.\n",
       "\n",
       "the <mark>article</mark> is entirely about the gender differences in death rates. it is not about why some become \"severely ill and others hardly at all.\"\n",
       "\n",
       "also, the <mark>article</mark> fails to provide any \"why\" at all, instead rehashing a series of general hypotheses about the gender differences in covid-19 infections while giving no new <mark>information</mark> we didn't already have weeks ago.\n",
       "\n",
       "terrible <mark>article</mark>."
      ],
      "text/plain": [
       "<IPython.core.display.HTML object>"
      ]
     },
     "metadata": {},
     "output_type": "display_data"
    },
    {
     "name": "stdout",
     "output_type": "stream",
     "text": [
      "Q: misleading title\n",
      "#\n",
      "\n",
      "\n",
      "\n",
      "75 / 22105\n",
      "Coronavirus\n",
      "--------------------\n"
     ]
    },
    {
     "data": {
      "text/html": [
       "<b><mark>covid</mark>-19 testing kits for jamaica blocked by us</b>"
      ],
      "text/plain": [
       "<IPython.core.display.HTML object>"
      ]
     },
     "metadata": {},
     "output_type": "display_data"
    },
    {
     "name": "stdout",
     "output_type": "stream",
     "text": [
      "URL: http://www.jamaicaobserver.com/latestnews/COVID-19_testing_kits_for_Jamaica_blocked_by_US,_other_suppliers_engaged_%26%238211;_Health_Minister_&template=MobileArticle \n",
      "Published: 2020-04-16 19:25:01. \n"
     ]
    },
    {
     "data": {
      "text/html": [
       "ya, this is all <mark>fake</mark> <mark>news</mark> <mark>bullshit</mark>.  the order hadn’t been cleared by fema yet.  theyve already pulled this <mark>article</mark> over on kingston  because it’s full of lies."
      ],
      "text/plain": [
       "<IPython.core.display.HTML object>"
      ]
     },
     "metadata": {},
     "output_type": "display_data"
    },
    {
     "name": "stdout",
     "output_type": "stream",
     "text": [
      "Q: this is bullshit\n",
      "############\n",
      "\n",
      "\n",
      "\n",
      "76 / 22727\n",
      "worldnews\n",
      "--------------------\n"
     ]
    },
    {
     "data": {
      "text/html": [
       "<b>us, canada have funded chinese lab eyed as likely source of <mark>coronav</mark>irus outbreak</b>"
      ],
      "text/plain": [
       "<IPython.core.display.HTML object>"
      ]
     },
     "metadata": {},
     "output_type": "display_data"
    },
    {
     "name": "stdout",
     "output_type": "stream",
     "text": [
      "URL: https://www.foxnews.com/politics/u-s-canada-have-funded-chinese-lab \n",
      "Published: 2020-04-16 18:05:21. \n"
     ]
    },
    {
     "data": {
      "text/html": [
       "* deliberately <mark>misleading</mark> <mark>title</mark>"
      ],
      "text/plain": [
       "<IPython.core.display.HTML object>"
      ]
     },
     "metadata": {},
     "output_type": "display_data"
    },
    {
     "name": "stdout",
     "output_type": "stream",
     "text": [
      "Q: misleading title\n",
      "#########\n",
      "\n",
      "\n",
      "\n",
      "77 / 23182\n",
      "politics\n",
      "--------------------\n"
     ]
    },
    {
     "data": {
      "text/html": [
       "<b>obama administration asked for funding to tackle future <mark>pandemi</mark>cs but republicans refused | tea party blocked hundreds of millions in funding, investigation finds</b>"
      ],
      "text/plain": [
       "<IPython.core.display.HTML object>"
      ]
     },
     "metadata": {},
     "output_type": "display_data"
    },
    {
     "name": "stdout",
     "output_type": "stream",
     "text": [
      "URL: https://www.independent.co.uk/news/world/americas/obama-ebola-coronavirus-trump-congress-tea-party-a9469186.html \n",
      "Published: 2020-04-16 17:02:44. \n"
     ]
    },
    {
     "data": {
      "text/html": [
       "what!? the republicans didn’t endorse funding for something that would help the majority of the american people?? \n",
       "\n",
       "not possible. this must be that <mark>fake</mark> <mark>news</mark> i’m hearing so much about..."
      ],
      "text/plain": [
       "<IPython.core.display.HTML object>"
      ]
     },
     "metadata": {},
     "output_type": "display_data"
    },
    {
     "name": "stdout",
     "output_type": "stream",
     "text": [
      "Q: This be fake news\n",
      "##\n",
      "\n",
      "\n",
      "\n",
      "78 / 23276\n",
      "Coronavirus\n",
      "--------------------\n"
     ]
    },
    {
     "data": {
      "text/html": [
       "<b>india charges muslim leader with culpable homicide for <mark>coronav</mark>irus surge</b>"
      ],
      "text/plain": [
       "<IPython.core.display.HTML object>"
      ]
     },
     "metadata": {},
     "output_type": "display_data"
    },
    {
     "name": "stdout",
     "output_type": "stream",
     "text": [
      "URL: https://www.reuters.com/article/us-health-coronavirus-southasia/india-charges-muslim-leader-with-culpable-homicide-for-coronavirus-surge-idUSKCN21Y0M1?feedType=RSS&feedName=worldNews&utm_source=feedburner&utm_medium=feed&utm_campaign=Feed%3A+Reuters%2FworldNews+%28Reuters+World+News%29 \n",
      "Published: 2020-04-16 16:46:13. \n"
     ]
    },
    {
     "data": {
      "text/html": [
       "before you all shout islamophobia to drown out any criticism of a particular group, you should know that ~30% of all cases in india (more than that in some areas) are directly linked to that one religious congregation which happened in late march. the leader of the group (charged with homicide) is on record directing his followers not to co-operate with healthcare and administrative authorities. the followers have literally assaulted frontline health workers multiple times. this is the same group that turned out to be super spreaders in malaysia & indonesia too.\n",
       "\n",
       "the <mark>title</mark> here is a bit <mark>misleading</mark>. made to sound like he's charged for being a muslim leader. in reality he's just the leader of one particular group who held their congregation despite knowing the situation. i guess ethics in journalism seem to have taken a long vacation. don't blame all the muslims, but ffs, this particular group has to be held accountable, no?"
      ],
      "text/plain": [
       "<IPython.core.display.HTML object>"
      ]
     },
     "metadata": {},
     "output_type": "display_data"
    },
    {
     "name": "stdout",
     "output_type": "stream",
     "text": [
      "Q: title is misleading\n",
      "\n",
      "\n",
      "\n",
      "\n",
      "79 / 23301\n",
      "Coronavirus\n",
      "--------------------\n"
     ]
    },
    {
     "data": {
      "text/html": [
       "<b>doctors suspect that <mark>coronav</mark>irus is spreading through “farts”</b>"
      ],
      "text/plain": [
       "<IPython.core.display.HTML object>"
      ]
     },
     "metadata": {},
     "output_type": "display_data"
    },
    {
     "name": "stdout",
     "output_type": "stream",
     "text": [
      "URL: https://thehealthmania.com/doctors-suspect-that-coronavirus-is-spreading-through-farts/2251/ \n",
      "Published: 2020-04-16 16:45:21. \n"
     ]
    },
    {
     "data": {
      "text/html": [
       "<mark>misleading</mark> <mark>title</mark>. there are so many \"maybe\"s in that <mark>article</mark> that i wouldn't put any stock into it."
      ],
      "text/plain": [
       "<IPython.core.display.HTML object>"
      ]
     },
     "metadata": {},
     "output_type": "display_data"
    },
    {
     "name": "stdout",
     "output_type": "stream",
     "text": [
      "Q: misleading title\n",
      "########\n",
      "\n",
      "\n",
      "\n",
      "80 / 23683\n",
      "worldnews\n",
      "--------------------\n"
     ]
    },
    {
     "data": {
      "text/html": [
       "<b>china's new <mark>coronav</mark>irus test kits give answers within 45 minutes with 99% accuracy</b>"
      ],
      "text/plain": [
       "<IPython.core.display.HTML object>"
      ]
     },
     "metadata": {},
     "output_type": "display_data"
    },
    {
     "name": "stdout",
     "output_type": "stream",
     "text": [
      "URL: https://www.straitstimes.com/asia/east-asia/chinas-new-coronavirus-test-kits-give-answers-within-45-minutes-chinese-academy \n",
      "Published: 2020-04-16 15:59:26. \n"
     ]
    },
    {
     "data": {
      "text/html": [
       "as we say down here in texas... <mark>bullshit</mark>!"
      ],
      "text/plain": [
       "<IPython.core.display.HTML object>"
      ]
     },
     "metadata": {},
     "output_type": "display_data"
    },
    {
     "name": "stdout",
     "output_type": "stream",
     "text": [
      "Q: Bullshit\n",
      "#####\n",
      "\n",
      "\n",
      "\n",
      "81 / 23946\n",
      "worldnews\n",
      "--------------------\n"
     ]
    },
    {
     "data": {
      "text/html": [
       "<b>mike pompeo demands truth from beijing as us investigates if <mark>covid</mark>-19 escaped from wuhan lab during experiments and china covered it up by blaming 'wet' food markets</b>"
      ],
      "text/plain": [
       "<IPython.core.display.HTML object>"
      ]
     },
     "metadata": {},
     "output_type": "display_data"
    },
    {
     "name": "stdout",
     "output_type": "stream",
     "text": [
      "URL: https://www.dailymail.co.uk/news/article-8223779/Coronavirus-originated-bungled-experiments-Wuhan-lab-bombshell-report-claims.html \n",
      "Published: 2020-04-16 15:32:06. \n"
     ]
    },
    {
     "data": {
      "text/html": [
       "this is <mark>bullshit</mark>.\n",
       "\n",
       "why is daily mail allowed here?"
      ],
      "text/plain": [
       "<IPython.core.display.HTML object>"
      ]
     },
     "metadata": {},
     "output_type": "display_data"
    },
    {
     "name": "stdout",
     "output_type": "stream",
     "text": [
      "Q: This is bullshit\n",
      "###########\n",
      "\n",
      "\n",
      "\n",
      "82 / 24493\n",
      "Coronavirus\n",
      "--------------------\n"
     ]
    },
    {
     "data": {
      "text/html": [
       "<b>india hospital segregates muslim and hindu <mark>coronav</mark>irus patients</b>"
      ],
      "text/plain": [
       "<IPython.core.display.HTML object>"
      ]
     },
     "metadata": {},
     "output_type": "display_data"
    },
    {
     "name": "stdout",
     "output_type": "stream",
     "text": [
      "URL: https://www.aljazeera.com/news/2020/04/india-hospital-segregates-muslim-hindu-coronavirus-patients-200416080547650.html \n",
      "Published: 2020-04-16 14:32:31. \n"
     ]
    },
    {
     "data": {
      "text/html": [
       "[<mark>false</mark> <mark>news</mark> ](https://telanganatoday.com/no-segregation-on-basis-of-faith-at-ahmedabad-covid-19-hospital-doctor)\n",
       "\n",
       ">professor dr gh rathod, general surgeon and medical superintendent of civil hospital, asarwa, refuted reports making the rounds in certain sections of the media that patients were being segregated on the basis of faith at the newly created covid-19 hospital.\n",
       "\n",
       "but it's al jazeera after all, they are helpless to control themselves from posting \"hindu - muslim\" <mark>bullshit</mark>"
      ],
      "text/plain": [
       "<IPython.core.display.HTML object>"
      ]
     },
     "metadata": {},
     "output_type": "display_data"
    },
    {
     "name": "stdout",
     "output_type": "stream",
     "text": [
      "Q: false news\n",
      "#\n",
      "\n",
      "\n",
      "\n",
      "83 / 24509\n",
      "worldnews\n",
      "--------------------\n"
     ]
    },
    {
     "data": {
      "text/html": [
       "<b><mark>coronav</mark>irus timeline shows politicians', media's changing rhetoric on risk of <mark>pandemi</mark>c</b>"
      ],
      "text/plain": [
       "<IPython.core.display.HTML object>"
      ]
     },
     "metadata": {},
     "output_type": "display_data"
    },
    {
     "name": "stdout",
     "output_type": "stream",
     "text": [
      "URL: https://www.foxnews.com/politics/from-new-york-to-canada-to-the-white-house-initial-coronavirus-responses-havent-aged-well \n",
      "Published: 2020-04-16 14:26:37. \n"
     ]
    },
    {
     "data": {
      "text/html": [
       "this isn't the first time democrats have made up narrative knowing full well it's <mark>bullshit</mark> the entire time just to attack the orange man while downvoting or ignoring anything that calls them out.\n",
       "\n",
       "honesty isn't one of their strong points"
      ],
      "text/plain": [
       "<IPython.core.display.HTML object>"
      ]
     },
     "metadata": {},
     "output_type": "display_data"
    },
    {
     "name": "stdout",
     "output_type": "stream",
     "text": [
      "Q: it 's bullshit\n",
      "#\n",
      "\n",
      "\n",
      "\n",
      "84 / 24569\n",
      "Coronavirus\n",
      "--------------------\n"
     ]
    },
    {
     "data": {
      "text/html": [
       "<b><mark>coronav</mark>irus able to survive near boiling point of water study shows</b>"
      ],
      "text/plain": [
       "<IPython.core.display.HTML object>"
      ]
     },
     "metadata": {},
     "output_type": "display_data"
    },
    {
     "name": "stdout",
     "output_type": "stream",
     "text": [
      "URL: http://www.news-medical.net/news/20200415/Coronavirus-able-to-survive-near-boiling-point-of-water-study-shows.aspx \n",
      "Published: 2020-04-16 14:19:06. \n"
     ]
    },
    {
     "data": {
      "text/html": [
       "clickbait <mark>bullshit</mark>\n",
       "\n",
       ">the investigators found that when they heated the samples to higher temperatures, namely, 92 degrees celsius for 15 minutes, viruses were denatured entirely, and the sample became non-infectious.\n",
       "\n",
       "i wish people would read the <mark>article</mark>."
      ],
      "text/plain": [
       "<IPython.core.display.HTML object>"
      ]
     },
     "metadata": {},
     "output_type": "display_data"
    },
    {
     "name": "stdout",
     "output_type": "stream",
     "text": [
      "Q: bullshit\n",
      "###############\n",
      "\n",
      "\n",
      "\n",
      "85 / 25307\n",
      "politics\n",
      "--------------------\n"
     ]
    },
    {
     "data": {
      "text/html": [
       "<b>chanting ‘lock her up,’ michigan protesters waving trump flags mass against gov. gretchen whitmer’s <mark>coronav</mark>irus restrictions</b>"
      ],
      "text/plain": [
       "<IPython.core.display.HTML object>"
      ]
     },
     "metadata": {},
     "output_type": "display_data"
    },
    {
     "name": "stdout",
     "output_type": "stream",
     "text": [
      "URL: https://www.washingtonpost.com/nation/2020/04/16/michigan-whitmer-conservatives-protest/ \n",
      "Published: 2020-04-16 12:50:37. \n"
     ]
    },
    {
     "data": {
      "text/html": [
       "oh yeah... screw this covid19 quarantine. <mark>fake</mark> <mark>news</mark>! tell these deep states whats up!! keep chanting!  i agree!! lock her up!! yeah!!! call all your friends!!! call all of them!! call more!! chant!! lock her up! now just keep doing this as long as you possibly can, k?  ;) /s"
      ],
      "text/plain": [
       "<IPython.core.display.HTML object>"
      ]
     },
     "metadata": {},
     "output_type": "display_data"
    },
    {
     "name": "stdout",
     "output_type": "stream",
     "text": [
      "Q: fake news\n",
      "####\n",
      "\n",
      "\n",
      "\n",
      "86 / 25505\n",
      "Coronavirus\n",
      "--------------------\n"
     ]
    },
    {
     "data": {
      "text/html": [
       "<b>grid index: tracking the global leadership response in the <mark>covid</mark>-19 crisis</b>"
      ],
      "text/plain": [
       "<IPython.core.display.HTML object>"
      ]
     },
     "metadata": {},
     "output_type": "display_data"
    },
    {
     "name": "stdout",
     "output_type": "stream",
     "text": [
      "URL: https://www.cmawebline.org/ontarget/grid-index-tracking-the-global-leadership-response-in-the-covid-19-crisis/ \n",
      "Published: 2020-04-16 12:20:02. \n"
     ]
    },
    {
     "data": {
      "text/html": [
       "<mark>fake</mark> <mark>news</mark>..."
      ],
      "text/plain": [
       "<IPython.core.display.HTML object>"
      ]
     },
     "metadata": {},
     "output_type": "display_data"
    },
    {
     "name": "stdout",
     "output_type": "stream",
     "text": [
      "Q: fake news\n",
      "\n",
      "\n",
      "\n",
      "\n",
      "87 / 25511\n",
      "Coronavirus\n",
      "--------------------\n"
     ]
    },
    {
     "data": {
      "text/html": [
       "<b>w.h.o., now trump’s scapegoat, warned about <mark>coronav</mark>irus early and often - nyt - 16 apr. 2020</b>"
      ],
      "text/plain": [
       "<IPython.core.display.HTML object>"
      ]
     },
     "metadata": {},
     "output_type": "display_data"
    },
    {
     "name": "stdout",
     "output_type": "stream",
     "text": [
      "URL: https://www.nytimes.com/2020/04/16/health/WHO-Trump-coronavirus.html?campaign_id=9&emc=edit_NN_p_20200416&instance_id=17682&nl=morning-briefing&regi_id=62883531&section=topNews&segment_id=25289&te=1&user_id=303da3d61264151412295f5f50bb0dc7 \n",
      "Published: 2020-04-16 12:19:09. \n"
     ]
    },
    {
     "data": {
      "text/html": [
       "<mark>bullshit</mark>."
      ],
      "text/plain": [
       "<IPython.core.display.HTML object>"
      ]
     },
     "metadata": {},
     "output_type": "display_data"
    },
    {
     "name": "stdout",
     "output_type": "stream",
     "text": [
      "Q: Bullshit\n",
      "##############\n",
      "\n",
      "\n",
      "\n",
      "88 / 26228\n",
      "Coronavirus\n",
      "--------------------\n"
     ]
    },
    {
     "data": {
      "text/html": [
       "<b>drinking alcohol may heighten risk of getting <mark>coronav</mark>irus, who suggests</b>"
      ],
      "text/plain": [
       "<IPython.core.display.HTML object>"
      ]
     },
     "metadata": {},
     "output_type": "display_data"
    },
    {
     "name": "stdout",
     "output_type": "stream",
     "text": [
      "URL: https://www.usatoday.com/story/news/health/2020/04/16/coronavirus-alcohol-who-says-drinking-beer-wine-may-higher-risk/5143321002/ \n",
      "Published: 2020-04-16 10:39:59. \n"
     ]
    },
    {
     "data": {
      "text/html": [
       "<mark>fake</mark> <mark>news</mark>."
      ],
      "text/plain": [
       "<IPython.core.display.HTML object>"
      ]
     },
     "metadata": {},
     "output_type": "display_data"
    },
    {
     "name": "stdout",
     "output_type": "stream",
     "text": [
      "Q: fake news\n",
      "##\n",
      "\n",
      "\n",
      "\n",
      "89 / 26341\n",
      "worldnews\n",
      "--------------------\n"
     ]
    },
    {
     "data": {
      "text/html": [
       "<b>a german zoo has created a list of animals it may have to slaughter and feed to others, as it struggles for funds because of the <mark>coronav</mark>irus crisis. “we’ve listed the animals we’ll have to slaughter first.”</b>"
      ],
      "text/plain": [
       "<IPython.core.display.HTML object>"
      ]
     },
     "metadata": {},
     "output_type": "display_data"
    },
    {
     "name": "stdout",
     "output_type": "stream",
     "text": [
      "URL: https://www.independent.co.uk/news/world/europe/coronavirus-german-zoo-slaughter-list-a9465741.html \n",
      "Published: 2020-04-16 10:06:18. \n"
     ]
    },
    {
     "data": {
      "text/html": [
       "<mark>misleading</mark> <mark>article</mark> with a picture of pandas first."
      ],
      "text/plain": [
       "<IPython.core.display.HTML object>"
      ]
     },
     "metadata": {},
     "output_type": "display_data"
    },
    {
     "name": "stdout",
     "output_type": "stream",
     "text": [
      "Q: misleading article\n",
      "##\n",
      "\n",
      "\n",
      "\n",
      "90 / 26405\n",
      "Coronavirus\n",
      "--------------------\n"
     ]
    },
    {
     "data": {
      "text/html": [
       "<b>nurses suspended for refusing to provide <mark>covid</mark>-19 care without n95 masks</b>"
      ],
      "text/plain": [
       "<IPython.core.display.HTML object>"
      ]
     },
     "metadata": {},
     "output_type": "display_data"
    },
    {
     "name": "stdout",
     "output_type": "stream",
     "text": [
      "URL: https://time.com/5822237/nurses-suspended-n95-masks-covid19/ \n",
      "Published: 2020-04-16 09:49:15. \n"
     ]
    },
    {
     "data": {
      "text/html": [
       "mid-april and still don't have enough ppe.\n",
       "\n",
       "wonder how trump would spin this? the states' fault? obama's? the democrats? maybe this is just <mark>fake</mark> <mark>news</mark>??!?\n",
       "\n",
       "poor nurses. this is fucked."
      ],
      "text/plain": [
       "<IPython.core.display.HTML object>"
      ]
     },
     "metadata": {},
     "output_type": "display_data"
    },
    {
     "name": "stdout",
     "output_type": "stream",
     "text": [
      "Q: this is fake news\n",
      "####\n",
      "\n",
      "\n",
      "\n",
      "91 / 26641\n",
      "worldnews\n",
      "--------------------\n"
     ]
    },
    {
     "data": {
      "text/html": [
       "<b>sources believe <mark>coronav</mark>irus originated in wuhan lab as part of china's efforts to compete with us</b>"
      ],
      "text/plain": [
       "<IPython.core.display.HTML object>"
      ]
     },
     "metadata": {},
     "output_type": "display_data"
    },
    {
     "name": "stdout",
     "output_type": "stream",
     "text": [
      "URL: https://www.foxnews.com/politics/coronavirus-wuhan-lab-china-compete-us-sources \n",
      "Published: 2020-04-16 08:25:26. \n"
     ]
    },
    {
     "data": {
      "text/html": [
       "total **<mark>bullshit</mark>!**"
      ],
      "text/plain": [
       "<IPython.core.display.HTML object>"
      ]
     },
     "metadata": {},
     "output_type": "display_data"
    },
    {
     "name": "stdout",
     "output_type": "stream",
     "text": [
      "Q: BULLSHIT\n",
      "###\n",
      "\n",
      "\n",
      "\n",
      "92 / 26772\n",
      "worldpolitics\n",
      "--------------------\n"
     ]
    },
    {
     "data": {
      "text/html": [
       "<b>us suspects <mark>covid</mark> started in chinese lab, not market</b>"
      ],
      "text/plain": [
       "<IPython.core.display.HTML object>"
      ]
     },
     "metadata": {},
     "output_type": "display_data"
    },
    {
     "name": "stdout",
     "output_type": "stream",
     "text": [
      "URL: https://headlinecode.com/us-suspects-covid-started-in-chinese-lab-not-market/ \n",
      "Published: 2020-04-16 07:28:57. \n"
     ]
    },
    {
     "data": {
      "text/html": [
       "<mark>fake</mark> <mark>news</mark>"
      ],
      "text/plain": [
       "<IPython.core.display.HTML object>"
      ]
     },
     "metadata": {},
     "output_type": "display_data"
    },
    {
     "name": "stdout",
     "output_type": "stream",
     "text": [
      "Q: fake news\n",
      "\n",
      "\n",
      "\n",
      "\n",
      "93 / 26800\n",
      "Coronavirus\n",
      "--------------------\n"
     ]
    },
    {
     "data": {
      "text/html": [
       "<b>india charges muslim leader with culpable homicide for <mark>coronav</mark>irus surge</b>"
      ],
      "text/plain": [
       "<IPython.core.display.HTML object>"
      ]
     },
     "metadata": {},
     "output_type": "display_data"
    },
    {
     "name": "stdout",
     "output_type": "stream",
     "text": [
      "URL: https://www.reuters.com/article/us-health-coronavirus-southasia/india-charges-muslim-leader-with-culpable-homicide-for-coronavirus-surge-idUSKCN21Y0M1?il=0 \n",
      "Published: 2020-04-16 07:14:39. \n"
     ]
    },
    {
     "data": {
      "text/html": [
       "before you shout islamophobia to drown out any criticism of a particular group, you should know that ~30% of all cases in india (more than that in some areas) are directly linked to that one religious congregation which happened in late march. the leader of the group (charged with homicide) is on record directing his followers not to co-operate with healthcare and administrative authorities. the followers have literally assaulted frontline health workers multiple times. this is the same group that turned out to be super spreaders in malaysia & indonesia too.\n",
       "\n",
       "the <mark>title</mark> here is a bit <mark>misleading</mark>. made to sound like he's charged for being a muslim leader. in reality he's just the leader of one particular group who held their congregation despite knowing the situation. i guess ethics in journalism seem to have taken a long vacation. don't blame all the muslims, but ffs, this particular group has to be held accountable, no?"
      ],
      "text/plain": [
       "<IPython.core.display.HTML object>"
      ]
     },
     "metadata": {},
     "output_type": "display_data"
    },
    {
     "name": "stdout",
     "output_type": "stream",
     "text": [
      "Q: title is misleading\n",
      "##\n",
      "\n",
      "\n",
      "\n",
      "94 / 26880\n",
      "Coronavirus\n",
      "--------------------\n"
     ]
    },
    {
     "data": {
      "text/html": [
       "<b>india charges muslim leader with culpable homicide for <mark>coronav</mark>irus surge</b>"
      ],
      "text/plain": [
       "<IPython.core.display.HTML object>"
      ]
     },
     "metadata": {},
     "output_type": "display_data"
    },
    {
     "name": "stdout",
     "output_type": "stream",
     "text": [
      "URL: https://www.reuters.com/article/us-health-coronavirus-southasia/india-charges-muslim-leader-with-culpable-homicide-for-coronavirus-surge-idUSKCN21Y0M1 \n",
      "Published: 2020-04-16 06:31:39. \n"
     ]
    },
    {
     "data": {
      "text/html": [
       "before you shout islamophobia to drown out any criticism of a particular group, you should know that ~30% of all cases in india (more than that in some areas) are directly linked to that one religious congregation which happened in late march. the leader of the group (charged with homicide) is on record directing his followers not to co-operate with healthcare and administrative authorities. the followers have literally assaulted frontline health workers multiple times. this is the same group that turned out to be super spreaders in malaysia & indonesia too.\n",
       "\n",
       "the <mark>title</mark> here is a bit <mark>misleading</mark>. made to sound like he's charged for being a muslim leader. in reality he's just the leader of one particular group who held their congregation despite knowing the situation. i guess ethics in journalism seem to have taken a long vacation. don't blame all the muslims, but ffs, this particular group has to be held accountable, no?"
      ],
      "text/plain": [
       "<IPython.core.display.HTML object>"
      ]
     },
     "metadata": {},
     "output_type": "display_data"
    },
    {
     "name": "stdout",
     "output_type": "stream",
     "text": [
      "Q: title is misleading\n",
      "##\n",
      "\n",
      "\n",
      "\n",
      "95 / 26954\n",
      "worldnews\n",
      "--------------------\n"
     ]
    },
    {
     "data": {
      "text/html": [
       "<b><mark>covid</mark>-19 vaccine killed seven children in senegal, africa</b>"
      ],
      "text/plain": [
       "<IPython.core.display.HTML object>"
      ]
     },
     "metadata": {},
     "output_type": "display_data"
    },
    {
     "name": "stdout",
     "output_type": "stream",
     "text": [
      "URL: https://pepaja.com/read-blog/70 \n",
      "Published: 2020-04-16 06:07:04. \n"
     ]
    },
    {
     "data": {
      "text/html": [
       "oh wow <mark>fake</mark> <mark>news</mark>."
      ],
      "text/plain": [
       "<IPython.core.display.HTML object>"
      ]
     },
     "metadata": {},
     "output_type": "display_data"
    },
    {
     "name": "stdout",
     "output_type": "stream",
     "text": [
      "Q: fake news\n"
     ]
    },
    {
     "data": {
      "text/html": [
       "this <mark>article</mark> is <mark>bullshit</mark> and is fearmongering. there is no current vaccine for covid 19. whatever was given to these people (if this happened at all) was not a vaccine for covid 19."
      ],
      "text/plain": [
       "<IPython.core.display.HTML object>"
      ]
     },
     "metadata": {},
     "output_type": "display_data"
    },
    {
     "name": "stdout",
     "output_type": "stream",
     "text": [
      "Q: article is bullshit\n",
      "#\n",
      "\n",
      "\n",
      "\n",
      "97 / 27003\n",
      "Coronavirus\n",
      "--------------------\n"
     ]
    },
    {
     "data": {
      "text/html": [
       "<b>as governments fumbled their <mark>coronav</mark>irus response, these four got it right. here's how.</b>"
      ],
      "text/plain": [
       "<IPython.core.display.HTML object>"
      ]
     },
     "metadata": {},
     "output_type": "display_data"
    },
    {
     "name": "stdout",
     "output_type": "stream",
     "text": [
      "URL: https://www.cnn.com/collections/intl-coronavirus-april-16/ \n",
      "Published: 2020-04-16 05:40:23. \n"
     ]
    },
    {
     "data": {
      "text/html": [
       "<mark>fake</mark> <mark>news</mark>... i mean no <mark>news</mark>"
      ],
      "text/plain": [
       "<IPython.core.display.HTML object>"
      ]
     },
     "metadata": {},
     "output_type": "display_data"
    },
    {
     "name": "stdout",
     "output_type": "stream",
     "text": [
      "Q: fake news\n",
      "\n",
      "\n",
      "\n",
      "\n",
      "98 / 27030\n",
      "politics\n",
      "--------------------\n"
     ]
    },
    {
     "data": {
      "text/html": [
       "<b>millionaires receive $1.7m in <mark>coronav</mark>irus relief as most taxpayers get $1,200 checks thanks to hidden republican loophole</b>"
      ],
      "text/plain": [
       "<IPython.core.display.HTML object>"
      ]
     },
     "metadata": {},
     "output_type": "display_data"
    },
    {
     "name": "stdout",
     "output_type": "stream",
     "text": [
      "URL: https://www.independent.co.uk/news/world/americas/coronavirus-stimulus-checks-millionaires-wealthy-tax-break-loophole-a9466476.html \n",
      "Published: 2020-04-16 05:30:20. \n"
     ]
    },
    {
     "data": {
      "text/html": [
       "<mark>article</mark> sounds like <mark>bs</mark>. story sounds like a giant giant smear against america. man reddit is super anti-american. fuck china"
      ],
      "text/plain": [
       "<IPython.core.display.HTML object>"
      ]
     },
     "metadata": {},
     "output_type": "display_data"
    },
    {
     "name": "stdout",
     "output_type": "stream",
     "text": [
      "Q: Article sounds like BS\n",
      "\n",
      "\n",
      "\n",
      "\n",
      "99 / 27050\n",
      "Coronavirus\n",
      "--------------------\n"
     ]
    },
    {
     "data": {
      "text/html": [
       "<b>evidence of stray dogs as possible origin of <mark>covid</mark>-19 <mark>pandemi</mark>c</b>"
      ],
      "text/plain": [
       "<IPython.core.display.HTML object>"
      ]
     },
     "metadata": {},
     "output_type": "display_data"
    },
    {
     "name": "stdout",
     "output_type": "stream",
     "text": [
      "URL: https://scitechdaily.com/evidence-of-stray-dogs-as-possible-origin-of-covid-19-pandemic/ \n",
      "Published: 2020-04-16 05:27:08. \n"
     ]
    },
    {
     "data": {
      "text/html": [
       "<mark>bullshit</mark> .\n",
       "\n",
       "i don't buy that"
      ],
      "text/plain": [
       "<IPython.core.display.HTML object>"
      ]
     },
     "metadata": {},
     "output_type": "display_data"
    },
    {
     "name": "stdout",
     "output_type": "stream",
     "text": [
      "Q: Bullshit\n",
      "####\n",
      "\n",
      "\n",
      "\n",
      "100 / 27224\n",
      "politics\n",
      "--------------------\n"
     ]
    },
    {
     "data": {
      "text/html": [
       "<b>joint chiefs chairman: u.s. intelligence investigating whether <mark>coronav</mark>irus leaked from wuhan lab</b>"
      ],
      "text/plain": [
       "<IPython.core.display.HTML object>"
      ]
     },
     "metadata": {},
     "output_type": "display_data"
    },
    {
     "name": "stdout",
     "output_type": "stream",
     "text": [
      "URL: https://www.washingtontimes.com/news/2020/apr/14/mark-milley-us-intelligence-investigating-whether-/ \n",
      "Published: 2020-04-16 04:21:18. \n"
     ]
    },
    {
     "data": {
      "text/html": [
       "literally <mark>fake</mark> <mark>news</mark>"
      ],
      "text/plain": [
       "<IPython.core.display.HTML object>"
      ]
     },
     "metadata": {},
     "output_type": "display_data"
    },
    {
     "name": "stdout",
     "output_type": "stream",
     "text": [
      "Q: fake news\n",
      "###\n",
      "\n",
      "\n",
      "\n",
      "101 / 27384\n",
      "worldpolitics\n",
      "--------------------\n"
     ]
    },
    {
     "data": {
      "text/html": [
       "<b>exclusive: trudeau gave $830k for <mark>covid</mark>19 research to wuhan lab suspecte...</b>"
      ],
      "text/plain": [
       "<IPython.core.display.HTML object>"
      ]
     },
     "metadata": {},
     "output_type": "display_data"
    },
    {
     "name": "stdout",
     "output_type": "stream",
     "text": [
      "URL: https://www.youtube.com/watch?v=8METdQDBPXo&feature=share \n",
      "Published: 2020-04-16 03:45:37. \n"
     ]
    },
    {
     "data": {
      "text/html": [
       "rebel media <mark>bullshit</mark>"
      ],
      "text/plain": [
       "<IPython.core.display.HTML object>"
      ]
     },
     "metadata": {},
     "output_type": "display_data"
    },
    {
     "name": "stdout",
     "output_type": "stream",
     "text": [
      "Q: bullshit\n",
      "#\n",
      "\n",
      "\n",
      "\n",
      "102 / 27448\n",
      "worldnews\n",
      "--------------------\n"
     ]
    },
    {
     "data": {
      "text/html": [
       "<b>us explores possibility that <mark>coronav</mark>irus started in chinese lab, not a market</b>"
      ],
      "text/plain": [
       "<IPython.core.display.HTML object>"
      ]
     },
     "metadata": {},
     "output_type": "display_data"
    },
    {
     "name": "stdout",
     "output_type": "stream",
     "text": [
      "URL: https://edition.cnn.com/2020/04/15/politics/us-intelligence-virus-started-chinese-lab/index.html \n",
      "Published: 2020-04-16 03:25:31. \n"
     ]
    },
    {
     "data": {
      "text/html": [
       "remember when trump claimed he had investigators in hawaii looking into obama's birth certificate? \n",
       "\n",
       "this is like that.  it's just trump <mark>bullshit</mark>.  he wants to deflect criticism so he's gonna pretend it came from a lab, that way none of this is his fault."
      ],
      "text/plain": [
       "<IPython.core.display.HTML object>"
      ]
     },
     "metadata": {},
     "output_type": "display_data"
    },
    {
     "name": "stdout",
     "output_type": "stream",
     "text": [
      "Q: It 's bullshit\n",
      "###\n",
      "\n",
      "\n",
      "\n",
      "103 / 27557\n",
      "politics\n",
      "--------------------\n"
     ]
    },
    {
     "data": {
      "text/html": [
       "<b>the rich are having themselves a fine <mark>coronav</mark>irus</b>"
      ],
      "text/plain": [
       "<IPython.core.display.HTML object>"
      ]
     },
     "metadata": {},
     "output_type": "display_data"
    },
    {
     "name": "stdout",
     "output_type": "stream",
     "text": [
      "URL: https://www.huffpost.com/entry/rich-coronavirus-bailout-stimulus-banks_n_5e9762acc5b686ec1570cb44 \n",
      "Published: 2020-04-16 03:04:17. \n"
     ]
    },
    {
     "data": {
      "text/html": [
       "those of us who spent this entire democratic primary annoyingly braying on about how completely and 100% unacceptable it is for the party to refuse to change .... this kind of shit is why.\n",
       "\n",
       "in my own state, a noted liberal bastion, i'm fucking **lucky** to \"only\" have been waiting four weeks to see even a dime of the unemployment i'm newly eligible for, and we're receiving confirmation now that it's because, rather than truly expedite applications on an emergency basis, the state is \"obligated\" to create an entirely new department staffed with thousands whose only job is manually poring over our applications line-by-line to ensure every single digit and letter is precisely correct, in order for us to prove that in a country 100% locked down by covid-19, we are in fact unemployed because of the covid-19 lockdown.\n",
       "\n",
       "this is <mark>bullshit</mark>, and nancy pelosi, chuck schumer, and now even warren and sanders each hold their own share of the responsibility just as much as trump and mcconnell and the rest of the fascists. you too aoc, but you're a junior rep who still manages to be the only one who can say the right thing two days in a row lately, so i'll cut you some slack.\n",
       "\n",
       "what they choose to say and do about fixing the situation over the *next* 6 months will tell you each and every thing you need to know about the demands you'll place on the party in 2021 as a condition of earning your vote.\n",
       "\n",
       "never forget that it would be *insanely*, even *inevitably* easy for this country to kick trump's orangutan ass to the curb, throw a new year's rager, and march right back into the capitol on january '21 and not change a goddamn thing.\n",
       "\n",
       "hold. these. people. accountable.\n",
       "\n",
       "society has shut down because *we* stopped participating. not *them*. it's time for the american citizenry to remember how to fight for itself again."
      ],
      "text/plain": [
       "<IPython.core.display.HTML object>"
      ]
     },
     "metadata": {},
     "output_type": "display_data"
    },
    {
     "name": "stdout",
     "output_type": "stream",
     "text": [
      "Q: This is bullshit\n",
      "\n",
      "\n",
      "\n",
      "\n",
      "104 / 27587\n",
      "Coronavirus\n",
      "--------------------\n"
     ]
    },
    {
     "data": {
      "text/html": [
       "<b>u.s. explores possibility that <mark>coronav</mark>irus started in chinese lab, not a market</b>"
      ],
      "text/plain": [
       "<IPython.core.display.HTML object>"
      ]
     },
     "metadata": {},
     "output_type": "display_data"
    },
    {
     "name": "stdout",
     "output_type": "stream",
     "text": [
      "URL: https://ktla.com/news/coronavirus/u-s-explores-possibility-that-coronavirus-started-in-chinese-lab-not-a-market/ \n",
      "Published: 2020-04-16 03:01:43. \n"
     ]
    },
    {
     "data": {
      "text/html": [
       "propaganda <mark>bullshit</mark>.\n",
       "\n",
       "edit: butthurt us conspiracy theorists can't handle the truth. at least it's cut down on the chemtrails turning the frogs gay, right guys? xd"
      ],
      "text/plain": [
       "<IPython.core.display.HTML object>"
      ]
     },
     "metadata": {},
     "output_type": "display_data"
    },
    {
     "name": "stdout",
     "output_type": "stream",
     "text": [
      "Q: bullshit\n",
      "#######\n",
      "\n",
      "\n",
      "\n",
      "105 / 27946\n",
      "worldnews\n",
      "--------------------\n"
     ]
    },
    {
     "data": {
      "text/html": [
       "<b>gates ups <mark>pandemi</mark>c funds to $250 million, says trump who move makes 'no sense'</b>"
      ],
      "text/plain": [
       "<IPython.core.display.HTML object>"
      ]
     },
     "metadata": {},
     "output_type": "display_data"
    },
    {
     "name": "stdout",
     "output_type": "stream",
     "text": [
      "URL: https://www.reuters.com/article/us-health-coronavirus-gates-idUSKCN21X3FK \n",
      "Published: 2020-04-16 01:52:06. \n"
     ]
    },
    {
     "data": {
      "text/html": [
       "melinda gates, not bill.  <mark>title</mark> is somewhat <mark>misleading</mark>."
      ],
      "text/plain": [
       "<IPython.core.display.HTML object>"
      ]
     },
     "metadata": {},
     "output_type": "display_data"
    },
    {
     "name": "stdout",
     "output_type": "stream",
     "text": [
      "Q: Title is misleading\n",
      "#\n",
      "\n",
      "\n",
      "\n",
      "106 / 27989\n",
      "Coronavirus\n",
      "--------------------\n"
     ]
    },
    {
     "data": {
      "text/html": [
       "<b>trump says us 'passed the peak' as its <mark>covid</mark>-19 single-day deaths hit new record of close to 2600</b>"
      ],
      "text/plain": [
       "<IPython.core.display.HTML object>"
      ]
     },
     "metadata": {},
     "output_type": "display_data"
    },
    {
     "name": "stdout",
     "output_type": "stream",
     "text": [
      "URL: https://youtu.be/Ln23-ODKTiI \n",
      "Published: 2020-04-16 01:47:19. \n"
     ]
    },
    {
     "data": {
      "text/html": [
       "sounds like <mark>bullshit</mark> to me"
      ],
      "text/plain": [
       "<IPython.core.display.HTML object>"
      ]
     },
     "metadata": {},
     "output_type": "display_data"
    },
    {
     "name": "stdout",
     "output_type": "stream",
     "text": [
      "Q: Sounds like bullshit\n",
      "#######\n",
      "\n",
      "\n",
      "\n",
      "107 / 28325\n",
      "Coronavirus\n",
      "--------------------\n"
     ]
    },
    {
     "data": {
      "text/html": [
       "<b>world food programme warns at least 30 million people could die of starvation during <mark>pandemi</mark>c</b>"
      ],
      "text/plain": [
       "<IPython.core.display.HTML object>"
      ]
     },
     "metadata": {},
     "output_type": "display_data"
    },
    {
     "name": "stdout",
     "output_type": "stream",
     "text": [
      "URL: https://www.theglobeandmail.com/world/article-world-food-programme-warns-at-least-30-million-people-could-die-of/?cmpid=rss&utm_source=dlvr.it&utm_medium=twitter \n",
      "Published: 2020-04-16 01:07:50. \n"
     ]
    },
    {
     "data": {
      "text/html": [
       "<mark>bullshit</mark>. people are overfed. that's why you have obesity as a common comorbidity."
      ],
      "text/plain": [
       "<IPython.core.display.HTML object>"
      ]
     },
     "metadata": {},
     "output_type": "display_data"
    },
    {
     "name": "stdout",
     "output_type": "stream",
     "text": [
      "Q: Bullshit\n",
      "###\n",
      "\n",
      "\n",
      "\n",
      "108 / 28490\n",
      "worldnews\n",
      "--------------------\n"
     ]
    },
    {
     "data": {
      "text/html": [
       "<b>the who helped spread chinese communist lies about <mark>covid</mark>-19. now it's lecturing people about drinking during quarantine.</b>"
      ],
      "text/plain": [
       "<IPython.core.display.HTML object>"
      ]
     },
     "metadata": {},
     "output_type": "display_data"
    },
    {
     "name": "stdout",
     "output_type": "stream",
     "text": [
      "URL: https://reason.com/2020/04/15/the-who-helped-spread-chinese-communist-lies-about-covid-19-now-its-lecturing-people-about-drinking-during-quarantine/ \n",
      "Published: 2020-04-16 00:43:44. \n"
     ]
    },
    {
     "data": {
      "text/html": [
       "this whole <mark>article</mark> is <mark>bullshit</mark> by a shitty site."
      ],
      "text/plain": [
       "<IPython.core.display.HTML object>"
      ]
     },
     "metadata": {},
     "output_type": "display_data"
    },
    {
     "name": "stdout",
     "output_type": "stream",
     "text": [
      "Q: article is bullshit\n",
      "#\n",
      "\n",
      "\n",
      "\n",
      "109 / 28510\n",
      "Coronavirus\n",
      "--------------------\n"
     ]
    },
    {
     "data": {
      "text/html": [
       "<b>‘maybe once in 1000 years’: icmr on whether <mark>coronav</mark>irus can jump from bats to humans</b>"
      ],
      "text/plain": [
       "<IPython.core.display.HTML object>"
      ]
     },
     "metadata": {},
     "output_type": "display_data"
    },
    {
     "name": "stdout",
     "output_type": "stream",
     "text": [
      "URL: https://www.aninews.in/videos/national/maybe-once-in-1000-years-icmr-on-whether-coronavirus-can-jump-from-bats-to-humans/ \n",
      "Published: 2020-04-16 00:40:47. \n"
     ]
    },
    {
     "data": {
      "text/html": [
       "<mark>bs</mark>"
      ],
      "text/plain": [
       "<IPython.core.display.HTML object>"
      ]
     },
     "metadata": {},
     "output_type": "display_data"
    },
    {
     "name": "stdout",
     "output_type": "stream",
     "text": [
      "Q: Bs\n",
      "########\n",
      "\n",
      "\n",
      "\n",
      "110 / 28915\n",
      "Coronavirus\n",
      "--------------------\n"
     ]
    },
    {
     "data": {
      "text/html": [
       "<b><mark>coronav</mark>irus: chinese officials didn’t warn public of likely <mark>pandemi</mark>c for 6 days</b>"
      ],
      "text/plain": [
       "<IPython.core.display.HTML object>"
      ]
     },
     "metadata": {},
     "output_type": "display_data"
    },
    {
     "name": "stdout",
     "output_type": "stream",
     "text": [
      "URL: https://globalnews.ca/news/6821056/coronavirus-china-pandemic-6-days/ \n",
      "Published: 2020-04-15 23:34:58. \n"
     ]
    },
    {
     "data": {
      "text/html": [
       "<mark>bullshit</mark>.\n",
       "\n",
       "https://en.wikipedia.org/wiki/world_health_organization%27s_response_to_2019-20_coronavirus_pandemic#january_2020"
      ],
      "text/plain": [
       "<IPython.core.display.HTML object>"
      ]
     },
     "metadata": {},
     "output_type": "display_data"
    },
    {
     "name": "stdout",
     "output_type": "stream",
     "text": [
      "Q: Bullshit\n"
     ]
    },
    {
     "data": {
      "text/html": [
       "this is [such utter <mark>bullshit</mark> and propaganda. ](https://www.who.int/csr/don/05-january-2020-pneumonia-of-unkown-cause-china/en/)\n",
       "\n",
       "the 61 year old man discovered by doctors was on december 30th, when li wenliang then broke chain of command and delivered a message over wechat to his alumni group who then subsequently leaked it. china did contact officials, the day after. this is outright <mark>bullshit</mark>. let's spread more lies and propaganda to fuel the xenophobic hate train that's on this sub already. they were on top of it, stated of unusual pneumonia immediately after the reported \"whistleblower\" broke chain of command. i also love how they leave out municipal authorities who warned li were also in a lot of trouble for how they handled the situation and went above their chain of command (provincial leaders) when they warned him. they fucked up, too. then were forced to issue apologies for their wrongdoing and handling. how many more lies and propaganda do we need?\n",
       "\n",
       "they told everyone early. everyone. it was all over media. hid it? it was everywhere on wechat streams the 31st. all over mainstream media. everywhere. hidden? they contacted thailand about the woman traveling from wuhan, where they discovered her the 13th of january. \n",
       "\n",
       "i got letters [mandated by provincial leaders to my hotel](https://imgur.com/a/uw1eklz) as i'm a united states citizen 6 days after (january 5th) of the first case, 2 days after the first reported death. 3 days after they reported their first 44 cases. \n",
       "\n",
       "such lies. this shit is sick."
      ],
      "text/plain": [
       "<IPython.core.display.HTML object>"
      ]
     },
     "metadata": {},
     "output_type": "display_data"
    },
    {
     "name": "stdout",
     "output_type": "stream",
     "text": [
      "Q: This is bullshit\n",
      "Q: This is bullshit\n",
      "##\n",
      "\n",
      "\n",
      "\n",
      "113 / 29011\n",
      "Coronavirus\n",
      "--------------------\n"
     ]
    },
    {
     "data": {
      "text/html": [
       "<b>new sources suggest that <mark>covid</mark>-19 originated in a wuhan lab as part of china's efforts to compete with the united states</b>"
      ],
      "text/plain": [
       "<IPython.core.display.HTML object>"
      ]
     },
     "metadata": {},
     "output_type": "display_data"
    },
    {
     "name": "stdout",
     "output_type": "stream",
     "text": [
      "URL: https://fxn.ws/34DcNQ1 \n",
      "Published: 2020-04-15 23:26:37. \n"
     ]
    },
    {
     "data": {
      "text/html": [
       ">fxn\n",
       "\n",
       "never heard of the <mark>source</mark> therefore it's <mark>fake</mark> <mark>news</mark>."
      ],
      "text/plain": [
       "<IPython.core.display.HTML object>"
      ]
     },
     "metadata": {},
     "output_type": "display_data"
    },
    {
     "name": "stdout",
     "output_type": "stream",
     "text": [
      "Q: it 's fake news\n",
      "#\n",
      "\n",
      "\n",
      "\n",
      "114 / 29098\n",
      "politics\n",
      "--------------------\n"
     ]
    },
    {
     "data": {
      "text/html": [
       "<b>sources believe <mark>coronav</mark>irus originated in wuhan lab as part of china's efforts to compete with us</b>"
      ],
      "text/plain": [
       "<IPython.core.display.HTML object>"
      ]
     },
     "metadata": {},
     "output_type": "display_data"
    },
    {
     "name": "stdout",
     "output_type": "stream",
     "text": [
      "URL: https://www.foxnews.com/politics/coronavirus-wuhan-lab-china-compete-us-sources \n",
      "Published: 2020-04-15 23:20:36. \n"
     ]
    },
    {
     "data": {
      "text/html": [
       "<mark>fake</mark> <mark>news</mark>"
      ],
      "text/plain": [
       "<IPython.core.display.HTML object>"
      ]
     },
     "metadata": {},
     "output_type": "display_data"
    },
    {
     "name": "stdout",
     "output_type": "stream",
     "text": [
      "Q: fake news\n",
      "#####\n",
      "\n",
      "\n",
      "\n",
      "115 / 29312\n",
      "Coronavirus\n",
      "--------------------\n"
     ]
    },
    {
     "data": {
      "text/html": [
       "<b>when the ventilator comes off, the delirium comes out for many <mark>coronav</mark>irus survivors</b>"
      ],
      "text/plain": [
       "<IPython.core.display.HTML object>"
      ]
     },
     "metadata": {},
     "output_type": "display_data"
    },
    {
     "name": "stdout",
     "output_type": "stream",
     "text": [
      "URL: https://www.cnn.com/2020/04/15/us/coronavirus-icu-delirium/index.html \n",
      "Published: 2020-04-15 22:30:19. \n"
     ]
    },
    {
     "data": {
      "text/html": [
       "<mark>misleading</mark> <mark>title</mark>."
      ],
      "text/plain": [
       "<IPython.core.display.HTML object>"
      ]
     },
     "metadata": {},
     "output_type": "display_data"
    },
    {
     "name": "stdout",
     "output_type": "stream",
     "text": [
      "Q: misleading title\n",
      "#########\n",
      "\n",
      "\n",
      "\n",
      "116 / 29767\n",
      "Coronavirus\n",
      "--------------------\n"
     ]
    },
    {
     "data": {
      "text/html": [
       "<b>america and europe could be hit by four waves of <mark>coronav</mark>irus if the virus is allowed to ravage africa, expert warns</b>"
      ],
      "text/plain": [
       "<IPython.core.display.HTML object>"
      ]
     },
     "metadata": {},
     "output_type": "display_data"
    },
    {
     "name": "stdout",
     "output_type": "stream",
     "text": [
      "URL: https://apa.az/en/europe/America-and-Europe-could-be-hit-by-FOUR-waves-of-coronavirus-if-the-virus-is-allowed-to-ravage-Africa-expert-warns-318149 \n",
      "Published: 2020-04-15 21:21:03. \n"
     ]
    },
    {
     "data": {
      "text/html": [
       "<mark>bullshit</mark>.\n",
       "\n",
       "media really love to spread fear."
      ],
      "text/plain": [
       "<IPython.core.display.HTML object>"
      ]
     },
     "metadata": {},
     "output_type": "display_data"
    },
    {
     "name": "stdout",
     "output_type": "stream",
     "text": [
      "Q: Bullshit\n",
      "###\n",
      "\n",
      "\n",
      "\n",
      "117 / 29918\n",
      "worldnews\n",
      "--------------------\n"
     ]
    },
    {
     "data": {
      "text/html": [
       "<b>hyped malaria pill doesn’t help clear <mark>coronav</mark>irus in study</b>"
      ],
      "text/plain": [
       "<IPython.core.display.HTML object>"
      ]
     },
     "metadata": {},
     "output_type": "display_data"
    },
    {
     "name": "stdout",
     "output_type": "stream",
     "text": [
      "URL: https://www.bloomberg.com/news/articles/2020-04-15/hyped-malaria-pill-doesn-t-help-clear-coronavirus-in-study?utm_campaign=socialflow-organic&utm_medium=social&cmpid=socialflow-facebook-business&utm_source=facebook&utm_content=business \n",
      "Published: 2020-04-15 21:09:30. \n"
     ]
    },
    {
     "data": {
      "text/html": [
       "this is <mark>fake</mark> <mark>news</mark> trying to promote bill gates mass vaccination agenda. this pill does work stop posting <mark>fake</mark> <mark>news</mark>. there has been multiples studies that show this pill does work so stop lying."
      ],
      "text/plain": [
       "<IPython.core.display.HTML object>"
      ]
     },
     "metadata": {},
     "output_type": "display_data"
    },
    {
     "name": "stdout",
     "output_type": "stream",
     "text": [
      "Q: This is fake news\n",
      "\n",
      "\n",
      "\n",
      "\n",
      "118 / 29932\n",
      "Coronavirus\n",
      "--------------------\n"
     ]
    },
    {
     "data": {
      "text/html": [
       "<b>leaked document reveals may 1 is when cdc and fema want to reopen the us starting with schools, summer camps and churches - with team of contact tracers to track potential <mark>coronav</mark>irus victims</b>"
      ],
      "text/plain": [
       "<IPython.core.display.HTML object>"
      ]
     },
     "metadata": {},
     "output_type": "display_data"
    },
    {
     "name": "stdout",
     "output_type": "stream",
     "text": [
      "URL: http://www.stationgossip.com/2020/04/leaked-document-reveals-may-1-is-when.html \n",
      "Published: 2020-04-15 21:06:55. \n"
     ]
    },
    {
     "data": {
      "text/html": [
       "this sounds like total <mark>bullshit</mark>. why schools?"
      ],
      "text/plain": [
       "<IPython.core.display.HTML object>"
      ]
     },
     "metadata": {},
     "output_type": "display_data"
    },
    {
     "name": "stdout",
     "output_type": "stream",
     "text": [
      "Q: This sounds like bullshit\n",
      "####\n",
      "\n",
      "\n",
      "\n",
      "119 / 30116\n",
      "politics\n",
      "--------------------\n"
     ]
    },
    {
     "data": {
      "text/html": [
       "<b>pediatrician says 80% of kids likely have <mark>coronav</mark>irus, but they're so asymptomatic you'd never know</b>"
      ],
      "text/plain": [
       "<IPython.core.display.HTML object>"
      ]
     },
     "metadata": {},
     "output_type": "display_data"
    },
    {
     "name": "stdout",
     "output_type": "stream",
     "text": [
      "URL: https://www.cbsnews.com/news/coronavirus-children-pediatrician-80-percent-asymptomatic/ \n",
      "Published: 2020-04-15 20:50:54. \n"
     ]
    },
    {
     "data": {
      "text/html": [
       "sounds like <mark>bullshit</mark>"
      ],
      "text/plain": [
       "<IPython.core.display.HTML object>"
      ]
     },
     "metadata": {},
     "output_type": "display_data"
    },
    {
     "name": "stdout",
     "output_type": "stream",
     "text": [
      "Q: Sounds like bullshit\n",
      "####\n",
      "\n",
      "\n",
      "\n",
      "120 / 30345\n",
      "politics\n",
      "--------------------\n"
     ]
    },
    {
     "data": {
      "text/html": [
       "<b>discussion thread: white house <mark>coronav</mark>irus task force briefing – 04/15/2020 | live - 5:00pm edt</b>"
      ],
      "text/plain": [
       "<IPython.core.display.HTML object>"
      ]
     },
     "metadata": {},
     "output_type": "display_data"
    },
    {
     "name": "stdout",
     "output_type": "stream",
     "text": [
      "URL: https://www.reddit.com/r/politics/comments/g20ctb/discussion_thread_white_house_coronavirus_task/ \n",
      "Published: 2020-04-15 20:44:39. \n"
     ]
    },
    {
     "data": {
      "text/html": [
       "<mark>disinformation</mark>."
      ],
      "text/plain": [
       "<IPython.core.display.HTML object>"
      ]
     },
     "metadata": {},
     "output_type": "display_data"
    },
    {
     "name": "stdout",
     "output_type": "stream",
     "text": [
      "Q: Disinformation\n",
      "#"
     ]
    },
    {
     "data": {
      "text/html": [
       "this is 100% t<mark>infoil</mark> hat conspiracy theory <mark>bullshit</mark>.  it's disgraceful to give it daylight.  zero evidence that this virus is engineered and tons of evidence that it isn't."
      ],
      "text/plain": [
       "<IPython.core.display.HTML object>"
      ]
     },
     "metadata": {},
     "output_type": "display_data"
    },
    {
     "name": "stdout",
     "output_type": "stream",
     "text": [
      "Q: This is bullshit\n",
      "#########\n",
      "\n",
      "\n",
      "\n",
      "122 / 30839\n",
      "Coronavirus\n",
      "--------------------\n"
     ]
    },
    {
     "data": {
      "text/html": [
       "<b>mcmichael seeks fda ok for <mark>covid</mark>-19 cure</b>"
      ],
      "text/plain": [
       "<IPython.core.display.HTML object>"
      ]
     },
     "metadata": {},
     "output_type": "display_data"
    },
    {
     "name": "stdout",
     "output_type": "stream",
     "text": [
      "URL: https://www.timesjournalonline.com/article.asp?id=104957 \n",
      "Published: 2020-04-15 20:14:12. \n"
     ]
    },
    {
     "data": {
      "text/html": [
       "seems like <mark>fake</mark> <mark>news</mark> in a bot network of <mark>fake</mark> <mark>news</mark>paper websites set up by outside foreign interests."
      ],
      "text/plain": [
       "<IPython.core.display.HTML object>"
      ]
     },
     "metadata": {},
     "output_type": "display_data"
    },
    {
     "name": "stdout",
     "output_type": "stream",
     "text": [
      "Q: Seems like fake news\n",
      "#######\n",
      "\n",
      "\n",
      "\n",
      "123 / 31156\n",
      "politics\n",
      "--------------------\n"
     ]
    },
    {
     "data": {
      "text/html": [
       "<b>'we alerted the world' to <mark>coronav</mark>irus on jan. 5, who says in response to u.s</b>"
      ],
      "text/plain": [
       "<IPython.core.display.HTML object>"
      ]
     },
     "metadata": {},
     "output_type": "display_data"
    },
    {
     "name": "stdout",
     "output_type": "stream",
     "text": [
      "URL: https://www.npr.org/sections/goatsandsoda/2020/04/15/835179442/we-alerted-the-world-to-coronavirus-on-jan-5-who-says-in-response-to-u-s?utm_source=dlvr.it&utm_medium=twitter \n",
      "Published: 2020-04-15 19:35:18. \n"
     ]
    },
    {
     "data": {
      "text/html": [
       "umm..(checks trump playbook)...<mark>fake</mark> <mark>news</mark>!"
      ],
      "text/plain": [
       "<IPython.core.display.HTML object>"
      ]
     },
     "metadata": {},
     "output_type": "display_data"
    },
    {
     "name": "stdout",
     "output_type": "stream",
     "text": [
      "Q: fake news\n",
      "########\n",
      "\n",
      "\n",
      "\n",
      "124 / 31587\n",
      "Coronavirus\n",
      "--------------------\n"
     ]
    },
    {
     "data": {
      "text/html": [
       "<b>closing schools has only a minor role in suppressing <mark>covid</mark>-19</b>"
      ],
      "text/plain": [
       "<IPython.core.display.HTML object>"
      ]
     },
     "metadata": {},
     "output_type": "display_data"
    },
    {
     "name": "stdout",
     "output_type": "stream",
     "text": [
      "URL: https://www.medicalnewstoday.com/articles/closing-schools-has-only-a-minor-role-in-suppressing-covid-19 \n",
      "Published: 2020-04-15 18:36:18. \n"
     ]
    },
    {
     "data": {
      "text/html": [
       "this is <mark>bullshit</mark>. it's about weighing costs, not about suppressing spread. schools are a major route of community spread. but some finance guys said it's better for you to get back in your wagie cagies than it is to not contract a disease we know nothing about the long term health implications of.\n",
       "\n",
       "as someone put it better: going to school is like going to a convention, every day. shit is going to spread."
      ],
      "text/plain": [
       "<IPython.core.display.HTML object>"
      ]
     },
     "metadata": {},
     "output_type": "display_data"
    },
    {
     "name": "stdout",
     "output_type": "stream",
     "text": [
      "Q: This is bullshit\n",
      "#####\n",
      "\n",
      "\n",
      "\n",
      "125 / 31818\n",
      "worldnews\n",
      "--------------------\n"
     ]
    },
    {
     "data": {
      "text/html": [
       "<b>china didn't warn public of likely <mark>pandemi</mark>c for 6 key days</b>"
      ],
      "text/plain": [
       "<IPython.core.display.HTML object>"
      ]
     },
     "metadata": {},
     "output_type": "display_data"
    },
    {
     "name": "stdout",
     "output_type": "stream",
     "text": [
      "URL: https://apnews.com/68a9e1b91de4ffc166acd6012d82c2f9?utm_source=Twitter&utm_campaign=SocialFlow&utm_medium=AP \n",
      "Published: 2020-04-15 18:01:29. \n"
     ]
    },
    {
     "data": {
      "text/html": [
       "<mark>bullshit</mark>. china knew about this since at least november according to us intelligence"
      ],
      "text/plain": [
       "<IPython.core.display.HTML object>"
      ]
     },
     "metadata": {},
     "output_type": "display_data"
    },
    {
     "name": "stdout",
     "output_type": "stream",
     "text": [
      "Q: Bullshit\n",
      "#\n",
      "\n",
      "\n",
      "\n",
      "126 / 31869\n",
      "politics\n",
      "--------------------\n"
     ]
    },
    {
     "data": {
      "text/html": [
       "<b>anti-malarial treatment hailed by trump has no benefit for <mark>coronav</mark>irus patients, french researchers find - study is the most comprehensive done on hydroxychloroquine treatment for <mark>covid</mark>-19 patients</b>"
      ],
      "text/plain": [
       "<IPython.core.display.HTML object>"
      ]
     },
     "metadata": {},
     "output_type": "display_data"
    },
    {
     "name": "stdout",
     "output_type": "stream",
     "text": [
      "URL: https://www.scmp.com/news/china/science/article/3080055/anti-malarial-treatment-hailed-trump-has-no-benefit-coronavirus \n",
      "Published: 2020-04-15 17:52:31. \n"
     ]
    },
    {
     "data": {
      "text/html": [
       "\"<mark>fake</mark> <mark>news</mark>\"\n",
       "\n",
       "\"hee haw!\""
      ],
      "text/plain": [
       "<IPython.core.display.HTML object>"
      ]
     },
     "metadata": {},
     "output_type": "display_data"
    },
    {
     "name": "stdout",
     "output_type": "stream",
     "text": [
      "Q: fake news\n",
      "\n",
      "\n",
      "\n",
      "\n",
      "127 / 31892\n",
      "politics\n",
      "--------------------\n"
     ]
    },
    {
     "data": {
      "text/html": [
       "<b>kentucky just made it harder to vote during a <mark>pandemi</mark>c</b>"
      ],
      "text/plain": [
       "<IPython.core.display.HTML object>"
      ]
     },
     "metadata": {},
     "output_type": "display_data"
    },
    {
     "name": "stdout",
     "output_type": "stream",
     "text": [
      "URL: https://www.vox.com/2020/4/15/21222084/kentucky-voter-id-coronavirus-pandemic \n",
      "Published: 2020-04-15 17:51:21. \n"
     ]
    },
    {
     "data": {
      "text/html": [
       "the gop is just cheating out loud now. this is <mark>bullshit</mark> on so many levels! \n",
       "\n",
       "bet you a million fucking dollars that tx is next."
      ],
      "text/plain": [
       "<IPython.core.display.HTML object>"
      ]
     },
     "metadata": {},
     "output_type": "display_data"
    },
    {
     "name": "stdout",
     "output_type": "stream",
     "text": [
      "Q: This is bullshit\n",
      "#\n",
      "\n",
      "\n",
      "\n",
      "128 / 31910\n",
      "Coronavirus\n",
      "--------------------\n"
     ]
    },
    {
     "data": {
      "text/html": [
       "<b>analysis | the u.s. has thrown more than $6 trillion at the <mark>coronav</mark>irus crisis. that number could grow.</b>"
      ],
      "text/plain": [
       "<IPython.core.display.HTML object>"
      ]
     },
     "metadata": {},
     "output_type": "display_data"
    },
    {
     "name": "stdout",
     "output_type": "stream",
     "text": [
      "URL: https://www.washingtonpost.com/business/2020/04/15/coronavirus-economy-6-trillion/ \n",
      "Published: 2020-04-15 17:49:56. \n"
     ]
    },
    {
     "data": {
      "text/html": [
       "this is incredibly <mark>misleading</mark>. most of the bailout money is loans which have to be paid back. and all of the federal reserve money is just numbers on spreadsheets, none of it actually exists. it's not like trillions of dollars are actually being spent."
      ],
      "text/plain": [
       "<IPython.core.display.HTML object>"
      ]
     },
     "metadata": {},
     "output_type": "display_data"
    },
    {
     "name": "stdout",
     "output_type": "stream",
     "text": [
      "Q: This is misleading\n",
      "#########\n",
      "\n",
      "\n",
      "\n",
      "129 / 32361\n",
      "Coronavirus\n",
      "--------------------\n"
     ]
    },
    {
     "data": {
      "text/html": [
       "<b>french study finds hydroxychloroquine doesn't help patients with <mark>coronav</mark>irus</b>"
      ],
      "text/plain": [
       "<IPython.core.display.HTML object>"
      ]
     },
     "metadata": {},
     "output_type": "display_data"
    },
    {
     "name": "stdout",
     "output_type": "stream",
     "text": [
      "URL: https://edition.cnn.com/2020/04/15/health/new-french-study-hydroxychloroquine/index.html \n",
      "Published: 2020-04-15 16:48:17. \n"
     ]
    },
    {
     "data": {
      "text/html": [
       "<mark>fake</mark> <mark>news</mark>! your a <mark>fake</mark>!"
      ],
      "text/plain": [
       "<IPython.core.display.HTML object>"
      ]
     },
     "metadata": {},
     "output_type": "display_data"
    },
    {
     "name": "stdout",
     "output_type": "stream",
     "text": [
      "Q: fake news\n",
      "#################\n",
      "\n",
      "\n",
      "\n",
      "130 / 33234\n",
      "Coronavirus\n",
      "--------------------\n"
     ]
    },
    {
     "data": {
      "text/html": [
       "<b>new report by cleveland clinic doctor gives glimpse into why <mark>coronav</mark>irus patients die</b>"
      ],
      "text/plain": [
       "<IPython.core.display.HTML object>"
      ]
     },
     "metadata": {},
     "output_type": "display_data"
    },
    {
     "name": "stdout",
     "output_type": "stream",
     "text": [
      "URL: https://www.cleveland.com/metro/2020/04/new-report-by-cleveland-clinic-doctor-gives-glimpse-into-why-coronavirus-patients-die.html \n",
      "Published: 2020-04-15 14:59:18. \n"
     ]
    },
    {
     "data": {
      "text/html": [
       "the cleveland clinic is one of the best hospitals in the country, and i am not disappointed by the fact that this is one of the most <mark>informative</mark> <mark>article</mark>s i’ve read here in a while. no <mark>bs</mark>, no theorizing, they did an autopsy and relayed some facts. bacteria pneumonia seems to be problem covid can cause so giving patients antibiotics does make sense after all. also no evidence that it causes heart damage but further studies are warranted."
      ],
      "text/plain": [
       "<IPython.core.display.HTML object>"
      ]
     },
     "metadata": {},
     "output_type": "display_data"
    },
    {
     "name": "stdout",
     "output_type": "stream",
     "text": [
      "Q: BS\n",
      "##\n",
      "\n",
      "\n",
      "\n",
      "131 / 33308\n",
      "Coronavirus\n",
      "--------------------\n"
     ]
    },
    {
     "data": {
      "text/html": [
       "<b>china reports fewer <mark>coronav</mark>irus cases but local infections rise near russian border</b>"
      ],
      "text/plain": [
       "<IPython.core.display.HTML object>"
      ]
     },
     "metadata": {},
     "output_type": "display_data"
    },
    {
     "name": "stdout",
     "output_type": "stream",
     "text": [
      "URL: https://www.reuters.com/article/us-health-coronavirus-china-toll/china-reports-fewer-coronavirus-cases-but-local-infections-rise-near-russian-border-idUSKCN21X01T?il=0 \n",
      "Published: 2020-04-15 14:49:31. \n"
     ]
    },
    {
     "data": {
      "text/html": [
       ">local infections rise near russian border\n",
       "\n",
       "this is <mark>misleading</mark>. it makes you think the new domestic cases are in suihua, the border town with russia with all the imported cases. in fact the new domestic cases are in harbin, the capital of heilongjiang. [and it's quite a sexually charged affair with saucy details.](https://www.reddit.com/r/coronavirus/comments/g146k6/heilongjiang_7_domestic_case_due_to_a_single_male/)"
      ],
      "text/plain": [
       "<IPython.core.display.HTML object>"
      ]
     },
     "metadata": {},
     "output_type": "display_data"
    },
    {
     "name": "stdout",
     "output_type": "stream",
     "text": [
      "Q: This is misleading\n",
      "##########\n",
      "\n",
      "\n",
      "\n",
      "132 / 33808\n",
      "politics\n",
      "--------------------\n"
     ]
    },
    {
     "data": {
      "text/html": [
       "<b>conway mistakes ’19’ in <mark>covid</mark>-19 for strain of virus while accusing who of not knowing facts</b>"
      ],
      "text/plain": [
       "<IPython.core.display.HTML object>"
      ]
     },
     "metadata": {},
     "output_type": "display_data"
    },
    {
     "name": "stdout",
     "output_type": "stream",
     "text": [
      "URL: https://talkingpointsmemo.com/news/conway-mistakes-19-covid-strain-virus-accuse-who-not-knowing-facts \n",
      "Published: 2020-04-15 13:46:16. \n"
     ]
    },
    {
     "data": {
      "text/html": [
       "this was not a mistake. this is intentional cynical <mark>misinformation</mark> meant to maintain the unquestioned blind devotion of the hopelessly illogical and duplicitous maga hordes."
      ],
      "text/plain": [
       "<IPython.core.display.HTML object>"
      ]
     },
     "metadata": {},
     "output_type": "display_data"
    },
    {
     "name": "stdout",
     "output_type": "stream",
     "text": [
      "Q: This is misinformation\n",
      "##\n",
      "\n",
      "\n",
      "\n",
      "133 / 33916\n",
      "worldnews\n",
      "--------------------\n"
     ]
    },
    {
     "data": {
      "text/html": [
       "<b>anti-malarial treatment hailed by trump has no benefit for <mark>coronav</mark>irus patients, french researchers find - study is the most comprehensive done on hydroxychloroquine treatment for <mark>covid</mark>-19 patients</b>"
      ],
      "text/plain": [
       "<IPython.core.display.HTML object>"
      ]
     },
     "metadata": {},
     "output_type": "display_data"
    },
    {
     "name": "stdout",
     "output_type": "stream",
     "text": [
      "URL: https://www.scmp.com/news/china/science/article/3080055/anti-malarial-treatment-hailed-trump-has-no-benefit-coronavirus \n",
      "Published: 2020-04-15 13:37:15. \n"
     ]
    },
    {
     "data": {
      "text/html": [
       "<mark>fake</mark> <mark>news</mark>! our emperor would never buy so much of it if it didn't heal good honest god fearing folks.\n",
       "ps: i'm willing to wait on my check as long as it gets our saviour's name on it. god bless his natural tan!"
      ],
      "text/plain": [
       "<IPython.core.display.HTML object>"
      ]
     },
     "metadata": {},
     "output_type": "display_data"
    },
    {
     "name": "stdout",
     "output_type": "stream",
     "text": [
      "Q: fake news\n",
      "##\n",
      "\n",
      "\n",
      "\n",
      "134 / 34025\n",
      "Coronavirus\n",
      "--------------------\n"
     ]
    },
    {
     "data": {
      "text/html": [
       "<b>volunteers create world's fastest supercomputer to combat <mark>coronav</mark>irus.</b>"
      ],
      "text/plain": [
       "<IPython.core.display.HTML object>"
      ]
     },
     "metadata": {},
     "output_type": "display_data"
    },
    {
     "name": "stdout",
     "output_type": "stream",
     "text": [
      "URL: https://www.theguardian.com/technology/2020/apr/15/volunteers-create-worlds-fastest-supercomputer-to-combat-coronavirus \n",
      "Published: 2020-04-15 13:27:05. \n"
     ]
    },
    {
     "data": {
      "text/html": [
       "clickbait <mark>bullshit</mark>.  nobody created anything....a bunch of people donated their unused cpu to folding at home."
      ],
      "text/plain": [
       "<IPython.core.display.HTML object>"
      ]
     },
     "metadata": {},
     "output_type": "display_data"
    },
    {
     "name": "stdout",
     "output_type": "stream",
     "text": [
      "Q: bullshit\n",
      "###########\n",
      "\n",
      "\n",
      "\n",
      "135 / 34554\n",
      "politics\n",
      "--------------------\n"
     ]
    },
    {
     "data": {
      "text/html": [
       "<b>anti-malarial treatment hailed by trump has no benefit for <mark>coronav</mark>irus patients, french researchers find</b>"
      ],
      "text/plain": [
       "<IPython.core.display.HTML object>"
      ]
     },
     "metadata": {},
     "output_type": "display_data"
    },
    {
     "name": "stdout",
     "output_type": "stream",
     "text": [
      "URL: https://www.scmp.com/news/china/science/article/3080055/anti-malarial-treatment-hailed-trump-has-no-benefit-coronavirus \n",
      "Published: 2020-04-15 12:28:24. \n"
     ]
    },
    {
     "data": {
      "text/html": [
       "\"<mark>fake</mark> <mark>news</mark>! just more never trumper scientists over there in france. probably all pedophiles. trump knows more than the scientists anyways.\" - the cult"
      ],
      "text/plain": [
       "<IPython.core.display.HTML object>"
      ]
     },
     "metadata": {},
     "output_type": "display_data"
    },
    {
     "name": "stdout",
     "output_type": "stream",
     "text": [
      "Q: fake news\n",
      "##\n",
      "\n",
      "\n",
      "\n",
      "136 / 34652\n",
      "Coronavirus\n",
      "--------------------\n"
     ]
    },
    {
     "data": {
      "text/html": [
       "<b>mail handler gets <mark>coronav</mark>irus, then her husband died. now she's speaking out</b>"
      ],
      "text/plain": [
       "<IPython.core.display.HTML object>"
      ]
     },
     "metadata": {},
     "output_type": "display_data"
    },
    {
     "name": "stdout",
     "output_type": "stream",
     "text": [
      "URL: https://www.lohud.com/story/news/coronavirus/2020/04/15/usps-workers-positive-coronavirus-westchester/2955299001/ \n",
      "Published: 2020-04-15 12:15:43. \n"
     ]
    },
    {
     "data": {
      "text/html": [
       "all delivery workers need top priority with ppe, that means mail carriers, truckers, and anyone else in a critical supply chain role.  instead we have the government hoarding every mask so that hospital workers can make tic tok videos.  mask sales banned on all platforms ebay, amazon etc. people are dying on the front lines while the cdc and fema hoard supplies. this is soviet style command economy <mark>bullshit</mark> that has been the cause of millions of deaths throughout history, but hey tyrants gonna tyrant."
      ],
      "text/plain": [
       "<IPython.core.display.HTML object>"
      ]
     },
     "metadata": {},
     "output_type": "display_data"
    },
    {
     "name": "stdout",
     "output_type": "stream",
     "text": [
      "Q: This is bullshit\n",
      "#########################\n",
      "\n",
      "\n",
      "\n",
      "137 / 35947\n",
      "politics\n",
      "--------------------\n"
     ]
    },
    {
     "data": {
      "text/html": [
       "<b>science says trump was right: malaria drugs need to be pursued as a <mark>coronav</mark>irus therapy</b>"
      ],
      "text/plain": [
       "<IPython.core.display.HTML object>"
      ]
     },
     "metadata": {},
     "output_type": "display_data"
    },
    {
     "name": "stdout",
     "output_type": "stream",
     "text": [
      "URL: https://thehill.com/opinion/healthcare/492687-science-says-trump-was-right-malaria-drugs-need-to-be-pursued-as-a \n",
      "Published: 2020-04-15 05:17:35. \n"
     ]
    },
    {
     "data": {
      "text/html": [
       "very <mark>misleading</mark> <mark>title</mark>.  reading the <mark>article</mark> and two of the studies cited, it becomes clear “pursued” means “explored further”, not “used as treatment”.  there is no evidence cited in the <mark>article</mark> that it works, just a bunch of “maybes” and “coulds”.  \n",
       "\n",
       "but if anyone’s interested, i have some fish bowl cleaner and tonic water available for a small mark up.  cash only."
      ],
      "text/plain": [
       "<IPython.core.display.HTML object>"
      ]
     },
     "metadata": {},
     "output_type": "display_data"
    },
    {
     "name": "stdout",
     "output_type": "stream",
     "text": [
      "Q: misleading title\n",
      "###\n",
      "\n",
      "\n",
      "\n",
      "138 / 36090\n",
      "Coronavirus\n",
      "--------------------\n"
     ]
    },
    {
     "data": {
      "text/html": [
       "<b><mark>coronav</mark>irus: stray dogs eating bat meat may have started <mark>pandemi</mark>c, study says</b>"
      ],
      "text/plain": [
       "<IPython.core.display.HTML object>"
      ]
     },
     "metadata": {},
     "output_type": "display_data"
    },
    {
     "name": "stdout",
     "output_type": "stream",
     "text": [
      "URL: https://news.sky.com/story/coronavirus-stray-dogs-eating-bat-meat-may-have-started-pandemic-study-says-11973364 \n",
      "Published: 2020-04-15 04:50:01. \n"
     ]
    },
    {
     "data": {
      "text/html": [
       "more <mark>bs</mark> still trying deflect the blame."
      ],
      "text/plain": [
       "<IPython.core.display.HTML object>"
      ]
     },
     "metadata": {},
     "output_type": "display_data"
    },
    {
     "name": "stdout",
     "output_type": "stream",
     "text": [
      "Q: BS\n",
      "#\n",
      "\n",
      "\n",
      "\n",
      "139 / 36129\n",
      "politics\n",
      "--------------------\n"
     ]
    },
    {
     "data": {
      "text/html": [
       "<b>fact check: trump denies saying another thing he said and makes more false claims at <mark>coronav</mark>irus briefing</b>"
      ],
      "text/plain": [
       "<IPython.core.display.HTML object>"
      ]
     },
     "metadata": {},
     "output_type": "display_data"
    },
    {
     "name": "stdout",
     "output_type": "stream",
     "text": [
      "URL: https://www.cnn.com/2020/04/14/politics/fact-check-trump-april-14/index.html \n",
      "Published: 2020-04-15 04:46:04. \n"
     ]
    },
    {
     "data": {
      "text/html": [
       "**<mark>fake</mark> <mark>news</mark>!!!**\n",
       "\n",
       "**how dare anyone quote myself and question me?** \n",
       "\n",
       "**how dare any of you question my words?**\n",
       "\n",
       "**i have the best words**"
      ],
      "text/plain": [
       "<IPython.core.display.HTML object>"
      ]
     },
     "metadata": {},
     "output_type": "display_data"
    },
    {
     "name": "stdout",
     "output_type": "stream",
     "text": [
      "Q: fake news\n",
      "#########\n",
      "\n",
      "\n",
      "\n",
      "140 / 36574\n",
      "Coronavirus\n",
      "--------------------\n"
     ]
    },
    {
     "data": {
      "text/html": [
       "<b>social distancing until 2022? it may be necessary, according to harvard <mark>coronav</mark>irus researchers</b>"
      ],
      "text/plain": [
       "<IPython.core.display.HTML object>"
      ]
     },
     "metadata": {},
     "output_type": "display_data"
    },
    {
     "name": "stdout",
     "output_type": "stream",
     "text": [
      "URL: https://fortune.com/2020/04/14/social-distancing-until-2022-coronavirus-end-date-spread-covid-19-harvard-researchers/ \n",
      "Published: 2020-04-15 02:52:55. \n"
     ]
    },
    {
     "data": {
      "text/html": [
       "<mark>bullshit</mark>."
      ],
      "text/plain": [
       "<IPython.core.display.HTML object>"
      ]
     },
     "metadata": {},
     "output_type": "display_data"
    },
    {
     "name": "stdout",
     "output_type": "stream",
     "text": [
      "Q: Bullshit\n",
      "###\n",
      "\n",
      "\n",
      "\n",
      "141 / 36741\n",
      "Coronavirus\n",
      "--------------------\n"
     ]
    },
    {
     "data": {
      "text/html": [
       "<b>stanford professor claims <mark>coronav</mark>irus death rate 'likely orders of magnitude lower' than first thought</b>"
      ],
      "text/plain": [
       "<IPython.core.display.HTML object>"
      ]
     },
     "metadata": {},
     "output_type": "display_data"
    },
    {
     "name": "stdout",
     "output_type": "stream",
     "text": [
      "URL: https://www.foxnews.com/media/stanford-professor-jay-bhattacharya-coronavirus-death-rate \n",
      "Published: 2020-04-15 02:15:31. \n"
     ]
    },
    {
     "data": {
      "text/html": [
       "<mark>fake</mark> <mark>news</mark>. <mark>fake</mark> <mark>source</mark>. expect way more than advertised."
      ],
      "text/plain": [
       "<IPython.core.display.HTML object>"
      ]
     },
     "metadata": {},
     "output_type": "display_data"
    },
    {
     "name": "stdout",
     "output_type": "stream",
     "text": [
      "Q: fake news\n",
      "Q: fake source\n",
      "###\n",
      "\n",
      "\n",
      "\n",
      "143 / 36871\n",
      "Coronavirus\n",
      "--------------------\n"
     ]
    },
    {
     "data": {
      "text/html": [
       "<b><mark>covid</mark>-19 shutdowns could continue into 2022, harvard experts predict</b>"
      ],
      "text/plain": [
       "<IPython.core.display.HTML object>"
      ]
     },
     "metadata": {},
     "output_type": "display_data"
    },
    {
     "name": "stdout",
     "output_type": "stream",
     "text": [
      "URL: https://www.inquirer.com/health/coronavirus/newsletter/coronavirus-covid19-philadelphia-pennsylvania-social-distancing-cases-new-jersey-20200414.html \n",
      "Published: 2020-04-15 02:04:40. \n"
     ]
    },
    {
     "data": {
      "text/html": [
       "that <mark>title</mark> is <mark>misleading</mark> (as always with this sub) but okay. they are essentially saying repeated shutdowns and closures will happen on and off in our country, a decision they’ve come to based on data and statistics and thinking they can predict how governments will react. in reality, another lockdown is completely impossible. this one only happened because we were facing an unknown disease with a lack of supplies and treatments. we simply cannot shut down until 2022, even if on and off like a faucet. not even the spanish flu lasted that long and it was way deadlier during a comparatively primitive time. \n",
       "\n",
       "if we do not have at least an effective treatment by then, if not a vaccine, then modern medicine and science will be a complete useless failure because it couldn’t even save the human race from a disease with a 1-3% fatality rate."
      ],
      "text/plain": [
       "<IPython.core.display.HTML object>"
      ]
     },
     "metadata": {},
     "output_type": "display_data"
    },
    {
     "name": "stdout",
     "output_type": "stream",
     "text": [
      "Q: title is misleading\n",
      "######\n",
      "\n",
      "\n",
      "\n",
      "144 / 37199\n",
      "worldnews\n",
      "--------------------\n"
     ]
    },
    {
     "data": {
      "text/html": [
       "<b>no evidence yet for effective <mark>covid</mark>-19 treatments, review shows</b>"
      ],
      "text/plain": [
       "<IPython.core.display.HTML object>"
      ]
     },
     "metadata": {},
     "output_type": "display_data"
    },
    {
     "name": "stdout",
     "output_type": "stream",
     "text": [
      "URL: https://abcnews.go.com/Health/covid-19-treatments-effective-review-shows/story?id=70140442 \n",
      "Published: 2020-04-15 01:06:52. \n"
     ]
    },
    {
     "data": {
      "text/html": [
       "there are over 50 studies showing effective treatments against other corona viruses, such as sars and mers, which is why doctors are confident similar treatments will work with covid. they just haven't proved it enough yet. but the <mark>title</mark> is <mark>misleading</mark>. there is evidence for effective covid-19 treatment, just not to the normal standard yet, because that takes a long time. (and the largest study was released last monday, which is not considered in this <mark>article</mark>.)"
      ],
      "text/plain": [
       "<IPython.core.display.HTML object>"
      ]
     },
     "metadata": {},
     "output_type": "display_data"
    },
    {
     "name": "stdout",
     "output_type": "stream",
     "text": [
      "Q: title is misleading\n"
     ]
    },
    {
     "data": {
      "text/html": [
       "<mark>misleading</mark> <mark>title</mark> regarding remdesivir the <mark>article</mark> itself states there is promising results already, just that the double blind trials aren't done."
      ],
      "text/plain": [
       "<IPython.core.display.HTML object>"
      ]
     },
     "metadata": {},
     "output_type": "display_data"
    },
    {
     "name": "stdout",
     "output_type": "stream",
     "text": [
      "Q: misleading title\n",
      "#####\n",
      "\n",
      "\n",
      "\n",
      "146 / 37428\n",
      "worldpolitics\n",
      "--------------------\n"
     ]
    },
    {
     "data": {
      "text/html": [
       "<b>trump suspends world health organisation funding over chinese <mark>coronav</mark>irus 'cover-up'</b>"
      ],
      "text/plain": [
       "<IPython.core.display.HTML object>"
      ]
     },
     "metadata": {},
     "output_type": "display_data"
    },
    {
     "name": "stdout",
     "output_type": "stream",
     "text": [
      "URL: https://www.youtube.com/watch?v=0Xy4nEpZbXM \n",
      "Published: 2020-04-15 00:21:48. \n"
     ]
    },
    {
     "data": {
      "text/html": [
       "<mark>bullshit</mark>! he even praised china on their efforts in late january.  what a fucking tool. [china tweet ](https://twitter.com/ddale8/status/1250188198006882304?s=19)"
      ],
      "text/plain": [
       "<IPython.core.display.HTML object>"
      ]
     },
     "metadata": {},
     "output_type": "display_data"
    },
    {
     "name": "stdout",
     "output_type": "stream",
     "text": [
      "Q: Bullshit\n",
      "############\n",
      "\n",
      "\n",
      "\n",
      "147 / 38030\n",
      "worldnews\n",
      "--------------------\n"
     ]
    },
    {
     "data": {
      "text/html": [
       "<b>trump halts us funding for the world health organization over inadequate response to the <mark>coronav</mark>irus <mark>pandemi</mark>c.</b>"
      ],
      "text/plain": [
       "<IPython.core.display.HTML object>"
      ]
     },
     "metadata": {},
     "output_type": "display_data"
    },
    {
     "name": "stdout",
     "output_type": "stream",
     "text": [
      "URL: https://www.usatoday.com/story/news/politics/2020/04/14/coronavirus-trump-halt-funding-world-health-organization/2983707001/ \n",
      "Published: 2020-04-14 23:05:16. \n"
     ]
    },
    {
     "data": {
      "text/html": [
       "who has been completely captured by ccp. they were saying the ccp line even up to jan. 19 (just 4 days before wuhan/hubei closed off) that there was no human-to-human transmission.\n",
       "\n",
       "only countries that did well--taiwan, s. korea--are used to ccp/who <mark>bullshit</mark> and <mark>disinfo</mark>. so they called <mark>bullshit</mark>. the us and eu? not so much. because they still foolishly trusted the who hadn't been so thoroughly captured. \n",
       "\n",
       "right decision. defund until reforms are made. at minimum tedros needs to be removed."
      ],
      "text/plain": [
       "<IPython.core.display.HTML object>"
      ]
     },
     "metadata": {},
     "output_type": "display_data"
    },
    {
     "name": "stdout",
     "output_type": "stream",
     "text": [
      "Q: bullshit\n",
      "###\n",
      "\n",
      "\n",
      "\n",
      "148 / 38197\n",
      "Coronavirus\n",
      "--------------------\n"
     ]
    },
    {
     "data": {
      "text/html": [
       "<b>ending <mark>coronav</mark>irus lockdowns will be a dangerous process of trial and error</b>"
      ],
      "text/plain": [
       "<IPython.core.display.HTML object>"
      ]
     },
     "metadata": {},
     "output_type": "display_data"
    },
    {
     "name": "stdout",
     "output_type": "stream",
     "text": [
      "URL: https://www.sciencemag.org/news/2020/04/ending-coronavirus-lockdowns-will-be-dangerous-process-trial-and-error \n",
      "Published: 2020-04-14 22:57:37. \n"
     ]
    },
    {
     "data": {
      "text/html": [
       "no. the worst is already behind us. we're on the upswing. it's going to get better from here on out.\n",
       "\n",
       "and the sub is already losing visitors on a daily basis. the fear-mongering echo chamber <mark>bullshit</mark> that this sub radiates is thankfully come to an end."
      ],
      "text/plain": [
       "<IPython.core.display.HTML object>"
      ]
     },
     "metadata": {},
     "output_type": "display_data"
    },
    {
     "name": "stdout",
     "output_type": "stream",
     "text": [
      "Q: bullshit\n",
      "#############\n",
      "\n",
      "\n",
      "\n",
      "149 / 38807\n",
      "politics\n",
      "--------------------\n"
     ]
    },
    {
     "data": {
      "text/html": [
       "<b>'a complete abomination': mega-rich hedge funds swoop down to grab <mark>covid</mark>-19 small business relief funds</b>"
      ],
      "text/plain": [
       "<IPython.core.display.HTML object>"
      ]
     },
     "metadata": {},
     "output_type": "display_data"
    },
    {
     "name": "stdout",
     "output_type": "stream",
     "text": [
      "URL: https://www.commondreams.org/news/2020/04/14/complete-abomination-mega-rich-hedge-funds-swoop-down-grab-covid-19-small-business \n",
      "Published: 2020-04-14 22:19:26. \n"
     ]
    },
    {
     "data": {
      "text/html": [
       "the headline is a bit <mark>misleading</mark>. they're making claims against the funds, but it's not at all clear whether those claims will actually be approved. \n",
       "\n",
       "i would probably not classify hedge funds as meeting the second requirement:  \"current economic uncertainty makes this loan request necessary to support the ongoing operations.\" many of them have sufficient capital to self-insure against fluctuations without government support. it's also literally their business, so they don't have a strong argument that they are \"exposed\" to uncertainty in the same way as small businesses."
      ],
      "text/plain": [
       "<IPython.core.display.HTML object>"
      ]
     },
     "metadata": {},
     "output_type": "display_data"
    },
    {
     "name": "stdout",
     "output_type": "stream",
     "text": [
      "Q: headline is misleading\n",
      "#####\n",
      "\n",
      "\n",
      "\n",
      "150 / 39079\n",
      "worldnews\n",
      "--------------------\n"
     ]
    },
    {
     "data": {
      "text/html": [
       "<b><mark>covid</mark>-19: brazilian trial for drug touted by trump halted after 11 patients die on high dose</b>"
      ],
      "text/plain": [
       "<IPython.core.display.HTML object>"
      ]
     },
     "metadata": {},
     "output_type": "display_data"
    },
    {
     "name": "stdout",
     "output_type": "stream",
     "text": [
      "URL: https://nationalpost.com/news/world/covid-19-brazil-trial-for-drug-chloroquine-touted-by-trump-stopped-after-11-patients-die \n",
      "Published: 2020-04-14 21:58:43. \n"
     ]
    },
    {
     "data": {
      "text/html": [
       "it was never \"touted\", it was never \"touted\", **it was never \"touted\"**. the media was blathering on about how promising and important hydroxochloroquine was long before trump made offhand mention of it. it was being investigated as a treatment before the media ever heard of it.\n",
       "\n",
       "this is what <mark>fake</mark> <mark>news</mark> looks like. promise a treatment over and over again in your reporting until you get trump's attention and he mentions it, then change your tune to smearing him for saying that *as if you weren't just fucking saying it yourself*. \n",
       "\n",
       "this is <mark>fake</mark> <mark>news</mark>. this is what we mean when we say orange man bad."
      ],
      "text/plain": [
       "<IPython.core.display.HTML object>"
      ]
     },
     "metadata": {},
     "output_type": "display_data"
    },
    {
     "name": "stdout",
     "output_type": "stream",
     "text": [
      "Q: This is fake news\n",
      "#########################\n",
      "\n",
      "\n",
      "\n",
      "151 / 40320\n",
      "Coronavirus\n",
      "--------------------\n"
     ]
    },
    {
     "data": {
      "text/html": [
       "<b>doctors worry the <mark>coronav</mark>irus is keeping patients away from us hospitals as er visits drop: ‘heart attacks don’t stop’</b>"
      ],
      "text/plain": [
       "<IPython.core.display.HTML object>"
      ]
     },
     "metadata": {},
     "output_type": "display_data"
    },
    {
     "name": "stdout",
     "output_type": "stream",
     "text": [
      "URL: https://www.cnbc.com/2020/04/14/doctors-worry-the-coronavirus-is-keeping-patients-away-from-us-hospitals-as-er-visits-drop-heart-attacks-dont-stop.html \n",
      "Published: 2020-04-14 19:49:18. \n"
     ]
    },
    {
     "data": {
      "text/html": [
       "<mark>bullshit</mark>"
      ],
      "text/plain": [
       "<IPython.core.display.HTML object>"
      ]
     },
     "metadata": {},
     "output_type": "display_data"
    },
    {
     "name": "stdout",
     "output_type": "stream",
     "text": [
      "Q: Bullshit\n",
      "#####\n",
      "\n",
      "\n",
      "\n",
      "152 / 40599\n",
      "Coronavirus\n",
      "--------------------\n"
     ]
    },
    {
     "data": {
      "text/html": [
       "<b>new york hospitalizations fall for first time in <mark>coronav</mark>irus <mark>pandemi</mark>c: governor</b>"
      ],
      "text/plain": [
       "<IPython.core.display.HTML object>"
      ]
     },
     "metadata": {},
     "output_type": "display_data"
    },
    {
     "name": "stdout",
     "output_type": "stream",
     "text": [
      "URL: https://www.reuters.com/article/us-health-coronavirus-usa-new-york-idUSKCN21W2DH \n",
      "Published: 2020-04-14 19:24:14. \n"
     ]
    },
    {
     "data": {
      "text/html": [
       "doubt this is real. <mark>fake</mark> <mark>news</mark> from the right trying to get the economy going"
      ],
      "text/plain": [
       "<IPython.core.display.HTML object>"
      ]
     },
     "metadata": {},
     "output_type": "display_data"
    },
    {
     "name": "stdout",
     "output_type": "stream",
     "text": [
      "Q: fake news\n",
      "##\n",
      "\n",
      "\n",
      "\n",
      "153 / 40681\n",
      "Coronavirus\n",
      "--------------------\n"
     ]
    },
    {
     "data": {
      "text/html": [
       "<b>one in three nhs staff test positive for <mark>coronav</mark>irus</b>"
      ],
      "text/plain": [
       "<IPython.core.display.HTML object>"
      ]
     },
     "metadata": {},
     "output_type": "display_data"
    },
    {
     "name": "stdout",
     "output_type": "stream",
     "text": [
      "URL: https://metro.co.uk/2020/04/14/one-three-nhs-staff-test-positive-coronavirus-12555122/?ITO=squid \n",
      "Published: 2020-04-14 19:13:34. \n"
     ]
    },
    {
     "data": {
      "text/html": [
       "the <mark>title</mark>, and the way the <mark>article</mark> is written, is really <mark>misleading</mark>. 1/3 of the nhs staff *who has been tested* has been tested positive. since the testing has likely been carried out among people who have shown symptoms, rather than just random sampling, it's very unlikely that 1/3 of the nhs has been infected with coronavirus.\n",
       "\n",
       "1/3 of tests being positive is still an alarming number though, since many countries with more widespread testing has rates way lower than that."
      ],
      "text/plain": [
       "<IPython.core.display.HTML object>"
      ]
     },
     "metadata": {},
     "output_type": "display_data"
    },
    {
     "name": "stdout",
     "output_type": "stream",
     "text": [
      "Q: title is misleading\n",
      "###\n",
      "\n",
      "\n",
      "\n",
      "154 / 40817\n",
      "politics\n",
      "--------------------\n"
     ]
    },
    {
     "data": {
      "text/html": [
       "<b>tax change in <mark>coronav</mark>irus package overwhelmingly benefits millionaires, congressional body finds</b>"
      ],
      "text/plain": [
       "<IPython.core.display.HTML object>"
      ]
     },
     "metadata": {},
     "output_type": "display_data"
    },
    {
     "name": "stdout",
     "output_type": "stream",
     "text": [
      "URL: https://www.washingtonpost.com/business/2020/04/14/coronavirus-law-congress-tax-change/ \n",
      "Published: 2020-04-14 18:56:01. \n"
     ]
    },
    {
     "data": {
      "text/html": [
       "<mark>fake</mark> <mark>news</mark> by bezos"
      ],
      "text/plain": [
       "<IPython.core.display.HTML object>"
      ]
     },
     "metadata": {},
     "output_type": "display_data"
    },
    {
     "name": "stdout",
     "output_type": "stream",
     "text": [
      "Q: fake news\n",
      "#\n",
      "\n",
      "\n",
      "\n",
      "155 / 40869\n",
      "worldnews\n",
      "--------------------\n"
     ]
    },
    {
     "data": {
      "text/html": [
       "<b><mark>coronav</mark>irus distancing may need to continue until 2022, say experts</b>"
      ],
      "text/plain": [
       "<IPython.core.display.HTML object>"
      ]
     },
     "metadata": {},
     "output_type": "display_data"
    },
    {
     "name": "stdout",
     "output_type": "stream",
     "text": [
      "URL: https://www.theguardian.com/world/2020/apr/14/coronavirus-distancing-continue-until-2022-lockdown-pandemic \n",
      "Published: 2020-04-14 18:52:05. \n"
     ]
    },
    {
     "data": {
      "text/html": [
       "it's a <mark>misleading</mark> <mark>title</mark>....again\n",
       "\n",
       "at the end of <mark>article</mark> says if no treatments, vaccines, or remedies can be aquired."
      ],
      "text/plain": [
       "<IPython.core.display.HTML object>"
      ]
     },
     "metadata": {},
     "output_type": "display_data"
    },
    {
     "name": "stdout",
     "output_type": "stream",
     "text": [
      "Q: It 's misleading title\n",
      "#\n",
      "\n",
      "\n",
      "\n",
      "156 / 40931\n",
      "politics\n",
      "--------------------\n"
     ]
    },
    {
     "data": {
      "text/html": [
       "<b>inequity, not genetics, the main factor in <mark>covid</mark> death rates for black americans</b>"
      ],
      "text/plain": [
       "<IPython.core.display.HTML object>"
      ]
     },
     "metadata": {},
     "output_type": "display_data"
    },
    {
     "name": "stdout",
     "output_type": "stream",
     "text": [
      "URL: https://www.courthousenews.com/inequity-not-genetics-the-main-factor-in-covid-death-rates-for-black-americans/ \n",
      "Published: 2020-04-14 18:43:44. \n"
     ]
    },
    {
     "data": {
      "text/html": [
       "this was obvious <mark>fake</mark> <mark>news</mark> from the start.  we all knew it wasn't related to race."
      ],
      "text/plain": [
       "<IPython.core.display.HTML object>"
      ]
     },
     "metadata": {},
     "output_type": "display_data"
    },
    {
     "name": "stdout",
     "output_type": "stream",
     "text": [
      "Q: This was fake news\n",
      "#####\n",
      "\n",
      "\n",
      "\n",
      "157 / 41164\n",
      "Coronavirus\n",
      "--------------------\n"
     ]
    },
    {
     "data": {
      "text/html": [
       "<b>faa bars active pilots from taking chloroquine and hydroxychloroquine to prevent <mark>coronav</mark>irus</b>"
      ],
      "text/plain": [
       "<IPython.core.display.HTML object>"
      ]
     },
     "metadata": {},
     "output_type": "display_data"
    },
    {
     "name": "stdout",
     "output_type": "stream",
     "text": [
      "URL: https://www.cnn.com/2020/04/14/politics/faa-coronavirus-medications-chloroquine-hydroxychloroquine/index.html \n",
      "Published: 2020-04-14 18:18:22. \n"
     ]
    },
    {
     "data": {
      "text/html": [
       "its saying within two days of flying, damn cnn always <mark>misleading</mark>. <mark>fake</mark> <mark>news</mark> as usual"
      ],
      "text/plain": [
       "<IPython.core.display.HTML object>"
      ]
     },
     "metadata": {},
     "output_type": "display_data"
    },
    {
     "name": "stdout",
     "output_type": "stream",
     "text": [
      "Q: fake news\n",
      "###########\n",
      "\n",
      "\n",
      "\n",
      "158 / 41715\n",
      "worldpolitics\n",
      "--------------------\n"
     ]
    },
    {
     "data": {
      "text/html": [
       "<b>[video] fauci contradicts himself again. blames trump for spread of <mark>coronav</mark>irus</b>"
      ],
      "text/plain": [
       "<IPython.core.display.HTML object>"
      ]
     },
     "metadata": {},
     "output_type": "display_data"
    },
    {
     "name": "stdout",
     "output_type": "stream",
     "text": [
      "URL: https://magamedia.org/2020/04/13/video-fauci-contradicts-himself-again-blames-trump-for-spread-of-coronavirus/ \n",
      "Published: 2020-04-14 16:51:59. \n"
     ]
    },
    {
     "data": {
      "text/html": [
       "a questionable <mark>source</mark> exhibits *one or more* of the following: extreme bias, consistent promotion of propaganda/conspiracies, poor or no sourcing to credible <mark>information</mark>, a complete lack of transparency and/or is <mark>fake</mark> <mark>news</mark>. <mark>fake</mark> <mark>news</mark> is the *deliberate attempt* to publish hoaxes and/or <mark>disinformation</mark> for the purpose of profit or influence ([learn more](https://mediabiasfactcheck.com/2017/05/31/being-more-media-savvy-wont-stop-the-spread-of-<mark>fake</mark>-<mark>news</mark>-heres-why/)). <mark>source</mark>s listed in the questionable category *may* be very untrustworthy and should be fact checked on a per <mark>article</mark> basis. please note <mark>source</mark>s on this list *are not* considered *<mark>fake</mark> <mark>news</mark>* unless specifically written in the reasoning section for that <mark>source</mark>. [see all questionable <mark>source</mark>s.](https://mediabiasfactcheck.com/<mark>fake</mark>-<mark>news</mark>/)\n",
       "\n",
       "reasoning: **extreme right, propaganda, mostly <mark>fake</mark> <mark>news</mark>**\n",
       "\n",
       "*departed is an extreme right wing biased <mark>news</mark> and opinion website. all headlines are sensationalized and lead to mostly <mark>fake</mark> or <mark>misleading</mark> content. this <mark>source</mark> has been rated as* [*<mark>fake</mark> <mark>news</mark>*](http://www.politifact.com/punditfact/<mark>article</mark>/2017/apr/20/politifacts-guide-<mark>fake</mark>-<mark>news</mark>-websites-and-what-they/?platform=hootsuite) *by politifact. this means that politifact has caught this <mark>source</mark> publishing at least one <mark>fake</mark> <mark>news</mark> <mark>article</mark>. we also recommend that you do not click on the website link below as the* ***website attempts to hijack your browser.***"
      ],
      "text/plain": [
       "<IPython.core.display.HTML object>"
      ]
     },
     "metadata": {},
     "output_type": "display_data"
    },
    {
     "name": "stdout",
     "output_type": "stream",
     "text": [
      "Q: fake news\n",
      "Q: fake news\n",
      "#\n",
      "\n",
      "\n",
      "\n",
      "160 / 41785\n",
      "Coronavirus\n",
      "--------------------\n"
     ]
    },
    {
     "data": {
      "text/html": [
       "<b>majority of americans support monthly cash assistance to offset <mark>pandemi</mark>c damage to economy</b>"
      ],
      "text/plain": [
       "<IPython.core.display.HTML object>"
      ]
     },
     "metadata": {},
     "output_type": "display_data"
    },
    {
     "name": "stdout",
     "output_type": "stream",
     "text": [
      "URL: https://theappeal.org/majority-of-americans-support-monthly-cash-assistance-to-offset-pandemic-damage-to-economy/ \n",
      "Published: 2020-04-14 16:45:10. \n"
     ]
    },
    {
     "data": {
      "text/html": [
       "people support free money every month? lol i find that hard to believe. <mark>fake</mark> <mark>news</mark>!"
      ],
      "text/plain": [
       "<IPython.core.display.HTML object>"
      ]
     },
     "metadata": {},
     "output_type": "display_data"
    },
    {
     "name": "stdout",
     "output_type": "stream",
     "text": [
      "Q: fake news\n",
      "###########\n",
      "\n",
      "\n",
      "\n",
      "161 / 42328\n",
      "worldnews\n",
      "--------------------\n"
     ]
    },
    {
     "data": {
      "text/html": [
       "<b>chile counts those who died of <mark>coronav</mark>irus as recovered because they're 'no longer contagious,' health minister says</b>"
      ],
      "text/plain": [
       "<IPython.core.display.HTML object>"
      ]
     },
     "metadata": {},
     "output_type": "display_data"
    },
    {
     "name": "stdout",
     "output_type": "stream",
     "text": [
      "URL: https://www.newsweek.com/chile-counts-those-who-died-coronavirus-recovered-because-theyre-no-longer-contagious-health-1497775 \n",
      "Published: 2020-04-14 15:37:39. \n"
     ]
    },
    {
     "data": {
      "text/html": [
       "this is the kind of thing that should not be <mark>news</mark>.\n",
       "\n",
       "&#x200b;\n",
       "\n",
       ">but the calculation has reportedly been adopted following validation by international health experts\n",
       "\n",
       "&#x200b;\n",
       "\n",
       "chile has a different health care system than the us and the language isn't english.  one plausible explanation is that they only track and report active cases, closed cases and fatalities.  if this is the case, what we consider to be recoveries is easily derivable - closed minus fatalities.\n",
       "\n",
       "this <mark>article</mark> is both <mark>misleading</mark> and not even <mark>news</mark>.  more <mark>information</mark> is needed, and the writer failed to ask questions and get answers.  do your job reporters!  do your job!\n",
       "\n",
       "is chile doing anything wrong?  probably not.  is this <mark>article</mark> irresponsible?  definitely."
      ],
      "text/plain": [
       "<IPython.core.display.HTML object>"
      ]
     },
     "metadata": {},
     "output_type": "display_data"
    },
    {
     "name": "stdout",
     "output_type": "stream",
     "text": [
      "Q: article is misleading\n",
      "########\n",
      "\n",
      "\n",
      "\n",
      "162 / 42715\n",
      "worldnews\n",
      "--------------------\n"
     ]
    },
    {
     "data": {
      "text/html": [
       "<b>jpmorgan's profit plummets 69% because of <mark>coronav</mark>irus</b>"
      ],
      "text/plain": [
       "<IPython.core.display.HTML object>"
      ]
     },
     "metadata": {},
     "output_type": "display_data"
    },
    {
     "name": "stdout",
     "output_type": "stream",
     "text": [
      "URL: https://www.cnn.com/2020/04/14/investing/jpmorgan-earnings-coronavirus/index.html \n",
      "Published: 2020-04-14 14:52:44. \n"
     ]
    },
    {
     "data": {
      "text/html": [
       "<mark>misleading</mark> <mark>title</mark>. it dropped so much because they set aside $6.8 billion of their reserves as a \"buffer\".\n",
       "\n",
       "they determine z(profit) by subtracting x(how much they spent during a certain time period) from y(how much they made in that same time period). now it's...\n",
       "\n",
       "y - (x + $6.8 billion) = z\n",
       "\n",
       "instead of just...\n",
       "\n",
       "y - x = z"
      ],
      "text/plain": [
       "<IPython.core.display.HTML object>"
      ]
     },
     "metadata": {},
     "output_type": "display_data"
    },
    {
     "name": "stdout",
     "output_type": "stream",
     "text": [
      "Q: misleading title\n",
      "#########\n",
      "\n",
      "\n",
      "\n",
      "163 / 43152\n",
      "Coronavirus\n",
      "--------------------\n"
     ]
    },
    {
     "data": {
      "text/html": [
       "<b>uk <mark>coronav</mark>irus death toll could be 15% higher than previously shown: new data</b>"
      ],
      "text/plain": [
       "<IPython.core.display.HTML object>"
      ]
     },
     "metadata": {},
     "output_type": "display_data"
    },
    {
     "name": "stdout",
     "output_type": "stream",
     "text": [
      "URL: https://www.reuters.com/article/us-health-coronavirus-england-casualties/uk-coronavirus-death-toll-could-be-15-higher-than-previously-shown-new-data-idUSKCN21W0YA?il=0 \n",
      "Published: 2020-04-14 13:45:54. \n"
     ]
    },
    {
     "data": {
      "text/html": [
       "<mark>title</mark> is <mark>misleading</mark>. this data is only representative of england & wales. not sure about northern ireland but scotland has been counting deaths outside of hospital since last monday."
      ],
      "text/plain": [
       "<IPython.core.display.HTML object>"
      ]
     },
     "metadata": {},
     "output_type": "display_data"
    },
    {
     "name": "stdout",
     "output_type": "stream",
     "text": [
      "Q: Title is misleading\n",
      "##\n",
      "\n",
      "\n",
      "\n",
      "164 / 43281\n",
      "politics\n",
      "--------------------\n"
     ]
    },
    {
     "data": {
      "text/html": [
       "<b>manafort asks for early release, citing 'high risk of contracting <mark>covid</mark>-19' in prison</b>"
      ],
      "text/plain": [
       "<IPython.core.display.HTML object>"
      ]
     },
     "metadata": {},
     "output_type": "display_data"
    },
    {
     "name": "stdout",
     "output_type": "stream",
     "text": [
      "URL: https://thehill.com/homenews/news/492641-manafort-asks-for-early-release-over-high-risk-of-contracting-covid-19-in \n",
      "Published: 2020-04-14 13:33:48. \n"
     ]
    },
    {
     "data": {
      "text/html": [
       "if you can’t do the time, pauly... you shouldn’t have done the crime. \n",
       "\n",
       "if this is allowed, then why not release every elderly prisoner??????? \n",
       "\n",
       "this is <mark>bs</mark>."
      ],
      "text/plain": [
       "<IPython.core.display.HTML object>"
      ]
     },
     "metadata": {},
     "output_type": "display_data"
    },
    {
     "name": "stdout",
     "output_type": "stream",
     "text": [
      "Q: This is BS\n",
      "#######\n",
      "\n",
      "\n",
      "\n",
      "165 / 43650\n",
      "europe\n",
      "--------------------\n"
     ]
    },
    {
     "data": {
      "text/html": [
       "<b><mark>coronav</mark>irus ireland: 5g arsonists target mobile masts as conspiracy theories start to take their toll</b>"
      ],
      "text/plain": [
       "<IPython.core.display.HTML object>"
      ]
     },
     "metadata": {},
     "output_type": "display_data"
    },
    {
     "name": "stdout",
     "output_type": "stream",
     "text": [
      "URL: https://www.independent.ie/irish-news/coronavirus-ireland-5g-arsonists-target-mobile-masts-as-conspiracy-theories-start-to-take-their-toll-39124082.html \n",
      "Published: 2020-04-14 12:08:34. \n"
     ]
    },
    {
     "data": {
      "text/html": [
       "yesterday i was talking on ham cb radio, there was an incredibly good propagation and i was able to talk with a guy in sicily (i am near rome on the coast, so propably wawes traveled along the sea undisturbed). he said that governments were cutting trees because they would stop 5g waves and other similar <mark>bullshit</mark>. \"go to facebook and youtube, it's all there\" and i said: \"i'ts all there but it's all <mark>bullshit</mark>\" i mean, he was talikng about radio waves and he was talking on ham radio..."
      ],
      "text/plain": [
       "<IPython.core.display.HTML object>"
      ]
     },
     "metadata": {},
     "output_type": "display_data"
    },
    {
     "name": "stdout",
     "output_type": "stream",
     "text": [
      "Q: it 's bullshit\n",
      "#########\n",
      "\n",
      "\n",
      "\n",
      "166 / 44083\n",
      "europe\n",
      "--------------------\n"
     ]
    },
    {
     "data": {
      "text/html": [
       "<b>germany ranked 'second safest country in the world' during <mark>coronav</mark>irus <mark>pandemi</mark>c</b>"
      ],
      "text/plain": [
       "<IPython.core.display.HTML object>"
      ]
     },
     "metadata": {},
     "output_type": "display_data"
    },
    {
     "name": "stdout",
     "output_type": "stream",
     "text": [
      "URL: https://www.thelocal.de/20200414/germany-ranked-second-safest-country-in-the-world-during-coronavirus-pandemic \n",
      "Published: 2020-04-14 10:49:46. \n"
     ]
    },
    {
     "data": {
      "text/html": [
       "um sorry, what? this is <mark>bs</mark>. we handled the beginning of the crysis particulary well by testing tons of people and tracking the inital cases. then closing kindergartens and schools and non-essential shopping. our spread isn't nearly as bad as in other countries, even those that took harsher aproaches and vast majority of dead and newly infected are in retirement homes. not sure what other measures they were supposed to take to please these idiots."
      ],
      "text/plain": [
       "<IPython.core.display.HTML object>"
      ]
     },
     "metadata": {},
     "output_type": "display_data"
    },
    {
     "name": "stdout",
     "output_type": "stream",
     "text": [
      "Q: This is bs\n",
      "####\n",
      "\n",
      "\n",
      "\n",
      "167 / 44285\n",
      "europe\n",
      "--------------------\n"
     ]
    },
    {
     "data": {
      "text/html": [
       "<b>spain, austria allow partial return to normal from <mark>coronav</mark>irus lockdowns</b>"
      ],
      "text/plain": [
       "<IPython.core.display.HTML object>"
      ]
     },
     "metadata": {},
     "output_type": "display_data"
    },
    {
     "name": "stdout",
     "output_type": "stream",
     "text": [
      "URL: https://www.reuters.com/article/us-health-coronavirus/spain-austria-allow-partial-return-to-normal-from-coronavirus-lockdowns-idUSKCN21W16E \n",
      "Published: 2020-04-14 10:24:49. \n"
     ]
    },
    {
     "data": {
      "text/html": [
       "<mark>bullshit</mark>."
      ],
      "text/plain": [
       "<IPython.core.display.HTML object>"
      ]
     },
     "metadata": {},
     "output_type": "display_data"
    },
    {
     "name": "stdout",
     "output_type": "stream",
     "text": [
      "Q: Bullshit\n",
      "###\n",
      "\n",
      "\n",
      "\n",
      "168 / 44424\n",
      "Coronavirus\n",
      "--------------------\n"
     ]
    },
    {
     "data": {
      "text/html": [
       "<b>uk <mark>coronav</mark>irus death to could be 15% higher than shown in daily data - ons</b>"
      ],
      "text/plain": [
       "<IPython.core.display.HTML object>"
      ]
     },
     "metadata": {},
     "output_type": "display_data"
    },
    {
     "name": "stdout",
     "output_type": "stream",
     "text": [
      "URL: https://reut.rs/3a6LY7R \n",
      "Published: 2020-04-14 09:34:13. \n"
     ]
    },
    {
     "data": {
      "text/html": [
       "very <mark>misleading</mark> <mark>title</mark> by reuters.\n",
       "\n",
       "as of 3rd april the daily totals for the whole of the uk added up to 3605 deaths, while the ons figures of the weeks 13 and 14 give 7,000 deaths above the average, and just in england and wales. they may not all be caused by covid directly, but most if not all will be covid related. prior to the pandemic the uk was running significantly below the 5 year average, which is normal.\n",
       "\n",
       "the 15% being reported on is over the second england and wales count, which includes non hospital deaths and only rarely gets mentioned. so rarely that even if the 15% is being used in a headline correctly it could be seen as potentially <mark>misleading</mark>."
      ],
      "text/plain": [
       "<IPython.core.display.HTML object>"
      ]
     },
     "metadata": {},
     "output_type": "display_data"
    },
    {
     "name": "stdout",
     "output_type": "stream",
     "text": [
      "Q: misleading title\n",
      "###\n",
      "\n",
      "\n",
      "\n",
      "169 / 44577\n",
      "worldnews\n",
      "--------------------\n"
     ]
    },
    {
     "data": {
      "text/html": [
       "<b>taiwan records no new <mark>covid</mark>-19 cases, total kept at 393</b>"
      ],
      "text/plain": [
       "<IPython.core.display.HTML object>"
      ]
     },
     "metadata": {},
     "output_type": "display_data"
    },
    {
     "name": "stdout",
     "output_type": "stream",
     "text": [
      "URL: https://focustaiwan.tw/society/202004140010 \n",
      "Published: 2020-04-14 08:35:58. \n"
     ]
    },
    {
     "data": {
      "text/html": [
       "gosh this is such <mark>bullshit</mark>. how many times are we going to see this and just know it's all a pure lie?"
      ],
      "text/plain": [
       "<IPython.core.display.HTML object>"
      ]
     },
     "metadata": {},
     "output_type": "display_data"
    },
    {
     "name": "stdout",
     "output_type": "stream",
     "text": [
      "Q: this is bullshit\n",
      "#############\n",
      "\n",
      "\n",
      "\n",
      "170 / 45238\n",
      "Coronavirus\n",
      "--------------------\n"
     ]
    },
    {
     "data": {
      "text/html": [
       "<b>grubhub, doordash, postmates, uber eats are sued over restaurant prices amid <mark>pandemi</mark>c</b>"
      ],
      "text/plain": [
       "<IPython.core.display.HTML object>"
      ]
     },
     "metadata": {},
     "output_type": "display_data"
    },
    {
     "name": "stdout",
     "output_type": "stream",
     "text": [
      "URL: https://www.reuters.com/article/us-health-coronavirus-food-delivery-laws/grubhub-doordash-postmates-uber-eats-are-sued-over-restaurant-prices-amid-pandemic-idUSKCN21V2C1 \n",
      "Published: 2020-04-14 04:26:42. \n"
     ]
    },
    {
     "data": {
      "text/html": [
       "what’s the solution here? i am not sure what they expect from the delivery services. they are providing a service and should be paid for it.\n",
       "\n",
       "this <mark>article</mark> seems like <mark>bs</mark>. pull up your delivery apps. food is more expensive across the bored in for delivery vs in restaurant dining for the same items."
      ],
      "text/plain": [
       "<IPython.core.display.HTML object>"
      ]
     },
     "metadata": {},
     "output_type": "display_data"
    },
    {
     "name": "stdout",
     "output_type": "stream",
     "text": [
      "Q: article seems like bs\n",
      "#############################\n",
      "\n",
      "\n",
      "\n",
      "171 / 46693\n",
      "politics\n",
      "--------------------\n"
     ]
    },
    {
     "data": {
      "text/html": [
       "<b><mark>coronav</mark>irus: study into drug lauded by trump cancelled after fatal heart complications. 11 out of 81 patients die during <mark>covid</mark>-19 trial</b>"
      ],
      "text/plain": [
       "<IPython.core.display.HTML object>"
      ]
     },
     "metadata": {},
     "output_type": "display_data"
    },
    {
     "name": "stdout",
     "output_type": "stream",
     "text": [
      "URL: https://www.independent.co.uk/news/world/americas/coronavirus-chloroquine-study-cancelled-fatal-heart-complications-a9463276.html \n",
      "Published: 2020-04-14 00:03:45. \n"
     ]
    },
    {
     "data": {
      "text/html": [
       "<mark>fake</mark> <mark>news</mark>!!! don’t listen my conservative brothers and sisters! president trump put us on this path for a reason and wouldn’t lead us astray. take your chloroquine!"
      ],
      "text/plain": [
       "<IPython.core.display.HTML object>"
      ]
     },
     "metadata": {},
     "output_type": "display_data"
    },
    {
     "name": "stdout",
     "output_type": "stream",
     "text": [
      "Q: fake news\n",
      "#\n",
      "\n",
      "\n",
      "\n",
      "172 / 46750\n",
      "Coronavirus\n",
      "--------------------\n"
     ]
    },
    {
     "data": {
      "text/html": [
       "<b>florida declares wwe an ‘essential business’ during <mark>coronav</mark>irus <mark>pandemi</mark>c</b>"
      ],
      "text/plain": [
       "<IPython.core.display.HTML object>"
      ]
     },
     "metadata": {},
     "output_type": "display_data"
    },
    {
     "name": "stdout",
     "output_type": "stream",
     "text": [
      "URL: https://www.nydailynews.com/coronavirus/ny-florida-declares-wwe-an-essential-business-despite-coronavirus-20200413-opmrz7gsyvdapk7fc476o3cmv4-story.html \n",
      "Published: 2020-04-13 23:53:03. \n"
     ]
    },
    {
     "data": {
      "text/html": [
       "is this a <mark>fake</mark> <mark>news</mark>?"
      ],
      "text/plain": [
       "<IPython.core.display.HTML object>"
      ]
     },
     "metadata": {},
     "output_type": "display_data"
    },
    {
     "name": "stdout",
     "output_type": "stream",
     "text": [
      "Q: this Is fake news\n",
      "######################\n",
      "\n",
      "\n",
      "\n",
      "173 / 47834\n",
      "Coronavirus\n",
      "--------------------\n"
     ]
    },
    {
     "data": {
      "text/html": [
       "<b>outrage as ‘anti-lockdown conspiracy theorists ignore <mark>coronav</mark>irus fears to stage public protest in vancouver’</b>"
      ],
      "text/plain": [
       "<IPython.core.display.HTML object>"
      ]
     },
     "metadata": {},
     "output_type": "display_data"
    },
    {
     "name": "stdout",
     "output_type": "stream",
     "text": [
      "URL: http://newsparliament.com/2020/04/13/outrage-as-anti-lockdown-conspiracy-theorists-ignore-coronavirus-fears-to-stage-public-protest-in-vancouver/ \n",
      "Published: 2020-04-13 21:23:12. \n"
     ]
    },
    {
     "data": {
      "text/html": [
       "well, let me see.\n",
       "\n",
       "mainstream media - clickbait <mark>bullshit</mark> and lies\n",
       "\n",
       "government - lies (masks don't work etc)\n",
       "\n",
       "&#x200b;\n",
       "\n",
       "so who can fucking blame people if they decide not to trust the media and the government any more?\n",
       "\n",
       "whose fault is that, really?"
      ],
      "text/plain": [
       "<IPython.core.display.HTML object>"
      ]
     },
     "metadata": {},
     "output_type": "display_data"
    },
    {
     "name": "stdout",
     "output_type": "stream",
     "text": [
      "Q: bullshit\n",
      "#################\n",
      "\n",
      "\n",
      "\n",
      "174 / 48688\n",
      "Coronavirus\n",
      "--------------------\n"
     ]
    },
    {
     "data": {
      "text/html": [
       "<b>world class breakthrough! pakistani scientists find treatment for <mark>coronav</mark>irus</b>"
      ],
      "text/plain": [
       "<IPython.core.display.HTML object>"
      ]
     },
     "metadata": {},
     "output_type": "display_data"
    },
    {
     "name": "stdout",
     "output_type": "stream",
     "text": [
      "URL: https://www.globalvillagespace.com/world-class-breakthrough-pakistani-scientists-find-treatment-for-coronavirus/ \n",
      "Published: 2020-04-13 20:43:31. \n"
     ]
    },
    {
     "data": {
      "text/html": [
       "plasma treatments are nothing new. this is <mark>misleading</mark>."
      ],
      "text/plain": [
       "<IPython.core.display.HTML object>"
      ]
     },
     "metadata": {},
     "output_type": "display_data"
    },
    {
     "name": "stdout",
     "output_type": "stream",
     "text": [
      "Q: This is misleading\n",
      "####\n",
      "\n",
      "\n",
      "\n",
      "175 / 48871\n",
      "politics\n",
      "--------------------\n"
     ]
    },
    {
     "data": {
      "text/html": [
       "<b>most americans think president trump waited too long to act on <mark>covid</mark>-19</b>"
      ],
      "text/plain": [
       "<IPython.core.display.HTML object>"
      ]
     },
     "metadata": {},
     "output_type": "display_data"
    },
    {
     "name": "stdout",
     "output_type": "stream",
     "text": [
      "URL: https://today.yougov.com/topics/politics/articles-reports/2020/04/13/trump-waited-too-long-poll \n",
      "Published: 2020-04-13 20:05:45. \n"
     ]
    },
    {
     "data": {
      "text/html": [
       "<mark>misleading</mark> <mark>title</mark>. clearly, most americans don't think."
      ],
      "text/plain": [
       "<IPython.core.display.HTML object>"
      ]
     },
     "metadata": {},
     "output_type": "display_data"
    },
    {
     "name": "stdout",
     "output_type": "stream",
     "text": [
      "Q: misleading title\n",
      "##########\n",
      "\n",
      "\n",
      "\n",
      "176 / 49368\n",
      "Coronavirus\n",
      "--------------------\n"
     ]
    },
    {
     "data": {
      "text/html": [
       "<b>an emergency room doctor in miami, florida, has temporarily lost custody of her 4-year-old daughter while she treats patients during the <mark>coronav</mark>irus <mark>pandemi</mark>c.</b>"
      ],
      "text/plain": [
       "<IPython.core.display.HTML object>"
      ]
     },
     "metadata": {},
     "output_type": "display_data"
    },
    {
     "name": "stdout",
     "output_type": "stream",
     "text": [
      "URL: https://www.cnn.com/2020/04/13/us/custody-coronavirus-er-doctor-trnd/index.html \n",
      "Published: 2020-04-13 18:45:49. \n"
     ]
    },
    {
     "data": {
      "text/html": [
       "<mark>bullshit</mark>."
      ],
      "text/plain": [
       "<IPython.core.display.HTML object>"
      ]
     },
     "metadata": {},
     "output_type": "display_data"
    },
    {
     "name": "stdout",
     "output_type": "stream",
     "text": [
      "Q: Bullshit\n",
      "\n",
      "\n",
      "\n",
      "\n",
      "177 / 49383\n",
      "politics\n",
      "--------------------\n"
     ]
    },
    {
     "data": {
      "text/html": [
       "<b>trump campaign sues northwoods tv station for airing presidents own words on <mark>covid</mark>-19</b>"
      ],
      "text/plain": [
       "<IPython.core.display.HTML object>"
      ]
     },
     "metadata": {},
     "output_type": "display_data"
    },
    {
     "name": "stdout",
     "output_type": "stream",
     "text": [
      "URL: https://www.wpr.org/trump-campaign-sues-northwoods-tv-station-airing-covid-19-attack-ad \n",
      "Published: 2020-04-13 18:44:24. \n"
     ]
    },
    {
     "data": {
      "text/html": [
       "some weakman authoritarian-wannabe <mark>bullshit</mark> right here, everyone.  this is what kim jung-un would pull."
      ],
      "text/plain": [
       "<IPython.core.display.HTML object>"
      ]
     },
     "metadata": {},
     "output_type": "display_data"
    },
    {
     "name": "stdout",
     "output_type": "stream",
     "text": [
      "Q: bullshit\n",
      "#####\n",
      "\n",
      "\n",
      "\n",
      "178 / 49630\n",
      "worldnews\n",
      "--------------------\n"
     ]
    },
    {
     "data": {
      "text/html": [
       "<b><mark>covid</mark>-19 saving many more lives than its taking, scientists estimate</b>"
      ],
      "text/plain": [
       "<IPython.core.display.HTML object>"
      ]
     },
     "metadata": {},
     "output_type": "display_data"
    },
    {
     "name": "stdout",
     "output_type": "stream",
     "text": [
      "URL: https://thinkpol.ca/2020/04/13/covid-19-saving-many-lives-taking-scientists-estimate/ \n",
      "Published: 2020-04-13 18:02:12. \n"
     ]
    },
    {
     "data": {
      "text/html": [
       "<mark>bullshit</mark>.\n",
       "\n",
       "> covid-19 pandemic is saving many more lives around the world than its taking by reducing harmful air pollution, according to estimates by a group of french and hong kong scientists.\n",
       "\n",
       "we shut down the economy for that. how many lives are going to be lost due to unemployment and mental health issues on top of direct deaths caused by covid-19?\n",
       "\n",
       "horrible clickbait."
      ],
      "text/plain": [
       "<IPython.core.display.HTML object>"
      ]
     },
     "metadata": {},
     "output_type": "display_data"
    },
    {
     "name": "stdout",
     "output_type": "stream",
     "text": [
      "Q: Bullshit\n",
      "########\n",
      "\n",
      "\n",
      "\n",
      "179 / 50036\n",
      "politics\n",
      "--------------------\n"
     ]
    },
    {
     "data": {
      "text/html": [
       "<b>the <mark>covid</mark>-19 blame game is going to get uglier</b>"
      ],
      "text/plain": [
       "<IPython.core.display.HTML object>"
      ]
     },
     "metadata": {},
     "output_type": "display_data"
    },
    {
     "name": "stdout",
     "output_type": "stream",
     "text": [
      "URL: https://fivethirtyeight.com/features/the-covid-19-blame-game-is-going-to-get-uglier/ \n",
      "Published: 2020-04-13 17:16:34. \n"
     ]
    },
    {
     "data": {
      "text/html": [
       "there is no blame game.  \n",
       "\n",
       "are they really suggesting it’s purely political to consider the value of the federal response to the pandemic? \n",
       "\n",
       "this is utter <mark>bs</mark> when we still have a potus who just last week confused coronavirus with bacteria that is so exceptional that it’s resisted antibiotics."
      ],
      "text/plain": [
       "<IPython.core.display.HTML object>"
      ]
     },
     "metadata": {},
     "output_type": "display_data"
    },
    {
     "name": "stdout",
     "output_type": "stream",
     "text": [
      "Q: This is bs\n",
      "#######\n",
      "\n",
      "\n",
      "\n",
      "180 / 50371\n",
      "worldnews\n",
      "--------------------\n"
     ]
    },
    {
     "data": {
      "text/html": [
       "<b>new york surpasses 10,000 <mark>coronav</mark>irus deaths, but ‘the worst is over,’ cuomo says</b>"
      ],
      "text/plain": [
       "<IPython.core.display.HTML object>"
      ]
     },
     "metadata": {},
     "output_type": "display_data"
    },
    {
     "name": "stdout",
     "output_type": "stream",
     "text": [
      "URL: https://www.forbes.com/sites/lisettevoytko/2020/04/13/new-york-surpasses-10000-coronavirus-deaths-cuomo-says/#76650a2eff14 \n",
      "Published: 2020-04-13 16:53:53. \n"
     ]
    },
    {
     "data": {
      "text/html": [
       "<mark>bullshit</mark>. the daily average may not increase, much but usa still has the very long and drawn out recovery, because they don't want to lock down correctly."
      ],
      "text/plain": [
       "<IPython.core.display.HTML object>"
      ]
     },
     "metadata": {},
     "output_type": "display_data"
    },
    {
     "name": "stdout",
     "output_type": "stream",
     "text": [
      "Q: Bullshit\n",
      "###\n",
      "\n",
      "\n",
      "\n",
      "181 / 50513\n",
      "politics\n",
      "--------------------\n"
     ]
    },
    {
     "data": {
      "text/html": [
       "<b>warren wants paid sick leave, 'premium pay' for essential workers in next <mark>coronav</mark>irus bill</b>"
      ],
      "text/plain": [
       "<IPython.core.display.HTML object>"
      ]
     },
     "metadata": {},
     "output_type": "display_data"
    },
    {
     "name": "stdout",
     "output_type": "stream",
     "text": [
      "URL: https://thehill.com/homenews/senate/492517-warren-wants-paid-sick-leave-premium-pay-for-essential-workers-in-next \n",
      "Published: 2020-04-13 16:35:51. \n"
     ]
    },
    {
     "data": {
      "text/html": [
       "essential workers should be making more. it is <mark>bullshit</mark> that i, and many others, are out risking our lives for a paycheck and to help keep the country going yet many of us are getting paid less than people collecting unemployment due to the +600 additional unemployment benefits per week. \n",
       "\n",
       "i would get paid more if i get laid off or fired...and i wouldn't have to risk getting sick everyday."
      ],
      "text/plain": [
       "<IPython.core.display.HTML object>"
      ]
     },
     "metadata": {},
     "output_type": "display_data"
    },
    {
     "name": "stdout",
     "output_type": "stream",
     "text": [
      "Q: It is bullshit\n",
      "####\n",
      "\n",
      "\n",
      "\n",
      "182 / 50717\n",
      "worldnews\n",
      "--------------------\n"
     ]
    },
    {
     "data": {
      "text/html": [
       "<b><mark>coronav</mark>irus: china strips virus research from internet</b>"
      ],
      "text/plain": [
       "<IPython.core.display.HTML object>"
      ]
     },
     "metadata": {},
     "output_type": "display_data"
    },
    {
     "name": "stdout",
     "output_type": "stream",
     "text": [
      "URL: https://www.news.com.au/world/asia/coronavirus-china-strips-virus-research-from-internet/news-story/d7f521354022b4984230643ecd76fb26 \n",
      "Published: 2020-04-13 16:16:34. \n"
     ]
    },
    {
     "data": {
      "text/html": [
       "wow. even more <mark>bullshit</mark> out of china.  seriously, fuck china"
      ],
      "text/plain": [
       "<IPython.core.display.HTML object>"
      ]
     },
     "metadata": {},
     "output_type": "display_data"
    },
    {
     "name": "stdout",
     "output_type": "stream",
     "text": [
      "Q: bullshit\n",
      "##\n",
      "\n",
      "\n",
      "\n",
      "183 / 50828\n",
      "worldpolitics\n",
      "--------------------\n"
     ]
    },
    {
     "data": {
      "text/html": [
       "<b>did public health officials mislead us? '<mark>coronav</mark>irus is not a major threat for the people in united states, and this is not something the citizens should be worried about,' dr. fauci said on january 21 | tech news</b>"
      ],
      "text/plain": [
       "<IPython.core.display.HTML object>"
      ]
     },
     "metadata": {},
     "output_type": "display_data"
    },
    {
     "name": "stdout",
     "output_type": "stream",
     "text": [
      "URL: https://techstartups.com/2020/04/12/public-health-officials-mislead-us-coronavirus-not-major-threat-people-united-states-not-something-citizens-worried-dr-fauci-said-janu/?fbclid=IwAR0v0QCYzP9D-bbkcaURG1Mg37E0Wn7Bn5UNcEBkof-x-KtFm6PHwcipbfs \n",
      "Published: 2020-04-13 16:10:29. \n"
     ]
    },
    {
     "data": {
      "text/html": [
       "<mark>bullshit</mark>. his reporting was the exact opposite of this, downvote and move along-"
      ],
      "text/plain": [
       "<IPython.core.display.HTML object>"
      ]
     },
     "metadata": {},
     "output_type": "display_data"
    },
    {
     "name": "stdout",
     "output_type": "stream",
     "text": [
      "Q: Bullshit\n",
      "############\n",
      "\n",
      "\n",
      "\n",
      "184 / 51434\n",
      "politics\n",
      "--------------------\n"
     ]
    },
    {
     "data": {
      "text/html": [
       "<b>trump friend stanley chera, a new york city real estate mogul, dies of <mark>covid</mark>-19 complications</b>"
      ],
      "text/plain": [
       "<IPython.core.display.HTML object>"
      ]
     },
     "metadata": {},
     "output_type": "display_data"
    },
    {
     "name": "stdout",
     "output_type": "stream",
     "text": [
      "URL: https://www.usatoday.com/story/news/politics/2020/04/13/coronavirus-trump-friend-stanley-chera-dies-covid-19-complications/2981149001/ \n",
      "Published: 2020-04-13 15:07:20. \n"
     ]
    },
    {
     "data": {
      "text/html": [
       "<mark>misleading</mark> <mark>title</mark>. trump has no friends."
      ],
      "text/plain": [
       "<IPython.core.display.HTML object>"
      ]
     },
     "metadata": {},
     "output_type": "display_data"
    },
    {
     "name": "stdout",
     "output_type": "stream",
     "text": [
      "Q: misleading title\n",
      "###\n",
      "\n",
      "\n",
      "\n",
      "185 / 51575\n",
      "worldnews\n",
      "--------------------\n"
     ]
    },
    {
     "data": {
      "text/html": [
       "<b>whistleblowing doctor missing after criticizing beijing's <mark>coronav</mark>irus censorship | reporters without borders</b>"
      ],
      "text/plain": [
       "<IPython.core.display.HTML object>"
      ]
     },
     "metadata": {},
     "output_type": "display_data"
    },
    {
     "name": "stdout",
     "output_type": "stream",
     "text": [
      "URL: https://rsf.org/en/news/whistleblowing-doctor-missing-after-criticizing-beijings-coronavirus-censorship \n",
      "Published: 2020-04-13 14:46:03. \n"
     ]
    },
    {
     "data": {
      "text/html": [
       "<mark>bullshit</mark>.\n",
       "\n",
       "https://m.weibo.cn/u/2662574464?refer_flag=1005050010_&refer_flag=1005050010_&jumpfrom=weibocom"
      ],
      "text/plain": [
       "<IPython.core.display.HTML object>"
      ]
     },
     "metadata": {},
     "output_type": "display_data"
    },
    {
     "name": "stdout",
     "output_type": "stream",
     "text": [
      "Q: Bullshit\n",
      "##########\n",
      "\n",
      "\n",
      "\n",
      "186 / 52069\n",
      "news\n",
      "--------------------\n"
     ]
    },
    {
     "data": {
      "text/html": [
       "<b>sailor aboard uss theodore roosevelt has passed away due to <mark>covid</mark>-19</b>"
      ],
      "text/plain": [
       "<IPython.core.display.HTML object>"
      ]
     },
     "metadata": {},
     "output_type": "display_data"
    },
    {
     "name": "stdout",
     "output_type": "stream",
     "text": [
      "URL: https://www.fox5ny.com/news/sailor-from-uss-roosevelt-dies-from-coronavirus \n",
      "Published: 2020-04-13 13:47:23. \n"
     ]
    },
    {
     "data": {
      "text/html": [
       "it said of complications. it does not say he died from it in the <mark>article</mark>. <mark>misleading</mark> <mark>title</mark>."
      ],
      "text/plain": [
       "<IPython.core.display.HTML object>"
      ]
     },
     "metadata": {},
     "output_type": "display_data"
    },
    {
     "name": "stdout",
     "output_type": "stream",
     "text": [
      "Q: misleading title\n",
      "###############\n",
      "\n",
      "\n",
      "\n",
      "187 / 52805\n",
      "Coronavirus\n",
      "--------------------\n"
     ]
    },
    {
     "data": {
      "text/html": [
       "<b>s.c patients treated with leronlimab for <mark>covid</mark>-19 under emergency ind: 4 patients with moderate indications removed from oxygen; 3 patients discharged from hospital; 1 patient scheduled for discharge today; 1 patient with severe indications discharged, for total of 5 patients discharged</b>"
      ],
      "text/plain": [
       "<IPython.core.display.HTML object>"
      ]
     },
     "metadata": {},
     "output_type": "display_data"
    },
    {
     "name": "stdout",
     "output_type": "stream",
     "text": [
      "URL: https://www.cytodyn.com/newsroom/press-releases/detail/415/southern-california-patients-treated-with-leronlimab-for \n",
      "Published: 2020-04-13 11:48:17. \n"
     ]
    },
    {
     "data": {
      "text/html": [
       "anecdotal, tiny sample size, not peer reviewed study. looks like <mark>bs</mark> unless additional <mark>information</mark>."
      ],
      "text/plain": [
       "<IPython.core.display.HTML object>"
      ]
     },
     "metadata": {},
     "output_type": "display_data"
    },
    {
     "name": "stdout",
     "output_type": "stream",
     "text": [
      "Q: Looks like BS\n",
      "#########\n",
      "\n",
      "\n",
      "\n",
      "188 / 53295\n",
      "worldpolitics\n",
      "--------------------\n"
     ]
    },
    {
     "data": {
      "text/html": [
       "<b>fact check: new york times claims trump 'could have seen what was coming' on <mark>coronav</mark>irus</b>"
      ],
      "text/plain": [
       "<IPython.core.display.HTML object>"
      ]
     },
     "metadata": {},
     "output_type": "display_data"
    },
    {
     "name": "stdout",
     "output_type": "stream",
     "text": [
      "URL: https://www.breitbart.com/the-media/2020/04/12/fact-check-new-york-times-claims-trump-could-have-seen-what-was-coming-on-coronavirus/ \n",
      "Published: 2020-04-13 08:47:29. \n"
     ]
    },
    {
     "data": {
      "text/html": [
       "<mark>bullshit</mark> <mark>source</mark>. far right <mark>news</mark> site is not reliable or accurate."
      ],
      "text/plain": [
       "<IPython.core.display.HTML object>"
      ]
     },
     "metadata": {},
     "output_type": "display_data"
    },
    {
     "name": "stdout",
     "output_type": "stream",
     "text": [
      "Q: bullshit source\n",
      "###\n",
      "\n",
      "\n",
      "\n",
      "189 / 53424\n",
      "Coronavirus\n",
      "--------------------\n"
     ]
    },
    {
     "data": {
      "text/html": [
       "<b>dogs join fight against <mark>covid</mark>-19 by learning how to detect the virus</b>"
      ],
      "text/plain": [
       "<IPython.core.display.HTML object>"
      ]
     },
     "metadata": {},
     "output_type": "display_data"
    },
    {
     "name": "stdout",
     "output_type": "stream",
     "text": [
      "URL: https://www.ctvnews.ca/health/coronavirus/dogs-join-fight-against-covid-19-by-learning-how-to-detect-the-virus-1.4893325 \n",
      "Published: 2020-04-13 07:28:51. \n"
     ]
    },
    {
     "data": {
      "text/html": [
       "<mark>fake</mark> <mark>news</mark>"
      ],
      "text/plain": [
       "<IPython.core.display.HTML object>"
      ]
     },
     "metadata": {},
     "output_type": "display_data"
    },
    {
     "name": "stdout",
     "output_type": "stream",
     "text": [
      "Q: fake news\n",
      "########\n",
      "\n",
      "\n",
      "\n",
      "190 / 53819\n",
      "europe\n",
      "--------------------\n"
     ]
    },
    {
     "data": {
      "text/html": [
       "<b>turkish interior minister resigns over failed <mark>coronav</mark>irus lockdown</b>"
      ],
      "text/plain": [
       "<IPython.core.display.HTML object>"
      ]
     },
     "metadata": {},
     "output_type": "display_data"
    },
    {
     "name": "stdout",
     "output_type": "stream",
     "text": [
      "URL: http://www.israelnationalnews.com/News/News.aspx/278616 \n",
      "Published: 2020-04-13 04:52:19. \n"
     ]
    },
    {
     "data": {
      "text/html": [
       "the headline is slightly <mark>misleading</mark>. the minister *tenders* his resignation due to the catastrophic bungling of the lockdown, but erdogan rejects it. however due to how anal the rules are on this sub, you have to be 100% faithful to the original headline even when that headline isn't that good, or even accurate."
      ],
      "text/plain": [
       "<IPython.core.display.HTML object>"
      ]
     },
     "metadata": {},
     "output_type": "display_data"
    },
    {
     "name": "stdout",
     "output_type": "stream",
     "text": [
      "Q: headline is misleading\n",
      "###\n",
      "\n",
      "\n",
      "\n",
      "191 / 53978\n",
      "Coronavirus\n",
      "--------------------\n"
     ]
    },
    {
     "data": {
      "text/html": [
       "<b>vietnam praised for no <mark>coronav</mark>irus deaths</b>"
      ],
      "text/plain": [
       "<IPython.core.display.HTML object>"
      ]
     },
     "metadata": {},
     "output_type": "display_data"
    },
    {
     "name": "stdout",
     "output_type": "stream",
     "text": [
      "URL: https://7news.com.au/news/health/vietnam-praised-for-no-coronavirus-deaths-c-973119 \n",
      "Published: 2020-04-13 04:10:44. \n"
     ]
    },
    {
     "data": {
      "text/html": [
       "<mark>bs</mark>. they renamed deaths as only \"viral pneumonia\". lie as much as china does"
      ],
      "text/plain": [
       "<IPython.core.display.HTML object>"
      ]
     },
     "metadata": {},
     "output_type": "display_data"
    },
    {
     "name": "stdout",
     "output_type": "stream",
     "text": [
      "Q: BS\n",
      "####\n",
      "\n",
      "\n",
      "\n",
      "192 / 54180\n",
      "worldpolitics\n",
      "--------------------\n"
     ]
    },
    {
     "data": {
      "text/html": [
       "<b>trump \"rejected criticism of his slow initial response to the <mark>pandemi</mark>c that has now killed more than 22,000 people in the united states\" and tries to blame fauci.</b>"
      ],
      "text/plain": [
       "<IPython.core.display.HTML object>"
      ]
     },
     "metadata": {},
     "output_type": "display_data"
    },
    {
     "name": "stdout",
     "output_type": "stream",
     "text": [
      "URL: https://www.nytimes.com/2020/04/12/us/politics/trump-fauci-coronavirus.html \n",
      "Published: 2020-04-13 03:09:29. \n"
     ]
    },
    {
     "data": {
      "text/html": [
       "**here is the text for those who dont want to click the link**    \n",
       "\n",
       ">washington — president trump publicly signaled his frustration on sunday with dr. anthony s. fauci, the federal government’s top infectious disease expert, after the doctor said more lives could have been saved from the coronavirus if the country had been shut down earlier.\n",
       "\n",
       ">mr. trump reposted a twitter message that said “time to #firefauci” as he rejected criticism of his slow initial response to the pandemic that has now killed more than 22,000 people in the united states. the president privately has been irritated at times with dr. fauci, but the twitter post was the most explicit he has been in letting that show publicly.\n",
       "\n",
       ">the message mr. trump retweeted came from a former republican congressional candidate. “fauci is now saying that had trump listened to the medical experts earlier he could’ve saved more lives,” said the tweet by deanna lorraine, who got less than 2 percent of the vote in an open primary against speaker nancy pelosi last month. “fauci was telling people on february 29th that there was nothing to worry about and it posed no threat to the us at large. time to #fire fauci.”\n",
       "\n",
       ">in reposting the message, mr. trump added: “sorry <mark>fake</mark> <mark>news</mark>, it’s all on tape. i banned china long before people spoke up.”\n",
       "\n",
       ">the tweet came amid a flurry of messages blasted out by the president on sunday defending his handling of the coronavirus, which has come under sharp criticism, and pointing the finger instead at china, the world health organization, president barack obama, the nation’s governors, congress, democrats generally and the <mark>news</mark> media.\n",
       "\n",
       ">mr. trump did not “ban china,” but he did block foreign nationals who had been in china in the past 14 days from coming into the united states starting on feb. 2. despite the policy, 40,000 americans and other authorized travelers have still come into the country from china since then.\n",
       "\n",
       ">dr. fauci and other public health experts were initially skeptical that the china travel restrictions would be useful when the president was first considering them, but then changed their minds and told alex m. azar ii, the secretary of health and human services, on the morning of jan. 30 that they supported them.\n",
       "\n",
       ">mr. trump has repeatedly pointed back to those travel limits to defend his handling of the pandemic, but experts have said the limits were useful mainly to buy time that the administration did not then use to ramp up widespread testing and impose social distancing policies before infections could begin growing exponentially.\n",
       "\n",
       ">by the third week of february, advisers had drafted a list of measures they believed would soon be necessary, like school closures, sports and concert cancellations and stay-at-home orders, but the president did not embrace them until mid-march.\n",
       "\n",
       ">dr. fauci, the director of the national institute of allergy and infectious diseases since 1984, said on sunday that earlier imposition of such policies would have made a difference.\n",
       "\n",
       ">“i mean, obviously, you could logically say that if you had a process that was ongoing and you started mitigation earlier, you could have saved lives,” he said on “state of the union” on cnn. “obviously, no one is going to deny that. but what goes into those kinds of decisions is complicated. but you’re right. obviously, if we had, right from the very beginning, shut everything down, it may have been a little bit different. but there was a lot of pushback about shutting things down.”\n",
       "\n",
       ">dr. fauci’s comments, and the president’s pushback, come at a critical time as mr. trump wrestles with how fast to begin reopening the country. public health experts like dr. fauci have urged caution about resuming normal life too soon for fear of instigating another wave of illness and death, while the president’s economic advisers and others are anxious to restart businesses at a time when more than 16 million americans have been put out of work.\n",
       "\n",
       ">dr. fauci and the president have publicly disagreed on several issues, including how long it will take to develop a vaccine and the president’s aggressive promotion of the anti-malaria drug hydroxychloroquine, whose effects are unproven against the coronavirus. at a coronavirus task force briefing last week, mr. trump stopped dr. fauci from answering a question on the drug.\n",
       "\n",
       ">dr. fauci has become a celebrated figure among much of the public, which trusts him far more than mr. trump, according to polls. a quinnipiac university survey last week found that 78 percent of americans approved of dr. fauci’s handling of the crisis compared with 46 percent who approved of the president’s response. that has prompted resentment among other government officials, some of whom have privately criticized dr. fauci for playing to the media and not always sending consistent messages.\n",
       "\n",
       ">mr. trump spent much of easter sunday deflecting criticism and finding other targets. “if the <mark>fake</mark> <mark>news</mark> opposition party is pushing, with all their might, the fact that president trump ‘ignored early warnings about the threat,’ then why did media & dems viciously criticize me when i instituted a travel ban on china?” he wrote. “they said ‘early & not necessary.’ corrupt media!”\n",
       "\n",
       ">he cited a businessman in saying that “congress was too distracted by the (phony) impeachment witch hunt when they should have been investigating coronavirus when it first appeared in china.” he blamed states for not being ready. “governors, get your states testing programs & apparatus perfected,” he wrote. “be ready, big things are happening. no excuses!”\n",
       "\n",
       ">he retweeted a message saying that the world health organization “enabled china’s obfuscation on coronavirus, and that it could have been containable had beijing not lied to the world.” he also retweeted a post from a friendly conservative television outlet saying that the “obama admin. repeatedly cut ppe stockpile,” referring to personal protective equipment, and “failed to replenish” it.\n",
       "\n",
       ">the president seemed particularly upset about a new york times <mark>article</mark> documenting the administration’s slow response to the virus. “the @nytimes story is a <mark>fake</mark>, just like the ‘paper’ itself,” he wrote sunday night, denying that mr. azar warned him “until later” and dismissing an early memo by another adviser, peter navarro, who warned of the prospect of 500,000 deaths. “<mark>fake</mark> <mark>news</mark>!”\n",
       "\n",
       ">he did not explain why, if he thought the stockpile was inadequate, he did nothing in his three years in office to replenish it. and in none of his messages did he say why he waited to recommend social distancing measures that experts have credited with helping to stem the spread of the virus."
      ],
      "text/plain": [
       "<IPython.core.display.HTML object>"
      ]
     },
     "metadata": {},
     "output_type": "display_data"
    },
    {
     "name": "stdout",
     "output_type": "stream",
     "text": [
      "Q: fake news\n",
      "#\n",
      "\n",
      "\n",
      "\n",
      "193 / 54232\n",
      "Coronavirus\n",
      "--------------------\n"
     ]
    },
    {
     "data": {
      "text/html": [
       "<b>trump lashes out at anthony fauci amid criticism of slow <mark>coronav</mark>irus response</b>"
      ],
      "text/plain": [
       "<IPython.core.display.HTML object>"
      ]
     },
     "metadata": {},
     "output_type": "display_data"
    },
    {
     "name": "stdout",
     "output_type": "stream",
     "text": [
      "URL: https://www.straitstimes.com/world/united-states/trump-lashes-out-at-anthony-fauci-amid-criticism-of-slow-coronavirus-response \n",
      "Published: 2020-04-13 02:55:32. \n"
     ]
    },
    {
     "data": {
      "text/html": [
       "more <mark>fake</mark> <mark>news</mark> taking the retweet out of context.  trump is not lashing out at fauci.  he is saying watch the tapes.  as a democrat i am starting to understand why <mark>fake</mark> <mark>news</mark> is a real thing now."
      ],
      "text/plain": [
       "<IPython.core.display.HTML object>"
      ]
     },
     "metadata": {},
     "output_type": "display_data"
    },
    {
     "name": "stdout",
     "output_type": "stream",
     "text": [
      "Q: fake news\n"
     ]
    },
    {
     "data": {
      "text/html": [
       "ny times <mark>article</mark>:\n",
       "\n",
       "trump signals frustration with fauci amid criticism of slow virus response\n",
       "\n",
       "trump reposts a message on twitter that is critical of dr. fauci.\n",
       "president trump publicly signaled his frustration on sunday with dr. anthony s. fauci, the federal government’s top infectious disease expert, after the doctor said more lives could have been saved from the coronavirus if the country had been shut down earlier.\n",
       "mr. trump reposted a twitter message that said “time to #firefauci” as he rejected criticism of his slow initial response to the pandemic that has now killed more than 22,000 people in the united states. the president privately has been irritated at times with dr. fauci, but the twitter message was the most explicit he has been in letting that show publicly.\n",
       "\n",
       "mr. trump retweeted a message from a former republican congressional candidate. “fauci is now saying that had trump listened to the medical experts earlier he could’ve saved more lives,” said the tweet by deanna lorraine, who got less than 2 percent of the vote in an open primary against speaker nancy pelosi last month. “fauci was telling people on february 29th that there was nothing to worry about and it posed no threat to the us at large. time to #fire fauci.”\n",
       "\n",
       "in reposting the message, mr. trump added: “sorry <mark>fake</mark> <mark>news</mark>, it’s all on tape. i banned china long before people spoke up.”\n",
       "\n",
       "donald j. trump\n",
       "✔\n",
       "@realdonaldtrump\n",
       " sorry <mark>fake</mark> <mark>news</mark>, it’s all on tape. i banned china long before people spoke up. thank you @oann https://twitter.com/deanna4congress/status/1249457858686656512 …\n",
       "deanna lorraine 🇺🇸\n",
       "✔\n",
       "@deanna4congress\n",
       "fauci is now saying that had trump listened to the medical experts earlier he could've saved more lives.\n",
       "\n",
       "fauci was telling people on february 29th that there was nothing to worry about and it posed no threat to the us public at large. \n",
       "\n",
       "time to #firefauci...\n",
       " \n",
       "79.5k\n",
       "6:51 pm - apr 12, 2020\n",
       "twitter ads <mark>info</mark> and privacy\n",
       "\n",
       "39.7k people are talking about this\n",
       "\n",
       "the tweet came amid a flurry of messages blasted out by the president on sunday defending his handling of the coronavirus, which has come under sharp criticism, and pointing the finger instead at china, the world health organization, president barack obama, the nation’s governors, congress, democrats generally and the <mark>news</mark> media.\n",
       "mr. trump did not “ban china,” but he did block non-american citizens or permanent residents who had been in china in the past 14 days from coming into the united states starting on feb. 2. despite the policy, 40,000 americans and other authorized travelers have still come into the country from china since that order.\n",
       "\n",
       "dr. fauci and other public health experts were initially skeptical that the china travel restrictions would be useful when the president was first considering them, but then changed their minds and told alex m. azar ii, the secretary of health and human services, on the morning of jan. 30 that they supported them.\n",
       "\n",
       "mr. trump has repeatedly pointed back to those travel limits to defend his handling of the pandemic, but experts have said the limits were useful mainly to buy time that the administration did not then use to ramp up widespread testing and impose social distancing policies before infections could begin growing exponentially.\n",
       "\n",
       "by mid-february, advisers had drafted a list of measures like school closures, sports and concert cancellations and stay-at-home orders, but the president did not embrace them until mid-march.\n",
       "\n",
       "dr. fauci, the director of the national institute of allergy and infectious diseases since 1984, said on sunday that earlier imposition of such policies would have made a difference.\n",
       "\n",
       "“i mean, obviously, you could logically say that if you had a process that was ongoing and you started mitigation earlier, you could have saved lives,” he said on “state of the union” on cnn. “obviously, no one is going to deny that. but what goes into those kinds of decisions is complicated. but you’re right. obviously, if we had, right from the very beginning, shut everything down, it may have been a little bit different. but there was a lot of pushback about shutting things down.”\n",
       "dr. fauci’s comments, and the president’s pushback, come at a critical time as mr. trump wrestles with how fast to begin reopening the country. public health experts like dr. fauci have urged caution about resuming normal life too soon for fear of instigating another wave of illness and death, while the president’s economic advisers and others are anxious to restart businesses at a time when more than 16 million americans have been put out of work.\n",
       "\n",
       "more on trump’s tweets read the full <mark>article</mark> on president trump’s flurry of messages defending his handling of the coronavirus."
      ],
      "text/plain": [
       "<IPython.core.display.HTML object>"
      ]
     },
     "metadata": {},
     "output_type": "display_data"
    },
    {
     "name": "stdout",
     "output_type": "stream",
     "text": [
      "Q: fake news\n",
      "#######\n",
      "\n",
      "\n",
      "\n",
      "195 / 54569\n",
      "Coronavirus\n",
      "--------------------\n"
     ]
    },
    {
     "data": {
      "text/html": [
       "<b><mark>covid</mark>-19 fatality rate by age and sex.</b>"
      ],
      "text/plain": [
       "<IPython.core.display.HTML object>"
      ]
     },
     "metadata": {},
     "output_type": "display_data"
    },
    {
     "name": "stdout",
     "output_type": "stream",
     "text": [
      "URL: https://usonlinetv.com/2020/04/09/what-is-coronavirus-covid-19-all-you-need-to-know-about-symptoms-prevention-treatment-death-rate-and-live-statistics/ \n",
      "Published: 2020-04-13 01:41:16. \n"
     ]
    },
    {
     "data": {
      "text/html": [
       "this is <mark>bullshit</mark> a few newborns died and that site shows 0 deaths"
      ],
      "text/plain": [
       "<IPython.core.display.HTML object>"
      ]
     },
     "metadata": {},
     "output_type": "display_data"
    },
    {
     "name": "stdout",
     "output_type": "stream",
     "text": [
      "Q: this is bullshit\n",
      "##\n",
      "\n",
      "\n",
      "\n",
      "196 / 54660\n",
      "Coronavirus\n",
      "--------------------\n"
     ]
    },
    {
     "data": {
      "text/html": [
       "<b><mark>coronav</mark>irus: body-bag stocks 'in danger of running out'</b>"
      ],
      "text/plain": [
       "<IPython.core.display.HTML object>"
      ]
     },
     "metadata": {},
     "output_type": "display_data"
    },
    {
     "name": "stdout",
     "output_type": "stream",
     "text": [
      "URL: https://www.bbc.com/news/health-52205655 \n",
      "Published: 2020-04-13 01:26:58. \n"
     ]
    },
    {
     "data": {
      "text/html": [
       "seems like <mark>bs</mark>.  death count is not that high in the grand scheme of things."
      ],
      "text/plain": [
       "<IPython.core.display.HTML object>"
      ]
     },
     "metadata": {},
     "output_type": "display_data"
    },
    {
     "name": "stdout",
     "output_type": "stream",
     "text": [
      "Q: Seems like BS\n",
      "############\n",
      "\n",
      "\n",
      "\n",
      "197 / 55272\n",
      "worldnews\n",
      "--------------------\n"
     ]
    },
    {
     "data": {
      "text/html": [
       "<b>us's global reputation hits rock-bottom over trump's <mark>coronav</mark>irus response</b>"
      ],
      "text/plain": [
       "<IPython.core.display.HTML object>"
      ]
     },
     "metadata": {},
     "output_type": "display_data"
    },
    {
     "name": "stdout",
     "output_type": "stream",
     "text": [
      "URL: https://www.theguardian.com/us-news/2020/apr/12/us-global-reputation-rock-bottom-donald-trump-coronavirus \n",
      "Published: 2020-04-12 23:24:17. \n"
     ]
    },
    {
     "data": {
      "text/html": [
       "in response to u/im_paolo_not_paulo because the thread got locked down right after he/she invited me to make my case re:\n",
       "\n",
       "\"what has trump done wrong in his presidential term? increased the economy? dessimating unemployment rates?sure he says some stupid stuff, but at least he speaks his mind and does what he thinks (and often times is) best for the country. and don't talk to me about his past when your candidate hillary clinton's past is far worse. she should be in jail right now. and please, if you really want to change my mind and show you aren't a scumbag, make actual points instead of quoting very vague and misunderstood accusations.\"\n",
       "\n",
       "your first mistake was assuming \"my candidate\" was hillary clinton. your second mistake is scapegoating hillary clinton. but that's what you fuckers do because you lack objectivity and the ability to reason.\n",
       "\n",
       "let's see...things trump has done wrong as president:\n",
       "\n",
       "refused to divest from his personal holdings in his companies while holding office - a violation of the emoluments clause. this is a biggie that keeps getting bigger and is the engine behind a lot of what he does.\n",
       "\n",
       "attacking the free press any chance he gets.\n",
       "\n",
       "lies so much that his credibility is totally shot.\n",
       "\n",
       "recently fired the independent oversight regarding the $2 trillion stimulus. why on earth would he do that? probably so he can rob the government blind.\n",
       "\n",
       "is putin's bitch and thus a traitor to the us. you see, the russians have owned him for decades since he borrowed a shit-ton of money from them after he went bankrupt.\n",
       "\n",
       "sided with the murderous saudi regime after the whole jamal kashoggi thing.\n",
       "\n",
       "sided with kim jong un for fuck's sake.\n",
       "\n",
       "sided against our own intelligence agencies with respect to russia (see \"putin's bitch\").\n",
       "\n",
       "appointed unofficial people who can't get proper security clearance to important positions (his daughter, his son-in-law, etc.)\n",
       "\n",
       "has bastardized the doj to do his will by installing a loyalist in barr.\n",
       "\n",
       "has co-opted christianity as a means to an end. that fucker doesn't have a moral bone in his body.\n",
       "\n",
       "that whole impeachment thing\n",
       "\n",
       "tried to get us in a hot war with iran...ongoing.\n",
       "\n",
       "he definitely paid off a hooker, she even described his little mushroom headed pee pee.\n",
       "\n",
       "accusations of rape (afterall he did grab em by the pussy)\n",
       "\n",
       "blundered the fuck out of the country's coronavirus response by eliminating the white house rapid response team, not taking any action for months, not taking any decisive action and leaving the states fending for themselves, forcing states to bid against one another for ppe, having jared raid the national stockpile of ppe, then it goes unaccounted for, pushing hydrochloroquine on the masses (he owns stock in one of the major manufacturers, so again he's trying to make a buck) when the science behind it's efficacy with respect to coronavirus is suspect at best and deadly in some cases, but hey \"what do you have to lose\" he says?\n",
       "\n",
       "he's a racist pos...see charlottesville, et al.\n",
       "\n",
       "the world hates us now even more than they ever did because of him and \"the stupid stuff\" he says as you put it.\n",
       "\n",
       "i could go on but maybe you get the point? probably not.\n",
       "\n",
       "now, it's your turn to demonstrate that \"you aren't a scumbag, make actual points instead of quoting very vague and misunderstood accusations\". everything i have mentioned is well-documented. \n",
       "\n",
       "no i will not do your research for you to prove my point and no by not providing links to every little thing, that doesn't mean it's \"<mark>fake</mark> <mark>news</mark>\". that's a cop out and you know it.\n",
       "\n",
       "but to be honest, i don't give a shit what you have to say. i'm done arguing with dumbfucks like you. you all have your own alternative truths you cling to, just like your bossman. your chickens will come home to roost one day.\n",
       "\n",
       "you should know that he would be the first to use you as a personal human shield to save his own ass. that's how psychopaths operate. you are cannon fodder to him...worthless, except for when it directly benefits him. he cares about himself. period. he worships money. period. he lacks the capacity for empathy and therefore to lead period. he is dangerous and a scourge to humanity. period.\n",
       "\n",
       "whatchu got homeboy???"
      ],
      "text/plain": [
       "<IPython.core.display.HTML object>"
      ]
     },
     "metadata": {},
     "output_type": "display_data"
    },
    {
     "name": "stdout",
     "output_type": "stream",
     "text": [
      "Q: it 's fake news\n",
      "#\n",
      "\n",
      "\n",
      "\n",
      "198 / 55303\n",
      "Coronavirus\n",
      "--------------------\n"
     ]
    },
    {
     "data": {
      "text/html": [
       "<b>media downplayed <mark>coronav</mark>irus early on calling it less than the flu</b>"
      ],
      "text/plain": [
       "<IPython.core.display.HTML object>"
      ]
     },
     "metadata": {},
     "output_type": "display_data"
    },
    {
     "name": "stdout",
     "output_type": "stream",
     "text": [
      "URL: https://freebeacon.com/coronavirus/flashback-media-downplayed-coronavirus-called-it-less-serious-than-flu/ \n",
      "Published: 2020-04-12 23:23:20. \n"
     ]
    },
    {
     "data": {
      "text/html": [
       "this is <mark>misleading</mark>. “the media” brings on doctors. the doctors are saying not to worry. this is not “the media”saying it."
      ],
      "text/plain": [
       "<IPython.core.display.HTML object>"
      ]
     },
     "metadata": {},
     "output_type": "display_data"
    },
    {
     "name": "stdout",
     "output_type": "stream",
     "text": [
      "Q: This is misleading\n",
      "###\n",
      "\n",
      "\n",
      "\n",
      "199 / 55472\n",
      "politics\n",
      "--------------------\n"
     ]
    },
    {
     "data": {
      "text/html": [
       "<b>trump reportedly squandered 3 crucial weeks to mitigate the <mark>coronav</mark>irus outbreak after a cdc official's blunt warnings spooked the stock market</b>"
      ],
      "text/plain": [
       "<IPython.core.display.HTML object>"
      ]
     },
     "metadata": {},
     "output_type": "display_data"
    },
    {
     "name": "stdout",
     "output_type": "stream",
     "text": [
      "URL: https://www.businessinsider.com/trump-wasted-3-weeks-coronavirus-mitigation-time-february-march-nyt-2020-4 \n",
      "Published: 2020-04-12 22:55:55. \n"
     ]
    },
    {
     "data": {
      "text/html": [
       "**trump squandered more than just 3 weeks.** \n",
       "\n",
       "video 1 - background <mark>information</mark>, trump and trump administration.\n",
       "\n",
       "* background: [0:00-3:00](https://www.youtube.com/watch?v=epfu4nfehuk&t=0s)\n",
       "\n",
       "* trump administration: [3:05](https://www.youtube.com/watch?v=epfu4nfehuk&list=plwmv_rrtapomcc07vztxr7b6eeqjowszo&index=1&t=185s)\n",
       "* trump: [4:21](https://www.youtube.com/watch?v=epfu4nfehuk&list=plwmv_rrtapomcc07vztxr7b6eeqjowszo&index=1&t=261s)\n",
       "* thought experiment: [5:42](https://www.youtube.com/watch?v=epfu4nfehuk&list=plwmv_rrtapomcc07vztxr7b6eeqjowszo&index=1&t=342s)\n",
       "* trumps views on health: [5:58](https://www.youtube.com/watch?v=epfu4nfehuk&list=plwmv_rrtapomcc07vztxr7b6eeqjowszo&index=1&t=358s)\n",
       "* decline to use who covid-19 tests: [8:03](https://www.youtube.com/watch?v=epfu4nfehuk&list=plwmv_rrtapomcc07vztxr7b6eeqjowszo&index=1&t=483s)\n",
       "* low testing per capita:[ 8:50](https://www.youtube.com/watch?v=epfu4nfehuk&list=plwmv_rrtapomcc07vztxr7b6eeqjowszo&index=1&t=530s)\n",
       "* comparing south korea to usa: [9:58](https://www.youtube.com/watch?v=epfu4nfehuk&list=plwmv_rrtapomcc07vztxr7b6eeqjowszo&index=1&t=598s)\n",
       "\n",
       "video 2: sends medical supplies to china, mike pence, and nepotism.\n",
       "\n",
       "* usa update: [0:10](https://www.youtube.com/watch?v=tg1rdpvkale&list=plwmv_rrtapomcc07vztxr7b6eeqjowszo&index=2&t=10s)\n",
       "* trump raves about ratings: [0:30](https://www.youtube.com/watch?v=tg1rdpvkale&list=plwmv_rrtapomcc07vztxr7b6eeqjowszo&index=2&t=30s)\n",
       "* trump sends medical supplies to china: [0:49](https://www.youtube.com/watch?v=tg1rdpvkale&list=plwmv_rrtapomcc07vztxr7b6eeqjowszo&index=2&t=49s)\n",
       "* trump blames governors: [1:25](https://www.youtube.com/watch?v=tg1rdpvkale&list=plwmv_rrtapomcc07vztxr7b6eeqjowszo&index=2&t=85s)\n",
       "* mike pence: [1:39](https://www.youtube.com/watch?v=tg1rdpvkale&list=plwmv_rrtapomcc07vztxr7b6eeqjowszo&index=2&t=99s)\n",
       "* nepotism involving unqualified personnel: [3:05](https://www.youtube.com/watch?v=tg1rdpvkale&list=plwmv_rrtapomcc07vztxr7b6eeqjowszo&index=2&t=185s)\n",
       "\n",
       "\n",
       "video 3 - <mark>fake</mark> <mark>news</mark> and <mark>misinformation</mark> and inability to take responsibility.\n",
       "\n",
       "* <mark>fake</mark> <mark>news</mark> and <mark>misinformation</mark>: [0:10](https://www.youtube.com/watch?v=jr3xagk2bl8&list=plwmv_rrtapomcc07vztxr7b6eeqjowszo&index=3&t=10s)\n",
       "* inability to take responsibility: [2:29](https://www.youtube.com/watch?v=jr3xagk2bl8&list=plwmv_rrtapomcc07vztxr7b6eeqjowszo&index=3&t=149s)\n",
       "\n",
       "\n",
       "video 4 - healthcare, trumps recreational activities and wrap up.\n",
       "\n",
       "* dr anthony fauchi: [0:09](https://www.youtube.com/watch?v=z_tzkisakhe&list=plwmv_rrtapomcc07vztxr7b6eeqjowszo&index=4&t=9s)\n",
       "* us healthcare system: [0:32](https://www.youtube.com/watch?v=z_tzkisakhe&list=plwmv_rrtapomcc07vztxr7b6eeqjowszo&index=4&t=32s)\n",
       "* uninsured population: [3:05](https://www.youtube.com/watch?v=z_tzkisakhe&list=plwmv_rrtapomcc07vztxr7b6eeqjowszo&index=4&t=185s)\n",
       "* coronavirus treatment costs: [3:27](https://www.youtube.com/watch?v=z_tzkisakhe&list=plwmv_rrtapomcc07vztxr7b6eeqjowszo&index=4&t=207s)\n",
       "* $35 000 for coronavirus treatment: 4:11\n",
       "* most americans have less than $1000 in savings: [4:33](https://www.youtube.com/watch?v=z_tzkisakhe&list=plwmv_rrtapomcc07vztxr7b6eeqjowszo&index=4&t=251s)\n",
       "* unemployment: [5:24](https://www.youtube.com/watch?v=z_tzkisakhe&list=plwmv_rrtapomcc07vztxr7b6eeqjowszo&index=4&t=324s)\n",
       "* mitch mcconnel: [5:57](https://www.youtube.com/watch?v=z_tzkisakhe&list=plwmv_rrtapomcc07vztxr7b6eeqjowszo&index=4&t=357s)\n",
       "* trumps recreational activities: [6:17](https://www.youtube.com/watch?v=z_tzkisakhe&list=plwmv_rrtapomcc07vztxr7b6eeqjowszo&index=4&t=377s)\n",
       "* trump spends 133 million to golf: [6:37](https://www.youtube.com/watch?v=z_tzkisakhe&list=plwmv_rrtapomcc07vztxr7b6eeqjowszo&index=4&t=397s)\n",
       "* wrapping up: [8:27](https://www.youtube.com/watch?v=z_tzkisakhe&list=plwmv_rrtapomcc07vztxr7b6eeqjowszo&index=4&t=507s)"
      ],
      "text/plain": [
       "<IPython.core.display.HTML object>"
      ]
     },
     "metadata": {},
     "output_type": "display_data"
    },
    {
     "name": "stdout",
     "output_type": "stream",
     "text": [
      "Q: fake news\n",
      "Q: fake news\n",
      "##\n",
      "\n",
      "\n",
      "\n",
      "201 / 55556\n",
      "worldnews\n",
      "--------------------\n"
     ]
    },
    {
     "data": {
      "text/html": [
       "<b>erdogan rejects minister's resignation over <mark>coronav</mark>irus curfew</b>"
      ],
      "text/plain": [
       "<IPython.core.display.HTML object>"
      ]
     },
     "metadata": {},
     "output_type": "display_data"
    },
    {
     "name": "stdout",
     "output_type": "stream",
     "text": [
      "URL: https://www.aljazeera.com/news/2020/04/erdogan-rejects-minister-resignation-coronavirus-curfew-200412193938580.html \n",
      "Published: 2020-04-12 22:50:08. \n"
     ]
    },
    {
     "data": {
      "text/html": [
       "what a <mark>bullshit</mark> ."
      ],
      "text/plain": [
       "<IPython.core.display.HTML object>"
      ]
     },
     "metadata": {},
     "output_type": "display_data"
    },
    {
     "name": "stdout",
     "output_type": "stream",
     "text": [
      "Q: bullshit\n",
      "\n",
      "\n",
      "\n",
      "\n",
      "202 / 55581\n",
      "politics\n",
      "--------------------\n"
     ]
    },
    {
     "data": {
      "text/html": [
       "<b>trump friend, developer friend stanley chera, dies of <mark>coronav</mark>irus</b>"
      ],
      "text/plain": [
       "<IPython.core.display.HTML object>"
      ]
     },
     "metadata": {},
     "output_type": "display_data"
    },
    {
     "name": "stdout",
     "output_type": "stream",
     "text": [
      "URL: https://www.nj.com/coronavirus/2020/04/trump-friend-developer-friend-stanley-chera-dies-of-coronavirus.html \n",
      "Published: 2020-04-12 22:45:00. \n"
     ]
    },
    {
     "data": {
      "text/html": [
       "<mark>fake</mark> <mark>news</mark>! trump doesn’t have any friends. he has people he can use up and move on"
      ],
      "text/plain": [
       "<IPython.core.display.HTML object>"
      ]
     },
     "metadata": {},
     "output_type": "display_data"
    },
    {
     "name": "stdout",
     "output_type": "stream",
     "text": [
      "Q: fake news\n"
     ]
    },
    {
     "data": {
      "text/html": [
       "<mark>fake</mark> <mark>news</mark>: trump has no friends."
      ],
      "text/plain": [
       "<IPython.core.display.HTML object>"
      ]
     },
     "metadata": {},
     "output_type": "display_data"
    },
    {
     "name": "stdout",
     "output_type": "stream",
     "text": [
      "Q: fake news\n",
      "####\n",
      "\n",
      "\n",
      "\n",
      "204 / 55782\n",
      "worldpolitics\n",
      "--------------------\n"
     ]
    },
    {
     "data": {
      "text/html": [
       "<b>if biden were president our <mark>coronav</mark>irus economic problems would be worse</b>"
      ],
      "text/plain": [
       "<IPython.core.display.HTML object>"
      ]
     },
     "metadata": {},
     "output_type": "display_data"
    },
    {
     "name": "stdout",
     "output_type": "stream",
     "text": [
      "URL: https://www.realclearpolitics.com/articles/2020/04/10/trumps_smart_covid_strategy_is_saving_the_economy.html \n",
      "Published: 2020-04-12 22:05:16. \n"
     ]
    },
    {
     "data": {
      "text/html": [
       "speculative <mark>bullshit</mark>. is this world politics or political fantasy?"
      ],
      "text/plain": [
       "<IPython.core.display.HTML object>"
      ]
     },
     "metadata": {},
     "output_type": "display_data"
    },
    {
     "name": "stdout",
     "output_type": "stream",
     "text": [
      "Q: bullshit\n"
     ]
    },
    {
     "data": {
      "text/html": [
       "<mark>bullshit</mark>. but if hillary was president, i'm pretty sure she would not have spent two months declaring the pandemic a hoax. the difference is hillary would have listened to the experts, trump thinks he's the expert but he is far from it."
      ],
      "text/plain": [
       "<IPython.core.display.HTML object>"
      ]
     },
     "metadata": {},
     "output_type": "display_data"
    },
    {
     "name": "stdout",
     "output_type": "stream",
     "text": [
      "Q: Bullshit\n",
      "#\n",
      "\n",
      "\n",
      "\n",
      "206 / 55824\n",
      "Coronavirus\n",
      "--------------------\n"
     ]
    },
    {
     "data": {
      "text/html": [
       "<b>spain discusses basic income for the poorest amid <mark>coronav</mark>irus fallout</b>"
      ],
      "text/plain": [
       "<IPython.core.display.HTML object>"
      ]
     },
     "metadata": {},
     "output_type": "display_data"
    },
    {
     "name": "stdout",
     "output_type": "stream",
     "text": [
      "URL: https://www.dw.com/en/spain-discusses-basic-income-for-the-poorest-amid-coronavirus-fallout/a-53096390 \n",
      "Published: 2020-04-12 22:00:16. \n"
     ]
    },
    {
     "data": {
      "text/html": [
       "finally a non <mark>misleading</mark> <mark>title</mark>."
      ],
      "text/plain": [
       "<IPython.core.display.HTML object>"
      ]
     },
     "metadata": {},
     "output_type": "display_data"
    },
    {
     "name": "stdout",
     "output_type": "stream",
     "text": [
      "Q: misleading title\n",
      "####\n",
      "\n",
      "\n",
      "\n",
      "207 / 56028\n",
      "politics\n",
      "--------------------\n"
     ]
    },
    {
     "data": {
      "text/html": [
       "<b>fauci says the government is considering giving out <mark>covid</mark>-19 'immunity cards' as part of push to reopen the economy</b>"
      ],
      "text/plain": [
       "<IPython.core.display.HTML object>"
      ]
     },
     "metadata": {},
     "output_type": "display_data"
    },
    {
     "name": "stdout",
     "output_type": "stream",
     "text": [
      "URL: https://www.businessinsider.com/the-government-is-considering-covid-19-immunity-cards-2020-4 \n",
      "Published: 2020-04-12 21:15:33. \n"
     ]
    },
    {
     "data": {
      "text/html": [
       "there is no immunity. there are reports of people testing positive again after recovering. there is no vaccine right now. this is <mark>bullshit</mark>."
      ],
      "text/plain": [
       "<IPython.core.display.HTML object>"
      ]
     },
     "metadata": {},
     "output_type": "display_data"
    },
    {
     "name": "stdout",
     "output_type": "stream",
     "text": [
      "Q: This is bullshit\n",
      "################\n",
      "\n",
      "\n",
      "\n",
      "208 / 56802\n",
      "Coronavirus\n",
      "--------------------\n"
     ]
    },
    {
     "data": {
      "text/html": [
       "<b>white house to skip <mark>coronav</mark>irus briefing for second day in a row</b>"
      ],
      "text/plain": [
       "<IPython.core.display.HTML object>"
      ]
     },
     "metadata": {},
     "output_type": "display_data"
    },
    {
     "name": "stdout",
     "output_type": "stream",
     "text": [
      "URL: https://thehill.com/homenews/administration/492425-white-house-skips-daily-coronavirus-briefing-for-second-day-in-a-row \n",
      "Published: 2020-04-12 19:05:09. \n"
     ]
    },
    {
     "data": {
      "text/html": [
       "good, less <mark>misinformation</mark> from the imbecile king."
      ],
      "text/plain": [
       "<IPython.core.display.HTML object>"
      ]
     },
     "metadata": {},
     "output_type": "display_data"
    },
    {
     "name": "stdout",
     "output_type": "stream",
     "text": [
      "Q: misinformation\n",
      "#####\n",
      "\n",
      "\n",
      "\n",
      "209 / 57100\n",
      "worldnews\n",
      "--------------------\n"
     ]
    },
    {
     "data": {
      "text/html": [
       "<b>china tries to shut down wildlife trade but markets remain open amid <mark>coronav</mark>irus <mark>pandemi</mark>c.</b>"
      ],
      "text/plain": [
       "<IPython.core.display.HTML object>"
      ]
     },
     "metadata": {},
     "output_type": "display_data"
    },
    {
     "name": "stdout",
     "output_type": "stream",
     "text": [
      "URL: https://www.independent.co.uk/news/world/coronavirus-china-food-meat-market-seafood-a9449991.html \n",
      "Published: 2020-04-12 18:29:09. \n"
     ]
    },
    {
     "data": {
      "text/html": [
       "*tries* <mark>bullshit</mark> they did.\n",
       "\n",
       "they are encouraging bear bile as a cure.\n",
       "\n",
       "they locked people in their homes to die but can't stop a market from opening?"
      ],
      "text/plain": [
       "<IPython.core.display.HTML object>"
      ]
     },
     "metadata": {},
     "output_type": "display_data"
    },
    {
     "name": "stdout",
     "output_type": "stream",
     "text": [
      "Q: bullshit\n",
      "###\n",
      "\n",
      "\n",
      "\n",
      "210 / 57245\n",
      "Coronavirus\n",
      "--------------------\n"
     ]
    },
    {
     "data": {
      "text/html": [
       "<b><mark>coronav</mark>irus has dealerships moving to online sales — and car buying may never be the same.</b>"
      ],
      "text/plain": [
       "<IPython.core.display.HTML object>"
      ]
     },
     "metadata": {},
     "output_type": "display_data"
    },
    {
     "name": "stdout",
     "output_type": "stream",
     "text": [
      "URL: https://www.usatoday.com/story/money/cars/2020/04/12/coronavirus-covid-19-online-car-sales/5129667002/ \n",
      "Published: 2020-04-12 18:17:25. \n"
     ]
    },
    {
     "data": {
      "text/html": [
       "in all honesty, this should have been the direction they went decade ago. people can still test drive a car. but the price haggling and finance <mark>bs</mark>."
      ],
      "text/plain": [
       "<IPython.core.display.HTML object>"
      ]
     },
     "metadata": {},
     "output_type": "display_data"
    },
    {
     "name": "stdout",
     "output_type": "stream",
     "text": [
      "Q: BS\n",
      "###\n",
      "\n",
      "\n",
      "\n",
      "211 / 57370\n",
      "worldnews\n",
      "--------------------\n"
     ]
    },
    {
     "data": {
      "text/html": [
       "<b><mark>coronav</mark>irus could be final straw for eu, european experts warn - 'the communitarian spirit of europe is weaker today than 10 years ago .. the biggest danger for the eu now is the “the trump virus”'</b>"
      ],
      "text/plain": [
       "<IPython.core.display.HTML object>"
      ]
     },
     "metadata": {},
     "output_type": "display_data"
    },
    {
     "name": "stdout",
     "output_type": "stream",
     "text": [
      "URL: https://www.theguardian.com/world/2020/apr/01/coronavirus-could-be-final-straw-for-eu-european-experts-warn \n",
      "Published: 2020-04-12 17:53:42. \n"
     ]
    },
    {
     "data": {
      "text/html": [
       "the <mark>title</mark> is <mark>misleading</mark> but still a good read"
      ],
      "text/plain": [
       "<IPython.core.display.HTML object>"
      ]
     },
     "metadata": {},
     "output_type": "display_data"
    },
    {
     "name": "stdout",
     "output_type": "stream",
     "text": [
      "Q: title is misleading\n",
      "#######\n",
      "\n",
      "\n",
      "\n",
      "212 / 57716\n",
      "Coronavirus\n",
      "--------------------\n"
     ]
    },
    {
     "data": {
      "text/html": [
       "<b>bame individuals have been shown to be disproportionally infected / killed by <mark>covid</mark>-19. of the 1-6% world wide ginger haired people, has their infection/death rate occurred as expected?</b>"
      ],
      "text/plain": [
       "<IPython.core.display.HTML object>"
      ]
     },
     "metadata": {},
     "output_type": "display_data"
    },
    {
     "name": "stdout",
     "output_type": "stream",
     "text": [
      "URL: https://www.theguardian.com/world/2020/apr/07/bame-groups-hit-harder-covid-19-than-white-people-uk \n",
      "Published: 2020-04-12 16:54:46. \n"
     ]
    },
    {
     "data": {
      "text/html": [
       "your edited <mark>title</mark> is <mark>misleading</mark>"
      ],
      "text/plain": [
       "<IPython.core.display.HTML object>"
      ]
     },
     "metadata": {},
     "output_type": "display_data"
    },
    {
     "name": "stdout",
     "output_type": "stream",
     "text": [
      "Q: title is misleading\n",
      "##\n",
      "\n",
      "\n",
      "\n",
      "213 / 57821\n",
      "Coronavirus\n",
      "--------------------\n"
     ]
    },
    {
     "data": {
      "text/html": [
       "<b>chinese er doctor who criticized alleged gov’t censorship about <mark>covid</mark>-19 now missing</b>"
      ],
      "text/plain": [
       "<IPython.core.display.HTML object>"
      ]
     },
     "metadata": {},
     "output_type": "display_data"
    },
    {
     "name": "stdout",
     "output_type": "stream",
     "text": [
      "URL: https://www.gmanetwork.com/news/news/world/733620/chinese-er-doctor-who-criticized-alleged-gov-t-censorship-about-covid-19-now-missing/story/?amp&__twitter_impression=true \n",
      "Published: 2020-04-12 16:37:14. \n"
     ]
    },
    {
     "data": {
      "text/html": [
       "<mark>fake</mark> <mark>news</mark>."
      ],
      "text/plain": [
       "<IPython.core.display.HTML object>"
      ]
     },
     "metadata": {},
     "output_type": "display_data"
    },
    {
     "name": "stdout",
     "output_type": "stream",
     "text": [
      "Q: fake news\n"
     ]
    },
    {
     "data": {
      "text/html": [
       "this is a rehash of a rehashed report that reported on a report by some low rent australian tabloid show that checked her social media account and noticed she didn't post for a few days and jumped to the conclusion that she 'disappeared'. she then did post stuff but of course that was just 'the cpp' posting to keep suspicions down \n",
       "\n",
       "total <mark>bullshit</mark> <mark>fake</mark> <mark>news</mark> but many of the bigoted twats that have taken over this sub don't care and continually quote it as fact"
      ],
      "text/plain": [
       "<IPython.core.display.HTML object>"
      ]
     },
     "metadata": {},
     "output_type": "display_data"
    },
    {
     "name": "stdout",
     "output_type": "stream",
     "text": [
      "Q: bullshit news\n",
      "#####\n",
      "\n",
      "\n",
      "\n",
      "215 / 58073\n",
      "worldpolitics\n",
      "--------------------\n"
     ]
    },
    {
     "data": {
      "text/html": [
       "<b>how donald trump spent january and february ignoring <mark>coronav</mark>irus warnings</b>"
      ],
      "text/plain": [
       "<IPython.core.display.HTML object>"
      ]
     },
     "metadata": {},
     "output_type": "display_data"
    },
    {
     "name": "stdout",
     "output_type": "stream",
     "text": [
      "URL: https://www.vanityfair.com/news/2020/04/how-donald-trump-spent-january-and-february-ignoring-coronavirus-warnings \n",
      "Published: 2020-04-12 16:03:45. \n"
     ]
    },
    {
     "data": {
      "text/html": [
       "<mark>fake</mark> <mark>news</mark>"
      ],
      "text/plain": [
       "<IPython.core.display.HTML object>"
      ]
     },
     "metadata": {},
     "output_type": "display_data"
    },
    {
     "name": "stdout",
     "output_type": "stream",
     "text": [
      "Q: fake news\n",
      "##\n",
      "\n",
      "\n",
      "\n",
      "216 / 58163\n",
      "worldnews\n",
      "--------------------\n"
     ]
    },
    {
     "data": {
      "text/html": [
       "<b>smoking weed raises risk of <mark>covid</mark>-19</b>"
      ],
      "text/plain": [
       "<IPython.core.display.HTML object>"
      ]
     },
     "metadata": {},
     "output_type": "display_data"
    },
    {
     "name": "stdout",
     "output_type": "stream",
     "text": [
      "URL: https://edition.cnn.com/2020/04/10/health/smoking-weed-coronavirus-wellness/index.html \n",
      "Published: 2020-04-12 15:54:06. \n"
     ]
    },
    {
     "data": {
      "text/html": [
       "<mark>bullshit</mark>."
      ],
      "text/plain": [
       "<IPython.core.display.HTML object>"
      ]
     },
     "metadata": {},
     "output_type": "display_data"
    },
    {
     "name": "stdout",
     "output_type": "stream",
     "text": [
      "Q: Bullshit\n",
      "##\n",
      "\n",
      "\n",
      "\n",
      "217 / 58263\n",
      "Coronavirus\n",
      "--------------------\n"
     ]
    },
    {
     "data": {
      "text/html": [
       "<b>telangana microbiologist travels 1,500 km to help with <mark>covid</mark>-19 testing</b>"
      ],
      "text/plain": [
       "<IPython.core.display.HTML object>"
      ]
     },
     "metadata": {},
     "output_type": "display_data"
    },
    {
     "name": "stdout",
     "output_type": "stream",
     "text": [
      "URL: https://www.ndtv.com/india-news/coronavirus-updates-telangana-microbiologist-ramakrishna-travels-1-500-km-to-help-with-covid-19-test-2210540 \n",
      "Published: 2020-04-12 15:45:45. \n"
     ]
    },
    {
     "data": {
      "text/html": [
       "and there was not a crisis where this “microbiologist” exists. such utter <mark>bullshit</mark>"
      ],
      "text/plain": [
       "<IPython.core.display.HTML object>"
      ]
     },
     "metadata": {},
     "output_type": "display_data"
    },
    {
     "name": "stdout",
     "output_type": "stream",
     "text": [
      "Q: bullshit\n",
      "####\n",
      "\n",
      "\n",
      "\n",
      "218 / 58466\n",
      "worldnews\n",
      "--------------------\n"
     ]
    },
    {
     "data": {
      "text/html": [
       "<b>asian americans describe ‘gut punch’ of racist attacks during <mark>coronav</mark>irus <mark>pandemi</mark>c | pbs newshour</b>"
      ],
      "text/plain": [
       "<IPython.core.display.HTML object>"
      ]
     },
     "metadata": {},
     "output_type": "display_data"
    },
    {
     "name": "stdout",
     "output_type": "stream",
     "text": [
      "URL: https://www.pbs.org/newshour/nation/asian-americans-describe-gut-punch-of-racist-attacks-during-coronavirus-pandemic \n",
      "Published: 2020-04-12 15:17:21. \n"
     ]
    },
    {
     "data": {
      "text/html": [
       "overly sensitive <mark>bullshit</mark>"
      ],
      "text/plain": [
       "<IPython.core.display.HTML object>"
      ]
     },
     "metadata": {},
     "output_type": "display_data"
    },
    {
     "name": "stdout",
     "output_type": "stream",
     "text": [
      "Q: bullshit\n",
      "#######\n",
      "\n",
      "\n",
      "\n",
      "219 / 58821\n",
      "politics\n",
      "--------------------\n"
     ]
    },
    {
     "data": {
      "text/html": [
       "<b>us's global reputation hits rock-bottom over trump's <mark>coronav</mark>irus response</b>"
      ],
      "text/plain": [
       "<IPython.core.display.HTML object>"
      ]
     },
     "metadata": {},
     "output_type": "display_data"
    },
    {
     "name": "stdout",
     "output_type": "stream",
     "text": [
      "URL: https://www.theguardian.com/us-news/2020/apr/12/us-global-reputation-rock-bottom-donald-trump-coronavirus \n",
      "Published: 2020-04-12 14:32:26. \n"
     ]
    },
    {
     "data": {
      "text/html": [
       "now that <mark>title</mark> is just horribly <mark>misleading</mark>. \n",
       "\n",
       "if you think this is rock bottom, that is simply a failure of your imagination."
      ],
      "text/plain": [
       "<IPython.core.display.HTML object>"
      ]
     },
     "metadata": {},
     "output_type": "display_data"
    },
    {
     "name": "stdout",
     "output_type": "stream",
     "text": [
      "Q: title is misleading\n",
      "######\n",
      "\n",
      "\n",
      "\n",
      "220 / 59114\n",
      "Coronavirus\n",
      "--------------------\n"
     ]
    },
    {
     "data": {
      "text/html": [
       "<b>hear what barack obama said in 2014 about <mark>pandemi</mark>cs - cnn video</b>"
      ],
      "text/plain": [
       "<IPython.core.display.HTML object>"
      ]
     },
     "metadata": {},
     "output_type": "display_data"
    },
    {
     "name": "stdout",
     "output_type": "stream",
     "text": [
      "URL: https://www.cnn.com/videos/politics/2020/04/10/barack-obama-2014-pandemic-comments-sot-ctn-vpx.cnn/video/playlists/this-week-in-politics/ \n",
      "Published: 2020-04-12 14:04:46. \n"
     ]
    },
    {
     "data": {
      "text/html": [
       "it must be <mark>fake</mark> <mark>news</mark>. i'm sure donald told me \"no-one could have foreseen this...it came out of nowhere\"..."
      ],
      "text/plain": [
       "<IPython.core.display.HTML object>"
      ]
     },
     "metadata": {},
     "output_type": "display_data"
    },
    {
     "name": "stdout",
     "output_type": "stream",
     "text": [
      "Q: It be fake news\n",
      "##\n",
      "\n",
      "\n",
      "\n",
      "221 / 59221\n",
      "Coronavirus\n",
      "--------------------\n"
     ]
    },
    {
     "data": {
      "text/html": [
       "<b>fauci expresses ‘cautious optimism’ <mark>coronav</mark>irus outbreak is slowing, us could start reopening in may</b>"
      ],
      "text/plain": [
       "<IPython.core.display.HTML object>"
      ]
     },
     "metadata": {},
     "output_type": "display_data"
    },
    {
     "name": "stdout",
     "output_type": "stream",
     "text": [
      "URL: https://www.cnbc.com/2020/04/12/coronavirus-fauci-says-signs-outbreak-slowing-us-could-start-reopening-in-may.html \n",
      "Published: 2020-04-12 13:58:52. \n"
     ]
    },
    {
     "data": {
      "text/html": [
       "<mark>bs</mark> election talk, us never closed, your 'gradually' reopening means everybody moving in or out of the reopened area unimpeded."
      ],
      "text/plain": [
       "<IPython.core.display.HTML object>"
      ]
     },
     "metadata": {},
     "output_type": "display_data"
    },
    {
     "name": "stdout",
     "output_type": "stream",
     "text": [
      "Q: bs\n",
      "###\n",
      "\n",
      "\n",
      "\n",
      "222 / 59369\n",
      "worldnews\n",
      "--------------------\n"
     ]
    },
    {
     "data": {
      "text/html": [
       "<b>us government gave $3.7million to wuhan lab accused of causing <mark>coronav</mark>irus</b>"
      ],
      "text/plain": [
       "<IPython.core.display.HTML object>"
      ]
     },
     "metadata": {},
     "output_type": "display_data"
    },
    {
     "name": "stdout",
     "output_type": "stream",
     "text": [
      "URL: https://www.thesun.co.uk/news/11381107/us-government-wuhan-coronavirus-outbreak-bats/ \n",
      "Published: 2020-04-12 13:28:39. \n"
     ]
    },
    {
     "data": {
      "text/html": [
       "lmao, “accused” by conspiracy nuts.  this came from an open air live animal market.  your <mark>title</mark> is <mark>misleading</mark> and the sun is basically a tabloid."
      ],
      "text/plain": [
       "<IPython.core.display.HTML object>"
      ]
     },
     "metadata": {},
     "output_type": "display_data"
    },
    {
     "name": "stdout",
     "output_type": "stream",
     "text": [
      "Q: title is misleading\n",
      "##\n",
      "\n",
      "\n",
      "\n",
      "223 / 59491\n",
      "politics\n",
      "--------------------\n"
     ]
    },
    {
     "data": {
      "text/html": [
       "<b>he could have seen what was coming: behind trump’s failure on the <mark>coronav</mark>irus</b>"
      ],
      "text/plain": [
       "<IPython.core.display.HTML object>"
      ]
     },
     "metadata": {},
     "output_type": "display_data"
    },
    {
     "name": "stdout",
     "output_type": "stream",
     "text": [
      "URL: https://www.theglobeandmail.com/world/us-politics/article-he-could-have-seen-what-was-coming-behind-trumps-failure-on-the-4/ \n",
      "Published: 2020-04-12 13:09:06. \n"
     ]
    },
    {
     "data": {
      "text/html": [
       "i think anyone but trump and his administration could have seen this coming.\n",
       "\n",
       "video 1 - background <mark>information</mark>, trump and trump administration.\n",
       "\n",
       "* background: [0:00-3:00](https://www.youtube.com/watch?v=epfu4nfehuk&t=0s)\n",
       "\n",
       "* trump administration: [3:05](https://www.youtube.com/watch?v=epfu4nfehuk&list=plwmv_rrtapomcc07vztxr7b6eeqjowszo&index=1&t=185s)\n",
       "* trump: [4:21](https://www.youtube.com/watch?v=epfu4nfehuk&list=plwmv_rrtapomcc07vztxr7b6eeqjowszo&index=1&t=261s)\n",
       "* thought experiment: [5:42](https://www.youtube.com/watch?v=epfu4nfehuk&list=plwmv_rrtapomcc07vztxr7b6eeqjowszo&index=1&t=342s)\n",
       "* trumps views on health: [5:58](https://www.youtube.com/watch?v=epfu4nfehuk&list=plwmv_rrtapomcc07vztxr7b6eeqjowszo&index=1&t=358s)\n",
       "* decline to use who covid-19 tests: [8:03](https://www.youtube.com/watch?v=epfu4nfehuk&list=plwmv_rrtapomcc07vztxr7b6eeqjowszo&index=1&t=483s)\n",
       "* low testing per capita:[ 8:50](https://www.youtube.com/watch?v=epfu4nfehuk&list=plwmv_rrtapomcc07vztxr7b6eeqjowszo&index=1&t=530s)\n",
       "* comparing south korea to usa: [9:58](https://www.youtube.com/watch?v=epfu4nfehuk&list=plwmv_rrtapomcc07vztxr7b6eeqjowszo&index=1&t=598s)\n",
       "\n",
       "video 2: sends medical supplies to china, mike pence, and nepotism.\n",
       "\n",
       "* usa update: [0:10](https://www.youtube.com/watch?v=tg1rdpvkale&list=plwmv_rrtapomcc07vztxr7b6eeqjowszo&index=2&t=10s)\n",
       "* trump raves about ratings: [0:30](https://www.youtube.com/watch?v=tg1rdpvkale&list=plwmv_rrtapomcc07vztxr7b6eeqjowszo&index=2&t=30s)\n",
       "* trump sends medical supplies to china: [0:49](https://www.youtube.com/watch?v=tg1rdpvkale&list=plwmv_rrtapomcc07vztxr7b6eeqjowszo&index=2&t=49s)\n",
       "* trump blames governors: [1:25](https://www.youtube.com/watch?v=tg1rdpvkale&list=plwmv_rrtapomcc07vztxr7b6eeqjowszo&index=2&t=85s)\n",
       "* mike pence: [1:39](https://www.youtube.com/watch?v=tg1rdpvkale&list=plwmv_rrtapomcc07vztxr7b6eeqjowszo&index=2&t=99s)\n",
       "* nepotism involving unqualified personnel: [3:05](https://www.youtube.com/watch?v=tg1rdpvkale&list=plwmv_rrtapomcc07vztxr7b6eeqjowszo&index=2&t=185s)\n",
       "\n",
       "\n",
       "video 3 - <mark>fake</mark> <mark>news</mark> and <mark>misinformation</mark> and inability to take responsibility.\n",
       "\n",
       "* <mark>fake</mark> <mark>news</mark> and <mark>misinformation</mark>: [0:10](https://www.youtube.com/watch?v=jr3xagk2bl8&list=plwmv_rrtapomcc07vztxr7b6eeqjowszo&index=3&t=10s)\n",
       "* inability to take responsibility: [2:29](https://www.youtube.com/watch?v=jr3xagk2bl8&list=plwmv_rrtapomcc07vztxr7b6eeqjowszo&index=3&t=149s)\n",
       "\n",
       "\n",
       "video 4 - healthcare, trumps recreational activities and wrap up.\n",
       "\n",
       "* dr anthony fauchi: [0:09](https://www.youtube.com/watch?v=z_tzkisakhe&list=plwmv_rrtapomcc07vztxr7b6eeqjowszo&index=4&t=9s)\n",
       "* us healthcare system: [0:32](https://www.youtube.com/watch?v=z_tzkisakhe&list=plwmv_rrtapomcc07vztxr7b6eeqjowszo&index=4&t=32s)\n",
       "* uninsured population: [3:05](https://www.youtube.com/watch?v=z_tzkisakhe&list=plwmv_rrtapomcc07vztxr7b6eeqjowszo&index=4&t=185s)\n",
       "* coronavirus treatment costs: [3:27](https://www.youtube.com/watch?v=z_tzkisakhe&list=plwmv_rrtapomcc07vztxr7b6eeqjowszo&index=4&t=207s)\n",
       "* $35 000 for coronavirus treatment: 4:11\n",
       "* most americans have less than $1000 in savings: [4:33](https://www.youtube.com/watch?v=z_tzkisakhe&list=plwmv_rrtapomcc07vztxr7b6eeqjowszo&index=4&t=251s)\n",
       "* unemployment: [5:24](https://www.youtube.com/watch?v=z_tzkisakhe&list=plwmv_rrtapomcc07vztxr7b6eeqjowszo&index=4&t=324s)\n",
       "* mitch mcconnel: [5:57](https://www.youtube.com/watch?v=z_tzkisakhe&list=plwmv_rrtapomcc07vztxr7b6eeqjowszo&index=4&t=357s)\n",
       "* trumps recreational activities: [6:17](https://www.youtube.com/watch?v=z_tzkisakhe&list=plwmv_rrtapomcc07vztxr7b6eeqjowszo&index=4&t=377s)\n",
       "* trump spends 133 million to golf: [6:37](https://www.youtube.com/watch?v=z_tzkisakhe&list=plwmv_rrtapomcc07vztxr7b6eeqjowszo&index=4&t=397s)\n",
       "* wrapping up: [8:27](https://www.youtube.com/watch?v=z_tzkisakhe&list=plwmv_rrtapomcc07vztxr7b6eeqjowszo&index=4&t=507s)"
      ],
      "text/plain": [
       "<IPython.core.display.HTML object>"
      ]
     },
     "metadata": {},
     "output_type": "display_data"
    },
    {
     "name": "stdout",
     "output_type": "stream",
     "text": [
      "Q: fake news\n",
      "Q: fake news\n",
      "####\n",
      "\n",
      "\n",
      "\n",
      "225 / 59678\n",
      "politics\n",
      "--------------------\n"
     ]
    },
    {
     "data": {
      "text/html": [
       "<b>signs missed and steps slowed in trump’s <mark>pandemi</mark>c response</b>"
      ],
      "text/plain": [
       "<IPython.core.display.HTML object>"
      ]
     },
     "metadata": {},
     "output_type": "display_data"
    },
    {
     "name": "stdout",
     "output_type": "stream",
     "text": [
      "URL: https://apnews.com/6a8f85aad99607f313cca6ab1398e04d \n",
      "Published: 2020-04-12 12:33:53. \n"
     ]
    },
    {
     "data": {
      "text/html": [
       "here's a video series i created focusing on how the bad trumps and his administration handled the coronavirus outbreak (as of almost 3 weeks) and i'm not even part of the coronavirus response team (/s)\n",
       "\n",
       "video 1 - background <mark>information</mark>, trump and trump administration.\n",
       "\n",
       "* background: [0:00-3:00](https://www.youtube.com/watch?v=epfu4nfehuk&t=0s)\n",
       "\n",
       "* trump administration: [3:05](https://www.youtube.com/watch?v=epfu4nfehuk&list=plwmv_rrtapomcc07vztxr7b6eeqjowszo&index=1&t=185s)\n",
       "* trump: [4:21](https://www.youtube.com/watch?v=epfu4nfehuk&list=plwmv_rrtapomcc07vztxr7b6eeqjowszo&index=1&t=261s)\n",
       "* thought experiment: [5:42](https://www.youtube.com/watch?v=epfu4nfehuk&list=plwmv_rrtapomcc07vztxr7b6eeqjowszo&index=1&t=342s)\n",
       "* trumps views on health: [5:58](https://www.youtube.com/watch?v=epfu4nfehuk&list=plwmv_rrtapomcc07vztxr7b6eeqjowszo&index=1&t=358s)\n",
       "* decline to use who covid-19 tests: [8:03](https://www.youtube.com/watch?v=epfu4nfehuk&list=plwmv_rrtapomcc07vztxr7b6eeqjowszo&index=1&t=483s)\n",
       "* low testing per capita:[ 8:50](https://www.youtube.com/watch?v=epfu4nfehuk&list=plwmv_rrtapomcc07vztxr7b6eeqjowszo&index=1&t=530s)\n",
       "* comparing south korea to usa: [9:58](https://www.youtube.com/watch?v=epfu4nfehuk&list=plwmv_rrtapomcc07vztxr7b6eeqjowszo&index=1&t=598s)\n",
       "\n",
       "video 2: sends medical supplies to china, mike pence, and nepotism.\n",
       "\n",
       "* usa update: [0:10](https://www.youtube.com/watch?v=tg1rdpvkale&list=plwmv_rrtapomcc07vztxr7b6eeqjowszo&index=2&t=10s)\n",
       "* trump raves about ratings: [0:30](https://www.youtube.com/watch?v=tg1rdpvkale&list=plwmv_rrtapomcc07vztxr7b6eeqjowszo&index=2&t=30s)\n",
       "* trump sends medical supplies to china: [0:49](https://www.youtube.com/watch?v=tg1rdpvkale&list=plwmv_rrtapomcc07vztxr7b6eeqjowszo&index=2&t=49s)\n",
       "* trump blames governors: [1:25](https://www.youtube.com/watch?v=tg1rdpvkale&list=plwmv_rrtapomcc07vztxr7b6eeqjowszo&index=2&t=85s)\n",
       "* mike pence: [1:39](https://www.youtube.com/watch?v=tg1rdpvkale&list=plwmv_rrtapomcc07vztxr7b6eeqjowszo&index=2&t=99s)\n",
       "* nepotism involving unqualified personnel: [3:05](https://www.youtube.com/watch?v=tg1rdpvkale&list=plwmv_rrtapomcc07vztxr7b6eeqjowszo&index=2&t=185s)\n",
       "\n",
       "\n",
       "video 3 - <mark>fake</mark> <mark>news</mark> and <mark>misinformation</mark> and inability to take responsibility.\n",
       "\n",
       "* <mark>fake</mark> <mark>news</mark> and <mark>misinformation</mark>: [0:10](https://www.youtube.com/watch?v=jr3xagk2bl8&list=plwmv_rrtapomcc07vztxr7b6eeqjowszo&index=3&t=10s)\n",
       "* inability to take responsibility: [2:29](https://www.youtube.com/watch?v=jr3xagk2bl8&list=plwmv_rrtapomcc07vztxr7b6eeqjowszo&index=3&t=149s)\n",
       "\n",
       "\n",
       "video 4 - healthcare, trumps recreational activities and wrap up.\n",
       "\n",
       "* dr anthony fauchi: [0:09](https://www.youtube.com/watch?v=z_tzkisakhe&list=plwmv_rrtapomcc07vztxr7b6eeqjowszo&index=4&t=9s)\n",
       "* us healthcare system: [0:32](https://www.youtube.com/watch?v=z_tzkisakhe&list=plwmv_rrtapomcc07vztxr7b6eeqjowszo&index=4&t=32s)\n",
       "* uninsured population: [3:05](https://www.youtube.com/watch?v=z_tzkisakhe&list=plwmv_rrtapomcc07vztxr7b6eeqjowszo&index=4&t=185s)\n",
       "* coronavirus treatment costs: [3:27](https://www.youtube.com/watch?v=z_tzkisakhe&list=plwmv_rrtapomcc07vztxr7b6eeqjowszo&index=4&t=207s)\n",
       "* $35 000 for coronavirus treatment: 4:11\n",
       "* most americans have less than $1000 in savings: [4:33](https://www.youtube.com/watch?v=z_tzkisakhe&list=plwmv_rrtapomcc07vztxr7b6eeqjowszo&index=4&t=251s)\n",
       "* unemployment: [5:24](https://www.youtube.com/watch?v=z_tzkisakhe&list=plwmv_rrtapomcc07vztxr7b6eeqjowszo&index=4&t=324s)\n",
       "* mitch mcconnel: [5:57](https://www.youtube.com/watch?v=z_tzkisakhe&list=plwmv_rrtapomcc07vztxr7b6eeqjowszo&index=4&t=357s)\n",
       "* trumps recreational activities: [6:17](https://www.youtube.com/watch?v=z_tzkisakhe&list=plwmv_rrtapomcc07vztxr7b6eeqjowszo&index=4&t=377s)\n",
       "* trump spends 133 million to golf: [6:37](https://www.youtube.com/watch?v=z_tzkisakhe&list=plwmv_rrtapomcc07vztxr7b6eeqjowszo&index=4&t=397s)\n",
       "* wrapping up: [8:27](https://www.youtube.com/watch?v=z_tzkisakhe&list=plwmv_rrtapomcc07vztxr7b6eeqjowszo&index=4&t=507s)"
      ],
      "text/plain": [
       "<IPython.core.display.HTML object>"
      ]
     },
     "metadata": {},
     "output_type": "display_data"
    },
    {
     "name": "stdout",
     "output_type": "stream",
     "text": [
      "Q: fake news\n",
      "Q: fake news\n",
      "##\n",
      "\n",
      "\n",
      "\n",
      "227 / 59771\n",
      "worldnews\n",
      "--------------------\n"
     ]
    },
    {
     "data": {
      "text/html": [
       "<b>uk donates £200m to bolster developing nations’ <mark>coronav</mark>irus response - money for organisations including who will help prevent ‘second wave’ in uk, department for international development says</b>"
      ],
      "text/plain": [
       "<IPython.core.display.HTML object>"
      ]
     },
     "metadata": {},
     "output_type": "display_data"
    },
    {
     "name": "stdout",
     "output_type": "stream",
     "text": [
      "URL: https://www.independent.co.uk/news/uk/politics/coronavirus-uk-donates-aid-who-dfid-red-cross-yemen-trevelyan-a9461366.html \n",
      "Published: 2020-04-12 12:06:50. \n"
     ]
    },
    {
     "data": {
      "text/html": [
       "sounds like <mark>bullshit</mark> to me.."
      ],
      "text/plain": [
       "<IPython.core.display.HTML object>"
      ]
     },
     "metadata": {},
     "output_type": "display_data"
    },
    {
     "name": "stdout",
     "output_type": "stream",
     "text": [
      "Q: Sounds like bullshit\n",
      "##########\n",
      "\n",
      "\n",
      "\n",
      "228 / 60291\n",
      "Coronavirus\n",
      "--------------------\n"
     ]
    },
    {
     "data": {
      "text/html": [
       "<b><mark>covid</mark>-19 | china reports nearly 100 new cases in one day, highest in recent weeks</b>"
      ],
      "text/plain": [
       "<IPython.core.display.HTML object>"
      ]
     },
     "metadata": {},
     "output_type": "display_data"
    },
    {
     "name": "stdout",
     "output_type": "stream",
     "text": [
      "URL: https://www.thehindu.com/news/international/covid-19-china-reports-nearly-100-new-cases-in-one-day-highest-in-recent-weeks/article31321567.ece \n",
      "Published: 2020-04-12 08:32:46. \n"
     ]
    },
    {
     "data": {
      "text/html": [
       "the <mark>title</mark> is really <mark>misleading</mark>. according to the people’s daily, on april 11, china has reported 97 diagnosed cases came from abroad, 2 local cases, and 63 asymptotic cases."
      ],
      "text/plain": [
       "<IPython.core.display.HTML object>"
      ]
     },
     "metadata": {},
     "output_type": "display_data"
    },
    {
     "name": "stdout",
     "output_type": "stream",
     "text": [
      "Q: title is misleading\n",
      "##\n",
      "\n",
      "\n",
      "\n",
      "229 / 60363\n",
      "worldnews\n",
      "--------------------\n"
     ]
    },
    {
     "data": {
      "text/html": [
       "<b>‘wet markets’ reopen despite being suspected ground for <mark>coronav</mark>irus outbreak</b>"
      ],
      "text/plain": [
       "<IPython.core.display.HTML object>"
      ]
     },
     "metadata": {},
     "output_type": "display_data"
    },
    {
     "name": "stdout",
     "output_type": "stream",
     "text": [
      "URL: https://7news.com.au/lifestyle/health-wellbeing/wet-markets-c-971821 \n",
      "Published: 2020-04-12 08:12:45. \n"
     ]
    },
    {
     "data": {
      "text/html": [
       "apparently this post <mark>title</mark> is <mark>misleading</mark> even though it has been copied directly from the <mark>article</mark>"
      ],
      "text/plain": [
       "<IPython.core.display.HTML object>"
      ]
     },
     "metadata": {},
     "output_type": "display_data"
    },
    {
     "name": "stdout",
     "output_type": "stream",
     "text": [
      "Q: title is misleading\n",
      "#######\n",
      "\n",
      "\n",
      "\n",
      "230 / 60741\n",
      "Coronavirus\n",
      "--------------------\n"
     ]
    },
    {
     "data": {
      "text/html": [
       "<b>north korea says country remains <mark>coronav</mark>irus free</b>"
      ],
      "text/plain": [
       "<IPython.core.display.HTML object>"
      ]
     },
     "metadata": {},
     "output_type": "display_data"
    },
    {
     "name": "stdout",
     "output_type": "stream",
     "text": [
      "URL: https://www.abc.net.au/news/2020-04-12/north-korea-says-country-remains-covid-19-free-pandemic/12143268 \n",
      "Published: 2020-04-12 05:57:22. \n"
     ]
    },
    {
     "data": {
      "text/html": [
       "<mark>bullshit</mark>."
      ],
      "text/plain": [
       "<IPython.core.display.HTML object>"
      ]
     },
     "metadata": {},
     "output_type": "display_data"
    },
    {
     "name": "stdout",
     "output_type": "stream",
     "text": [
      "Q: Bullshit\n",
      "###\n",
      "\n",
      "\n",
      "\n",
      "231 / 60881\n",
      "worldnews\n",
      "--------------------\n"
     ]
    },
    {
     "data": {
      "text/html": [
       "<b>north korea says country remains <mark>covid</mark>-19 free, despite sharing borders with asia's hardest-hit nations</b>"
      ],
      "text/plain": [
       "<IPython.core.display.HTML object>"
      ]
     },
     "metadata": {},
     "output_type": "display_data"
    },
    {
     "name": "stdout",
     "output_type": "stream",
     "text": [
      "URL: https://www.abc.net.au/news/2020-04-12/north-korea-says-country-remains-covid-19-free-pandemic/12143268 \n",
      "Published: 2020-04-12 05:21:29. \n"
     ]
    },
    {
     "data": {
      "text/html": [
       "complete <mark>bullshit</mark>"
      ],
      "text/plain": [
       "<IPython.core.display.HTML object>"
      ]
     },
     "metadata": {},
     "output_type": "display_data"
    },
    {
     "name": "stdout",
     "output_type": "stream",
     "text": [
      "Q: bullshit\n"
     ]
    },
    {
     "data": {
      "text/html": [
       "lol <mark>bullshit</mark> ok."
      ],
      "text/plain": [
       "<IPython.core.display.HTML object>"
      ]
     },
     "metadata": {},
     "output_type": "display_data"
    },
    {
     "name": "stdout",
     "output_type": "stream",
     "text": [
      "Q: bullshit\n",
      "#######\n",
      "\n",
      "\n",
      "\n",
      "233 / 61204\n",
      "politics\n",
      "--------------------\n"
     ]
    },
    {
     "data": {
      "text/html": [
       "<b>trump reportedly weighed letting <mark>covid</mark>-19 ‘wash over’ u.s., but was warned of grim toll</b>"
      ],
      "text/plain": [
       "<IPython.core.display.HTML object>"
      ]
     },
     "metadata": {},
     "output_type": "display_data"
    },
    {
     "name": "stdout",
     "output_type": "stream",
     "text": [
      "URL: https://www.huffpost.com/entry/trump-free-range-covid-19-death-toll_n_5e925a48c5b6f7b1ea82dcd7 \n",
      "Published: 2020-04-12 03:47:46. \n"
     ]
    },
    {
     "data": {
      "text/html": [
       "<mark>fake</mark> <mark>news</mark>"
      ],
      "text/plain": [
       "<IPython.core.display.HTML object>"
      ]
     },
     "metadata": {},
     "output_type": "display_data"
    },
    {
     "name": "stdout",
     "output_type": "stream",
     "text": [
      "Q: fake news\n",
      "#\n",
      "\n",
      "\n",
      "\n",
      "234 / 61271\n",
      "politics\n",
      "--------------------\n"
     ]
    },
    {
     "data": {
      "text/html": [
       "<b><mark>coronav</mark>irus cases plateau in oregon; drop not expected for 6 weeks, new estimates show</b>"
      ],
      "text/plain": [
       "<IPython.core.display.HTML object>"
      ]
     },
     "metadata": {},
     "output_type": "display_data"
    },
    {
     "name": "stdout",
     "output_type": "stream",
     "text": [
      "URL: https://www.oregonlive.com/coronavirus/2020/04/coronavirus-cases-plateau-in-oregon-drop-not-expected-for-six-weeks-new-estimates-show.html \n",
      "Published: 2020-04-12 03:34:26. \n"
     ]
    },
    {
     "data": {
      "text/html": [
       "so they just literally made up numbers, got it.\n",
       "\n",
       "wyoming is not under lockdown, has done more testing per capita, and has zero deaths despite higher per capita cases.\n",
       "\n",
       "so how has a state without aggressive distancing outperformed oregon, if their lockdown is so super super effective?\n",
       "\n",
       "population density you say?  what about iowa?  higher population density, but fewer deaths total and identical deaths per capita.  no lockdown in iowa.\n",
       "\n",
       "so, yeah, they just pulled that 18,000 number out of their ass.  it's a fabrication."
      ],
      "text/plain": [
       "<IPython.core.display.HTML object>"
      ]
     },
     "metadata": {},
     "output_type": "display_data"
    },
    {
     "name": "stdout",
     "output_type": "stream",
     "text": [
      "Q: It 's fabrication\n",
      "#####\n",
      "\n",
      "\n",
      "\n",
      "235 / 61535\n",
      "Coronavirus\n",
      "--------------------\n"
     ]
    },
    {
     "data": {
      "text/html": [
       "<b>whistleblowing doctor missing after criticizing beijing's <mark>coronav</mark>irus censorship</b>"
      ],
      "text/plain": [
       "<IPython.core.display.HTML object>"
      ]
     },
     "metadata": {},
     "output_type": "display_data"
    },
    {
     "name": "stdout",
     "output_type": "stream",
     "text": [
      "URL: https://rsf.org/en/news/whistleblowing-doctor-missing-after-criticizing-beijings-coronavirus-censorship \n",
      "Published: 2020-04-12 02:24:21. \n"
     ]
    },
    {
     "data": {
      "text/html": [
       "this is the silliest <mark>fake</mark> <mark>news</mark> i've ever seen on reddit.\n",
       "\n",
       "dr. ai fen update her weibo (like twitter, popular in china) on apr 1st, 2nd, 3red, 5th, 7th, 8th, 9th, and twice on apr 10th. some of these posts have her pictures. \n",
       "\n",
       "https://m.weibo.cn/u/2662574464?refer_flag=1005050010_&refer_flag=1005050010_&jumpfrom=weibocom"
      ],
      "text/plain": [
       "<IPython.core.display.HTML object>"
      ]
     },
     "metadata": {},
     "output_type": "display_data"
    },
    {
     "name": "stdout",
     "output_type": "stream",
     "text": [
      "Q: This is fake news\n",
      "####\n",
      "\n",
      "\n",
      "\n",
      "236 / 61735\n",
      "Coronavirus\n",
      "--------------------\n"
     ]
    },
    {
     "data": {
      "text/html": [
       "<b>charlotte woman hadn’t left her house in 3 weeks but tested positive for <mark>covid</mark>-19. merely touched package delivered by someone who also tested positive.</b>"
      ],
      "text/plain": [
       "<IPython.core.display.HTML object>"
      ]
     },
     "metadata": {},
     "output_type": "display_data"
    },
    {
     "name": "stdout",
     "output_type": "stream",
     "text": [
      "URL: https://www.msn.com/en-us/health/medical/charlotte-woman-hasnt-left-her-house-in-three-weeks-but-tested-positive-for-covid-19/ar-BB12sjy4?ocid=st \n",
      "Published: 2020-04-12 01:42:24. \n"
     ]
    },
    {
     "data": {
      "text/html": [
       "<mark>bullshit</mark>"
      ],
      "text/plain": [
       "<IPython.core.display.HTML object>"
      ]
     },
     "metadata": {},
     "output_type": "display_data"
    },
    {
     "name": "stdout",
     "output_type": "stream",
     "text": [
      "Q: Bullshit\n",
      "#"
     ]
    },
    {
     "data": {
      "text/html": [
       "from the <mark>article</mark>, that headline is <mark>misleading</mark>. she likely talked to that person and six feet is not enough. stay away from people!\n",
       "\n",
       "<mark>article</mark>: brummert said aside from the pharmacist and her husband, who grocery shops but is temporarily living in a separate room, the only other person she’s come into contact with is a woman who volunteered to drop off groceries at her doorstep once. brummert said the woman later tested positive for covid-19.\n",
       "\n",
       "“i barely had any contact,” she said. “i didn’t even touch her.”"
      ],
      "text/plain": [
       "<IPython.core.display.HTML object>"
      ]
     },
     "metadata": {},
     "output_type": "display_data"
    },
    {
     "name": "stdout",
     "output_type": "stream",
     "text": [
      "Q: headline is misleading\n",
      "#################\n",
      "\n",
      "\n",
      "\n",
      "238 / 62611\n",
      "Coronavirus\n",
      "--------------------\n"
     ]
    },
    {
     "data": {
      "text/html": [
       "<b>the american thoracic society recommends hydroxychloroquine for hospitalized <mark>covid</mark>-19 patients with pneumonia in its new interim guidance document</b>"
      ],
      "text/plain": [
       "<IPython.core.display.HTML object>"
      ]
     },
     "metadata": {},
     "output_type": "display_data"
    },
    {
     "name": "stdout",
     "output_type": "stream",
     "text": [
      "URL: https://www.thoracic.org/ \n",
      "Published: 2020-04-11 23:30:05. \n"
     ]
    },
    {
     "data": {
      "text/html": [
       "this is <mark>fake</mark> <mark>news</mark>\n",
       "\n",
       "https://www.thoracic.org/professionals/clinical-re<mark>source</mark>s/disease-related-re<mark>source</mark>s/covid-19-guidance.pdf"
      ],
      "text/plain": [
       "<IPython.core.display.HTML object>"
      ]
     },
     "metadata": {},
     "output_type": "display_data"
    },
    {
     "name": "stdout",
     "output_type": "stream",
     "text": [
      "Q: This is fake news\n",
      "#\n",
      "\n",
      "\n",
      "\n",
      "239 / 62672\n",
      "worldnews\n",
      "--------------------\n"
     ]
    },
    {
     "data": {
      "text/html": [
       "<b>novel <mark>coronav</mark>irus can travel up to 4m.</b>"
      ],
      "text/plain": [
       "<IPython.core.display.HTML object>"
      ]
     },
     "metadata": {},
     "output_type": "display_data"
    },
    {
     "name": "stdout",
     "output_type": "stream",
     "text": [
      "URL: https://www.thestar.com.my/news/regional/2020/04/11/coronavirus-found-in-air-samples-up-to-4-metres-from-patients-study-reveals \n",
      "Published: 2020-04-11 23:21:44. \n"
     ]
    },
    {
     "data": {
      "text/html": [
       "absolute <mark>bullshit</mark>. it doesn't exist. sra at its best"
      ],
      "text/plain": [
       "<IPython.core.display.HTML object>"
      ]
     },
     "metadata": {},
     "output_type": "display_data"
    },
    {
     "name": "stdout",
     "output_type": "stream",
     "text": [
      "Q: bullshit\n",
      "#\n",
      "\n",
      "\n",
      "\n",
      "240 / 62720\n",
      "Coronavirus\n",
      "--------------------\n"
     ]
    },
    {
     "data": {
      "text/html": [
       "<b>bill gates says <mark>coronav</mark>irus will forever alter work, but face-to-face school is ‘totally irreplaceable’</b>"
      ],
      "text/plain": [
       "<IPython.core.display.HTML object>"
      ]
     },
     "metadata": {},
     "output_type": "display_data"
    },
    {
     "name": "stdout",
     "output_type": "stream",
     "text": [
      "URL: https://www.geekwire.com/2020/bill-gates-says-coronavirus-will-forever-alter-work-face-face-school-totally-irreplaceable/ \n",
      "Published: 2020-04-11 23:19:39. \n"
     ]
    },
    {
     "data": {
      "text/html": [
       "> face-to-face school is \"totally irreplaceable\"\n",
       "\n",
       "enormous <mark>bs</mark>, even to the point of ridiculousness."
      ],
      "text/plain": [
       "<IPython.core.display.HTML object>"
      ]
     },
     "metadata": {},
     "output_type": "display_data"
    },
    {
     "name": "stdout",
     "output_type": "stream",
     "text": [
      "Q: BS\n",
      "###############\n",
      "\n",
      "\n",
      "\n",
      "241 / 63489\n",
      "Coronavirus\n",
      "--------------------\n"
     ]
    },
    {
     "data": {
      "text/html": [
       "<b>surgeon general under fire for telling african americans not to smoke, drink or take drugs and 'highly offensive' use of 'big momma' as <mark>coronav</mark>irus <mark>pandemi</mark>c hits black community hardest</b>"
      ],
      "text/plain": [
       "<IPython.core.display.HTML object>"
      ]
     },
     "metadata": {},
     "output_type": "display_data"
    },
    {
     "name": "stdout",
     "output_type": "stream",
     "text": [
      "URL: https://archive.fo/78m5e \n",
      "Published: 2020-04-11 21:01:31. \n"
     ]
    },
    {
     "data": {
      "text/html": [
       "this was political slander <mark>bs</mark> and was taken completely out of context. he basically said that in addition to everything we're doing poc groups should be doing things such as 'washing your hands like you've never done before' and staying away from 'tobacco, alcohol and drugs' he literally said to wash your hands a few second before the no drug guidelines. \n",
       "\n",
       "the media is just taking his statement out of class context."
      ],
      "text/plain": [
       "<IPython.core.display.HTML object>"
      ]
     },
     "metadata": {},
     "output_type": "display_data"
    },
    {
     "name": "stdout",
     "output_type": "stream",
     "text": [
      "Q: This was bs\n",
      "######\n",
      "\n",
      "\n",
      "\n",
      "242 / 63782\n",
      "Coronavirus\n",
      "--------------------\n"
     ]
    },
    {
     "data": {
      "text/html": [
       "<b>cuba hits out at 'cruel' us sanctions during <mark>covid</mark>-19 <mark>pandemi</mark>c</b>"
      ],
      "text/plain": [
       "<IPython.core.display.HTML object>"
      ]
     },
     "metadata": {},
     "output_type": "display_data"
    },
    {
     "name": "stdout",
     "output_type": "stream",
     "text": [
      "URL: https://www.channelnewsasia.com/news/world/cuba-hits-out-at-cruel-us-sanctions-during-covid-19-pandemic-12632800 \n",
      "Published: 2020-04-11 20:10:30. \n"
     ]
    },
    {
     "data": {
      "text/html": [
       "propaganda <mark>bullshit</mark> from cuba.  medical and humanitarian goods are exempt from the embargoes."
      ],
      "text/plain": [
       "<IPython.core.display.HTML object>"
      ]
     },
     "metadata": {},
     "output_type": "display_data"
    },
    {
     "name": "stdout",
     "output_type": "stream",
     "text": [
      "Q: bullshit\n",
      "###\n",
      "\n",
      "\n",
      "\n",
      "243 / 63923\n",
      "worldnews\n",
      "--------------------\n"
     ]
    },
    {
     "data": {
      "text/html": [
       "<b>china <mark>covid</mark>-19 stimulus ‘10 times more efficient’ than us fed - china’s efficiency is 10 times that of the fed. each yuan injected into the money supply generated 3.5 yuan worth of bank loans.</b>"
      ],
      "text/plain": [
       "<IPython.core.display.HTML object>"
      ]
     },
     "metadata": {},
     "output_type": "display_data"
    },
    {
     "name": "stdout",
     "output_type": "stream",
     "text": [
      "URL: https://www.scmp.com/economy/china-economy/article/3079423/coronavirus-china-claims-stimulus-10-times-more-efficient-us \n",
      "Published: 2020-04-11 19:44:33. \n"
     ]
    },
    {
     "data": {
      "text/html": [
       "<mark>bullshit</mark>. every us dollar the fed issues creates nearly ten times that just due to fractional reserve banking alone."
      ],
      "text/plain": [
       "<IPython.core.display.HTML object>"
      ]
     },
     "metadata": {},
     "output_type": "display_data"
    },
    {
     "name": "stdout",
     "output_type": "stream",
     "text": [
      "Q: Bullshit\n",
      "########\n",
      "\n",
      "\n",
      "\n",
      "244 / 64302\n",
      "Coronavirus\n",
      "--------------------\n"
     ]
    },
    {
     "data": {
      "text/html": [
       "<b>georgia man arrested for trying to defraud u.s. government in $750 million <mark>covid</mark>-19 scam</b>"
      ],
      "text/plain": [
       "<IPython.core.display.HTML object>"
      ]
     },
     "metadata": {},
     "output_type": "display_data"
    },
    {
     "name": "stdout",
     "output_type": "stream",
     "text": [
      "URL: https://fcced.com/georgia-man-arrested-defraud-covid-19-scam-114201608/ \n",
      "Published: 2020-04-11 18:57:01. \n"
     ]
    },
    {
     "data": {
      "text/html": [
       "sounds like <mark>bullshit</mark>."
      ],
      "text/plain": [
       "<IPython.core.display.HTML object>"
      ]
     },
     "metadata": {},
     "output_type": "display_data"
    },
    {
     "name": "stdout",
     "output_type": "stream",
     "text": [
      "Q: Sounds like bullshit\n",
      "\n",
      "\n",
      "\n",
      "\n",
      "245 / 64325\n",
      "Coronavirus\n",
      "--------------------\n"
     ]
    },
    {
     "data": {
      "text/html": [
       "<b>new signs suggest <mark>coronav</mark>irus was in california far earlier than anyone knew</b>"
      ],
      "text/plain": [
       "<IPython.core.display.HTML object>"
      ]
     },
     "metadata": {},
     "output_type": "display_data"
    },
    {
     "name": "stdout",
     "output_type": "stream",
     "text": [
      "URL: https://www.latimes.com/california/story/2020-04-11/bay-area-coronavirus-deaths-signs-of-earlier-spread-california \n",
      "Published: 2020-04-11 18:55:55. \n"
     ]
    },
    {
     "data": {
      "text/html": [
       "this comes from right-wing crank victor davis hansen.  it's <mark>bullshit</mark>."
      ],
      "text/plain": [
       "<IPython.core.display.HTML object>"
      ]
     },
     "metadata": {},
     "output_type": "display_data"
    },
    {
     "name": "stdout",
     "output_type": "stream",
     "text": [
      "Q: It 's bullshit\n",
      "#\n",
      "\n",
      "\n",
      "\n",
      "246 / 64381\n",
      "Coronavirus\n",
      "--------------------\n"
     ]
    },
    {
     "data": {
      "text/html": [
       "<b>systemic racism is making <mark>coronav</mark>irus worse in black america</b>"
      ],
      "text/plain": [
       "<IPython.core.display.HTML object>"
      ]
     },
     "metadata": {},
     "output_type": "display_data"
    },
    {
     "name": "stdout",
     "output_type": "stream",
     "text": [
      "URL: https://truthout.org/articles/systemic-racism-is-making-coronavirus-worse-in-black-america/ \n",
      "Published: 2020-04-11 18:51:18. \n"
     ]
    },
    {
     "data": {
      "text/html": [
       "this <mark>article</mark> is <mark>bullshit</mark>"
      ],
      "text/plain": [
       "<IPython.core.display.HTML object>"
      ]
     },
     "metadata": {},
     "output_type": "display_data"
    },
    {
     "name": "stdout",
     "output_type": "stream",
     "text": [
      "Q: article is bullshit\n",
      "###########\n",
      "\n",
      "\n",
      "\n",
      "247 / 64921\n",
      "Coronavirus\n",
      "--------------------\n"
     ]
    },
    {
     "data": {
      "text/html": [
       "<b>analysis: some states getting $300k per <mark>coronav</mark>irus case, new york getting $12k</b>"
      ],
      "text/plain": [
       "<IPython.core.display.HTML object>"
      ]
     },
     "metadata": {},
     "output_type": "display_data"
    },
    {
     "name": "stdout",
     "output_type": "stream",
     "text": [
      "URL: https://thehill.com/policy/healthcare/492325-analysis-some-states-getting-300k-per-coronavirus-case-new-york-getting-12k \n",
      "Published: 2020-04-11 17:23:07. \n"
     ]
    },
    {
     "data": {
      "text/html": [
       "it won't matter because people won't read the <mark>article</mark>. these aren't funds used to fight coronavirus.  this is part of the health care system bailout.   \n",
       "\n",
       "this figure is based on a less than one percent slice of overall funds distributed.  the funds are distributed using a formula based on that states historical use of medicare funds.  the funds mentioned in the <mark>article</mark> are a bailout of out-patient healthcare providers.  coronavirus funds come from a different piece of of the bill.  \n",
       "\n",
       "so for example a state with a small population and very few coronavirus cases (like nebraska) shut down all elective and out patient surgery. doctors cancelled non emergency visits. so, just like in new york, there have been massive layoffs in the healthcare industry and clinics are shut down.  the metric they those to distribute this particular chunk of bailout money was medicare percentage. new york will get a fuck ton more money than nebraska to bail out this segment of the industry, as they should.  \n",
       "\n",
       "this <mark>article</mark> is so <mark>misleading</mark>. you may as well say \"boeing is getting 3 billion dollars of money per employee with coronavirus while new york gets $12k\""
      ],
      "text/plain": [
       "<IPython.core.display.HTML object>"
      ]
     },
     "metadata": {},
     "output_type": "display_data"
    },
    {
     "name": "stdout",
     "output_type": "stream",
     "text": [
      "Q: article is misleading\n",
      "##\n",
      "\n",
      "\n",
      "\n",
      "248 / 65043\n",
      "Coronavirus\n",
      "--------------------\n"
     ]
    },
    {
     "data": {
      "text/html": [
       "<b><mark>coronav</mark>irus cases in austria are 'twice the reported numbers'</b>"
      ],
      "text/plain": [
       "<IPython.core.display.HTML object>"
      ]
     },
     "metadata": {},
     "output_type": "display_data"
    },
    {
     "name": "stdout",
     "output_type": "stream",
     "text": [
      "URL: https://www.thelocal.at/20200410/coronavirus-cases-in-austria-are-twice-the-reported-numbers \n",
      "Published: 2020-04-11 17:05:13. \n"
     ]
    },
    {
     "data": {
      "text/html": [
       "this headline is quite <mark>misleading</mark>.\n",
       "\n",
       "first of all, the test results had a *huge* margin of error. they found that the number of infections was likely to be between 10,000 and 70,000.\n",
       "\n",
       "and since they did a test for *current* infections, anyone who had the virus a while ago and recovered from it would test negative. so far, there are about as many recovered cases as active cases in austria because they took measures to slow the spread quite early.\n",
       "\n",
       "if people with milder cases (who would naturally be less like to get tested under normal circumstances) clear the virus from their bodies more quickly than people with moderate or severe cases, then this study might underestimate the number who have been infected by a big margin."
      ],
      "text/plain": [
       "<IPython.core.display.HTML object>"
      ]
     },
     "metadata": {},
     "output_type": "display_data"
    },
    {
     "name": "stdout",
     "output_type": "stream",
     "text": [
      "Q: headline is misleading\n",
      "########\n",
      "\n",
      "\n",
      "\n",
      "249 / 65450\n",
      "worldnews\n",
      "--------------------\n"
     ]
    },
    {
     "data": {
      "text/html": [
       "<b>u.s. now has the world’s deadliest <mark>coronav</mark>irus outbreak</b>"
      ],
      "text/plain": [
       "<IPython.core.display.HTML object>"
      ]
     },
     "metadata": {},
     "output_type": "display_data"
    },
    {
     "name": "stdout",
     "output_type": "stream",
     "text": [
      "URL: https://www.bloomberg.com/news/articles/2020-04-11/u-s-now-has-the-world-s-deadliest-coronavirus-outbreak \n",
      "Published: 2020-04-11 16:34:37. \n"
     ]
    },
    {
     "data": {
      "text/html": [
       "well i’m sure total count of course but scale/proportions to each countries population were not number one. also, you’re going to tell me that china with a billion people only had 80k cases? yeah <mark>bullshit</mark>..."
      ],
      "text/plain": [
       "<IPython.core.display.HTML object>"
      ]
     },
     "metadata": {},
     "output_type": "display_data"
    },
    {
     "name": "stdout",
     "output_type": "stream",
     "text": [
      "Q: BULLSHIT\n",
      "###########\n",
      "\n",
      "\n",
      "\n",
      "250 / 65997\n",
      "Coronavirus\n",
      "--------------------\n"
     ]
    },
    {
     "data": {
      "text/html": [
       "<b><mark>coronav</mark>irus in nyc: schools closed for rest of year as cases near 95k for an 11,106/million case rate, deaths hit 5,429</b>"
      ],
      "text/plain": [
       "<IPython.core.display.HTML object>"
      ]
     },
     "metadata": {},
     "output_type": "display_data"
    },
    {
     "name": "stdout",
     "output_type": "stream",
     "text": [
      "URL: https://1010wins.radio.com/articles/ap-news/coronavirus-in-nyc-schools-closed-for-rest-of-year \n",
      "Published: 2020-04-11 15:40:14. \n"
     ]
    },
    {
     "data": {
      "text/html": [
       "very <mark>misleading</mark> <mark>title</mark>.it is end of academic year which is very different, needs changing"
      ],
      "text/plain": [
       "<IPython.core.display.HTML object>"
      ]
     },
     "metadata": {},
     "output_type": "display_data"
    },
    {
     "name": "stdout",
     "output_type": "stream",
     "text": [
      "Q: misleading title\n",
      "#######\n",
      "\n",
      "\n",
      "\n",
      "251 / 66325\n",
      "politics\n",
      "--------------------\n"
     ]
    },
    {
     "data": {
      "text/html": [
       "<b>bill barr accuses media of \"jihad\" to discredit hydroxychloroquine after trump touts drug as <mark>covid</mark>-19 treatment</b>"
      ],
      "text/plain": [
       "<IPython.core.display.HTML object>"
      ]
     },
     "metadata": {},
     "output_type": "display_data"
    },
    {
     "name": "stdout",
     "output_type": "stream",
     "text": [
      "URL: https://www.newsweek.com/bill-barr-hydroxychloroquine-fox-news-ingraham-1497021 \n",
      "Published: 2020-04-11 14:49:31. \n"
     ]
    },
    {
     "data": {
      "text/html": [
       "nothing this man says matters to me. it’s all <mark>bullshit</mark>, he’s no american."
      ],
      "text/plain": [
       "<IPython.core.display.HTML object>"
      ]
     },
     "metadata": {},
     "output_type": "display_data"
    },
    {
     "name": "stdout",
     "output_type": "stream",
     "text": [
      "Q: bullshit\n"
     ]
    },
    {
     "data": {
      "text/html": [
       ">\tbefore the president said anything about it, there was fair and balanced coverage of this very promising drug and the fact that it has such a long track record, that the risks were pretty well known\n",
       "\n",
       "<mark>bullshit</mark>. before he saw a random tweet about the test from a supporter and started clamoring about it, nobody was talking about it. \n",
       "\n",
       "and there’s no media “jihad” against it. the media, at least he media outside of fox, breitbart, oan, etc, is simply saying “where’s the proof that it works?” while **trump’s own medical experts** and doctors in the field right now are saying its effects are minimal to none based on every study so far that stands up to scrutiny. the one study trump touts has been rescinded by the journal that published it because it was a garbage tier study with no controls. if all of this is “jihad” just because trump believes everything he sees on twitter which, in turn, is affecting people’s lives, then facts are jihad."
      ],
      "text/plain": [
       "<IPython.core.display.HTML object>"
      ]
     },
     "metadata": {},
     "output_type": "display_data"
    },
    {
     "name": "stdout",
     "output_type": "stream",
     "text": [
      "Q: Bullshit\n",
      "######\n",
      "\n",
      "\n",
      "\n",
      "253 / 66640\n",
      "Coronavirus\n",
      "--------------------\n"
     ]
    },
    {
     "data": {
      "text/html": [
       "<b>doctor loses custody of child due to <mark>coronav</mark>irus</b>"
      ],
      "text/plain": [
       "<IPython.core.display.HTML object>"
      ]
     },
     "metadata": {},
     "output_type": "display_data"
    },
    {
     "name": "stdout",
     "output_type": "stream",
     "text": [
      "URL: https://www.nbcmiami.com/news/local/coronavirus-concerns-lead-to-custody-battle-for-south-florida-doctor/2218466/ \n",
      "Published: 2020-04-11 14:07:47. \n"
     ]
    },
    {
     "data": {
      "text/html": [
       "what a <mark>misleading</mark> <mark>title</mark>. this is a temporary action until the pandemic is over. she didn’t actually lose custody. she shouldn’t have had to have a court tell her to do this. she should have done it willingly so as not to infect her daughter. tons of medical workers right now are willingly quarantining away from their loved ones, it would have been even easier for her to do so since the father lives separately. selfish parent. good on the dad."
      ],
      "text/plain": [
       "<IPython.core.display.HTML object>"
      ]
     },
     "metadata": {},
     "output_type": "display_data"
    },
    {
     "name": "stdout",
     "output_type": "stream",
     "text": [
      "Q: misleading title\n"
     ]
    },
    {
     "data": {
      "text/html": [
       ">greene tested negative for coronavirus this week. her four-year-old  daughter splits her time equally between her mom and dad, but this week,  the child’s father, eric greene, asked for and received an emergency  order demanding sole custody **until the pandemic is over.**\n",
       "\n",
       "the <mark>title</mark> is <mark>misleading</mark>, implying she lost the custody for ever. actually the shared custody was suspended only till the pandemic is over. let's hope it will end sooner than later."
      ],
      "text/plain": [
       "<IPython.core.display.HTML object>"
      ]
     },
     "metadata": {},
     "output_type": "display_data"
    },
    {
     "name": "stdout",
     "output_type": "stream",
     "text": [
      "Q: title is misleading\n",
      "############\n",
      "\n",
      "\n",
      "\n",
      "255 / 67233\n",
      "worldnews\n",
      "--------------------\n"
     ]
    },
    {
     "data": {
      "text/html": [
       "<b>china clamping down on <mark>coronav</mark>irus research, deleted pages suggest</b>"
      ],
      "text/plain": [
       "<IPython.core.display.HTML object>"
      ]
     },
     "metadata": {},
     "output_type": "display_data"
    },
    {
     "name": "stdout",
     "output_type": "stream",
     "text": [
      "URL: https://www.theguardian.com/world/2020/apr/11/china-clamping-down-on-coronavirus-research-deleted-pages-suggest \n",
      "Published: 2020-04-11 12:37:45. \n"
     ]
    },
    {
     "data": {
      "text/html": [
       "this is some chernobyl level <mark>bullshit</mark>. god i hope china's communist party gets torn down after this."
      ],
      "text/plain": [
       "<IPython.core.display.HTML object>"
      ]
     },
     "metadata": {},
     "output_type": "display_data"
    },
    {
     "name": "stdout",
     "output_type": "stream",
     "text": [
      "Q: This is bullshit\n",
      "###\n",
      "\n",
      "\n",
      "\n",
      "256 / 67353\n",
      "politics\n",
      "--------------------\n"
     ]
    },
    {
     "data": {
      "text/html": [
       "<b>aoc remained in posh d.c. apartment as <mark>coronav</mark>irus ravaged her district</b>"
      ],
      "text/plain": [
       "<IPython.core.display.HTML object>"
      ]
     },
     "metadata": {},
     "output_type": "display_data"
    },
    {
     "name": "stdout",
     "output_type": "stream",
     "text": [
      "URL: https://freebeacon.com/2020-election/aoc-remained-in-posh-d-c-apartment-as-coronavirus-ravaged-her-district/ \n",
      "Published: 2020-04-11 12:13:53. \n"
     ]
    },
    {
     "data": {
      "text/html": [
       "pathetic, <mark>bullshit</mark> hit-job <mark>article</mark> that proves, once again, the nazi wing of the american political spectrum is scared to death of a smart, young, attractive, well-spoken, well-educated woman who will not suck their dicks."
      ],
      "text/plain": [
       "<IPython.core.display.HTML object>"
      ]
     },
     "metadata": {},
     "output_type": "display_data"
    },
    {
     "name": "stdout",
     "output_type": "stream",
     "text": [
      "Q: bullshit article\n"
     ]
    },
    {
     "data": {
      "text/html": [
       "this shit is so fucking stupid.\n",
       "\n",
       "“aoc claims she wants to end hunger in america, but eats food herself? curious!”\n",
       "\n",
       "this is charlie kirk, toilet paper usa facts and logic level <mark>bullshit</mark>.\n",
       "\n",
       "anyone who falls for this type of shit is dumb as hell."
      ],
      "text/plain": [
       "<IPython.core.display.HTML object>"
      ]
     },
     "metadata": {},
     "output_type": "display_data"
    },
    {
     "name": "stdout",
     "output_type": "stream",
     "text": [
      "Q: bullshit\n",
      "#\n",
      "\n",
      "\n",
      "\n",
      "258 / 67413\n",
      "politics\n",
      "--------------------\n"
     ]
    },
    {
     "data": {
      "text/html": [
       "<b>donald trump has tested positive — for the bulls**t virus. he's bluffed his way through his entire career and into the white house. but the <mark>coronav</mark>irus finally took him out</b>"
      ],
      "text/plain": [
       "<IPython.core.display.HTML object>"
      ]
     },
     "metadata": {},
     "output_type": "display_data"
    },
    {
     "name": "stdout",
     "output_type": "stream",
     "text": [
      "URL: https://www.salon.com/2020/04/11/donald-trump-has-tested-positive--for-the-bullst-virus/ \n",
      "Published: 2020-04-11 12:01:07. \n"
     ]
    },
    {
     "data": {
      "text/html": [
       "<mark>misleading</mark> <mark>title</mark>."
      ],
      "text/plain": [
       "<IPython.core.display.HTML object>"
      ]
     },
     "metadata": {},
     "output_type": "display_data"
    },
    {
     "name": "stdout",
     "output_type": "stream",
     "text": [
      "Q: misleading title\n",
      "##################\n",
      "\n",
      "\n",
      "\n",
      "259 / 68311\n",
      "politics\n",
      "--------------------\n"
     ]
    },
    {
     "data": {
      "text/html": [
       "<b>the chinese government has convinced its citizens that the u.s. army brought <mark>coronav</mark>irus to wuhan</b>"
      ],
      "text/plain": [
       "<IPython.core.display.HTML object>"
      ]
     },
     "metadata": {},
     "output_type": "display_data"
    },
    {
     "name": "stdout",
     "output_type": "stream",
     "text": [
      "URL: https://www.vice.com/en_us/article/wxe9yq/the-chinese-government-has-convinced-its-citizens-that-the-us-army-brought-coronavirus-to-wuhan \n",
      "Published: 2020-04-11 07:30:36. \n"
     ]
    },
    {
     "data": {
      "text/html": [
       "> ccp <mark>disinformation</mark> about the u.s. is nothing new, through textbooks, movies and many other educational, cultural, and media productions, beijing has been increasingly promoting the narrative that the u.s. is an imperialist power that wants to undermine the rise of china. \n",
       "\n",
       "\"<mark>disinformation</mark>\""
      ],
      "text/plain": [
       "<IPython.core.display.HTML object>"
      ]
     },
     "metadata": {},
     "output_type": "display_data"
    },
    {
     "name": "stdout",
     "output_type": "stream",
     "text": [
      "Q: Disinformation\n",
      "\n",
      "\n",
      "\n",
      "\n",
      "260 / 68334\n",
      "Coronavirus\n",
      "--------------------\n"
     ]
    },
    {
     "data": {
      "text/html": [
       "<b>here’s when <mark>coronav</mark>irus is expected to peak in every state</b>"
      ],
      "text/plain": [
       "<IPython.core.display.HTML object>"
      ]
     },
     "metadata": {},
     "output_type": "display_data"
    },
    {
     "name": "stdout",
     "output_type": "stream",
     "text": [
      "URL: https://www.rd.com/culture/when-coronavirus-will-peak-in-every-state/ \n",
      "Published: 2020-04-11 07:22:33. \n"
     ]
    },
    {
     "data": {
      "text/html": [
       "this is dangerous <mark>bullshit</mark>. completely devoid of any critical thinking or real data. who came up with these “expected” figures?"
      ],
      "text/plain": [
       "<IPython.core.display.HTML object>"
      ]
     },
     "metadata": {},
     "output_type": "display_data"
    },
    {
     "name": "stdout",
     "output_type": "stream",
     "text": [
      "Q: This is bullshit\n",
      "#####\n",
      "\n",
      "\n",
      "\n",
      "261 / 68563\n",
      "politics\n",
      "--------------------\n"
     ]
    },
    {
     "data": {
      "text/html": [
       "<b>nebraska getting $300g in federal money for each <mark>coronav</mark>irus case while ny gets $12g</b>"
      ],
      "text/plain": [
       "<IPython.core.display.HTML object>"
      ]
     },
     "metadata": {},
     "output_type": "display_data"
    },
    {
     "name": "stdout",
     "output_type": "stream",
     "text": [
      "URL: https://www.thedailybeast.com/nebraska-getting-dollar300000-in-federal-money-for-each-coronavirus-case-while-ny-gets-dollar12g \n",
      "Published: 2020-04-11 05:59:27. \n"
     ]
    },
    {
     "data": {
      "text/html": [
       "this is the same fucking <mark>bullshit</mark> after 9/11\n",
       "\n",
       "midwest flyover states getting counterterrorist funding- and for what? \n",
       "\n",
       "their county swat teams traipse around in military surplus mraps to play solider to protect...fucking nothing."
      ],
      "text/plain": [
       "<IPython.core.display.HTML object>"
      ]
     },
     "metadata": {},
     "output_type": "display_data"
    },
    {
     "name": "stdout",
     "output_type": "stream",
     "text": [
      "Q: this is bullshit\n",
      "#\n",
      "\n",
      "\n",
      "\n",
      "262 / 68643\n",
      "Coronavirus\n",
      "--------------------\n"
     ]
    },
    {
     "data": {
      "text/html": [
       "<b>new orleans reported only 1 new <mark>coronav</mark>irus death friday</b>"
      ],
      "text/plain": [
       "<IPython.core.display.HTML object>"
      ]
     },
     "metadata": {},
     "output_type": "display_data"
    },
    {
     "name": "stdout",
     "output_type": "stream",
     "text": [
      "URL: https://www.wwltv.com/article/news/health/coronavirus/new-orleans-only-reports-1-coronavirus-death-friday-ldh-data-shows/289-73106cd8-e397-41ad-81ce-ff6d64881598 \n",
      "Published: 2020-04-11 05:36:26. \n"
     ]
    },
    {
     "data": {
      "text/html": [
       "<mark>bullshit</mark>."
      ],
      "text/plain": [
       "<IPython.core.display.HTML object>"
      ]
     },
     "metadata": {},
     "output_type": "display_data"
    },
    {
     "name": "stdout",
     "output_type": "stream",
     "text": [
      "Q: Bullshit\n",
      "######\n",
      "\n",
      "\n",
      "\n",
      "263 / 68931\n",
      "Coronavirus\n",
      "--------------------\n"
     ]
    },
    {
     "data": {
      "text/html": [
       "<b>america is still failing on <mark>coronav</mark>irus testing</b>"
      ],
      "text/plain": [
       "<IPython.core.display.HTML object>"
      ]
     },
     "metadata": {},
     "output_type": "display_data"
    },
    {
     "name": "stdout",
     "output_type": "stream",
     "text": [
      "URL: https://www.vox.com/2020/4/10/21214218/trump-coronavirus-testing-social-distancing \n",
      "Published: 2020-04-11 04:03:27. \n"
     ]
    },
    {
     "data": {
      "text/html": [
       "<mark>fake</mark> <mark>news</mark> - if i recall correctly, didn’t the president say “anybody who wants a test can get a test” on march 6?\n",
       "\n",
       "seems like the only thing failing is people not wanting tests enough!\n",
       "\n",
       "\n",
       "/s for safety\n",
       "\n",
       "more importantly - at least testing is ramping up.  also, the antibody testing is looking hopeful for getting some workers back into position safely.  \n",
       "\n",
       "stay safe all!"
      ],
      "text/plain": [
       "<IPython.core.display.HTML object>"
      ]
     },
     "metadata": {},
     "output_type": "display_data"
    },
    {
     "name": "stdout",
     "output_type": "stream",
     "text": [
      "Q: fake news\n",
      "##################################\n",
      "\n",
      "\n",
      "\n",
      "264 / 70651\n",
      "politics\n",
      "--------------------\n"
     ]
    },
    {
     "data": {
      "text/html": [
       "<b>new california antibody study could point to possible herd immunity to <mark>covid</mark>-19</b>"
      ],
      "text/plain": [
       "<IPython.core.display.HTML object>"
      ]
     },
     "metadata": {},
     "output_type": "display_data"
    },
    {
     "name": "stdout",
     "output_type": "stream",
     "text": [
      "URL: https://www.ksbw.com/article/new-study-investigates-californias-possible-herd-immunity-to-covid-19/32073873 \n",
      "Published: 2020-04-10 22:59:40. \n"
     ]
    },
    {
     "data": {
      "text/html": [
       "this is <mark>bullshit</mark>."
      ],
      "text/plain": [
       "<IPython.core.display.HTML object>"
      ]
     },
     "metadata": {},
     "output_type": "display_data"
    },
    {
     "name": "stdout",
     "output_type": "stream",
     "text": [
      "Q: This is bullshit\n",
      "#"
     ]
    },
    {
     "data": {
      "text/html": [
       "<mark>bullshit</mark>."
      ],
      "text/plain": [
       "<IPython.core.display.HTML object>"
      ]
     },
     "metadata": {},
     "output_type": "display_data"
    },
    {
     "name": "stdout",
     "output_type": "stream",
     "text": [
      "Q: Bullshit\n",
      "###\n",
      "\n",
      "\n",
      "\n",
      "266 / 70843\n",
      "politics\n",
      "--------------------\n"
     ]
    },
    {
     "data": {
      "text/html": [
       "<b>researchers say californians may have developed herd immunity to <mark>coronav</mark>irus. what does that mean?</b>"
      ],
      "text/plain": [
       "<IPython.core.display.HTML object>"
      ]
     },
     "metadata": {},
     "output_type": "display_data"
    },
    {
     "name": "stdout",
     "output_type": "stream",
     "text": [
      "URL: https://6abc.com/herd-immunity-coronavirus-california-stanford/6092370/ \n",
      "Published: 2020-04-10 22:18:35. \n"
     ]
    },
    {
     "data": {
      "text/html": [
       "this is a testable theory.  select a few thousands californians at random for an antibody test.  you will get more than enough volunteers.    if it's not above 60% positive there's no chance we have herd immunity relative to the r-factor of this virus.    to achieve that number over 39 million people, assuming the virus makes 1% of its carriers sick (it's much higher), that would be about 230,000 people who should have gotten fairly sick since november.   \n",
       "\n",
       "that did not happen.  period.   \n",
       "\n",
       "so, it's more \"pro-business\" (i.e. pro-post-national-wealthy ownership class) <mark>bullshit</mark> from the hoover institution."
      ],
      "text/plain": [
       "<IPython.core.display.HTML object>"
      ]
     },
     "metadata": {},
     "output_type": "display_data"
    },
    {
     "name": "stdout",
     "output_type": "stream",
     "text": [
      "Q: bullshit\n",
      "###\n",
      "\n",
      "\n",
      "\n",
      "267 / 70976\n",
      "Coronavirus\n",
      "--------------------\n"
     ]
    },
    {
     "data": {
      "text/html": [
       "<b>the floridians lost to the <mark>coronav</mark>irus</b>"
      ],
      "text/plain": [
       "<IPython.core.display.HTML object>"
      ]
     },
     "metadata": {},
     "output_type": "display_data"
    },
    {
     "name": "stdout",
     "output_type": "stream",
     "text": [
      "URL: https://www.tampabay.com/news/health/2020/04/10/the-floridians-lost-to-the-coronavirus/ \n",
      "Published: 2020-04-10 21:49:37. \n"
     ]
    },
    {
     "data": {
      "text/html": [
       "this <mark>title</mark> is <mark>misleading</mark>. the <mark>article</mark> talks about people who were lost because of the virus"
      ],
      "text/plain": [
       "<IPython.core.display.HTML object>"
      ]
     },
     "metadata": {},
     "output_type": "display_data"
    },
    {
     "name": "stdout",
     "output_type": "stream",
     "text": [
      "Q: title is misleading\n",
      "\n",
      "\n",
      "\n",
      "\n",
      "268 / 71000\n",
      "politics\n",
      "--------------------\n"
     ]
    },
    {
     "data": {
      "text/html": [
       "<b>trump is woefully confused about why more <mark>coronav</mark>irus testing is vital</b>"
      ],
      "text/plain": [
       "<IPython.core.display.HTML object>"
      ]
     },
     "metadata": {},
     "output_type": "display_data"
    },
    {
     "name": "stdout",
     "output_type": "stream",
     "text": [
      "URL: https://www.vox.com/2020/4/10/21216876/trump-coronavirus-briefing-testing-social-distancing-reopening-economy \n",
      "Published: 2020-04-10 21:45:47. \n"
     ]
    },
    {
     "data": {
      "text/html": [
       "he's not confused. his plan is to gaslight the virus. \n",
       "\n",
       "***the virus was perfectly handled by his administration, therefore no more tests are needed.***\n",
       "\n",
       "any more calls for testing will just be a **democrat hoax to hurt trump's re-election.**\n",
       "\n",
       "without testing,  no deaths will be able to be verified to be covid-19 related, and will be dismissed by the trump cult as, \n",
       "\n",
       "**”people die of illness every day. people died all the time before the corona-virus, you know.”**\n",
       "\n",
       "any media reporting deaths as covid-19 related will, of course, be \"**<mark>fake</mark> <mark>news</mark>\".**\n",
       "\n",
       "any overwhelmed hospitals will most likely be in cities and will be dismissed by the trump cult as **\"the fault of democrat run, sanctuary cities.\"**\n",
       "\n",
       "meanwhile, trump, thanks to the gop facilitated, ongoing authoritarian coup, will be in sole control of a trillion dollar slush fund, using it to demand loyalty, so that all the corporations and powers that be,  fall inline behind his authority and re-election."
      ],
      "text/plain": [
       "<IPython.core.display.HTML object>"
      ]
     },
     "metadata": {},
     "output_type": "display_data"
    },
    {
     "name": "stdout",
     "output_type": "stream",
     "text": [
      "Q: fake news\n",
      "##\n",
      "\n",
      "\n",
      "\n",
      "269 / 71083\n",
      "worldnews\n",
      "--------------------\n"
     ]
    },
    {
     "data": {
      "text/html": [
       "<b>cuba: us embargo blocks <mark>coronav</mark>irus aid shipment from asia</b>"
      ],
      "text/plain": [
       "<IPython.core.display.HTML object>"
      ]
     },
     "metadata": {},
     "output_type": "display_data"
    },
    {
     "name": "stdout",
     "output_type": "stream",
     "text": [
      "URL: https://apnews.com/2858fbaa2dd5460fa2988b888fc53748 \n",
      "Published: 2020-04-10 21:36:27. \n"
     ]
    },
    {
     "data": {
      "text/html": [
       "<mark>fake</mark> <mark>news</mark>.  us embargo with cuba does not include medical supplies.  same with iran.\n",
       "\n",
       "i will use iran as proof that us embargo has not reduced its capability to import medical supplies:\n",
       "\n",
       "https://www.fdd.org/analysis/2019/10/30/sanctions-have-not-reduced-irans-pharmaceutical-imports-from-eu-data-show/\n",
       "\n",
       "in fact if you compare imports by iran in 2016, the year after iran signed the nuclear deal with the obama admin that cleared many of its sanctions, to more current years that iran imports have actually increased:\n",
       "\n",
       "https://www.ceicdata.com/en/indicator/iran/total-imports"
      ],
      "text/plain": [
       "<IPython.core.display.HTML object>"
      ]
     },
     "metadata": {},
     "output_type": "display_data"
    },
    {
     "name": "stdout",
     "output_type": "stream",
     "text": [
      "Q: fake news\n",
      "############################\n",
      "\n",
      "\n",
      "\n",
      "270 / 72481\n",
      "worldnews\n",
      "--------------------\n"
     ]
    },
    {
     "data": {
      "text/html": [
       "<b>sweden, which refused to implement a <mark>coronav</mark>irus lockdown, has so far avoided a mass outbreak. now it's bracing for a surge in deaths.</b>"
      ],
      "text/plain": [
       "<IPython.core.display.HTML object>"
      ]
     },
     "metadata": {},
     "output_type": "display_data"
    },
    {
     "name": "stdout",
     "output_type": "stream",
     "text": [
      "URL: https://www.businessinsider.com/coronavirus-sweden-no-lockdown-test-thousands-deaths-expected-2020-4 \n",
      "Published: 2020-04-10 18:09:43. \n"
     ]
    },
    {
     "data": {
      "text/html": [
       "there is nothing in this <mark>article</mark> to suggest that this approach is any better or worse than the approach of similar countries, they have no data to suggest s \"surge in deaths\". <mark>fake</mark> <mark>news</mark>"
      ],
      "text/plain": [
       "<IPython.core.display.HTML object>"
      ]
     },
     "metadata": {},
     "output_type": "display_data"
    },
    {
     "name": "stdout",
     "output_type": "stream",
     "text": [
      "Q: fake news\n",
      "###\n",
      "\n",
      "\n",
      "\n",
      "271 / 72637\n",
      "Coronavirus\n",
      "--------------------\n"
     ]
    },
    {
     "data": {
      "text/html": [
       "<b>new zealand preparing to end lockdown after success in <mark>coronav</mark>irus battle</b>"
      ],
      "text/plain": [
       "<IPython.core.display.HTML object>"
      ]
     },
     "metadata": {},
     "output_type": "display_data"
    },
    {
     "name": "stdout",
     "output_type": "stream",
     "text": [
      "URL: https://metro.co.uk/2020/04/10/new-zealand-preparing-end-lockdown-success-coronavirus-battle-12536871/ \n",
      "Published: 2020-04-10 17:51:27. \n"
     ]
    },
    {
     "data": {
      "text/html": [
       "i live in new zealand. this <mark>article</mark> is <mark>misleading</mark>. we are only halfway through the four week lock down and the has been no suggestion of it ending early. many of us still expect it will be extended a little, and even if we come off level four soon, there will still be significant restrictions and schools likely closed."
      ],
      "text/plain": [
       "<IPython.core.display.HTML object>"
      ]
     },
     "metadata": {},
     "output_type": "display_data"
    },
    {
     "name": "stdout",
     "output_type": "stream",
     "text": [
      "Q: article is misleading\n",
      "#########\n",
      "\n",
      "\n",
      "\n",
      "272 / 73088\n",
      "Coronavirus\n",
      "--------------------\n"
     ]
    },
    {
     "data": {
      "text/html": [
       "<b>potus and the <mark>coronav</mark>irus task force speak to reporters at the white house - april 10th, 2020 (live)</b>"
      ],
      "text/plain": [
       "<IPython.core.display.HTML object>"
      ]
     },
     "metadata": {},
     "output_type": "display_data"
    },
    {
     "name": "stdout",
     "output_type": "stream",
     "text": [
      "URL: https://www.youtube.com/watch?v=4DOCgHePSzc \n",
      "Published: 2020-04-10 17:10:33. \n"
     ]
    },
    {
     "data": {
      "text/html": [
       "same <mark>bs</mark>...every...f*cking...day"
      ],
      "text/plain": [
       "<IPython.core.display.HTML object>"
      ]
     },
     "metadata": {},
     "output_type": "display_data"
    },
    {
     "name": "stdout",
     "output_type": "stream",
     "text": [
      "Q: BS\n",
      "###\n",
      "\n",
      "\n",
      "\n",
      "273 / 73221\n",
      "politics\n",
      "--------------------\n"
     ]
    },
    {
     "data": {
      "text/html": [
       "<b>discussion thread: white house <mark>coronav</mark>irus task force briefing – 04/10/2020 | live - 1:00pm edt</b>"
      ],
      "text/plain": [
       "<IPython.core.display.HTML object>"
      ]
     },
     "metadata": {},
     "output_type": "display_data"
    },
    {
     "name": "stdout",
     "output_type": "stream",
     "text": [
      "URL: https://www.reddit.com/r/politics/comments/fyjwxu/discussion_thread_white_house_coronavirus_task/ \n",
      "Published: 2020-04-10 17:09:57. \n"
     ]
    },
    {
     "data": {
      "text/html": [
       "acosta: “mr. president, why are you such a liar?”\n",
       "trump: “why are you posing the question that way? <mark>fake</mark> <mark>news</mark>! governors love me!”"
      ],
      "text/plain": [
       "<IPython.core.display.HTML object>"
      ]
     },
     "metadata": {},
     "output_type": "display_data"
    },
    {
     "name": "stdout",
     "output_type": "stream",
     "text": [
      "Q: fake news\n"
     ]
    },
    {
     "data": {
      "text/html": [
       "interrupts with lies.  refuses to answer.  just talks over them. \"<mark>fake</mark> <mark>news</mark>!\"\n",
       "\n",
       "fuck this guy.  nurses and doctors are wearing garbage bags...\n",
       "\n",
       "god damn it should be removed. fuck every single republican senator."
      ],
      "text/plain": [
       "<IPython.core.display.HTML object>"
      ]
     },
     "metadata": {},
     "output_type": "display_data"
    },
    {
     "name": "stdout",
     "output_type": "stream",
     "text": [
      "Q: fake news\n",
      "#######################\n",
      "\n",
      "\n",
      "\n",
      "275 / 74360\n",
      "Coronavirus\n",
      "--------------------\n"
     ]
    },
    {
     "data": {
      "text/html": [
       "<b>french police intercept private jet for breaking <mark>coronav</mark>irus lockdown rules</b>"
      ],
      "text/plain": [
       "<IPython.core.display.HTML object>"
      ]
     },
     "metadata": {},
     "output_type": "display_data"
    },
    {
     "name": "stdout",
     "output_type": "stream",
     "text": [
      "URL: https://time.com/5819064/jet-intercepted-france-covid-19/ \n",
      "Published: 2020-04-10 16:00:37. \n"
     ]
    },
    {
     "data": {
      "text/html": [
       "<mark>misleading</mark> <mark>title</mark>. no interception took place. i was very disappointed to discover that the french don’t have police owned and operated rafales."
      ],
      "text/plain": [
       "<IPython.core.display.HTML object>"
      ]
     },
     "metadata": {},
     "output_type": "display_data"
    },
    {
     "name": "stdout",
     "output_type": "stream",
     "text": [
      "Q: misleading title\n",
      "#####\n",
      "\n",
      "\n",
      "\n",
      "276 / 74639\n",
      "worldnews\n",
      "--------------------\n"
     ]
    },
    {
     "data": {
      "text/html": [
       "<b><mark>coronav</mark>irus becomes leading cause of death in u.s.</b>"
      ],
      "text/plain": [
       "<IPython.core.display.HTML object>"
      ]
     },
     "metadata": {},
     "output_type": "display_data"
    },
    {
     "name": "stdout",
     "output_type": "stream",
     "text": [
      "URL: https://www.msn.com/en-us/health/health-news/coronavirus-becomes-leading-cause-of-death-in-us/ar-BB12o7aQ \n",
      "Published: 2020-04-10 15:19:23. \n"
     ]
    },
    {
     "data": {
      "text/html": [
       "this is <mark>bs</mark>. she took the worst one day total and now make this crazy claim. the one totals for cancer and heart disease are averages over the entire year. covid-19 may prove the be the most deadly over time, but it is too early to make this grim claim.\n",
       "\n",
       "i love how there is a covid-19 myths debunked video in the middle of their <mark>article</mark>."
      ],
      "text/plain": [
       "<IPython.core.display.HTML object>"
      ]
     },
     "metadata": {},
     "output_type": "display_data"
    },
    {
     "name": "stdout",
     "output_type": "stream",
     "text": [
      "Q: This is BS\n"
     ]
    },
    {
     "data": {
      "text/html": [
       "this is <mark>bs</mark>."
      ],
      "text/plain": [
       "<IPython.core.display.HTML object>"
      ]
     },
     "metadata": {},
     "output_type": "display_data"
    },
    {
     "name": "stdout",
     "output_type": "stream",
     "text": [
      "Q: This is BS\n",
      "#########\n",
      "\n",
      "\n",
      "\n",
      "278 / 75081\n",
      "politics\n",
      "--------------------\n"
     ]
    },
    {
     "data": {
      "text/html": [
       "<b>6 biden lies about trump's <mark>covid</mark> response</b>"
      ],
      "text/plain": [
       "<IPython.core.display.HTML object>"
      ]
     },
     "metadata": {},
     "output_type": "display_data"
    },
    {
     "name": "stdout",
     "output_type": "stream",
     "text": [
      "URL: https://www.realclearpolitics.com/articles/2020/04/10/6_biden_lies_about_trumps_covid_response.html \n",
      "Published: 2020-04-10 14:32:16. \n"
     ]
    },
    {
     "data": {
      "text/html": [
       "i know real clear politics. hard right leaning <mark>bullshit</mark>. hey, monitors! this is in the far right category."
      ],
      "text/plain": [
       "<IPython.core.display.HTML object>"
      ]
     },
     "metadata": {},
     "output_type": "display_data"
    },
    {
     "name": "stdout",
     "output_type": "stream",
     "text": [
      "Q: bullshit\n",
      "#######\n",
      "\n",
      "\n",
      "\n",
      "279 / 75424\n",
      "worldnews\n",
      "--------------------\n"
     ]
    },
    {
     "data": {
      "text/html": [
       "<b><mark>coronav</mark>irus: us officials knew of wuhan health crisis in november, a second report claims</b>"
      ],
      "text/plain": [
       "<IPython.core.display.HTML object>"
      ]
     },
     "metadata": {},
     "output_type": "display_data"
    },
    {
     "name": "stdout",
     "output_type": "stream",
     "text": [
      "URL: https://www.independent.co.uk/news/world/asia/coronavirus-wuhan-china-november-us-dia-covid-19-a9459021.html \n",
      "Published: 2020-04-10 13:46:45. \n"
     ]
    },
    {
     "data": {
      "text/html": [
       "the us nih inspector general has already said that much of this story is not true. <mark>fake</mark> <mark>news</mark>"
      ],
      "text/plain": [
       "<IPython.core.display.HTML object>"
      ]
     },
     "metadata": {},
     "output_type": "display_data"
    },
    {
     "name": "stdout",
     "output_type": "stream",
     "text": [
      "Q: fake news\n",
      "###\n",
      "\n",
      "\n",
      "\n",
      "280 / 75585\n",
      "Coronavirus\n",
      "--------------------\n"
     ]
    },
    {
     "data": {
      "text/html": [
       "<b>workplaces are no riskier than home, science adviser says amid <mark>coronav</mark>irus lockdown</b>"
      ],
      "text/plain": [
       "<IPython.core.display.HTML object>"
      ]
     },
     "metadata": {},
     "output_type": "display_data"
    },
    {
     "name": "stdout",
     "output_type": "stream",
     "text": [
      "URL: https://www.telegraph.co.uk/politics/2020/04/09/science-chief-undermines-case-lockdown-claiming-work-carries/ \n",
      "Published: 2020-04-10 13:34:43. \n"
     ]
    },
    {
     "data": {
      "text/html": [
       "<mark>bs</mark>. every year colds and flus make their way through my office like a slow motion wave."
      ],
      "text/plain": [
       "<IPython.core.display.HTML object>"
      ]
     },
     "metadata": {},
     "output_type": "display_data"
    },
    {
     "name": "stdout",
     "output_type": "stream",
     "text": [
      "Q: BS\n"
     ]
    },
    {
     "data": {
      "text/html": [
       "this is <mark>bullshit</mark>. how can you get it or spread it if you're at home? so much <mark>fake</mark> journalism going on."
      ],
      "text/plain": [
       "<IPython.core.display.HTML object>"
      ]
     },
     "metadata": {},
     "output_type": "display_data"
    },
    {
     "name": "stdout",
     "output_type": "stream",
     "text": [
      "Q: This is bullshit\n",
      "######\n",
      "\n",
      "\n",
      "\n",
      "282 / 75894\n",
      "Coronavirus\n",
      "--------------------\n"
     ]
    },
    {
     "data": {
      "text/html": [
       "<b>more than half of passengers on board antarctica bound cruise have <mark>coronav</mark>irus</b>"
      ],
      "text/plain": [
       "<IPython.core.display.HTML object>"
      ]
     },
     "metadata": {},
     "output_type": "display_data"
    },
    {
     "name": "stdout",
     "output_type": "stream",
     "text": [
      "URL: https://thehill.com/blogs/blog-briefing-room/news/492157-more-than-half-of-passengers-on-board-antarctica-bound-cruise \n",
      "Published: 2020-04-10 12:50:53. \n"
     ]
    },
    {
     "data": {
      "text/html": [
       "i once had a flat earther tell me it's impossible to go to antarctica. so... this must be <mark>fake</mark> <mark>news</mark>."
      ],
      "text/plain": [
       "<IPython.core.display.HTML object>"
      ]
     },
     "metadata": {},
     "output_type": "display_data"
    },
    {
     "name": "stdout",
     "output_type": "stream",
     "text": [
      "Q: this be fake news\n",
      "###\n",
      "\n",
      "\n",
      "\n",
      "283 / 76043\n",
      "worldnews\n",
      "--------------------\n"
     ]
    },
    {
     "data": {
      "text/html": [
       "<b>latest <mark>covid</mark>19 numbers for every country & data visualisation [non mobile]</b>"
      ],
      "text/plain": [
       "<IPython.core.display.HTML object>"
      ]
     },
     "metadata": {},
     "output_type": "display_data"
    },
    {
     "name": "stdout",
     "output_type": "stream",
     "text": [
      "URL: https://neomjs.github.io/pages/node_modules/neo.mjs/dist/production/apps/covid/index.html#mainview=table \n",
      "Published: 2020-04-10 12:28:09. \n"
     ]
    },
    {
     "data": {
      "text/html": [
       "it's inaccurate.\n",
       "\n",
       "under \"tests\" it lists china as \"0\"\n",
       "\n",
       "total <mark>bullshit</mark>."
      ],
      "text/plain": [
       "<IPython.core.display.HTML object>"
      ]
     },
     "metadata": {},
     "output_type": "display_data"
    },
    {
     "name": "stdout",
     "output_type": "stream",
     "text": [
      "Q: bullshit\n",
      "#\n",
      "\n",
      "\n",
      "\n",
      "284 / 76072\n",
      "politics\n",
      "--------------------\n"
     ]
    },
    {
     "data": {
      "text/html": [
       "<b>views of trump's handling of <mark>coronav</mark>irus outbreak slip again - cbs news poll</b>"
      ],
      "text/plain": [
       "<IPython.core.display.HTML object>"
      ]
     },
     "metadata": {},
     "output_type": "display_data"
    },
    {
     "name": "stdout",
     "output_type": "stream",
     "text": [
      "URL: https://www.cbsnews.com/news/coronavirus-outbreak-donald-trump-handling-economic-impact/ \n",
      "Published: 2020-04-10 12:23:57. \n"
     ]
    },
    {
     "data": {
      "text/html": [
       "here's a video series focusing on how the bad trumps and his administration handled the coronavirus outbreak.\n",
       "\n",
       "video 1 - background <mark>information</mark>, trump and trump administration.\n",
       "\n",
       "* background: [0:00-3:00](https://www.youtube.com/watch?v=epfu4nfehuk&t=0s)\n",
       "\n",
       "* trump administration: [3:05](https://www.youtube.com/watch?v=epfu4nfehuk&list=plwmv_rrtapomcc07vztxr7b6eeqjowszo&index=1&t=185s)\n",
       "* trump: [4:21](https://www.youtube.com/watch?v=epfu4nfehuk&list=plwmv_rrtapomcc07vztxr7b6eeqjowszo&index=1&t=261s)\n",
       "* thought experiment: [5:42](https://www.youtube.com/watch?v=epfu4nfehuk&list=plwmv_rrtapomcc07vztxr7b6eeqjowszo&index=1&t=342s)\n",
       "* trumps views on health: [5:58](https://www.youtube.com/watch?v=epfu4nfehuk&list=plwmv_rrtapomcc07vztxr7b6eeqjowszo&index=1&t=358s)\n",
       "* decline to use who covid-19 tests: [8:03](https://www.youtube.com/watch?v=epfu4nfehuk&list=plwmv_rrtapomcc07vztxr7b6eeqjowszo&index=1&t=483s)\n",
       "* low testing per capita:[ 8:50](https://www.youtube.com/watch?v=epfu4nfehuk&list=plwmv_rrtapomcc07vztxr7b6eeqjowszo&index=1&t=530s)\n",
       "* comparing south korea to usa: [9:58](https://www.youtube.com/watch?v=epfu4nfehuk&list=plwmv_rrtapomcc07vztxr7b6eeqjowszo&index=1&t=598s)\n",
       "\n",
       "video 2: sends medical supplies to china, mike pence, and nepotism.\n",
       "\n",
       "* usa update: [0:10](https://www.youtube.com/watch?v=tg1rdpvkale&list=plwmv_rrtapomcc07vztxr7b6eeqjowszo&index=2&t=10s)\n",
       "* trump raves about ratings: [0:30](https://www.youtube.com/watch?v=tg1rdpvkale&list=plwmv_rrtapomcc07vztxr7b6eeqjowszo&index=2&t=30s)\n",
       "* trump sends medical supplies to china: [0:49](https://www.youtube.com/watch?v=tg1rdpvkale&list=plwmv_rrtapomcc07vztxr7b6eeqjowszo&index=2&t=49s)\n",
       "* trump blames governors: [1:25](https://www.youtube.com/watch?v=tg1rdpvkale&list=plwmv_rrtapomcc07vztxr7b6eeqjowszo&index=2&t=85s)\n",
       "* mike pence: [1:39](https://www.youtube.com/watch?v=tg1rdpvkale&list=plwmv_rrtapomcc07vztxr7b6eeqjowszo&index=2&t=99s)\n",
       "* nepotism involving unqualified personnel: [3:05](https://www.youtube.com/watch?v=tg1rdpvkale&list=plwmv_rrtapomcc07vztxr7b6eeqjowszo&index=2&t=185s)\n",
       "\n",
       "\n",
       "video 3 - <mark>fake</mark> <mark>news</mark> and <mark>misinformation</mark> and inability to take responsibility.\n",
       "\n",
       "* <mark>fake</mark> <mark>news</mark> and <mark>misinformation</mark>: [0:10](https://www.youtube.com/watch?v=jr3xagk2bl8&list=plwmv_rrtapomcc07vztxr7b6eeqjowszo&index=3&t=10s)\n",
       "* inability to take responsibility: [2:29](https://www.youtube.com/watch?v=jr3xagk2bl8&list=plwmv_rrtapomcc07vztxr7b6eeqjowszo&index=3&t=149s)\n",
       "\n",
       "\n",
       "video 4 - healthcare, trumps recreational activities and wrap up.\n",
       "\n",
       "* dr anthony fauchi: [0:09](https://www.youtube.com/watch?v=z_tzkisakhe&list=plwmv_rrtapomcc07vztxr7b6eeqjowszo&index=4&t=9s)\n",
       "* us healthcare system: [0:32](https://www.youtube.com/watch?v=z_tzkisakhe&list=plwmv_rrtapomcc07vztxr7b6eeqjowszo&index=4&t=32s)\n",
       "* uninsured population: [3:05](https://www.youtube.com/watch?v=z_tzkisakhe&list=plwmv_rrtapomcc07vztxr7b6eeqjowszo&index=4&t=185s)\n",
       "* coronavirus treatment costs: [3:27](https://www.youtube.com/watch?v=z_tzkisakhe&list=plwmv_rrtapomcc07vztxr7b6eeqjowszo&index=4&t=207s)\n",
       "* $35 000 for coronavirus treatment: 4:11\n",
       "* most americans have less than $1000 in savings: [4:33](https://www.youtube.com/watch?v=z_tzkisakhe&list=plwmv_rrtapomcc07vztxr7b6eeqjowszo&index=4&t=251s)\n",
       "* unemployment: [5:24](https://www.youtube.com/watch?v=z_tzkisakhe&list=plwmv_rrtapomcc07vztxr7b6eeqjowszo&index=4&t=324s)\n",
       "* mitch mcconnel: [5:57](https://www.youtube.com/watch?v=z_tzkisakhe&list=plwmv_rrtapomcc07vztxr7b6eeqjowszo&index=4&t=357s)\n",
       "* trumps recreational activities: [6:17](https://www.youtube.com/watch?v=z_tzkisakhe&list=plwmv_rrtapomcc07vztxr7b6eeqjowszo&index=4&t=377s)\n",
       "* trump spends 133 million to golf: [6:37](https://www.youtube.com/watch?v=z_tzkisakhe&list=plwmv_rrtapomcc07vztxr7b6eeqjowszo&index=4&t=397s)\n",
       "* wrapping up: [8:27](https://www.youtube.com/watch?v=z_tzkisakhe&list=plwmv_rrtapomcc07vztxr7b6eeqjowszo&index=4&t=507s)"
      ],
      "text/plain": [
       "<IPython.core.display.HTML object>"
      ]
     },
     "metadata": {},
     "output_type": "display_data"
    },
    {
     "name": "stdout",
     "output_type": "stream",
     "text": [
      "Q: fake news\n",
      "Q: fake news\n",
      "#\n",
      "\n",
      "\n",
      "\n",
      "286 / 76143\n",
      "europe\n",
      "--------------------\n"
     ]
    },
    {
     "data": {
      "text/html": [
       "<b>president of serbia continues with his election campaign. his son was diagnosed positive for <mark>covid</mark>19 2 days ago.</b>"
      ],
      "text/plain": [
       "<IPython.core.display.HTML object>"
      ]
     },
     "metadata": {},
     "output_type": "display_data"
    },
    {
     "name": "stdout",
     "output_type": "stream",
     "text": [
      "URL: https://www.juznevesti.com/uploads/assets/2020/04/10/122554/1280x0_vucic-nis-foto-Vanja-Keser.jpg \n",
      "Published: 2020-04-10 12:20:55. \n"
     ]
    },
    {
     "data": {
      "text/html": [
       "when did he continue with his election campaign exactly? not even the <mark>article</mark> or <mark>article</mark> <mark>title</mark> say that. so your headline is <mark>misleading</mark>."
      ],
      "text/plain": [
       "<IPython.core.display.HTML object>"
      ]
     },
     "metadata": {},
     "output_type": "display_data"
    },
    {
     "name": "stdout",
     "output_type": "stream",
     "text": [
      "Q: headline is misleading\n",
      "##\n",
      "\n",
      "\n",
      "\n",
      "287 / 76211\n",
      "Coronavirus\n",
      "--------------------\n"
     ]
    },
    {
     "data": {
      "text/html": [
       "<b><mark>coronav</mark>irus: us officials knew of wuhan health crisis in november, a second report claims</b>"
      ],
      "text/plain": [
       "<IPython.core.display.HTML object>"
      ]
     },
     "metadata": {},
     "output_type": "display_data"
    },
    {
     "name": "stdout",
     "output_type": "stream",
     "text": [
      "URL: https://www.independent.co.uk/news/world/asia/coronavirus-wuhan-china-november-us-dia-covid-19-a9459021.html \n",
      "Published: 2020-04-10 12:05:36. \n"
     ]
    },
    {
     "data": {
      "text/html": [
       "#<mark>fake</mark> <mark>news</mark>"
      ],
      "text/plain": [
       "<IPython.core.display.HTML object>"
      ]
     },
     "metadata": {},
     "output_type": "display_data"
    },
    {
     "name": "stdout",
     "output_type": "stream",
     "text": [
      "Q: fake news\n",
      "###\n",
      "\n",
      "\n",
      "\n",
      "288 / 76401\n",
      "worldnews\n",
      "--------------------\n"
     ]
    },
    {
     "data": {
      "text/html": [
       "<b><mark>coronav</mark>irus: chile’s elite scolded for escaping by helicopter for easter holiday amid outbreak - interior minister says citizens have ‘moral duty’ to stay home, as wealthy santiago residents sneak off to coastal enclaves</b>"
      ],
      "text/plain": [
       "<IPython.core.display.HTML object>"
      ]
     },
     "metadata": {},
     "output_type": "display_data"
    },
    {
     "name": "stdout",
     "output_type": "stream",
     "text": [
      "URL: https://www.scmp.com/news/world/americas/article/3079316/coronavirus-chiles-elite-scolded-escaping-helicopter-easter \n",
      "Published: 2020-04-10 11:36:37. \n"
     ]
    },
    {
     "data": {
      "text/html": [
       "and they said the virus was an equaliser. <mark>bullshit</mark>!"
      ],
      "text/plain": [
       "<IPython.core.display.HTML object>"
      ]
     },
     "metadata": {},
     "output_type": "display_data"
    },
    {
     "name": "stdout",
     "output_type": "stream",
     "text": [
      "Q: Bullshit\n",
      "#####\n",
      "\n",
      "\n",
      "\n",
      "289 / 76623\n",
      "Coronavirus\n",
      "--------------------\n"
     ]
    },
    {
     "data": {
      "text/html": [
       "<b>smoking weed and <mark>coronav</mark>irus: even occasional use raises risk of <mark>covid</mark>-19 complications</b>"
      ],
      "text/plain": [
       "<IPython.core.display.HTML object>"
      ]
     },
     "metadata": {},
     "output_type": "display_data"
    },
    {
     "name": "stdout",
     "output_type": "stream",
     "text": [
      "URL: https://edition.cnn.com/2020/04/10/health/smoking-weed-coronavirus-wellness/index.html \n",
      "Published: 2020-04-10 10:59:53. \n"
     ]
    },
    {
     "data": {
      "text/html": [
       "more <mark>fake</mark> <mark>news</mark> from cnn"
      ],
      "text/plain": [
       "<IPython.core.display.HTML object>"
      ]
     },
     "metadata": {},
     "output_type": "display_data"
    },
    {
     "name": "stdout",
     "output_type": "stream",
     "text": [
      "Q: fake news\n",
      "###########\n",
      "\n",
      "\n",
      "\n",
      "290 / 77182\n",
      "europe\n",
      "--------------------\n"
     ]
    },
    {
     "data": {
      "text/html": [
       "<b>blood tests show 14% of people are now immune to <mark>covid</mark>-19 in one town in germany</b>"
      ],
      "text/plain": [
       "<IPython.core.display.HTML object>"
      ]
     },
     "metadata": {},
     "output_type": "display_data"
    },
    {
     "name": "stdout",
     "output_type": "stream",
     "text": [
      "URL: https://www.technologyreview.com/2020/04/09/999015/blood-tests-show-15-of-people-are-now-immune-to-covid-19-in-one-town-in-germany/ \n",
      "Published: 2020-04-10 07:08:12. \n"
     ]
    },
    {
     "data": {
      "text/html": [
       "the <mark>article</mark>’s headline is a bit <mark>misleading</mark>.\n",
       "\n",
       "it’s one german town with a population of 12,500 where they only tested 500 people and 14% of those tested was positive for covid-19. (are those 500 representative for the whole population? they probably tested the potentially infected people first.)\n",
       "\n",
       "those positives are also immediately considered “immune”, but we don’t know really if they are *really* immune. there have been [<mark>news</mark> <mark>article</mark>s](https://www.independent.co.uk/life-style/health-and-families/coronavirus-immunity-reinfection-get-covid-19-twice-sick-spread-relapse-a9400691.html) saying you could get covid-19 twice.\n",
       "\n",
       "the <mark>article</mark> itself links to proof that has vanished and now shows a 404 error."
      ],
      "text/plain": [
       "<IPython.core.display.HTML object>"
      ]
     },
     "metadata": {},
     "output_type": "display_data"
    },
    {
     "name": "stdout",
     "output_type": "stream",
     "text": [
      "Q: article is misleading\n",
      "##\n",
      "\n",
      "\n",
      "\n",
      "291 / 77278\n",
      "Coronavirus\n",
      "--------------------\n"
     ]
    },
    {
     "data": {
      "text/html": [
       "<b>californians may have developed some herd immunity to <mark>coronav</mark>irus last year, researcher theorizes | abc7news.com</b>"
      ],
      "text/plain": [
       "<IPython.core.display.HTML object>"
      ]
     },
     "metadata": {},
     "output_type": "display_data"
    },
    {
     "name": "stdout",
     "output_type": "stream",
     "text": [
      "URL: https://abc7news.com/coronavirus-covid-19-herd-immunity-california/6091220/ \n",
      "Published: 2020-04-10 06:03:53. \n"
     ]
    },
    {
     "data": {
      "text/html": [
       "click-bate <mark>fake</mark> <mark>news</mark>."
      ],
      "text/plain": [
       "<IPython.core.display.HTML object>"
      ]
     },
     "metadata": {},
     "output_type": "display_data"
    },
    {
     "name": "stdout",
     "output_type": "stream",
     "text": [
      "Q: fake news\n"
     ]
    },
    {
     "data": {
      "text/html": [
       "this is pure <mark>bullshit</mark>. it doesn't make sense at all. just use a little common sense and you can sniff it out already."
      ],
      "text/plain": [
       "<IPython.core.display.HTML object>"
      ]
     },
     "metadata": {},
     "output_type": "display_data"
    },
    {
     "name": "stdout",
     "output_type": "stream",
     "text": [
      "Q: This is bullshit\n"
     ]
    },
    {
     "data": {
      "text/html": [
       "this is a total <mark>bullshit</mark>.  i’m sure doctors treating patients would of noticed that something was different if they were seeing weird deaths and the obvious hole in the theory is “where were the hospital surges”?  the disease didn’t suddenly become more dangerous."
      ],
      "text/plain": [
       "<IPython.core.display.HTML object>"
      ]
     },
     "metadata": {},
     "output_type": "display_data"
    },
    {
     "name": "stdout",
     "output_type": "stream",
     "text": [
      "Q: This is bullshit\n",
      "######\n",
      "\n",
      "\n",
      "\n",
      "294 / 77591\n",
      "worldnews\n",
      "--------------------\n"
     ]
    },
    {
     "data": {
      "text/html": [
       "<b>grandma who accidentally invited teen for thanksgiving loses husband to <mark>covid</mark>-19</b>"
      ],
      "text/plain": [
       "<IPython.core.display.HTML object>"
      ]
     },
     "metadata": {},
     "output_type": "display_data"
    },
    {
     "name": "stdout",
     "output_type": "stream",
     "text": [
      "URL: https://globalnews.ca/news/6801120/accidental-thanksgiving-invite-coronavirus/ \n",
      "Published: 2020-04-10 04:30:39. \n"
     ]
    },
    {
     "data": {
      "text/html": [
       "headline is <mark>misleading</mark> but i recognised her because of that. so sorry for her."
      ],
      "text/plain": [
       "<IPython.core.display.HTML object>"
      ]
     },
     "metadata": {},
     "output_type": "display_data"
    },
    {
     "name": "stdout",
     "output_type": "stream",
     "text": [
      "Q: Headline is misleading\n",
      "#########\n",
      "\n",
      "\n",
      "\n",
      "295 / 78016\n",
      "Coronavirus\n",
      "--------------------\n"
     ]
    },
    {
     "data": {
      "text/html": [
       "<b><mark>coronav</mark>irus outbreak at butner prison continues to surge. now it’s spreading to staff.</b>"
      ],
      "text/plain": [
       "<IPython.core.display.HTML object>"
      ]
     },
     "metadata": {},
     "output_type": "display_data"
    },
    {
     "name": "stdout",
     "output_type": "stream",
     "text": [
      "URL: https://www.newsobserver.com/news/local/crime/article241901551.html \n",
      "Published: 2020-04-10 03:09:38. \n"
     ]
    },
    {
     "data": {
      "text/html": [
       "fuck. this is where my friend mike is at. last i heard from him, they were telling the prisoners that work was \"optional\", but that if you didn't go to work they would still dock their good behavior time. fucking <mark>bullshit</mark>."
      ],
      "text/plain": [
       "<IPython.core.display.HTML object>"
      ]
     },
     "metadata": {},
     "output_type": "display_data"
    },
    {
     "name": "stdout",
     "output_type": "stream",
     "text": [
      "Q: bullshit\n",
      "##\n",
      "\n",
      "\n",
      "\n",
      "296 / 78111\n",
      "Coronavirus\n",
      "--------------------\n"
     ]
    },
    {
     "data": {
      "text/html": [
       "<b>fox news host jedediah bila and husband recovering from <mark>coronav</mark>irus: \"this is a crazy time\"</b>"
      ],
      "text/plain": [
       "<IPython.core.display.HTML object>"
      ]
     },
     "metadata": {},
     "output_type": "display_data"
    },
    {
     "name": "stdout",
     "output_type": "stream",
     "text": [
      "URL: https://www.newsweek.com/fox-news-host-jedediah-bila-husband-recovering-coronavirus-this-crazy-time-1497212 \n",
      "Published: 2020-04-10 02:52:00. \n"
     ]
    },
    {
     "data": {
      "text/html": [
       "<mark>fake</mark> <mark>news</mark>, there is no way there exists a woman named jed"
      ],
      "text/plain": [
       "<IPython.core.display.HTML object>"
      ]
     },
     "metadata": {},
     "output_type": "display_data"
    },
    {
     "name": "stdout",
     "output_type": "stream",
     "text": [
      "Q: fake news\n",
      "###\n",
      "\n",
      "\n",
      "\n",
      "297 / 78280\n",
      "Coronavirus\n",
      "--------------------\n"
     ]
    },
    {
     "data": {
      "text/html": [
       "<b>majority of americans with \"conservative news diet\" believe <mark>coronav</mark>irus no more deadly than seasonal flu, new poll shows</b>"
      ],
      "text/plain": [
       "<IPython.core.display.HTML object>"
      ]
     },
     "metadata": {},
     "output_type": "display_data"
    },
    {
     "name": "stdout",
     "output_type": "stream",
     "text": [
      "URL: https://www.newsweek.com/majority-americans-conservative-news-diet-believe-coronavirus-no-more-deadly-seasonal-flu-new-1497171 \n",
      "Published: 2020-04-10 02:18:28. \n"
     ]
    },
    {
     "data": {
      "text/html": [
       "this is <mark>fake</mark> <mark>news</mark>. skewed poll stats by question rigging. what a joke."
      ],
      "text/plain": [
       "<IPython.core.display.HTML object>"
      ]
     },
     "metadata": {},
     "output_type": "display_data"
    },
    {
     "name": "stdout",
     "output_type": "stream",
     "text": [
      "Q: This is fake news\n",
      "##########\n",
      "\n",
      "\n",
      "\n",
      "298 / 78772\n",
      "worldnews\n",
      "--------------------\n"
     ]
    },
    {
     "data": {
      "text/html": [
       "<b><mark>coronav</mark>irus update: 51 recovered patients test positive again, virus 'reactivated'</b>"
      ],
      "text/plain": [
       "<IPython.core.display.HTML object>"
      ]
     },
     "metadata": {},
     "output_type": "display_data"
    },
    {
     "name": "stdout",
     "output_type": "stream",
     "text": [
      "URL: https://www.ibtimes.com/coronavirus-update-51-recovered-patients-test-positive-again-virus-reactivated-2955560 \n",
      "Published: 2020-04-10 00:46:12. \n"
     ]
    },
    {
     "data": {
      "text/html": [
       "this <mark>article</mark> is intentionally <mark>misleading</mark> and likely a complete fabrication. if it was posted to r/coronavirus it would be removed."
      ],
      "text/plain": [
       "<IPython.core.display.HTML object>"
      ]
     },
     "metadata": {},
     "output_type": "display_data"
    },
    {
     "name": "stdout",
     "output_type": "stream",
     "text": [
      "Q: article is misleading\n",
      "###\n",
      "\n",
      "\n",
      "\n",
      "299 / 78934\n",
      "Coronavirus\n",
      "--------------------\n"
     ]
    },
    {
     "data": {
      "text/html": [
       "<b>nearly 3 of 4 americans say they won’t attend games without <mark>coronav</mark>irus vaccine developed</b>"
      ],
      "text/plain": [
       "<IPython.core.display.HTML object>"
      ]
     },
     "metadata": {},
     "output_type": "display_data"
    },
    {
     "name": "stdout",
     "output_type": "stream",
     "text": [
      "URL: http://blogs.shu.edu/sportspoll/2020/04/09/nearly-3-of-4-americans-say-they-wont-attend-games-without-coronavirus-vaccine-developed/ \n",
      "Published: 2020-04-10 00:21:49. \n"
     ]
    },
    {
     "data": {
      "text/html": [
       "this is <mark>bullshit</mark>!!!   762 people were polled and out of 762 people 3 out of 4 of them not 3 out of 4 americans.  this is <mark>bullshit</mark>!!!"
      ],
      "text/plain": [
       "<IPython.core.display.HTML object>"
      ]
     },
     "metadata": {},
     "output_type": "display_data"
    },
    {
     "name": "stdout",
     "output_type": "stream",
     "text": [
      "Q: THIS IS BULLSHIT\n",
      "Q: THIS IS BULLSHIT\n",
      "###\n",
      "\n",
      "\n",
      "\n",
      "301 / 79061\n",
      "politics\n",
      "--------------------\n"
     ]
    },
    {
     "data": {
      "text/html": [
       "<b>trump says more than 2 million <mark>coronav</mark>irus tests have been done in the us, and claims mass testing not needed</b>"
      ],
      "text/plain": [
       "<IPython.core.display.HTML object>"
      ]
     },
     "metadata": {},
     "output_type": "display_data"
    },
    {
     "name": "stdout",
     "output_type": "stream",
     "text": [
      "URL: https://www.cnn.com/2020/04/09/politics/trump-coronavirus-tests/index.html \n",
      "Published: 2020-04-10 00:07:49. \n"
     ]
    },
    {
     "data": {
      "text/html": [
       "my parents are 90 years old. they have been waiting 8 days for their test results in nj. they were damn lucky to even get tested. none of my family trying to care for them can get tested. this is <mark>bullshit</mark>. people are dying all around them."
      ],
      "text/plain": [
       "<IPython.core.display.HTML object>"
      ]
     },
     "metadata": {},
     "output_type": "display_data"
    },
    {
     "name": "stdout",
     "output_type": "stream",
     "text": [
      "Q: This is bullshit\n",
      "##########\n",
      "\n",
      "\n",
      "\n",
      "302 / 79560\n",
      "uspolitics\n",
      "--------------------\n"
     ]
    },
    {
     "data": {
      "text/html": [
       "<b>trump’s faulty malaria-<mark>coronav</mark>irus connection</b>"
      ],
      "text/plain": [
       "<IPython.core.display.HTML object>"
      ]
     },
     "metadata": {},
     "output_type": "display_data"
    },
    {
     "name": "stdout",
     "output_type": "stream",
     "text": [
      "URL: https://www.factcheck.org/2020/04/trumps-faulty-malaria-coronavirus-connection/ \n",
      "Published: 2020-04-09 22:49:40. \n"
     ]
    },
    {
     "data": {
      "text/html": [
       "how is it possible that a stable genius in pharmaceuticals to have any faulty connection of anything ?  <mark>fake</mark> <mark>news</mark> !!!   best president ever."
      ],
      "text/plain": [
       "<IPython.core.display.HTML object>"
      ]
     },
     "metadata": {},
     "output_type": "display_data"
    },
    {
     "name": "stdout",
     "output_type": "stream",
     "text": [
      "Q: fake news\n",
      "#\n",
      "\n",
      "\n",
      "\n",
      "303 / 79645\n",
      "politics\n",
      "--------------------\n"
     ]
    },
    {
     "data": {
      "text/html": [
       "<b>trump: if under 100,000 americans die from <mark>coronav</mark>irus we've done a good job</b>"
      ],
      "text/plain": [
       "<IPython.core.display.HTML object>"
      ]
     },
     "metadata": {},
     "output_type": "display_data"
    },
    {
     "name": "stdout",
     "output_type": "stream",
     "text": [
      "URL: https://www.msnbc.com/11th-hour/watch/trump-if-under-100-000-americans-die-from-coronavirus-we-ve-done-a-good-job-81814085642 \n",
      "Published: 2020-04-09 22:34:52. \n"
     ]
    },
    {
     "data": {
      "text/html": [
       "trump and his administration did a terrible job from the start:\n",
       "\n",
       "video 1 - background <mark>information</mark>, trump and trump administration.\n",
       "\n",
       "* background: [0:00-3:00](https://www.youtube.com/watch?v=epfu4nfehuk&t=0s)\n",
       "\n",
       "* trump administration: [3:05](https://www.youtube.com/watch?v=epfu4nfehuk&list=plwmv_rrtapomcc07vztxr7b6eeqjowszo&index=1&t=185s)\n",
       "* trump: [4:21](https://www.youtube.com/watch?v=epfu4nfehuk&list=plwmv_rrtapomcc07vztxr7b6eeqjowszo&index=1&t=261s)\n",
       "* thought experiment: [5:42](https://www.youtube.com/watch?v=epfu4nfehuk&list=plwmv_rrtapomcc07vztxr7b6eeqjowszo&index=1&t=342s)\n",
       "* trumps views on health: [5:58](https://www.youtube.com/watch?v=epfu4nfehuk&list=plwmv_rrtapomcc07vztxr7b6eeqjowszo&index=1&t=358s)\n",
       "* decline to use who covid-19 tests: [8:03](https://www.youtube.com/watch?v=epfu4nfehuk&list=plwmv_rrtapomcc07vztxr7b6eeqjowszo&index=1&t=483s)\n",
       "* low testing per capita:[ 8:50](https://www.youtube.com/watch?v=epfu4nfehuk&list=plwmv_rrtapomcc07vztxr7b6eeqjowszo&index=1&t=530s)\n",
       "* comparing south korea to usa: [9:58](https://www.youtube.com/watch?v=epfu4nfehuk&list=plwmv_rrtapomcc07vztxr7b6eeqjowszo&index=1&t=598s)\n",
       "\n",
       "video 2: sends medical supplies to china, mike pence, and nepotism.\n",
       "\n",
       "* usa update: [0:10](https://www.youtube.com/watch?v=tg1rdpvkale&list=plwmv_rrtapomcc07vztxr7b6eeqjowszo&index=2&t=10s)\n",
       "* trump raves about ratings: [0:30](https://www.youtube.com/watch?v=tg1rdpvkale&list=plwmv_rrtapomcc07vztxr7b6eeqjowszo&index=2&t=30s)\n",
       "* trump sends medical supplies to china: [0:49](https://www.youtube.com/watch?v=tg1rdpvkale&list=plwmv_rrtapomcc07vztxr7b6eeqjowszo&index=2&t=49s)\n",
       "* trump blames governors: [1:25](https://www.youtube.com/watch?v=tg1rdpvkale&list=plwmv_rrtapomcc07vztxr7b6eeqjowszo&index=2&t=85s)\n",
       "* mike pence: [1:39](https://www.youtube.com/watch?v=tg1rdpvkale&list=plwmv_rrtapomcc07vztxr7b6eeqjowszo&index=2&t=99s)\n",
       "* nepotism involving unqualified personnel: [3:05](https://www.youtube.com/watch?v=tg1rdpvkale&list=plwmv_rrtapomcc07vztxr7b6eeqjowszo&index=2&t=185s)\n",
       "\n",
       "\n",
       "video 3 - <mark>fake</mark> <mark>news</mark> and <mark>misinformation</mark> and inability to take responsibility.\n",
       "\n",
       "* <mark>fake</mark> <mark>news</mark> and <mark>misinformation</mark>: [0:10](https://www.youtube.com/watch?v=jr3xagk2bl8&list=plwmv_rrtapomcc07vztxr7b6eeqjowszo&index=3&t=10s)\n",
       "* inability to take responsibility: [2:29](https://www.youtube.com/watch?v=jr3xagk2bl8&list=plwmv_rrtapomcc07vztxr7b6eeqjowszo&index=3&t=149s)\n",
       "\n",
       "video 4 - healthcare, trumps recreational activities and wrap up.\n",
       "\n",
       "* dr anthony fauchi: [0:09](https://www.youtube.com/watch?v=z_tzkisakhe&list=plwmv_rrtapomcc07vztxr7b6eeqjowszo&index=4&t=9s)\n",
       "* us healthcare system: [0:32](https://www.youtube.com/watch?v=z_tzkisakhe&list=plwmv_rrtapomcc07vztxr7b6eeqjowszo&index=4&t=32s)\n",
       "* uninsured population: [3:05](https://www.youtube.com/watch?v=z_tzkisakhe&list=plwmv_rrtapomcc07vztxr7b6eeqjowszo&index=4&t=185s)\n",
       "* coronavirus treatment costs: [3:27](https://www.youtube.com/watch?v=z_tzkisakhe&list=plwmv_rrtapomcc07vztxr7b6eeqjowszo&index=4&t=207s)\n",
       "* $35 000 for coronavirus treatment: 4:11\n",
       "* most americans have less than $1000 in savings: [4:33](https://www.youtube.com/watch?v=z_tzkisakhe&list=plwmv_rrtapomcc07vztxr7b6eeqjowszo&index=4&t=251s)\n",
       "* unemployment: [5:24](https://www.youtube.com/watch?v=z_tzkisakhe&list=plwmv_rrtapomcc07vztxr7b6eeqjowszo&index=4&t=324s)\n",
       "* mitch mcconnel: [5:57](https://www.youtube.com/watch?v=z_tzkisakhe&list=plwmv_rrtapomcc07vztxr7b6eeqjowszo&index=4&t=357s)\n",
       "* trumps recreational activities: [6:17](https://www.youtube.com/watch?v=z_tzkisakhe&list=plwmv_rrtapomcc07vztxr7b6eeqjowszo&index=4&t=377s)\n",
       "* trump spends 133 million to golf: [6:37](https://www.youtube.com/watch?v=z_tzkisakhe&list=plwmv_rrtapomcc07vztxr7b6eeqjowszo&index=4&t=397s)\n",
       "* wrapping up: [8:27](https://www.youtube.com/watch?v=z_tzkisakhe&list=plwmv_rrtapomcc07vztxr7b6eeqjowszo&index=4&t=507s)"
      ],
      "text/plain": [
       "<IPython.core.display.HTML object>"
      ]
     },
     "metadata": {},
     "output_type": "display_data"
    },
    {
     "name": "stdout",
     "output_type": "stream",
     "text": [
      "Q: fake news\n",
      "Q: fake news\n",
      "####\n",
      "\n",
      "\n",
      "\n",
      "305 / 79806\n",
      "worldpolitics\n",
      "--------------------\n"
     ]
    },
    {
     "data": {
      "text/html": [
       "<b>fox news host jedediah bila says she has <mark>coronav</mark>irus</b>"
      ],
      "text/plain": [
       "<IPython.core.display.HTML object>"
      ]
     },
     "metadata": {},
     "output_type": "display_data"
    },
    {
     "name": "stdout",
     "output_type": "stream",
     "text": [
      "URL: https://thehill.com/homenews/media/492099-fox-news-host-jedediah-bila-says-she-has-coronavirus \n",
      "Published: 2020-04-09 22:11:25. \n"
     ]
    },
    {
     "data": {
      "text/html": [
       "<mark>fake</mark> <mark>news</mark>. it’s all a hoax. she just has the flu. that’s what they were telling us just weeks ago, so must be true now."
      ],
      "text/plain": [
       "<IPython.core.display.HTML object>"
      ]
     },
     "metadata": {},
     "output_type": "display_data"
    },
    {
     "name": "stdout",
     "output_type": "stream",
     "text": [
      "Q: fake news\n",
      "#########\n",
      "\n",
      "\n",
      "\n",
      "306 / 80273\n",
      "uspolitics\n",
      "--------------------\n"
     ]
    },
    {
     "data": {
      "text/html": [
       "<b>under cover of <mark>covid</mark>-19, donald trump ramps up his war on truth-tellers</b>"
      ],
      "text/plain": [
       "<IPython.core.display.HTML object>"
      ]
     },
     "metadata": {},
     "output_type": "display_data"
    },
    {
     "name": "stdout",
     "output_type": "stream",
     "text": [
      "URL: https://theintercept.com/2020/04/09/coronavirus-trump-firings/ \n",
      "Published: 2020-04-09 21:10:45. \n"
     ]
    },
    {
     "data": {
      "text/html": [
       "for trump and his supporters, *truth* is the last thing trump said. anything which appears to be recordings of inconsistent things he said before that are obviously *<mark>fake</mark> <mark>news</mark>* because they don't conform to the current *truth*.\n",
       "\n",
       "in such a context, the only truths others could possibly utter would be unceasing flattery of potus.\n",
       "\n",
       "it's extremely simple when you think this through.\n",
       "\n",
       "[not /s. if only there were a tag for cynical irony.]"
      ],
      "text/plain": [
       "<IPython.core.display.HTML object>"
      ]
     },
     "metadata": {},
     "output_type": "display_data"
    },
    {
     "name": "stdout",
     "output_type": "stream",
     "text": [
      "Q: fake news\n",
      "#####\n",
      "\n",
      "\n",
      "\n",
      "307 / 80512\n",
      "politics\n",
      "--------------------\n"
     ]
    },
    {
     "data": {
      "text/html": [
       "<b>discussion thread: white house <mark>coronav</mark>irus task force briefing – 04/09/2020 | live - 5:00pm edt</b>"
      ],
      "text/plain": [
       "<IPython.core.display.HTML object>"
      ]
     },
     "metadata": {},
     "output_type": "display_data"
    },
    {
     "name": "stdout",
     "output_type": "stream",
     "text": [
      "URL: https://www.reddit.com/r/politics/comments/fy0o4q/discussion_thread_white_house_coronavirus_task/ \n",
      "Published: 2020-04-09 21:05:47. \n"
     ]
    },
    {
     "data": {
      "text/html": [
       "*literally*...<mark>bullshit</mark>.  \n",
       "\n",
       "literally...\n",
       "\n",
       "it’s like watching a malicious steve martin as the jerk, play hot potato with millions of lives."
      ],
      "text/plain": [
       "<IPython.core.display.HTML object>"
      ]
     },
     "metadata": {},
     "output_type": "display_data"
    },
    {
     "name": "stdout",
     "output_type": "stream",
     "text": [
      "Q: bullshit\n",
      "#######\n",
      "\n",
      "\n",
      "\n",
      "308 / 80872\n",
      "politics\n",
      "--------------------\n"
     ]
    },
    {
     "data": {
      "text/html": [
       "<b>the wall street journal board has had enough of donald trump’s <mark>coronav</mark>irus briefings</b>"
      ],
      "text/plain": [
       "<IPython.core.display.HTML object>"
      ]
     },
     "metadata": {},
     "output_type": "display_data"
    },
    {
     "name": "stdout",
     "output_type": "stream",
     "text": [
      "URL: https://www.huffpost.com/entry/wall-street-journal-donald-trump-coronavirus-briefings_n_5e8f1ab1c5b6d641a6bb05ae \n",
      "Published: 2020-04-09 20:40:38. \n"
     ]
    },
    {
     "data": {
      "text/html": [
       "in before djt calls the wall street journal \"nasty\", \"<mark>fake</mark> <mark>news</mark>\", \"failing\" or whatever his favorite grade-school taunt is this week."
      ],
      "text/plain": [
       "<IPython.core.display.HTML object>"
      ]
     },
     "metadata": {},
     "output_type": "display_data"
    },
    {
     "name": "stdout",
     "output_type": "stream",
     "text": [
      "Q: fake news\n",
      "##\n",
      "\n",
      "\n",
      "\n",
      "309 / 80966\n",
      "Coronavirus\n",
      "--------------------\n"
     ]
    },
    {
     "data": {
      "text/html": [
       "<b>some african countries heading for peak in <mark>coronav</mark>irus cases in weeks -who official</b>"
      ],
      "text/plain": [
       "<IPython.core.display.HTML object>"
      ]
     },
     "metadata": {},
     "output_type": "display_data"
    },
    {
     "name": "stdout",
     "output_type": "stream",
     "text": [
      "URL: https://af.reuters.com/article/topNews/idAFKCN21R230-OZATP \n",
      "Published: 2020-04-09 20:25:46. \n"
     ]
    },
    {
     "data": {
      "text/html": [
       "<mark>bullshit</mark>"
      ],
      "text/plain": [
       "<IPython.core.display.HTML object>"
      ]
     },
     "metadata": {},
     "output_type": "display_data"
    },
    {
     "name": "stdout",
     "output_type": "stream",
     "text": [
      "Q: Bullshit\n",
      "###########\n",
      "\n",
      "\n",
      "\n",
      "310 / 81530\n",
      "Coronavirus\n",
      "--------------------\n"
     ]
    },
    {
     "data": {
      "text/html": [
       "<b>race to find vaccine intensifies as asia sees 2nd wave of <mark>coronav</mark>irus infections</b>"
      ],
      "text/plain": [
       "<IPython.core.display.HTML object>"
      ]
     },
     "metadata": {},
     "output_type": "display_data"
    },
    {
     "name": "stdout",
     "output_type": "stream",
     "text": [
      "URL: https://www.oregonlive.com/coronavirus/2020/04/race-to-find-vaccine-intensifies-as-asia-sees-2nd-wave-of-coronavirus-infections.html \n",
      "Published: 2020-04-09 19:15:01. \n"
     ]
    },
    {
     "data": {
      "text/html": [
       "this is slightly <mark>misleading</mark>. calling it a 2nd wave and then not posting how many new cases were found.... weird"
      ],
      "text/plain": [
       "<IPython.core.display.HTML object>"
      ]
     },
     "metadata": {},
     "output_type": "display_data"
    },
    {
     "name": "stdout",
     "output_type": "stream",
     "text": [
      "Q: This is misleading\n",
      "####\n",
      "\n",
      "\n",
      "\n",
      "311 / 81717\n",
      "worldnews\n",
      "--------------------\n"
     ]
    },
    {
     "data": {
      "text/html": [
       "<b><mark>coronav</mark>irus: nature magazine apologises for reports linking <mark>covid</mark>-19 with china. scientific journal admits it ‘was an error on our part’ to erroneously link the pathogen with wuhan and china</b>"
      ],
      "text/plain": [
       "<IPython.core.display.HTML object>"
      ]
     },
     "metadata": {},
     "output_type": "display_data"
    },
    {
     "name": "stdout",
     "output_type": "stream",
     "text": [
      "URL: https://www.scmp.com/news/china/society/article/3079293/coronavirus-nature-magazine-apologises-reports-linking-covid-19 \n",
      "Published: 2020-04-09 18:57:24. \n"
     ]
    },
    {
     "data": {
      "text/html": [
       "the <mark>title</mark> is very <mark>misleading</mark>. the point is that chinese academics around the world have been linked unfairly to the coronavirus"
      ],
      "text/plain": [
       "<IPython.core.display.HTML object>"
      ]
     },
     "metadata": {},
     "output_type": "display_data"
    },
    {
     "name": "stdout",
     "output_type": "stream",
     "text": [
      "Q: title is misleading\n",
      "##\n",
      "\n",
      "\n",
      "\n",
      "312 / 81830\n",
      "Coronavirus\n",
      "--------------------\n"
     ]
    },
    {
     "data": {
      "text/html": [
       "<b>new york city hires laborers to bury dead in hart island potter’s field amid <mark>coronav</mark>irus surge</b>"
      ],
      "text/plain": [
       "<IPython.core.display.HTML object>"
      ]
     },
     "metadata": {},
     "output_type": "display_data"
    },
    {
     "name": "stdout",
     "output_type": "stream",
     "text": [
      "URL: https://nationalpost.com/pmn/health-pmn/new-york-city-hires-laborers-to-bury-dead-in-hart-island-potters-field-amid-coronavirus-surge \n",
      "Published: 2020-04-09 18:43:00. \n"
     ]
    },
    {
     "data": {
      "text/html": [
       "this is <mark>misinformation</mark>.\n",
       "\n",
       "the hart island potters field has been burying people (with no other place to go) there since the civil war. they pay volunteer convicts $6/hr to dig the graves. \n",
       "\n",
       "this is nothing new."
      ],
      "text/plain": [
       "<IPython.core.display.HTML object>"
      ]
     },
     "metadata": {},
     "output_type": "display_data"
    },
    {
     "name": "stdout",
     "output_type": "stream",
     "text": [
      "Q: This is misinformation\n",
      "#########\n",
      "\n",
      "\n",
      "\n",
      "313 / 82283\n",
      "politics\n",
      "--------------------\n"
     ]
    },
    {
     "data": {
      "text/html": [
       "<b>trump approval dips as americans question his handling of <mark>coronav</mark>irus crisis</b>"
      ],
      "text/plain": [
       "<IPython.core.display.HTML object>"
      ]
     },
     "metadata": {},
     "output_type": "display_data"
    },
    {
     "name": "stdout",
     "output_type": "stream",
     "text": [
      "URL: https://www.nbcnews.com/politics/donald-trump/trump-approval-dips-americans-question-his-handling-coronavirus-crisis-n1180321 \n",
      "Published: 2020-04-09 17:45:19. \n"
     ]
    },
    {
     "data": {
      "text/html": [
       "<mark>fake</mark> lib <mark>news</mark>"
      ],
      "text/plain": [
       "<IPython.core.display.HTML object>"
      ]
     },
     "metadata": {},
     "output_type": "display_data"
    },
    {
     "name": "stdout",
     "output_type": "stream",
     "text": [
      "Q: fake news\n",
      "#######################\n",
      "\n",
      "\n",
      "\n",
      "314 / 83424\n",
      "worldnews\n",
      "--------------------\n"
     ]
    },
    {
     "data": {
      "text/html": [
       "<b>doctor who warned prime minister about ppe dies with <mark>covid</mark> -19</b>"
      ],
      "text/plain": [
       "<IPython.core.display.HTML object>"
      ]
     },
     "metadata": {},
     "output_type": "display_data"
    },
    {
     "name": "stdout",
     "output_type": "stream",
     "text": [
      "URL: http://news.sky.com/story/coronavirus-doctor-who-warned-prime-minister-about-ppe-dies-with-covid-19-11971068 \n",
      "Published: 2020-04-09 15:54:20. \n"
     ]
    },
    {
     "data": {
      "text/html": [
       "i haven't watched many <mark>news</mark> on other counties but my own tbh... but i have a question\n",
       "\n",
       "where i'm from, the government has closed off all other states, and your not allowed to leave you own city or else you will get a find.\n",
       "\n",
       "in another country they made a new rule where everyone must go outside with a mask or else they get fined.\n",
       "\n",
       "now then, has any country tried to just tell people that if you go outside you will be responsible for your own sickness and everyone else you infect. \n",
       "\n",
       "in my opinion this cat and mouse chase is useless and people shouldn't be threatened by money but with their life.\n",
       "i also am quessing that everyone is fined for everything because the government is in need money and, let's be honest, taking peoples money for exiting without a mask is a good way to get it.\n",
       "\n",
       "but all and all i'm just 15 so this could be complete <mark>bs</mark> that i'm talking about 🙂"
      ],
      "text/plain": [
       "<IPython.core.display.HTML object>"
      ]
     },
     "metadata": {},
     "output_type": "display_data"
    },
    {
     "name": "stdout",
     "output_type": "stream",
     "text": [
      "Q: this be BS\n",
      "###########\n",
      "\n",
      "\n",
      "\n",
      "315 / 83979\n",
      "Coronavirus\n",
      "--------------------\n"
     ]
    },
    {
     "data": {
      "text/html": [
       "<b>iran: a fake <mark>coronav</mark>irus cure in the form of high-concentration alcohol killed 600 hundred people and poisoned thousands more in iran</b>"
      ],
      "text/plain": [
       "<IPython.core.display.HTML object>"
      ]
     },
     "metadata": {},
     "output_type": "display_data"
    },
    {
     "name": "stdout",
     "output_type": "stream",
     "text": [
      "URL: https://iheartintelligence.com/600-people-died-and-3000-have-been-poisoned-in-iran-drinking-neat-alcohol-cure-coronavirus/?fb=111 \n",
      "Published: 2020-04-09 15:13:20. \n"
     ]
    },
    {
     "data": {
      "text/html": [
       "i’m curious to know iran’s true death total. that whole 1300 new cases 130 new deaths everyday sounds like <mark>bs</mark>."
      ],
      "text/plain": [
       "<IPython.core.display.HTML object>"
      ]
     },
     "metadata": {},
     "output_type": "display_data"
    },
    {
     "name": "stdout",
     "output_type": "stream",
     "text": [
      "Q: sounds like BS\n",
      "##########\n",
      "\n",
      "\n",
      "\n",
      "316 / 84485\n",
      "Coronavirus\n",
      "--------------------\n"
     ]
    },
    {
     "data": {
      "text/html": [
       "<b>attorney general bill barr suggests ‘hide under the bed’ <mark>coronav</mark>irus measures should end may 1</b>"
      ],
      "text/plain": [
       "<IPython.core.display.HTML object>"
      ]
     },
     "metadata": {},
     "output_type": "display_data"
    },
    {
     "name": "stdout",
     "output_type": "stream",
     "text": [
      "URL: https://www.nydailynews.com/coronavirus/ny-coronavirus-bill-barr-draconian-social-distancing-may-1-20200409-dezpaavmhfaq5hj6cixeotvpq4-story.html \n",
      "Published: 2020-04-09 14:24:07. \n"
     ]
    },
    {
     "data": {
      "text/html": [
       "\"all <mark>fake</mark> <mark>news</mark>, folks! overblown panic flu hoax!\""
      ],
      "text/plain": [
       "<IPython.core.display.HTML object>"
      ]
     },
     "metadata": {},
     "output_type": "display_data"
    },
    {
     "name": "stdout",
     "output_type": "stream",
     "text": [
      "Q: fake news\n",
      "############\n",
      "\n",
      "\n",
      "\n",
      "317 / 85093\n",
      "PoliticalDiscussion\n",
      "--------------------\n"
     ]
    },
    {
     "data": {
      "text/html": [
       "<b>how fair is the criticism of trump in this <mark>pandemi</mark>c?</b>"
      ],
      "text/plain": [
       "<IPython.core.display.HTML object>"
      ]
     },
     "metadata": {},
     "output_type": "display_data"
    },
    {
     "name": "stdout",
     "output_type": "stream",
     "text": [
      "URL: https://www.reddit.com/r/PoliticalDiscussion/comments/ftriqb/how_fair_is_the_criticism_of_trump_in_this/ \n",
      "Published: 2020-04-02 18:22:15. \n"
     ]
    },
    {
     "data": {
      "text/html": [
       "there are 4 reasons in my opinion why this has been going so poorly. 1st <mark>misinformation</mark>. trump has been spreading that and been <mark>misleading</mark> and overly optimistic. 2nd. china be lying, can't do much about that. 3rd good science takes time, can't do too much about that. its noteworthy that trump tried twice, fy 2019 and 2020 to cut the cdc to which congress raised their cdc budget twice (by over a 100 mil both times iirc). 4 hamstringing and preventing proper responses and preparedness, the lack of ventilators and masks, the lack of any real urgency to remedy that, the cdc trying to roll out tests that were more complicated than needed and more expensive (some say corporate overlords were to blame, others say it was just mistake of bad planning and overambitious.)"
      ],
      "text/plain": [
       "<IPython.core.display.HTML object>"
      ]
     },
     "metadata": {},
     "output_type": "display_data"
    },
    {
     "name": "stdout",
     "output_type": "stream",
     "text": [
      "Q: Misinformation\n",
      "##"
     ]
    },
    {
     "data": {
      "text/html": [
       "holy shit y’all i read the artickle and it’s such a pathetic attempt at journalism. it basically “breaks down” all the criticism of trump and then says “yeah but obama did that too” and then gives pathetic, not even comparable examples.\n",
       "\n",
       "\\-starts by saying china is to blame\n",
       "\n",
       "\\-actually says that the <mark>info</mark> about the pandemic coming out of china wasnt early enough to have an appropriate <mark>informed</mark> response. yet i - an american  - discussed covid at my christmas dinner. in december. and i knew it was a deadly disease that passed easily.\n",
       "\n",
       "\\-points out that bolton “consolidated” the pandemic department int a biodefense department but forgot to mention that they never replaced the head guy in charge of keeping up with global pandemics. funny how they left that detail out.\n",
       "\n",
       "\\-the consolidation of the pandemic dept into biodefense dept is now run by anthony ruggiero who has zero pandemic experience.\n",
       "\n",
       "\\-the <mark>article</mark> says many obama is ra officials were annoyed by the obama admins micromanaging of the pandemic department. then cites some reductions in dept size, and say “so if obama did it then it was ok that trump did it!” the main difference being that obama maintained education professionals who were educated in epidemiology and infectious diseases. trump did not.\n",
       "\n",
       "\\-“simply writing about the pandemic might show that the trump administration was aware of the pandemic but doesn’t necessarily mean they were geared up to identify the problem and begin to organize a response.” i’m stopping here because this sentence is absurd. so it’s saying that because journalists did a great job of spreading <mark>news</mark> about the pandemic, bc the chinese govt didn’t hand a report of all covid <mark>info</mark> to the t admin, then there’s just no way they could have known. nevermind if the cdc office in china hadn’t been shut down maybe they would have received that.\n",
       "\n",
       "or you know, trump could have called his buddy president xi and asked for that <mark>info</mark>. back in november. it’s basically a pathetic excuse. he didnt know bc he was golfing.\n",
       "\n",
       "dude this isn’t a thoroughly <mark>source</mark>d <mark>article</mark>. this is pure propaganda <mark>bullshit</mark> and you drank it up. no where does this <mark>article</mark> explain how trumps response was anything but deplorable. it pulls out a few anecdotal examples from the obama era of similar behaviour but the main difference is that obama never let america get run over with a pandemic.\n",
       "\n",
       "with ebola, he sent 100k plus healthcare workers to africa to step the flow of ebola transmission so once it finally made its way to our shores, the govt was ready and tested ppl coming in from africa.\n",
       "\n",
       "the economy didn’t shut down over sars or ebola because obama didn’t let it get that bad. he was proactive and not a child-minded selfish imbecile.\n",
       "\n",
       "this “<mark>article</mark>” is pathetic at best and an embarrassing attempt at journalism at worst.\n",
       "\n",
       "editted for spelling cuz i’m on mobile"
      ],
      "text/plain": [
       "<IPython.core.display.HTML object>"
      ]
     },
     "metadata": {},
     "output_type": "display_data"
    },
    {
     "name": "stdout",
     "output_type": "stream",
     "text": [
      "Q: This is bullshit\n",
      "#################\n",
      "\n",
      "\n",
      "\n",
      "319 / 86051\n",
      "Coronavirus\n",
      "--------------------\n"
     ]
    },
    {
     "data": {
      "text/html": [
       "<b>china reveals 1,541 asymptomatic <mark>covid</mark>-19 cases amid concerns of second wave of infections</b>"
      ],
      "text/plain": [
       "<IPython.core.display.HTML object>"
      ]
     },
     "metadata": {},
     "output_type": "display_data"
    },
    {
     "name": "stdout",
     "output_type": "stream",
     "text": [
      "URL: https://economictimes.indiatimes.com/news/international/world-news/china-reveals-1541-asymptomatic-covid-19-cases-amid-concerns-of-second-wave-of-infections/articleshow/74928944.cms \n",
      "Published: 2020-04-01 19:04:48. \n"
     ]
    },
    {
     "data": {
      "text/html": [
       "<mark>bullshit</mark>. they probably deleted a couple of zeroes in that number."
      ],
      "text/plain": [
       "<IPython.core.display.HTML object>"
      ]
     },
     "metadata": {},
     "output_type": "display_data"
    },
    {
     "name": "stdout",
     "output_type": "stream",
     "text": [
      "Q: Bullshit\n",
      "#####################\n",
      "\n",
      "\n",
      "\n",
      "320 / 87093\n",
      "Coronavirus\n",
      "--------------------\n"
     ]
    },
    {
     "data": {
      "text/html": [
       "<b>florida <mark>coronav</mark>irus update for wednesday: desantis announces 30-day stay-home order for florida</b>"
      ],
      "text/plain": [
       "<IPython.core.display.HTML object>"
      ]
     },
     "metadata": {},
     "output_type": "display_data"
    },
    {
     "name": "stdout",
     "output_type": "stream",
     "text": [
      "URL: https://www.orlandosentinel.com/coronavirus/os-ne-coronavirus-wednesday-april-1-20200401-raenkr4geretro4yv27lypcjii-story.html \n",
      "Published: 2020-04-01 17:53:12. \n"
     ]
    },
    {
     "data": {
      "text/html": [
       "literally everything is open. wtf is meaning of a lockdown then. this is <mark>bs</mark>. i don't want to die because some stupid joe can't get his pizza or get his car fixed."
      ],
      "text/plain": [
       "<IPython.core.display.HTML object>"
      ]
     },
     "metadata": {},
     "output_type": "display_data"
    },
    {
     "name": "stdout",
     "output_type": "stream",
     "text": [
      "Q: This is BS\n",
      "#############################\n",
      "\n",
      "\n",
      "\n",
      "321 / 88516\n",
      "Coronavirus\n",
      "--------------------\n"
     ]
    },
    {
     "data": {
      "text/html": [
       "<b>dna make up of locally-transmitted <mark>coronav</mark>irus in pakistan may have mutations, say experts</b>"
      ],
      "text/plain": [
       "<IPython.core.display.HTML object>"
      ]
     },
     "metadata": {},
     "output_type": "display_data"
    },
    {
     "name": "stdout",
     "output_type": "stream",
     "text": [
      "URL: https://www.dawn.com/news/1545583 \n",
      "Published: 2020-04-01 16:11:05. \n"
     ]
    },
    {
     "data": {
      "text/html": [
       "coronaviruses are rna viruses. this sounds <mark>bs</mark>."
      ],
      "text/plain": [
       "<IPython.core.display.HTML object>"
      ]
     },
     "metadata": {},
     "output_type": "display_data"
    },
    {
     "name": "stdout",
     "output_type": "stream",
     "text": [
      "Q: This sounds BS\n",
      "###\n",
      "\n",
      "\n",
      "\n",
      "322 / 88696\n",
      "Coronavirus\n",
      "--------------------\n"
     ]
    },
    {
     "data": {
      "text/html": [
       "<b>cuomo on prime time: what it's like to have <mark>covid</mark>-19 - cnn video</b>"
      ],
      "text/plain": [
       "<IPython.core.display.HTML object>"
      ]
     },
     "metadata": {},
     "output_type": "display_data"
    },
    {
     "name": "stdout",
     "output_type": "stream",
     "text": [
      "URL: https://www.cnn.com/videos/media/2020/04/01/chris-cuomo-on-having-coronavirus-cpt-vpx.cnn \n",
      "Published: 2020-04-01 15:52:46. \n"
     ]
    },
    {
     "data": {
      "text/html": [
       "i watched his show for the first time last night.  i thought his interview with the young medical worker from dougherty county, ga, was appalling. it wasn't <mark>news</mark> based, he was simply trying to get an emotional reaction out of her for ratings.  not once did he even mention the fact that dougherty county is one of the hardest hit per capita counties in the entire country, which is the actual story.\n",
       "\n",
       "she did get a little choked up but recovered and handled it brilliantly.  it was <mark>bullshit</mark>, though.\n",
       "\n",
       "\\*i've looked, i cant find the interview."
      ],
      "text/plain": [
       "<IPython.core.display.HTML object>"
      ]
     },
     "metadata": {},
     "output_type": "display_data"
    },
    {
     "name": "stdout",
     "output_type": "stream",
     "text": [
      "Q: It was bullshit\n",
      "######\n",
      "\n",
      "\n",
      "\n",
      "323 / 88980\n",
      "politics\n",
      "--------------------\n"
     ]
    },
    {
     "data": {
      "text/html": [
       "<b>the new labor movement that's being inspired by the <mark>coronav</mark>irus</b>"
      ],
      "text/plain": [
       "<IPython.core.display.HTML object>"
      ]
     },
     "metadata": {},
     "output_type": "display_data"
    },
    {
     "name": "stdout",
     "output_type": "stream",
     "text": [
      "URL: https://www.axios.com/coronavirus-labor-movement-activism-fbf05525-5ace-42de-b74e-5d455692e61d.html?utm_source=newsletter&utm_medium=email&utm_campaign=newsletter_axiosam&stream=top \n",
      "Published: 2020-04-01 15:28:53. \n"
     ]
    },
    {
     "data": {
      "text/html": [
       "this is more of a bulleted summary of events.  very little in the way of conclusions.  <mark>title</mark> feels <mark>misleading</mark>."
      ],
      "text/plain": [
       "<IPython.core.display.HTML object>"
      ]
     },
     "metadata": {},
     "output_type": "display_data"
    },
    {
     "name": "stdout",
     "output_type": "stream",
     "text": [
      "Q: Title feels misleading\n",
      "###########\n",
      "\n",
      "\n",
      "\n",
      "324 / 89508\n",
      "politics\n",
      "--------------------\n"
     ]
    },
    {
     "data": {
      "text/html": [
       "<b>should networks stop airing trump’s falsehood-filled <mark>coronav</mark>irus briefings?</b>"
      ],
      "text/plain": [
       "<IPython.core.display.HTML object>"
      ]
     },
     "metadata": {},
     "output_type": "display_data"
    },
    {
     "name": "stdout",
     "output_type": "stream",
     "text": [
      "URL: https://nymag.com/intelligencer/2020/04/should-networks-stop-airing-trumps-coronavirus-briefings.html \n",
      "Published: 2020-04-01 14:59:06. \n"
     ]
    },
    {
     "data": {
      "text/html": [
       "after that mypillow guy <mark>bullshit</mark> absolutely. fact check it then air the relevant parts."
      ],
      "text/plain": [
       "<IPython.core.display.HTML object>"
      ]
     },
     "metadata": {},
     "output_type": "display_data"
    },
    {
     "name": "stdout",
     "output_type": "stream",
     "text": [
      "Q: bullshit\n"
     ]
    },
    {
     "data": {
      "text/html": [
       "stopped watching any tv during those briefings. no bad <mark>news</mark>. no <mark>bullshit</mark>. no lies. i wait until after the briefing to listen to the analysts point out the new lies the idiot said. added benefit - don’t have to listen to ceo of the day."
      ],
      "text/plain": [
       "<IPython.core.display.HTML object>"
      ]
     },
     "metadata": {},
     "output_type": "display_data"
    },
    {
     "name": "stdout",
     "output_type": "stream",
     "text": [
      "Q: bullshit\n",
      "#\n",
      "\n",
      "\n",
      "\n",
      "326 / 89554\n",
      "worldnews\n",
      "--------------------\n"
     ]
    },
    {
     "data": {
      "text/html": [
       "<b><mark>coronav</mark>irus: us and uk hospitals threaten to fire workers who speak to media</b>"
      ],
      "text/plain": [
       "<IPython.core.display.HTML object>"
      ]
     },
     "metadata": {},
     "output_type": "display_data"
    },
    {
     "name": "stdout",
     "output_type": "stream",
     "text": [
      "URL: https://www.businessinsider.com/coroanvirus-hospital-health-workers-speaking-to-media-threatened-lose-job-2020-4 \n",
      "Published: 2020-04-01 14:57:06. \n"
     ]
    },
    {
     "data": {
      "text/html": [
       "<mark>bs</mark>. call their bluff. they need every single person in this fight."
      ],
      "text/plain": [
       "<IPython.core.display.HTML object>"
      ]
     },
     "metadata": {},
     "output_type": "display_data"
    },
    {
     "name": "stdout",
     "output_type": "stream",
     "text": [
      "Q: BS\n"
     ]
    },
    {
     "data": {
      "text/html": [
       "businessinsider = <mark>bullshit</mark>\n",
       "\n",
       "seriously, every story is anti-us or anti-uk.\n",
       "\n",
       "where are they coming from?"
      ],
      "text/plain": [
       "<IPython.core.display.HTML object>"
      ]
     },
     "metadata": {},
     "output_type": "display_data"
    },
    {
     "name": "stdout",
     "output_type": "stream",
     "text": [
      "Q: Bullshit\n",
      "####\n",
      "\n",
      "\n",
      "\n",
      "328 / 89789\n",
      "worldpolitics\n",
      "--------------------\n"
     ]
    },
    {
     "data": {
      "text/html": [
       "<b>trump warns about <mark>coronav</mark>irus and pelosi rips up warning!</b>"
      ],
      "text/plain": [
       "<IPython.core.display.HTML object>"
      ]
     },
     "metadata": {},
     "output_type": "display_data"
    },
    {
     "name": "stdout",
     "output_type": "stream",
     "text": [
      "URL: https://www.reddit.com/r/worldpolitics/comments/ft0x85/trump_warns_about_coronavirus_and_pelosi_rips_up/ \n",
      "Published: 2020-04-01 14:35:57. \n"
     ]
    },
    {
     "data": {
      "text/html": [
       "more <mark>misinformation</mark> from the cult of lunatics."
      ],
      "text/plain": [
       "<IPython.core.display.HTML object>"
      ]
     },
     "metadata": {},
     "output_type": "display_data"
    },
    {
     "name": "stdout",
     "output_type": "stream",
     "text": [
      "Q: misinformation\n",
      "###\n",
      "\n",
      "\n",
      "\n",
      "329 / 89922\n",
      "Coronavirus\n",
      "--------------------\n"
     ]
    },
    {
     "data": {
      "text/html": [
       "<b><mark>coronav</mark>irus is the no. 3 cause of death in the u.s., after heart disease and cancer</b>"
      ],
      "text/plain": [
       "<IPython.core.display.HTML object>"
      ]
     },
     "metadata": {},
     "output_type": "display_data"
    },
    {
     "name": "stdout",
     "output_type": "stream",
     "text": [
      "URL: https://www.newsweek.com/coronavirus-no-3-cause-death-us-after-heart-disease-cancer-1495506 \n",
      "Published: 2020-04-01 14:25:04. \n"
     ]
    },
    {
     "data": {
      "text/html": [
       "this could be a <mark>misleading</mark> <mark>title</mark>.."
      ],
      "text/plain": [
       "<IPython.core.display.HTML object>"
      ]
     },
     "metadata": {},
     "output_type": "display_data"
    },
    {
     "name": "stdout",
     "output_type": "stream",
     "text": [
      "Q: This be misleading title\n",
      "##\n",
      "\n",
      "\n",
      "\n",
      "330 / 90003\n",
      "Coronavirus\n",
      "--------------------\n"
     ]
    },
    {
     "data": {
      "text/html": [
       "<b>a nurse worked for a week while infected with the <mark>coronav</mark>irus. the hospital wasn’t testing staff.</b>"
      ],
      "text/plain": [
       "<IPython.core.display.HTML object>"
      ]
     },
     "metadata": {},
     "output_type": "display_data"
    },
    {
     "name": "stdout",
     "output_type": "stream",
     "text": [
      "URL: https://www.wvlt.tv/content/news/A-nurse-worked-for-a-week-while-infected-with-the-coronavirus-The-hospital-wasnt-testing-staff-569279801.html \n",
      "Published: 2020-04-01 14:22:25. \n"
     ]
    },
    {
     "data": {
      "text/html": [
       "sooo... how do we know she had it for a week? <mark>fake</mark> <mark>news</mark>."
      ],
      "text/plain": [
       "<IPython.core.display.HTML object>"
      ]
     },
     "metadata": {},
     "output_type": "display_data"
    },
    {
     "name": "stdout",
     "output_type": "stream",
     "text": [
      "Q: fake news\n",
      "############\n",
      "\n",
      "\n",
      "\n",
      "331 / 90612\n",
      "politics\n",
      "--------------------\n"
     ]
    },
    {
     "data": {
      "text/html": [
       "<b>trump’s cuts to food stamps almost made the <mark>pandemi</mark>c worse</b>"
      ],
      "text/plain": [
       "<IPython.core.display.HTML object>"
      ]
     },
     "metadata": {},
     "output_type": "display_data"
    },
    {
     "name": "stdout",
     "output_type": "stream",
     "text": [
      "URL: https://www.thenation.com/article/politics/trump-food-stamps/ \n",
      "Published: 2020-04-01 13:29:03. \n"
     ]
    },
    {
     "data": {
      "text/html": [
       "whats with this almost <mark>bs</mark>. they undoubtedly made it worse"
      ],
      "text/plain": [
       "<IPython.core.display.HTML object>"
      ]
     },
     "metadata": {},
     "output_type": "display_data"
    },
    {
     "name": "stdout",
     "output_type": "stream",
     "text": [
      "Q: bs\n",
      "##########\n",
      "\n",
      "\n",
      "\n",
      "332 / 91135\n",
      "politics\n",
      "--------------------\n"
     ]
    },
    {
     "data": {
      "text/html": [
       "<b>trump said <mark>coronav</mark>irus would 'miraculously' be gone by april. well, it's april.</b>"
      ],
      "text/plain": [
       "<IPython.core.display.HTML object>"
      ]
     },
     "metadata": {},
     "output_type": "display_data"
    },
    {
     "name": "stdout",
     "output_type": "stream",
     "text": [
      "URL: https://www.huffpost.com/entry/trump-coronavirus-gone-april_n_5e7b6886c5b6b7d8095959c2 \n",
      "Published: 2020-04-01 12:46:34. \n"
     ]
    },
    {
     "data": {
      "text/html": [
       "<mark>fake</mark> <mark>news</mark>.  /s"
      ],
      "text/plain": [
       "<IPython.core.display.HTML object>"
      ]
     },
     "metadata": {},
     "output_type": "display_data"
    },
    {
     "name": "stdout",
     "output_type": "stream",
     "text": [
      "Q: fake news\n",
      "###########\n",
      "\n",
      "\n",
      "\n",
      "333 / 91689\n",
      "Coronavirus\n",
      "--------------------\n"
     ]
    },
    {
     "data": {
      "text/html": [
       "<b>2000+ people meet in a building in delhi,india despite of <mark>covid</mark>-19 lockdown and made positive cases of india from 1000 to 1700. also they all travelled to different states in whole india in trains and buses putting more people in danger</b>"
      ],
      "text/plain": [
       "<IPython.core.display.HTML object>"
      ]
     },
     "metadata": {},
     "output_type": "display_data"
    },
    {
     "name": "stdout",
     "output_type": "stream",
     "text": [
      "URL: https://www.indiatoday.in/mail-today/story/coronavirus-in-india-tablighi-jamaat-meet-turns-covid-19-super-spreader-1661958-2020-04-01 \n",
      "Published: 2020-04-01 11:50:41. \n"
     ]
    },
    {
     "data": {
      "text/html": [
       "<mark>title</mark> is a bit <mark>misleading</mark>. the meeting happened before nation-wide lockdown orders were issued. there may have been a delhi-state order against gatherings of more than 200 people (this is unclear if it was in effect at the time of the gathering).\n",
       "\n",
       "however, the rest is quite accurate. this is indeed a super spreader event. the number of cases almost doubled due to attendees from this single event. \n",
       "\n",
       "in addition, not all of the attendees have been traceable, and despite calls put out by various state governments for individuals who visited the event, to come forward themselves, a lot of people remain unaccounted for."
      ],
      "text/plain": [
       "<IPython.core.display.HTML object>"
      ]
     },
     "metadata": {},
     "output_type": "display_data"
    },
    {
     "name": "stdout",
     "output_type": "stream",
     "text": [
      "Q: Title is misleading\n",
      "\n",
      "\n",
      "\n",
      "\n",
      "334 / 91698\n",
      "politics\n",
      "--------------------\n"
     ]
    },
    {
     "data": {
      "text/html": [
       "<b>joe biden is wrong about single-payer and <mark>coronav</mark>irus -the ranks of the uninsured are growing, and people are already dying from a lack of coverage. yet joe biden says <mark>coronav</mark>irus has nothing to do with medicare for all. he’s wrong: its time has come.</b>"
      ],
      "text/plain": [
       "<IPython.core.display.HTML object>"
      ]
     },
     "metadata": {},
     "output_type": "display_data"
    },
    {
     "name": "stdout",
     "output_type": "stream",
     "text": [
      "URL: https://jacobinmag.com/2020/03/coronavirus-joe-biden-m4a-medicare-for-all-covid \n",
      "Published: 2020-04-01 11:48:06. \n"
     ]
    },
    {
     "data": {
      "text/html": [
       "fucking <mark>bullshit</mark>.\n",
       "\n",
       "m4a isn't the best or only way to get to universal coverage, and as the person who helped pass the largest expansion of healthcare in **two** generations biden is uniquely qualified to do it."
      ],
      "text/plain": [
       "<IPython.core.display.HTML object>"
      ]
     },
     "metadata": {},
     "output_type": "display_data"
    },
    {
     "name": "stdout",
     "output_type": "stream",
     "text": [
      "Q: bullshit\n",
      "#####\n",
      "\n",
      "\n",
      "\n",
      "335 / 91940\n",
      "Coronavirus\n",
      "--------------------\n"
     ]
    },
    {
     "data": {
      "text/html": [
       "<b>u.s. buys masks from china while criticizing it for <mark>covid</mark>-19</b>"
      ],
      "text/plain": [
       "<IPython.core.display.HTML object>"
      ]
     },
     "metadata": {},
     "output_type": "display_data"
    },
    {
     "name": "stdout",
     "output_type": "stream",
     "text": [
      "URL: https://www.kuow.org/stories/u-s-buys-masks-from-china-while-criticizing-it-for-covid-19 \n",
      "Published: 2020-04-01 11:33:51. \n"
     ]
    },
    {
     "data": {
      "text/html": [
       "<mark>fake</mark> <mark>news</mark>."
      ],
      "text/plain": [
       "<IPython.core.display.HTML object>"
      ]
     },
     "metadata": {},
     "output_type": "display_data"
    },
    {
     "name": "stdout",
     "output_type": "stream",
     "text": [
      "Q: fake news\n",
      "#####\n",
      "\n",
      "\n",
      "\n",
      "336 / 92188\n",
      "worldnews\n",
      "--------------------\n"
     ]
    },
    {
     "data": {
      "text/html": [
       "<b>pakistan <mark>coronav</mark>irus news: discrimination amid <mark>pandemi</mark>c, pakistan refuses to give food to hindus as <mark>coronav</mark>irus rages | world news - times of india</b>"
      ],
      "text/plain": [
       "<IPython.core.display.HTML object>"
      ]
     },
     "metadata": {},
     "output_type": "display_data"
    },
    {
     "name": "stdout",
     "output_type": "stream",
     "text": [
      "URL: https://timesofindia.indiatimes.com/world/pakistan/discrimination-amid-pandemic-pakistan-refuses-to-give-food-to-hindus-as-coronavirus-rages/articleshow/74926907.cms?from=mdr \n",
      "Published: 2020-04-01 10:59:22. \n"
     ]
    },
    {
     "data": {
      "text/html": [
       "hahaha <mark>fake</mark> <mark>news</mark> by bollywood media <mark>news</mark>. saw the so called video and clearly the editing was made to make it look like the woman was hindu when in reality, she was being discriminated because she was a poor village woman."
      ],
      "text/plain": [
       "<IPython.core.display.HTML object>"
      ]
     },
     "metadata": {},
     "output_type": "display_data"
    },
    {
     "name": "stdout",
     "output_type": "stream",
     "text": [
      "Q: fake news\n",
      "######\n",
      "\n",
      "\n",
      "\n",
      "337 / 92455\n",
      "worldnews\n",
      "--------------------\n"
     ]
    },
    {
     "data": {
      "text/html": [
       "<b>asia may have been right about <mark>coronav</mark>irus and face masks, and the rest of the world is coming around</b>"
      ],
      "text/plain": [
       "<IPython.core.display.HTML object>"
      ]
     },
     "metadata": {},
     "output_type": "display_data"
    },
    {
     "name": "stdout",
     "output_type": "stream",
     "text": [
      "URL: https://edition.cnn.com/2020/04/01/asia/coronavirus-mask-messaging-intl-hnk/index.html \n",
      "Published: 2020-04-01 10:18:21. \n"
     ]
    },
    {
     "data": {
      "text/html": [
       "this is <mark>misleading</mark>.\n",
       "\n",
       "surgical masks do **absolutely nothing** to prevent contraction or communication of any virus. this is because viruses are so small that they pass right through the filters as easily as you'd between earth and mars. surgical masks were never meant to stop anything but your drool from falling into  a patient during surgery. \n",
       "\n",
       "some people argue that \"well, they catch air droplets. sure but those actually aren't the ones you're worried about. anything large enough to not make it through the standard surgical mask is heavy enough that even if it could get through, it would fall to the ground fairly quickly. \n",
       "\n",
       "you need a mask that's flush with your skin and is designed to stop viral transmissions. **there is a difference** between masks and what they do. \n",
       "\n",
       "most people in asia as well as most of the world *are not* wearing the kind they need. surgical masks only give you a <mark>false</mark> sense of security. that's it. that's all they do."
      ],
      "text/plain": [
       "<IPython.core.display.HTML object>"
      ]
     },
     "metadata": {},
     "output_type": "display_data"
    },
    {
     "name": "stdout",
     "output_type": "stream",
     "text": [
      "Q: This is misleading\n",
      "####\n",
      "\n",
      "\n",
      "\n",
      "338 / 92671\n",
      "europe\n",
      "--------------------\n"
     ]
    },
    {
     "data": {
      "text/html": [
       "<b>if <mark>coronav</mark>irus sinks the eurozone, the 'frugal four' will be to blame</b>"
      ],
      "text/plain": [
       "<IPython.core.display.HTML object>"
      ]
     },
     "metadata": {},
     "output_type": "display_data"
    },
    {
     "name": "stdout",
     "output_type": "stream",
     "text": [
      "URL: https://www.theguardian.com/world/commentisfree/2020/mar/31/solidarity-members-eurozone-coronavirus-dutch-coronabond \n",
      "Published: 2020-04-01 09:24:58. \n"
     ]
    },
    {
     "data": {
      "text/html": [
       "<mark>bullshit</mark>. accepting all demands of the south will _also_ lead to the end of the eurozone, by triggering more country exits.\n",
       "\n",
       "politicians need to do politics and find a _good_ compromise."
      ],
      "text/plain": [
       "<IPython.core.display.HTML object>"
      ]
     },
     "metadata": {},
     "output_type": "display_data"
    },
    {
     "name": "stdout",
     "output_type": "stream",
     "text": [
      "Q: Bullshit\n",
      "#\n",
      "\n",
      "\n",
      "\n",
      "339 / 92742\n",
      "politics\n",
      "--------------------\n"
     ]
    },
    {
     "data": {
      "text/html": [
       "<b>trump says friend in coma from <mark>covid</mark>-19</b>"
      ],
      "text/plain": [
       "<IPython.core.display.HTML object>"
      ]
     },
     "metadata": {},
     "output_type": "display_data"
    },
    {
     "name": "stdout",
     "output_type": "stream",
     "text": [
      "URL: https://www.washingtontimes.com/news/2020/mar/30/donald-trump-friend-coma-coronavirus/ \n",
      "Published: 2020-04-01 09:04:35. \n"
     ]
    },
    {
     "data": {
      "text/html": [
       "he has a friend?\n",
       "\n",
       "<mark>fake</mark> <mark>news</mark>."
      ],
      "text/plain": [
       "<IPython.core.display.HTML object>"
      ]
     },
     "metadata": {},
     "output_type": "display_data"
    },
    {
     "name": "stdout",
     "output_type": "stream",
     "text": [
      "Q: fake news\n",
      "##\n",
      "\n",
      "\n",
      "\n",
      "340 / 92849\n",
      "Coronavirus\n",
      "--------------------\n"
     ]
    },
    {
     "data": {
      "text/html": [
       "<b>discrimination amid <mark>pandemi</mark>c: pakistan deny food supplies to hindus, christians as <mark>coronav</mark>irus rages.</b>"
      ],
      "text/plain": [
       "<IPython.core.display.HTML object>"
      ]
     },
     "metadata": {},
     "output_type": "display_data"
    },
    {
     "name": "stdout",
     "output_type": "stream",
     "text": [
      "URL: https://www.newindianexpress.com/world/2020/apr/01/discrimination-amid-pandemic-pakistan-deny-food-supplies-to-hindus-christians-as-coronavirus-rages-2124304.html \n",
      "Published: 2020-04-01 08:45:39. \n"
     ]
    },
    {
     "data": {
      "text/html": [
       "this is <mark>fake</mark> <mark>news</mark>. i'm from pakistan and this is not happening anywhere. we would never do this, especially in a time like this. indian media is known for their wacky made up <mark>bullshit</mark>. i don't even want to start on what india is doing to muslims."
      ],
      "text/plain": [
       "<IPython.core.display.HTML object>"
      ]
     },
     "metadata": {},
     "output_type": "display_data"
    },
    {
     "name": "stdout",
     "output_type": "stream",
     "text": [
      "Q: This is fake news\n",
      "#####\n",
      "\n",
      "\n",
      "\n",
      "341 / 93070\n",
      "europe\n",
      "--------------------\n"
     ]
    },
    {
     "data": {
      "text/html": [
       "<b><mark>coronav</mark>irus test kits shipped to the uk found to be contaminated with <mark>coronav</mark>irus. (seriously)</b>"
      ],
      "text/plain": [
       "<IPython.core.display.HTML object>"
      ]
     },
     "metadata": {},
     "output_type": "display_data"
    },
    {
     "name": "stdout",
     "output_type": "stream",
     "text": [
      "URL: https://www.msn.com/en-nz/news/world/coronavirus-testing-kits-heading-to-the-uk-found-to-be-contaminated-with-covid-19/ar-BB11YhSx?li=BBqdg4K \n",
      "Published: 2020-04-01 08:00:21. \n"
     ]
    },
    {
     "data": {
      "text/html": [
       "the <mark>article</mark> said nothing about the test kits already being shipped.. <mark>misleading</mark> <mark>title</mark>?"
      ],
      "text/plain": [
       "<IPython.core.display.HTML object>"
      ]
     },
     "metadata": {},
     "output_type": "display_data"
    },
    {
     "name": "stdout",
     "output_type": "stream",
     "text": [
      "Q: misleading title\n",
      "#\n",
      "\n",
      "\n",
      "\n",
      "342 / 93102\n",
      "Coronavirus\n",
      "--------------------\n"
     ]
    },
    {
     "data": {
      "text/html": [
       "<b>how china unleashed twitter bots to spread <mark>covid</mark>-19 propaganda in italy</b>"
      ],
      "text/plain": [
       "<IPython.core.display.HTML object>"
      ]
     },
     "metadata": {},
     "output_type": "display_data"
    },
    {
     "name": "stdout",
     "output_type": "stream",
     "text": [
      "URL: https://formiche.net/2020/03/china-unleashed-twitter-bots-covid19-propaganda-italy/ \n",
      "Published: 2020-04-01 07:57:12. \n"
     ]
    },
    {
     "data": {
      "text/html": [
       " if chinese officials really had this ability, people all over the world would not be scolding china.   <mark>fake</mark> <mark>news</mark> \\~"
      ],
      "text/plain": [
       "<IPython.core.display.HTML object>"
      ]
     },
     "metadata": {},
     "output_type": "display_data"
    },
    {
     "name": "stdout",
     "output_type": "stream",
     "text": [
      "Q: fake news\n",
      "#\n",
      "\n",
      "\n",
      "\n",
      "343 / 93195\n",
      "Coronavirus\n",
      "--------------------\n"
     ]
    },
    {
     "data": {
      "text/html": [
       "<b>cyber version of 'justice league' launches to fight <mark>covid</mark>-19 related hacks | goal is to help organizations - especially healthcare entities - protect against cybercriminals trying to take advantage of the <mark>pandemi</mark>c.</b>"
      ],
      "text/plain": [
       "<IPython.core.display.HTML object>"
      ]
     },
     "metadata": {},
     "output_type": "display_data"
    },
    {
     "name": "stdout",
     "output_type": "stream",
     "text": [
      "URL: https://www.darkreading.com/attacks-breaches/cyber-version-of-justice-league-launches-to-fight-covid-19-related-hacks-/d/d-id/1337424 \n",
      "Published: 2020-04-01 07:37:41. \n"
     ]
    },
    {
     "data": {
      "text/html": [
       "<mark>title</mark> is  rather <mark>misleading</mark>.\n",
       "\n",
       "a number of large companies are taking cyber-security in their own hands and protecting (some) health-related companies against hacking attacks.\n",
       "\n",
       "i believe it's a good thing in this time of crisis. i also believe that, once the crisis is over, this must be replaced by something official governed by clear laws and responsibilities. otherwise, we'll just end  up with a private consortium who gets to decide who's protected and who's not."
      ],
      "text/plain": [
       "<IPython.core.display.HTML object>"
      ]
     },
     "metadata": {},
     "output_type": "display_data"
    },
    {
     "name": "stdout",
     "output_type": "stream",
     "text": [
      "Q: Title is misleading\n",
      "##\n",
      "\n",
      "\n",
      "\n",
      "344 / 93284\n",
      "Coronavirus\n",
      "--------------------\n"
     ]
    },
    {
     "data": {
      "text/html": [
       "<b>supermarket chain kroger announces $2 \"hero bonus\" for staff members working during <mark>epidemi</mark>c</b>"
      ],
      "text/plain": [
       "<IPython.core.display.HTML object>"
      ]
     },
     "metadata": {},
     "output_type": "display_data"
    },
    {
     "name": "stdout",
     "output_type": "stream",
     "text": [
      "URL: https://edition.cnn.com/world/live-news/coronavirus-pandemic-04-01-20-intl/h_8db8fe7378e45153f2089a7837e024d9 \n",
      "Published: 2020-04-01 07:06:48. \n"
     ]
    },
    {
     "data": {
      "text/html": [
       "<mark>misleading</mark> <mark>article</mark>. it’s $2 per hour. for a person that works 40 hrs per week, an extra $80 per week isn’t chump change. good for them."
      ],
      "text/plain": [
       "<IPython.core.display.HTML object>"
      ]
     },
     "metadata": {},
     "output_type": "display_data"
    },
    {
     "name": "stdout",
     "output_type": "stream",
     "text": [
      "Q: misleading article\n",
      "##\n",
      "\n",
      "\n",
      "\n",
      "345 / 93375\n",
      "politics\n",
      "--------------------\n"
     ]
    },
    {
     "data": {
      "text/html": [
       "<b>joe biden casts doubt on holding democratic convention as planned amid <mark>coronav</mark>irus outbreak</b>"
      ],
      "text/plain": [
       "<IPython.core.display.HTML object>"
      ]
     },
     "metadata": {},
     "output_type": "display_data"
    },
    {
     "name": "stdout",
     "output_type": "stream",
     "text": [
      "URL: https://www.axios.com/biden-doubts-democratic-convention-can-go-ahead-as-planned-amid-outbreak-2d366b5b-399f-4325-a7bd-3e71cf8a6eba.html \n",
      "Published: 2020-04-01 06:54:29. \n"
     ]
    },
    {
     "data": {
      "text/html": [
       "the <mark>title</mark> of this post is a little <mark>misleading</mark>...from the <mark>article</mark>:\n",
       "\n",
       ">what he's saying: during his interview with msnbc's brian williams, the former vice president said there's \"no rationale for eliminating or delaying the election.\" he noted political conventions and elections took place during the civil war \"all the way through to world war ii\" and said it's important to \"listen to the scientists\" on the issue.\n",
       "\n",
       ">\"this is about making sure that we’re able to conduct our democracy while we’re dealing with a pandemic. we can do both,\" biden said.\n",
       "\"it may mean a difference in the way we do it, it may mean that social distancing doesn’t get it done, it may mean you have a circumstance where you have drive-in voting ... there’s a lot of ways to do it, but we should be talking about it now.\""
      ],
      "text/plain": [
       "<IPython.core.display.HTML object>"
      ]
     },
     "metadata": {},
     "output_type": "display_data"
    },
    {
     "name": "stdout",
     "output_type": "stream",
     "text": [
      "Q: title is misleading\n",
      "#########\n",
      "\n",
      "\n",
      "\n",
      "346 / 93839\n",
      "Coronavirus\n",
      "--------------------\n"
     ]
    },
    {
     "data": {
      "text/html": [
       "<b>professor gita ramjee, world-renowned hiv scientist, dies of <mark>covid</mark>-19 complications</b>"
      ],
      "text/plain": [
       "<IPython.core.display.HTML object>"
      ]
     },
     "metadata": {},
     "output_type": "display_data"
    },
    {
     "name": "stdout",
     "output_type": "stream",
     "text": [
      "URL: https://www.dailymaverick.co.za/article/2020-04-01-professor-gita-ramjee-world-renowned-hiv-scientist-dies-of-covid-19-complications/ \n",
      "Published: 2020-04-01 05:20:08. \n"
     ]
    },
    {
     "data": {
      "text/html": [
       "alright that’s it fuck this virus \n",
       "\n",
       "taking out intelligent scientists? that’s absolute <mark>bullshit</mark>."
      ],
      "text/plain": [
       "<IPython.core.display.HTML object>"
      ]
     },
     "metadata": {},
     "output_type": "display_data"
    },
    {
     "name": "stdout",
     "output_type": "stream",
     "text": [
      "Q: bullshit\n",
      "#\n",
      "\n",
      "\n",
      "\n",
      "347 / 93899\n",
      "politics\n",
      "--------------------\n"
     ]
    },
    {
     "data": {
      "text/html": [
       "<b>trump shifted on <mark>covid</mark>-19 after seeing new york morgue trucks on cable news, listening to dr. fauci</b>"
      ],
      "text/plain": [
       "<IPython.core.display.HTML object>"
      ]
     },
     "metadata": {},
     "output_type": "display_data"
    },
    {
     "name": "stdout",
     "output_type": "stream",
     "text": [
      "URL: https://theweek.com/speedreads/906080/trump-shifted-covid19-after-seeing-new-york-morgue-trucks-cable-news-listening-dr-fauci \n",
      "Published: 2020-04-01 05:14:35. \n"
     ]
    },
    {
     "data": {
      "text/html": [
       "<mark>bullshit</mark> with a capital b.\n",
       "\n",
       "impotus 45 doesn't give a rat's ass about anything other than himself.\n",
       "\n",
       "end of discussion.\n",
       "\n",
       "full stop."
      ],
      "text/plain": [
       "<IPython.core.display.HTML object>"
      ]
     },
     "metadata": {},
     "output_type": "display_data"
    },
    {
     "name": "stdout",
     "output_type": "stream",
     "text": [
      "Q: Bullshit\n",
      "#############\n",
      "\n",
      "\n",
      "\n",
      "348 / 94502\n",
      "Coronavirus\n",
      "--------------------\n"
     ]
    },
    {
     "data": {
      "text/html": [
       "<b>ostrich antibodies to block <mark>covid</mark>-19 virus - ostrich pharma</b>"
      ],
      "text/plain": [
       "<IPython.core.display.HTML object>"
      ]
     },
     "metadata": {},
     "output_type": "display_data"
    },
    {
     "name": "stdout",
     "output_type": "stream",
     "text": [
      "URL: https://www.teletrader.com/ostrich-antibodies-to-block-covid-19-virus-ostrich-pharma/news/details/51718514?internal=1 \n",
      "Published: 2020-04-01 03:42:01. \n"
     ]
    },
    {
     "data": {
      "text/html": [
       "birds aren’t real. <mark>fake</mark> <mark>news</mark>"
      ],
      "text/plain": [
       "<IPython.core.display.HTML object>"
      ]
     },
     "metadata": {},
     "output_type": "display_data"
    },
    {
     "name": "stdout",
     "output_type": "stream",
     "text": [
      "Q: fake news\n",
      "########\n",
      "\n",
      "\n",
      "\n",
      "349 / 94917\n",
      "Coronavirus\n",
      "--------------------\n"
     ]
    },
    {
     "data": {
      "text/html": [
       "<b>china hints that its <mark>coronav</mark>irus data doesn’t paint full picture.maybe our numbers aren’t entirely giving the full picture of the <mark>coronav</mark>irus, china health officials said on tuesday.</b>"
      ],
      "text/plain": [
       "<IPython.core.display.HTML object>"
      ]
     },
     "metadata": {},
     "output_type": "display_data"
    },
    {
     "name": "stdout",
     "output_type": "stream",
     "text": [
      "URL: https://www.forbes.com/sites/kenrapoza/2020/03/31/china-hints-that-its-coronavirus-data-doesnt-paint-full-picture/#12ab7d2d58de \n",
      "Published: 2020-04-01 03:05:45. \n"
     ]
    },
    {
     "data": {
      "text/html": [
       "what a <mark>misleading</mark> <mark>article</mark>. there were debate about whether asymptomatic people were actually <mark>false</mark> positive back in january and they were a minority anyway. most asymptomatic people eventually developed symptoms within 14 days. despite all that, the papers from january is more than enough for epidemiologists around around the world to understand the severity of the disease. if there's something wrong with early data, how did south korea took it seriously and contained their outbreak? governments around the world are trying to deflect the blame from their choices to bury their head in the sand."
      ],
      "text/plain": [
       "<IPython.core.display.HTML object>"
      ]
     },
     "metadata": {},
     "output_type": "display_data"
    },
    {
     "name": "stdout",
     "output_type": "stream",
     "text": [
      "Q: misleading article\n",
      "\n",
      "\n",
      "\n",
      "\n",
      "350 / 94950\n",
      "politics\n",
      "--------------------\n"
     ]
    },
    {
     "data": {
      "text/html": [
       "<b>gerth: mitch mcconnell admits that trump mishandled <mark>coronav</mark>irus response</b>"
      ],
      "text/plain": [
       "<IPython.core.display.HTML object>"
      ]
     },
     "metadata": {},
     "output_type": "display_data"
    },
    {
     "name": "stdout",
     "output_type": "stream",
     "text": [
      "URL: https://www.courier-journal.com/story/news/local/joseph-gerth/2020/03/31/mitch-mcconnell-admits-trump-mishandled-coronavirus-pandemic/5095995002/ \n",
      "Published: 2020-04-01 02:59:16. \n"
     ]
    },
    {
     "data": {
      "text/html": [
       "headline is incredibly <mark>misleading</mark>. this is mcconnel’s quote:\n",
       "\n",
       ">”it came up while we were tied down in the impeachment trial. and i think it diverted the attention of the government because everything every day was all about impeachment,” mcconnell said. \n",
       "\n",
       "he extrapolates that him not saying the president’s response was perfect is an admission that trump fucked up. which sure, but headline gives impression of a stronger statement."
      ],
      "text/plain": [
       "<IPython.core.display.HTML object>"
      ]
     },
     "metadata": {},
     "output_type": "display_data"
    },
    {
     "name": "stdout",
     "output_type": "stream",
     "text": [
      "Q: Headline is misleading\n",
      "###########\n",
      "\n",
      "\n",
      "\n",
      "351 / 95473\n",
      "politics\n",
      "--------------------\n"
     ]
    },
    {
     "data": {
      "text/html": [
       "<b>trump just admitted he downplayed the threat of <mark>coronav</mark>irus: 'i knew it could be horrible'</b>"
      ],
      "text/plain": [
       "<IPython.core.display.HTML object>"
      ]
     },
     "metadata": {},
     "output_type": "display_data"
    },
    {
     "name": "stdout",
     "output_type": "stream",
     "text": [
      "URL: https://www.businessinsider.com/trump-admits-downplayed-coronavirus-i-knew-it-could-be-horrible-2020-3 \n",
      "Published: 2020-04-01 02:08:56. \n"
     ]
    },
    {
     "data": {
      "text/html": [
       "<mark>bullshit</mark>. trump would rather we think he's insightful after the fact and take the heat for it than admit he's an idiot or made a mistake."
      ],
      "text/plain": [
       "<IPython.core.display.HTML object>"
      ]
     },
     "metadata": {},
     "output_type": "display_data"
    },
    {
     "name": "stdout",
     "output_type": "stream",
     "text": [
      "Q: Bullshit\n"
     ]
    },
    {
     "data": {
      "text/html": [
       "<mark>bullshit</mark>.  his downplaying of the virus was purely for political reasons."
      ],
      "text/plain": [
       "<IPython.core.display.HTML object>"
      ]
     },
     "metadata": {},
     "output_type": "display_data"
    },
    {
     "name": "stdout",
     "output_type": "stream",
     "text": [
      "Q: Bullshit\n",
      "######################352 found / 96600 searched\n"
     ]
    }
   ],
   "source": [
    "n, iterr = [0,0]\n",
    "subm_index_old, comm_index_old = ['','']\n",
    "for index, row in CORONASUB.iterrows():\n",
    "    iterr+=1\n",
    "    for sent in nlp(str(row.comm_body)).sents:\n",
    "        fake_pos = fake_sent_pos(sent)\n",
    "        if fake_pos:\n",
    "            n+=1        \n",
    "            if index[0]!=subm_index_old:\n",
    "                print('\\n\\n\\n')\n",
    "                print(\"%d / %d\" % (n, iterr))\n",
    "                print(row.subreddit)\n",
    "                print('--------------------')\n",
    "                highlight_re('<b>'+row.subm_title+'</b>', covid_regex)\n",
    "                print('URL: %s \\nPublished: %s ' % (row.subm_url, row.date_created[:20]))\n",
    "                subm_index_old = index[0]\n",
    "            if index[1]!=comm_index_old:\n",
    "                highlight_re(row.comm_body, fake_regex_wrds)\n",
    "                comm_index_old = index[1]\n",
    "            CORONASUB.loc[index,'flag_pos'] = fake_pos            \n",
    "            print('Q: ' + fake_pos)\n",
    "    if iterr % 50 == 1:\n",
    "        print(\"#\", end = '')\n",
    "print(\"%d found / %d searched\" % (n, iterr))"
   ]
  },
  {
   "cell_type": "code",
   "execution_count": 499,
   "metadata": {},
   "outputs": [
    {
     "data": {
      "text/plain": [
       "[(None, 96279),\n",
       " ('fake news', 69),\n",
       " ('Bullshit', 43),\n",
       " ('bullshit', 40),\n",
       " ('misleading title', 21),\n",
       " ('title is misleading', 19),\n",
       " ('This is bullshit', 16),\n",
       " ('BS', 8),\n",
       " ('headline is misleading', 7),\n",
       " ('This is misleading', 7)]"
      ]
     },
     "execution_count": 499,
     "metadata": {},
     "output_type": "execute_result"
    }
   ],
   "source": [
    "Counter(CORONASUB.flag_pos).most_common(10)"
   ]
  },
  {
   "cell_type": "code",
   "execution_count": 509,
   "metadata": {},
   "outputs": [
    {
     "data": {
      "text/plain": [
       "[('Coronavirus', 145),\n",
       " ('politics', 83),\n",
       " ('worldnews', 65),\n",
       " ('worldpolitics', 13),\n",
       " ('europe', 10),\n",
       " ('uspolitics', 2),\n",
       " ('PoliticalDiscussion', 2),\n",
       " ('news', 1)]"
      ]
     },
     "execution_count": 509,
     "metadata": {},
     "output_type": "execute_result"
    }
   ],
   "source": [
    "Counter(CORONASUB.subreddit[~CORONASUB.flag_pos.isna()]).most_common()"
   ]
  },
  {
   "cell_type": "markdown",
   "metadata": {},
   "source": [
    "### Percent sources most often flagged "
   ]
  },
  {
   "cell_type": "markdown",
   "metadata": {},
   "source": [
    "Filter: source mentioned at least 10 times and flagged at least 2 times"
   ]
  },
  {
   "cell_type": "code",
   "execution_count": 638,
   "metadata": {},
   "outputs": [
    {
     "data": {
      "text/plain": [
       "subm_id    comm_id   \n",
       "t3_g47edo  t1_fnw2vme    1 in 1000 New York City residents have now die...\n",
       "           t1_fnw2poy    1 in 1000 New York City residents have now die...\n",
       "t3_g470di  t1_fnvub7z    Pelosi: 'Really unfortunate' that protesters a...\n",
       "t3_g45r03  t1_fnvhfyx    Sunlight kills coronavirus 'quickly', says gov...\n",
       "t3_g41npm  t1_fnuwacs    China reports 16 new coronavirus cases, lowest...\n",
       "                                               ...                        \n",
       "t3_fsrxzf  t1_fm34oow    Ostrich antibodies to block COVID-19 virus - O...\n",
       "t3_fsrenb  t1_fm33614    China Hints That Its Coronavirus Data Doesn’t ...\n",
       "t3_fsraus  t1_fm386rd    Gerth: Mitch McConnell admits that Trump misha...\n",
       "t3_fsqj6u  t1_fm31b85    Trump just admitted he downplayed the threat o...\n",
       "           t1_fm309up    Trump just admitted he downplayed the threat o...\n",
       "Name: subm_title, Length: 336, dtype: object"
      ]
     },
     "execution_count": 638,
     "metadata": {},
     "output_type": "execute_result"
    }
   ],
   "source": [
    "CORONASUB.subm_title[CORONASUB.has_flag_pos]"
   ]
  },
  {
   "cell_type": "code",
   "execution_count": 633,
   "metadata": {},
   "outputs": [],
   "source": [
    "CORONASUB['domain'] = CORONASUB.subm_url.apply(extract_domain)\n",
    "CORONASUB['has_flag_pos'] = ~CORONASUB.flag_pos.isna()\n",
    "DOMAINS = CORONASUB.groupby('domain').agg(count_all = (\"has_flag_pos\",\"count\"), count_flag = (\"has_flag_pos\",\"sum\"))\n",
    "DOMAINS['percent_flag'] = 100*DOMAINS.count_flag/DOMAINS.count_all"
   ]
  },
  {
   "cell_type": "code",
   "execution_count": 636,
   "metadata": {},
   "outputs": [
    {
     "data": {
      "text/html": [
       "<div>\n",
       "<style scoped>\n",
       "    .dataframe tbody tr th:only-of-type {\n",
       "        vertical-align: middle;\n",
       "    }\n",
       "\n",
       "    .dataframe tbody tr th {\n",
       "        vertical-align: top;\n",
       "    }\n",
       "\n",
       "    .dataframe thead th {\n",
       "        text-align: right;\n",
       "    }\n",
       "</style>\n",
       "<table border=\"1\" class=\"dataframe\">\n",
       "  <thead>\n",
       "    <tr style=\"text-align: right;\">\n",
       "      <th></th>\n",
       "      <th>count_all</th>\n",
       "      <th>count_flag</th>\n",
       "      <th>percent_flag</th>\n",
       "    </tr>\n",
       "    <tr>\n",
       "      <th>domain</th>\n",
       "      <th></th>\n",
       "      <th></th>\n",
       "      <th></th>\n",
       "    </tr>\n",
       "  </thead>\n",
       "  <tbody>\n",
       "    <tr>\n",
       "      <th>pepaja.com</th>\n",
       "      <td>11</td>\n",
       "      <td>2.0</td>\n",
       "      <td>18.181818</td>\n",
       "    </tr>\n",
       "    <tr>\n",
       "      <th>nbcmiami.com</th>\n",
       "      <td>16</td>\n",
       "      <td>2.0</td>\n",
       "      <td>12.500000</td>\n",
       "    </tr>\n",
       "    <tr>\n",
       "      <th>freebeacon.com</th>\n",
       "      <td>36</td>\n",
       "      <td>3.0</td>\n",
       "      <td>8.333333</td>\n",
       "    </tr>\n",
       "    <tr>\n",
       "      <th>rsf.org</th>\n",
       "      <td>27</td>\n",
       "      <td>2.0</td>\n",
       "      <td>7.407407</td>\n",
       "    </tr>\n",
       "    <tr>\n",
       "      <th>gmanetwork.com</th>\n",
       "      <td>31</td>\n",
       "      <td>2.0</td>\n",
       "      <td>6.451613</td>\n",
       "    </tr>\n",
       "    <tr>\n",
       "      <th>oregonlive.com</th>\n",
       "      <td>32</td>\n",
       "      <td>2.0</td>\n",
       "      <td>6.250000</td>\n",
       "    </tr>\n",
       "    <tr>\n",
       "      <th>ksbw.com</th>\n",
       "      <td>34</td>\n",
       "      <td>2.0</td>\n",
       "      <td>5.882353</td>\n",
       "    </tr>\n",
       "    <tr>\n",
       "      <th>i24news.tv</th>\n",
       "      <td>43</td>\n",
       "      <td>2.0</td>\n",
       "      <td>4.651163</td>\n",
       "    </tr>\n",
       "    <tr>\n",
       "      <th>realclearpolitics.com</th>\n",
       "      <td>72</td>\n",
       "      <td>3.0</td>\n",
       "      <td>4.166667</td>\n",
       "    </tr>\n",
       "    <tr>\n",
       "      <th>abc7news.com</th>\n",
       "      <td>73</td>\n",
       "      <td>3.0</td>\n",
       "      <td>4.109589</td>\n",
       "    </tr>\n",
       "    <tr>\n",
       "      <th>7news.com.au</th>\n",
       "      <td>106</td>\n",
       "      <td>2.0</td>\n",
       "      <td>1.886792</td>\n",
       "    </tr>\n",
       "    <tr>\n",
       "      <th>truthout.org</th>\n",
       "      <td>229</td>\n",
       "      <td>4.0</td>\n",
       "      <td>1.746725</td>\n",
       "    </tr>\n",
       "    <tr>\n",
       "      <th>bdkhealth.com</th>\n",
       "      <td>123</td>\n",
       "      <td>2.0</td>\n",
       "      <td>1.626016</td>\n",
       "    </tr>\n",
       "    <tr>\n",
       "      <th>theglobeandmail.com</th>\n",
       "      <td>142</td>\n",
       "      <td>2.0</td>\n",
       "      <td>1.408451</td>\n",
       "    </tr>\n",
       "    <tr>\n",
       "      <th>straitstimes.com</th>\n",
       "      <td>216</td>\n",
       "      <td>3.0</td>\n",
       "      <td>1.388889</td>\n",
       "    </tr>\n",
       "    <tr>\n",
       "      <th>youtube.com</th>\n",
       "      <td>301</td>\n",
       "      <td>4.0</td>\n",
       "      <td>1.328904</td>\n",
       "    </tr>\n",
       "    <tr>\n",
       "      <th>nj.com</th>\n",
       "      <td>186</td>\n",
       "      <td>2.0</td>\n",
       "      <td>1.075269</td>\n",
       "    </tr>\n",
       "    <tr>\n",
       "      <th>msn.com</th>\n",
       "      <td>495</td>\n",
       "      <td>5.0</td>\n",
       "      <td>1.010101</td>\n",
       "    </tr>\n",
       "    <tr>\n",
       "      <th>washingtontimes.com</th>\n",
       "      <td>201</td>\n",
       "      <td>2.0</td>\n",
       "      <td>0.995025</td>\n",
       "    </tr>\n",
       "    <tr>\n",
       "      <th>indiatimes.com</th>\n",
       "      <td>207</td>\n",
       "      <td>2.0</td>\n",
       "      <td>0.966184</td>\n",
       "    </tr>\n",
       "    <tr>\n",
       "      <th>metro.co.uk</th>\n",
       "      <td>230</td>\n",
       "      <td>2.0</td>\n",
       "      <td>0.869565</td>\n",
       "    </tr>\n",
       "    <tr>\n",
       "      <th>forbes.com</th>\n",
       "      <td>284</td>\n",
       "      <td>2.0</td>\n",
       "      <td>0.704225</td>\n",
       "    </tr>\n",
       "    <tr>\n",
       "      <th>apnews.com</th>\n",
       "      <td>436</td>\n",
       "      <td>3.0</td>\n",
       "      <td>0.688073</td>\n",
       "    </tr>\n",
       "    <tr>\n",
       "      <th>abc.net.au</th>\n",
       "      <td>586</td>\n",
       "      <td>4.0</td>\n",
       "      <td>0.682594</td>\n",
       "    </tr>\n",
       "    <tr>\n",
       "      <th>nymag.com</th>\n",
       "      <td>296</td>\n",
       "      <td>2.0</td>\n",
       "      <td>0.675676</td>\n",
       "    </tr>\n",
       "    <tr>\n",
       "      <th>huffpost.com</th>\n",
       "      <td>640</td>\n",
       "      <td>4.0</td>\n",
       "      <td>0.625000</td>\n",
       "    </tr>\n",
       "    <tr>\n",
       "      <th>nydailynews.com</th>\n",
       "      <td>512</td>\n",
       "      <td>3.0</td>\n",
       "      <td>0.585938</td>\n",
       "    </tr>\n",
       "    <tr>\n",
       "      <th>scmp.com</th>\n",
       "      <td>1051</td>\n",
       "      <td>6.0</td>\n",
       "      <td>0.570885</td>\n",
       "    </tr>\n",
       "    <tr>\n",
       "      <th>nationalpost.com</th>\n",
       "      <td>368</td>\n",
       "      <td>2.0</td>\n",
       "      <td>0.543478</td>\n",
       "    </tr>\n",
       "    <tr>\n",
       "      <th>cbsnews.com</th>\n",
       "      <td>601</td>\n",
       "      <td>3.0</td>\n",
       "      <td>0.499168</td>\n",
       "    </tr>\n",
       "  </tbody>\n",
       "</table>\n",
       "</div>"
      ],
      "text/plain": [
       "                       count_all  count_flag  percent_flag\n",
       "domain                                                    \n",
       "pepaja.com                    11         2.0     18.181818\n",
       "nbcmiami.com                  16         2.0     12.500000\n",
       "freebeacon.com                36         3.0      8.333333\n",
       "rsf.org                       27         2.0      7.407407\n",
       "gmanetwork.com                31         2.0      6.451613\n",
       "oregonlive.com                32         2.0      6.250000\n",
       "ksbw.com                      34         2.0      5.882353\n",
       "i24news.tv                    43         2.0      4.651163\n",
       "realclearpolitics.com         72         3.0      4.166667\n",
       "abc7news.com                  73         3.0      4.109589\n",
       "7news.com.au                 106         2.0      1.886792\n",
       "truthout.org                 229         4.0      1.746725\n",
       "bdkhealth.com                123         2.0      1.626016\n",
       "theglobeandmail.com          142         2.0      1.408451\n",
       "straitstimes.com             216         3.0      1.388889\n",
       "youtube.com                  301         4.0      1.328904\n",
       "nj.com                       186         2.0      1.075269\n",
       "msn.com                      495         5.0      1.010101\n",
       "washingtontimes.com          201         2.0      0.995025\n",
       "indiatimes.com               207         2.0      0.966184\n",
       "metro.co.uk                  230         2.0      0.869565\n",
       "forbes.com                   284         2.0      0.704225\n",
       "apnews.com                   436         3.0      0.688073\n",
       "abc.net.au                   586         4.0      0.682594\n",
       "nymag.com                    296         2.0      0.675676\n",
       "huffpost.com                 640         4.0      0.625000\n",
       "nydailynews.com              512         3.0      0.585938\n",
       "scmp.com                    1051         6.0      0.570885\n",
       "nationalpost.com             368         2.0      0.543478\n",
       "cbsnews.com                  601         3.0      0.499168"
      ]
     },
     "execution_count": 636,
     "metadata": {},
     "output_type": "execute_result"
    }
   ],
   "source": [
    "DOMAINS.query('count_all>9 & count_flag>1').sort_values('percent_flag', ascending = False).head(30)"
   ]
  },
  {
   "cell_type": "code",
   "execution_count": null,
   "metadata": {},
   "outputs": [],
   "source": []
  }
 ],
 "metadata": {
  "kernelspec": {
   "display_name": "jupyter-env",
   "language": "python",
   "name": "jupyter-env"
  },
  "language_info": {
   "codemirror_mode": {
    "name": "ipython",
    "version": 3
   },
   "file_extension": ".py",
   "mimetype": "text/x-python",
   "name": "python",
   "nbconvert_exporter": "python",
   "pygments_lexer": "ipython3",
   "version": "3.8.2"
  }
 },
 "nbformat": 4,
 "nbformat_minor": 2
}
